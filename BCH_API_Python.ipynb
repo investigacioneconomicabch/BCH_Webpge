{
 "cells": [
  {
   "cell_type": "raw",
   "id": "ea2ee331",
   "metadata": {},
   "source": [
    "---\n",
    "title: Estadísticas del Banco Central de Honduras\n",
    "authors:\n",
    "  - Gabriela Margoth López Gutierrez\n",
    "  - Elvis Teodoro Casco Alfaro\n",
    "institute: Banco Central de Honduras\n",
    "execute:\n",
    "  echo: false\n",
    "crossref:\n",
    "  fig-title: Gráfico\n",
    "  tbl-title: Tabla\n",
    "  fig-prefix: Gráfico\n",
    "  tbl-prefix: Tabla\n",
    "format:\n",
    "  html:\n",
    "    echo: true\n",
    "    toc: true\n",
    "    toc-depth: 7\n",
    "    code-fold: true\n",
    "    warning: false\n",
    "keep-ipynb: true\n",
    "---"
   ]
  },
  {
   "cell_type": "markdown",
   "id": "587a5c6f",
   "metadata": {},
   "source": [
    "En este proceso se explica la forma en que pueden descargarse los datos disponibles en la [API](https://bchapi-am.developer.azure-api.net/) del Banco Central de Honduras (BCH), utilizando Python.\n",
    "\n",
    "# Funciones\n"
   ]
  },
  {
   "cell_type": "code",
   "execution_count": 1,
   "id": "a1482474",
   "metadata": {},
   "outputs": [],
   "source": [
    "import urllib.request, json\n",
    "import pandas as pd\n",
    "import plotly.express as px\n",
    "import polars as pl\n",
    "import subprocess\n",
    "import os\n",
    "\n",
    "from IPython.display import Markdown\n",
    "from tabulate import tabulate\n",
    "\n",
    "clave_asignada = \"xxxxxxxxxxxxxxxxxxxxxxxxxxxxxxxx\" #Favor ingresar la clave proporcionada.\n",
    "\n",
    "# Las funciones que ejecutan los procesos están guardadas\n",
    "# en el archivo \"/functions/bch_api.py\";\n",
    "# si se ejecuta este código en otra ruta, debe sustituirse el path:\n",
    "# file_path + \"/functions/bch_api.py\"\n",
    "# file_path = os.path.dirname(__file__)\n",
    "file_path = os.getcwd()\n",
    "exec(open(file_path + \"/functions/bch_api.py\").read())"
   ]
  },
  {
   "cell_type": "markdown",
   "id": "3cbb8e71",
   "metadata": {},
   "source": [
    "# Acceso a los Datos\n",
    "\n",
    "Una vez que se crea el registro de usuario (usar el botón \"Suscribirse\" en el [sitio web](https://bchapi-am.developer.azure-api.net/), puede verse el procedimiento de registro e inicio de sesión en [YouTube](https://www.youtube.com/watch?v=8ZBllMSsKw4)), se necesita obtener una clave (ver explicación en [YouTube](https://www.youtube.com/watch?v=mV90s74OCfc)), ejecutando una consulta al catálogo de indicadores. Favor sustituir en el código la clave actual por su clave asignada.\n",
    "\n",
    "Para conocer los datos disponibles, se debe ejecutar una consulta al catálogo de indicadores, que contiene información sobre las series disponibles:\n",
    "\n",
    "* Nombre (código)\n",
    "* Descripción\n",
    "* Periodicidad\n",
    "* Grupo\n",
    "* Correlativo del Grupo\n",
    "\n",
    "Como ejemplo de la consulta que contiene todas las variables, se muestran los primeros cinco elementos:\n"
   ]
  },
  {
   "cell_type": "code",
   "execution_count": 2,
   "id": "baf93a12",
   "metadata": {},
   "outputs": [
    {
     "name": "stderr",
     "output_type": "stream",
     "text": [
      "<string>:29: FutureWarning:\n",
      "\n",
      "Passing literal json to 'read_json' is deprecated and will be removed in a future version. To read from a literal string, wrap it in a 'StringIO' object.\n",
      "\n"
     ]
    },
    {
     "data": {
      "text/html": [
       "<div>\n",
       "<style scoped>\n",
       "    .dataframe tbody tr th:only-of-type {\n",
       "        vertical-align: middle;\n",
       "    }\n",
       "\n",
       "    .dataframe tbody tr th {\n",
       "        vertical-align: top;\n",
       "    }\n",
       "\n",
       "    .dataframe thead th {\n",
       "        text-align: right;\n",
       "    }\n",
       "</style>\n",
       "<table border=\"1\" class=\"dataframe\">\n",
       "  <thead>\n",
       "    <tr style=\"text-align: right;\">\n",
       "      <th></th>\n",
       "      <th>Id</th>\n",
       "      <th>Nombre</th>\n",
       "      <th>Descripcion</th>\n",
       "      <th>Periodicidad</th>\n",
       "      <th>Grupo</th>\n",
       "      <th>CorrelativoGrupo</th>\n",
       "    </tr>\n",
       "  </thead>\n",
       "  <tbody>\n",
       "    <tr>\n",
       "      <th>0</th>\n",
       "      <td>1</td>\n",
       "      <td>ESR-PIBT-PROD-DES-CONST-15</td>\n",
       "      <td>Serie Desestacionalizada-VALORES CONSTANTES-21...</td>\n",
       "      <td>Trimestral</td>\n",
       "      <td>ESR-PIBT-PROD-DES-CONST</td>\n",
       "      <td>15</td>\n",
       "    </tr>\n",
       "    <tr>\n",
       "      <th>1</th>\n",
       "      <td>2</td>\n",
       "      <td>ESR-PIBT-PROD-DES-CORR-12</td>\n",
       "      <td>Serie Desestacionalizada-VALORES CORRIENTES-14...</td>\n",
       "      <td>Trimestral</td>\n",
       "      <td>ESR-PIBT-PROD-DES-CORR</td>\n",
       "      <td>12</td>\n",
       "    </tr>\n",
       "    <tr>\n",
       "      <th>2</th>\n",
       "      <td>3</td>\n",
       "      <td>ESR-PIBT-PROD-DES-CORR-13</td>\n",
       "      <td>Serie Desestacionalizada-VALORES CORRIENTES-16...</td>\n",
       "      <td>Trimestral</td>\n",
       "      <td>ESR-PIBT-PROD-DES-CORR</td>\n",
       "      <td>13</td>\n",
       "    </tr>\n",
       "    <tr>\n",
       "      <th>3</th>\n",
       "      <td>4</td>\n",
       "      <td>ESR-PIBT-PROD-DES-CORR-14</td>\n",
       "      <td>Serie Desestacionalizada-VALORES CORRIENTES-20...</td>\n",
       "      <td>Trimestral</td>\n",
       "      <td>ESR-PIBT-PROD-DES-CORR</td>\n",
       "      <td>14</td>\n",
       "    </tr>\n",
       "    <tr>\n",
       "      <th>4</th>\n",
       "      <td>5</td>\n",
       "      <td>ESR-PIBT-PROD-DES-CORR-15</td>\n",
       "      <td>Serie Desestacionalizada-VALORES CORRIENTES-21...</td>\n",
       "      <td>Trimestral</td>\n",
       "      <td>ESR-PIBT-PROD-DES-CORR</td>\n",
       "      <td>15</td>\n",
       "    </tr>\n",
       "  </tbody>\n",
       "</table>\n",
       "</div>"
      ],
      "text/plain": [
       "   Id                      Nombre  \\\n",
       "0   1  ESR-PIBT-PROD-DES-CONST-15   \n",
       "1   2   ESR-PIBT-PROD-DES-CORR-12   \n",
       "2   3   ESR-PIBT-PROD-DES-CORR-13   \n",
       "3   4   ESR-PIBT-PROD-DES-CORR-14   \n",
       "4   5   ESR-PIBT-PROD-DES-CORR-15   \n",
       "\n",
       "                                         Descripcion Periodicidad  \\\n",
       "0  Serie Desestacionalizada-VALORES CONSTANTES-21...   Trimestral   \n",
       "1  Serie Desestacionalizada-VALORES CORRIENTES-14...   Trimestral   \n",
       "2  Serie Desestacionalizada-VALORES CORRIENTES-16...   Trimestral   \n",
       "3  Serie Desestacionalizada-VALORES CORRIENTES-20...   Trimestral   \n",
       "4  Serie Desestacionalizada-VALORES CORRIENTES-21...   Trimestral   \n",
       "\n",
       "                     Grupo CorrelativoGrupo  \n",
       "0  ESR-PIBT-PROD-DES-CONST               15  \n",
       "1   ESR-PIBT-PROD-DES-CORR               12  \n",
       "2   ESR-PIBT-PROD-DES-CORR               13  \n",
       "3   ESR-PIBT-PROD-DES-CORR               14  \n",
       "4   ESR-PIBT-PROD-DES-CORR               15  "
      ]
     },
     "execution_count": 2,
     "metadata": {},
     "output_type": "execute_result"
    }
   ],
   "source": [
    "dfmeta = get_groups_vscode()\n",
    "dfmeta.head()"
   ]
  },
  {
   "cell_type": "markdown",
   "id": "5d87c77d",
   "metadata": {},
   "source": [
    "# Grupos\n",
    "\n",
    "Las variables están categorizadas en 8 grupos principales y 54 subgrupos. La nomenclatura utilizada permite dividir estos en un máximo de cinco niveles, tomando en cuenta el separador (-). Se explicarán los mismos a continuacion, ordenando de acuerdo al número de niveles (número de subgrupos).\n"
   ]
  },
  {
   "cell_type": "code",
   "execution_count": 3,
   "id": "b9096205",
   "metadata": {},
   "outputs": [
    {
     "name": "stderr",
     "output_type": "stream",
     "text": [
      "<string>:29: FutureWarning:\n",
      "\n",
      "Passing literal json to 'read_json' is deprecated and will be removed in a future version. To read from a literal string, wrap it in a 'StringIO' object.\n",
      "\n"
     ]
    },
    {
     "name": "stdout",
     "output_type": "stream",
     "text": [
      "11519 variables\n",
      "54 grupos\n"
     ]
    },
    {
     "name": "stdout",
     "output_type": "stream",
     "text": [
      "shape: (54, 8)\n",
      "┌────────────────────┬─────────────┬──────────┬──────────┬──────────┬──────────┬──────────┬────────┐\n",
      "│ Grupo              ┆ N_Variables ┆ Niv_Gr_1 ┆ Niv_Gr_2 ┆ Niv_Gr_3 ┆ Niv_Gr_4 ┆ Niv_Gr_5 ┆ Niv_Gr │\n",
      "│ ---                ┆ ---         ┆ ---      ┆ ---      ┆ ---      ┆ ---      ┆ ---      ┆ ---    │\n",
      "│ str                ┆ i64         ┆ str      ┆ str      ┆ str      ┆ str      ┆ str      ┆ i64    │\n",
      "╞════════════════════╪═════════════╪══════════╪══════════╪══════════╪══════════╪══════════╪════════╡\n",
      "│ ESR-PIBT-PROD-OG-C ┆ 17          ┆ ESR      ┆ PIBT     ┆ PROD     ┆ OG       ┆ CORR     ┆ 5      │\n",
      "│ ORR                ┆             ┆          ┆          ┆          ┆          ┆          ┆        │\n",
      "│ ESR-PIBT-PROD-DES- ┆ 17          ┆ ESR      ┆ PIBT     ┆ PROD     ┆ DES      ┆ CONST    ┆ 5      │\n",
      "│ CONST              ┆             ┆          ┆          ┆          ┆          ┆          ┆        │\n",
      "│ ESR-PIBT-PROD-OG-C ┆ 17          ┆ ESR      ┆ PIBT     ┆ PROD     ┆ OG       ┆ CONST    ┆ 5      │\n",
      "│ ONST               ┆             ┆          ┆          ┆          ┆          ┆          ┆        │\n",
      "│ ESR-PIBT-PROD-DES- ┆ 17          ┆ ESR      ┆ PIBT     ┆ PROD     ┆ DES      ┆ CORR     ┆ 5      │\n",
      "│ CORR               ┆             ┆          ┆          ┆          ┆          ┆          ┆        │\n",
      "│ ESR-PIBT-GAST-DES- ┆ 7           ┆ ESR      ┆ PIBT     ┆ GAST     ┆ DES      ┆ CONST    ┆ 5      │\n",
      "│ CONST              ┆             ┆          ┆          ┆          ┆          ┆          ┆        │\n",
      "│ …                  ┆ …           ┆ …        ┆ …        ┆ …        ┆ …        ┆ …        ┆ …      │\n",
      "│ EOM-OMA-03         ┆ 3           ┆ EOM      ┆ OMA      ┆ 03       ┆ null     ┆ null     ┆ 3      │\n",
      "│ EP-IPC-01          ┆ 3           ┆ EP       ┆ IPC      ┆ 01       ┆ null     ┆ null     ┆ 3      │\n",
      "│ EC-TCN-01          ┆ 2           ┆ EC       ┆ TCN      ┆ 01       ┆ null     ┆ null     ┆ 3      │\n",
      "│ EM-TPM-01          ┆ 2           ┆ EM       ┆ TPM      ┆ 01       ┆ null     ┆ null     ┆ 3      │\n",
      "│ EC-TCR             ┆ 1           ┆ EC       ┆ TCR      ┆ null     ┆ null     ┆ null     ┆ 2      │\n",
      "└────────────────────┴─────────────┴──────────┴──────────┴──────────┴──────────┴──────────┴────────┘\n"
     ]
    }
   ],
   "source": [
    "# Agregar niveles de Descripción y Grupo\n",
    "df_all = dfmeta\n",
    "df_all[['Niv_Descr_1','Niv_Descr_2','Niv_Descr_3','Niv_Descr_4','Niv_Descr_5','Niv_Descr_6','Niv_Descr_7','Niv_Descr_8']] = df_all['Descripcion'].str.split(\n",
    "    '-',expand=True)\n",
    "df_all[\"Niv_Descr\"] = df_all.notnull().sum(axis=1) - 6\n",
    "df_all[\n",
    "    ['Niv_Gr_1','Niv_Gr_2','Niv_Gr_3','Niv_Gr_4','Niv_Gr_5']]  = df_all['Grupo'].str.split('-',expand=True)\n",
    "df_all[\"Niv_Gr\"] = df_all.notnull().sum(axis=1) - 2\n",
    "df_all = pl.DataFrame(df_all)\n",
    "df_all.write_csv(\n",
    "        \"api/variables.csv\",\n",
    "        separator=\";\")\n",
    "\n",
    "res_grupo = save_groups_vscode()\n",
    "print(res_grupo)"
   ]
  },
  {
   "cell_type": "markdown",
   "id": "02bd0275",
   "metadata": {},
   "source": [
    "Los 8 grupos mencionados permiten consolidar los archivos de acuerdo con el origen de los datos en la página web del BCH, que en su mayoría pueden consultarse en los [reportes dinámicos](https://www.bch.hn/estadisticas-y-publicaciones-economicas/reportes-dinamicos).\n",
    "\n",
    "1. EOM = [Estadísticas de Operaciones Monetarias](https://www.bch.hn/estadisticas-y-publicaciones-economicas/reportes-dinamicos/operaciones-de-mercado-abierto)\n",
    "2. ESR = [Estadísticas del Sector Real](https://www.bch.hn/estadisticas-y-publicaciones-economicas/reportes-dinamicos/sector-real)\n",
    "3. ESE = [Estadísticas del Sector Externo](https://www.bch.hn/estadisticas-y-publicaciones-economicas/reportes-dinamicos/sector-externo)\n",
    "4. EMF = [Estadísiticas Monetarias y Financieras (Sector Fiscal)](https://www.bch.hn/estadisticas-y-publicaciones-economicas/reportes-dinamicos/sector-fiscal)\n",
    "5. EM = [Estadísticas Monetarias (TPM y RIN)](https://www.bch.hn/estadisticas-y-publicaciones-economicas/reportes-dinamicos/sector-monetario)\n",
    "6. ESP = [Estadísticas de Sistema de Pagos](https://www.bch.hn/estadisticas-y-publicaciones-economicas/reportes-dinamicos/sistema-de-pagos)\n",
    "7. EC = [Estadísticas de Tipo de Cambio](https://www.bch.hn/estadisticas-y-publicaciones-economicas/reportes-dinamicos/tipo-de-cambio)\n",
    "8. EP = [Estadísticas de Precios](https://www.bch.hn/estadisticas-y-publicaciones-economicas/reportes-dinamicos/precios)\n",
    "\n",
    "Los grupos se subdividen en 25 subgrupos:\n"
   ]
  },
  {
   "cell_type": "code",
   "execution_count": 4,
   "id": "c87e0b5d",
   "metadata": {},
   "outputs": [
    {
     "name": "stderr",
     "output_type": "stream",
     "text": [
      "<string>:29: FutureWarning:\n",
      "\n",
      "Passing literal json to 'read_json' is deprecated and will be removed in a future version. To read from a literal string, wrap it in a 'StringIO' object.\n",
      "\n"
     ]
    },
    {
     "name": "stdout",
     "output_type": "stream",
     "text": [
      "11519 variables\n",
      "54 grupos\n",
      "54 variables\n",
      "8 grupos\n",
      "25 subgrupos\n"
     ]
    },
    {
     "data": {
      "text/html": [
       "<div><style>\n",
       ".dataframe > thead > tr,\n",
       ".dataframe > tbody > tr {\n",
       "  text-align: right;\n",
       "  white-space: pre-wrap;\n",
       "}\n",
       "</style>\n",
       "<small>shape: (8, 3)</small><table border=\"1\" class=\"dataframe\"><thead><tr><th>Niv_Gr_1</th><th>N_Variables</th><th>N_Subgrupos</th></tr><tr><td>str</td><td>u32</td><td>u32</td></tr></thead><tbody><tr><td>&quot;ESR&quot;</td><td>19</td><td>7</td></tr><tr><td>&quot;ESE&quot;</td><td>12</td><td>6</td></tr><tr><td>&quot;EMF&quot;</td><td>12</td><td>4</td></tr><tr><td>&quot;EOM&quot;</td><td>4</td><td>1</td></tr><tr><td>&quot;ESP&quot;</td><td>2</td><td>2</td></tr><tr><td>&quot;EC&quot;</td><td>2</td><td>2</td></tr><tr><td>&quot;EM&quot;</td><td>2</td><td>2</td></tr><tr><td>&quot;EP&quot;</td><td>1</td><td>1</td></tr></tbody></table></div>"
      ],
      "text/plain": [
       "shape: (8, 3)\n",
       "┌──────────┬─────────────┬─────────────┐\n",
       "│ Niv_Gr_1 ┆ N_Variables ┆ N_Subgrupos │\n",
       "│ ---      ┆ ---         ┆ ---         │\n",
       "│ str      ┆ u32         ┆ u32         │\n",
       "╞══════════╪═════════════╪═════════════╡\n",
       "│ ESR      ┆ 19          ┆ 7           │\n",
       "│ ESE      ┆ 12          ┆ 6           │\n",
       "│ EMF      ┆ 12          ┆ 4           │\n",
       "│ EOM      ┆ 4           ┆ 1           │\n",
       "│ ESP      ┆ 2           ┆ 2           │\n",
       "│ EC       ┆ 2           ┆ 2           │\n",
       "│ EM       ┆ 2           ┆ 2           │\n",
       "│ EP       ┆ 1           ┆ 1           │\n",
       "└──────────┴─────────────┴─────────────┘"
      ]
     },
     "execution_count": 4,
     "metadata": {},
     "output_type": "execute_result"
    }
   ],
   "source": [
    "res = res_nivel_1()\n",
    "res"
   ]
  },
  {
   "cell_type": "markdown",
   "id": "ddb823c9",
   "metadata": {},
   "source": [
    "# Descripción de los Datos\n",
    "\n",
    "A continuación se presentan los detalles de los grupos por nivel de agregación, ordenados de acuerdo al número de variables que contienen.\n",
    "\n",
    "### EOM = Estadísticas de Operaciones Monetarias\n",
    "\n",
    "Los datos están disponibles en la [página web del BCH](https://www.bch.hn/estadisticas-y-publicaciones-economicas/reportes-dinamicos/operaciones-de-mercado-abierto).\n"
   ]
  },
  {
   "cell_type": "code",
   "execution_count": 5,
   "id": "5ffa0c85",
   "metadata": {},
   "outputs": [
    {
     "name": "stderr",
     "output_type": "stream",
     "text": [
      "<string>:29: FutureWarning:\n",
      "\n",
      "Passing literal json to 'read_json' is deprecated and will be removed in a future version. To read from a literal string, wrap it in a 'StringIO' object.\n",
      "\n"
     ]
    },
    {
     "name": "stdout",
     "output_type": "stream",
     "text": [
      "11519 variables\n",
      "54 grupos\n"
     ]
    },
    {
     "name": "stdout",
     "output_type": "stream",
     "text": [
      "4 variables\n",
      "1 grupos\n",
      "4 subgrupos\n"
     ]
    },
    {
     "data": {
      "text/html": [
       "<div><style>\n",
       ".dataframe > thead > tr,\n",
       ".dataframe > tbody > tr {\n",
       "  text-align: right;\n",
       "  white-space: pre-wrap;\n",
       "}\n",
       "</style>\n",
       "<small>shape: (1, 4)</small><table border=\"1\" class=\"dataframe\"><thead><tr><th>Niv_Gr_1</th><th>Niv_Gr_2</th><th>N_Variables</th><th>N_Niv_Gr_2</th></tr><tr><td>str</td><td>str</td><td>u32</td><td>u32</td></tr></thead><tbody><tr><td>&quot;EOM&quot;</td><td>&quot;OMA&quot;</td><td>4</td><td>4</td></tr></tbody></table></div>"
      ],
      "text/plain": [
       "shape: (1, 4)\n",
       "┌──────────┬──────────┬─────────────┬────────────┐\n",
       "│ Niv_Gr_1 ┆ Niv_Gr_2 ┆ N_Variables ┆ N_Niv_Gr_2 │\n",
       "│ ---      ┆ ---      ┆ ---         ┆ ---        │\n",
       "│ str      ┆ str      ┆ u32         ┆ u32        │\n",
       "╞══════════╪══════════╪═════════════╪════════════╡\n",
       "│ EOM      ┆ OMA      ┆ 4           ┆ 4          │\n",
       "└──────────┴──────────┴─────────────┴────────────┘"
      ]
     },
     "execution_count": 5,
     "metadata": {},
     "output_type": "execute_result"
    }
   ],
   "source": [
    "res_nivel_2(\"EOM\")"
   ]
  },
  {
   "cell_type": "markdown",
   "id": "9ad2936d",
   "metadata": {},
   "source": [
    "Contiene solamente un subgrupo:\n",
    "\n",
    "- OMA = Operaciones de Mercado Abierto\n",
    "\n",
    "#### OMA = Operaciones de Mercado Abierto\n",
    "\n",
    "Cuatro niveles de agregación:\n",
    "\n",
    "* 01 = Tasas de Rendimiento Diario de Valores Gubernamentales\n",
    "* 02 = Créditos (Niv_Descr_4 = 1-3) e Inversiones (Niv_Descr_4 = 4-6): Monto, Número de Solicitudes y Tasa\n",
    "* 03 = Monto, Número de Operaciones y Tasa\n",
    "* 04 = Monto, Número de Operaciones y Tasa (Dólares - Lempiras)\n",
    "\n",
    "En cada una de las tablas subsiguientes, la columna N_Variables corresponde al número de variables que contiene cada nivel.\n"
   ]
  },
  {
   "cell_type": "code",
   "execution_count": 6,
   "id": "62d9e5e1",
   "metadata": {},
   "outputs": [
    {
     "name": "stdout",
     "output_type": "stream",
     "text": [
      "4 subgrupos\n",
      "5575 variables\n"
     ]
    },
    {
     "name": "stderr",
     "output_type": "stream",
     "text": [
      "<string>:29: FutureWarning:\n",
      "\n",
      "Passing literal json to 'read_json' is deprecated and will be removed in a future version. To read from a literal string, wrap it in a 'StringIO' object.\n",
      "\n"
     ]
    },
    {
     "data": {
      "text/html": [
       "<div><style>\n",
       ".dataframe > thead > tr,\n",
       ".dataframe > tbody > tr {\n",
       "  text-align: right;\n",
       "  white-space: pre-wrap;\n",
       "}\n",
       "</style>\n",
       "<small>shape: (4, 4)</small><table border=\"1\" class=\"dataframe\"><thead><tr><th>Niv_Gr_1</th><th>Niv_Gr_2</th><th>Niv_Gr_3</th><th>N_Variables</th></tr><tr><td>str</td><td>str</td><td>str</td><td>u32</td></tr></thead><tbody><tr><td>&quot;EOM&quot;</td><td>&quot;OMA&quot;</td><td>&quot;01&quot;</td><td>5560</td></tr><tr><td>&quot;EOM&quot;</td><td>&quot;OMA&quot;</td><td>&quot;02&quot;</td><td>6</td></tr><tr><td>&quot;EOM&quot;</td><td>&quot;OMA&quot;</td><td>&quot;03&quot;</td><td>3</td></tr><tr><td>&quot;EOM&quot;</td><td>&quot;OMA&quot;</td><td>&quot;04&quot;</td><td>6</td></tr></tbody></table></div>"
      ],
      "text/plain": [
       "shape: (4, 4)\n",
       "┌──────────┬──────────┬──────────┬─────────────┐\n",
       "│ Niv_Gr_1 ┆ Niv_Gr_2 ┆ Niv_Gr_3 ┆ N_Variables │\n",
       "│ ---      ┆ ---      ┆ ---      ┆ ---         │\n",
       "│ str      ┆ str      ┆ str      ┆ u32         │\n",
       "╞══════════╪══════════╪══════════╪═════════════╡\n",
       "│ EOM      ┆ OMA      ┆ 01       ┆ 5560        │\n",
       "│ EOM      ┆ OMA      ┆ 02       ┆ 6           │\n",
       "│ EOM      ┆ OMA      ┆ 03       ┆ 3           │\n",
       "│ EOM      ┆ OMA      ┆ 04       ┆ 6           │\n",
       "└──────────┴──────────┴──────────┴─────────────┘"
      ]
     },
     "execution_count": 6,
     "metadata": {},
     "output_type": "execute_result"
    }
   ],
   "source": [
    "res_nivel_3(\"EOM\",\"OMA\",\"Niv_Gr_3\").sort(\"Niv_Gr_3\")"
   ]
  },
  {
   "cell_type": "markdown",
   "id": "6296907d",
   "metadata": {},
   "source": [
    "###### 01 = Tasas de Rendimiento Diario de Valores Gubernamentales \n",
    "\n",
    "Este es el nivel que contiene más variables, todas corresponden a las \"Tasas de Rendimiento Diario de Valores Gubernamentales\":\n"
   ]
  },
  {
   "cell_type": "code",
   "execution_count": 7,
   "id": "fea219d6",
   "metadata": {},
   "outputs": [
    {
     "name": "stderr",
     "output_type": "stream",
     "text": [
      "<string>:29: FutureWarning:\n",
      "\n",
      "Passing literal json to 'read_json' is deprecated and will be removed in a future version. To read from a literal string, wrap it in a 'StringIO' object.\n",
      "\n"
     ]
    },
    {
     "data": {
      "text/html": [
       "<div><style>\n",
       ".dataframe > thead > tr,\n",
       ".dataframe > tbody > tr {\n",
       "  text-align: right;\n",
       "  white-space: pre-wrap;\n",
       "}\n",
       "</style>\n",
       "<small>shape: (1, 5)</small><table border=\"1\" class=\"dataframe\"><thead><tr><th>Niv_Gr_1</th><th>Niv_Gr_2</th><th>Niv_Gr_3</th><th>Niv_Descr_1</th><th>N_Variables</th></tr><tr><td>str</td><td>str</td><td>str</td><td>str</td><td>u32</td></tr></thead><tbody><tr><td>&quot;EOM&quot;</td><td>&quot;OMA&quot;</td><td>&quot;01&quot;</td><td>&quot;Tasas de Rendi…</td><td>5560</td></tr></tbody></table></div>"
      ],
      "text/plain": [
       "shape: (1, 5)\n",
       "┌──────────┬──────────┬──────────┬───────────────────────────────────┬─────────────┐\n",
       "│ Niv_Gr_1 ┆ Niv_Gr_2 ┆ Niv_Gr_3 ┆ Niv_Descr_1                       ┆ N_Variables │\n",
       "│ ---      ┆ ---      ┆ ---      ┆ ---                               ┆ ---         │\n",
       "│ str      ┆ str      ┆ str      ┆ str                               ┆ u32         │\n",
       "╞══════════╪══════════╪══════════╪═══════════════════════════════════╪═════════════╡\n",
       "│ EOM      ┆ OMA      ┆ 01       ┆ Tasas de Rendimiento Diario de V… ┆ 5560        │\n",
       "└──────────┴──────────┴──────────┴───────────────────────────────────┴─────────────┘"
      ]
     },
     "execution_count": 7,
     "metadata": {},
     "output_type": "execute_result"
    }
   ],
   "source": [
    "res_nivel_4(\n",
    "    \"EOM\",\"OMA\",\n",
    "    \"Niv_Gr_3\",\"01\",\n",
    "    \"Niv_Descr_1\")"
   ]
  },
  {
   "cell_type": "markdown",
   "id": "c17cc011",
   "metadata": {},
   "source": [
    "Para listar todas las variables:\n"
   ]
  },
  {
   "cell_type": "code",
   "execution_count": 8,
   "id": "4b7b27f2",
   "metadata": {},
   "outputs": [
    {
     "name": "stderr",
     "output_type": "stream",
     "text": [
      "<string>:29: FutureWarning:\n",
      "\n",
      "Passing literal json to 'read_json' is deprecated and will be removed in a future version. To read from a literal string, wrap it in a 'StringIO' object.\n",
      "\n"
     ]
    },
    {
     "data": {
      "text/html": [
       "<div><style>\n",
       ".dataframe > thead > tr,\n",
       ".dataframe > tbody > tr {\n",
       "  text-align: right;\n",
       "  white-space: pre-wrap;\n",
       "}\n",
       "</style>\n",
       "<small>shape: (5_560, 7)</small><table border=\"1\" class=\"dataframe\"><thead><tr><th>Niv_Gr_1</th><th>Niv_Gr_2</th><th>Niv_Gr_3</th><th>Id</th><th>Nombre</th><th>Niv_Descr_1</th><th>N_Variables</th></tr><tr><td>str</td><td>str</td><td>str</td><td>i64</td><td>str</td><td>str</td><td>u32</td></tr></thead><tbody><tr><td>&quot;EOM&quot;</td><td>&quot;OMA&quot;</td><td>&quot;01&quot;</td><td>701</td><td>&quot;EOM-OMA-01-1&quot;</td><td>&quot;Tasas de Rendi…</td><td>1</td></tr><tr><td>&quot;EOM&quot;</td><td>&quot;OMA&quot;</td><td>&quot;01&quot;</td><td>710</td><td>&quot;EOM-OMA-01-10&quot;</td><td>&quot;Tasas de Rendi…</td><td>1</td></tr><tr><td>&quot;EOM&quot;</td><td>&quot;OMA&quot;</td><td>&quot;01&quot;</td><td>800</td><td>&quot;EOM-OMA-01-100…</td><td>&quot;Tasas de Rendi…</td><td>1</td></tr><tr><td>&quot;EOM&quot;</td><td>&quot;OMA&quot;</td><td>&quot;01&quot;</td><td>1700</td><td>&quot;EOM-OMA-01-100…</td><td>&quot;Tasas de Rendi…</td><td>1</td></tr><tr><td>&quot;EOM&quot;</td><td>&quot;OMA&quot;</td><td>&quot;01&quot;</td><td>1701</td><td>&quot;EOM-OMA-01-100…</td><td>&quot;Tasas de Rendi…</td><td>1</td></tr><tr><td>&hellip;</td><td>&hellip;</td><td>&hellip;</td><td>&hellip;</td><td>&hellip;</td><td>&hellip;</td><td>&hellip;</td></tr><tr><td>&quot;EOM&quot;</td><td>&quot;OMA&quot;</td><td>&quot;01&quot;</td><td>1695</td><td>&quot;EOM-OMA-01-995…</td><td>&quot;Tasas de Rendi…</td><td>1</td></tr><tr><td>&quot;EOM&quot;</td><td>&quot;OMA&quot;</td><td>&quot;01&quot;</td><td>1696</td><td>&quot;EOM-OMA-01-996…</td><td>&quot;Tasas de Rendi…</td><td>1</td></tr><tr><td>&quot;EOM&quot;</td><td>&quot;OMA&quot;</td><td>&quot;01&quot;</td><td>1697</td><td>&quot;EOM-OMA-01-997…</td><td>&quot;Tasas de Rendi…</td><td>1</td></tr><tr><td>&quot;EOM&quot;</td><td>&quot;OMA&quot;</td><td>&quot;01&quot;</td><td>1698</td><td>&quot;EOM-OMA-01-998…</td><td>&quot;Tasas de Rendi…</td><td>1</td></tr><tr><td>&quot;EOM&quot;</td><td>&quot;OMA&quot;</td><td>&quot;01&quot;</td><td>1699</td><td>&quot;EOM-OMA-01-999…</td><td>&quot;Tasas de Rendi…</td><td>1</td></tr></tbody></table></div>"
      ],
      "text/plain": [
       "shape: (5_560, 7)\n",
       "┌──────────┬──────────┬──────────┬──────┬─────────────────┬──────────────────────┬─────────────┐\n",
       "│ Niv_Gr_1 ┆ Niv_Gr_2 ┆ Niv_Gr_3 ┆ Id   ┆ Nombre          ┆ Niv_Descr_1          ┆ N_Variables │\n",
       "│ ---      ┆ ---      ┆ ---      ┆ ---  ┆ ---             ┆ ---                  ┆ ---         │\n",
       "│ str      ┆ str      ┆ str      ┆ i64  ┆ str             ┆ str                  ┆ u32         │\n",
       "╞══════════╪══════════╪══════════╪══════╪═════════════════╪══════════════════════╪═════════════╡\n",
       "│ EOM      ┆ OMA      ┆ 01       ┆ 701  ┆ EOM-OMA-01-1    ┆ Tasas de Rendimiento ┆ 1           │\n",
       "│          ┆          ┆          ┆      ┆                 ┆ Diario de V…         ┆             │\n",
       "│ EOM      ┆ OMA      ┆ 01       ┆ 710  ┆ EOM-OMA-01-10   ┆ Tasas de Rendimiento ┆ 1           │\n",
       "│          ┆          ┆          ┆      ┆                 ┆ Diario de V…         ┆             │\n",
       "│ EOM      ┆ OMA      ┆ 01       ┆ 800  ┆ EOM-OMA-01-100  ┆ Tasas de Rendimiento ┆ 1           │\n",
       "│          ┆          ┆          ┆      ┆                 ┆ Diario de V…         ┆             │\n",
       "│ EOM      ┆ OMA      ┆ 01       ┆ 1700 ┆ EOM-OMA-01-1000 ┆ Tasas de Rendimiento ┆ 1           │\n",
       "│          ┆          ┆          ┆      ┆                 ┆ Diario de V…         ┆             │\n",
       "│ EOM      ┆ OMA      ┆ 01       ┆ 1701 ┆ EOM-OMA-01-1001 ┆ Tasas de Rendimiento ┆ 1           │\n",
       "│          ┆          ┆          ┆      ┆                 ┆ Diario de V…         ┆             │\n",
       "│ …        ┆ …        ┆ …        ┆ …    ┆ …               ┆ …                    ┆ …           │\n",
       "│ EOM      ┆ OMA      ┆ 01       ┆ 1695 ┆ EOM-OMA-01-995  ┆ Tasas de Rendimiento ┆ 1           │\n",
       "│          ┆          ┆          ┆      ┆                 ┆ Diario de V…         ┆             │\n",
       "│ EOM      ┆ OMA      ┆ 01       ┆ 1696 ┆ EOM-OMA-01-996  ┆ Tasas de Rendimiento ┆ 1           │\n",
       "│          ┆          ┆          ┆      ┆                 ┆ Diario de V…         ┆             │\n",
       "│ EOM      ┆ OMA      ┆ 01       ┆ 1697 ┆ EOM-OMA-01-997  ┆ Tasas de Rendimiento ┆ 1           │\n",
       "│          ┆          ┆          ┆      ┆                 ┆ Diario de V…         ┆             │\n",
       "│ EOM      ┆ OMA      ┆ 01       ┆ 1698 ┆ EOM-OMA-01-998  ┆ Tasas de Rendimiento ┆ 1           │\n",
       "│          ┆          ┆          ┆      ┆                 ┆ Diario de V…         ┆             │\n",
       "│ EOM      ┆ OMA      ┆ 01       ┆ 1699 ┆ EOM-OMA-01-999  ┆ Tasas de Rendimiento ┆ 1           │\n",
       "│          ┆          ┆          ┆      ┆                 ┆ Diario de V…         ┆             │\n",
       "└──────────┴──────────┴──────────┴──────┴─────────────────┴──────────────────────┴─────────────┘"
      ]
     },
     "execution_count": 8,
     "metadata": {},
     "output_type": "execute_result"
    }
   ],
   "source": [
    "res_nivel_6(\n",
    "    \"EOM\",\"OMA\",\n",
    "    \"Niv_Gr_3\",\"01\",\n",
    "    \"Id\",\"Nombre\",\"Niv_Descr_1\").sort(\"Nombre\")"
   ]
  },
  {
   "cell_type": "markdown",
   "id": "c14f60c1",
   "metadata": {},
   "source": [
    "La consulta para una serie individual puede realizarse solamente mediante el uso de la \"Id\" correspondiente; por ejemplo, el Id 701 da como resultado:\n"
   ]
  },
  {
   "cell_type": "code",
   "execution_count": 9,
   "id": "ec634ff2",
   "metadata": {},
   "outputs": [
    {
     "name": "stderr",
     "output_type": "stream",
     "text": [
      "<string>:29: FutureWarning:\n",
      "\n",
      "Passing literal json to 'read_json' is deprecated and will be removed in a future version. To read from a literal string, wrap it in a 'StringIO' object.\n",
      "\n"
     ]
    },
    {
     "name": "stderr",
     "output_type": "stream",
     "text": [
      "<string>:29: FutureWarning:\n",
      "\n",
      "Passing literal json to 'read_json' is deprecated and will be removed in a future version. To read from a literal string, wrap it in a 'StringIO' object.\n",
      "\n"
     ]
    },
    {
     "data": {
      "text/html": [
       "<div><style>\n",
       ".dataframe > thead > tr,\n",
       ".dataframe > tbody > tr {\n",
       "  text-align: right;\n",
       "  white-space: pre-wrap;\n",
       "}\n",
       "</style>\n",
       "<small>shape: (43, 2)</small><table border=\"1\" class=\"dataframe\"><thead><tr><th>Fecha</th><th>Tasas de Rendimiento Diario de Valores Gubernamentales - Dias Plazo - 1001</th></tr><tr><td>date</td><td>f64</td></tr></thead><tbody><tr><td>2024-04-19</td><td>5.71</td></tr><tr><td>2024-04-20</td><td>5.71</td></tr><tr><td>2024-04-21</td><td>5.71</td></tr><tr><td>2024-04-22</td><td>5.71</td></tr><tr><td>2024-04-23</td><td>5.71</td></tr><tr><td>&hellip;</td><td>&hellip;</td></tr><tr><td>2024-05-31</td><td>5.8</td></tr><tr><td>2024-06-01</td><td>5.8</td></tr><tr><td>2024-06-02</td><td>5.8</td></tr><tr><td>2024-06-03</td><td>5.8</td></tr><tr><td>2024-06-04</td><td>5.8</td></tr></tbody></table></div>"
      ],
      "text/plain": [
       "shape: (43, 2)\n",
       "┌────────────┬───────────────────────────────────┐\n",
       "│ Fecha      ┆ Tasas de Rendimiento Diario de V… │\n",
       "│ ---        ┆ ---                               │\n",
       "│ date       ┆ f64                               │\n",
       "╞════════════╪═══════════════════════════════════╡\n",
       "│ 2024-04-19 ┆ 5.71                              │\n",
       "│ 2024-04-20 ┆ 5.71                              │\n",
       "│ 2024-04-21 ┆ 5.71                              │\n",
       "│ 2024-04-22 ┆ 5.71                              │\n",
       "│ 2024-04-23 ┆ 5.71                              │\n",
       "│ …          ┆ …                                 │\n",
       "│ 2024-05-31 ┆ 5.8                               │\n",
       "│ 2024-06-01 ┆ 5.8                               │\n",
       "│ 2024-06-02 ┆ 5.8                               │\n",
       "│ 2024-06-03 ┆ 5.8                               │\n",
       "│ 2024-06-04 ┆ 5.8                               │\n",
       "└────────────┴───────────────────────────────────┘"
      ]
     },
     "execution_count": 9,
     "metadata": {},
     "output_type": "execute_result"
    }
   ],
   "source": [
    "Id = 1701\n",
    "df = get_df(Id)\n",
    "# get_plot(Id)\n",
    "df"
   ]
  },
  {
   "cell_type": "markdown",
   "id": "81c669b3",
   "metadata": {},
   "source": [
    "###### 02 = Créditos (Niv_Descr_4 = 1-3) e Inversiones (Niv_Descr_4 = 4-6): Monto, Número de Solicitudes y Tasa\n"
   ]
  },
  {
   "cell_type": "code",
   "execution_count": 10,
   "id": "2f2837da",
   "metadata": {},
   "outputs": [
    {
     "name": "stderr",
     "output_type": "stream",
     "text": [
      "<string>:29: FutureWarning:\n",
      "\n",
      "Passing literal json to 'read_json' is deprecated and will be removed in a future version. To read from a literal string, wrap it in a 'StringIO' object.\n",
      "\n"
     ]
    },
    {
     "data": {
      "text/html": [
       "<div><style>\n",
       ".dataframe > thead > tr,\n",
       ".dataframe > tbody > tr {\n",
       "  text-align: right;\n",
       "  white-space: pre-wrap;\n",
       "}\n",
       "</style>\n",
       "<small>shape: (2, 5)</small><table border=\"1\" class=\"dataframe\"><thead><tr><th>Niv_Gr_1</th><th>Niv_Gr_2</th><th>Niv_Gr_3</th><th>Niv_Descr_5</th><th>N_Variables</th></tr><tr><td>str</td><td>str</td><td>str</td><td>str</td><td>u32</td></tr></thead><tbody><tr><td>&quot;EOM&quot;</td><td>&quot;OMA&quot;</td><td>&quot;02&quot;</td><td>&quot;Créditos&quot;</td><td>3</td></tr><tr><td>&quot;EOM&quot;</td><td>&quot;OMA&quot;</td><td>&quot;02&quot;</td><td>&quot;Inversiones&quot;</td><td>3</td></tr></tbody></table></div>"
      ],
      "text/plain": [
       "shape: (2, 5)\n",
       "┌──────────┬──────────┬──────────┬─────────────┬─────────────┐\n",
       "│ Niv_Gr_1 ┆ Niv_Gr_2 ┆ Niv_Gr_3 ┆ Niv_Descr_5 ┆ N_Variables │\n",
       "│ ---      ┆ ---      ┆ ---      ┆ ---         ┆ ---         │\n",
       "│ str      ┆ str      ┆ str      ┆ str         ┆ u32         │\n",
       "╞══════════╪══════════╪══════════╪═════════════╪═════════════╡\n",
       "│ EOM      ┆ OMA      ┆ 02       ┆ Créditos    ┆ 3           │\n",
       "│ EOM      ┆ OMA      ┆ 02       ┆ Inversiones ┆ 3           │\n",
       "└──────────┴──────────┴──────────┴─────────────┴─────────────┘"
      ]
     },
     "execution_count": 10,
     "metadata": {},
     "output_type": "execute_result"
    }
   ],
   "source": [
    "res_nivel_4(\n",
    "    \"EOM\",\"OMA\",\n",
    "    \"Niv_Gr_3\",\"02\",\n",
    "    \"Niv_Descr_5\")"
   ]
  },
  {
   "cell_type": "markdown",
   "id": "24287108",
   "metadata": {},
   "source": [
    "Todas las variables:\n"
   ]
  },
  {
   "cell_type": "code",
   "execution_count": 11,
   "id": "08ec8f0f",
   "metadata": {},
   "outputs": [
    {
     "name": "stderr",
     "output_type": "stream",
     "text": [
      "<string>:29: FutureWarning:\n",
      "\n",
      "Passing literal json to 'read_json' is deprecated and will be removed in a future version. To read from a literal string, wrap it in a 'StringIO' object.\n",
      "\n"
     ]
    },
    {
     "data": {
      "text/html": [
       "<div><style>\n",
       ".dataframe > thead > tr,\n",
       ".dataframe > tbody > tr {\n",
       "  text-align: right;\n",
       "  white-space: pre-wrap;\n",
       "}\n",
       "</style>\n",
       "<small>shape: (6, 8)</small><table border=\"1\" class=\"dataframe\"><thead><tr><th>Niv_Gr_1</th><th>Niv_Gr_2</th><th>Niv_Gr_3</th><th>Id</th><th>Nombre</th><th>Niv_Descr_5</th><th>Niv_Descr_6</th><th>N_Variables</th></tr><tr><td>str</td><td>str</td><td>str</td><td>i64</td><td>str</td><td>str</td><td>str</td><td>u32</td></tr></thead><tbody><tr><td>&quot;EOM&quot;</td><td>&quot;OMA&quot;</td><td>&quot;02&quot;</td><td>6261</td><td>&quot;EOM-OMA-02-1&quot;</td><td>&quot;Créditos&quot;</td><td>&quot;Monto&quot;</td><td>1</td></tr><tr><td>&quot;EOM&quot;</td><td>&quot;OMA&quot;</td><td>&quot;02&quot;</td><td>6262</td><td>&quot;EOM-OMA-02-2&quot;</td><td>&quot;Créditos&quot;</td><td>&quot;Número de Soli…</td><td>1</td></tr><tr><td>&quot;EOM&quot;</td><td>&quot;OMA&quot;</td><td>&quot;02&quot;</td><td>6263</td><td>&quot;EOM-OMA-02-3&quot;</td><td>&quot;Créditos&quot;</td><td>&quot;Tasa&quot;</td><td>1</td></tr><tr><td>&quot;EOM&quot;</td><td>&quot;OMA&quot;</td><td>&quot;02&quot;</td><td>6264</td><td>&quot;EOM-OMA-02-4&quot;</td><td>&quot;Inversiones&quot;</td><td>&quot;Monto&quot;</td><td>1</td></tr><tr><td>&quot;EOM&quot;</td><td>&quot;OMA&quot;</td><td>&quot;02&quot;</td><td>6265</td><td>&quot;EOM-OMA-02-5&quot;</td><td>&quot;Inversiones&quot;</td><td>&quot;Número de Soli…</td><td>1</td></tr><tr><td>&quot;EOM&quot;</td><td>&quot;OMA&quot;</td><td>&quot;02&quot;</td><td>6266</td><td>&quot;EOM-OMA-02-6&quot;</td><td>&quot;Inversiones&quot;</td><td>&quot;Tasa&quot;</td><td>1</td></tr></tbody></table></div>"
      ],
      "text/plain": [
       "shape: (6, 8)\n",
       "┌──────────┬──────────┬──────────┬──────┬──────────────┬─────────────┬───────────────┬─────────────┐\n",
       "│ Niv_Gr_1 ┆ Niv_Gr_2 ┆ Niv_Gr_3 ┆ Id   ┆ Nombre       ┆ Niv_Descr_5 ┆ Niv_Descr_6   ┆ N_Variables │\n",
       "│ ---      ┆ ---      ┆ ---      ┆ ---  ┆ ---          ┆ ---         ┆ ---           ┆ ---         │\n",
       "│ str      ┆ str      ┆ str      ┆ i64  ┆ str          ┆ str         ┆ str           ┆ u32         │\n",
       "╞══════════╪══════════╪══════════╪══════╪══════════════╪═════════════╪═══════════════╪═════════════╡\n",
       "│ EOM      ┆ OMA      ┆ 02       ┆ 6261 ┆ EOM-OMA-02-1 ┆ Créditos    ┆ Monto         ┆ 1           │\n",
       "│ EOM      ┆ OMA      ┆ 02       ┆ 6262 ┆ EOM-OMA-02-2 ┆ Créditos    ┆ Número de     ┆ 1           │\n",
       "│          ┆          ┆          ┆      ┆              ┆             ┆ Solicitudes   ┆             │\n",
       "│ EOM      ┆ OMA      ┆ 02       ┆ 6263 ┆ EOM-OMA-02-3 ┆ Créditos    ┆ Tasa          ┆ 1           │\n",
       "│ EOM      ┆ OMA      ┆ 02       ┆ 6264 ┆ EOM-OMA-02-4 ┆ Inversiones ┆ Monto         ┆ 1           │\n",
       "│ EOM      ┆ OMA      ┆ 02       ┆ 6265 ┆ EOM-OMA-02-5 ┆ Inversiones ┆ Número de     ┆ 1           │\n",
       "│          ┆          ┆          ┆      ┆              ┆             ┆ Solicitudes   ┆             │\n",
       "│ EOM      ┆ OMA      ┆ 02       ┆ 6266 ┆ EOM-OMA-02-6 ┆ Inversiones ┆ Tasa          ┆ 1           │\n",
       "└──────────┴──────────┴──────────┴──────┴──────────────┴─────────────┴───────────────┴─────────────┘"
      ]
     },
     "execution_count": 11,
     "metadata": {},
     "output_type": "execute_result"
    }
   ],
   "source": [
    "res_nivel_7(\n",
    "    \"EOM\",\"OMA\",\n",
    "    \"Niv_Gr_3\",\"02\",\n",
    "    \"Id\",\"Nombre\",\"Niv_Descr_5\",\"Niv_Descr_6\").sort(\"Nombre\")"
   ]
  },
  {
   "cell_type": "markdown",
   "id": "97ba0b99",
   "metadata": {},
   "source": [
    "Resultados de una sola variable:\n"
   ]
  },
  {
   "cell_type": "code",
   "execution_count": 12,
   "id": "1cda4ac8",
   "metadata": {},
   "outputs": [
    {
     "name": "stderr",
     "output_type": "stream",
     "text": [
      "<string>:29: FutureWarning:\n",
      "\n",
      "Passing literal json to 'read_json' is deprecated and will be removed in a future version. To read from a literal string, wrap it in a 'StringIO' object.\n",
      "\n"
     ]
    },
    {
     "name": "stderr",
     "output_type": "stream",
     "text": [
      "<string>:29: FutureWarning:\n",
      "\n",
      "Passing literal json to 'read_json' is deprecated and will be removed in a future version. To read from a literal string, wrap it in a 'StringIO' object.\n",
      "\n"
     ]
    },
    {
     "data": {
      "text/html": [
       "<div><style>\n",
       ".dataframe > thead > tr,\n",
       ".dataframe > tbody > tr {\n",
       "  text-align: right;\n",
       "  white-space: pre-wrap;\n",
       "}\n",
       "</style>\n",
       "<small>shape: (1_059, 2)</small><table border=\"1\" class=\"dataframe\"><thead><tr><th>Fecha</th><th>EOM-OMA-02-1-Créditos-Monto</th></tr><tr><td>date</td><td>f64</td></tr></thead><tbody><tr><td>2020-01-02</td><td>0.0</td></tr><tr><td>2020-01-03</td><td>0.0</td></tr><tr><td>2020-01-06</td><td>400.0</td></tr><tr><td>2020-01-07</td><td>0.0</td></tr><tr><td>2020-01-08</td><td>0.0</td></tr><tr><td>&hellip;</td><td>&hellip;</td></tr><tr><td>2024-03-18</td><td>168.0</td></tr><tr><td>2024-03-19</td><td>0.0</td></tr><tr><td>2024-03-20</td><td>0.0</td></tr><tr><td>2024-03-21</td><td>0.0</td></tr><tr><td>2024-03-22</td><td>2000.0</td></tr></tbody></table></div>"
      ],
      "text/plain": [
       "shape: (1_059, 2)\n",
       "┌────────────┬─────────────────────────────┐\n",
       "│ Fecha      ┆ EOM-OMA-02-1-Créditos-Monto │\n",
       "│ ---        ┆ ---                         │\n",
       "│ date       ┆ f64                         │\n",
       "╞════════════╪═════════════════════════════╡\n",
       "│ 2020-01-02 ┆ 0.0                         │\n",
       "│ 2020-01-03 ┆ 0.0                         │\n",
       "│ 2020-01-06 ┆ 400.0                       │\n",
       "│ 2020-01-07 ┆ 0.0                         │\n",
       "│ 2020-01-08 ┆ 0.0                         │\n",
       "│ …          ┆ …                           │\n",
       "│ 2024-03-18 ┆ 168.0                       │\n",
       "│ 2024-03-19 ┆ 0.0                         │\n",
       "│ 2024-03-20 ┆ 0.0                         │\n",
       "│ 2024-03-21 ┆ 0.0                         │\n",
       "│ 2024-03-22 ┆ 2000.0                      │\n",
       "└────────────┴─────────────────────────────┘"
      ]
     },
     "execution_count": 12,
     "metadata": {},
     "output_type": "execute_result"
    }
   ],
   "source": [
    "Id = 6261\n",
    "df = get_df(Id)\n",
    "# get_plot(Id)\n",
    "df"
   ]
  },
  {
   "cell_type": "markdown",
   "id": "3c68dcf6",
   "metadata": {},
   "source": [
    "###### 03 = Monto, Número de Operaciones y Tasa\n"
   ]
  },
  {
   "cell_type": "code",
   "execution_count": 13,
   "id": "878823ea",
   "metadata": {},
   "outputs": [
    {
     "name": "stderr",
     "output_type": "stream",
     "text": [
      "<string>:29: FutureWarning:\n",
      "\n",
      "Passing literal json to 'read_json' is deprecated and will be removed in a future version. To read from a literal string, wrap it in a 'StringIO' object.\n",
      "\n"
     ]
    },
    {
     "data": {
      "text/html": [
       "<div><style>\n",
       ".dataframe > thead > tr,\n",
       ".dataframe > tbody > tr {\n",
       "  text-align: right;\n",
       "  white-space: pre-wrap;\n",
       "}\n",
       "</style>\n",
       "<small>shape: (3, 5)</small><table border=\"1\" class=\"dataframe\"><thead><tr><th>Niv_Gr_1</th><th>Niv_Gr_2</th><th>Niv_Gr_3</th><th>Niv_Descr_5</th><th>N_Variables</th></tr><tr><td>str</td><td>str</td><td>str</td><td>str</td><td>u32</td></tr></thead><tbody><tr><td>&quot;EOM&quot;</td><td>&quot;OMA&quot;</td><td>&quot;03&quot;</td><td>&quot;Tasa&quot;</td><td>1</td></tr><tr><td>&quot;EOM&quot;</td><td>&quot;OMA&quot;</td><td>&quot;03&quot;</td><td>&quot;Monto&quot;</td><td>1</td></tr><tr><td>&quot;EOM&quot;</td><td>&quot;OMA&quot;</td><td>&quot;03&quot;</td><td>&quot;Número de Oper…</td><td>1</td></tr></tbody></table></div>"
      ],
      "text/plain": [
       "shape: (3, 5)\n",
       "┌──────────┬──────────┬──────────┬───────────────────────┬─────────────┐\n",
       "│ Niv_Gr_1 ┆ Niv_Gr_2 ┆ Niv_Gr_3 ┆ Niv_Descr_5           ┆ N_Variables │\n",
       "│ ---      ┆ ---      ┆ ---      ┆ ---                   ┆ ---         │\n",
       "│ str      ┆ str      ┆ str      ┆ str                   ┆ u32         │\n",
       "╞══════════╪══════════╪══════════╪═══════════════════════╪═════════════╡\n",
       "│ EOM      ┆ OMA      ┆ 03       ┆ Tasa                  ┆ 1           │\n",
       "│ EOM      ┆ OMA      ┆ 03       ┆ Monto                 ┆ 1           │\n",
       "│ EOM      ┆ OMA      ┆ 03       ┆ Número de Operaciones ┆ 1           │\n",
       "└──────────┴──────────┴──────────┴───────────────────────┴─────────────┘"
      ]
     },
     "execution_count": 13,
     "metadata": {},
     "output_type": "execute_result"
    }
   ],
   "source": [
    "res_nivel_4(\n",
    "    \"EOM\",\"OMA\",\n",
    "    \"Niv_Gr_3\",\"03\",\n",
    "    \"Niv_Descr_5\")"
   ]
  },
  {
   "cell_type": "markdown",
   "id": "25fbea46",
   "metadata": {},
   "source": [
    "Todas las variables:\n"
   ]
  },
  {
   "cell_type": "code",
   "execution_count": 14,
   "id": "12951b27",
   "metadata": {},
   "outputs": [
    {
     "name": "stderr",
     "output_type": "stream",
     "text": [
      "<string>:29: FutureWarning:\n",
      "\n",
      "Passing literal json to 'read_json' is deprecated and will be removed in a future version. To read from a literal string, wrap it in a 'StringIO' object.\n",
      "\n"
     ]
    },
    {
     "data": {
      "text/html": [
       "<div><style>\n",
       ".dataframe > thead > tr,\n",
       ".dataframe > tbody > tr {\n",
       "  text-align: right;\n",
       "  white-space: pre-wrap;\n",
       "}\n",
       "</style>\n",
       "<small>shape: (3, 7)</small><table border=\"1\" class=\"dataframe\"><thead><tr><th>Niv_Gr_1</th><th>Niv_Gr_2</th><th>Niv_Gr_3</th><th>Id</th><th>Nombre</th><th>Niv_Descr_5</th><th>N_Variables</th></tr><tr><td>str</td><td>str</td><td>str</td><td>i64</td><td>str</td><td>str</td><td>u32</td></tr></thead><tbody><tr><td>&quot;EOM&quot;</td><td>&quot;OMA&quot;</td><td>&quot;03&quot;</td><td>6267</td><td>&quot;EOM-OMA-03-1&quot;</td><td>&quot;Monto&quot;</td><td>1</td></tr><tr><td>&quot;EOM&quot;</td><td>&quot;OMA&quot;</td><td>&quot;03&quot;</td><td>6268</td><td>&quot;EOM-OMA-03-2&quot;</td><td>&quot;Número de Oper…</td><td>1</td></tr><tr><td>&quot;EOM&quot;</td><td>&quot;OMA&quot;</td><td>&quot;03&quot;</td><td>6269</td><td>&quot;EOM-OMA-03-3&quot;</td><td>&quot;Tasa&quot;</td><td>1</td></tr></tbody></table></div>"
      ],
      "text/plain": [
       "shape: (3, 7)\n",
       "┌──────────┬──────────┬──────────┬──────┬──────────────┬───────────────────────┬─────────────┐\n",
       "│ Niv_Gr_1 ┆ Niv_Gr_2 ┆ Niv_Gr_3 ┆ Id   ┆ Nombre       ┆ Niv_Descr_5           ┆ N_Variables │\n",
       "│ ---      ┆ ---      ┆ ---      ┆ ---  ┆ ---          ┆ ---                   ┆ ---         │\n",
       "│ str      ┆ str      ┆ str      ┆ i64  ┆ str          ┆ str                   ┆ u32         │\n",
       "╞══════════╪══════════╪══════════╪══════╪══════════════╪═══════════════════════╪═════════════╡\n",
       "│ EOM      ┆ OMA      ┆ 03       ┆ 6267 ┆ EOM-OMA-03-1 ┆ Monto                 ┆ 1           │\n",
       "│ EOM      ┆ OMA      ┆ 03       ┆ 6268 ┆ EOM-OMA-03-2 ┆ Número de Operaciones ┆ 1           │\n",
       "│ EOM      ┆ OMA      ┆ 03       ┆ 6269 ┆ EOM-OMA-03-3 ┆ Tasa                  ┆ 1           │\n",
       "└──────────┴──────────┴──────────┴──────┴──────────────┴───────────────────────┴─────────────┘"
      ]
     },
     "execution_count": 14,
     "metadata": {},
     "output_type": "execute_result"
    }
   ],
   "source": [
    "res_nivel_6(\n",
    "    \"EOM\",\"OMA\",\n",
    "    \"Niv_Gr_3\",\"03\",\n",
    "    \"Id\",\"Nombre\",\"Niv_Descr_5\").sort(\"Nombre\")"
   ]
  },
  {
   "cell_type": "markdown",
   "id": "f678522f",
   "metadata": {},
   "source": [
    "Resultados de una sola variable:\n"
   ]
  },
  {
   "cell_type": "code",
   "execution_count": 15,
   "id": "bb40e64f",
   "metadata": {},
   "outputs": [
    {
     "name": "stderr",
     "output_type": "stream",
     "text": [
      "<string>:29: FutureWarning:\n",
      "\n",
      "Passing literal json to 'read_json' is deprecated and will be removed in a future version. To read from a literal string, wrap it in a 'StringIO' object.\n",
      "\n"
     ]
    },
    {
     "name": "stderr",
     "output_type": "stream",
     "text": [
      "<string>:29: FutureWarning:\n",
      "\n",
      "Passing literal json to 'read_json' is deprecated and will be removed in a future version. To read from a literal string, wrap it in a 'StringIO' object.\n",
      "\n"
     ]
    },
    {
     "data": {
      "text/html": [
       "<div><style>\n",
       ".dataframe > thead > tr,\n",
       ".dataframe > tbody > tr {\n",
       "  text-align: right;\n",
       "  white-space: pre-wrap;\n",
       "}\n",
       "</style>\n",
       "<small>shape: (1_308, 2)</small><table border=\"1\" class=\"dataframe\"><thead><tr><th>Fecha</th><th>EOM-OMA-03-1-Monto</th></tr><tr><td>date</td><td>f64</td></tr></thead><tbody><tr><td>2019-01-02</td><td>1347.0</td></tr><tr><td>2019-01-03</td><td>0.0</td></tr><tr><td>2019-01-04</td><td>400.0</td></tr><tr><td>2019-01-07</td><td>3857.1</td></tr><tr><td>2019-01-08</td><td>0.0</td></tr><tr><td>&hellip;</td><td>&hellip;</td></tr><tr><td>2024-03-18</td><td>1500.0</td></tr><tr><td>2024-03-19</td><td>1044.0</td></tr><tr><td>2024-03-20</td><td>297.5</td></tr><tr><td>2024-03-21</td><td>4298.5</td></tr><tr><td>2024-03-22</td><td>3500.0</td></tr></tbody></table></div>"
      ],
      "text/plain": [
       "shape: (1_308, 2)\n",
       "┌────────────┬────────────────────┐\n",
       "│ Fecha      ┆ EOM-OMA-03-1-Monto │\n",
       "│ ---        ┆ ---                │\n",
       "│ date       ┆ f64                │\n",
       "╞════════════╪════════════════════╡\n",
       "│ 2019-01-02 ┆ 1347.0             │\n",
       "│ 2019-01-03 ┆ 0.0                │\n",
       "│ 2019-01-04 ┆ 400.0              │\n",
       "│ 2019-01-07 ┆ 3857.1             │\n",
       "│ 2019-01-08 ┆ 0.0                │\n",
       "│ …          ┆ …                  │\n",
       "│ 2024-03-18 ┆ 1500.0             │\n",
       "│ 2024-03-19 ┆ 1044.0             │\n",
       "│ 2024-03-20 ┆ 297.5              │\n",
       "│ 2024-03-21 ┆ 4298.5             │\n",
       "│ 2024-03-22 ┆ 3500.0             │\n",
       "└────────────┴────────────────────┘"
      ]
     },
     "execution_count": 15,
     "metadata": {},
     "output_type": "execute_result"
    }
   ],
   "source": [
    "Id = 6267\n",
    "df = get_df(Id)\n",
    "# get_plot(Id)\n",
    "df"
   ]
  },
  {
   "cell_type": "markdown",
   "id": "3b8cc4fe",
   "metadata": {},
   "source": [
    "###### 04 = Monto, Número de Operaciones y Tasa (Dólares - Lempiras)\n"
   ]
  },
  {
   "cell_type": "code",
   "execution_count": 16,
   "id": "be7f325b",
   "metadata": {},
   "outputs": [
    {
     "name": "stderr",
     "output_type": "stream",
     "text": [
      "<string>:29: FutureWarning:\n",
      "\n",
      "Passing literal json to 'read_json' is deprecated and will be removed in a future version. To read from a literal string, wrap it in a 'StringIO' object.\n",
      "\n"
     ]
    },
    {
     "data": {
      "text/html": [
       "<div><style>\n",
       ".dataframe > thead > tr,\n",
       ".dataframe > tbody > tr {\n",
       "  text-align: right;\n",
       "  white-space: pre-wrap;\n",
       "}\n",
       "</style>\n",
       "<small>shape: (3, 5)</small><table border=\"1\" class=\"dataframe\"><thead><tr><th>Niv_Gr_1</th><th>Niv_Gr_2</th><th>Niv_Gr_3</th><th>Niv_Descr_5</th><th>N_Variables</th></tr><tr><td>str</td><td>str</td><td>str</td><td>str</td><td>u32</td></tr></thead><tbody><tr><td>&quot;EOM&quot;</td><td>&quot;OMA&quot;</td><td>&quot;04&quot;</td><td>&quot;Tasa&quot;</td><td>2</td></tr><tr><td>&quot;EOM&quot;</td><td>&quot;OMA&quot;</td><td>&quot;04&quot;</td><td>&quot;Monto&quot;</td><td>2</td></tr><tr><td>&quot;EOM&quot;</td><td>&quot;OMA&quot;</td><td>&quot;04&quot;</td><td>&quot;Número de Oper…</td><td>2</td></tr></tbody></table></div>"
      ],
      "text/plain": [
       "shape: (3, 5)\n",
       "┌──────────┬──────────┬──────────┬───────────────────────┬─────────────┐\n",
       "│ Niv_Gr_1 ┆ Niv_Gr_2 ┆ Niv_Gr_3 ┆ Niv_Descr_5           ┆ N_Variables │\n",
       "│ ---      ┆ ---      ┆ ---      ┆ ---                   ┆ ---         │\n",
       "│ str      ┆ str      ┆ str      ┆ str                   ┆ u32         │\n",
       "╞══════════╪══════════╪══════════╪═══════════════════════╪═════════════╡\n",
       "│ EOM      ┆ OMA      ┆ 04       ┆ Tasa                  ┆ 2           │\n",
       "│ EOM      ┆ OMA      ┆ 04       ┆ Monto                 ┆ 2           │\n",
       "│ EOM      ┆ OMA      ┆ 04       ┆ Número de Operaciones ┆ 2           │\n",
       "└──────────┴──────────┴──────────┴───────────────────────┴─────────────┘"
      ]
     },
     "execution_count": 16,
     "metadata": {},
     "output_type": "execute_result"
    }
   ],
   "source": [
    "res_nivel_4(\n",
    "    \"EOM\",\"OMA\",\n",
    "    \"Niv_Gr_3\",\n",
    "    \"04\",\n",
    "    \"Niv_Descr_5\")"
   ]
  },
  {
   "cell_type": "code",
   "execution_count": 17,
   "id": "3eb18bf0",
   "metadata": {},
   "outputs": [
    {
     "name": "stderr",
     "output_type": "stream",
     "text": [
      "<string>:29: FutureWarning:\n",
      "\n",
      "Passing literal json to 'read_json' is deprecated and will be removed in a future version. To read from a literal string, wrap it in a 'StringIO' object.\n",
      "\n"
     ]
    },
    {
     "data": {
      "text/html": [
       "<div><style>\n",
       ".dataframe > thead > tr,\n",
       ".dataframe > tbody > tr {\n",
       "  text-align: right;\n",
       "  white-space: pre-wrap;\n",
       "}\n",
       "</style>\n",
       "<small>shape: (6, 6)</small><table border=\"1\" class=\"dataframe\"><thead><tr><th>Niv_Gr_1</th><th>Niv_Gr_2</th><th>Niv_Gr_3</th><th>Niv_Descr_5</th><th>Niv_Descr_6</th><th>N_Variables</th></tr><tr><td>str</td><td>str</td><td>str</td><td>str</td><td>str</td><td>u32</td></tr></thead><tbody><tr><td>&quot;EOM&quot;</td><td>&quot;OMA&quot;</td><td>&quot;04&quot;</td><td>&quot;Tasa&quot;</td><td>&quot;Lempiras&quot;</td><td>1</td></tr><tr><td>&quot;EOM&quot;</td><td>&quot;OMA&quot;</td><td>&quot;04&quot;</td><td>&quot;Monto&quot;</td><td>&quot;Dólares&quot;</td><td>1</td></tr><tr><td>&quot;EOM&quot;</td><td>&quot;OMA&quot;</td><td>&quot;04&quot;</td><td>&quot;Número de Oper…</td><td>&quot;Dólares&quot;</td><td>1</td></tr><tr><td>&quot;EOM&quot;</td><td>&quot;OMA&quot;</td><td>&quot;04&quot;</td><td>&quot;Monto&quot;</td><td>&quot;Lempiras&quot;</td><td>1</td></tr><tr><td>&quot;EOM&quot;</td><td>&quot;OMA&quot;</td><td>&quot;04&quot;</td><td>&quot;Número de Oper…</td><td>&quot;Lempiras&quot;</td><td>1</td></tr><tr><td>&quot;EOM&quot;</td><td>&quot;OMA&quot;</td><td>&quot;04&quot;</td><td>&quot;Tasa&quot;</td><td>&quot;Dólares&quot;</td><td>1</td></tr></tbody></table></div>"
      ],
      "text/plain": [
       "shape: (6, 6)\n",
       "┌──────────┬──────────┬──────────┬───────────────────────┬─────────────┬─────────────┐\n",
       "│ Niv_Gr_1 ┆ Niv_Gr_2 ┆ Niv_Gr_3 ┆ Niv_Descr_5           ┆ Niv_Descr_6 ┆ N_Variables │\n",
       "│ ---      ┆ ---      ┆ ---      ┆ ---                   ┆ ---         ┆ ---         │\n",
       "│ str      ┆ str      ┆ str      ┆ str                   ┆ str         ┆ u32         │\n",
       "╞══════════╪══════════╪══════════╪═══════════════════════╪═════════════╪═════════════╡\n",
       "│ EOM      ┆ OMA      ┆ 04       ┆ Tasa                  ┆ Lempiras    ┆ 1           │\n",
       "│ EOM      ┆ OMA      ┆ 04       ┆ Monto                 ┆ Dólares     ┆ 1           │\n",
       "│ EOM      ┆ OMA      ┆ 04       ┆ Número de Operaciones ┆ Dólares     ┆ 1           │\n",
       "│ EOM      ┆ OMA      ┆ 04       ┆ Monto                 ┆ Lempiras    ┆ 1           │\n",
       "│ EOM      ┆ OMA      ┆ 04       ┆ Número de Operaciones ┆ Lempiras    ┆ 1           │\n",
       "│ EOM      ┆ OMA      ┆ 04       ┆ Tasa                  ┆ Dólares     ┆ 1           │\n",
       "└──────────┴──────────┴──────────┴───────────────────────┴─────────────┴─────────────┘"
      ]
     },
     "execution_count": 17,
     "metadata": {},
     "output_type": "execute_result"
    }
   ],
   "source": [
    "res_nivel_5(\n",
    "    \"EOM\",\"OMA\",\n",
    "    \"Niv_Gr_3\",\"04\",\n",
    "    \"Niv_Descr_5\",\"Niv_Descr_6\")"
   ]
  },
  {
   "cell_type": "markdown",
   "id": "c61fad33",
   "metadata": {},
   "source": [
    "Todas las variables:\n"
   ]
  },
  {
   "cell_type": "code",
   "execution_count": 18,
   "id": "84793c4c",
   "metadata": {},
   "outputs": [
    {
     "name": "stderr",
     "output_type": "stream",
     "text": [
      "<string>:29: FutureWarning:\n",
      "\n",
      "Passing literal json to 'read_json' is deprecated and will be removed in a future version. To read from a literal string, wrap it in a 'StringIO' object.\n",
      "\n"
     ]
    },
    {
     "data": {
      "text/html": [
       "<div><style>\n",
       ".dataframe > thead > tr,\n",
       ".dataframe > tbody > tr {\n",
       "  text-align: right;\n",
       "  white-space: pre-wrap;\n",
       "}\n",
       "</style>\n",
       "<small>shape: (6, 8)</small><table border=\"1\" class=\"dataframe\"><thead><tr><th>Niv_Gr_1</th><th>Niv_Gr_2</th><th>Niv_Gr_3</th><th>Id</th><th>Nombre</th><th>Niv_Descr_5</th><th>Niv_Descr_6</th><th>N_Variables</th></tr><tr><td>str</td><td>str</td><td>str</td><td>i64</td><td>str</td><td>str</td><td>str</td><td>u32</td></tr></thead><tbody><tr><td>&quot;EOM&quot;</td><td>&quot;OMA&quot;</td><td>&quot;04&quot;</td><td>6270</td><td>&quot;EOM-OMA-04-1&quot;</td><td>&quot;Monto&quot;</td><td>&quot;Dólares&quot;</td><td>1</td></tr><tr><td>&quot;EOM&quot;</td><td>&quot;OMA&quot;</td><td>&quot;04&quot;</td><td>6271</td><td>&quot;EOM-OMA-04-2&quot;</td><td>&quot;Monto&quot;</td><td>&quot;Lempiras&quot;</td><td>1</td></tr><tr><td>&quot;EOM&quot;</td><td>&quot;OMA&quot;</td><td>&quot;04&quot;</td><td>6272</td><td>&quot;EOM-OMA-04-3&quot;</td><td>&quot;Número de Oper…</td><td>&quot;Dólares&quot;</td><td>1</td></tr><tr><td>&quot;EOM&quot;</td><td>&quot;OMA&quot;</td><td>&quot;04&quot;</td><td>6273</td><td>&quot;EOM-OMA-04-4&quot;</td><td>&quot;Número de Oper…</td><td>&quot;Lempiras&quot;</td><td>1</td></tr><tr><td>&quot;EOM&quot;</td><td>&quot;OMA&quot;</td><td>&quot;04&quot;</td><td>6274</td><td>&quot;EOM-OMA-04-5&quot;</td><td>&quot;Tasa&quot;</td><td>&quot;Dólares&quot;</td><td>1</td></tr><tr><td>&quot;EOM&quot;</td><td>&quot;OMA&quot;</td><td>&quot;04&quot;</td><td>6275</td><td>&quot;EOM-OMA-04-6&quot;</td><td>&quot;Tasa&quot;</td><td>&quot;Lempiras&quot;</td><td>1</td></tr></tbody></table></div>"
      ],
      "text/plain": [
       "shape: (6, 8)\n",
       "┌──────────┬──────────┬──────────┬──────┬──────────────┬───────────────┬─────────────┬─────────────┐\n",
       "│ Niv_Gr_1 ┆ Niv_Gr_2 ┆ Niv_Gr_3 ┆ Id   ┆ Nombre       ┆ Niv_Descr_5   ┆ Niv_Descr_6 ┆ N_Variables │\n",
       "│ ---      ┆ ---      ┆ ---      ┆ ---  ┆ ---          ┆ ---           ┆ ---         ┆ ---         │\n",
       "│ str      ┆ str      ┆ str      ┆ i64  ┆ str          ┆ str           ┆ str         ┆ u32         │\n",
       "╞══════════╪══════════╪══════════╪══════╪══════════════╪═══════════════╪═════════════╪═════════════╡\n",
       "│ EOM      ┆ OMA      ┆ 04       ┆ 6270 ┆ EOM-OMA-04-1 ┆ Monto         ┆ Dólares     ┆ 1           │\n",
       "│ EOM      ┆ OMA      ┆ 04       ┆ 6271 ┆ EOM-OMA-04-2 ┆ Monto         ┆ Lempiras    ┆ 1           │\n",
       "│ EOM      ┆ OMA      ┆ 04       ┆ 6272 ┆ EOM-OMA-04-3 ┆ Número de     ┆ Dólares     ┆ 1           │\n",
       "│          ┆          ┆          ┆      ┆              ┆ Operaciones   ┆             ┆             │\n",
       "│ EOM      ┆ OMA      ┆ 04       ┆ 6273 ┆ EOM-OMA-04-4 ┆ Número de     ┆ Lempiras    ┆ 1           │\n",
       "│          ┆          ┆          ┆      ┆              ┆ Operaciones   ┆             ┆             │\n",
       "│ EOM      ┆ OMA      ┆ 04       ┆ 6274 ┆ EOM-OMA-04-5 ┆ Tasa          ┆ Dólares     ┆ 1           │\n",
       "│ EOM      ┆ OMA      ┆ 04       ┆ 6275 ┆ EOM-OMA-04-6 ┆ Tasa          ┆ Lempiras    ┆ 1           │\n",
       "└──────────┴──────────┴──────────┴──────┴──────────────┴───────────────┴─────────────┴─────────────┘"
      ]
     },
     "execution_count": 18,
     "metadata": {},
     "output_type": "execute_result"
    }
   ],
   "source": [
    "res_nivel_7(\n",
    "    \"EOM\",\"OMA\",\n",
    "    \"Niv_Gr_3\",\"04\",\n",
    "    \"Id\",\"Nombre\",\"Niv_Descr_5\",\"Niv_Descr_6\").sort(\"Nombre\")"
   ]
  },
  {
   "cell_type": "markdown",
   "id": "262695e0",
   "metadata": {},
   "source": [
    "Resultados de una sola variable:\n"
   ]
  },
  {
   "cell_type": "code",
   "execution_count": 19,
   "id": "ad0b2c30",
   "metadata": {},
   "outputs": [
    {
     "name": "stderr",
     "output_type": "stream",
     "text": [
      "<string>:29: FutureWarning:\n",
      "\n",
      "Passing literal json to 'read_json' is deprecated and will be removed in a future version. To read from a literal string, wrap it in a 'StringIO' object.\n",
      "\n"
     ]
    },
    {
     "name": "stderr",
     "output_type": "stream",
     "text": [
      "<string>:29: FutureWarning:\n",
      "\n",
      "Passing literal json to 'read_json' is deprecated and will be removed in a future version. To read from a literal string, wrap it in a 'StringIO' object.\n",
      "\n"
     ]
    },
    {
     "data": {
      "text/html": [
       "<div><style>\n",
       ".dataframe > thead > tr,\n",
       ".dataframe > tbody > tr {\n",
       "  text-align: right;\n",
       "  white-space: pre-wrap;\n",
       "}\n",
       "</style>\n",
       "<small>shape: (1_308, 2)</small><table border=\"1\" class=\"dataframe\"><thead><tr><th>Fecha</th><th>EOM-OMA-04-1-Monto-Dólares</th></tr><tr><td>date</td><td>f64</td></tr></thead><tbody><tr><td>2019-01-02</td><td>0.0</td></tr><tr><td>2019-01-03</td><td>0.0</td></tr><tr><td>2019-01-04</td><td>0.0</td></tr><tr><td>2019-01-07</td><td>0.0</td></tr><tr><td>2019-01-08</td><td>0.0</td></tr><tr><td>&hellip;</td><td>&hellip;</td></tr><tr><td>2024-03-18</td><td>0.0</td></tr><tr><td>2024-03-19</td><td>0.0</td></tr><tr><td>2024-03-20</td><td>0.0</td></tr><tr><td>2024-03-21</td><td>0.0</td></tr><tr><td>2024-03-22</td><td>0.0</td></tr></tbody></table></div>"
      ],
      "text/plain": [
       "shape: (1_308, 2)\n",
       "┌────────────┬────────────────────────────┐\n",
       "│ Fecha      ┆ EOM-OMA-04-1-Monto-Dólares │\n",
       "│ ---        ┆ ---                        │\n",
       "│ date       ┆ f64                        │\n",
       "╞════════════╪════════════════════════════╡\n",
       "│ 2019-01-02 ┆ 0.0                        │\n",
       "│ 2019-01-03 ┆ 0.0                        │\n",
       "│ 2019-01-04 ┆ 0.0                        │\n",
       "│ 2019-01-07 ┆ 0.0                        │\n",
       "│ 2019-01-08 ┆ 0.0                        │\n",
       "│ …          ┆ …                          │\n",
       "│ 2024-03-18 ┆ 0.0                        │\n",
       "│ 2024-03-19 ┆ 0.0                        │\n",
       "│ 2024-03-20 ┆ 0.0                        │\n",
       "│ 2024-03-21 ┆ 0.0                        │\n",
       "│ 2024-03-22 ┆ 0.0                        │\n",
       "└────────────┴────────────────────────────┘"
      ]
     },
     "execution_count": 19,
     "metadata": {},
     "output_type": "execute_result"
    }
   ],
   "source": [
    "Id = 6270\n",
    "df = get_df(Id)\n",
    "# get_plot(Id)\n",
    "df"
   ]
  },
  {
   "cell_type": "markdown",
   "id": "208e1d75",
   "metadata": {},
   "source": [
    "### ESR = Estadísticas del Sector Real\n"
   ]
  },
  {
   "cell_type": "code",
   "execution_count": 20,
   "id": "337a5ea3",
   "metadata": {},
   "outputs": [
    {
     "name": "stdout",
     "output_type": "stream",
     "text": [
      "11519 variables\n",
      "54 grupos\n",
      "19 variables\n",
      "7 grupos\n",
      "13 subgrupos\n"
     ]
    },
    {
     "name": "stderr",
     "output_type": "stream",
     "text": [
      "<string>:29: FutureWarning:\n",
      "\n",
      "Passing literal json to 'read_json' is deprecated and will be removed in a future version. To read from a literal string, wrap it in a 'StringIO' object.\n",
      "\n"
     ]
    },
    {
     "data": {
      "text/html": [
       "<div><style>\n",
       ".dataframe > thead > tr,\n",
       ".dataframe > tbody > tr {\n",
       "  text-align: right;\n",
       "  white-space: pre-wrap;\n",
       "}\n",
       "</style>\n",
       "<small>shape: (7, 4)</small><table border=\"1\" class=\"dataframe\"><thead><tr><th>Niv_Gr_1</th><th>Niv_Gr_2</th><th>N_Variables</th><th>N_Niv_Gr_2</th></tr><tr><td>str</td><td>str</td><td>u32</td><td>u32</td></tr></thead><tbody><tr><td>&quot;ESR&quot;</td><td>&quot;PIBT&quot;</td><td>9</td><td>3</td></tr><tr><td>&quot;ESR&quot;</td><td>&quot;PIBA&quot;</td><td>4</td><td>4</td></tr><tr><td>&quot;ESR&quot;</td><td>&quot;VAB&quot;</td><td>2</td><td>2</td></tr><tr><td>&quot;ESR&quot;</td><td>&quot;ODA&quot;</td><td>1</td><td>1</td></tr><tr><td>&quot;ESR&quot;</td><td>&quot;IMAE&quot;</td><td>1</td><td>1</td></tr><tr><td>&quot;ESR&quot;</td><td>&quot;CCI&quot;</td><td>1</td><td>1</td></tr><tr><td>&quot;ESR&quot;</td><td>&quot;COU&quot;</td><td>1</td><td>1</td></tr></tbody></table></div>"
      ],
      "text/plain": [
       "shape: (7, 4)\n",
       "┌──────────┬──────────┬─────────────┬────────────┐\n",
       "│ Niv_Gr_1 ┆ Niv_Gr_2 ┆ N_Variables ┆ N_Niv_Gr_2 │\n",
       "│ ---      ┆ ---      ┆ ---         ┆ ---        │\n",
       "│ str      ┆ str      ┆ u32         ┆ u32        │\n",
       "╞══════════╪══════════╪═════════════╪════════════╡\n",
       "│ ESR      ┆ PIBT     ┆ 9           ┆ 3          │\n",
       "│ ESR      ┆ PIBA     ┆ 4           ┆ 4          │\n",
       "│ ESR      ┆ VAB      ┆ 2           ┆ 2          │\n",
       "│ ESR      ┆ ODA      ┆ 1           ┆ 1          │\n",
       "│ ESR      ┆ IMAE     ┆ 1           ┆ 1          │\n",
       "│ ESR      ┆ CCI      ┆ 1           ┆ 1          │\n",
       "│ ESR      ┆ COU      ┆ 1           ┆ 1          │\n",
       "└──────────┴──────────┴─────────────┴────────────┘"
      ]
     },
     "execution_count": 20,
     "metadata": {},
     "output_type": "execute_result"
    }
   ],
   "source": [
    "res_nivel_2(\"ESR\")"
   ]
  },
  {
   "cell_type": "markdown",
   "id": "a4c2cb75",
   "metadata": {},
   "source": [
    "* COU = Cuadro de Oferta y Utilización\n",
    "* CCI = Clasificación Cruzada Industria\n",
    "* VAB = Valor Agregado Bruto\n",
    "* PIBA = PIB Anual\n",
    "* PIBT = PIB Trimestral\n",
    "* ODA = Oferta y Demanda Agregada\n",
    "* IMAE = Índice Mensual de la Actividad Económica\n",
    "\n",
    "#### COU = Cuadro de Oferta y Utilización\n"
   ]
  },
  {
   "cell_type": "code",
   "execution_count": 21,
   "id": "c0ab525f",
   "metadata": {},
   "outputs": [
    {
     "name": "stdout",
     "output_type": "stream",
     "text": [
      "1 subgrupos\n",
      "3608 variables\n"
     ]
    },
    {
     "name": "stderr",
     "output_type": "stream",
     "text": [
      "<string>:29: FutureWarning:\n",
      "\n",
      "Passing literal json to 'read_json' is deprecated and will be removed in a future version. To read from a literal string, wrap it in a 'StringIO' object.\n",
      "\n"
     ]
    },
    {
     "data": {
      "text/html": [
       "<div><style>\n",
       ".dataframe > thead > tr,\n",
       ".dataframe > tbody > tr {\n",
       "  text-align: right;\n",
       "  white-space: pre-wrap;\n",
       "}\n",
       "</style>\n",
       "<small>shape: (1, 4)</small><table border=\"1\" class=\"dataframe\"><thead><tr><th>Niv_Gr_1</th><th>Niv_Gr_2</th><th>Niv_Gr_3</th><th>N_Variables</th></tr><tr><td>str</td><td>str</td><td>str</td><td>u32</td></tr></thead><tbody><tr><td>&quot;ESR&quot;</td><td>&quot;COU&quot;</td><td>&quot;01&quot;</td><td>3608</td></tr></tbody></table></div>"
      ],
      "text/plain": [
       "shape: (1, 4)\n",
       "┌──────────┬──────────┬──────────┬─────────────┐\n",
       "│ Niv_Gr_1 ┆ Niv_Gr_2 ┆ Niv_Gr_3 ┆ N_Variables │\n",
       "│ ---      ┆ ---      ┆ ---      ┆ ---         │\n",
       "│ str      ┆ str      ┆ str      ┆ u32         │\n",
       "╞══════════╪══════════╪══════════╪═════════════╡\n",
       "│ ESR      ┆ COU      ┆ 01       ┆ 3608        │\n",
       "└──────────┴──────────┴──────────┴─────────────┘"
      ]
     },
     "execution_count": 21,
     "metadata": {},
     "output_type": "execute_result"
    }
   ],
   "source": [
    "res_nivel_3(\"ESR\",\"COU\",\"Niv_Gr_3\")"
   ]
  },
  {
   "cell_type": "markdown",
   "id": "df2a0d15",
   "metadata": {},
   "source": [
    "Detalla la interacción del producto con la actividad (el detalle se toma de acuerdo con la estructura de la columna \"Nombre\"). Para conocer la estructura de las estadísticas derivadas de este cuadro, consultar en la [página web del BCH](https://www.bch.hn/estadisticas-y-publicaciones-economicas/sector-real/cuentas-nacionales-anuales-base-2000/cuadro-oferta-y-utilizacion).\n",
    "\n",
    "El orden está de acuerdo con el Nivel de Descripción 2 (Niv_Descr_2) y Nivel de Descripción 3 (Niv_Descr_3) de la columna Nombre, para los casos de:\n",
    "\n",
    "* VALOR BRUTO DE PRODUCCIÓN\n",
    "* CONSUMO INTERMEDIO\n",
    "* VALOR AGREGADO\n",
    "* OFERTA\n",
    "* UTILIZACIÓN\n",
    "\n",
    "Cada uno de estos detalles corresponde a una hoja de Excel en el archivo anual correspondiente.\n"
   ]
  },
  {
   "cell_type": "code",
   "execution_count": 22,
   "id": "c0376925",
   "metadata": {},
   "outputs": [
    {
     "name": "stderr",
     "output_type": "stream",
     "text": [
      "<string>:29: FutureWarning:\n",
      "\n",
      "Passing literal json to 'read_json' is deprecated and will be removed in a future version. To read from a literal string, wrap it in a 'StringIO' object.\n",
      "\n"
     ]
    },
    {
     "data": {
      "text/html": [
       "<div><style>\n",
       ".dataframe > thead > tr,\n",
       ".dataframe > tbody > tr {\n",
       "  text-align: right;\n",
       "  white-space: pre-wrap;\n",
       "}\n",
       "</style>\n",
       "<small>shape: (5, 5)</small><table border=\"1\" class=\"dataframe\"><thead><tr><th>Niv_Gr_1</th><th>Niv_Gr_2</th><th>Niv_Gr_3</th><th>Niv_Descr_1</th><th>N_Variables</th></tr><tr><td>str</td><td>str</td><td>str</td><td>str</td><td>u32</td></tr></thead><tbody><tr><td>&quot;ESR&quot;</td><td>&quot;COU&quot;</td><td>&quot;01&quot;</td><td>&quot;VALOR BRUTO DE…</td><td>1044</td></tr><tr><td>&quot;ESR&quot;</td><td>&quot;COU&quot;</td><td>&quot;01&quot;</td><td>&quot;CONSUMO INTERM…</td><td>1044</td></tr><tr><td>&quot;ESR&quot;</td><td>&quot;COU&quot;</td><td>&quot;01&quot;</td><td>&quot;OFERTA&quot;</td><td>580</td></tr><tr><td>&quot;ESR&quot;</td><td>&quot;COU&quot;</td><td>&quot;01&quot;</td><td>&quot;UTILIZACIÓN&quot;</td><td>580</td></tr><tr><td>&quot;ESR&quot;</td><td>&quot;COU&quot;</td><td>&quot;01&quot;</td><td>&quot;VALOR AGREGADO…</td><td>360</td></tr></tbody></table></div>"
      ],
      "text/plain": [
       "shape: (5, 5)\n",
       "┌──────────┬──────────┬──────────┬───────────────────────────┬─────────────┐\n",
       "│ Niv_Gr_1 ┆ Niv_Gr_2 ┆ Niv_Gr_3 ┆ Niv_Descr_1               ┆ N_Variables │\n",
       "│ ---      ┆ ---      ┆ ---      ┆ ---                       ┆ ---         │\n",
       "│ str      ┆ str      ┆ str      ┆ str                       ┆ u32         │\n",
       "╞══════════╪══════════╪══════════╪═══════════════════════════╪═════════════╡\n",
       "│ ESR      ┆ COU      ┆ 01       ┆ VALOR BRUTO DE PRODUCCIÓN ┆ 1044        │\n",
       "│ ESR      ┆ COU      ┆ 01       ┆ CONSUMO INTERMEDIO        ┆ 1044        │\n",
       "│ ESR      ┆ COU      ┆ 01       ┆ OFERTA                    ┆ 580         │\n",
       "│ ESR      ┆ COU      ┆ 01       ┆ UTILIZACIÓN               ┆ 580         │\n",
       "│ ESR      ┆ COU      ┆ 01       ┆ VALOR AGREGADO            ┆ 360         │\n",
       "└──────────┴──────────┴──────────┴───────────────────────────┴─────────────┘"
      ]
     },
     "execution_count": 22,
     "metadata": {},
     "output_type": "execute_result"
    }
   ],
   "source": [
    "res_nivel_4(\n",
    "    \"ESR\",\"COU\",\n",
    "    \"Niv_Gr_3\",\n",
    "    \"01\",\n",
    "    \"Niv_Descr_1\")"
   ]
  },
  {
   "cell_type": "markdown",
   "id": "1d33221e",
   "metadata": {},
   "source": [
    "##### VALOR BRUTO DE PRODUCCIÓN\n",
    "\n",
    "En el cuadro original, las filas son los productos a un nivel de dos dígitos de la Nomenclatura de Productos de Honduras (NPH) y las columnas son las actiivades económicas tomando en cuenta la Nomenclatura de Actividades Económicas de Honduras (NAEH).\n"
   ]
  },
  {
   "cell_type": "code",
   "execution_count": 23,
   "id": "10f5b530",
   "metadata": {},
   "outputs": [
    {
     "name": "stderr",
     "output_type": "stream",
     "text": [
      "<string>:29: FutureWarning:\n",
      "\n",
      "Passing literal json to 'read_json' is deprecated and will be removed in a future version. To read from a literal string, wrap it in a 'StringIO' object.\n",
      "\n"
     ]
    },
    {
     "data": {
      "text/html": [
       "<div><style>\n",
       ".dataframe > thead > tr,\n",
       ".dataframe > tbody > tr {\n",
       "  text-align: right;\n",
       "  white-space: pre-wrap;\n",
       "}\n",
       "</style>\n",
       "<small>shape: (1_044, 8)</small><table border=\"1\" class=\"dataframe\"><thead><tr><th>Niv_Gr_1</th><th>Niv_Gr_2</th><th>Niv_Gr_3</th><th>Niv_Descr_1</th><th>Id</th><th>Nombre</th><th>Descripcion</th><th>N_Variables</th></tr><tr><td>str</td><td>str</td><td>str</td><td>str</td><td>i64</td><td>str</td><td>str</td><td>u32</td></tr></thead><tbody><tr><td>&quot;ESR&quot;</td><td>&quot;COU&quot;</td><td>&quot;01&quot;</td><td>&quot;VALOR BRUTO DE…</td><td>10386</td><td>&quot;ESR-COU-01-256…</td><td>&quot;VALOR BRUTO DE…</td><td>1</td></tr><tr><td>&quot;ESR&quot;</td><td>&quot;COU&quot;</td><td>&quot;01&quot;</td><td>&quot;VALOR BRUTO DE…</td><td>10395</td><td>&quot;ESR-COU-01-257…</td><td>&quot;VALOR BRUTO DE…</td><td>1</td></tr><tr><td>&quot;ESR&quot;</td><td>&quot;COU&quot;</td><td>&quot;01&quot;</td><td>&quot;VALOR BRUTO DE…</td><td>10403</td><td>&quot;ESR-COU-01-258…</td><td>&quot;VALOR BRUTO DE…</td><td>1</td></tr><tr><td>&quot;ESR&quot;</td><td>&quot;COU&quot;</td><td>&quot;01&quot;</td><td>&quot;VALOR BRUTO DE…</td><td>10405</td><td>&quot;ESR-COU-01-258…</td><td>&quot;VALOR BRUTO DE…</td><td>1</td></tr><tr><td>&quot;ESR&quot;</td><td>&quot;COU&quot;</td><td>&quot;01&quot;</td><td>&quot;VALOR BRUTO DE…</td><td>10435</td><td>&quot;ESR-COU-01-261…</td><td>&quot;VALOR BRUTO DE…</td><td>1</td></tr><tr><td>&hellip;</td><td>&hellip;</td><td>&hellip;</td><td>&hellip;</td><td>&hellip;</td><td>&hellip;</td><td>&hellip;</td><td>&hellip;</td></tr><tr><td>&quot;ESR&quot;</td><td>&quot;COU&quot;</td><td>&quot;01&quot;</td><td>&quot;VALOR BRUTO DE…</td><td>11309</td><td>&quot;ESR-COU-01-349…</td><td>&quot;VALOR BRUTO DE…</td><td>1</td></tr><tr><td>&quot;ESR&quot;</td><td>&quot;COU&quot;</td><td>&quot;01&quot;</td><td>&quot;VALOR BRUTO DE…</td><td>11321</td><td>&quot;ESR-COU-01-350…</td><td>&quot;VALOR BRUTO DE…</td><td>1</td></tr><tr><td>&quot;ESR&quot;</td><td>&quot;COU&quot;</td><td>&quot;01&quot;</td><td>&quot;VALOR BRUTO DE…</td><td>11325</td><td>&quot;ESR-COU-01-350…</td><td>&quot;VALOR BRUTO DE…</td><td>1</td></tr><tr><td>&quot;ESR&quot;</td><td>&quot;COU&quot;</td><td>&quot;01&quot;</td><td>&quot;VALOR BRUTO DE…</td><td>11345</td><td>&quot;ESR-COU-01-352…</td><td>&quot;VALOR BRUTO DE…</td><td>1</td></tr><tr><td>&quot;ESR&quot;</td><td>&quot;COU&quot;</td><td>&quot;01&quot;</td><td>&quot;VALOR BRUTO DE…</td><td>11400</td><td>&quot;ESR-COU-01-358…</td><td>&quot;VALOR BRUTO DE…</td><td>1</td></tr></tbody></table></div>"
      ],
      "text/plain": [
       "shape: (1_044, 8)\n",
       "┌──────────┬──────────┬──────────┬──────────────┬───────┬──────────────┬─────────────┬─────────────┐\n",
       "│ Niv_Gr_1 ┆ Niv_Gr_2 ┆ Niv_Gr_3 ┆ Niv_Descr_1  ┆ Id    ┆ Nombre       ┆ Descripcion ┆ N_Variables │\n",
       "│ ---      ┆ ---      ┆ ---      ┆ ---          ┆ ---   ┆ ---          ┆ ---         ┆ ---         │\n",
       "│ str      ┆ str      ┆ str      ┆ str          ┆ i64   ┆ str          ┆ str         ┆ u32         │\n",
       "╞══════════╪══════════╪══════════╪══════════════╪═══════╪══════════════╪═════════════╪═════════════╡\n",
       "│ ESR      ┆ COU      ┆ 01       ┆ VALOR BRUTO  ┆ 10386 ┆ ESR-COU-01-2 ┆ VALOR BRUTO ┆ 1           │\n",
       "│          ┆          ┆          ┆ DE           ┆       ┆ 569          ┆ DE PRODUCCI ┆             │\n",
       "│          ┆          ┆          ┆ PRODUCCIÓN   ┆       ┆              ┆ ÓN-ACEITE…  ┆             │\n",
       "│ ESR      ┆ COU      ┆ 01       ┆ VALOR BRUTO  ┆ 10395 ┆ ESR-COU-01-2 ┆ VALOR BRUTO ┆ 1           │\n",
       "│          ┆          ┆          ┆ DE           ┆       ┆ 578          ┆ DE PRODUCCI ┆             │\n",
       "│          ┆          ┆          ┆ PRODUCCIÓN   ┆       ┆              ┆ ÓN-ACEITE…  ┆             │\n",
       "│ ESR      ┆ COU      ┆ 01       ┆ VALOR BRUTO  ┆ 10403 ┆ ESR-COU-01-2 ┆ VALOR BRUTO ┆ 1           │\n",
       "│          ┆          ┆          ┆ DE           ┆       ┆ 586          ┆ DE PRODUCCI ┆             │\n",
       "│          ┆          ┆          ┆ PRODUCCIÓN   ┆       ┆              ┆ ÓN-ANIMAL…  ┆             │\n",
       "│ ESR      ┆ COU      ┆ 01       ┆ VALOR BRUTO  ┆ 10405 ┆ ESR-COU-01-2 ┆ VALOR BRUTO ┆ 1           │\n",
       "│          ┆          ┆          ┆ DE           ┆       ┆ 588          ┆ DE PRODUCCI ┆             │\n",
       "│          ┆          ┆          ┆ PRODUCCIÓN   ┆       ┆              ┆ ÓN-ANIMAL…  ┆             │\n",
       "│ ESR      ┆ COU      ┆ 01       ┆ VALOR BRUTO  ┆ 10435 ┆ ESR-COU-01-2 ┆ VALOR BRUTO ┆ 1           │\n",
       "│          ┆          ┆          ┆ DE           ┆       ┆ 618          ┆ DE PRODUCCI ┆             │\n",
       "│          ┆          ┆          ┆ PRODUCCIÓN   ┆       ┆              ┆ ÓN-AZÚCAR…  ┆             │\n",
       "│ …        ┆ …        ┆ …        ┆ …            ┆ …     ┆ …            ┆ …           ┆ …           │\n",
       "│ ESR      ┆ COU      ┆ 01       ┆ VALOR BRUTO  ┆ 11309 ┆ ESR-COU-01-3 ┆ VALOR BRUTO ┆ 1           │\n",
       "│          ┆          ┆          ┆ DE           ┆       ┆ 492          ┆ DE PRODUCCI ┆             │\n",
       "│          ┆          ┆          ┆ PRODUCCIÓN   ┆       ┆              ┆ ÓN-SUSTAN…  ┆             │\n",
       "│ ESR      ┆ COU      ┆ 01       ┆ VALOR BRUTO  ┆ 11321 ┆ ESR-COU-01-3 ┆ VALOR BRUTO ┆ 1           │\n",
       "│          ┆          ┆          ┆ DE           ┆       ┆ 504          ┆ DE PRODUCCI ┆             │\n",
       "│          ┆          ┆          ┆ PRODUCCIÓN   ┆       ┆              ┆ ÓN-TABACO…  ┆             │\n",
       "│ ESR      ┆ COU      ┆ 01       ┆ VALOR BRUTO  ┆ 11325 ┆ ESR-COU-01-3 ┆ VALOR BRUTO ┆ 1           │\n",
       "│          ┆          ┆          ┆ DE           ┆       ┆ 508          ┆ DE PRODUCCI ┆             │\n",
       "│          ┆          ┆          ┆ PRODUCCIÓN   ┆       ┆              ┆ ÓN-TABACO…  ┆             │\n",
       "│ ESR      ┆ COU      ┆ 01       ┆ VALOR BRUTO  ┆ 11345 ┆ ESR-COU-01-3 ┆ VALOR BRUTO ┆ 1           │\n",
       "│          ┆          ┆          ┆ DE           ┆       ┆ 528          ┆ DE PRODUCCI ┆             │\n",
       "│          ┆          ┆          ┆ PRODUCCIÓN   ┆       ┆              ┆ ÓN-TEXTIL…  ┆             │\n",
       "│ ESR      ┆ COU      ┆ 01       ┆ VALOR BRUTO  ┆ 11400 ┆ ESR-COU-01-3 ┆ VALOR BRUTO ┆ 1           │\n",
       "│          ┆          ┆          ┆ DE           ┆       ┆ 583          ┆ DE PRODUCCI ┆             │\n",
       "│          ┆          ┆          ┆ PRODUCCIÓN   ┆       ┆              ┆ ÓN-TUBÉRC…  ┆             │\n",
       "└──────────┴──────────┴──────────┴──────────────┴───────┴──────────────┴─────────────┴─────────────┘"
      ]
     },
     "execution_count": 23,
     "metadata": {},
     "output_type": "execute_result"
    }
   ],
   "source": [
    "res_nivel_7(\n",
    "    \"ESR\",\"COU\",\n",
    "    \"Niv_Gr_3\",\n",
    "    \"01\",\n",
    "    \"Niv_Descr_1\",\"Id\",\"Nombre\",\"Descripcion\").filter(pl.col(\"Niv_Descr_1\") == \"VALOR BRUTO DE PRODUCCIÓN\")"
   ]
  },
  {
   "cell_type": "markdown",
   "id": "c22151d8",
   "metadata": {},
   "source": [
    "Resultados de una sola variable:\n"
   ]
  },
  {
   "cell_type": "code",
   "execution_count": 24,
   "id": "9b13b91b",
   "metadata": {},
   "outputs": [
    {
     "name": "stderr",
     "output_type": "stream",
     "text": [
      "<string>:29: FutureWarning:\n",
      "\n",
      "Passing literal json to 'read_json' is deprecated and will be removed in a future version. To read from a literal string, wrap it in a 'StringIO' object.\n",
      "\n"
     ]
    },
    {
     "name": "stderr",
     "output_type": "stream",
     "text": [
      "<string>:29: FutureWarning:\n",
      "\n",
      "Passing literal json to 'read_json' is deprecated and will be removed in a future version. To read from a literal string, wrap it in a 'StringIO' object.\n",
      "\n"
     ]
    },
    {
     "data": {
      "text/html": [
       "<div><style>\n",
       ".dataframe > thead > tr,\n",
       ".dataframe > tbody > tr {\n",
       "  text-align: right;\n",
       "  white-space: pre-wrap;\n",
       "}\n",
       "</style>\n",
       "<small>shape: (23, 2)</small><table border=\"1\" class=\"dataframe\"><thead><tr><th>Fecha</th><th>VALOR BRUTO DE PRODUCCIÓN-ANIMALES VIVOS-INTERMEDIACIÓN FINANCIERA</th></tr><tr><td>date</td><td>i64</td></tr></thead><tbody><tr><td>2000-01-01</td><td>0</td></tr><tr><td>2001-01-01</td><td>0</td></tr><tr><td>2002-01-01</td><td>0</td></tr><tr><td>2003-01-01</td><td>0</td></tr><tr><td>2004-01-01</td><td>0</td></tr><tr><td>&hellip;</td><td>&hellip;</td></tr><tr><td>2018-01-01</td><td>0</td></tr><tr><td>2019-01-01</td><td>0</td></tr><tr><td>2020-01-01</td><td>0</td></tr><tr><td>2021-01-01</td><td>0</td></tr><tr><td>2022-01-01</td><td>0</td></tr></tbody></table></div>"
      ],
      "text/plain": [
       "shape: (23, 2)\n",
       "┌────────────┬───────────────────────────────────┐\n",
       "│ Fecha      ┆ VALOR BRUTO DE PRODUCCIÓN-ANIMAL… │\n",
       "│ ---        ┆ ---                               │\n",
       "│ date       ┆ i64                               │\n",
       "╞════════════╪═══════════════════════════════════╡\n",
       "│ 2000-01-01 ┆ 0                                 │\n",
       "│ 2001-01-01 ┆ 0                                 │\n",
       "│ 2002-01-01 ┆ 0                                 │\n",
       "│ 2003-01-01 ┆ 0                                 │\n",
       "│ 2004-01-01 ┆ 0                                 │\n",
       "│ …          ┆ …                                 │\n",
       "│ 2018-01-01 ┆ 0                                 │\n",
       "│ 2019-01-01 ┆ 0                                 │\n",
       "│ 2020-01-01 ┆ 0                                 │\n",
       "│ 2021-01-01 ┆ 0                                 │\n",
       "│ 2022-01-01 ┆ 0                                 │\n",
       "└────────────┴───────────────────────────────────┘"
      ]
     },
     "execution_count": 24,
     "metadata": {},
     "output_type": "execute_result"
    }
   ],
   "source": [
    "Id = 10410\n",
    "df = get_df(Id)\n",
    "# get_plot(Id)\n",
    "df"
   ]
  },
  {
   "cell_type": "markdown",
   "id": "3328c985",
   "metadata": {},
   "source": [
    "##### CONSUMO INTERMEDIO\n",
    "\n",
    "En el cuadro original, las filas son los productos a un nivel de dos dígitos de la Nomenclatura de Productos de Honduras (NPH) y las columnas son las actiivades económicas tomando en cuenta la Nomenclatura de Actividades Económicas de Honduras (NAEH).\n"
   ]
  },
  {
   "cell_type": "code",
   "execution_count": 25,
   "id": "532e0a80",
   "metadata": {},
   "outputs": [
    {
     "name": "stderr",
     "output_type": "stream",
     "text": [
      "<string>:29: FutureWarning:\n",
      "\n",
      "Passing literal json to 'read_json' is deprecated and will be removed in a future version. To read from a literal string, wrap it in a 'StringIO' object.\n",
      "\n"
     ]
    },
    {
     "data": {
      "text/html": [
       "<div><style>\n",
       ".dataframe > thead > tr,\n",
       ".dataframe > tbody > tr {\n",
       "  text-align: right;\n",
       "  white-space: pre-wrap;\n",
       "}\n",
       "</style>\n",
       "<small>shape: (1_044, 8)</small><table border=\"1\" class=\"dataframe\"><thead><tr><th>Niv_Gr_1</th><th>Niv_Gr_2</th><th>Niv_Gr_3</th><th>Niv_Descr_1</th><th>Id</th><th>Nombre</th><th>Descripcion</th><th>N_Variables</th></tr><tr><td>str</td><td>str</td><td>str</td><td>str</td><td>i64</td><td>str</td><td>str</td><td>u32</td></tr></thead><tbody><tr><td>&quot;ESR&quot;</td><td>&quot;COU&quot;</td><td>&quot;01&quot;</td><td>&quot;CONSUMO INTERM…</td><td>7838</td><td>&quot;ESR-COU-01-21&quot;</td><td>&quot;CONSUMO INTERM…</td><td>1</td></tr><tr><td>&quot;ESR&quot;</td><td>&quot;COU&quot;</td><td>&quot;01&quot;</td><td>&quot;CONSUMO INTERM…</td><td>7866</td><td>&quot;ESR-COU-01-49&quot;</td><td>&quot;CONSUMO INTERM…</td><td>1</td></tr><tr><td>&quot;ESR&quot;</td><td>&quot;COU&quot;</td><td>&quot;01&quot;</td><td>&quot;CONSUMO INTERM…</td><td>7874</td><td>&quot;ESR-COU-01-57&quot;</td><td>&quot;CONSUMO INTERM…</td><td>1</td></tr><tr><td>&quot;ESR&quot;</td><td>&quot;COU&quot;</td><td>&quot;01&quot;</td><td>&quot;CONSUMO INTERM…</td><td>7875</td><td>&quot;ESR-COU-01-58&quot;</td><td>&quot;CONSUMO INTERM…</td><td>1</td></tr><tr><td>&quot;ESR&quot;</td><td>&quot;COU&quot;</td><td>&quot;01&quot;</td><td>&quot;CONSUMO INTERM…</td><td>7879</td><td>&quot;ESR-COU-01-62&quot;</td><td>&quot;CONSUMO INTERM…</td><td>1</td></tr><tr><td>&hellip;</td><td>&hellip;</td><td>&hellip;</td><td>&hellip;</td><td>&hellip;</td><td>&hellip;</td><td>&hellip;</td><td>&hellip;</td></tr><tr><td>&quot;ESR&quot;</td><td>&quot;COU&quot;</td><td>&quot;01&quot;</td><td>&quot;CONSUMO INTERM…</td><td>8727</td><td>&quot;ESR-COU-01-910…</td><td>&quot;CONSUMO INTERM…</td><td>1</td></tr><tr><td>&quot;ESR&quot;</td><td>&quot;COU&quot;</td><td>&quot;01&quot;</td><td>&quot;CONSUMO INTERM…</td><td>8788</td><td>&quot;ESR-COU-01-971…</td><td>&quot;CONSUMO INTERM…</td><td>1</td></tr><tr><td>&quot;ESR&quot;</td><td>&quot;COU&quot;</td><td>&quot;01&quot;</td><td>&quot;CONSUMO INTERM…</td><td>8793</td><td>&quot;ESR-COU-01-976…</td><td>&quot;CONSUMO INTERM…</td><td>1</td></tr><tr><td>&quot;ESR&quot;</td><td>&quot;COU&quot;</td><td>&quot;01&quot;</td><td>&quot;CONSUMO INTERM…</td><td>8812</td><td>&quot;ESR-COU-01-995…</td><td>&quot;CONSUMO INTERM…</td><td>1</td></tr><tr><td>&quot;ESR&quot;</td><td>&quot;COU&quot;</td><td>&quot;01&quot;</td><td>&quot;CONSUMO INTERM…</td><td>8813</td><td>&quot;ESR-COU-01-996…</td><td>&quot;CONSUMO INTERM…</td><td>1</td></tr></tbody></table></div>"
      ],
      "text/plain": [
       "shape: (1_044, 8)\n",
       "┌──────────┬──────────┬──────────┬──────────────┬──────┬──────────────┬──────────────┬─────────────┐\n",
       "│ Niv_Gr_1 ┆ Niv_Gr_2 ┆ Niv_Gr_3 ┆ Niv_Descr_1  ┆ Id   ┆ Nombre       ┆ Descripcion  ┆ N_Variables │\n",
       "│ ---      ┆ ---      ┆ ---      ┆ ---          ┆ ---  ┆ ---          ┆ ---          ┆ ---         │\n",
       "│ str      ┆ str      ┆ str      ┆ str          ┆ i64  ┆ str          ┆ str          ┆ u32         │\n",
       "╞══════════╪══════════╪══════════╪══════════════╪══════╪══════════════╪══════════════╪═════════════╡\n",
       "│ ESR      ┆ COU      ┆ 01       ┆ CONSUMO      ┆ 7838 ┆ ESR-COU-01-2 ┆ CONSUMO INTE ┆ 1           │\n",
       "│          ┆          ┆          ┆ INTERMEDIO   ┆      ┆ 1            ┆ RMEDIO-ANIMA ┆             │\n",
       "│          ┆          ┆          ┆              ┆      ┆              ┆ LES VIVO…    ┆             │\n",
       "│ ESR      ┆ COU      ┆ 01       ┆ CONSUMO      ┆ 7866 ┆ ESR-COU-01-4 ┆ CONSUMO INTE ┆ 1           │\n",
       "│          ┆          ┆          ┆ INTERMEDIO   ┆      ┆ 9            ┆ RMEDIO-AZÚCA ┆             │\n",
       "│          ┆          ┆          ┆              ┆      ┆              ┆ R Y MELA…    ┆             │\n",
       "│ ESR      ┆ COU      ┆ 01       ┆ CONSUMO      ┆ 7874 ┆ ESR-COU-01-5 ┆ CONSUMO INTE ┆ 1           │\n",
       "│          ┆          ┆          ┆ INTERMEDIO   ┆      ┆ 7            ┆ RMEDIO-BANAN ┆             │\n",
       "│          ┆          ┆          ┆              ┆      ┆              ┆ OS-AGRIC…    ┆             │\n",
       "│ ESR      ┆ COU      ┆ 01       ┆ CONSUMO      ┆ 7875 ┆ ESR-COU-01-5 ┆ CONSUMO INTE ┆ 1           │\n",
       "│          ┆          ┆          ┆ INTERMEDIO   ┆      ┆ 8            ┆ RMEDIO-BANAN ┆             │\n",
       "│          ┆          ┆          ┆              ┆      ┆              ┆ OS-COMER…    ┆             │\n",
       "│ ESR      ┆ COU      ┆ 01       ┆ CONSUMO      ┆ 7879 ┆ ESR-COU-01-6 ┆ CONSUMO INTE ┆ 1           │\n",
       "│          ┆          ┆          ┆ INTERMEDIO   ┆      ┆ 2            ┆ RMEDIO-BANAN ┆             │\n",
       "│          ┆          ┆          ┆              ┆      ┆              ┆ OS-EXPLO…    ┆             │\n",
       "│ …        ┆ …        ┆ …        ┆ …            ┆ …    ┆ …            ┆ …            ┆ …           │\n",
       "│ ESR      ┆ COU      ┆ 01       ┆ CONSUMO      ┆ 8727 ┆ ESR-COU-01-9 ┆ CONSUMO INTE ┆ 1           │\n",
       "│          ┆          ┆          ┆ INTERMEDIO   ┆      ┆ 10           ┆ RMEDIO-SERVI ┆             │\n",
       "│          ┆          ┆          ┆              ┆      ┆              ┆ CIOS PRO…    ┆             │\n",
       "│ ESR      ┆ COU      ┆ 01       ┆ CONSUMO      ┆ 8788 ┆ ESR-COU-01-9 ┆ CONSUMO INTE ┆ 1           │\n",
       "│          ┆          ┆          ┆ INTERMEDIO   ┆      ┆ 71           ┆ RMEDIO-TEXTI ┆             │\n",
       "│          ┆          ┆          ┆              ┆      ┆              ┆ LES, PRE…    ┆             │\n",
       "│ ESR      ┆ COU      ┆ 01       ┆ CONSUMO      ┆ 8793 ┆ ESR-COU-01-9 ┆ CONSUMO INTE ┆ 1           │\n",
       "│          ┆          ┆          ┆ INTERMEDIO   ┆      ┆ 76           ┆ RMEDIO-TOTAL ┆             │\n",
       "│          ┆          ┆          ┆              ┆      ┆              ┆ -COMERCI…    ┆             │\n",
       "│ ESR      ┆ COU      ┆ 01       ┆ CONSUMO      ┆ 8812 ┆ ESR-COU-01-9 ┆ CONSUMO INTE ┆ 1           │\n",
       "│          ┆          ┆          ┆ INTERMEDIO   ┆      ┆ 95           ┆ RMEDIO-TRIGO ┆             │\n",
       "│          ┆          ┆          ┆              ┆      ┆              ┆ -COMUNIC…    ┆             │\n",
       "│ ESR      ┆ COU      ┆ 01       ┆ CONSUMO      ┆ 8813 ┆ ESR-COU-01-9 ┆ CONSUMO INTE ┆ 1           │\n",
       "│          ┆          ┆          ┆ INTERMEDIO   ┆      ┆ 96           ┆ RMEDIO-TRIGO ┆             │\n",
       "│          ┆          ┆          ┆              ┆      ┆              ┆ -CONSTRU…    ┆             │\n",
       "└──────────┴──────────┴──────────┴──────────────┴──────┴──────────────┴──────────────┴─────────────┘"
      ]
     },
     "execution_count": 25,
     "metadata": {},
     "output_type": "execute_result"
    }
   ],
   "source": [
    "res_nivel_7(\n",
    "    \"ESR\",\"COU\",\n",
    "    \"Niv_Gr_3\",\n",
    "    \"01\",\n",
    "    \"Niv_Descr_1\",\"Id\",\"Nombre\",\"Descripcion\").filter(pl.col(\"Niv_Descr_1\") == \"CONSUMO INTERMEDIO\")"
   ]
  },
  {
   "cell_type": "markdown",
   "id": "042efd4f",
   "metadata": {},
   "source": [
    "Resultados de una sola variable:\n"
   ]
  },
  {
   "cell_type": "code",
   "execution_count": 26,
   "id": "c0a90edf",
   "metadata": {},
   "outputs": [
    {
     "name": "stderr",
     "output_type": "stream",
     "text": [
      "<string>:29: FutureWarning:\n",
      "\n",
      "Passing literal json to 'read_json' is deprecated and will be removed in a future version. To read from a literal string, wrap it in a 'StringIO' object.\n",
      "\n"
     ]
    },
    {
     "name": "stderr",
     "output_type": "stream",
     "text": [
      "<string>:29: FutureWarning:\n",
      "\n",
      "Passing literal json to 'read_json' is deprecated and will be removed in a future version. To read from a literal string, wrap it in a 'StringIO' object.\n",
      "\n"
     ]
    },
    {
     "data": {
      "text/html": [
       "<div><style>\n",
       ".dataframe > thead > tr,\n",
       ".dataframe > tbody > tr {\n",
       "  text-align: right;\n",
       "  white-space: pre-wrap;\n",
       "}\n",
       "</style>\n",
       "<small>shape: (23, 2)</small><table border=\"1\" class=\"dataframe\"><thead><tr><th>Fecha</th><th>CONSUMO INTERMEDIO-ACEITES Y GRASAS ANIMALES Y VEGETALES-TRANSPORTE Y ALMACENAMIENTO</th></tr><tr><td>date</td><td>i64</td></tr></thead><tbody><tr><td>2000-01-01</td><td>0</td></tr><tr><td>2001-01-01</td><td>0</td></tr><tr><td>2002-01-01</td><td>0</td></tr><tr><td>2003-01-01</td><td>0</td></tr><tr><td>2004-01-01</td><td>0</td></tr><tr><td>&hellip;</td><td>&hellip;</td></tr><tr><td>2018-01-01</td><td>0</td></tr><tr><td>2019-01-01</td><td>0</td></tr><tr><td>2020-01-01</td><td>0</td></tr><tr><td>2021-01-01</td><td>0</td></tr><tr><td>2022-01-01</td><td>0</td></tr></tbody></table></div>"
      ],
      "text/plain": [
       "shape: (23, 2)\n",
       "┌────────────┬───────────────────────────────────┐\n",
       "│ Fecha      ┆ CONSUMO INTERMEDIO-ACEITES Y GRA… │\n",
       "│ ---        ┆ ---                               │\n",
       "│ date       ┆ i64                               │\n",
       "╞════════════╪═══════════════════════════════════╡\n",
       "│ 2000-01-01 ┆ 0                                 │\n",
       "│ 2001-01-01 ┆ 0                                 │\n",
       "│ 2002-01-01 ┆ 0                                 │\n",
       "│ 2003-01-01 ┆ 0                                 │\n",
       "│ 2004-01-01 ┆ 0                                 │\n",
       "│ …          ┆ …                                 │\n",
       "│ 2018-01-01 ┆ 0                                 │\n",
       "│ 2019-01-01 ┆ 0                                 │\n",
       "│ 2020-01-01 ┆ 0                                 │\n",
       "│ 2021-01-01 ┆ 0                                 │\n",
       "│ 2022-01-01 ┆ 0                                 │\n",
       "└────────────┴───────────────────────────────────┘"
      ]
     },
     "execution_count": 26,
     "metadata": {},
     "output_type": "execute_result"
    }
   ],
   "source": [
    "Id = 7835\n",
    "df = get_df(Id)\n",
    "# get_plot(Id)\n",
    "df"
   ]
  },
  {
   "cell_type": "markdown",
   "id": "d5f2c51a",
   "metadata": {},
   "source": [
    "##### VALOR AGREGADO\n",
    "\n",
    "En el cuadro original, las filas son los elementos indispensables para calcular el Valor Agregado Bruto, VAB (Remuneración de los Asalariados, Impuestos sobre la Producción y las Importaciones, Subvenciones, Excedente de Explotación, Ingreso Mixto y Consumo de Capital Fijo) y las columnas son las actiivades económicas tomando en cuenta la Nomenclatura de Actividades Económicas de Honduras (NAEH).\n"
   ]
  },
  {
   "cell_type": "code",
   "execution_count": 27,
   "id": "38ebded7",
   "metadata": {},
   "outputs": [
    {
     "name": "stderr",
     "output_type": "stream",
     "text": [
      "<string>:29: FutureWarning:\n",
      "\n",
      "Passing literal json to 'read_json' is deprecated and will be removed in a future version. To read from a literal string, wrap it in a 'StringIO' object.\n",
      "\n"
     ]
    },
    {
     "data": {
      "text/html": [
       "<div><style>\n",
       ".dataframe > thead > tr,\n",
       ".dataframe > tbody > tr {\n",
       "  text-align: right;\n",
       "  white-space: pre-wrap;\n",
       "}\n",
       "</style>\n",
       "<small>shape: (360, 8)</small><table border=\"1\" class=\"dataframe\"><thead><tr><th>Niv_Gr_1</th><th>Niv_Gr_2</th><th>Niv_Gr_3</th><th>Niv_Descr_1</th><th>Id</th><th>Nombre</th><th>Descripcion</th><th>N_Variables</th></tr><tr><td>str</td><td>str</td><td>str</td><td>str</td><td>i64</td><td>str</td><td>str</td><td>u32</td></tr></thead><tbody><tr><td>&quot;ESR&quot;</td><td>&quot;COU&quot;</td><td>&quot;01&quot;</td><td>&quot;VALOR AGREGADO…</td><td>10030</td><td>&quot;ESR-COU-01-221…</td><td>&quot;VALOR AGREGADO…</td><td>1</td></tr><tr><td>&quot;ESR&quot;</td><td>&quot;COU&quot;</td><td>&quot;01&quot;</td><td>&quot;VALOR AGREGADO…</td><td>10124</td><td>&quot;ESR-COU-01-230…</td><td>&quot;VALOR AGREGADO…</td><td>1</td></tr><tr><td>&quot;ESR&quot;</td><td>&quot;COU&quot;</td><td>&quot;01&quot;</td><td>&quot;VALOR AGREGADO…</td><td>10134</td><td>&quot;ESR-COU-01-231…</td><td>&quot;VALOR AGREGADO…</td><td>1</td></tr><tr><td>&quot;ESR&quot;</td><td>&quot;COU&quot;</td><td>&quot;01&quot;</td><td>&quot;VALOR AGREGADO…</td><td>10148</td><td>&quot;ESR-COU-01-233…</td><td>&quot;VALOR AGREGADO…</td><td>1</td></tr><tr><td>&quot;ESR&quot;</td><td>&quot;COU&quot;</td><td>&quot;01&quot;</td><td>&quot;VALOR AGREGADO…</td><td>10153</td><td>&quot;ESR-COU-01-233…</td><td>&quot;VALOR AGREGADO…</td><td>1</td></tr><tr><td>&hellip;</td><td>&hellip;</td><td>&hellip;</td><td>&hellip;</td><td>&hellip;</td><td>&hellip;</td><td>&hellip;</td><td>&hellip;</td></tr><tr><td>&quot;ESR&quot;</td><td>&quot;COU&quot;</td><td>&quot;01&quot;</td><td>&quot;VALOR AGREGADO…</td><td>10291</td><td>&quot;ESR-COU-01-247…</td><td>&quot;VALOR AGREGADO…</td><td>1</td></tr><tr><td>&quot;ESR&quot;</td><td>&quot;COU&quot;</td><td>&quot;01&quot;</td><td>&quot;VALOR AGREGADO…</td><td>10303</td><td>&quot;ESR-COU-01-248…</td><td>&quot;VALOR AGREGADO…</td><td>1</td></tr><tr><td>&quot;ESR&quot;</td><td>&quot;COU&quot;</td><td>&quot;01&quot;</td><td>&quot;VALOR AGREGADO…</td><td>10330</td><td>&quot;ESR-COU-01-251…</td><td>&quot;VALOR AGREGADO…</td><td>1</td></tr><tr><td>&quot;ESR&quot;</td><td>&quot;COU&quot;</td><td>&quot;01&quot;</td><td>&quot;VALOR AGREGADO…</td><td>10357</td><td>&quot;ESR-COU-01-254…</td><td>&quot;VALOR AGREGADO…</td><td>1</td></tr><tr><td>&quot;ESR&quot;</td><td>&quot;COU&quot;</td><td>&quot;01&quot;</td><td>&quot;VALOR AGREGADO…</td><td>10374</td><td>&quot;ESR-COU-01-255…</td><td>&quot;VALOR AGREGADO…</td><td>1</td></tr></tbody></table></div>"
      ],
      "text/plain": [
       "shape: (360, 8)\n",
       "┌──────────┬──────────┬──────────┬──────────────┬───────┬──────────────┬─────────────┬─────────────┐\n",
       "│ Niv_Gr_1 ┆ Niv_Gr_2 ┆ Niv_Gr_3 ┆ Niv_Descr_1  ┆ Id    ┆ Nombre       ┆ Descripcion ┆ N_Variables │\n",
       "│ ---      ┆ ---      ┆ ---      ┆ ---          ┆ ---   ┆ ---          ┆ ---         ┆ ---         │\n",
       "│ str      ┆ str      ┆ str      ┆ str          ┆ i64   ┆ str          ┆ str         ┆ u32         │\n",
       "╞══════════╪══════════╪══════════╪══════════════╪═══════╪══════════════╪═════════════╪═════════════╡\n",
       "│ ESR      ┆ COU      ┆ 01       ┆ VALOR        ┆ 10030 ┆ ESR-COU-01-2 ┆ VALOR AGREG ┆ 1           │\n",
       "│          ┆          ┆          ┆ AGREGADO     ┆       ┆ 213          ┆ ADO-CONSUMO ┆             │\n",
       "│          ┆          ┆          ┆              ┆       ┆              ┆ DE CAPITA…  ┆             │\n",
       "│ ESR      ┆ COU      ┆ 01       ┆ VALOR        ┆ 10124 ┆ ESR-COU-01-2 ┆ VALOR AGREG ┆ 1           │\n",
       "│          ┆          ┆          ┆ AGREGADO     ┆       ┆ 307          ┆ ADO-EXCEDEN ┆             │\n",
       "│          ┆          ┆          ┆              ┆       ┆              ┆ TE DE EXPL… ┆             │\n",
       "│ ESR      ┆ COU      ┆ 01       ┆ VALOR        ┆ 10134 ┆ ESR-COU-01-2 ┆ VALOR AGREG ┆ 1           │\n",
       "│          ┆          ┆          ┆ AGREGADO     ┆       ┆ 317          ┆ ADO-EXCEDEN ┆             │\n",
       "│          ┆          ┆          ┆              ┆       ┆              ┆ TE DE EXPL… ┆             │\n",
       "│ ESR      ┆ COU      ┆ 01       ┆ VALOR        ┆ 10148 ┆ ESR-COU-01-2 ┆ VALOR AGREG ┆ 1           │\n",
       "│          ┆          ┆          ┆ AGREGADO     ┆       ┆ 331          ┆ ADO-IMPUEST ┆             │\n",
       "│          ┆          ┆          ┆              ┆       ┆              ┆ OS SOBRE L… ┆             │\n",
       "│ ESR      ┆ COU      ┆ 01       ┆ VALOR        ┆ 10153 ┆ ESR-COU-01-2 ┆ VALOR AGREG ┆ 1           │\n",
       "│          ┆          ┆          ┆ AGREGADO     ┆       ┆ 336          ┆ ADO-IMPUEST ┆             │\n",
       "│          ┆          ┆          ┆              ┆       ┆              ┆ OS SOBRE L… ┆             │\n",
       "│ …        ┆ …        ┆ …        ┆ …            ┆ …     ┆ …            ┆ …           ┆ …           │\n",
       "│ ESR      ┆ COU      ┆ 01       ┆ VALOR        ┆ 10291 ┆ ESR-COU-01-2 ┆ VALOR AGREG ┆ 1           │\n",
       "│          ┆          ┆          ┆ AGREGADO     ┆       ┆ 474          ┆ ADO-SUBVENC ┆             │\n",
       "│          ┆          ┆          ┆              ┆       ┆              ┆ IONES (-)-… ┆             │\n",
       "│ ESR      ┆ COU      ┆ 01       ┆ VALOR        ┆ 10303 ┆ ESR-COU-01-2 ┆ VALOR AGREG ┆ 1           │\n",
       "│          ┆          ┆          ┆ AGREGADO     ┆       ┆ 486          ┆ ADO-SUBVENC ┆             │\n",
       "│          ┆          ┆          ┆              ┆       ┆              ┆ IONES A LO… ┆             │\n",
       "│ ESR      ┆ COU      ┆ 01       ┆ VALOR        ┆ 10330 ┆ ESR-COU-01-2 ┆ VALOR AGREG ┆ 1           │\n",
       "│          ┆          ┆          ┆ AGREGADO     ┆       ┆ 513          ┆ ADO-SUELDOS ┆             │\n",
       "│          ┆          ┆          ┆              ┆       ┆              ┆ Y SALARIO…  ┆             │\n",
       "│ ESR      ┆ COU      ┆ 01       ┆ VALOR        ┆ 10357 ┆ ESR-COU-01-2 ┆ VALOR AGREG ┆ 1           │\n",
       "│          ┆          ┆          ┆ AGREGADO     ┆       ┆ 540          ┆ ADO-SUELDOS ┆             │\n",
       "│          ┆          ┆          ┆              ┆       ┆              ┆ Y SALARIO…  ┆             │\n",
       "│ ESR      ┆ COU      ┆ 01       ┆ VALOR        ┆ 10374 ┆ ESR-COU-01-2 ┆ VALOR AGREG ┆ 1           │\n",
       "│          ┆          ┆          ┆ AGREGADO     ┆       ┆ 557          ┆ ADO-VALOR   ┆             │\n",
       "│          ┆          ┆          ┆              ┆       ┆              ┆ AGREGADO    ┆             │\n",
       "│          ┆          ┆          ┆              ┆       ┆              ┆ BR…         ┆             │\n",
       "└──────────┴──────────┴──────────┴──────────────┴───────┴──────────────┴─────────────┴─────────────┘"
      ]
     },
     "execution_count": 27,
     "metadata": {},
     "output_type": "execute_result"
    }
   ],
   "source": [
    "res_nivel_7(\n",
    "    \"ESR\",\"COU\",\n",
    "    \"Niv_Gr_3\",\n",
    "    \"01\",\n",
    "    \"Niv_Descr_1\",\"Id\",\"Nombre\",\"Descripcion\").filter(pl.col(\"Niv_Descr_1\") == \"VALOR AGREGADO\")"
   ]
  },
  {
   "cell_type": "markdown",
   "id": "921c48ed",
   "metadata": {},
   "source": [
    "Resultados de una sola variable:\n"
   ]
  },
  {
   "cell_type": "code",
   "execution_count": 28,
   "id": "959a0b06",
   "metadata": {},
   "outputs": [
    {
     "name": "stderr",
     "output_type": "stream",
     "text": [
      "<string>:29: FutureWarning:\n",
      "\n",
      "Passing literal json to 'read_json' is deprecated and will be removed in a future version. To read from a literal string, wrap it in a 'StringIO' object.\n",
      "\n"
     ]
    },
    {
     "name": "stderr",
     "output_type": "stream",
     "text": [
      "<string>:29: FutureWarning:\n",
      "\n",
      "Passing literal json to 'read_json' is deprecated and will be removed in a future version. To read from a literal string, wrap it in a 'StringIO' object.\n",
      "\n"
     ]
    },
    {
     "data": {
      "text/html": [
       "<div><style>\n",
       ".dataframe > thead > tr,\n",
       ".dataframe > tbody > tr {\n",
       "  text-align: right;\n",
       "  white-space: pre-wrap;\n",
       "}\n",
       "</style>\n",
       "<small>shape: (23, 2)</small><table border=\"1\" class=\"dataframe\"><thead><tr><th>Fecha</th><th>VALOR AGREGADO-CONSUMO DE CAPITAL FIJO NO SOCIEDADES-AGRICULTURA, GANADERIA, CAZA, SILVICULTURA Y PESCA</th></tr><tr><td>date</td><td>f64</td></tr></thead><tbody><tr><td>2000-01-01</td><td>502.5586</td></tr><tr><td>2001-01-01</td><td>99.3346</td></tr><tr><td>2002-01-01</td><td>111.2838</td></tr><tr><td>2003-01-01</td><td>118.6011</td></tr><tr><td>2004-01-01</td><td>119.6569</td></tr><tr><td>&hellip;</td><td>&hellip;</td></tr><tr><td>2018-01-01</td><td>180.6</td></tr><tr><td>2019-01-01</td><td>157.9</td></tr><tr><td>2020-01-01</td><td>152.9</td></tr><tr><td>2021-01-01</td><td>150.3</td></tr><tr><td>2022-01-01</td><td>158.3</td></tr></tbody></table></div>"
      ],
      "text/plain": [
       "shape: (23, 2)\n",
       "┌────────────┬───────────────────────────────────┐\n",
       "│ Fecha      ┆ VALOR AGREGADO-CONSUMO DE CAPITA… │\n",
       "│ ---        ┆ ---                               │\n",
       "│ date       ┆ f64                               │\n",
       "╞════════════╪═══════════════════════════════════╡\n",
       "│ 2000-01-01 ┆ 502.5586                          │\n",
       "│ 2001-01-01 ┆ 99.3346                           │\n",
       "│ 2002-01-01 ┆ 111.2838                          │\n",
       "│ 2003-01-01 ┆ 118.6011                          │\n",
       "│ 2004-01-01 ┆ 119.6569                          │\n",
       "│ …          ┆ …                                 │\n",
       "│ 2018-01-01 ┆ 180.6                             │\n",
       "│ 2019-01-01 ┆ 157.9                             │\n",
       "│ 2020-01-01 ┆ 152.9                             │\n",
       "│ 2021-01-01 ┆ 150.3                             │\n",
       "│ 2022-01-01 ┆ 158.3                             │\n",
       "└────────────┴───────────────────────────────────┘"
      ]
     },
     "execution_count": 28,
     "metadata": {},
     "output_type": "execute_result"
    }
   ],
   "source": [
    "Id = 10024\n",
    "df = get_df(Id)\n",
    "# get_plot(Id)\n",
    "df"
   ]
  },
  {
   "cell_type": "markdown",
   "id": "66f41336",
   "metadata": {},
   "source": [
    "##### OFERTA\n",
    "\n",
    "En el cuadro original, las filas son los productos a un nivel de dos dígitos de la Nomenclatura de Productos de Honduras (NPH) y las columnas son los componentes de la Oferta Agregada a Precios de Comprador (Producción, Importaciones CIF, Ajuste CIF/FOB, Impuestos y Subvenciones a los Productos y Márgenes de Distribución).\n"
   ]
  },
  {
   "cell_type": "code",
   "execution_count": 29,
   "id": "34aba97d",
   "metadata": {},
   "outputs": [
    {
     "name": "stderr",
     "output_type": "stream",
     "text": [
      "<string>:29: FutureWarning:\n",
      "\n",
      "Passing literal json to 'read_json' is deprecated and will be removed in a future version. To read from a literal string, wrap it in a 'StringIO' object.\n",
      "\n"
     ]
    },
    {
     "data": {
      "text/html": [
       "<div><style>\n",
       ".dataframe > thead > tr,\n",
       ".dataframe > tbody > tr {\n",
       "  text-align: right;\n",
       "  white-space: pre-wrap;\n",
       "}\n",
       "</style>\n",
       "<small>shape: (580, 8)</small><table border=\"1\" class=\"dataframe\"><thead><tr><th>Niv_Gr_1</th><th>Niv_Gr_2</th><th>Niv_Gr_3</th><th>Niv_Descr_1</th><th>Id</th><th>Nombre</th><th>Descripcion</th><th>N_Variables</th></tr><tr><td>str</td><td>str</td><td>str</td><td>str</td><td>i64</td><td>str</td><td>str</td><td>u32</td></tr></thead><tbody><tr><td>&quot;ESR&quot;</td><td>&quot;COU&quot;</td><td>&quot;01&quot;</td><td>&quot;OFERTA&quot;</td><td>8884</td><td>&quot;ESR-COU-01-106…</td><td>&quot;OFERTA-AZÚCAR …</td><td>1</td></tr><tr><td>&quot;ESR&quot;</td><td>&quot;COU&quot;</td><td>&quot;01&quot;</td><td>&quot;OFERTA&quot;</td><td>8916</td><td>&quot;ESR-COU-01-109…</td><td>&quot;OFERTA-CACAO, …</td><td>1</td></tr><tr><td>&quot;ESR&quot;</td><td>&quot;COU&quot;</td><td>&quot;01&quot;</td><td>&quot;OFERTA&quot;</td><td>8918</td><td>&quot;ESR-COU-01-110…</td><td>&quot;OFERTA-CACAO, …</td><td>1</td></tr><tr><td>&quot;ESR&quot;</td><td>&quot;COU&quot;</td><td>&quot;01&quot;</td><td>&quot;OFERTA&quot;</td><td>8932</td><td>&quot;ESR-COU-01-111…</td><td>&quot;OFERTA-CARNE Y…</td><td>1</td></tr><tr><td>&quot;ESR&quot;</td><td>&quot;COU&quot;</td><td>&quot;01&quot;</td><td>&quot;OFERTA&quot;</td><td>8966</td><td>&quot;ESR-COU-01-114…</td><td>&quot;OFERTA-CONSTRU…</td><td>1</td></tr><tr><td>&hellip;</td><td>&hellip;</td><td>&hellip;</td><td>&hellip;</td><td>&hellip;</td><td>&hellip;</td><td>&hellip;</td><td>&hellip;</td></tr><tr><td>&quot;ESR&quot;</td><td>&quot;COU&quot;</td><td>&quot;01&quot;</td><td>&quot;OFERTA&quot;</td><td>9391</td><td>&quot;ESR-COU-01-157…</td><td>&quot;OFERTA-TABACO …</td><td>1</td></tr><tr><td>&quot;ESR&quot;</td><td>&quot;COU&quot;</td><td>&quot;01&quot;</td><td>&quot;OFERTA&quot;</td><td>9392</td><td>&quot;ESR-COU-01-157…</td><td>&quot;OFERTA-TEXTILE…</td><td>1</td></tr><tr><td>&quot;ESR&quot;</td><td>&quot;COU&quot;</td><td>&quot;01&quot;</td><td>&quot;OFERTA&quot;</td><td>9415</td><td>&quot;ESR-COU-01-159…</td><td>&quot;OFERTA-TRIGO-M…</td><td>1</td></tr><tr><td>&quot;ESR&quot;</td><td>&quot;COU&quot;</td><td>&quot;01&quot;</td><td>&quot;OFERTA&quot;</td><td>9424</td><td>&quot;ESR-COU-01-160…</td><td>&quot;OFERTA-TUBÉRCU…</td><td>1</td></tr><tr><td>&quot;ESR&quot;</td><td>&quot;COU&quot;</td><td>&quot;01&quot;</td><td>&quot;OFERTA&quot;</td><td>9437</td><td>&quot;ESR-COU-01-162…</td><td>&quot;OFERTA-VIDRIO,…</td><td>1</td></tr></tbody></table></div>"
      ],
      "text/plain": [
       "shape: (580, 8)\n",
       "┌──────────┬──────────┬──────────┬─────────────┬──────┬───────────────┬──────────────┬─────────────┐\n",
       "│ Niv_Gr_1 ┆ Niv_Gr_2 ┆ Niv_Gr_3 ┆ Niv_Descr_1 ┆ Id   ┆ Nombre        ┆ Descripcion  ┆ N_Variables │\n",
       "│ ---      ┆ ---      ┆ ---      ┆ ---         ┆ ---  ┆ ---           ┆ ---          ┆ ---         │\n",
       "│ str      ┆ str      ┆ str      ┆ str         ┆ i64  ┆ str           ┆ str          ┆ u32         │\n",
       "╞══════════╪══════════╪══════════╪═════════════╪══════╪═══════════════╪══════════════╪═════════════╡\n",
       "│ ESR      ┆ COU      ┆ 01       ┆ OFERTA      ┆ 8884 ┆ ESR-COU-01-10 ┆ OFERTA-AZÚCA ┆ 1           │\n",
       "│          ┆          ┆          ┆             ┆      ┆ 67            ┆ R Y MELAZAS- ┆             │\n",
       "│          ┆          ┆          ┆             ┆      ┆               ┆ IMPUESTO…    ┆             │\n",
       "│ ESR      ┆ COU      ┆ 01       ┆ OFERTA      ┆ 8916 ┆ ESR-COU-01-10 ┆ OFERTA-CACAO ┆ 1           │\n",
       "│          ┆          ┆          ┆             ┆      ┆ 99            ┆ , CHOCOLATE  ┆             │\n",
       "│          ┆          ┆          ┆             ┆      ┆               ┆ Y ARTÍCU…    ┆             │\n",
       "│ ESR      ┆ COU      ┆ 01       ┆ OFERTA      ┆ 8918 ┆ ESR-COU-01-11 ┆ OFERTA-CACAO ┆ 1           │\n",
       "│          ┆          ┆          ┆             ┆      ┆ 01            ┆ , CHOCOLATE  ┆             │\n",
       "│          ┆          ┆          ┆             ┆      ┆               ┆ Y ARTÍCU…    ┆             │\n",
       "│ ESR      ┆ COU      ┆ 01       ┆ OFERTA      ┆ 8932 ┆ ESR-COU-01-11 ┆ OFERTA-CARNE ┆ 1           │\n",
       "│          ┆          ┆          ┆             ┆      ┆ 15            ┆ Y PRODUCTOS  ┆             │\n",
       "│          ┆          ┆          ┆             ┆      ┆               ┆ DE CARN…     ┆             │\n",
       "│ ESR      ┆ COU      ┆ 01       ┆ OFERTA      ┆ 8966 ┆ ESR-COU-01-11 ┆ OFERTA-CONST ┆ 1           │\n",
       "│          ┆          ┆          ┆             ┆      ┆ 49            ┆ RUCCIÓN-MARG ┆             │\n",
       "│          ┆          ┆          ┆             ┆      ┆               ┆ EN DE TR…    ┆             │\n",
       "│ …        ┆ …        ┆ …        ┆ …           ┆ …    ┆ …             ┆ …            ┆ …           │\n",
       "│ ESR      ┆ COU      ┆ 01       ┆ OFERTA      ┆ 9391 ┆ ESR-COU-01-15 ┆ OFERTA-TABAC ┆ 1           │\n",
       "│          ┆          ┆          ┆             ┆      ┆ 74            ┆ O SIN        ┆             │\n",
       "│          ┆          ┆          ┆             ┆      ┆               ┆ ELABORAR (EN ┆             │\n",
       "│          ┆          ┆          ┆             ┆      ┆               ┆ R…           ┆             │\n",
       "│ ESR      ┆ COU      ┆ 01       ┆ OFERTA      ┆ 9392 ┆ ESR-COU-01-15 ┆ OFERTA-TEXTI ┆ 1           │\n",
       "│          ┆          ┆          ┆             ┆      ┆ 75            ┆ LES, PRENDAS ┆             │\n",
       "│          ┆          ┆          ┆             ┆      ┆               ┆ DE VEST…     ┆             │\n",
       "│ ESR      ┆ COU      ┆ 01       ┆ OFERTA      ┆ 9415 ┆ ESR-COU-01-15 ┆ OFERTA-TRIGO ┆ 1           │\n",
       "│          ┆          ┆          ┆             ┆      ┆ 98            ┆ -MARGEN DE   ┆             │\n",
       "│          ┆          ┆          ┆             ┆      ┆               ┆ COMERCIO     ┆             │\n",
       "│ ESR      ┆ COU      ┆ 01       ┆ OFERTA      ┆ 9424 ┆ ESR-COU-01-16 ┆ OFERTA-TUBÉR ┆ 1           │\n",
       "│          ┆          ┆          ┆             ┆      ┆ 07            ┆ CULOS,       ┆             │\n",
       "│          ┆          ┆          ┆             ┆      ┆               ┆ RAÍCES,      ┆             │\n",
       "│          ┆          ┆          ┆             ┆      ┆               ┆ LEGUM…       ┆             │\n",
       "│ ESR      ┆ COU      ┆ 01       ┆ OFERTA      ┆ 9437 ┆ ESR-COU-01-16 ┆ OFERTA-VIDRI ┆ 1           │\n",
       "│          ┆          ┆          ┆             ┆      ┆ 20            ┆ O, PRODUCTOS ┆             │\n",
       "│          ┆          ┆          ┆             ┆      ┆               ┆ DE VIDR…     ┆             │\n",
       "└──────────┴──────────┴──────────┴─────────────┴──────┴───────────────┴──────────────┴─────────────┘"
      ]
     },
     "execution_count": 29,
     "metadata": {},
     "output_type": "execute_result"
    }
   ],
   "source": [
    "res_nivel_7(\n",
    "    \"ESR\",\"COU\",\n",
    "    \"Niv_Gr_3\",\n",
    "    \"01\",\n",
    "    \"Niv_Descr_1\",\"Id\",\"Nombre\",\"Descripcion\").filter(pl.col(\"Niv_Descr_1\") == \"OFERTA\")"
   ]
  },
  {
   "cell_type": "markdown",
   "id": "3477b923",
   "metadata": {},
   "source": [
    "Resultados de una sola variable:\n"
   ]
  },
  {
   "cell_type": "code",
   "execution_count": 30,
   "id": "c75dc24a",
   "metadata": {},
   "outputs": [
    {
     "name": "stderr",
     "output_type": "stream",
     "text": [
      "<string>:29: FutureWarning:\n",
      "\n",
      "Passing literal json to 'read_json' is deprecated and will be removed in a future version. To read from a literal string, wrap it in a 'StringIO' object.\n",
      "\n"
     ]
    },
    {
     "name": "stderr",
     "output_type": "stream",
     "text": [
      "<string>:29: FutureWarning:\n",
      "\n",
      "Passing literal json to 'read_json' is deprecated and will be removed in a future version. To read from a literal string, wrap it in a 'StringIO' object.\n",
      "\n"
     ]
    },
    {
     "data": {
      "text/html": [
       "<div><style>\n",
       ".dataframe > thead > tr,\n",
       ".dataframe > tbody > tr {\n",
       "  text-align: right;\n",
       "  white-space: pre-wrap;\n",
       "}\n",
       "</style>\n",
       "<small>shape: (23, 2)</small><table border=\"1\" class=\"dataframe\"><thead><tr><th>Fecha</th><th>OFERTA-ANIMALES VIVOS-TOTAL</th></tr><tr><td>date</td><td>f64</td></tr></thead><tbody><tr><td>2000-01-01</td><td>51.0864</td></tr><tr><td>2001-01-01</td><td>53.1902</td></tr><tr><td>2002-01-01</td><td>55.1843</td></tr><tr><td>2003-01-01</td><td>55.0125</td></tr><tr><td>2004-01-01</td><td>57.6104</td></tr><tr><td>&hellip;</td><td>&hellip;</td></tr><tr><td>2018-01-01</td><td>216.1</td></tr><tr><td>2019-01-01</td><td>223.0</td></tr><tr><td>2020-01-01</td><td>202.3</td></tr><tr><td>2021-01-01</td><td>204.6</td></tr><tr><td>2022-01-01</td><td>295.1</td></tr></tbody></table></div>"
      ],
      "text/plain": [
       "shape: (23, 2)\n",
       "┌────────────┬─────────────────────────────┐\n",
       "│ Fecha      ┆ OFERTA-ANIMALES VIVOS-TOTAL │\n",
       "│ ---        ┆ ---                         │\n",
       "│ date       ┆ f64                         │\n",
       "╞════════════╪═════════════════════════════╡\n",
       "│ 2000-01-01 ┆ 51.0864                     │\n",
       "│ 2001-01-01 ┆ 53.1902                     │\n",
       "│ 2002-01-01 ┆ 55.1843                     │\n",
       "│ 2003-01-01 ┆ 55.0125                     │\n",
       "│ 2004-01-01 ┆ 57.6104                     │\n",
       "│ …          ┆ …                           │\n",
       "│ 2018-01-01 ┆ 216.1                       │\n",
       "│ 2019-01-01 ┆ 223.0                       │\n",
       "│ 2020-01-01 ┆ 202.3                       │\n",
       "│ 2021-01-01 ┆ 204.6                       │\n",
       "│ 2022-01-01 ┆ 295.1                       │\n",
       "└────────────┴─────────────────────────────┘"
      ]
     },
     "execution_count": 30,
     "metadata": {},
     "output_type": "execute_result"
    }
   ],
   "source": [
    "Id = 8878\n",
    "df = get_df(Id)\n",
    "# get_plot(Id)\n",
    "df"
   ]
  },
  {
   "cell_type": "markdown",
   "id": "c01a15c3",
   "metadata": {},
   "source": [
    "##### UTILIZACIÓN\n",
    "\n",
    "En el cuadro original, las filas son los productos a un nivel de dos dígitos de la Nomenclatura de Productos de Honduras (NPH) y las columnas son los componentes de la Utilización Agregada a Precios de Comprador (Consumo Intermedio, Exportciones FOB, Gasto de Consumo Final y Formación Bruta de Capital).\n"
   ]
  },
  {
   "cell_type": "code",
   "execution_count": 31,
   "id": "9a6d8b17",
   "metadata": {},
   "outputs": [
    {
     "name": "stderr",
     "output_type": "stream",
     "text": [
      "<string>:29: FutureWarning:\n",
      "\n",
      "Passing literal json to 'read_json' is deprecated and will be removed in a future version. To read from a literal string, wrap it in a 'StringIO' object.\n",
      "\n"
     ]
    },
    {
     "data": {
      "text/html": [
       "<div><style>\n",
       ".dataframe > thead > tr,\n",
       ".dataframe > tbody > tr {\n",
       "  text-align: right;\n",
       "  white-space: pre-wrap;\n",
       "}\n",
       "</style>\n",
       "<small>shape: (580, 8)</small><table border=\"1\" class=\"dataframe\"><thead><tr><th>Niv_Gr_1</th><th>Niv_Gr_2</th><th>Niv_Gr_3</th><th>Niv_Descr_1</th><th>Id</th><th>Nombre</th><th>Descripcion</th><th>N_Variables</th></tr><tr><td>str</td><td>str</td><td>str</td><td>str</td><td>i64</td><td>str</td><td>str</td><td>u32</td></tr></thead><tbody><tr><td>&quot;ESR&quot;</td><td>&quot;COU&quot;</td><td>&quot;01&quot;</td><td>&quot;UTILIZACIÓN&quot;</td><td>9474</td><td>&quot;ESR-COU-01-165…</td><td>&quot;UTILIZACIÓN-BA…</td><td>1</td></tr><tr><td>&quot;ESR&quot;</td><td>&quot;COU&quot;</td><td>&quot;01&quot;</td><td>&quot;UTILIZACIÓN&quot;</td><td>9505</td><td>&quot;ESR-COU-01-168…</td><td>&quot;UTILIZACIÓN-CA…</td><td>1</td></tr><tr><td>&quot;ESR&quot;</td><td>&quot;COU&quot;</td><td>&quot;01&quot;</td><td>&quot;UTILIZACIÓN&quot;</td><td>9543</td><td>&quot;ESR-COU-01-172…</td><td>&quot;UTILIZACIÓN-CO…</td><td>1</td></tr><tr><td>&quot;ESR&quot;</td><td>&quot;COU&quot;</td><td>&quot;01&quot;</td><td>&quot;UTILIZACIÓN&quot;</td><td>9548</td><td>&quot;ESR-COU-01-173…</td><td>&quot;UTILIZACIÓN-CO…</td><td>1</td></tr><tr><td>&quot;ESR&quot;</td><td>&quot;COU&quot;</td><td>&quot;01&quot;</td><td>&quot;UTILIZACIÓN&quot;</td><td>9549</td><td>&quot;ESR-COU-01-173…</td><td>&quot;UTILIZACIÓN-CO…</td><td>1</td></tr><tr><td>&hellip;</td><td>&hellip;</td><td>&hellip;</td><td>&hellip;</td><td>&hellip;</td><td>&hellip;</td><td>&hellip;</td><td>&hellip;</td></tr><tr><td>&quot;ESR&quot;</td><td>&quot;COU&quot;</td><td>&quot;01&quot;</td><td>&quot;UTILIZACIÓN&quot;</td><td>9948</td><td>&quot;ESR-COU-01-213…</td><td>&quot;UTILIZACIÓN-SE…</td><td>1</td></tr><tr><td>&quot;ESR&quot;</td><td>&quot;COU&quot;</td><td>&quot;01&quot;</td><td>&quot;UTILIZACIÓN&quot;</td><td>9958</td><td>&quot;ESR-COU-01-214…</td><td>&quot;UTILIZACIÓN-SU…</td><td>1</td></tr><tr><td>&quot;ESR&quot;</td><td>&quot;COU&quot;</td><td>&quot;01&quot;</td><td>&quot;UTILIZACIÓN&quot;</td><td>9987</td><td>&quot;ESR-COU-01-217…</td><td>&quot;UTILIZACIÓN-TO…</td><td>1</td></tr><tr><td>&quot;ESR&quot;</td><td>&quot;COU&quot;</td><td>&quot;01&quot;</td><td>&quot;UTILIZACIÓN&quot;</td><td>10001</td><td>&quot;ESR-COU-01-218…</td><td>&quot;UTILIZACIÓN-TR…</td><td>1</td></tr><tr><td>&quot;ESR&quot;</td><td>&quot;COU&quot;</td><td>&quot;01&quot;</td><td>&quot;UTILIZACIÓN&quot;</td><td>10017</td><td>&quot;ESR-COU-01-220…</td><td>&quot;UTILIZACIÓN-VI…</td><td>1</td></tr></tbody></table></div>"
      ],
      "text/plain": [
       "shape: (580, 8)\n",
       "┌──────────┬──────────┬──────────┬─────────────┬───────┬──────────────┬──────────────┬─────────────┐\n",
       "│ Niv_Gr_1 ┆ Niv_Gr_2 ┆ Niv_Gr_3 ┆ Niv_Descr_1 ┆ Id    ┆ Nombre       ┆ Descripcion  ┆ N_Variables │\n",
       "│ ---      ┆ ---      ┆ ---      ┆ ---         ┆ ---   ┆ ---          ┆ ---          ┆ ---         │\n",
       "│ str      ┆ str      ┆ str      ┆ str         ┆ i64   ┆ str          ┆ str          ┆ u32         │\n",
       "╞══════════╪══════════╪══════════╪═════════════╪═══════╪══════════════╪══════════════╪═════════════╡\n",
       "│ ESR      ┆ COU      ┆ 01       ┆ UTILIZACIÓN ┆ 9474  ┆ ESR-COU-01-1 ┆ UTILIZACIÓN- ┆ 1           │\n",
       "│          ┆          ┆          ┆             ┆       ┆ 657          ┆ BANANOS-GAST ┆             │\n",
       "│          ┆          ┆          ┆             ┆       ┆              ┆ O DE CON…    ┆             │\n",
       "│ ESR      ┆ COU      ┆ 01       ┆ UTILIZACIÓN ┆ 9505  ┆ ESR-COU-01-1 ┆ UTILIZACIÓN- ┆ 1           │\n",
       "│          ┆          ┆          ┆             ┆       ┆ 688          ┆ CAFÉ DE      ┆             │\n",
       "│          ┆          ┆          ┆             ┆       ┆              ┆ UVA-GASTO    ┆             │\n",
       "│          ┆          ┆          ┆             ┆       ┆              ┆ DE…          ┆             │\n",
       "│ ESR      ┆ COU      ┆ 01       ┆ UTILIZACIÓN ┆ 9543  ┆ ESR-COU-01-1 ┆ UTILIZACIÓN- ┆ 1           │\n",
       "│          ┆          ┆          ┆             ┆       ┆ 726          ┆ CONSTRUCCIÓN ┆             │\n",
       "│          ┆          ┆          ┆             ┆       ┆              ┆ -FORMACI…    ┆             │\n",
       "│ ESR      ┆ COU      ┆ 01       ┆ UTILIZACIÓN ┆ 9548  ┆ ESR-COU-01-1 ┆ UTILIZACIÓN- ┆ 1           │\n",
       "│          ┆          ┆          ┆             ┆       ┆ 731          ┆ CONSTRUCCIÓN ┆             │\n",
       "│          ┆          ┆          ┆             ┆       ┆              ┆ -TOTAL F…    ┆             │\n",
       "│ ESR      ┆ COU      ┆ 01       ┆ UTILIZACIÓN ┆ 9549  ┆ ESR-COU-01-1 ┆ UTILIZACIÓN- ┆ 1           │\n",
       "│          ┆          ┆          ┆             ┆       ┆ 732          ┆ CONSTRUCCIÓN ┆             │\n",
       "│          ┆          ┆          ┆             ┆       ┆              ┆ -TOTAL G…    ┆             │\n",
       "│ …        ┆ …        ┆ …        ┆ …           ┆ …     ┆ …            ┆ …            ┆ …           │\n",
       "│ ESR      ┆ COU      ┆ 01       ┆ UTILIZACIÓN ┆ 9948  ┆ ESR-COU-01-2 ┆ UTILIZACIÓN- ┆ 1           │\n",
       "│          ┆          ┆          ┆             ┆       ┆ 131          ┆ SERVICIOS    ┆             │\n",
       "│          ┆          ┆          ┆             ┆       ┆              ┆ PROPORCION…  ┆             │\n",
       "│ ESR      ┆ COU      ┆ 01       ┆ UTILIZACIÓN ┆ 9958  ┆ ESR-COU-01-2 ┆ UTILIZACIÓN- ┆ 1           │\n",
       "│          ┆          ┆          ┆             ┆       ┆ 141          ┆ SUSTANCIAS Y ┆             │\n",
       "│          ┆          ┆          ┆             ┆       ┆              ┆ PRODUCT…     ┆             │\n",
       "│ ESR      ┆ COU      ┆ 01       ┆ UTILIZACIÓN ┆ 9987  ┆ ESR-COU-01-2 ┆ UTILIZACIÓN- ┆ 1           │\n",
       "│          ┆          ┆          ┆             ┆       ┆ 170          ┆ TOTAL-TOTAL  ┆             │\n",
       "│          ┆          ┆          ┆             ┆       ┆              ┆ CONSUMO …    ┆             │\n",
       "│ ESR      ┆ COU      ┆ 01       ┆ UTILIZACIÓN ┆ 10001 ┆ ESR-COU-01-2 ┆ UTILIZACIÓN- ┆ 1           │\n",
       "│          ┆          ┆          ┆             ┆       ┆ 184          ┆ TRIGO-VARIAC ┆             │\n",
       "│          ┆          ┆          ┆             ┆       ┆              ┆ IÓN DE E…    ┆             │\n",
       "│ ESR      ┆ COU      ┆ 01       ┆ UTILIZACIÓN ┆ 10017 ┆ ESR-COU-01-2 ┆ UTILIZACIÓN- ┆ 1           │\n",
       "│          ┆          ┆          ┆             ┆       ┆ 200          ┆ VIDRIO,      ┆             │\n",
       "│          ┆          ┆          ┆             ┆       ┆              ┆ PRODUCTOS    ┆             │\n",
       "│          ┆          ┆          ┆             ┆       ┆              ┆ DE…          ┆             │\n",
       "└──────────┴──────────┴──────────┴─────────────┴───────┴──────────────┴──────────────┴─────────────┘"
      ]
     },
     "execution_count": 31,
     "metadata": {},
     "output_type": "execute_result"
    }
   ],
   "source": [
    "res_nivel_7(\n",
    "    \"ESR\",\"COU\",\n",
    "    \"Niv_Gr_3\",\n",
    "    \"01\",\n",
    "    \"Niv_Descr_1\",\"Id\",\"Nombre\",\"Descripcion\").filter(pl.col(\"Niv_Descr_1\") == \"UTILIZACIÓN\")"
   ]
  },
  {
   "cell_type": "markdown",
   "id": "0eeaa92b",
   "metadata": {},
   "source": [
    "Tomar en cuenta que, para realizar el cálculo del VAB por NAEH, se debe sumar las columnas de Valor Bruto de Producción y restar las de Consumo Intermedio; adicionalmente, como los datos correspondientes a Impuestos sobre los Productos y los Márgenes de Distribución solamente se encuentran a nivel de NPH, no se puede tener un VAB total que se obtenga por suma de VAB a nivel de actividad individual, en vista que debe restarse las de Subvenciones a los productos, mismas que se encuentran en el Cuadro de Oferta solamente a nivel de NPH. Esta forma de obtener el VAB se conoce como el cálculo del PIB por el enfoque del Ingreso.\n",
    "\n",
    "Como la Oferta y Utilización están detalladas a nivel de NPH, el VAB por NPH a partir de los dos detalles previos, se puede obtener por dos métodos:\n",
    "\n",
    "1. Suma de Producción + Impuestos - Subvenciones a los Productos + Márgenes de Distribución (Oferta) - Consumo Intermedio (Utilización) => PIB por el enfoque de la Produccion.\n",
    "2. Exportaciones FOB + Gasto de Consumo Final + Formación Bruta de Capital (Utilización) - Importaciones CIF - Ajuste CIF/FOB (Oferta) => PIB por el enfoque del Gasto.\n",
    "\n",
    "Para saber el contenido de todas las variables:\n"
   ]
  },
  {
   "cell_type": "code",
   "execution_count": 32,
   "id": "f3729746",
   "metadata": {},
   "outputs": [
    {
     "name": "stderr",
     "output_type": "stream",
     "text": [
      "<string>:29: FutureWarning:\n",
      "\n",
      "Passing literal json to 'read_json' is deprecated and will be removed in a future version. To read from a literal string, wrap it in a 'StringIO' object.\n",
      "\n"
     ]
    },
    {
     "data": {
      "text/html": [
       "<div><style>\n",
       ".dataframe > thead > tr,\n",
       ".dataframe > tbody > tr {\n",
       "  text-align: right;\n",
       "  white-space: pre-wrap;\n",
       "}\n",
       "</style>\n",
       "<small>shape: (3_608, 8)</small><table border=\"1\" class=\"dataframe\"><thead><tr><th>Niv_Gr_1</th><th>Niv_Gr_2</th><th>Niv_Gr_3</th><th>Id</th><th>Niv_Descr_1</th><th>Nombre</th><th>Descripcion</th><th>N_Variables</th></tr><tr><td>str</td><td>str</td><td>str</td><td>i64</td><td>str</td><td>str</td><td>str</td><td>u32</td></tr></thead><tbody><tr><td>&quot;ESR&quot;</td><td>&quot;COU&quot;</td><td>&quot;01&quot;</td><td>7818</td><td>&quot;CONSUMO INTERM…</td><td>&quot;ESR-COU-01-1&quot;</td><td>&quot;CONSUMO INTERM…</td><td>1</td></tr><tr><td>&quot;ESR&quot;</td><td>&quot;COU&quot;</td><td>&quot;01&quot;</td><td>7819</td><td>&quot;CONSUMO INTERM…</td><td>&quot;ESR-COU-01-2&quot;</td><td>&quot;CONSUMO INTERM…</td><td>1</td></tr><tr><td>&quot;ESR&quot;</td><td>&quot;COU&quot;</td><td>&quot;01&quot;</td><td>7820</td><td>&quot;CONSUMO INTERM…</td><td>&quot;ESR-COU-01-3&quot;</td><td>&quot;CONSUMO INTERM…</td><td>1</td></tr><tr><td>&quot;ESR&quot;</td><td>&quot;COU&quot;</td><td>&quot;01&quot;</td><td>7821</td><td>&quot;CONSUMO INTERM…</td><td>&quot;ESR-COU-01-4&quot;</td><td>&quot;CONSUMO INTERM…</td><td>1</td></tr><tr><td>&quot;ESR&quot;</td><td>&quot;COU&quot;</td><td>&quot;01&quot;</td><td>7822</td><td>&quot;CONSUMO INTERM…</td><td>&quot;ESR-COU-01-5&quot;</td><td>&quot;CONSUMO INTERM…</td><td>1</td></tr><tr><td>&hellip;</td><td>&hellip;</td><td>&hellip;</td><td>&hellip;</td><td>&hellip;</td><td>&hellip;</td><td>&hellip;</td><td>&hellip;</td></tr><tr><td>&quot;ESR&quot;</td><td>&quot;COU&quot;</td><td>&quot;01&quot;</td><td>11421</td><td>&quot;VALOR BRUTO DE…</td><td>&quot;ESR-COU-01-360…</td><td>&quot;VALOR BRUTO DE…</td><td>1</td></tr><tr><td>&quot;ESR&quot;</td><td>&quot;COU&quot;</td><td>&quot;01&quot;</td><td>11422</td><td>&quot;VALOR BRUTO DE…</td><td>&quot;ESR-COU-01-360…</td><td>&quot;VALOR BRUTO DE…</td><td>1</td></tr><tr><td>&quot;ESR&quot;</td><td>&quot;COU&quot;</td><td>&quot;01&quot;</td><td>11423</td><td>&quot;VALOR BRUTO DE…</td><td>&quot;ESR-COU-01-360…</td><td>&quot;VALOR BRUTO DE…</td><td>1</td></tr><tr><td>&quot;ESR&quot;</td><td>&quot;COU&quot;</td><td>&quot;01&quot;</td><td>11424</td><td>&quot;VALOR BRUTO DE…</td><td>&quot;ESR-COU-01-360…</td><td>&quot;VALOR BRUTO DE…</td><td>1</td></tr><tr><td>&quot;ESR&quot;</td><td>&quot;COU&quot;</td><td>&quot;01&quot;</td><td>11425</td><td>&quot;VALOR BRUTO DE…</td><td>&quot;ESR-COU-01-360…</td><td>&quot;VALOR BRUTO DE…</td><td>1</td></tr></tbody></table></div>"
      ],
      "text/plain": [
       "shape: (3_608, 8)\n",
       "┌──────────┬──────────┬──────────┬───────┬──────────────┬──────────────┬─────────────┬─────────────┐\n",
       "│ Niv_Gr_1 ┆ Niv_Gr_2 ┆ Niv_Gr_3 ┆ Id    ┆ Niv_Descr_1  ┆ Nombre       ┆ Descripcion ┆ N_Variables │\n",
       "│ ---      ┆ ---      ┆ ---      ┆ ---   ┆ ---          ┆ ---          ┆ ---         ┆ ---         │\n",
       "│ str      ┆ str      ┆ str      ┆ i64   ┆ str          ┆ str          ┆ str         ┆ u32         │\n",
       "╞══════════╪══════════╪══════════╪═══════╪══════════════╪══════════════╪═════════════╪═════════════╡\n",
       "│ ESR      ┆ COU      ┆ 01       ┆ 7818  ┆ CONSUMO      ┆ ESR-COU-01-1 ┆ CONSUMO INT ┆ 1           │\n",
       "│          ┆          ┆          ┆       ┆ INTERMEDIO   ┆              ┆ ERMEDIO-ACE ┆             │\n",
       "│          ┆          ┆          ┆       ┆              ┆              ┆ ITES Y GRA… ┆             │\n",
       "│ ESR      ┆ COU      ┆ 01       ┆ 7819  ┆ CONSUMO      ┆ ESR-COU-01-2 ┆ CONSUMO INT ┆ 1           │\n",
       "│          ┆          ┆          ┆       ┆ INTERMEDIO   ┆              ┆ ERMEDIO-ACE ┆             │\n",
       "│          ┆          ┆          ┆       ┆              ┆              ┆ ITES Y GRA… ┆             │\n",
       "│ ESR      ┆ COU      ┆ 01       ┆ 7820  ┆ CONSUMO      ┆ ESR-COU-01-3 ┆ CONSUMO INT ┆ 1           │\n",
       "│          ┆          ┆          ┆       ┆ INTERMEDIO   ┆              ┆ ERMEDIO-ACE ┆             │\n",
       "│          ┆          ┆          ┆       ┆              ┆              ┆ ITES Y GRA… ┆             │\n",
       "│ ESR      ┆ COU      ┆ 01       ┆ 7821  ┆ CONSUMO      ┆ ESR-COU-01-4 ┆ CONSUMO INT ┆ 1           │\n",
       "│          ┆          ┆          ┆       ┆ INTERMEDIO   ┆              ┆ ERMEDIO-ACE ┆             │\n",
       "│          ┆          ┆          ┆       ┆              ┆              ┆ ITES Y GRA… ┆             │\n",
       "│ ESR      ┆ COU      ┆ 01       ┆ 7822  ┆ CONSUMO      ┆ ESR-COU-01-5 ┆ CONSUMO INT ┆ 1           │\n",
       "│          ┆          ┆          ┆       ┆ INTERMEDIO   ┆              ┆ ERMEDIO-ACE ┆             │\n",
       "│          ┆          ┆          ┆       ┆              ┆              ┆ ITES Y GRA… ┆             │\n",
       "│ …        ┆ …        ┆ …        ┆ …     ┆ …            ┆ …            ┆ …           ┆ …           │\n",
       "│ ESR      ┆ COU      ┆ 01       ┆ 11421 ┆ VALOR BRUTO  ┆ ESR-COU-01-3 ┆ VALOR BRUTO ┆ 1           │\n",
       "│          ┆          ┆          ┆       ┆ DE           ┆ 604          ┆ DE PRODUCCI ┆             │\n",
       "│          ┆          ┆          ┆       ┆ PRODUCCIÓN   ┆              ┆ ÓN-VIDRIO…  ┆             │\n",
       "│ ESR      ┆ COU      ┆ 01       ┆ 11422 ┆ VALOR BRUTO  ┆ ESR-COU-01-3 ┆ VALOR BRUTO ┆ 1           │\n",
       "│          ┆          ┆          ┆       ┆ DE           ┆ 605          ┆ DE PRODUCCI ┆             │\n",
       "│          ┆          ┆          ┆       ┆ PRODUCCIÓN   ┆              ┆ ÓN-VIDRIO…  ┆             │\n",
       "│ ESR      ┆ COU      ┆ 01       ┆ 11423 ┆ VALOR BRUTO  ┆ ESR-COU-01-3 ┆ VALOR BRUTO ┆ 1           │\n",
       "│          ┆          ┆          ┆       ┆ DE           ┆ 606          ┆ DE PRODUCCI ┆             │\n",
       "│          ┆          ┆          ┆       ┆ PRODUCCIÓN   ┆              ┆ ÓN-VIDRIO…  ┆             │\n",
       "│ ESR      ┆ COU      ┆ 01       ┆ 11424 ┆ VALOR BRUTO  ┆ ESR-COU-01-3 ┆ VALOR BRUTO ┆ 1           │\n",
       "│          ┆          ┆          ┆       ┆ DE           ┆ 607          ┆ DE PRODUCCI ┆             │\n",
       "│          ┆          ┆          ┆       ┆ PRODUCCIÓN   ┆              ┆ ÓN-VIDRIO…  ┆             │\n",
       "│ ESR      ┆ COU      ┆ 01       ┆ 11425 ┆ VALOR BRUTO  ┆ ESR-COU-01-3 ┆ VALOR BRUTO ┆ 1           │\n",
       "│          ┆          ┆          ┆       ┆ DE           ┆ 608          ┆ DE PRODUCCI ┆             │\n",
       "│          ┆          ┆          ┆       ┆ PRODUCCIÓN   ┆              ┆ ÓN-VIDRIO…  ┆             │\n",
       "└──────────┴──────────┴──────────┴───────┴──────────────┴──────────────┴─────────────┴─────────────┘"
      ]
     },
     "execution_count": 32,
     "metadata": {},
     "output_type": "execute_result"
    }
   ],
   "source": [
    "res_nivel_7(\n",
    "    \"ESR\",\"COU\",\n",
    "    \"Niv_Gr_3\",\n",
    "    \"01\",\n",
    "    \"Id\",\"Niv_Descr_1\",\"Nombre\",\"Descripcion\").sort(\"Id\")"
   ]
  },
  {
   "cell_type": "markdown",
   "id": "8b6ff148",
   "metadata": {},
   "source": [
    "Resultados de una sola variable:\n"
   ]
  },
  {
   "cell_type": "code",
   "execution_count": 33,
   "id": "dbf2b5ed",
   "metadata": {},
   "outputs": [
    {
     "name": "stderr",
     "output_type": "stream",
     "text": [
      "<string>:29: FutureWarning:\n",
      "\n",
      "Passing literal json to 'read_json' is deprecated and will be removed in a future version. To read from a literal string, wrap it in a 'StringIO' object.\n",
      "\n"
     ]
    },
    {
     "name": "stderr",
     "output_type": "stream",
     "text": [
      "<string>:29: FutureWarning:\n",
      "\n",
      "Passing literal json to 'read_json' is deprecated and will be removed in a future version. To read from a literal string, wrap it in a 'StringIO' object.\n",
      "\n"
     ]
    },
    {
     "data": {
      "text/html": [
       "<div><style>\n",
       ".dataframe > thead > tr,\n",
       ".dataframe > tbody > tr {\n",
       "  text-align: right;\n",
       "  white-space: pre-wrap;\n",
       "}\n",
       "</style>\n",
       "<small>shape: (23, 2)</small><table border=\"1\" class=\"dataframe\"><thead><tr><th>Fecha</th><th>UTILIZACIÓN-AZÚCAR Y MELAZAS-GASTO DE CONSUMO FINAL HOGARES</th></tr><tr><td>date</td><td>f64</td></tr></thead><tbody><tr><td>2000-01-01</td><td>1123.2441</td></tr><tr><td>2001-01-01</td><td>1205.4408</td></tr><tr><td>2002-01-01</td><td>1273.3699</td></tr><tr><td>2003-01-01</td><td>1462.889</td></tr><tr><td>2004-01-01</td><td>1641.5371</td></tr><tr><td>&hellip;</td><td>&hellip;</td></tr><tr><td>2018-01-01</td><td>4614.6</td></tr><tr><td>2019-01-01</td><td>4790.1</td></tr><tr><td>2020-01-01</td><td>4047.3</td></tr><tr><td>2021-01-01</td><td>3931.1</td></tr><tr><td>2022-01-01</td><td>4206.8</td></tr></tbody></table></div>"
      ],
      "text/plain": [
       "shape: (23, 2)\n",
       "┌────────────┬───────────────────────────────────┐\n",
       "│ Fecha      ┆ UTILIZACIÓN-AZÚCAR Y MELAZAS-GAS… │\n",
       "│ ---        ┆ ---                               │\n",
       "│ date       ┆ f64                               │\n",
       "╞════════════╪═══════════════════════════════════╡\n",
       "│ 2000-01-01 ┆ 1123.2441                         │\n",
       "│ 2001-01-01 ┆ 1205.4408                         │\n",
       "│ 2002-01-01 ┆ 1273.3699                         │\n",
       "│ 2003-01-01 ┆ 1462.889                          │\n",
       "│ 2004-01-01 ┆ 1641.5371                         │\n",
       "│ …          ┆ …                                 │\n",
       "│ 2018-01-01 ┆ 4614.6                            │\n",
       "│ 2019-01-01 ┆ 4790.1                            │\n",
       "│ 2020-01-01 ┆ 4047.3                            │\n",
       "│ 2021-01-01 ┆ 3931.1                            │\n",
       "│ 2022-01-01 ┆ 4206.8                            │\n",
       "└────────────┴───────────────────────────────────┘"
      ]
     },
     "execution_count": 33,
     "metadata": {},
     "output_type": "execute_result"
    }
   ],
   "source": [
    "Id = 9465\n",
    "df = get_df(Id)\n",
    "# get_plot(Id)\n",
    "df"
   ]
  },
  {
   "cell_type": "markdown",
   "id": "435d45f8",
   "metadata": {},
   "source": [
    "#### CCI = Clasificación Cruzada Industria Sector Institucional\n",
    "\n",
    "Para conocer la estructura de las estadísticas derivadas de este cuadro, consultar en la [página web del BCH](https://www.bch.hn/estadisticas-y-publicaciones-economicas/sector-real/cuentas-nacionales-anuales-base-2000/clasificacion-cruzada-industria-sector-institucional).\n",
    "\n",
    "El archivo contiene 3 hojas, que pueden filtrarse de acuerdo con el Nivel de Descripción 1 (Niv_Descr_1) de la variable:\n",
    "\n",
    "* Producción Bruta\n",
    "* Consumo Intermedio\n",
    "* Valor Agregado\n",
    "\n",
    "Los cuadros en cada hoja contienen los valores a nivel de Industria en las filas y a nivel de Sector Institucional en las columnas.\n",
    "\n",
    "Debido a que el VAB implica tomar en cuenta impuestos y subvenciones a nivel de NPH, no es posible obtener el cálculo de esta variable por suma a partir de los cuadros del CCI (ver explicación en el apartado del COU).\n"
   ]
  },
  {
   "cell_type": "code",
   "execution_count": 34,
   "id": "9743c69a",
   "metadata": {},
   "outputs": [
    {
     "name": "stdout",
     "output_type": "stream",
     "text": [
      "3 subgrupos\n",
      "371 variables\n"
     ]
    },
    {
     "name": "stderr",
     "output_type": "stream",
     "text": [
      "<string>:29: FutureWarning:\n",
      "\n",
      "Passing literal json to 'read_json' is deprecated and will be removed in a future version. To read from a literal string, wrap it in a 'StringIO' object.\n",
      "\n"
     ]
    },
    {
     "data": {
      "text/html": [
       "<div><style>\n",
       ".dataframe > thead > tr,\n",
       ".dataframe > tbody > tr {\n",
       "  text-align: right;\n",
       "  white-space: pre-wrap;\n",
       "}\n",
       "</style>\n",
       "<small>shape: (3, 4)</small><table border=\"1\" class=\"dataframe\"><thead><tr><th>Niv_Gr_1</th><th>Niv_Gr_2</th><th>Niv_Descr_1</th><th>N_Variables</th></tr><tr><td>str</td><td>str</td><td>str</td><td>u32</td></tr></thead><tbody><tr><td>&quot;ESR&quot;</td><td>&quot;CCI&quot;</td><td>&quot;Consumo Interm…</td><td>126</td></tr><tr><td>&quot;ESR&quot;</td><td>&quot;CCI&quot;</td><td>&quot;Valor Agregado…</td><td>126</td></tr><tr><td>&quot;ESR&quot;</td><td>&quot;CCI&quot;</td><td>&quot;Producción&quot;</td><td>119</td></tr></tbody></table></div>"
      ],
      "text/plain": [
       "shape: (3, 4)\n",
       "┌──────────┬──────────┬────────────────────┬─────────────┐\n",
       "│ Niv_Gr_1 ┆ Niv_Gr_2 ┆ Niv_Descr_1        ┆ N_Variables │\n",
       "│ ---      ┆ ---      ┆ ---                ┆ ---         │\n",
       "│ str      ┆ str      ┆ str                ┆ u32         │\n",
       "╞══════════╪══════════╪════════════════════╪═════════════╡\n",
       "│ ESR      ┆ CCI      ┆ Consumo Intermedio ┆ 126         │\n",
       "│ ESR      ┆ CCI      ┆ Valor Agregado     ┆ 126         │\n",
       "│ ESR      ┆ CCI      ┆ Producción         ┆ 119         │\n",
       "└──────────┴──────────┴────────────────────┴─────────────┘"
      ]
     },
     "execution_count": 34,
     "metadata": {},
     "output_type": "execute_result"
    }
   ],
   "source": [
    "res_nivel_3(\"ESR\",\"CCI\",\"Niv_Descr_1\")"
   ]
  },
  {
   "cell_type": "markdown",
   "id": "d5bcf02f",
   "metadata": {},
   "source": [
    "\"Niv_Descr_2\" es la Industria (filas).\n"
   ]
  },
  {
   "cell_type": "code",
   "execution_count": 35,
   "id": "9193a12b",
   "metadata": {},
   "outputs": [
    {
     "name": "stderr",
     "output_type": "stream",
     "text": [
      "<string>:29: FutureWarning:\n",
      "\n",
      "Passing literal json to 'read_json' is deprecated and will be removed in a future version. To read from a literal string, wrap it in a 'StringIO' object.\n",
      "\n"
     ]
    },
    {
     "data": {
      "text/html": [
       "<div><style>\n",
       ".dataframe > thead > tr,\n",
       ".dataframe > tbody > tr {\n",
       "  text-align: right;\n",
       "  white-space: pre-wrap;\n",
       "}\n",
       "</style>\n",
       "<small>shape: (53, 6)</small><table border=\"1\" class=\"dataframe\"><thead><tr><th>Niv_Gr_1</th><th>Niv_Gr_2</th><th>Niv_Gr_3</th><th>Niv_Descr_1</th><th>Niv_Descr_2</th><th>N_Variables</th></tr><tr><td>str</td><td>str</td><td>str</td><td>str</td><td>str</td><td>u32</td></tr></thead><tbody><tr><td>&quot;ESR&quot;</td><td>&quot;CCI&quot;</td><td>&quot;01&quot;</td><td>&quot;Producción&quot;</td><td>&quot;Servicios de E…</td><td>7</td></tr><tr><td>&quot;ESR&quot;</td><td>&quot;CCI&quot;</td><td>&quot;01&quot;</td><td>&quot;Producción&quot;</td><td>&quot;Servicios Soci…</td><td>7</td></tr><tr><td>&quot;ESR&quot;</td><td>&quot;CCI&quot;</td><td>&quot;01&quot;</td><td>&quot;Consumo Interm…</td><td>&quot;Industrias Man…</td><td>7</td></tr><tr><td>&quot;ESR&quot;</td><td>&quot;CCI&quot;</td><td>&quot;01&quot;</td><td>&quot;Consumo Interm…</td><td>&quot;Servicios de E…</td><td>7</td></tr><tr><td>&quot;ESR&quot;</td><td>&quot;CCI&quot;</td><td>&quot;01&quot;</td><td>&quot;Producción&quot;</td><td>&quot;Industrias Man…</td><td>7</td></tr><tr><td>&hellip;</td><td>&hellip;</td><td>&hellip;</td><td>&hellip;</td><td>&hellip;</td><td>&hellip;</td></tr><tr><td>&quot;ESR&quot;</td><td>&quot;CCI&quot;</td><td>&quot;01&quot;</td><td>&quot;Valor Agregado…</td><td>&quot;Industrias Man…</td><td>7</td></tr><tr><td>&quot;ESR&quot;</td><td>&quot;CCI&quot;</td><td>&quot;01&quot;</td><td>&quot;Valor Agregado…</td><td>&quot;Servicios de I…</td><td>7</td></tr><tr><td>&quot;ESR&quot;</td><td>&quot;CCI&quot;</td><td>&quot;01&quot;</td><td>&quot;Consumo Interm…</td><td>&quot;Construcción&quot;</td><td>7</td></tr><tr><td>&quot;ESR&quot;</td><td>&quot;CCI&quot;</td><td>&quot;01&quot;</td><td>&quot;Producción&quot;</td><td>&quot;Construcción&quot;</td><td>7</td></tr><tr><td>&quot;ESR&quot;</td><td>&quot;CCI&quot;</td><td>&quot;01&quot;</td><td>&quot;Valor Agregado…</td><td>&quot;Comercio, Repa…</td><td>7</td></tr></tbody></table></div>"
      ],
      "text/plain": [
       "shape: (53, 6)\n",
       "┌──────────┬──────────┬──────────┬────────────────────┬──────────────────────────────┬─────────────┐\n",
       "│ Niv_Gr_1 ┆ Niv_Gr_2 ┆ Niv_Gr_3 ┆ Niv_Descr_1        ┆ Niv_Descr_2                  ┆ N_Variables │\n",
       "│ ---      ┆ ---      ┆ ---      ┆ ---                ┆ ---                          ┆ ---         │\n",
       "│ str      ┆ str      ┆ str      ┆ str                ┆ str                          ┆ u32         │\n",
       "╞══════════╪══════════╪══════════╪════════════════════╪══════════════════════════════╪═════════════╡\n",
       "│ ESR      ┆ CCI      ┆ 01       ┆ Producción         ┆ Servicios de Enseñanza       ┆ 7           │\n",
       "│ ESR      ┆ CCI      ┆ 01       ┆ Producción         ┆ Servicios Sociales y de      ┆ 7           │\n",
       "│          ┆          ┆          ┆                    ┆ Salud                        ┆             │\n",
       "│ ESR      ┆ CCI      ┆ 01       ┆ Consumo Intermedio ┆ Industrias Manufactureras    ┆ 7           │\n",
       "│ ESR      ┆ CCI      ┆ 01       ┆ Consumo Intermedio ┆ Servicios de Enseñanza       ┆ 7           │\n",
       "│ ESR      ┆ CCI      ┆ 01       ┆ Producción         ┆ Industrias Manufactureras    ┆ 7           │\n",
       "│ …        ┆ …        ┆ …        ┆ …                  ┆ …                            ┆ …           │\n",
       "│ ESR      ┆ CCI      ┆ 01       ┆ Valor Agregado     ┆ Industrias Manufactureras    ┆ 7           │\n",
       "│ ESR      ┆ CCI      ┆ 01       ┆ Valor Agregado     ┆ Servicios de Intermediación  ┆ 7           │\n",
       "│          ┆          ┆          ┆                    ┆ Fina…                        ┆             │\n",
       "│ ESR      ┆ CCI      ┆ 01       ┆ Consumo Intermedio ┆ Construcción                 ┆ 7           │\n",
       "│ ESR      ┆ CCI      ┆ 01       ┆ Producción         ┆ Construcción                 ┆ 7           │\n",
       "│ ESR      ┆ CCI      ┆ 01       ┆ Valor Agregado     ┆ Comercio, Reparación de      ┆ 7           │\n",
       "│          ┆          ┆          ┆                    ┆ Vehículo…                    ┆             │\n",
       "└──────────┴──────────┴──────────┴────────────────────┴──────────────────────────────┴─────────────┘"
      ]
     },
     "execution_count": 35,
     "metadata": {},
     "output_type": "execute_result"
    }
   ],
   "source": [
    "res_nivel_5(\n",
    "    \"ESR\",\"CCI\",\n",
    "    \"Niv_Gr_3\",\n",
    "    \"01\",\n",
    "    \"Niv_Descr_1\",\"Niv_Descr_2\")"
   ]
  },
  {
   "cell_type": "markdown",
   "id": "8edf2196",
   "metadata": {},
   "source": [
    "\"Niv_Descr_3\" es el Sector Institucional (columnas).\n"
   ]
  },
  {
   "cell_type": "code",
   "execution_count": 36,
   "id": "2f0b706f",
   "metadata": {},
   "outputs": [
    {
     "name": "stderr",
     "output_type": "stream",
     "text": [
      "<string>:29: FutureWarning:\n",
      "\n",
      "Passing literal json to 'read_json' is deprecated and will be removed in a future version. To read from a literal string, wrap it in a 'StringIO' object.\n",
      "\n"
     ]
    },
    {
     "data": {
      "text/html": [
       "<div><style>\n",
       ".dataframe > thead > tr,\n",
       ".dataframe > tbody > tr {\n",
       "  text-align: right;\n",
       "  white-space: pre-wrap;\n",
       "}\n",
       "</style>\n",
       "<small>shape: (21, 6)</small><table border=\"1\" class=\"dataframe\"><thead><tr><th>Niv_Gr_1</th><th>Niv_Gr_2</th><th>Niv_Gr_3</th><th>Niv_Descr_1</th><th>Niv_Descr_3</th><th>N_Variables</th></tr><tr><td>str</td><td>str</td><td>str</td><td>str</td><td>str</td><td>u32</td></tr></thead><tbody><tr><td>&quot;ESR&quot;</td><td>&quot;CCI&quot;</td><td>&quot;01&quot;</td><td>&quot;Valor Agregado…</td><td>&quot;Hogares&quot;</td><td>18</td></tr><tr><td>&quot;ESR&quot;</td><td>&quot;CCI&quot;</td><td>&quot;01&quot;</td><td>&quot;Consumo Interm…</td><td>&quot;Gobierno Gener…</td><td>18</td></tr><tr><td>&quot;ESR&quot;</td><td>&quot;CCI&quot;</td><td>&quot;01&quot;</td><td>&quot;Valor Agregado…</td><td>&quot;SIFMI&quot;</td><td>18</td></tr><tr><td>&quot;ESR&quot;</td><td>&quot;CCI&quot;</td><td>&quot;01&quot;</td><td>&quot;Consumo Interm…</td><td>&quot;Sociedades  Fi…</td><td>18</td></tr><tr><td>&quot;ESR&quot;</td><td>&quot;CCI&quot;</td><td>&quot;01&quot;</td><td>&quot;Consumo Interm…</td><td>&quot;Sociedades  No…</td><td>18</td></tr><tr><td>&hellip;</td><td>&hellip;</td><td>&hellip;</td><td>&hellip;</td><td>&hellip;</td><td>&hellip;</td></tr><tr><td>&quot;ESR&quot;</td><td>&quot;CCI&quot;</td><td>&quot;01&quot;</td><td>&quot;Producción&quot;</td><td>&quot;ISFLSH&quot;</td><td>17</td></tr><tr><td>&quot;ESR&quot;</td><td>&quot;CCI&quot;</td><td>&quot;01&quot;</td><td>&quot;Producción&quot;</td><td>&quot;Sociedades  Fi…</td><td>17</td></tr><tr><td>&quot;ESR&quot;</td><td>&quot;CCI&quot;</td><td>&quot;01&quot;</td><td>&quot;Producción&quot;</td><td>&quot;Sociedades  No…</td><td>17</td></tr><tr><td>&quot;ESR&quot;</td><td>&quot;CCI&quot;</td><td>&quot;01&quot;</td><td>&quot;Producción&quot;</td><td>&quot;SIFMI&quot;</td><td>17</td></tr><tr><td>&quot;ESR&quot;</td><td>&quot;CCI&quot;</td><td>&quot;01&quot;</td><td>&quot;Producción&quot;</td><td>&quot;Hogares&quot;</td><td>17</td></tr></tbody></table></div>"
      ],
      "text/plain": [
       "shape: (21, 6)\n",
       "┌──────────┬──────────┬──────────┬────────────────────┬────────────────────────────┬─────────────┐\n",
       "│ Niv_Gr_1 ┆ Niv_Gr_2 ┆ Niv_Gr_3 ┆ Niv_Descr_1        ┆ Niv_Descr_3                ┆ N_Variables │\n",
       "│ ---      ┆ ---      ┆ ---      ┆ ---                ┆ ---                        ┆ ---         │\n",
       "│ str      ┆ str      ┆ str      ┆ str                ┆ str                        ┆ u32         │\n",
       "╞══════════╪══════════╪══════════╪════════════════════╪════════════════════════════╪═════════════╡\n",
       "│ ESR      ┆ CCI      ┆ 01       ┆ Valor Agregado     ┆ Hogares                    ┆ 18          │\n",
       "│ ESR      ┆ CCI      ┆ 01       ┆ Consumo Intermedio ┆ Gobierno General           ┆ 18          │\n",
       "│ ESR      ┆ CCI      ┆ 01       ┆ Valor Agregado     ┆ SIFMI                      ┆ 18          │\n",
       "│ ESR      ┆ CCI      ┆ 01       ┆ Consumo Intermedio ┆ Sociedades  Financieras    ┆ 18          │\n",
       "│ ESR      ┆ CCI      ┆ 01       ┆ Consumo Intermedio ┆ Sociedades  No Financieras ┆ 18          │\n",
       "│ …        ┆ …        ┆ …        ┆ …                  ┆ …                          ┆ …           │\n",
       "│ ESR      ┆ CCI      ┆ 01       ┆ Producción         ┆ ISFLSH                     ┆ 17          │\n",
       "│ ESR      ┆ CCI      ┆ 01       ┆ Producción         ┆ Sociedades  Financieras    ┆ 17          │\n",
       "│ ESR      ┆ CCI      ┆ 01       ┆ Producción         ┆ Sociedades  No Financieras ┆ 17          │\n",
       "│ ESR      ┆ CCI      ┆ 01       ┆ Producción         ┆ SIFMI                      ┆ 17          │\n",
       "│ ESR      ┆ CCI      ┆ 01       ┆ Producción         ┆ Hogares                    ┆ 17          │\n",
       "└──────────┴──────────┴──────────┴────────────────────┴────────────────────────────┴─────────────┘"
      ]
     },
     "execution_count": 36,
     "metadata": {},
     "output_type": "execute_result"
    }
   ],
   "source": [
    "res_nivel_5(\n",
    "    \"ESR\",\"CCI\",\n",
    "    \"Niv_Gr_3\",\n",
    "    \"01\",\n",
    "    \"Niv_Descr_1\",\"Niv_Descr_3\")"
   ]
  },
  {
   "cell_type": "markdown",
   "id": "28291b61",
   "metadata": {},
   "source": [
    "Para saber el contenido de todas las variables:\n"
   ]
  },
  {
   "cell_type": "code",
   "execution_count": 37,
   "id": "b0cd824e",
   "metadata": {},
   "outputs": [
    {
     "name": "stderr",
     "output_type": "stream",
     "text": [
      "<string>:29: FutureWarning:\n",
      "\n",
      "Passing literal json to 'read_json' is deprecated and will be removed in a future version. To read from a literal string, wrap it in a 'StringIO' object.\n",
      "\n"
     ]
    },
    {
     "data": {
      "text/html": [
       "<div><style>\n",
       ".dataframe > thead > tr,\n",
       ".dataframe > tbody > tr {\n",
       "  text-align: right;\n",
       "  white-space: pre-wrap;\n",
       "}\n",
       "</style>\n",
       "<small>shape: (371, 8)</small><table border=\"1\" class=\"dataframe\"><thead><tr><th>Niv_Gr_1</th><th>Niv_Gr_2</th><th>Niv_Gr_3</th><th>Id</th><th>Niv_Descr_1</th><th>Niv_Descr_2</th><th>Niv_Descr_3</th><th>N_Variables</th></tr><tr><td>str</td><td>str</td><td>str</td><td>i64</td><td>str</td><td>str</td><td>str</td><td>u32</td></tr></thead><tbody><tr><td>&quot;ESR&quot;</td><td>&quot;CCI&quot;</td><td>&quot;01&quot;</td><td>7448</td><td>&quot;Consumo Interm…</td><td>&quot;Actividades In…</td><td>&quot;Gobierno Gener…</td><td>1</td></tr><tr><td>&quot;ESR&quot;</td><td>&quot;CCI&quot;</td><td>&quot;01&quot;</td><td>7469</td><td>&quot;Consumo Interm…</td><td>&quot;Comercio, Repa…</td><td>&quot;Gobierno Gener…</td><td>1</td></tr><tr><td>&quot;ESR&quot;</td><td>&quot;CCI&quot;</td><td>&quot;01&quot;</td><td>7492</td><td>&quot;Consumo Interm…</td><td>&quot;Electricidad y…</td><td>&quot;ISFLSH&quot;</td><td>1</td></tr><tr><td>&quot;ESR&quot;</td><td>&quot;CCI&quot;</td><td>&quot;01&quot;</td><td>7494</td><td>&quot;Consumo Interm…</td><td>&quot;Electricidad y…</td><td>&quot;Sociedades  Fi…</td><td>1</td></tr><tr><td>&quot;ESR&quot;</td><td>&quot;CCI&quot;</td><td>&quot;01&quot;</td><td>7539</td><td>&quot;Consumo Interm…</td><td>&quot;Servicios de E…</td><td>&quot;Gobierno Gener…</td><td>1</td></tr><tr><td>&hellip;</td><td>&hellip;</td><td>&hellip;</td><td>&hellip;</td><td>&hellip;</td><td>&hellip;</td><td>&hellip;</td><td>&hellip;</td></tr><tr><td>&quot;ESR&quot;</td><td>&quot;CCI&quot;</td><td>&quot;01&quot;</td><td>7652</td><td>&quot;Producción&quot;</td><td>&quot;Propiedad de V…</td><td>&quot;Hogares&quot;</td><td>1</td></tr><tr><td>&quot;ESR&quot;</td><td>&quot;CCI&quot;</td><td>&quot;01&quot;</td><td>7665</td><td>&quot;Producción&quot;</td><td>&quot;Servicios de E…</td><td>&quot;Gobierno Gener…</td><td>1</td></tr><tr><td>&quot;ESR&quot;</td><td>&quot;CCI&quot;</td><td>&quot;01&quot;</td><td>7727</td><td>&quot;Valor Agregado…</td><td>&quot;Construcción&quot;</td><td>&quot;Economía Total…</td><td>1</td></tr><tr><td>&quot;ESR&quot;</td><td>&quot;CCI&quot;</td><td>&quot;01&quot;</td><td>7758</td><td>&quot;Valor Agregado…</td><td>&quot;Industrias Man…</td><td>&quot;ISFLSH&quot;</td><td>1</td></tr><tr><td>&quot;ESR&quot;</td><td>&quot;CCI&quot;</td><td>&quot;01&quot;</td><td>7781</td><td>&quot;Valor Agregado…</td><td>&quot;Servicios Comu…</td><td>&quot;Sociedades  Fi…</td><td>1</td></tr></tbody></table></div>"
      ],
      "text/plain": [
       "shape: (371, 8)\n",
       "┌──────────┬──────────┬──────────┬──────┬──────────────┬──────────────┬──────────────┬─────────────┐\n",
       "│ Niv_Gr_1 ┆ Niv_Gr_2 ┆ Niv_Gr_3 ┆ Id   ┆ Niv_Descr_1  ┆ Niv_Descr_2  ┆ Niv_Descr_3  ┆ N_Variables │\n",
       "│ ---      ┆ ---      ┆ ---      ┆ ---  ┆ ---          ┆ ---          ┆ ---          ┆ ---         │\n",
       "│ str      ┆ str      ┆ str      ┆ i64  ┆ str          ┆ str          ┆ str          ┆ u32         │\n",
       "╞══════════╪══════════╪══════════╪══════╪══════════════╪══════════════╪══════════════╪═════════════╡\n",
       "│ ESR      ┆ CCI      ┆ 01       ┆ 7448 ┆ Consumo      ┆ Actividades  ┆ Gobierno     ┆ 1           │\n",
       "│          ┆          ┆          ┆      ┆ Intermedio   ┆ Inmobiliaria ┆ General      ┆             │\n",
       "│          ┆          ┆          ┆      ┆              ┆ s y Empr…    ┆              ┆             │\n",
       "│ ESR      ┆ CCI      ┆ 01       ┆ 7469 ┆ Consumo      ┆ Comercio,    ┆ Gobierno     ┆ 1           │\n",
       "│          ┆          ┆          ┆      ┆ Intermedio   ┆ Reparación   ┆ General      ┆             │\n",
       "│          ┆          ┆          ┆      ┆              ┆ de Vehículo… ┆              ┆             │\n",
       "│ ESR      ┆ CCI      ┆ 01       ┆ 7492 ┆ Consumo      ┆ Electricidad ┆ ISFLSH       ┆ 1           │\n",
       "│          ┆          ┆          ┆      ┆ Intermedio   ┆ y            ┆              ┆             │\n",
       "│          ┆          ┆          ┆      ┆              ┆ Distribución ┆              ┆             │\n",
       "│          ┆          ┆          ┆      ┆              ┆ de A…        ┆              ┆             │\n",
       "│ ESR      ┆ CCI      ┆ 01       ┆ 7494 ┆ Consumo      ┆ Electricidad ┆ Sociedades   ┆ 1           │\n",
       "│          ┆          ┆          ┆      ┆ Intermedio   ┆ y            ┆ Financieras  ┆             │\n",
       "│          ┆          ┆          ┆      ┆              ┆ Distribución ┆              ┆             │\n",
       "│          ┆          ┆          ┆      ┆              ┆ de A…        ┆              ┆             │\n",
       "│ ESR      ┆ CCI      ┆ 01       ┆ 7539 ┆ Consumo      ┆ Servicios de ┆ Gobierno     ┆ 1           │\n",
       "│          ┆          ┆          ┆      ┆ Intermedio   ┆ Enseñanza    ┆ General      ┆             │\n",
       "│ …        ┆ …        ┆ …        ┆ …    ┆ …            ┆ …            ┆ …            ┆ …           │\n",
       "│ ESR      ┆ CCI      ┆ 01       ┆ 7652 ┆ Producción   ┆ Propiedad de ┆ Hogares      ┆ 1           │\n",
       "│          ┆          ┆          ┆      ┆              ┆ Vivienda     ┆              ┆             │\n",
       "│ ESR      ┆ CCI      ┆ 01       ┆ 7665 ┆ Producción   ┆ Servicios de ┆ Gobierno     ┆ 1           │\n",
       "│          ┆          ┆          ┆      ┆              ┆ Enseñanza    ┆ General      ┆             │\n",
       "│ ESR      ┆ CCI      ┆ 01       ┆ 7727 ┆ Valor        ┆ Construcción ┆ Economía     ┆ 1           │\n",
       "│          ┆          ┆          ┆      ┆ Agregado     ┆              ┆ Total        ┆             │\n",
       "│ ESR      ┆ CCI      ┆ 01       ┆ 7758 ┆ Valor        ┆ Industrias   ┆ ISFLSH       ┆ 1           │\n",
       "│          ┆          ┆          ┆      ┆ Agregado     ┆ Manufacturer ┆              ┆             │\n",
       "│          ┆          ┆          ┆      ┆              ┆ as           ┆              ┆             │\n",
       "│ ESR      ┆ CCI      ┆ 01       ┆ 7781 ┆ Valor        ┆ Servicios    ┆ Sociedades   ┆ 1           │\n",
       "│          ┆          ┆          ┆      ┆ Agregado     ┆ Comunitarios ┆ Financieras  ┆             │\n",
       "│          ┆          ┆          ┆      ┆              ┆ , Sociales…  ┆              ┆             │\n",
       "└──────────┴──────────┴──────────┴──────┴──────────────┴──────────────┴──────────────┴─────────────┘"
      ]
     },
     "execution_count": 37,
     "metadata": {},
     "output_type": "execute_result"
    }
   ],
   "source": [
    "res_nivel_7(\n",
    "    \"ESR\",\"CCI\",\n",
    "    \"Niv_Gr_3\",\n",
    "    \"01\",\n",
    "    \"Id\",\"Niv_Descr_1\",\"Niv_Descr_2\",\"Niv_Descr_3\")"
   ]
  },
  {
   "cell_type": "markdown",
   "id": "d590feb2",
   "metadata": {},
   "source": [
    "Resultados de una sola variable:\n"
   ]
  },
  {
   "cell_type": "code",
   "execution_count": 38,
   "id": "07299b99",
   "metadata": {},
   "outputs": [
    {
     "name": "stderr",
     "output_type": "stream",
     "text": [
      "<string>:29: FutureWarning:\n",
      "\n",
      "Passing literal json to 'read_json' is deprecated and will be removed in a future version. To read from a literal string, wrap it in a 'StringIO' object.\n",
      "\n"
     ]
    },
    {
     "name": "stderr",
     "output_type": "stream",
     "text": [
      "<string>:29: FutureWarning:\n",
      "\n",
      "Passing literal json to 'read_json' is deprecated and will be removed in a future version. To read from a literal string, wrap it in a 'StringIO' object.\n",
      "\n"
     ]
    },
    {
     "data": {
      "text/html": [
       "<div><style>\n",
       ".dataframe > thead > tr,\n",
       ".dataframe > tbody > tr {\n",
       "  text-align: right;\n",
       "  white-space: pre-wrap;\n",
       "}\n",
       "</style>\n",
       "<small>shape: (20, 2)</small><table border=\"1\" class=\"dataframe\"><thead><tr><th>Fecha</th><th>Consumo Intermedio-Agricultura, Ganadería, Caza, Silvicultura y Pesca-Sociedades  No Financieras</th></tr><tr><td>date</td><td>f64</td></tr></thead><tbody><tr><td>2000-01-01</td><td>4310.7</td></tr><tr><td>2001-01-01</td><td>4789.7977</td></tr><tr><td>2002-01-01</td><td>5304.4434</td></tr><tr><td>2003-01-01</td><td>6281.5443</td></tr><tr><td>2004-01-01</td><td>7631.9981</td></tr><tr><td>&hellip;</td><td>&hellip;</td></tr><tr><td>2015-01-01</td><td>19002.0</td></tr><tr><td>2016-01-01</td><td>19951.6</td></tr><tr><td>2017-01-01</td><td>21930.4</td></tr><tr><td>2018-01-01</td><td>23435.6</td></tr><tr><td>2019-01-01</td><td>23535.2</td></tr></tbody></table></div>"
      ],
      "text/plain": [
       "shape: (20, 2)\n",
       "┌────────────┬───────────────────────────────────┐\n",
       "│ Fecha      ┆ Consumo Intermedio-Agricultura, … │\n",
       "│ ---        ┆ ---                               │\n",
       "│ date       ┆ f64                               │\n",
       "╞════════════╪═══════════════════════════════════╡\n",
       "│ 2000-01-01 ┆ 4310.7                            │\n",
       "│ 2001-01-01 ┆ 4789.7977                         │\n",
       "│ 2002-01-01 ┆ 5304.4434                         │\n",
       "│ 2003-01-01 ┆ 6281.5443                         │\n",
       "│ 2004-01-01 ┆ 7631.9981                         │\n",
       "│ …          ┆ …                                 │\n",
       "│ 2015-01-01 ┆ 19002.0                           │\n",
       "│ 2016-01-01 ┆ 19951.6                           │\n",
       "│ 2017-01-01 ┆ 21930.4                           │\n",
       "│ 2018-01-01 ┆ 23435.6                           │\n",
       "│ 2019-01-01 ┆ 23535.2                           │\n",
       "└────────────┴───────────────────────────────────┘"
      ]
     },
     "execution_count": 38,
     "metadata": {},
     "output_type": "execute_result"
    }
   ],
   "source": [
    "Id = 7467\n",
    "df = get_df(Id)\n",
    "# get_plot(Id)\n",
    "df"
   ]
  },
  {
   "cell_type": "markdown",
   "id": "f206f792",
   "metadata": {},
   "source": [
    "#### VAB = Valor Agregado Bruto\n"
   ]
  },
  {
   "cell_type": "code",
   "execution_count": 39,
   "id": "a90aab8f",
   "metadata": {},
   "outputs": [
    {
     "name": "stdout",
     "output_type": "stream",
     "text": [
      "2 subgrupos\n",
      "120 variables\n"
     ]
    },
    {
     "name": "stderr",
     "output_type": "stream",
     "text": [
      "<string>:29: FutureWarning:\n",
      "\n",
      "Passing literal json to 'read_json' is deprecated and will be removed in a future version. To read from a literal string, wrap it in a 'StringIO' object.\n",
      "\n"
     ]
    },
    {
     "data": {
      "text/html": [
       "<div><style>\n",
       ".dataframe > thead > tr,\n",
       ".dataframe > tbody > tr {\n",
       "  text-align: right;\n",
       "  white-space: pre-wrap;\n",
       "}\n",
       "</style>\n",
       "<small>shape: (2, 4)</small><table border=\"1\" class=\"dataframe\"><thead><tr><th>Niv_Gr_1</th><th>Niv_Gr_2</th><th>Niv_Gr_3</th><th>N_Variables</th></tr><tr><td>str</td><td>str</td><td>str</td><td>u32</td></tr></thead><tbody><tr><td>&quot;ESR&quot;</td><td>&quot;VAB&quot;</td><td>&quot;02&quot;</td><td>64</td></tr><tr><td>&quot;ESR&quot;</td><td>&quot;VAB&quot;</td><td>&quot;01&quot;</td><td>56</td></tr></tbody></table></div>"
      ],
      "text/plain": [
       "shape: (2, 4)\n",
       "┌──────────┬──────────┬──────────┬─────────────┐\n",
       "│ Niv_Gr_1 ┆ Niv_Gr_2 ┆ Niv_Gr_3 ┆ N_Variables │\n",
       "│ ---      ┆ ---      ┆ ---      ┆ ---         │\n",
       "│ str      ┆ str      ┆ str      ┆ u32         │\n",
       "╞══════════╪══════════╪══════════╪═════════════╡\n",
       "│ ESR      ┆ VAB      ┆ 02       ┆ 64          │\n",
       "│ ESR      ┆ VAB      ┆ 01       ┆ 56          │\n",
       "└──────────┴──────────┴──────────┴─────────────┘"
      ]
     },
     "execution_count": 39,
     "metadata": {},
     "output_type": "execute_result"
    }
   ],
   "source": [
    "res_nivel_3(\"ESR\",\"VAB\",\"Niv_Gr_3\")"
   ]
  },
  {
   "cell_type": "markdown",
   "id": "6862c127",
   "metadata": {},
   "source": [
    "##### Valor y Variación, Corrientes y Constantes, por NAEH\n"
   ]
  },
  {
   "cell_type": "code",
   "execution_count": 40,
   "id": "aab0ba27",
   "metadata": {},
   "outputs": [
    {
     "name": "stderr",
     "output_type": "stream",
     "text": [
      "<string>:29: FutureWarning:\n",
      "\n",
      "Passing literal json to 'read_json' is deprecated and will be removed in a future version. To read from a literal string, wrap it in a 'StringIO' object.\n",
      "\n"
     ]
    },
    {
     "data": {
      "text/html": [
       "<div><style>\n",
       ".dataframe > thead > tr,\n",
       ".dataframe > tbody > tr {\n",
       "  text-align: right;\n",
       "  white-space: pre-wrap;\n",
       "}\n",
       "</style>\n",
       "<small>shape: (2, 5)</small><table border=\"1\" class=\"dataframe\"><thead><tr><th>Niv_Gr_1</th><th>Niv_Gr_2</th><th>Niv_Gr_3</th><th>Niv_Descr_4</th><th>N_Variables</th></tr><tr><td>str</td><td>str</td><td>str</td><td>str</td><td>u32</td></tr></thead><tbody><tr><td>&quot;ESR&quot;</td><td>&quot;VAB&quot;</td><td>&quot;01&quot;</td><td>&quot; Variación &quot;</td><td>28</td></tr><tr><td>&quot;ESR&quot;</td><td>&quot;VAB&quot;</td><td>&quot;01&quot;</td><td>&quot; Valor &quot;</td><td>28</td></tr></tbody></table></div>"
      ],
      "text/plain": [
       "shape: (2, 5)\n",
       "┌──────────┬──────────┬──────────┬─────────────┬─────────────┐\n",
       "│ Niv_Gr_1 ┆ Niv_Gr_2 ┆ Niv_Gr_3 ┆ Niv_Descr_4 ┆ N_Variables │\n",
       "│ ---      ┆ ---      ┆ ---      ┆ ---         ┆ ---         │\n",
       "│ str      ┆ str      ┆ str      ┆ str         ┆ u32         │\n",
       "╞══════════╪══════════╪══════════╪═════════════╪═════════════╡\n",
       "│ ESR      ┆ VAB      ┆ 01       ┆  Variación  ┆ 28          │\n",
       "│ ESR      ┆ VAB      ┆ 01       ┆  Valor      ┆ 28          │\n",
       "└──────────┴──────────┴──────────┴─────────────┴─────────────┘"
      ]
     },
     "execution_count": 40,
     "metadata": {},
     "output_type": "execute_result"
    }
   ],
   "source": [
    "res_nivel_4(\n",
    "    \"ESR\",\"VAB\",\n",
    "    \"Niv_Gr_3\",\n",
    "    \"01\",\n",
    "    \"Niv_Descr_4\")"
   ]
  },
  {
   "cell_type": "code",
   "execution_count": 41,
   "id": "df0cb7fe",
   "metadata": {},
   "outputs": [
    {
     "name": "stderr",
     "output_type": "stream",
     "text": [
      "<string>:29: FutureWarning:\n",
      "\n",
      "Passing literal json to 'read_json' is deprecated and will be removed in a future version. To read from a literal string, wrap it in a 'StringIO' object.\n",
      "\n"
     ]
    },
    {
     "data": {
      "text/html": [
       "<div><style>\n",
       ".dataframe > thead > tr,\n",
       ".dataframe > tbody > tr {\n",
       "  text-align: right;\n",
       "  white-space: pre-wrap;\n",
       "}\n",
       "</style>\n",
       "<small>shape: (4, 6)</small><table border=\"1\" class=\"dataframe\"><thead><tr><th>Niv_Gr_1</th><th>Niv_Gr_2</th><th>Niv_Gr_3</th><th>Niv_Descr_4</th><th>Niv_Descr_5</th><th>N_Variables</th></tr><tr><td>str</td><td>str</td><td>str</td><td>str</td><td>str</td><td>u32</td></tr></thead><tbody><tr><td>&quot;ESR&quot;</td><td>&quot;VAB&quot;</td><td>&quot;01&quot;</td><td>&quot; Variación &quot;</td><td>&quot; Corrientes &quot;</td><td>14</td></tr><tr><td>&quot;ESR&quot;</td><td>&quot;VAB&quot;</td><td>&quot;01&quot;</td><td>&quot; Valor &quot;</td><td>&quot; Constante &quot;</td><td>14</td></tr><tr><td>&quot;ESR&quot;</td><td>&quot;VAB&quot;</td><td>&quot;01&quot;</td><td>&quot; Variación &quot;</td><td>&quot; Constante &quot;</td><td>14</td></tr><tr><td>&quot;ESR&quot;</td><td>&quot;VAB&quot;</td><td>&quot;01&quot;</td><td>&quot; Valor &quot;</td><td>&quot; Corrientes &quot;</td><td>14</td></tr></tbody></table></div>"
      ],
      "text/plain": [
       "shape: (4, 6)\n",
       "┌──────────┬──────────┬──────────┬─────────────┬──────────────┬─────────────┐\n",
       "│ Niv_Gr_1 ┆ Niv_Gr_2 ┆ Niv_Gr_3 ┆ Niv_Descr_4 ┆ Niv_Descr_5  ┆ N_Variables │\n",
       "│ ---      ┆ ---      ┆ ---      ┆ ---         ┆ ---          ┆ ---         │\n",
       "│ str      ┆ str      ┆ str      ┆ str         ┆ str          ┆ u32         │\n",
       "╞══════════╪══════════╪══════════╪═════════════╪══════════════╪═════════════╡\n",
       "│ ESR      ┆ VAB      ┆ 01       ┆  Variación  ┆  Corrientes  ┆ 14          │\n",
       "│ ESR      ┆ VAB      ┆ 01       ┆  Valor      ┆  Constante   ┆ 14          │\n",
       "│ ESR      ┆ VAB      ┆ 01       ┆  Variación  ┆  Constante   ┆ 14          │\n",
       "│ ESR      ┆ VAB      ┆ 01       ┆  Valor      ┆  Corrientes  ┆ 14          │\n",
       "└──────────┴──────────┴──────────┴─────────────┴──────────────┴─────────────┘"
      ]
     },
     "execution_count": 41,
     "metadata": {},
     "output_type": "execute_result"
    }
   ],
   "source": [
    "res_nivel_5(\n",
    "    \"ESR\",\"VAB\",\n",
    "    \"Niv_Gr_3\",\n",
    "    \"01\",\n",
    "    \"Niv_Descr_4\",\"Niv_Descr_5\")"
   ]
  },
  {
   "cell_type": "markdown",
   "id": "6a39904c",
   "metadata": {},
   "source": [
    "Para saber el contenido de todas las variables:\n"
   ]
  },
  {
   "cell_type": "code",
   "execution_count": 42,
   "id": "dac1db30",
   "metadata": {},
   "outputs": [
    {
     "name": "stderr",
     "output_type": "stream",
     "text": [
      "<string>:29: FutureWarning:\n",
      "\n",
      "Passing literal json to 'read_json' is deprecated and will be removed in a future version. To read from a literal string, wrap it in a 'StringIO' object.\n",
      "\n"
     ]
    },
    {
     "data": {
      "text/html": [
       "<div><style>\n",
       ".dataframe > thead > tr,\n",
       ".dataframe > tbody > tr {\n",
       "  text-align: right;\n",
       "  white-space: pre-wrap;\n",
       "}\n",
       "</style>\n",
       "<small>shape: (56, 8)</small><table border=\"1\" class=\"dataframe\"><thead><tr><th>Niv_Gr_1</th><th>Niv_Gr_2</th><th>Niv_Gr_3</th><th>Id</th><th>Niv_Descr_4</th><th>Niv_Descr_5</th><th>Niv_Descr_6</th><th>N_Variables</th></tr><tr><td>str</td><td>str</td><td>str</td><td>i64</td><td>str</td><td>str</td><td>str</td><td>u32</td></tr></thead><tbody><tr><td>&quot;ESR&quot;</td><td>&quot;VAB&quot;</td><td>&quot;01&quot;</td><td>222</td><td>&quot; Valor &quot;</td><td>&quot; Corrientes &quot;</td><td>&quot; Cultivo de Ba…</td><td>1</td></tr><tr><td>&quot;ESR&quot;</td><td>&quot;VAB&quot;</td><td>&quot;01&quot;</td><td>225</td><td>&quot; Valor &quot;</td><td>&quot; Corrientes &quot;</td><td>&quot; Cría de Ganad…</td><td>1</td></tr><tr><td>&quot;ESR&quot;</td><td>&quot;VAB&quot;</td><td>&quot;01&quot;</td><td>243</td><td>&quot; Valor &quot;</td><td>&quot; Constante &quot;</td><td>&quot; Silvicultura&quot;</td><td>1</td></tr><tr><td>&quot;ESR&quot;</td><td>&quot;VAB&quot;</td><td>&quot;01&quot;</td><td>254</td><td>&quot; Variación &quot;</td><td>&quot; Corrientes &quot;</td><td>&quot; Actividades d…</td><td>1</td></tr><tr><td>&quot;ESR&quot;</td><td>&quot;VAB&quot;</td><td>&quot;01&quot;</td><td>229</td><td>&quot; Valor &quot;</td><td>&quot; Corrientes &quot;</td><td>&quot; Silvicultura&quot;</td><td>1</td></tr><tr><td>&hellip;</td><td>&hellip;</td><td>&hellip;</td><td>&hellip;</td><td>&hellip;</td><td>&hellip;</td><td>&hellip;</td><td>&hellip;</td></tr><tr><td>&quot;ESR&quot;</td><td>&quot;VAB&quot;</td><td>&quot;01&quot;</td><td>227</td><td>&quot; Valor &quot;</td><td>&quot; Corrientes &quot;</td><td>&quot; Cría de Otros…</td><td>1</td></tr><tr><td>&quot;ESR&quot;</td><td>&quot;VAB&quot;</td><td>&quot;01&quot;</td><td>235</td><td>&quot; Valor &quot;</td><td>&quot; Constante &quot;</td><td>&quot; Cultivo de Pa…</td><td>1</td></tr><tr><td>&quot;ESR&quot;</td><td>&quot;VAB&quot;</td><td>&quot;01&quot;</td><td>249</td><td>&quot; Variación &quot;</td><td>&quot; Corrientes &quot;</td><td>&quot; Cultivo de Pa…</td><td>1</td></tr><tr><td>&quot;ESR&quot;</td><td>&quot;VAB&quot;</td><td>&quot;01&quot;</td><td>251</td><td>&quot; Variación &quot;</td><td>&quot; Corrientes &quot;</td><td>&quot; Cultivo de Ca…</td><td>1</td></tr><tr><td>&quot;ESR&quot;</td><td>&quot;VAB&quot;</td><td>&quot;01&quot;</td><td>268</td><td>&quot; Variación &quot;</td><td>&quot; Constante &quot;</td><td>&quot; Actividades d…</td><td>1</td></tr></tbody></table></div>"
      ],
      "text/plain": [
       "shape: (56, 8)\n",
       "┌──────────┬──────────┬──────────┬─────┬─────────────┬──────────────┬────────────────┬─────────────┐\n",
       "│ Niv_Gr_1 ┆ Niv_Gr_2 ┆ Niv_Gr_3 ┆ Id  ┆ Niv_Descr_4 ┆ Niv_Descr_5  ┆ Niv_Descr_6    ┆ N_Variables │\n",
       "│ ---      ┆ ---      ┆ ---      ┆ --- ┆ ---         ┆ ---          ┆ ---            ┆ ---         │\n",
       "│ str      ┆ str      ┆ str      ┆ i64 ┆ str         ┆ str          ┆ str            ┆ u32         │\n",
       "╞══════════╪══════════╪══════════╪═════╪═════════════╪══════════════╪════════════════╪═════════════╡\n",
       "│ ESR      ┆ VAB      ┆ 01       ┆ 222 ┆  Valor      ┆  Corrientes  ┆ Cultivo de     ┆ 1           │\n",
       "│          ┆          ┆          ┆     ┆             ┆              ┆ Banano         ┆             │\n",
       "│ ESR      ┆ VAB      ┆ 01       ┆ 225 ┆  Valor      ┆  Corrientes  ┆ Cría de Ganado ┆ 1           │\n",
       "│          ┆          ┆          ┆     ┆             ┆              ┆ Vacuno         ┆             │\n",
       "│ ESR      ┆ VAB      ┆ 01       ┆ 243 ┆  Valor      ┆  Constante   ┆  Silvicultura  ┆ 1           │\n",
       "│ ESR      ┆ VAB      ┆ 01       ┆ 254 ┆  Variación  ┆  Corrientes  ┆ Actividades de ┆ 1           │\n",
       "│          ┆          ┆          ┆     ┆             ┆              ┆ Pesca          ┆             │\n",
       "│ ESR      ┆ VAB      ┆ 01       ┆ 229 ┆  Valor      ┆  Corrientes  ┆  Silvicultura  ┆ 1           │\n",
       "│ …        ┆ …        ┆ …        ┆ …   ┆ …           ┆ …            ┆ …              ┆ …           │\n",
       "│ ESR      ┆ VAB      ┆ 01       ┆ 227 ┆  Valor      ┆  Corrientes  ┆ Cría de Otros  ┆ 1           │\n",
       "│          ┆          ┆          ┆     ┆             ┆              ┆ Animales       ┆             │\n",
       "│ ESR      ┆ VAB      ┆ 01       ┆ 235 ┆  Valor      ┆  Constante   ┆ Cultivo de     ┆ 1           │\n",
       "│          ┆          ┆          ┆     ┆             ┆              ┆ Palma Africana ┆             │\n",
       "│ ESR      ┆ VAB      ┆ 01       ┆ 249 ┆  Variación  ┆  Corrientes  ┆ Cultivo de     ┆ 1           │\n",
       "│          ┆          ┆          ┆     ┆             ┆              ┆ Palma Africana ┆             │\n",
       "│ ESR      ┆ VAB      ┆ 01       ┆ 251 ┆  Variación  ┆  Corrientes  ┆ Cultivo de     ┆ 1           │\n",
       "│          ┆          ┆          ┆     ┆             ┆              ┆ Café           ┆             │\n",
       "│ ESR      ┆ VAB      ┆ 01       ┆ 268 ┆  Variación  ┆  Constante   ┆ Actividades de ┆ 1           │\n",
       "│          ┆          ┆          ┆     ┆             ┆              ┆ Pesca          ┆             │\n",
       "└──────────┴──────────┴──────────┴─────┴─────────────┴──────────────┴────────────────┴─────────────┘"
      ]
     },
     "execution_count": 42,
     "metadata": {},
     "output_type": "execute_result"
    }
   ],
   "source": [
    "res_nivel_7(\n",
    "    \"ESR\",\"VAB\",\n",
    "    \"Niv_Gr_3\",\n",
    "    \"01\",\n",
    "    \"Id\",\"Niv_Descr_4\",\"Niv_Descr_5\",\"Niv_Descr_6\")"
   ]
  },
  {
   "cell_type": "markdown",
   "id": "9ca35902",
   "metadata": {},
   "source": [
    "Resultados de una sola variable:\n"
   ]
  },
  {
   "cell_type": "code",
   "execution_count": 43,
   "id": "7c77c84b",
   "metadata": {},
   "outputs": [
    {
     "name": "stderr",
     "output_type": "stream",
     "text": [
      "<string>:29: FutureWarning:\n",
      "\n",
      "Passing literal json to 'read_json' is deprecated and will be removed in a future version. To read from a literal string, wrap it in a 'StringIO' object.\n",
      "\n"
     ]
    },
    {
     "name": "stderr",
     "output_type": "stream",
     "text": [
      "<string>:29: FutureWarning:\n",
      "\n",
      "Passing literal json to 'read_json' is deprecated and will be removed in a future version. To read from a literal string, wrap it in a 'StringIO' object.\n",
      "\n"
     ]
    },
    {
     "data": {
      "text/html": [
       "<div><style>\n",
       ".dataframe > thead > tr,\n",
       ".dataframe > tbody > tr {\n",
       "  text-align: right;\n",
       "  white-space: pre-wrap;\n",
       "}\n",
       "</style>\n",
       "<small>shape: (24, 2)</small><table border=\"1\" class=\"dataframe\"><thead><tr><th>Fecha</th><th>ESR-VAB-01 - Valor - Corrientes - Cultivo de Arroz en Granza</th></tr><tr><td>date</td><td>f64</td></tr></thead><tbody><tr><td>2000-01-01</td><td>18.7</td></tr><tr><td>2001-01-01</td><td>19.9</td></tr><tr><td>2002-01-01</td><td>24.7</td></tr><tr><td>2003-01-01</td><td>26.8</td></tr><tr><td>2004-01-01</td><td>29.8</td></tr><tr><td>&hellip;</td><td>&hellip;</td></tr><tr><td>2019-01-01</td><td>267.9</td></tr><tr><td>2020-01-01</td><td>313.8</td></tr><tr><td>2021-01-01</td><td>242.2</td></tr><tr><td>2022-01-01</td><td>206.8</td></tr><tr><td>2023-01-01</td><td>157.8</td></tr></tbody></table></div>"
      ],
      "text/plain": [
       "shape: (24, 2)\n",
       "┌────────────┬───────────────────────────────────┐\n",
       "│ Fecha      ┆ ESR-VAB-01 - Valor - Corrientes … │\n",
       "│ ---        ┆ ---                               │\n",
       "│ date       ┆ f64                               │\n",
       "╞════════════╪═══════════════════════════════════╡\n",
       "│ 2000-01-01 ┆ 18.7                              │\n",
       "│ 2001-01-01 ┆ 19.9                              │\n",
       "│ 2002-01-01 ┆ 24.7                              │\n",
       "│ 2003-01-01 ┆ 26.8                              │\n",
       "│ 2004-01-01 ┆ 29.8                              │\n",
       "│ …          ┆ …                                 │\n",
       "│ 2019-01-01 ┆ 267.9                             │\n",
       "│ 2020-01-01 ┆ 313.8                             │\n",
       "│ 2021-01-01 ┆ 242.2                             │\n",
       "│ 2022-01-01 ┆ 206.8                             │\n",
       "│ 2023-01-01 ┆ 157.8                             │\n",
       "└────────────┴───────────────────────────────────┘"
      ]
     },
     "execution_count": 43,
     "metadata": {},
     "output_type": "execute_result"
    }
   ],
   "source": [
    "Id = 220\n",
    "df = get_df(Id)\n",
    "# get_plot(Id)\n",
    "df"
   ]
  },
  {
   "cell_type": "markdown",
   "id": "3b01454a",
   "metadata": {},
   "source": [
    "##### Precio y Variación, Corrientes y Constantes, por NAEH\n"
   ]
  },
  {
   "cell_type": "code",
   "execution_count": 44,
   "id": "b51d3ca7",
   "metadata": {},
   "outputs": [
    {
     "name": "stderr",
     "output_type": "stream",
     "text": [
      "<string>:29: FutureWarning:\n",
      "\n",
      "Passing literal json to 'read_json' is deprecated and will be removed in a future version. To read from a literal string, wrap it in a 'StringIO' object.\n",
      "\n"
     ]
    },
    {
     "data": {
      "text/html": [
       "<div><style>\n",
       ".dataframe > thead > tr,\n",
       ".dataframe > tbody > tr {\n",
       "  text-align: right;\n",
       "  white-space: pre-wrap;\n",
       "}\n",
       "</style>\n",
       "<small>shape: (2, 5)</small><table border=\"1\" class=\"dataframe\"><thead><tr><th>Niv_Gr_1</th><th>Niv_Gr_2</th><th>Niv_Gr_3</th><th>Niv_Descr_4</th><th>N_Variables</th></tr><tr><td>str</td><td>str</td><td>str</td><td>str</td><td>u32</td></tr></thead><tbody><tr><td>&quot;ESR&quot;</td><td>&quot;VAB&quot;</td><td>&quot;02&quot;</td><td>&quot; Precio &quot;</td><td>32</td></tr><tr><td>&quot;ESR&quot;</td><td>&quot;VAB&quot;</td><td>&quot;02&quot;</td><td>&quot; Variación &quot;</td><td>32</td></tr></tbody></table></div>"
      ],
      "text/plain": [
       "shape: (2, 5)\n",
       "┌──────────┬──────────┬──────────┬─────────────┬─────────────┐\n",
       "│ Niv_Gr_1 ┆ Niv_Gr_2 ┆ Niv_Gr_3 ┆ Niv_Descr_4 ┆ N_Variables │\n",
       "│ ---      ┆ ---      ┆ ---      ┆ ---         ┆ ---         │\n",
       "│ str      ┆ str      ┆ str      ┆ str         ┆ u32         │\n",
       "╞══════════╪══════════╪══════════╪═════════════╪═════════════╡\n",
       "│ ESR      ┆ VAB      ┆ 02       ┆  Precio     ┆ 32          │\n",
       "│ ESR      ┆ VAB      ┆ 02       ┆  Variación  ┆ 32          │\n",
       "└──────────┴──────────┴──────────┴─────────────┴─────────────┘"
      ]
     },
     "execution_count": 44,
     "metadata": {},
     "output_type": "execute_result"
    }
   ],
   "source": [
    "res_nivel_4(\n",
    "    \"ESR\",\"VAB\",\n",
    "    \"Niv_Gr_3\",\n",
    "    \"02\",\n",
    "    \"Niv_Descr_4\")"
   ]
  },
  {
   "cell_type": "code",
   "execution_count": 45,
   "id": "abe18754",
   "metadata": {},
   "outputs": [
    {
     "name": "stderr",
     "output_type": "stream",
     "text": [
      "<string>:29: FutureWarning:\n",
      "\n",
      "Passing literal json to 'read_json' is deprecated and will be removed in a future version. To read from a literal string, wrap it in a 'StringIO' object.\n",
      "\n"
     ]
    },
    {
     "data": {
      "text/html": [
       "<div><style>\n",
       ".dataframe > thead > tr,\n",
       ".dataframe > tbody > tr {\n",
       "  text-align: right;\n",
       "  white-space: pre-wrap;\n",
       "}\n",
       "</style>\n",
       "<small>shape: (4, 6)</small><table border=\"1\" class=\"dataframe\"><thead><tr><th>Niv_Gr_1</th><th>Niv_Gr_2</th><th>Niv_Gr_3</th><th>Niv_Descr_4</th><th>Niv_Descr_5</th><th>N_Variables</th></tr><tr><td>str</td><td>str</td><td>str</td><td>str</td><td>str</td><td>u32</td></tr></thead><tbody><tr><td>&quot;ESR&quot;</td><td>&quot;VAB&quot;</td><td>&quot;02&quot;</td><td>&quot; Precio &quot;</td><td>&quot; Constantes &quot;</td><td>16</td></tr><tr><td>&quot;ESR&quot;</td><td>&quot;VAB&quot;</td><td>&quot;02&quot;</td><td>&quot; Precio &quot;</td><td>&quot; Corrientes &quot;</td><td>16</td></tr><tr><td>&quot;ESR&quot;</td><td>&quot;VAB&quot;</td><td>&quot;02&quot;</td><td>&quot; Variación &quot;</td><td>&quot; Constantes &quot;</td><td>16</td></tr><tr><td>&quot;ESR&quot;</td><td>&quot;VAB&quot;</td><td>&quot;02&quot;</td><td>&quot; Variación &quot;</td><td>&quot; Corrientes &quot;</td><td>16</td></tr></tbody></table></div>"
      ],
      "text/plain": [
       "shape: (4, 6)\n",
       "┌──────────┬──────────┬──────────┬─────────────┬──────────────┬─────────────┐\n",
       "│ Niv_Gr_1 ┆ Niv_Gr_2 ┆ Niv_Gr_3 ┆ Niv_Descr_4 ┆ Niv_Descr_5  ┆ N_Variables │\n",
       "│ ---      ┆ ---      ┆ ---      ┆ ---         ┆ ---          ┆ ---         │\n",
       "│ str      ┆ str      ┆ str      ┆ str         ┆ str          ┆ u32         │\n",
       "╞══════════╪══════════╪══════════╪═════════════╪══════════════╪═════════════╡\n",
       "│ ESR      ┆ VAB      ┆ 02       ┆  Precio     ┆  Constantes  ┆ 16          │\n",
       "│ ESR      ┆ VAB      ┆ 02       ┆  Precio     ┆  Corrientes  ┆ 16          │\n",
       "│ ESR      ┆ VAB      ┆ 02       ┆  Variación  ┆  Constantes  ┆ 16          │\n",
       "│ ESR      ┆ VAB      ┆ 02       ┆  Variación  ┆  Corrientes  ┆ 16          │\n",
       "└──────────┴──────────┴──────────┴─────────────┴──────────────┴─────────────┘"
      ]
     },
     "execution_count": 45,
     "metadata": {},
     "output_type": "execute_result"
    }
   ],
   "source": [
    "res_nivel_5(\n",
    "    \"ESR\",\"VAB\",\n",
    "    \"Niv_Gr_3\",\n",
    "    \"02\",\n",
    "    \"Niv_Descr_4\",\"Niv_Descr_5\")"
   ]
  },
  {
   "cell_type": "markdown",
   "id": "2b7386e0",
   "metadata": {},
   "source": [
    "Notar que aquí el Nivel de Descripción 6 (Niv_Descr_6) no es una buena opción de desagregación, puesto que los componentes son \"Actividad Económica\" y \"Productos Alimenticios, Bebidas y Tabaco\"; esta última está detallada en mayor grado en el Nivel de Descripción 7 (Niv_Descr_7).\n",
    "\n",
    "Para saber el contenido de todas las variables:\n"
   ]
  },
  {
   "cell_type": "code",
   "execution_count": 46,
   "id": "36a7dfe4",
   "metadata": {},
   "outputs": [
    {
     "name": "stderr",
     "output_type": "stream",
     "text": [
      "<string>:29: FutureWarning:\n",
      "\n",
      "Passing literal json to 'read_json' is deprecated and will be removed in a future version. To read from a literal string, wrap it in a 'StringIO' object.\n",
      "\n"
     ]
    },
    {
     "data": {
      "text/html": [
       "<div><style>\n",
       ".dataframe > thead > tr,\n",
       ".dataframe > tbody > tr {\n",
       "  text-align: right;\n",
       "  white-space: pre-wrap;\n",
       "}\n",
       "</style>\n",
       "<small>shape: (64, 8)</small><table border=\"1\" class=\"dataframe\"><thead><tr><th>Niv_Gr_1</th><th>Niv_Gr_2</th><th>Niv_Gr_3</th><th>Id</th><th>Niv_Descr_4</th><th>Niv_Descr_5</th><th>Niv_Descr_7</th><th>N_Variables</th></tr><tr><td>str</td><td>str</td><td>str</td><td>i64</td><td>str</td><td>str</td><td>str</td><td>u32</td></tr></thead><tbody><tr><td>&quot;ESR&quot;</td><td>&quot;VAB&quot;</td><td>&quot;02&quot;</td><td>297</td><td>&quot; Precio &quot;</td><td>&quot; Corrientes &quot;</td><td>&quot; Muebles&quot;</td><td>1</td></tr><tr><td>&quot;ESR&quot;</td><td>&quot;VAB&quot;</td><td>&quot;02&quot;</td><td>310</td><td>&quot; Variación &quot;</td><td>&quot; Constantes &quot;</td><td>&quot; Fabricación d…</td><td>1</td></tr><tr><td>&quot;ESR&quot;</td><td>&quot;VAB&quot;</td><td>&quot;02&quot;</td><td>316</td><td>&quot; Variación &quot;</td><td>&quot; Constantes &quot;</td><td>&quot; Producción, P…</td><td>1</td></tr><tr><td>&quot;ESR&quot;</td><td>&quot;VAB&quot;</td><td>&quot;02&quot;</td><td>292</td><td>&quot; Precio &quot;</td><td>&quot; Corrientes &quot;</td><td>&quot; Fabricación d…</td><td>1</td></tr><tr><td>&quot;ESR&quot;</td><td>&quot;VAB&quot;</td><td>&quot;02&quot;</td><td>301</td><td>&quot; Precio &quot;</td><td>&quot; Corrientes &quot;</td><td>&quot; Elaboración d…</td><td>1</td></tr><tr><td>&hellip;</td><td>&hellip;</td><td>&hellip;</td><td>&hellip;</td><td>&hellip;</td><td>&hellip;</td><td>&hellip;</td><td>&hellip;</td></tr><tr><td>&quot;ESR&quot;</td><td>&quot;VAB&quot;</td><td>&quot;02&quot;</td><td>315</td><td>&quot; Variación &quot;</td><td>&quot; Constantes &quot;</td><td>&quot; Valor Agregad…</td><td>1</td></tr><tr><td>&quot;ESR&quot;</td><td>&quot;VAB&quot;</td><td>&quot;02&quot;</td><td>318</td><td>&quot; Variación &quot;</td><td>&quot; Constantes &quot;</td><td>&quot; Elaboración d…</td><td>1</td></tr><tr><td>&quot;ESR&quot;</td><td>&quot;VAB&quot;</td><td>&quot;02&quot;</td><td>327</td><td>&quot; Variación &quot;</td><td>&quot; Corrientes &quot;</td><td>&quot; Industrias Me…</td><td>1</td></tr><tr><td>&quot;ESR&quot;</td><td>&quot;VAB&quot;</td><td>&quot;02&quot;</td><td>330</td><td>&quot; Variación &quot;</td><td>&quot; Corrientes &quot;</td><td>&quot; Otras Industr…</td><td>1</td></tr><tr><td>&quot;ESR&quot;</td><td>&quot;VAB&quot;</td><td>&quot;02&quot;</td><td>331</td><td>&quot; Variación &quot;</td><td>&quot; Corrientes &quot;</td><td>&quot; Valor Agregad…</td><td>1</td></tr></tbody></table></div>"
      ],
      "text/plain": [
       "shape: (64, 8)\n",
       "┌──────────┬──────────┬──────────┬─────┬─────────────┬──────────────┬────────────────┬─────────────┐\n",
       "│ Niv_Gr_1 ┆ Niv_Gr_2 ┆ Niv_Gr_3 ┆ Id  ┆ Niv_Descr_4 ┆ Niv_Descr_5  ┆ Niv_Descr_7    ┆ N_Variables │\n",
       "│ ---      ┆ ---      ┆ ---      ┆ --- ┆ ---         ┆ ---          ┆ ---            ┆ ---         │\n",
       "│ str      ┆ str      ┆ str      ┆ i64 ┆ str         ┆ str          ┆ str            ┆ u32         │\n",
       "╞══════════╪══════════╪══════════╪═════╪═════════════╪══════════════╪════════════════╪═════════════╡\n",
       "│ ESR      ┆ VAB      ┆ 02       ┆ 297 ┆  Precio     ┆  Corrientes  ┆  Muebles       ┆ 1           │\n",
       "│ ESR      ┆ VAB      ┆ 02       ┆ 310 ┆  Variación  ┆  Constantes  ┆ Fabricación de ┆ 1           │\n",
       "│          ┆          ┆          ┆     ┆             ┆              ┆ Productos de   ┆             │\n",
       "│          ┆          ┆          ┆     ┆             ┆              ┆ Vid…           ┆             │\n",
       "│ ESR      ┆ VAB      ┆ 02       ┆ 316 ┆  Variación  ┆  Constantes  ┆ Producción,    ┆ 1           │\n",
       "│          ┆          ┆          ┆     ┆             ┆              ┆ Procesamiento  ┆             │\n",
       "│          ┆          ┆          ┆     ┆             ┆              ┆ y Con…         ┆             │\n",
       "│ ESR      ┆ VAB      ┆ 02       ┆ 292 ┆  Precio     ┆  Corrientes  ┆ Fabricación de ┆ 1           │\n",
       "│          ┆          ┆          ┆     ┆             ┆              ┆ Papel y        ┆             │\n",
       "│          ┆          ┆          ┆     ┆             ┆              ┆ Producto…      ┆             │\n",
       "│ ESR      ┆ VAB      ┆ 02       ┆ 301 ┆  Precio     ┆  Corrientes  ┆ Elaboración de ┆ 1           │\n",
       "│          ┆          ┆          ┆     ┆             ┆              ┆ Productos de   ┆             │\n",
       "│          ┆          ┆          ┆     ┆             ┆              ┆ Mol…           ┆             │\n",
       "│ …        ┆ …        ┆ …        ┆ …   ┆ …           ┆ …            ┆ …              ┆ …           │\n",
       "│ ESR      ┆ VAB      ┆ 02       ┆ 315 ┆  Variación  ┆  Constantes  ┆ Valor Agregado ┆ 1           │\n",
       "│          ┆          ┆          ┆     ┆             ┆              ┆ Bruto          ┆             │\n",
       "│ ESR      ┆ VAB      ┆ 02       ┆ 318 ┆  Variación  ┆  Constantes  ┆ Elaboración de ┆ 1           │\n",
       "│          ┆          ┆          ┆     ┆             ┆              ┆ otros          ┆             │\n",
       "│          ┆          ┆          ┆     ┆             ┆              ┆ Productos …    ┆             │\n",
       "│ ESR      ┆ VAB      ┆ 02       ┆ 327 ┆  Variación  ┆  Corrientes  ┆ Industrias     ┆ 1           │\n",
       "│          ┆          ┆          ┆     ┆             ┆              ┆ Metálicas      ┆             │\n",
       "│          ┆          ┆          ┆     ┆             ┆              ┆ Básicas        ┆             │\n",
       "│ ESR      ┆ VAB      ┆ 02       ┆ 330 ┆  Variación  ┆  Corrientes  ┆ Otras          ┆ 1           │\n",
       "│          ┆          ┆          ┆     ┆             ┆              ┆ Industrias     ┆             │\n",
       "│          ┆          ┆          ┆     ┆             ┆              ┆ Manufactureras ┆             │\n",
       "│ ESR      ┆ VAB      ┆ 02       ┆ 331 ┆  Variación  ┆  Corrientes  ┆ Valor Agregado ┆ 1           │\n",
       "│          ┆          ┆          ┆     ┆             ┆              ┆ Bruto          ┆             │\n",
       "└──────────┴──────────┴──────────┴─────┴─────────────┴──────────────┴────────────────┴─────────────┘"
      ]
     },
     "execution_count": 46,
     "metadata": {},
     "output_type": "execute_result"
    }
   ],
   "source": [
    "res_nivel_7(\n",
    "    \"ESR\",\"VAB\",\n",
    "    \"Niv_Gr_3\",\n",
    "    \"02\",\n",
    "    \"Id\",\"Niv_Descr_4\",\"Niv_Descr_5\",\"Niv_Descr_7\")"
   ]
  },
  {
   "cell_type": "markdown",
   "id": "b8df1062",
   "metadata": {},
   "source": [
    "Resultados de una sola variable:\n"
   ]
  },
  {
   "cell_type": "code",
   "execution_count": 47,
   "id": "6033275f",
   "metadata": {},
   "outputs": [
    {
     "name": "stderr",
     "output_type": "stream",
     "text": [
      "<string>:29: FutureWarning:\n",
      "\n",
      "Passing literal json to 'read_json' is deprecated and will be removed in a future version. To read from a literal string, wrap it in a 'StringIO' object.\n",
      "\n"
     ]
    },
    {
     "name": "stderr",
     "output_type": "stream",
     "text": [
      "<string>:29: FutureWarning:\n",
      "\n",
      "Passing literal json to 'read_json' is deprecated and will be removed in a future version. To read from a literal string, wrap it in a 'StringIO' object.\n",
      "\n"
     ]
    },
    {
     "data": {
      "text/html": [
       "<div><style>\n",
       ".dataframe > thead > tr,\n",
       ".dataframe > tbody > tr {\n",
       "  text-align: right;\n",
       "  white-space: pre-wrap;\n",
       "}\n",
       "</style>\n",
       "<small>shape: (24, 2)</small><table border=\"1\" class=\"dataframe\"><thead><tr><th>Fecha</th><th>ESR-VAB-02 - Precio - Constantes -  Actividad Económica - Productos Alimenticios, Bebidas y Tabaco</th></tr><tr><td>date</td><td>f64</td></tr></thead><tbody><tr><td>2000-01-01</td><td>8845.2</td></tr><tr><td>2001-01-01</td><td>9022.1</td></tr><tr><td>2002-01-01</td><td>9876.5</td></tr><tr><td>2003-01-01</td><td>10244.4</td></tr><tr><td>2004-01-01</td><td>10646.6</td></tr><tr><td>&hellip;</td><td>&hellip;</td></tr><tr><td>2019-01-01</td><td>19358.9</td></tr><tr><td>2020-01-01</td><td>18674.2</td></tr><tr><td>2021-01-01</td><td>19897.0</td></tr><tr><td>2022-01-01</td><td>20131.0</td></tr><tr><td>2023-01-01</td><td>20298.6</td></tr></tbody></table></div>"
      ],
      "text/plain": [
       "shape: (24, 2)\n",
       "┌────────────┬───────────────────────────────────┐\n",
       "│ Fecha      ┆ ESR-VAB-02 - Precio - Constantes… │\n",
       "│ ---        ┆ ---                               │\n",
       "│ date       ┆ f64                               │\n",
       "╞════════════╪═══════════════════════════════════╡\n",
       "│ 2000-01-01 ┆ 8845.2                            │\n",
       "│ 2001-01-01 ┆ 9022.1                            │\n",
       "│ 2002-01-01 ┆ 9876.5                            │\n",
       "│ 2003-01-01 ┆ 10244.4                           │\n",
       "│ 2004-01-01 ┆ 10646.6                           │\n",
       "│ …          ┆ …                                 │\n",
       "│ 2019-01-01 ┆ 19358.9                           │\n",
       "│ 2020-01-01 ┆ 18674.2                           │\n",
       "│ 2021-01-01 ┆ 19897.0                           │\n",
       "│ 2022-01-01 ┆ 20131.0                           │\n",
       "│ 2023-01-01 ┆ 20298.6                           │\n",
       "└────────────┴───────────────────────────────────┘"
      ]
     },
     "execution_count": 47,
     "metadata": {},
     "output_type": "execute_result"
    }
   ],
   "source": [
    "Id = 273\n",
    "df = get_df(Id)\n",
    "# get_plot(Id)\n",
    "df"
   ]
  },
  {
   "cell_type": "markdown",
   "id": "793d7d33",
   "metadata": {},
   "source": [
    "#### PIBA = PIB Anual\n",
    "\n",
    "La información se encuentra en la viñeta \"Sector Real\" de la [página web del BCH](https://www.bch.hn/estadisticas-y-publicaciones-economicas/reportes-dinamicos/sector-real).\n"
   ]
  },
  {
   "cell_type": "code",
   "execution_count": 48,
   "id": "e3031ca7",
   "metadata": {},
   "outputs": [
    {
     "name": "stdout",
     "output_type": "stream",
     "text": [
      "4 subgrupos\n",
      "118 variables\n"
     ]
    },
    {
     "name": "stderr",
     "output_type": "stream",
     "text": [
      "<string>:29: FutureWarning:\n",
      "\n",
      "Passing literal json to 'read_json' is deprecated and will be removed in a future version. To read from a literal string, wrap it in a 'StringIO' object.\n",
      "\n"
     ]
    },
    {
     "data": {
      "text/html": [
       "<div><style>\n",
       ".dataframe > thead > tr,\n",
       ".dataframe > tbody > tr {\n",
       "  text-align: right;\n",
       "  white-space: pre-wrap;\n",
       "}\n",
       "</style>\n",
       "<small>shape: (4, 4)</small><table border=\"1\" class=\"dataframe\"><thead><tr><th>Niv_Gr_1</th><th>Niv_Gr_2</th><th>Niv_Descr_3</th><th>N_Variables</th></tr><tr><td>str</td><td>str</td><td>str</td><td>u32</td></tr></thead><tbody><tr><td>&quot;ESR&quot;</td><td>&quot;PIBA&quot;</td><td>&quot;01 &quot;</td><td>84</td></tr><tr><td>&quot;ESR&quot;</td><td>&quot;PIBA&quot;</td><td>&quot;02 &quot;</td><td>18</td></tr><tr><td>&quot;ESR&quot;</td><td>&quot;PIBA&quot;</td><td>&quot;03 &quot;</td><td>10</td></tr><tr><td>&quot;ESR&quot;</td><td>&quot;PIBA&quot;</td><td>&quot;04 &quot;</td><td>6</td></tr></tbody></table></div>"
      ],
      "text/plain": [
       "shape: (4, 4)\n",
       "┌──────────┬──────────┬─────────────┬─────────────┐\n",
       "│ Niv_Gr_1 ┆ Niv_Gr_2 ┆ Niv_Descr_3 ┆ N_Variables │\n",
       "│ ---      ┆ ---      ┆ ---         ┆ ---         │\n",
       "│ str      ┆ str      ┆ str         ┆ u32         │\n",
       "╞══════════╪══════════╪═════════════╪═════════════╡\n",
       "│ ESR      ┆ PIBA     ┆ 01          ┆ 84          │\n",
       "│ ESR      ┆ PIBA     ┆ 02          ┆ 18          │\n",
       "│ ESR      ┆ PIBA     ┆ 03          ┆ 10          │\n",
       "│ ESR      ┆ PIBA     ┆ 04          ┆ 6           │\n",
       "└──────────┴──────────┴─────────────┴─────────────┘"
      ]
     },
     "execution_count": 48,
     "metadata": {},
     "output_type": "execute_result"
    }
   ],
   "source": [
    "res_nivel_3(\"ESR\",\"PIBA\",\"Niv_Descr_3\")"
   ]
  },
  {
   "cell_type": "markdown",
   "id": "82d2d388",
   "metadata": {},
   "source": [
    "##### 01 Valores Corrientes y Constantes, por Actividad Económica\n"
   ]
  },
  {
   "cell_type": "code",
   "execution_count": 49,
   "id": "615980df",
   "metadata": {},
   "outputs": [
    {
     "name": "stderr",
     "output_type": "stream",
     "text": [
      "<string>:29: FutureWarning:\n",
      "\n",
      "Passing literal json to 'read_json' is deprecated and will be removed in a future version. To read from a literal string, wrap it in a 'StringIO' object.\n",
      "\n"
     ]
    },
    {
     "data": {
      "text/html": [
       "<div><style>\n",
       ".dataframe > thead > tr,\n",
       ".dataframe > tbody > tr {\n",
       "  text-align: right;\n",
       "  white-space: pre-wrap;\n",
       "}\n",
       "</style>\n",
       "<small>shape: (3, 5)</small><table border=\"1\" class=\"dataframe\"><thead><tr><th>Niv_Gr_1</th><th>Niv_Gr_2</th><th>Niv_Gr_3</th><th>Niv_Descr_4</th><th>N_Variables</th></tr><tr><td>str</td><td>str</td><td>str</td><td>str</td><td>u32</td></tr></thead><tbody><tr><td>&quot;ESR&quot;</td><td>&quot;PIBA&quot;</td><td>&quot;01&quot;</td><td>&quot; Constantes &quot;</td><td>42</td></tr><tr><td>&quot;ESR&quot;</td><td>&quot;PIBA&quot;</td><td>&quot;01&quot;</td><td>&quot; Corrientes &quot;</td><td>34</td></tr><tr><td>&quot;ESR&quot;</td><td>&quot;PIBA&quot;</td><td>&quot;01&quot;</td><td>&quot; Corrientes  &quot;</td><td>8</td></tr></tbody></table></div>"
      ],
      "text/plain": [
       "shape: (3, 5)\n",
       "┌──────────┬──────────┬──────────┬───────────────┬─────────────┐\n",
       "│ Niv_Gr_1 ┆ Niv_Gr_2 ┆ Niv_Gr_3 ┆ Niv_Descr_4   ┆ N_Variables │\n",
       "│ ---      ┆ ---      ┆ ---      ┆ ---           ┆ ---         │\n",
       "│ str      ┆ str      ┆ str      ┆ str           ┆ u32         │\n",
       "╞══════════╪══════════╪══════════╪═══════════════╪═════════════╡\n",
       "│ ESR      ┆ PIBA     ┆ 01       ┆  Constantes   ┆ 42          │\n",
       "│ ESR      ┆ PIBA     ┆ 01       ┆  Corrientes   ┆ 34          │\n",
       "│ ESR      ┆ PIBA     ┆ 01       ┆  Corrientes   ┆ 8           │\n",
       "└──────────┴──────────┴──────────┴───────────────┴─────────────┘"
      ]
     },
     "execution_count": 49,
     "metadata": {},
     "output_type": "execute_result"
    }
   ],
   "source": [
    "res_nivel_4(\n",
    "    \"ESR\",\"PIBA\",\n",
    "    \"Niv_Gr_3\",\n",
    "    \"01\",\n",
    "    \"Niv_Descr_4\")"
   ]
  },
  {
   "cell_type": "markdown",
   "id": "fb2a2265",
   "metadata": {},
   "source": [
    "* Rama de Actividad Económica (RAE)\n",
    "* Series Agregadas\n",
    "* Variación RAE\n",
    "* Variación Series Agregadas\n"
   ]
  },
  {
   "cell_type": "code",
   "execution_count": 50,
   "id": "6a930e38",
   "metadata": {},
   "outputs": [
    {
     "name": "stderr",
     "output_type": "stream",
     "text": [
      "<string>:29: FutureWarning:\n",
      "\n",
      "Passing literal json to 'read_json' is deprecated and will be removed in a future version. To read from a literal string, wrap it in a 'StringIO' object.\n",
      "\n"
     ]
    },
    {
     "data": {
      "text/html": [
       "<div><style>\n",
       ".dataframe > thead > tr,\n",
       ".dataframe > tbody > tr {\n",
       "  text-align: right;\n",
       "  white-space: pre-wrap;\n",
       "}\n",
       "</style>\n",
       "<small>shape: (84, 7)</small><table border=\"1\" class=\"dataframe\"><thead><tr><th>Niv_Gr_1</th><th>Niv_Gr_2</th><th>Niv_Gr_3</th><th>Niv_Descr_4</th><th>Niv_Descr_5</th><th>Niv_Descr_6</th><th>N_Variables</th></tr><tr><td>str</td><td>str</td><td>str</td><td>str</td><td>str</td><td>str</td><td>u32</td></tr></thead><tbody><tr><td>&quot;ESR&quot;</td><td>&quot;PIBA&quot;</td><td>&quot;01&quot;</td><td>&quot; Constantes &quot;</td><td>&quot; Rama de Activ…</td><td>&quot; Comunicacione…</td><td>1</td></tr><tr><td>&quot;ESR&quot;</td><td>&quot;PIBA&quot;</td><td>&quot;01&quot;</td><td>&quot; Constantes &quot;</td><td>&quot; Rama de Activ…</td><td>&quot; Electricidad …</td><td>1</td></tr><tr><td>&quot;ESR&quot;</td><td>&quot;PIBA&quot;</td><td>&quot;01&quot;</td><td>&quot; Constantes &quot;</td><td>&quot; Series Agrega…</td><td>&quot; Valor Agregad…</td><td>1</td></tr><tr><td>&quot;ESR&quot;</td><td>&quot;PIBA&quot;</td><td>&quot;01&quot;</td><td>&quot; Constantes &quot;</td><td>&quot; Variación RAE…</td><td>&quot; Electricidad …</td><td>1</td></tr><tr><td>&quot;ESR&quot;</td><td>&quot;PIBA&quot;</td><td>&quot;01&quot;</td><td>&quot; Corrientes &quot;</td><td>&quot; Variación RAE…</td><td>&quot; Intermediació…</td><td>1</td></tr><tr><td>&hellip;</td><td>&hellip;</td><td>&hellip;</td><td>&hellip;</td><td>&hellip;</td><td>&hellip;</td><td>&hellip;</td></tr><tr><td>&quot;ESR&quot;</td><td>&quot;PIBA&quot;</td><td>&quot;01&quot;</td><td>&quot; Constantes &quot;</td><td>&quot; Rama de Activ…</td><td>&quot; Comercio&quot;</td><td>1</td></tr><tr><td>&quot;ESR&quot;</td><td>&quot;PIBA&quot;</td><td>&quot;01&quot;</td><td>&quot; Constantes &quot;</td><td>&quot; Rama de Activ…</td><td>&quot; Explotación d…</td><td>1</td></tr><tr><td>&quot;ESR&quot;</td><td>&quot;PIBA&quot;</td><td>&quot;01&quot;</td><td>&quot; Constantes &quot;</td><td>&quot; Variación RAE…</td><td>&quot; Servicios Soc…</td><td>1</td></tr><tr><td>&quot;ESR&quot;</td><td>&quot;PIBA&quot;</td><td>&quot;01&quot;</td><td>&quot; Constantes &quot;</td><td>&quot; Variacion Ser…</td><td>&quot; Producto Naci…</td><td>1</td></tr><tr><td>&quot;ESR&quot;</td><td>&quot;PIBA&quot;</td><td>&quot;01&quot;</td><td>&quot; Corrientes &quot;</td><td>&quot; Variación RAE…</td><td>&quot; Construcción&quot;</td><td>1</td></tr></tbody></table></div>"
      ],
      "text/plain": [
       "shape: (84, 7)\n",
       "┌──────────┬──────────┬──────────┬──────────────┬──────────────────┬─────────────────┬─────────────┐\n",
       "│ Niv_Gr_1 ┆ Niv_Gr_2 ┆ Niv_Gr_3 ┆ Niv_Descr_4  ┆ Niv_Descr_5      ┆ Niv_Descr_6     ┆ N_Variables │\n",
       "│ ---      ┆ ---      ┆ ---      ┆ ---          ┆ ---              ┆ ---             ┆ ---         │\n",
       "│ str      ┆ str      ┆ str      ┆ str          ┆ str              ┆ str             ┆ u32         │\n",
       "╞══════════╪══════════╪══════════╪══════════════╪══════════════════╪═════════════════╪═════════════╡\n",
       "│ ESR      ┆ PIBA     ┆ 01       ┆  Constantes  ┆ Rama de          ┆  Comunicaciones ┆ 1           │\n",
       "│          ┆          ┆          ┆              ┆ Actividad        ┆                 ┆             │\n",
       "│          ┆          ┆          ┆              ┆ Económica        ┆                 ┆             │\n",
       "│ ESR      ┆ PIBA     ┆ 01       ┆  Constantes  ┆ Rama de          ┆ Electricidad y  ┆ 1           │\n",
       "│          ┆          ┆          ┆              ┆ Actividad        ┆ Distribución de ┆             │\n",
       "│          ┆          ┆          ┆              ┆ Económica        ┆ …               ┆             │\n",
       "│ ESR      ┆ PIBA     ┆ 01       ┆  Constantes  ┆ Series Agregadas ┆ Valor Agregado  ┆ 1           │\n",
       "│          ┆          ┆          ┆              ┆                  ┆ Bruto (pb)      ┆             │\n",
       "│ ESR      ┆ PIBA     ┆ 01       ┆  Constantes  ┆  Variación RAE   ┆ Electricidad y  ┆ 1           │\n",
       "│          ┆          ┆          ┆              ┆                  ┆ Distribución de ┆             │\n",
       "│          ┆          ┆          ┆              ┆                  ┆ …               ┆             │\n",
       "│ ESR      ┆ PIBA     ┆ 01       ┆  Corrientes  ┆  Variación RAE   ┆ Intermediación  ┆ 1           │\n",
       "│          ┆          ┆          ┆              ┆                  ┆ Financiera      ┆             │\n",
       "│ …        ┆ …        ┆ …        ┆ …            ┆ …                ┆ …               ┆ …           │\n",
       "│ ESR      ┆ PIBA     ┆ 01       ┆  Constantes  ┆ Rama de          ┆  Comercio       ┆ 1           │\n",
       "│          ┆          ┆          ┆              ┆ Actividad        ┆                 ┆             │\n",
       "│          ┆          ┆          ┆              ┆ Económica        ┆                 ┆             │\n",
       "│ ESR      ┆ PIBA     ┆ 01       ┆  Constantes  ┆ Rama de          ┆ Explotación de  ┆ 1           │\n",
       "│          ┆          ┆          ┆              ┆ Actividad        ┆ Minas y         ┆             │\n",
       "│          ┆          ┆          ┆              ┆ Económica        ┆ Canteras        ┆             │\n",
       "│ ESR      ┆ PIBA     ┆ 01       ┆  Constantes  ┆  Variación RAE   ┆ Servicios       ┆ 1           │\n",
       "│          ┆          ┆          ┆              ┆                  ┆ Sociales y de   ┆             │\n",
       "│          ┆          ┆          ┆              ┆                  ┆ Salud           ┆             │\n",
       "│ ESR      ┆ PIBA     ┆ 01       ┆  Constantes  ┆ Variacion Series ┆ Producto        ┆ 1           │\n",
       "│          ┆          ┆          ┆              ┆ Agregadas        ┆ Nacional Bruto  ┆             │\n",
       "│          ┆          ┆          ┆              ┆                  ┆ (pm)            ┆             │\n",
       "│ ESR      ┆ PIBA     ┆ 01       ┆  Corrientes  ┆  Variación RAE   ┆  Construcción   ┆ 1           │\n",
       "└──────────┴──────────┴──────────┴──────────────┴──────────────────┴─────────────────┴─────────────┘"
      ]
     },
     "execution_count": 50,
     "metadata": {},
     "output_type": "execute_result"
    }
   ],
   "source": [
    "res_nivel_6(\n",
    "    \"ESR\",\"PIBA\",\n",
    "    \"Niv_Gr_3\",\n",
    "    \"01\",\n",
    "    \"Niv_Descr_4\",\"Niv_Descr_5\",\"Niv_Descr_6\")"
   ]
  },
  {
   "cell_type": "markdown",
   "id": "c6461bcb",
   "metadata": {},
   "source": [
    "Para saber el contenido de todas las variables:\n"
   ]
  },
  {
   "cell_type": "code",
   "execution_count": 51,
   "id": "3fc181fa",
   "metadata": {},
   "outputs": [
    {
     "name": "stderr",
     "output_type": "stream",
     "text": [
      "<string>:29: FutureWarning:\n",
      "\n",
      "Passing literal json to 'read_json' is deprecated and will be removed in a future version. To read from a literal string, wrap it in a 'StringIO' object.\n",
      "\n"
     ]
    },
    {
     "data": {
      "text/html": [
       "<div><style>\n",
       ".dataframe > thead > tr,\n",
       ".dataframe > tbody > tr {\n",
       "  text-align: right;\n",
       "  white-space: pre-wrap;\n",
       "}\n",
       "</style>\n",
       "<small>shape: (84, 8)</small><table border=\"1\" class=\"dataframe\"><thead><tr><th>Niv_Gr_1</th><th>Niv_Gr_2</th><th>Niv_Gr_3</th><th>Id</th><th>Niv_Descr_4</th><th>Niv_Descr_5</th><th>Niv_Descr_6</th><th>N_Variables</th></tr><tr><td>str</td><td>str</td><td>str</td><td>i64</td><td>str</td><td>str</td><td>str</td><td>u32</td></tr></thead><tbody><tr><td>&quot;ESR&quot;</td><td>&quot;PIBA&quot;</td><td>&quot;01&quot;</td><td>107</td><td>&quot; Constantes &quot;</td><td>&quot; Rama de Activ…</td><td>&quot; Hoteles y Res…</td><td>1</td></tr><tr><td>&quot;ESR&quot;</td><td>&quot;PIBA&quot;</td><td>&quot;01&quot;</td><td>126</td><td>&quot; Constantes &quot;</td><td>&quot; Variación RAE…</td><td>&quot; Electricidad …</td><td>1</td></tr><tr><td>&quot;ESR&quot;</td><td>&quot;PIBA&quot;</td><td>&quot;01&quot;</td><td>131</td><td>&quot; Constantes &quot;</td><td>&quot; Variación RAE…</td><td>&quot; Propiedad de …</td><td>1</td></tr><tr><td>&quot;ESR&quot;</td><td>&quot;PIBA&quot;</td><td>&quot;01&quot;</td><td>135</td><td>&quot; Constantes &quot;</td><td>&quot; Variación RAE…</td><td>&quot; Servicios Soc…</td><td>1</td></tr><tr><td>&quot;ESR&quot;</td><td>&quot;PIBA&quot;</td><td>&quot;01&quot;</td><td>137</td><td>&quot; Constantes &quot;</td><td>&quot; Variacion Ser…</td><td>&quot; Producto Inte…</td><td>1</td></tr><tr><td>&hellip;</td><td>&hellip;</td><td>&hellip;</td><td>&hellip;</td><td>&hellip;</td><td>&hellip;</td><td>&hellip;</td><td>&hellip;</td></tr><tr><td>&quot;ESR&quot;</td><td>&quot;PIBA&quot;</td><td>&quot;01&quot;</td><td>182</td><td>&quot; Corrientes  &quot;</td><td>&quot; Variacion Ser…</td><td>&quot; Valor Agregad…</td><td>1</td></tr><tr><td>&quot;ESR&quot;</td><td>&quot;PIBA&quot;</td><td>&quot;01&quot;</td><td>105</td><td>&quot; Constantes &quot;</td><td>&quot; Rama de Activ…</td><td>&quot; Electricidad …</td><td>1</td></tr><tr><td>&quot;ESR&quot;</td><td>&quot;PIBA&quot;</td><td>&quot;01&quot;</td><td>141</td><td>&quot; Corrientes &quot;</td><td>&quot; Rama de Activ…</td><td>&quot; Actividades I…</td><td>1</td></tr><tr><td>&quot;ESR&quot;</td><td>&quot;PIBA&quot;</td><td>&quot;01&quot;</td><td>167</td><td>&quot; Corrientes &quot;</td><td>&quot; Variación RAE…</td><td>&quot; Industrias Ma…</td><td>1</td></tr><tr><td>&quot;ESR&quot;</td><td>&quot;PIBA&quot;</td><td>&quot;01&quot;</td><td>169</td><td>&quot; Corrientes &quot;</td><td>&quot; Variación RAE…</td><td>&quot; Propiedad de …</td><td>1</td></tr></tbody></table></div>"
      ],
      "text/plain": [
       "shape: (84, 8)\n",
       "┌──────────┬──────────┬──────────┬─────┬───────────────┬──────────────┬──────────────┬─────────────┐\n",
       "│ Niv_Gr_1 ┆ Niv_Gr_2 ┆ Niv_Gr_3 ┆ Id  ┆ Niv_Descr_4   ┆ Niv_Descr_5  ┆ Niv_Descr_6  ┆ N_Variables │\n",
       "│ ---      ┆ ---      ┆ ---      ┆ --- ┆ ---           ┆ ---          ┆ ---          ┆ ---         │\n",
       "│ str      ┆ str      ┆ str      ┆ i64 ┆ str           ┆ str          ┆ str          ┆ u32         │\n",
       "╞══════════╪══════════╪══════════╪═════╪═══════════════╪══════════════╪══════════════╪═════════════╡\n",
       "│ ESR      ┆ PIBA     ┆ 01       ┆ 107 ┆  Constantes   ┆ Rama de      ┆ Hoteles y    ┆ 1           │\n",
       "│          ┆          ┆          ┆     ┆               ┆ Actividad    ┆ Restaurantes ┆             │\n",
       "│          ┆          ┆          ┆     ┆               ┆ Económica    ┆              ┆             │\n",
       "│ ESR      ┆ PIBA     ┆ 01       ┆ 126 ┆  Constantes   ┆ Variación    ┆ Electricidad ┆ 1           │\n",
       "│          ┆          ┆          ┆     ┆               ┆ RAE          ┆ y            ┆             │\n",
       "│          ┆          ┆          ┆     ┆               ┆              ┆ Distribución ┆             │\n",
       "│          ┆          ┆          ┆     ┆               ┆              ┆ de …         ┆             │\n",
       "│ ESR      ┆ PIBA     ┆ 01       ┆ 131 ┆  Constantes   ┆ Variación    ┆ Propiedad de ┆ 1           │\n",
       "│          ┆          ┆          ┆     ┆               ┆ RAE          ┆ Vivienda     ┆             │\n",
       "│ ESR      ┆ PIBA     ┆ 01       ┆ 135 ┆  Constantes   ┆ Variación    ┆ Servicios    ┆ 1           │\n",
       "│          ┆          ┆          ┆     ┆               ┆ RAE          ┆ Sociales y   ┆             │\n",
       "│          ┆          ┆          ┆     ┆               ┆              ┆ de Salud     ┆             │\n",
       "│ ESR      ┆ PIBA     ┆ 01       ┆ 137 ┆  Constantes   ┆ Variacion    ┆ Producto     ┆ 1           │\n",
       "│          ┆          ┆          ┆     ┆               ┆ Series       ┆ Interno      ┆             │\n",
       "│          ┆          ┆          ┆     ┆               ┆ Agregadas    ┆ Bruto (pm)   ┆             │\n",
       "│ …        ┆ …        ┆ …        ┆ …   ┆ …             ┆ …            ┆ …            ┆ …           │\n",
       "│ ESR      ┆ PIBA     ┆ 01       ┆ 182 ┆  Corrientes   ┆ Variacion    ┆ Valor        ┆ 1           │\n",
       "│          ┆          ┆          ┆     ┆               ┆ Series       ┆ Agregado     ┆             │\n",
       "│          ┆          ┆          ┆     ┆               ┆ Agregadas    ┆ Bruto (pb)   ┆             │\n",
       "│ ESR      ┆ PIBA     ┆ 01       ┆ 105 ┆  Constantes   ┆ Rama de      ┆ Electricidad ┆ 1           │\n",
       "│          ┆          ┆          ┆     ┆               ┆ Actividad    ┆ y            ┆             │\n",
       "│          ┆          ┆          ┆     ┆               ┆ Económica    ┆ Distribución ┆             │\n",
       "│          ┆          ┆          ┆     ┆               ┆              ┆ de …         ┆             │\n",
       "│ ESR      ┆ PIBA     ┆ 01       ┆ 141 ┆  Corrientes   ┆ Rama de      ┆ Actividades  ┆ 1           │\n",
       "│          ┆          ┆          ┆     ┆               ┆ Actividad    ┆ Inmobiliaria ┆             │\n",
       "│          ┆          ┆          ┆     ┆               ┆ Económica    ┆ s y Emp…     ┆             │\n",
       "│ ESR      ┆ PIBA     ┆ 01       ┆ 167 ┆  Corrientes   ┆ Variación    ┆ Industrias   ┆ 1           │\n",
       "│          ┆          ┆          ┆     ┆               ┆ RAE          ┆ Manufacturer ┆             │\n",
       "│          ┆          ┆          ┆     ┆               ┆              ┆ as           ┆             │\n",
       "│ ESR      ┆ PIBA     ┆ 01       ┆ 169 ┆  Corrientes   ┆ Variación    ┆ Propiedad de ┆ 1           │\n",
       "│          ┆          ┆          ┆     ┆               ┆ RAE          ┆ Vivienda     ┆             │\n",
       "└──────────┴──────────┴──────────┴─────┴───────────────┴──────────────┴──────────────┴─────────────┘"
      ]
     },
     "execution_count": 51,
     "metadata": {},
     "output_type": "execute_result"
    }
   ],
   "source": [
    "res_nivel_7(\n",
    "    \"ESR\",\"PIBA\",\n",
    "    \"Niv_Gr_3\",\n",
    "    \"01\",\n",
    "    \"Id\",\"Niv_Descr_4\",\"Niv_Descr_5\",\"Niv_Descr_6\")"
   ]
  },
  {
   "cell_type": "markdown",
   "id": "045c97d9",
   "metadata": {},
   "source": [
    "Resultados de una sola variable:\n"
   ]
  },
  {
   "cell_type": "code",
   "execution_count": 52,
   "id": "8c22d967",
   "metadata": {},
   "outputs": [
    {
     "name": "stderr",
     "output_type": "stream",
     "text": [
      "<string>:29: FutureWarning:\n",
      "\n",
      "Passing literal json to 'read_json' is deprecated and will be removed in a future version. To read from a literal string, wrap it in a 'StringIO' object.\n",
      "\n"
     ]
    },
    {
     "name": "stderr",
     "output_type": "stream",
     "text": [
      "<string>:29: FutureWarning:\n",
      "\n",
      "Passing literal json to 'read_json' is deprecated and will be removed in a future version. To read from a literal string, wrap it in a 'StringIO' object.\n",
      "\n"
     ]
    },
    {
     "data": {
      "text/html": [
       "<div><style>\n",
       ".dataframe > thead > tr,\n",
       ".dataframe > tbody > tr {\n",
       "  text-align: right;\n",
       "  white-space: pre-wrap;\n",
       "}\n",
       "</style>\n",
       "<small>shape: (24, 2)</small><table border=\"1\" class=\"dataframe\"><thead><tr><th>Fecha</th><th>ESR-PIBA-01 - Constantes - Rama de Actividad Económica - Agricultura, Ganadería, Caza, Silvicultura y Pesca </th></tr><tr><td>date</td><td>f64</td></tr></thead><tbody><tr><td>2000-01-01</td><td>15328.9</td></tr><tr><td>2001-01-01</td><td>15654.0</td></tr><tr><td>2002-01-01</td><td>16358.9</td></tr><tr><td>2003-01-01</td><td>16743.2</td></tr><tr><td>2004-01-01</td><td>17952.3</td></tr><tr><td>&hellip;</td><td>&hellip;</td></tr><tr><td>2019-01-01</td><td>30626.7</td></tr><tr><td>2020-01-01</td><td>28987.9</td></tr><tr><td>2021-01-01</td><td>28536.8</td></tr><tr><td>2022-01-01</td><td>28627.6</td></tr><tr><td>2023-01-01</td><td>29758.4</td></tr></tbody></table></div>"
      ],
      "text/plain": [
       "shape: (24, 2)\n",
       "┌────────────┬───────────────────────────────────┐\n",
       "│ Fecha      ┆ ESR-PIBA-01 - Constantes - Rama … │\n",
       "│ ---        ┆ ---                               │\n",
       "│ date       ┆ f64                               │\n",
       "╞════════════╪═══════════════════════════════════╡\n",
       "│ 2000-01-01 ┆ 15328.9                           │\n",
       "│ 2001-01-01 ┆ 15654.0                           │\n",
       "│ 2002-01-01 ┆ 16358.9                           │\n",
       "│ 2003-01-01 ┆ 16743.2                           │\n",
       "│ 2004-01-01 ┆ 17952.3                           │\n",
       "│ …          ┆ …                                 │\n",
       "│ 2019-01-01 ┆ 30626.7                           │\n",
       "│ 2020-01-01 ┆ 28987.9                           │\n",
       "│ 2021-01-01 ┆ 28536.8                           │\n",
       "│ 2022-01-01 ┆ 28627.6                           │\n",
       "│ 2023-01-01 ┆ 29758.4                           │\n",
       "└────────────┴───────────────────────────────────┘"
      ]
     },
     "execution_count": 52,
     "metadata": {},
     "output_type": "execute_result"
    }
   ],
   "source": [
    "Id = 101\n",
    "df = get_df(Id)\n",
    "# get_plot(Id)\n",
    "df"
   ]
  },
  {
   "cell_type": "markdown",
   "id": "a2a3bc2f",
   "metadata": {},
   "source": [
    "##### 02 Precios y Variación, por Componente del Gasto\n"
   ]
  },
  {
   "cell_type": "code",
   "execution_count": 53,
   "id": "6350b3c9",
   "metadata": {},
   "outputs": [
    {
     "name": "stderr",
     "output_type": "stream",
     "text": [
      "<string>:29: FutureWarning:\n",
      "\n",
      "Passing literal json to 'read_json' is deprecated and will be removed in a future version. To read from a literal string, wrap it in a 'StringIO' object.\n",
      "\n"
     ]
    },
    {
     "data": {
      "text/html": [
       "<div><style>\n",
       ".dataframe > thead > tr,\n",
       ".dataframe > tbody > tr {\n",
       "  text-align: right;\n",
       "  white-space: pre-wrap;\n",
       "}\n",
       "</style>\n",
       "<small>shape: (2, 5)</small><table border=\"1\" class=\"dataframe\"><thead><tr><th>Niv_Gr_1</th><th>Niv_Gr_2</th><th>Niv_Gr_3</th><th>Niv_Descr_4</th><th>N_Variables</th></tr><tr><td>str</td><td>str</td><td>str</td><td>str</td><td>u32</td></tr></thead><tbody><tr><td>&quot;ESR&quot;</td><td>&quot;PIBA&quot;</td><td>&quot;02&quot;</td><td>&quot; Precio &quot;</td><td>10</td></tr><tr><td>&quot;ESR&quot;</td><td>&quot;PIBA&quot;</td><td>&quot;02&quot;</td><td>&quot; Variación &quot;</td><td>8</td></tr></tbody></table></div>"
      ],
      "text/plain": [
       "shape: (2, 5)\n",
       "┌──────────┬──────────┬──────────┬─────────────┬─────────────┐\n",
       "│ Niv_Gr_1 ┆ Niv_Gr_2 ┆ Niv_Gr_3 ┆ Niv_Descr_4 ┆ N_Variables │\n",
       "│ ---      ┆ ---      ┆ ---      ┆ ---         ┆ ---         │\n",
       "│ str      ┆ str      ┆ str      ┆ str         ┆ u32         │\n",
       "╞══════════╪══════════╪══════════╪═════════════╪═════════════╡\n",
       "│ ESR      ┆ PIBA     ┆ 02       ┆  Precio     ┆ 10          │\n",
       "│ ESR      ┆ PIBA     ┆ 02       ┆  Variación  ┆ 8           │\n",
       "└──────────┴──────────┴──────────┴─────────────┴─────────────┘"
      ]
     },
     "execution_count": 53,
     "metadata": {},
     "output_type": "execute_result"
    }
   ],
   "source": [
    "res_nivel_4(\n",
    "    \"ESR\",\"PIBA\",\n",
    "    \"Niv_Gr_3\",\n",
    "    \"02\",\n",
    "    \"Niv_Descr_4\")"
   ]
  },
  {
   "cell_type": "markdown",
   "id": "2432885c",
   "metadata": {},
   "source": [
    "Tipo de Valores (\"Niv_Descr_5\"):\n",
    "\n",
    "* Corrientes\n",
    "* Constantes\n"
   ]
  },
  {
   "cell_type": "code",
   "execution_count": 54,
   "id": "2a2c0124",
   "metadata": {},
   "outputs": [
    {
     "name": "stderr",
     "output_type": "stream",
     "text": [
      "<string>:29: FutureWarning:\n",
      "\n",
      "Passing literal json to 'read_json' is deprecated and will be removed in a future version. To read from a literal string, wrap it in a 'StringIO' object.\n",
      "\n"
     ]
    },
    {
     "data": {
      "text/html": [
       "<div><style>\n",
       ".dataframe > thead > tr,\n",
       ".dataframe > tbody > tr {\n",
       "  text-align: right;\n",
       "  white-space: pre-wrap;\n",
       "}\n",
       "</style>\n",
       "<small>shape: (18, 7)</small><table border=\"1\" class=\"dataframe\"><thead><tr><th>Niv_Gr_1</th><th>Niv_Gr_2</th><th>Niv_Gr_3</th><th>Niv_Descr_4</th><th>Niv_Descr_5</th><th>Niv_Descr_6</th><th>N_Variables</th></tr><tr><td>str</td><td>str</td><td>str</td><td>str</td><td>str</td><td>str</td><td>u32</td></tr></thead><tbody><tr><td>&quot;ESR&quot;</td><td>&quot;PIBA&quot;</td><td>&quot;02&quot;</td><td>&quot; Precio &quot;</td><td>&quot; Corrientes &quot;</td><td>&quot; Variación de …</td><td>1</td></tr><tr><td>&quot;ESR&quot;</td><td>&quot;PIBA&quot;</td><td>&quot;02&quot;</td><td>&quot; Precio &quot;</td><td>&quot; Corrientes &quot;</td><td>&quot; Exportación f…</td><td>1</td></tr><tr><td>&quot;ESR&quot;</td><td>&quot;PIBA&quot;</td><td>&quot;02&quot;</td><td>&quot; Variación &quot;</td><td>&quot; Corrientes &quot;</td><td>&quot; Importación c…</td><td>1</td></tr><tr><td>&quot;ESR&quot;</td><td>&quot;PIBA&quot;</td><td>&quot;02&quot;</td><td>&quot; Precio &quot;</td><td>&quot; Constantes &quot;</td><td>&quot; Gasto de Cons…</td><td>1</td></tr><tr><td>&quot;ESR&quot;</td><td>&quot;PIBA&quot;</td><td>&quot;02&quot;</td><td>&quot; Precio &quot;</td><td>&quot; Corrientes &quot;</td><td>&quot; Formación Bru…</td><td>1</td></tr><tr><td>&hellip;</td><td>&hellip;</td><td>&hellip;</td><td>&hellip;</td><td>&hellip;</td><td>&hellip;</td><td>&hellip;</td></tr><tr><td>&quot;ESR&quot;</td><td>&quot;PIBA&quot;</td><td>&quot;02&quot;</td><td>&quot; Variación &quot;</td><td>&quot; Constantes &quot;</td><td>&quot; Importación c…</td><td>1</td></tr><tr><td>&quot;ESR&quot;</td><td>&quot;PIBA&quot;</td><td>&quot;02&quot;</td><td>&quot; Variación &quot;</td><td>&quot; Corrientes &quot;</td><td>&quot; Formación Bru…</td><td>1</td></tr><tr><td>&quot;ESR&quot;</td><td>&quot;PIBA&quot;</td><td>&quot;02&quot;</td><td>&quot; Precio &quot;</td><td>&quot; Constantes &quot;</td><td>&quot; Exportación f…</td><td>1</td></tr><tr><td>&quot;ESR&quot;</td><td>&quot;PIBA&quot;</td><td>&quot;02&quot;</td><td>&quot; Precio &quot;</td><td>&quot; Corrientes &quot;</td><td>&quot; Gasto de Cons…</td><td>1</td></tr><tr><td>&quot;ESR&quot;</td><td>&quot;PIBA&quot;</td><td>&quot;02&quot;</td><td>&quot; Variación &quot;</td><td>&quot; Constantes &quot;</td><td>&quot; Formación Bru…</td><td>1</td></tr></tbody></table></div>"
      ],
      "text/plain": [
       "shape: (18, 7)\n",
       "┌──────────┬──────────┬──────────┬─────────────┬──────────────┬──────────────────────┬─────────────┐\n",
       "│ Niv_Gr_1 ┆ Niv_Gr_2 ┆ Niv_Gr_3 ┆ Niv_Descr_4 ┆ Niv_Descr_5  ┆ Niv_Descr_6          ┆ N_Variables │\n",
       "│ ---      ┆ ---      ┆ ---      ┆ ---         ┆ ---          ┆ ---                  ┆ ---         │\n",
       "│ str      ┆ str      ┆ str      ┆ str         ┆ str          ┆ str                  ┆ u32         │\n",
       "╞══════════╪══════════╪══════════╪═════════════╪══════════════╪══════════════════════╪═════════════╡\n",
       "│ ESR      ┆ PIBA     ┆ 02       ┆  Precio     ┆  Corrientes  ┆ Variación de         ┆ 1           │\n",
       "│          ┆          ┆          ┆             ┆              ┆ Existencias          ┆             │\n",
       "│ ESR      ┆ PIBA     ┆ 02       ┆  Precio     ┆  Corrientes  ┆ Exportación fob de   ┆ 1           │\n",
       "│          ┆          ┆          ┆             ┆              ┆ bienes y ser…        ┆             │\n",
       "│ ESR      ┆ PIBA     ┆ 02       ┆  Variación  ┆  Corrientes  ┆ Importación cif de   ┆ 1           │\n",
       "│          ┆          ┆          ┆             ┆              ┆ bienes y ser…        ┆             │\n",
       "│ ESR      ┆ PIBA     ┆ 02       ┆  Precio     ┆  Constantes  ┆ Gasto de Consumo     ┆ 1           │\n",
       "│          ┆          ┆          ┆             ┆              ┆ Final                ┆             │\n",
       "│ ESR      ┆ PIBA     ┆ 02       ┆  Precio     ┆  Corrientes  ┆ Formación Bruta de   ┆ 1           │\n",
       "│          ┆          ┆          ┆             ┆              ┆ Capital Fijo         ┆             │\n",
       "│ …        ┆ …        ┆ …        ┆ …           ┆ …            ┆ …                    ┆ …           │\n",
       "│ ESR      ┆ PIBA     ┆ 02       ┆  Variación  ┆  Constantes  ┆ Importación cif de   ┆ 1           │\n",
       "│          ┆          ┆          ┆             ┆              ┆ bienes y ser…        ┆             │\n",
       "│ ESR      ┆ PIBA     ┆ 02       ┆  Variación  ┆  Corrientes  ┆ Formación Bruta de   ┆ 1           │\n",
       "│          ┆          ┆          ┆             ┆              ┆ Capital Fijo         ┆             │\n",
       "│ ESR      ┆ PIBA     ┆ 02       ┆  Precio     ┆  Constantes  ┆ Exportación fob de   ┆ 1           │\n",
       "│          ┆          ┆          ┆             ┆              ┆ bienes y ser…        ┆             │\n",
       "│ ESR      ┆ PIBA     ┆ 02       ┆  Precio     ┆  Corrientes  ┆ Gasto de Consumo     ┆ 1           │\n",
       "│          ┆          ┆          ┆             ┆              ┆ Final                ┆             │\n",
       "│ ESR      ┆ PIBA     ┆ 02       ┆  Variación  ┆  Constantes  ┆ Formación Bruta de   ┆ 1           │\n",
       "│          ┆          ┆          ┆             ┆              ┆ Capital Fijo         ┆             │\n",
       "└──────────┴──────────┴──────────┴─────────────┴──────────────┴──────────────────────┴─────────────┘"
      ]
     },
     "execution_count": 54,
     "metadata": {},
     "output_type": "execute_result"
    }
   ],
   "source": [
    "res_nivel_6(\n",
    "    \"ESR\",\"PIBA\",\n",
    "    \"Niv_Gr_3\",\n",
    "    \"02\",\n",
    "    \"Niv_Descr_4\",\"Niv_Descr_5\",\"Niv_Descr_6\")"
   ]
  },
  {
   "cell_type": "markdown",
   "id": "9b1eb3a9",
   "metadata": {},
   "source": [
    "Para saber el contenido de todas las variables:\n"
   ]
  },
  {
   "cell_type": "code",
   "execution_count": 55,
   "id": "839a613d",
   "metadata": {},
   "outputs": [
    {
     "name": "stderr",
     "output_type": "stream",
     "text": [
      "<string>:29: FutureWarning:\n",
      "\n",
      "Passing literal json to 'read_json' is deprecated and will be removed in a future version. To read from a literal string, wrap it in a 'StringIO' object.\n",
      "\n"
     ]
    },
    {
     "data": {
      "text/html": [
       "<div><style>\n",
       ".dataframe > thead > tr,\n",
       ".dataframe > tbody > tr {\n",
       "  text-align: right;\n",
       "  white-space: pre-wrap;\n",
       "}\n",
       "</style>\n",
       "<small>shape: (18, 8)</small><table border=\"1\" class=\"dataframe\"><thead><tr><th>Niv_Gr_1</th><th>Niv_Gr_2</th><th>Niv_Gr_3</th><th>Id</th><th>Niv_Descr_4</th><th>Niv_Descr_5</th><th>Niv_Descr_6</th><th>N_Variables</th></tr><tr><td>str</td><td>str</td><td>str</td><td>i64</td><td>str</td><td>str</td><td>str</td><td>u32</td></tr></thead><tbody><tr><td>&quot;ESR&quot;</td><td>&quot;PIBA&quot;</td><td>&quot;02&quot;</td><td>184</td><td>&quot; Precio &quot;</td><td>&quot; Constantes &quot;</td><td>&quot; Formación Bru…</td><td>1</td></tr><tr><td>&quot;ESR&quot;</td><td>&quot;PIBA&quot;</td><td>&quot;02&quot;</td><td>190</td><td>&quot; Precio &quot;</td><td>&quot; Corrientes &quot;</td><td>&quot; Gasto de Cons…</td><td>1</td></tr><tr><td>&quot;ESR&quot;</td><td>&quot;PIBA&quot;</td><td>&quot;02&quot;</td><td>188</td><td>&quot; Precio &quot;</td><td>&quot; Corrientes &quot;</td><td>&quot; Exportación f…</td><td>1</td></tr><tr><td>&quot;ESR&quot;</td><td>&quot;PIBA&quot;</td><td>&quot;02&quot;</td><td>191</td><td>&quot; Precio &quot;</td><td>&quot; Corrientes &quot;</td><td>&quot; Importación c…</td><td>1</td></tr><tr><td>&quot;ESR&quot;</td><td>&quot;PIBA&quot;</td><td>&quot;02&quot;</td><td>185</td><td>&quot; Precio &quot;</td><td>&quot; Constantes &quot;</td><td>&quot; Gasto de Cons…</td><td>1</td></tr><tr><td>&hellip;</td><td>&hellip;</td><td>&hellip;</td><td>&hellip;</td><td>&hellip;</td><td>&hellip;</td><td>&hellip;</td><td>&hellip;</td></tr><tr><td>&quot;ESR&quot;</td><td>&quot;PIBA&quot;</td><td>&quot;02&quot;</td><td>192</td><td>&quot; Precio &quot;</td><td>&quot; Corrientes &quot;</td><td>&quot; Variación de …</td><td>1</td></tr><tr><td>&quot;ESR&quot;</td><td>&quot;PIBA&quot;</td><td>&quot;02&quot;</td><td>199</td><td>&quot; Variación &quot;</td><td>&quot; Corrientes &quot;</td><td>&quot; Gasto de Cons…</td><td>1</td></tr><tr><td>&quot;ESR&quot;</td><td>&quot;PIBA&quot;</td><td>&quot;02&quot;</td><td>183</td><td>&quot; Precio &quot;</td><td>&quot; Constantes &quot;</td><td>&quot; Exportación f…</td><td>1</td></tr><tr><td>&quot;ESR&quot;</td><td>&quot;PIBA&quot;</td><td>&quot;02&quot;</td><td>197</td><td>&quot; Variación &quot;</td><td>&quot; Corrientes &quot;</td><td>&quot; Exportación f…</td><td>1</td></tr><tr><td>&quot;ESR&quot;</td><td>&quot;PIBA&quot;</td><td>&quot;02&quot;</td><td>194</td><td>&quot; Variación &quot;</td><td>&quot; Constantes &quot;</td><td>&quot; Formación Bru…</td><td>1</td></tr></tbody></table></div>"
      ],
      "text/plain": [
       "shape: (18, 8)\n",
       "┌──────────┬──────────┬──────────┬─────┬─────────────┬──────────────┬────────────────┬─────────────┐\n",
       "│ Niv_Gr_1 ┆ Niv_Gr_2 ┆ Niv_Gr_3 ┆ Id  ┆ Niv_Descr_4 ┆ Niv_Descr_5  ┆ Niv_Descr_6    ┆ N_Variables │\n",
       "│ ---      ┆ ---      ┆ ---      ┆ --- ┆ ---         ┆ ---          ┆ ---            ┆ ---         │\n",
       "│ str      ┆ str      ┆ str      ┆ i64 ┆ str         ┆ str          ┆ str            ┆ u32         │\n",
       "╞══════════╪══════════╪══════════╪═════╪═════════════╪══════════════╪════════════════╪═════════════╡\n",
       "│ ESR      ┆ PIBA     ┆ 02       ┆ 184 ┆  Precio     ┆  Constantes  ┆ Formación      ┆ 1           │\n",
       "│          ┆          ┆          ┆     ┆             ┆              ┆ Bruta de       ┆             │\n",
       "│          ┆          ┆          ┆     ┆             ┆              ┆ Capital Fijo   ┆             │\n",
       "│ ESR      ┆ PIBA     ┆ 02       ┆ 190 ┆  Precio     ┆  Corrientes  ┆ Gasto de       ┆ 1           │\n",
       "│          ┆          ┆          ┆     ┆             ┆              ┆ Consumo Final  ┆             │\n",
       "│ ESR      ┆ PIBA     ┆ 02       ┆ 188 ┆  Precio     ┆  Corrientes  ┆ Exportación    ┆ 1           │\n",
       "│          ┆          ┆          ┆     ┆             ┆              ┆ fob de bienes  ┆             │\n",
       "│          ┆          ┆          ┆     ┆             ┆              ┆ y ser…         ┆             │\n",
       "│ ESR      ┆ PIBA     ┆ 02       ┆ 191 ┆  Precio     ┆  Corrientes  ┆ Importación    ┆ 1           │\n",
       "│          ┆          ┆          ┆     ┆             ┆              ┆ cif de bienes  ┆             │\n",
       "│          ┆          ┆          ┆     ┆             ┆              ┆ y ser…         ┆             │\n",
       "│ ESR      ┆ PIBA     ┆ 02       ┆ 185 ┆  Precio     ┆  Constantes  ┆ Gasto de       ┆ 1           │\n",
       "│          ┆          ┆          ┆     ┆             ┆              ┆ Consumo Final  ┆             │\n",
       "│ …        ┆ …        ┆ …        ┆ …   ┆ …           ┆ …            ┆ …              ┆ …           │\n",
       "│ ESR      ┆ PIBA     ┆ 02       ┆ 192 ┆  Precio     ┆  Corrientes  ┆ Variación de   ┆ 1           │\n",
       "│          ┆          ┆          ┆     ┆             ┆              ┆ Existencias    ┆             │\n",
       "│ ESR      ┆ PIBA     ┆ 02       ┆ 199 ┆  Variación  ┆  Corrientes  ┆ Gasto de       ┆ 1           │\n",
       "│          ┆          ┆          ┆     ┆             ┆              ┆ Consumo Final  ┆             │\n",
       "│ ESR      ┆ PIBA     ┆ 02       ┆ 183 ┆  Precio     ┆  Constantes  ┆ Exportación    ┆ 1           │\n",
       "│          ┆          ┆          ┆     ┆             ┆              ┆ fob de bienes  ┆             │\n",
       "│          ┆          ┆          ┆     ┆             ┆              ┆ y ser…         ┆             │\n",
       "│ ESR      ┆ PIBA     ┆ 02       ┆ 197 ┆  Variación  ┆  Corrientes  ┆ Exportación    ┆ 1           │\n",
       "│          ┆          ┆          ┆     ┆             ┆              ┆ fob de bienes  ┆             │\n",
       "│          ┆          ┆          ┆     ┆             ┆              ┆ y ser…         ┆             │\n",
       "│ ESR      ┆ PIBA     ┆ 02       ┆ 194 ┆  Variación  ┆  Constantes  ┆ Formación      ┆ 1           │\n",
       "│          ┆          ┆          ┆     ┆             ┆              ┆ Bruta de       ┆             │\n",
       "│          ┆          ┆          ┆     ┆             ┆              ┆ Capital Fijo   ┆             │\n",
       "└──────────┴──────────┴──────────┴─────┴─────────────┴──────────────┴────────────────┴─────────────┘"
      ]
     },
     "execution_count": 55,
     "metadata": {},
     "output_type": "execute_result"
    }
   ],
   "source": [
    "res_nivel_7(\n",
    "    \"ESR\",\"PIBA\",\n",
    "    \"Niv_Gr_3\",\n",
    "    \"02\",\n",
    "    \"Id\",\"Niv_Descr_4\",\"Niv_Descr_5\",\"Niv_Descr_6\")"
   ]
  },
  {
   "cell_type": "markdown",
   "id": "fa6a1149",
   "metadata": {},
   "source": [
    "Resultados de una sola variable:\n"
   ]
  },
  {
   "cell_type": "code",
   "execution_count": 56,
   "id": "12886baa",
   "metadata": {},
   "outputs": [
    {
     "name": "stderr",
     "output_type": "stream",
     "text": [
      "<string>:29: FutureWarning:\n",
      "\n",
      "Passing literal json to 'read_json' is deprecated and will be removed in a future version. To read from a literal string, wrap it in a 'StringIO' object.\n",
      "\n"
     ]
    },
    {
     "name": "stderr",
     "output_type": "stream",
     "text": [
      "<string>:29: FutureWarning:\n",
      "\n",
      "Passing literal json to 'read_json' is deprecated and will be removed in a future version. To read from a literal string, wrap it in a 'StringIO' object.\n",
      "\n"
     ]
    },
    {
     "data": {
      "text/html": [
       "<div><style>\n",
       ".dataframe > thead > tr,\n",
       ".dataframe > tbody > tr {\n",
       "  text-align: right;\n",
       "  white-space: pre-wrap;\n",
       "}\n",
       "</style>\n",
       "<small>shape: (23, 2)</small><table border=\"1\" class=\"dataframe\"><thead><tr><th>Fecha</th><th>ESR-PIBA-02 - Variación - Constantes - Formación Bruta de Capital Fijo</th></tr><tr><td>date</td><td>f64</td></tr></thead><tbody><tr><td>2001-01-01</td><td>-3.0</td></tr><tr><td>2002-01-01</td><td>-7.3</td></tr><tr><td>2003-01-01</td><td>6.2</td></tr><tr><td>2004-01-01</td><td>23.4</td></tr><tr><td>2005-01-01</td><td>-1.4</td></tr><tr><td>&hellip;</td><td>&hellip;</td></tr><tr><td>2019-01-01</td><td>-3.0</td></tr><tr><td>2020-01-01</td><td>-26.7</td></tr><tr><td>2021-01-01</td><td>41.5</td></tr><tr><td>2022-01-01</td><td>2.6</td></tr><tr><td>2023-01-01</td><td>12.9</td></tr></tbody></table></div>"
      ],
      "text/plain": [
       "shape: (23, 2)\n",
       "┌────────────┬───────────────────────────────────┐\n",
       "│ Fecha      ┆ ESR-PIBA-02 - Variación - Consta… │\n",
       "│ ---        ┆ ---                               │\n",
       "│ date       ┆ f64                               │\n",
       "╞════════════╪═══════════════════════════════════╡\n",
       "│ 2001-01-01 ┆ -3.0                              │\n",
       "│ 2002-01-01 ┆ -7.3                              │\n",
       "│ 2003-01-01 ┆ 6.2                               │\n",
       "│ 2004-01-01 ┆ 23.4                              │\n",
       "│ 2005-01-01 ┆ -1.4                              │\n",
       "│ …          ┆ …                                 │\n",
       "│ 2019-01-01 ┆ -3.0                              │\n",
       "│ 2020-01-01 ┆ -26.7                             │\n",
       "│ 2021-01-01 ┆ 41.5                              │\n",
       "│ 2022-01-01 ┆ 2.6                               │\n",
       "│ 2023-01-01 ┆ 12.9                              │\n",
       "└────────────┴───────────────────────────────────┘"
      ]
     },
     "execution_count": 56,
     "metadata": {},
     "output_type": "execute_result"
    }
   ],
   "source": [
    "Id = 194\n",
    "df = get_df(Id)\n",
    "# get_plot(Id)\n",
    "df"
   ]
  },
  {
   "cell_type": "markdown",
   "id": "8e935246",
   "metadata": {},
   "source": [
    "##### 03 Precios y Variación, por Componente del Ingreso\n"
   ]
  },
  {
   "cell_type": "code",
   "execution_count": 57,
   "id": "5249a319",
   "metadata": {},
   "outputs": [
    {
     "name": "stderr",
     "output_type": "stream",
     "text": [
      "<string>:29: FutureWarning:\n",
      "\n",
      "Passing literal json to 'read_json' is deprecated and will be removed in a future version. To read from a literal string, wrap it in a 'StringIO' object.\n",
      "\n"
     ]
    },
    {
     "data": {
      "text/html": [
       "<div><style>\n",
       ".dataframe > thead > tr,\n",
       ".dataframe > tbody > tr {\n",
       "  text-align: right;\n",
       "  white-space: pre-wrap;\n",
       "}\n",
       "</style>\n",
       "<small>shape: (2, 5)</small><table border=\"1\" class=\"dataframe\"><thead><tr><th>Niv_Gr_1</th><th>Niv_Gr_2</th><th>Niv_Gr_3</th><th>Niv_Descr_4</th><th>N_Variables</th></tr><tr><td>str</td><td>str</td><td>str</td><td>str</td><td>u32</td></tr></thead><tbody><tr><td>&quot;ESR&quot;</td><td>&quot;PIBA&quot;</td><td>&quot;03&quot;</td><td>&quot; Variación &quot;</td><td>5</td></tr><tr><td>&quot;ESR&quot;</td><td>&quot;PIBA&quot;</td><td>&quot;03&quot;</td><td>&quot; Precio &quot;</td><td>5</td></tr></tbody></table></div>"
      ],
      "text/plain": [
       "shape: (2, 5)\n",
       "┌──────────┬──────────┬──────────┬─────────────┬─────────────┐\n",
       "│ Niv_Gr_1 ┆ Niv_Gr_2 ┆ Niv_Gr_3 ┆ Niv_Descr_4 ┆ N_Variables │\n",
       "│ ---      ┆ ---      ┆ ---      ┆ ---         ┆ ---         │\n",
       "│ str      ┆ str      ┆ str      ┆ str         ┆ u32         │\n",
       "╞══════════╪══════════╪══════════╪═════════════╪═════════════╡\n",
       "│ ESR      ┆ PIBA     ┆ 03       ┆  Variación  ┆ 5           │\n",
       "│ ESR      ┆ PIBA     ┆ 03       ┆  Precio     ┆ 5           │\n",
       "└──────────┴──────────┴──────────┴─────────────┴─────────────┘"
      ]
     },
     "execution_count": 57,
     "metadata": {},
     "output_type": "execute_result"
    }
   ],
   "source": [
    "res_nivel_4(\n",
    "    \"ESR\",\"PIBA\",\n",
    "    \"Niv_Gr_3\",\n",
    "    \"03\",\n",
    "    \"Niv_Descr_4\")"
   ]
  },
  {
   "cell_type": "markdown",
   "id": "633eb95e",
   "metadata": {},
   "source": [
    "* Remuneración de los asalariados\n",
    "* Impuestos netos de subvenciones sobre la producción y las importaciones\n",
    "* Excedente de Explotación bruto\n",
    "* Ingreso Mixto bruto\n",
    "* Producto Interno Bruto (pm)\n"
   ]
  },
  {
   "cell_type": "code",
   "execution_count": 58,
   "id": "d06a0e81",
   "metadata": {},
   "outputs": [
    {
     "name": "stderr",
     "output_type": "stream",
     "text": [
      "<string>:29: FutureWarning:\n",
      "\n",
      "Passing literal json to 'read_json' is deprecated and will be removed in a future version. To read from a literal string, wrap it in a 'StringIO' object.\n",
      "\n"
     ]
    },
    {
     "data": {
      "text/html": [
       "<div><style>\n",
       ".dataframe > thead > tr,\n",
       ".dataframe > tbody > tr {\n",
       "  text-align: right;\n",
       "  white-space: pre-wrap;\n",
       "}\n",
       "</style>\n",
       "<small>shape: (10, 6)</small><table border=\"1\" class=\"dataframe\"><thead><tr><th>Niv_Gr_1</th><th>Niv_Gr_2</th><th>Niv_Gr_3</th><th>Niv_Descr_4</th><th>Niv_Descr_5</th><th>N_Variables</th></tr><tr><td>str</td><td>str</td><td>str</td><td>str</td><td>str</td><td>u32</td></tr></thead><tbody><tr><td>&quot;ESR&quot;</td><td>&quot;PIBA&quot;</td><td>&quot;03&quot;</td><td>&quot; Precio &quot;</td><td>&quot; Impuestos net…</td><td>1</td></tr><tr><td>&quot;ESR&quot;</td><td>&quot;PIBA&quot;</td><td>&quot;03&quot;</td><td>&quot; Precio &quot;</td><td>&quot; Ingreso Mixto…</td><td>1</td></tr><tr><td>&quot;ESR&quot;</td><td>&quot;PIBA&quot;</td><td>&quot;03&quot;</td><td>&quot; Variación &quot;</td><td>&quot; Remuneración …</td><td>1</td></tr><tr><td>&quot;ESR&quot;</td><td>&quot;PIBA&quot;</td><td>&quot;03&quot;</td><td>&quot; Precio &quot;</td><td>&quot; Excedente de …</td><td>1</td></tr><tr><td>&quot;ESR&quot;</td><td>&quot;PIBA&quot;</td><td>&quot;03&quot;</td><td>&quot; Precio &quot;</td><td>&quot; Producto Inte…</td><td>1</td></tr><tr><td>&quot;ESR&quot;</td><td>&quot;PIBA&quot;</td><td>&quot;03&quot;</td><td>&quot; Variación &quot;</td><td>&quot; Producto Inte…</td><td>1</td></tr><tr><td>&quot;ESR&quot;</td><td>&quot;PIBA&quot;</td><td>&quot;03&quot;</td><td>&quot; Variación &quot;</td><td>&quot; Ingreso Mixto…</td><td>1</td></tr><tr><td>&quot;ESR&quot;</td><td>&quot;PIBA&quot;</td><td>&quot;03&quot;</td><td>&quot; Variación &quot;</td><td>&quot; Impuestos net…</td><td>1</td></tr><tr><td>&quot;ESR&quot;</td><td>&quot;PIBA&quot;</td><td>&quot;03&quot;</td><td>&quot; Variación &quot;</td><td>&quot; Excedente de …</td><td>1</td></tr><tr><td>&quot;ESR&quot;</td><td>&quot;PIBA&quot;</td><td>&quot;03&quot;</td><td>&quot; Precio &quot;</td><td>&quot; Remuneración …</td><td>1</td></tr></tbody></table></div>"
      ],
      "text/plain": [
       "shape: (10, 6)\n",
       "┌──────────┬──────────┬──────────┬─────────────┬───────────────────────────────────┬─────────────┐\n",
       "│ Niv_Gr_1 ┆ Niv_Gr_2 ┆ Niv_Gr_3 ┆ Niv_Descr_4 ┆ Niv_Descr_5                       ┆ N_Variables │\n",
       "│ ---      ┆ ---      ┆ ---      ┆ ---         ┆ ---                               ┆ ---         │\n",
       "│ str      ┆ str      ┆ str      ┆ str         ┆ str                               ┆ u32         │\n",
       "╞══════════╪══════════╪══════════╪═════════════╪═══════════════════════════════════╪═════════════╡\n",
       "│ ESR      ┆ PIBA     ┆ 03       ┆  Precio     ┆  Impuestos netos de subvenciones… ┆ 1           │\n",
       "│ ESR      ┆ PIBA     ┆ 03       ┆  Precio     ┆  Ingreso Mixto bruto              ┆ 1           │\n",
       "│ ESR      ┆ PIBA     ┆ 03       ┆  Variación  ┆  Remuneración de los asalariados  ┆ 1           │\n",
       "│ ESR      ┆ PIBA     ┆ 03       ┆  Precio     ┆  Excedente de Explotación bruto   ┆ 1           │\n",
       "│ ESR      ┆ PIBA     ┆ 03       ┆  Precio     ┆  Producto Interno Bruto (pm)      ┆ 1           │\n",
       "│ ESR      ┆ PIBA     ┆ 03       ┆  Variación  ┆  Producto Interno Bruto (pm)      ┆ 1           │\n",
       "│ ESR      ┆ PIBA     ┆ 03       ┆  Variación  ┆  Ingreso Mixto bruto              ┆ 1           │\n",
       "│ ESR      ┆ PIBA     ┆ 03       ┆  Variación  ┆  Impuestos netos de subvenciones… ┆ 1           │\n",
       "│ ESR      ┆ PIBA     ┆ 03       ┆  Variación  ┆  Excedente de Explotación bruto   ┆ 1           │\n",
       "│ ESR      ┆ PIBA     ┆ 03       ┆  Precio     ┆  Remuneración de los asalariados  ┆ 1           │\n",
       "└──────────┴──────────┴──────────┴─────────────┴───────────────────────────────────┴─────────────┘"
      ]
     },
     "execution_count": 58,
     "metadata": {},
     "output_type": "execute_result"
    }
   ],
   "source": [
    "res_nivel_5(\n",
    "    \"ESR\",\"PIBA\",\n",
    "    \"Niv_Gr_3\",\n",
    "    \"03\",\n",
    "    \"Niv_Descr_4\",\"Niv_Descr_5\")"
   ]
  },
  {
   "cell_type": "markdown",
   "id": "5cb5e78d",
   "metadata": {},
   "source": [
    "Para saber el contenido de todas las variables:\n"
   ]
  },
  {
   "cell_type": "code",
   "execution_count": 59,
   "id": "cadda1c5",
   "metadata": {},
   "outputs": [
    {
     "name": "stderr",
     "output_type": "stream",
     "text": [
      "<string>:29: FutureWarning:\n",
      "\n",
      "Passing literal json to 'read_json' is deprecated and will be removed in a future version. To read from a literal string, wrap it in a 'StringIO' object.\n",
      "\n"
     ]
    },
    {
     "data": {
      "text/html": [
       "<div><style>\n",
       ".dataframe > thead > tr,\n",
       ".dataframe > tbody > tr {\n",
       "  text-align: right;\n",
       "  white-space: pre-wrap;\n",
       "}\n",
       "</style>\n",
       "<small>shape: (10, 8)</small><table border=\"1\" class=\"dataframe\"><thead><tr><th>Niv_Gr_1</th><th>Niv_Gr_2</th><th>Niv_Gr_3</th><th>Id</th><th>Nombre</th><th>Niv_Descr_4</th><th>Niv_Descr_5</th><th>N_Variables</th></tr><tr><td>str</td><td>str</td><td>str</td><td>i64</td><td>str</td><td>str</td><td>str</td><td>u32</td></tr></thead><tbody><tr><td>&quot;ESR&quot;</td><td>&quot;PIBA&quot;</td><td>&quot;03&quot;</td><td>210</td><td>&quot;ESR-PIBA-03-7&quot;</td><td>&quot; Variación &quot;</td><td>&quot; Remuneración …</td><td>1</td></tr><tr><td>&quot;ESR&quot;</td><td>&quot;PIBA&quot;</td><td>&quot;03&quot;</td><td>201</td><td>&quot;ESR-PIBA-03-4&quot;</td><td>&quot; Precio &quot;</td><td>&quot; Excedente de …</td><td>1</td></tr><tr><td>&quot;ESR&quot;</td><td>&quot;PIBA&quot;</td><td>&quot;03&quot;</td><td>207</td><td>&quot;ESR-PIBA-03-8&quot;</td><td>&quot; Variación &quot;</td><td>&quot; Impuestos net…</td><td>1</td></tr><tr><td>&quot;ESR&quot;</td><td>&quot;PIBA&quot;</td><td>&quot;03&quot;</td><td>204</td><td>&quot;ESR-PIBA-03-6&quot;</td><td>&quot; Precio &quot;</td><td>&quot; Producto Inte…</td><td>1</td></tr><tr><td>&quot;ESR&quot;</td><td>&quot;PIBA&quot;</td><td>&quot;03&quot;</td><td>205</td><td>&quot;ESR-PIBA-03-1&quot;</td><td>&quot; Precio &quot;</td><td>&quot; Remuneración …</td><td>1</td></tr><tr><td>&quot;ESR&quot;</td><td>&quot;PIBA&quot;</td><td>&quot;03&quot;</td><td>206</td><td>&quot;ESR-PIBA-03-9&quot;</td><td>&quot; Variación &quot;</td><td>&quot; Excedente de …</td><td>1</td></tr><tr><td>&quot;ESR&quot;</td><td>&quot;PIBA&quot;</td><td>&quot;03&quot;</td><td>202</td><td>&quot;ESR-PIBA-03-3&quot;</td><td>&quot; Precio &quot;</td><td>&quot; Impuestos net…</td><td>1</td></tr><tr><td>&quot;ESR&quot;</td><td>&quot;PIBA&quot;</td><td>&quot;03&quot;</td><td>209</td><td>&quot;ESR-PIBA-03-2&quot;</td><td>&quot; Variación &quot;</td><td>&quot; Producto Inte…</td><td>1</td></tr><tr><td>&quot;ESR&quot;</td><td>&quot;PIBA&quot;</td><td>&quot;03&quot;</td><td>203</td><td>&quot;ESR-PIBA-03-5&quot;</td><td>&quot; Precio &quot;</td><td>&quot; Ingreso Mixto…</td><td>1</td></tr><tr><td>&quot;ESR&quot;</td><td>&quot;PIBA&quot;</td><td>&quot;03&quot;</td><td>208</td><td>&quot;ESR-PIBA-03-10…</td><td>&quot; Variación &quot;</td><td>&quot; Ingreso Mixto…</td><td>1</td></tr></tbody></table></div>"
      ],
      "text/plain": [
       "shape: (10, 8)\n",
       "┌──────────┬──────────┬──────────┬─────┬───────────────┬─────────────┬───────────────┬─────────────┐\n",
       "│ Niv_Gr_1 ┆ Niv_Gr_2 ┆ Niv_Gr_3 ┆ Id  ┆ Nombre        ┆ Niv_Descr_4 ┆ Niv_Descr_5   ┆ N_Variables │\n",
       "│ ---      ┆ ---      ┆ ---      ┆ --- ┆ ---           ┆ ---         ┆ ---           ┆ ---         │\n",
       "│ str      ┆ str      ┆ str      ┆ i64 ┆ str           ┆ str         ┆ str           ┆ u32         │\n",
       "╞══════════╪══════════╪══════════╪═════╪═══════════════╪═════════════╪═══════════════╪═════════════╡\n",
       "│ ESR      ┆ PIBA     ┆ 03       ┆ 210 ┆ ESR-PIBA-03-7 ┆  Variación  ┆ Remuneración  ┆ 1           │\n",
       "│          ┆          ┆          ┆     ┆               ┆             ┆ de los        ┆             │\n",
       "│          ┆          ┆          ┆     ┆               ┆             ┆ asalariados   ┆             │\n",
       "│ ESR      ┆ PIBA     ┆ 03       ┆ 201 ┆ ESR-PIBA-03-4 ┆  Precio     ┆ Excedente de  ┆ 1           │\n",
       "│          ┆          ┆          ┆     ┆               ┆             ┆ Explotación   ┆             │\n",
       "│          ┆          ┆          ┆     ┆               ┆             ┆ bruto         ┆             │\n",
       "│ ESR      ┆ PIBA     ┆ 03       ┆ 207 ┆ ESR-PIBA-03-8 ┆  Variación  ┆ Impuestos     ┆ 1           │\n",
       "│          ┆          ┆          ┆     ┆               ┆             ┆ netos de      ┆             │\n",
       "│          ┆          ┆          ┆     ┆               ┆             ┆ subvenciones… ┆             │\n",
       "│ ESR      ┆ PIBA     ┆ 03       ┆ 204 ┆ ESR-PIBA-03-6 ┆  Precio     ┆ Producto      ┆ 1           │\n",
       "│          ┆          ┆          ┆     ┆               ┆             ┆ Interno Bruto ┆             │\n",
       "│          ┆          ┆          ┆     ┆               ┆             ┆ (pm)          ┆             │\n",
       "│ ESR      ┆ PIBA     ┆ 03       ┆ 205 ┆ ESR-PIBA-03-1 ┆  Precio     ┆ Remuneración  ┆ 1           │\n",
       "│          ┆          ┆          ┆     ┆               ┆             ┆ de los        ┆             │\n",
       "│          ┆          ┆          ┆     ┆               ┆             ┆ asalariados   ┆             │\n",
       "│ ESR      ┆ PIBA     ┆ 03       ┆ 206 ┆ ESR-PIBA-03-9 ┆  Variación  ┆ Excedente de  ┆ 1           │\n",
       "│          ┆          ┆          ┆     ┆               ┆             ┆ Explotación   ┆             │\n",
       "│          ┆          ┆          ┆     ┆               ┆             ┆ bruto         ┆             │\n",
       "│ ESR      ┆ PIBA     ┆ 03       ┆ 202 ┆ ESR-PIBA-03-3 ┆  Precio     ┆ Impuestos     ┆ 1           │\n",
       "│          ┆          ┆          ┆     ┆               ┆             ┆ netos de      ┆             │\n",
       "│          ┆          ┆          ┆     ┆               ┆             ┆ subvenciones… ┆             │\n",
       "│ ESR      ┆ PIBA     ┆ 03       ┆ 209 ┆ ESR-PIBA-03-2 ┆  Variación  ┆ Producto      ┆ 1           │\n",
       "│          ┆          ┆          ┆     ┆               ┆             ┆ Interno Bruto ┆             │\n",
       "│          ┆          ┆          ┆     ┆               ┆             ┆ (pm)          ┆             │\n",
       "│ ESR      ┆ PIBA     ┆ 03       ┆ 203 ┆ ESR-PIBA-03-5 ┆  Precio     ┆ Ingreso Mixto ┆ 1           │\n",
       "│          ┆          ┆          ┆     ┆               ┆             ┆ bruto         ┆             │\n",
       "│ ESR      ┆ PIBA     ┆ 03       ┆ 208 ┆ ESR-PIBA-03-1 ┆  Variación  ┆ Ingreso Mixto ┆ 1           │\n",
       "│          ┆          ┆          ┆     ┆ 0             ┆             ┆ bruto         ┆             │\n",
       "└──────────┴──────────┴──────────┴─────┴───────────────┴─────────────┴───────────────┴─────────────┘"
      ]
     },
     "execution_count": 59,
     "metadata": {},
     "output_type": "execute_result"
    }
   ],
   "source": [
    "res_nivel_7(\n",
    "    \"ESR\",\"PIBA\",\n",
    "    \"Niv_Gr_3\",\n",
    "    \"03\",\n",
    "    \"Id\",\"Nombre\",\"Niv_Descr_4\",\"Niv_Descr_5\")"
   ]
  },
  {
   "cell_type": "markdown",
   "id": "bb42f414",
   "metadata": {},
   "source": [
    "Resultados de una sola variable:\n"
   ]
  },
  {
   "cell_type": "code",
   "execution_count": 60,
   "id": "164f1118",
   "metadata": {},
   "outputs": [
    {
     "name": "stderr",
     "output_type": "stream",
     "text": [
      "<string>:29: FutureWarning:\n",
      "\n",
      "Passing literal json to 'read_json' is deprecated and will be removed in a future version. To read from a literal string, wrap it in a 'StringIO' object.\n",
      "\n"
     ]
    },
    {
     "name": "stderr",
     "output_type": "stream",
     "text": [
      "<string>:29: FutureWarning:\n",
      "\n",
      "Passing literal json to 'read_json' is deprecated and will be removed in a future version. To read from a literal string, wrap it in a 'StringIO' object.\n",
      "\n"
     ]
    },
    {
     "data": {
      "text/html": [
       "<div><style>\n",
       ".dataframe > thead > tr,\n",
       ".dataframe > tbody > tr {\n",
       "  text-align: right;\n",
       "  white-space: pre-wrap;\n",
       "}\n",
       "</style>\n",
       "<small>shape: (24, 2)</small><table border=\"1\" class=\"dataframe\"><thead><tr><th>Fecha</th><th>ESR-PIBA-03 - Precio - Impuestos netos de subvenciones sobre la producción y las importaciones</th></tr><tr><td>date</td><td>f64</td></tr></thead><tbody><tr><td>2000-01-01</td><td>11452.8</td></tr><tr><td>2001-01-01</td><td>13402.9</td></tr><tr><td>2002-01-01</td><td>14236.3</td></tr><tr><td>2003-01-01</td><td>15213.9</td></tr><tr><td>2004-01-01</td><td>17069.2</td></tr><tr><td>&hellip;</td><td>&hellip;</td></tr><tr><td>2019-01-01</td><td>66960.7</td></tr><tr><td>2020-01-01</td><td>58433.7</td></tr><tr><td>2021-01-01</td><td>79447.2</td></tr><tr><td>2022-01-01</td><td>86343.3</td></tr><tr><td>2023-01-01</td><td>96575.0</td></tr></tbody></table></div>"
      ],
      "text/plain": [
       "shape: (24, 2)\n",
       "┌────────────┬───────────────────────────────────┐\n",
       "│ Fecha      ┆ ESR-PIBA-03 - Precio - Impuestos… │\n",
       "│ ---        ┆ ---                               │\n",
       "│ date       ┆ f64                               │\n",
       "╞════════════╪═══════════════════════════════════╡\n",
       "│ 2000-01-01 ┆ 11452.8                           │\n",
       "│ 2001-01-01 ┆ 13402.9                           │\n",
       "│ 2002-01-01 ┆ 14236.3                           │\n",
       "│ 2003-01-01 ┆ 15213.9                           │\n",
       "│ 2004-01-01 ┆ 17069.2                           │\n",
       "│ …          ┆ …                                 │\n",
       "│ 2019-01-01 ┆ 66960.7                           │\n",
       "│ 2020-01-01 ┆ 58433.7                           │\n",
       "│ 2021-01-01 ┆ 79447.2                           │\n",
       "│ 2022-01-01 ┆ 86343.3                           │\n",
       "│ 2023-01-01 ┆ 96575.0                           │\n",
       "└────────────┴───────────────────────────────────┘"
      ]
     },
     "execution_count": 60,
     "metadata": {},
     "output_type": "execute_result"
    }
   ],
   "source": [
    "Id = 202\n",
    "df = get_df(Id)\n",
    "# get_plot(Id)\n",
    "df"
   ]
  },
  {
   "cell_type": "markdown",
   "id": "1e962478",
   "metadata": {},
   "source": [
    "##### 04 Dólares y Lempiras\n"
   ]
  },
  {
   "cell_type": "code",
   "execution_count": 61,
   "id": "0a07a5cd",
   "metadata": {},
   "outputs": [
    {
     "name": "stderr",
     "output_type": "stream",
     "text": [
      "<string>:29: FutureWarning:\n",
      "\n",
      "Passing literal json to 'read_json' is deprecated and will be removed in a future version. To read from a literal string, wrap it in a 'StringIO' object.\n",
      "\n"
     ]
    },
    {
     "data": {
      "text/html": [
       "<div><style>\n",
       ".dataframe > thead > tr,\n",
       ".dataframe > tbody > tr {\n",
       "  text-align: right;\n",
       "  white-space: pre-wrap;\n",
       "}\n",
       "</style>\n",
       "<small>shape: (2, 5)</small><table border=\"1\" class=\"dataframe\"><thead><tr><th>Niv_Gr_1</th><th>Niv_Gr_2</th><th>Niv_Gr_3</th><th>Niv_Descr_4</th><th>N_Variables</th></tr><tr><td>str</td><td>str</td><td>str</td><td>str</td><td>u32</td></tr></thead><tbody><tr><td>&quot;ESR&quot;</td><td>&quot;PIBA&quot;</td><td>&quot;04&quot;</td><td>&quot; Lempiras &quot;</td><td>3</td></tr><tr><td>&quot;ESR&quot;</td><td>&quot;PIBA&quot;</td><td>&quot;04&quot;</td><td>&quot; Dólares &quot;</td><td>3</td></tr></tbody></table></div>"
      ],
      "text/plain": [
       "shape: (2, 5)\n",
       "┌──────────┬──────────┬──────────┬─────────────┬─────────────┐\n",
       "│ Niv_Gr_1 ┆ Niv_Gr_2 ┆ Niv_Gr_3 ┆ Niv_Descr_4 ┆ N_Variables │\n",
       "│ ---      ┆ ---      ┆ ---      ┆ ---         ┆ ---         │\n",
       "│ str      ┆ str      ┆ str      ┆ str         ┆ u32         │\n",
       "╞══════════╪══════════╪══════════╪═════════════╪═════════════╡\n",
       "│ ESR      ┆ PIBA     ┆ 04       ┆  Lempiras   ┆ 3           │\n",
       "│ ESR      ┆ PIBA     ┆ 04       ┆  Dólares    ┆ 3           │\n",
       "└──────────┴──────────┴──────────┴─────────────┴─────────────┘"
      ]
     },
     "execution_count": 61,
     "metadata": {},
     "output_type": "execute_result"
    }
   ],
   "source": [
    "res_nivel_4(\n",
    "    \"ESR\",\"PIBA\",\n",
    "    \"Niv_Gr_3\",\n",
    "    \"04\",\n",
    "    \"Niv_Descr_4\")"
   ]
  },
  {
   "cell_type": "markdown",
   "id": "ffb03c0a",
   "metadata": {},
   "source": [
    "* Ingreso Nacional\n",
    "* Producto Interno Bruto\n",
    "* Producto Nacional Bruto\n"
   ]
  },
  {
   "cell_type": "code",
   "execution_count": 62,
   "id": "b6f9e014",
   "metadata": {},
   "outputs": [
    {
     "name": "stderr",
     "output_type": "stream",
     "text": [
      "<string>:29: FutureWarning:\n",
      "\n",
      "Passing literal json to 'read_json' is deprecated and will be removed in a future version. To read from a literal string, wrap it in a 'StringIO' object.\n",
      "\n"
     ]
    },
    {
     "data": {
      "text/html": [
       "<div><style>\n",
       ".dataframe > thead > tr,\n",
       ".dataframe > tbody > tr {\n",
       "  text-align: right;\n",
       "  white-space: pre-wrap;\n",
       "}\n",
       "</style>\n",
       "<small>shape: (6, 6)</small><table border=\"1\" class=\"dataframe\"><thead><tr><th>Niv_Gr_1</th><th>Niv_Gr_2</th><th>Niv_Gr_3</th><th>Niv_Descr_4</th><th>Niv_Descr_6</th><th>N_Variables</th></tr><tr><td>str</td><td>str</td><td>str</td><td>str</td><td>str</td><td>u32</td></tr></thead><tbody><tr><td>&quot;ESR&quot;</td><td>&quot;PIBA&quot;</td><td>&quot;04&quot;</td><td>&quot; Dólares &quot;</td><td>&quot; Producto Inte…</td><td>1</td></tr><tr><td>&quot;ESR&quot;</td><td>&quot;PIBA&quot;</td><td>&quot;04&quot;</td><td>&quot; Lempiras &quot;</td><td>&quot; Producto Inte…</td><td>1</td></tr><tr><td>&quot;ESR&quot;</td><td>&quot;PIBA&quot;</td><td>&quot;04&quot;</td><td>&quot; Dólares &quot;</td><td>&quot; Producto Naci…</td><td>1</td></tr><tr><td>&quot;ESR&quot;</td><td>&quot;PIBA&quot;</td><td>&quot;04&quot;</td><td>&quot; Lempiras &quot;</td><td>&quot; Producto Naci…</td><td>1</td></tr><tr><td>&quot;ESR&quot;</td><td>&quot;PIBA&quot;</td><td>&quot;04&quot;</td><td>&quot; Lempiras &quot;</td><td>&quot; Ingreso Nacio…</td><td>1</td></tr><tr><td>&quot;ESR&quot;</td><td>&quot;PIBA&quot;</td><td>&quot;04&quot;</td><td>&quot; Dólares &quot;</td><td>&quot; Ingreso Nacio…</td><td>1</td></tr></tbody></table></div>"
      ],
      "text/plain": [
       "shape: (6, 6)\n",
       "┌──────────┬──────────┬──────────┬─────────────┬──────────────────────────┬─────────────┐\n",
       "│ Niv_Gr_1 ┆ Niv_Gr_2 ┆ Niv_Gr_3 ┆ Niv_Descr_4 ┆ Niv_Descr_6              ┆ N_Variables │\n",
       "│ ---      ┆ ---      ┆ ---      ┆ ---         ┆ ---                      ┆ ---         │\n",
       "│ str      ┆ str      ┆ str      ┆ str         ┆ str                      ┆ u32         │\n",
       "╞══════════╪══════════╪══════════╪═════════════╪══════════════════════════╪═════════════╡\n",
       "│ ESR      ┆ PIBA     ┆ 04       ┆  Dólares    ┆  Producto Interno Bruto  ┆ 1           │\n",
       "│ ESR      ┆ PIBA     ┆ 04       ┆  Lempiras   ┆  Producto Interno Bruto  ┆ 1           │\n",
       "│ ESR      ┆ PIBA     ┆ 04       ┆  Dólares    ┆  Producto Nacional Bruto ┆ 1           │\n",
       "│ ESR      ┆ PIBA     ┆ 04       ┆  Lempiras   ┆  Producto Nacional Bruto ┆ 1           │\n",
       "│ ESR      ┆ PIBA     ┆ 04       ┆  Lempiras   ┆  Ingreso Nacional        ┆ 1           │\n",
       "│ ESR      ┆ PIBA     ┆ 04       ┆  Dólares    ┆  Ingreso Nacional        ┆ 1           │\n",
       "└──────────┴──────────┴──────────┴─────────────┴──────────────────────────┴─────────────┘"
      ]
     },
     "execution_count": 62,
     "metadata": {},
     "output_type": "execute_result"
    }
   ],
   "source": [
    "res_nivel_5(\n",
    "    \"ESR\",\"PIBA\",\n",
    "    \"Niv_Gr_3\",\n",
    "    \"04\",\n",
    "    \"Niv_Descr_4\",\"Niv_Descr_6\")"
   ]
  },
  {
   "cell_type": "markdown",
   "id": "b9793e1c",
   "metadata": {},
   "source": [
    "Para saber el contenido de todas las variables:\n"
   ]
  },
  {
   "cell_type": "code",
   "execution_count": 63,
   "id": "2d4b8741",
   "metadata": {},
   "outputs": [
    {
     "name": "stderr",
     "output_type": "stream",
     "text": [
      "<string>:29: FutureWarning:\n",
      "\n",
      "Passing literal json to 'read_json' is deprecated and will be removed in a future version. To read from a literal string, wrap it in a 'StringIO' object.\n",
      "\n"
     ]
    },
    {
     "data": {
      "text/html": [
       "<div><style>\n",
       ".dataframe > thead > tr,\n",
       ".dataframe > tbody > tr {\n",
       "  text-align: right;\n",
       "  white-space: pre-wrap;\n",
       "}\n",
       "</style>\n",
       "<small>shape: (6, 8)</small><table border=\"1\" class=\"dataframe\"><thead><tr><th>Niv_Gr_1</th><th>Niv_Gr_2</th><th>Niv_Gr_3</th><th>Id</th><th>Nombre</th><th>Niv_Descr_4</th><th>Niv_Descr_6</th><th>N_Variables</th></tr><tr><td>str</td><td>str</td><td>str</td><td>i64</td><td>str</td><td>str</td><td>str</td><td>u32</td></tr></thead><tbody><tr><td>&quot;ESR&quot;</td><td>&quot;PIBA&quot;</td><td>&quot;04&quot;</td><td>215</td><td>&quot;ESR-PIBA-04-3&quot;</td><td>&quot; Lempiras &quot;</td><td>&quot; Producto Inte…</td><td>1</td></tr><tr><td>&quot;ESR&quot;</td><td>&quot;PIBA&quot;</td><td>&quot;04&quot;</td><td>211</td><td>&quot;ESR-PIBA-04-2&quot;</td><td>&quot; Dólares &quot;</td><td>&quot; Ingreso Nacio…</td><td>1</td></tr><tr><td>&quot;ESR&quot;</td><td>&quot;PIBA&quot;</td><td>&quot;04&quot;</td><td>213</td><td>&quot;ESR-PIBA-04-6&quot;</td><td>&quot; Dólares &quot;</td><td>&quot; Producto Naci…</td><td>1</td></tr><tr><td>&quot;ESR&quot;</td><td>&quot;PIBA&quot;</td><td>&quot;04&quot;</td><td>212</td><td>&quot;ESR-PIBA-04-4&quot;</td><td>&quot; Dólares &quot;</td><td>&quot; Producto Inte…</td><td>1</td></tr><tr><td>&quot;ESR&quot;</td><td>&quot;PIBA&quot;</td><td>&quot;04&quot;</td><td>216</td><td>&quot;ESR-PIBA-04-5&quot;</td><td>&quot; Lempiras &quot;</td><td>&quot; Producto Naci…</td><td>1</td></tr><tr><td>&quot;ESR&quot;</td><td>&quot;PIBA&quot;</td><td>&quot;04&quot;</td><td>214</td><td>&quot;ESR-PIBA-04-1&quot;</td><td>&quot; Lempiras &quot;</td><td>&quot; Ingreso Nacio…</td><td>1</td></tr></tbody></table></div>"
      ],
      "text/plain": [
       "shape: (6, 8)\n",
       "┌──────────┬──────────┬──────────┬─────┬───────────────┬─────────────┬───────────────┬─────────────┐\n",
       "│ Niv_Gr_1 ┆ Niv_Gr_2 ┆ Niv_Gr_3 ┆ Id  ┆ Nombre        ┆ Niv_Descr_4 ┆ Niv_Descr_6   ┆ N_Variables │\n",
       "│ ---      ┆ ---      ┆ ---      ┆ --- ┆ ---           ┆ ---         ┆ ---           ┆ ---         │\n",
       "│ str      ┆ str      ┆ str      ┆ i64 ┆ str           ┆ str         ┆ str           ┆ u32         │\n",
       "╞══════════╪══════════╪══════════╪═════╪═══════════════╪═════════════╪═══════════════╪═════════════╡\n",
       "│ ESR      ┆ PIBA     ┆ 04       ┆ 215 ┆ ESR-PIBA-04-3 ┆  Lempiras   ┆ Producto      ┆ 1           │\n",
       "│          ┆          ┆          ┆     ┆               ┆             ┆ Interno Bruto ┆             │\n",
       "│ ESR      ┆ PIBA     ┆ 04       ┆ 211 ┆ ESR-PIBA-04-2 ┆  Dólares    ┆ Ingreso       ┆ 1           │\n",
       "│          ┆          ┆          ┆     ┆               ┆             ┆ Nacional      ┆             │\n",
       "│ ESR      ┆ PIBA     ┆ 04       ┆ 213 ┆ ESR-PIBA-04-6 ┆  Dólares    ┆ Producto      ┆ 1           │\n",
       "│          ┆          ┆          ┆     ┆               ┆             ┆ Nacional      ┆             │\n",
       "│          ┆          ┆          ┆     ┆               ┆             ┆ Bruto         ┆             │\n",
       "│ ESR      ┆ PIBA     ┆ 04       ┆ 212 ┆ ESR-PIBA-04-4 ┆  Dólares    ┆ Producto      ┆ 1           │\n",
       "│          ┆          ┆          ┆     ┆               ┆             ┆ Interno Bruto ┆             │\n",
       "│ ESR      ┆ PIBA     ┆ 04       ┆ 216 ┆ ESR-PIBA-04-5 ┆  Lempiras   ┆ Producto      ┆ 1           │\n",
       "│          ┆          ┆          ┆     ┆               ┆             ┆ Nacional      ┆             │\n",
       "│          ┆          ┆          ┆     ┆               ┆             ┆ Bruto         ┆             │\n",
       "│ ESR      ┆ PIBA     ┆ 04       ┆ 214 ┆ ESR-PIBA-04-1 ┆  Lempiras   ┆ Ingreso       ┆ 1           │\n",
       "│          ┆          ┆          ┆     ┆               ┆             ┆ Nacional      ┆             │\n",
       "└──────────┴──────────┴──────────┴─────┴───────────────┴─────────────┴───────────────┴─────────────┘"
      ]
     },
     "execution_count": 63,
     "metadata": {},
     "output_type": "execute_result"
    }
   ],
   "source": [
    "res_nivel_7(\n",
    "    \"ESR\",\"PIBA\",\n",
    "    \"Niv_Gr_3\",\n",
    "    \"04\",\n",
    "    \"Id\",\"Nombre\",\"Niv_Descr_4\",\"Niv_Descr_6\")"
   ]
  },
  {
   "cell_type": "markdown",
   "id": "bfab4e55",
   "metadata": {},
   "source": [
    "Resultados de una sola variable:\n"
   ]
  },
  {
   "cell_type": "code",
   "execution_count": 64,
   "id": "81db5536",
   "metadata": {},
   "outputs": [
    {
     "name": "stderr",
     "output_type": "stream",
     "text": [
      "<string>:29: FutureWarning:\n",
      "\n",
      "Passing literal json to 'read_json' is deprecated and will be removed in a future version. To read from a literal string, wrap it in a 'StringIO' object.\n",
      "\n"
     ]
    },
    {
     "name": "stderr",
     "output_type": "stream",
     "text": [
      "<string>:29: FutureWarning:\n",
      "\n",
      "Passing literal json to 'read_json' is deprecated and will be removed in a future version. To read from a literal string, wrap it in a 'StringIO' object.\n",
      "\n"
     ]
    },
    {
     "data": {
      "text/html": [
       "<div><style>\n",
       ".dataframe > thead > tr,\n",
       ".dataframe > tbody > tr {\n",
       "  text-align: right;\n",
       "  white-space: pre-wrap;\n",
       "}\n",
       "</style>\n",
       "<small>shape: (24, 2)</small><table border=\"1\" class=\"dataframe\"><thead><tr><th>Fecha</th><th>ESR-PIBA-04 - Dólares - IngresoNacionalDolares - Ingreso Nacional</th></tr><tr><td>date</td><td>f64</td></tr></thead><tbody><tr><td>2000-01-01</td><td>929.4</td></tr><tr><td>2001-01-01</td><td>957.5</td></tr><tr><td>2002-01-01</td><td>958.9</td></tr><tr><td>2003-01-01</td><td>979.3</td></tr><tr><td>2004-01-01</td><td>1019.1</td></tr><tr><td>&hellip;</td><td>&hellip;</td></tr><tr><td>2019-01-01</td><td>2098.4</td></tr><tr><td>2020-01-01</td><td>1961.0</td></tr><tr><td>2021-01-01</td><td>2261.7</td></tr><tr><td>2022-01-01</td><td>2533.5</td></tr><tr><td>2023-01-01</td><td>2746.0</td></tr></tbody></table></div>"
      ],
      "text/plain": [
       "shape: (24, 2)\n",
       "┌────────────┬───────────────────────────────────┐\n",
       "│ Fecha      ┆ ESR-PIBA-04 - Dólares - IngresoN… │\n",
       "│ ---        ┆ ---                               │\n",
       "│ date       ┆ f64                               │\n",
       "╞════════════╪═══════════════════════════════════╡\n",
       "│ 2000-01-01 ┆ 929.4                             │\n",
       "│ 2001-01-01 ┆ 957.5                             │\n",
       "│ 2002-01-01 ┆ 958.9                             │\n",
       "│ 2003-01-01 ┆ 979.3                             │\n",
       "│ 2004-01-01 ┆ 1019.1                            │\n",
       "│ …          ┆ …                                 │\n",
       "│ 2019-01-01 ┆ 2098.4                            │\n",
       "│ 2020-01-01 ┆ 1961.0                            │\n",
       "│ 2021-01-01 ┆ 2261.7                            │\n",
       "│ 2022-01-01 ┆ 2533.5                            │\n",
       "│ 2023-01-01 ┆ 2746.0                            │\n",
       "└────────────┴───────────────────────────────────┘"
      ]
     },
     "execution_count": 64,
     "metadata": {},
     "output_type": "execute_result"
    }
   ],
   "source": [
    "Id = 211\n",
    "df = get_df(Id)\n",
    "# get_plot(Id)\n",
    "df"
   ]
  },
  {
   "cell_type": "markdown",
   "id": "8f173c40",
   "metadata": {},
   "source": [
    "#### PIBT = PIB Trimestral\n",
    "\n",
    "Esta información se obtiene a partir de los datos del [Portal de Consulta del Sistema de Cuentas Trimestrales](https://sisee.bch.hn/SCNT/PortalPrincipal.aspx).\n"
   ]
  },
  {
   "cell_type": "code",
   "execution_count": 65,
   "id": "44cbf99f",
   "metadata": {},
   "outputs": [
    {
     "name": "stdout",
     "output_type": "stream",
     "text": [
      "3 subgrupos\n",
      "97 variables\n"
     ]
    },
    {
     "name": "stderr",
     "output_type": "stream",
     "text": [
      "<string>:29: FutureWarning:\n",
      "\n",
      "Passing literal json to 'read_json' is deprecated and will be removed in a future version. To read from a literal string, wrap it in a 'StringIO' object.\n",
      "\n"
     ]
    },
    {
     "data": {
      "text/html": [
       "<div><style>\n",
       ".dataframe > thead > tr,\n",
       ".dataframe > tbody > tr {\n",
       "  text-align: right;\n",
       "  white-space: pre-wrap;\n",
       "}\n",
       "</style>\n",
       "<small>shape: (3, 4)</small><table border=\"1\" class=\"dataframe\"><thead><tr><th>Niv_Gr_1</th><th>Niv_Gr_2</th><th>Niv_Gr_3</th><th>N_Variables</th></tr><tr><td>str</td><td>str</td><td>str</td><td>u32</td></tr></thead><tbody><tr><td>&quot;ESR&quot;</td><td>&quot;PIBT&quot;</td><td>&quot;PROD&quot;</td><td>68</td></tr><tr><td>&quot;ESR&quot;</td><td>&quot;PIBT&quot;</td><td>&quot;GAST&quot;</td><td>28</td></tr><tr><td>&quot;ESR&quot;</td><td>&quot;PIBT&quot;</td><td>&quot;TDC&quot;</td><td>1</td></tr></tbody></table></div>"
      ],
      "text/plain": [
       "shape: (3, 4)\n",
       "┌──────────┬──────────┬──────────┬─────────────┐\n",
       "│ Niv_Gr_1 ┆ Niv_Gr_2 ┆ Niv_Gr_3 ┆ N_Variables │\n",
       "│ ---      ┆ ---      ┆ ---      ┆ ---         │\n",
       "│ str      ┆ str      ┆ str      ┆ u32         │\n",
       "╞══════════╪══════════╪══════════╪═════════════╡\n",
       "│ ESR      ┆ PIBT     ┆ PROD     ┆ 68          │\n",
       "│ ESR      ┆ PIBT     ┆ GAST     ┆ 28          │\n",
       "│ ESR      ┆ PIBT     ┆ TDC      ┆ 1           │\n",
       "└──────────┴──────────┴──────────┴─────────────┘"
      ]
     },
     "execution_count": 65,
     "metadata": {},
     "output_type": "execute_result"
    }
   ],
   "source": [
    "res_nivel_3(\"ESR\",\"PIBT\",\"Niv_Gr_3\")"
   ]
  },
  {
   "cell_type": "markdown",
   "id": "b1c3e19a",
   "metadata": {},
   "source": [
    "* PROD = PIB Trimestral por el Enfoque de la Producción\n",
    "* GAST = PIB Trimestral por el Enfoque del Gasto\n",
    "* TDC = Tasas de Crecimiento\n",
    "\n",
    "##### PROD = PIB Trimestral por el Enfoque de la Producción\n",
    "\n",
    "* Serie Original\n",
    "* Serie Desestacionalizada\n",
    "* Valores Corrientes\n",
    "* Valores Constantes\n",
    "\n",
    "Para saber el contenido de todas las variables:\n"
   ]
  },
  {
   "cell_type": "code",
   "execution_count": 66,
   "id": "0387dd40",
   "metadata": {},
   "outputs": [
    {
     "name": "stderr",
     "output_type": "stream",
     "text": [
      "<string>:29: FutureWarning:\n",
      "\n",
      "Passing literal json to 'read_json' is deprecated and will be removed in a future version. To read from a literal string, wrap it in a 'StringIO' object.\n",
      "\n"
     ]
    },
    {
     "data": {
      "text/html": [
       "<div><style>\n",
       ".dataframe > thead > tr,\n",
       ".dataframe > tbody > tr {\n",
       "  text-align: right;\n",
       "  white-space: pre-wrap;\n",
       "}\n",
       "</style>\n",
       "<small>shape: (68, 8)</small><table border=\"1\" class=\"dataframe\"><thead><tr><th>Niv_Gr_1</th><th>Niv_Gr_2</th><th>Niv_Gr_3</th><th>Id</th><th>Niv_Descr_1</th><th>Niv_Descr_2</th><th>Niv_Descr_4</th><th>N_Variables</th></tr><tr><td>str</td><td>str</td><td>str</td><td>i64</td><td>str</td><td>str</td><td>str</td><td>u32</td></tr></thead><tbody><tr><td>&quot;ESR&quot;</td><td>&quot;PIBT&quot;</td><td>&quot;PROD&quot;</td><td>22</td><td>&quot;Serie Desestac…</td><td>&quot;VALORES CORRIE…</td><td>&quot;Administración…</td><td>1</td></tr><tr><td>&quot;ESR&quot;</td><td>&quot;PIBT&quot;</td><td>&quot;PROD&quot;</td><td>51</td><td>&quot;Serie Original…</td><td>&quot;VALORES CORRIE…</td><td>&quot;Electricidad y…</td><td>1</td></tr><tr><td>&quot;ESR&quot;</td><td>&quot;PIBT&quot;</td><td>&quot;PROD&quot;</td><td>89</td><td>&quot;Serie Original…</td><td>&quot;VALORES CORRIE…</td><td>&quot;Valor Agregado…</td><td>1</td></tr><tr><td>&quot;ESR&quot;</td><td>&quot;PIBT&quot;</td><td>&quot;PROD&quot;</td><td>16</td><td>&quot;Serie Desestac…</td><td>&quot;VALORES CORRIE…</td><td>&quot;Comercio Repar…</td><td>1</td></tr><tr><td>&quot;ESR&quot;</td><td>&quot;PIBT&quot;</td><td>&quot;PROD&quot;</td><td>47</td><td>&quot;Serie Desestac…</td><td>&quot;VALORES CORRIE…</td><td>&quot;Propiedad de V…</td><td>1</td></tr><tr><td>&hellip;</td><td>&hellip;</td><td>&hellip;</td><td>&hellip;</td><td>&hellip;</td><td>&hellip;</td><td>&hellip;</td><td>&hellip;</td></tr><tr><td>&quot;ESR&quot;</td><td>&quot;PIBT&quot;</td><td>&quot;PROD&quot;</td><td>19</td><td>&quot;Serie Desestac…</td><td>&quot;VALORES CORRIE…</td><td>&quot;Industrias Man…</td><td>1</td></tr><tr><td>&quot;ESR&quot;</td><td>&quot;PIBT&quot;</td><td>&quot;PROD&quot;</td><td>96</td><td>&quot;Serie Original…</td><td>&quot;VALORES CORRIE…</td><td>&quot;Intermediación…</td><td>1</td></tr><tr><td>&quot;ESR&quot;</td><td>&quot;PIBT&quot;</td><td>&quot;PROD&quot;</td><td>15</td><td>&quot;Serie Desestac…</td><td>&quot;VALORES CORRIE…</td><td>&quot;Transporte y A…</td><td>1</td></tr><tr><td>&quot;ESR&quot;</td><td>&quot;PIBT&quot;</td><td>&quot;PROD&quot;</td><td>65</td><td>&quot;Serie Original…</td><td>&quot;VALORES CONSTA…</td><td>&quot;Transporte y A…</td><td>1</td></tr><tr><td>&quot;ESR&quot;</td><td>&quot;PIBT&quot;</td><td>&quot;PROD&quot;</td><td>77</td><td>&quot;Serie Desestac…</td><td>&quot;VALORES CONSTA…</td><td>&quot;Comercio Repar…</td><td>1</td></tr></tbody></table></div>"
      ],
      "text/plain": [
       "shape: (68, 8)\n",
       "┌──────────┬──────────┬──────────┬─────┬───────────────┬──────────────┬──────────────┬─────────────┐\n",
       "│ Niv_Gr_1 ┆ Niv_Gr_2 ┆ Niv_Gr_3 ┆ Id  ┆ Niv_Descr_1   ┆ Niv_Descr_2  ┆ Niv_Descr_4  ┆ N_Variables │\n",
       "│ ---      ┆ ---      ┆ ---      ┆ --- ┆ ---           ┆ ---          ┆ ---          ┆ ---         │\n",
       "│ str      ┆ str      ┆ str      ┆ i64 ┆ str           ┆ str          ┆ str          ┆ u32         │\n",
       "╞══════════╪══════════╪══════════╪═════╪═══════════════╪══════════════╪══════════════╪═════════════╡\n",
       "│ ESR      ┆ PIBT     ┆ PROD     ┆ 22  ┆ Serie Desesta ┆ VALORES      ┆ Administraci ┆ 1           │\n",
       "│          ┆          ┆          ┆     ┆ cionalizada   ┆ CORRIENTES   ┆ ón Pública y ┆             │\n",
       "│          ┆          ┆          ┆     ┆               ┆              ┆ Defensa…     ┆             │\n",
       "│ ESR      ┆ PIBT     ┆ PROD     ┆ 51  ┆ Serie         ┆ VALORES      ┆ Electricidad ┆ 1           │\n",
       "│          ┆          ┆          ┆     ┆ Original      ┆ CORRIENTES   ┆ y            ┆             │\n",
       "│          ┆          ┆          ┆     ┆               ┆              ┆ Distribución ┆             │\n",
       "│          ┆          ┆          ┆     ┆               ┆              ┆ de A…        ┆             │\n",
       "│ ESR      ┆ PIBT     ┆ PROD     ┆ 89  ┆ Serie         ┆ VALORES      ┆ Valor        ┆ 1           │\n",
       "│          ┆          ┆          ┆     ┆ Original      ┆ CORRIENTES   ┆ Agregado     ┆             │\n",
       "│          ┆          ┆          ┆     ┆               ┆              ┆ Bruto a      ┆             │\n",
       "│          ┆          ┆          ┆     ┆               ┆              ┆ precios b…   ┆             │\n",
       "│ ESR      ┆ PIBT     ┆ PROD     ┆ 16  ┆ Serie Desesta ┆ VALORES      ┆ Comercio     ┆ 1           │\n",
       "│          ┆          ┆          ┆     ┆ cionalizada   ┆ CORRIENTES   ┆ Reparación   ┆             │\n",
       "│          ┆          ┆          ┆     ┆               ┆              ┆ de           ┆             │\n",
       "│          ┆          ┆          ┆     ┆               ┆              ┆ Vehículos…   ┆             │\n",
       "│ ESR      ┆ PIBT     ┆ PROD     ┆ 47  ┆ Serie Desesta ┆ VALORES      ┆ Propiedad de ┆ 1           │\n",
       "│          ┆          ┆          ┆     ┆ cionalizada   ┆ CORRIENTES   ┆ Vivienda     ┆             │\n",
       "│          ┆          ┆          ┆     ┆               ┆              ┆ Actividade…  ┆             │\n",
       "│ …        ┆ …        ┆ …        ┆ …   ┆ …             ┆ …            ┆ …            ┆ …           │\n",
       "│ ESR      ┆ PIBT     ┆ PROD     ┆ 19  ┆ Serie Desesta ┆ VALORES      ┆ Industrias   ┆ 1           │\n",
       "│          ┆          ┆          ┆     ┆ cionalizada   ┆ CORRIENTES   ┆ Manufacturer ┆             │\n",
       "│          ┆          ┆          ┆     ┆               ┆              ┆ as           ┆             │\n",
       "│ ESR      ┆ PIBT     ┆ PROD     ┆ 96  ┆ Serie         ┆ VALORES      ┆ Intermediaci ┆ 1           │\n",
       "│          ┆          ┆          ┆     ┆ Original      ┆ CORRIENTES   ┆ ón           ┆             │\n",
       "│          ┆          ┆          ┆     ┆               ┆              ┆ Financiera   ┆             │\n",
       "│ ESR      ┆ PIBT     ┆ PROD     ┆ 15  ┆ Serie Desesta ┆ VALORES      ┆ Transporte y ┆ 1           │\n",
       "│          ┆          ┆          ┆     ┆ cionalizada   ┆ CORRIENTES   ┆ Almacenamien ┆             │\n",
       "│          ┆          ┆          ┆     ┆               ┆              ┆ to           ┆             │\n",
       "│ ESR      ┆ PIBT     ┆ PROD     ┆ 65  ┆ Serie         ┆ VALORES      ┆ Transporte y ┆ 1           │\n",
       "│          ┆          ┆          ┆     ┆ Original      ┆ CONSTANTES   ┆ Almacenamien ┆             │\n",
       "│          ┆          ┆          ┆     ┆               ┆              ┆ to           ┆             │\n",
       "│ ESR      ┆ PIBT     ┆ PROD     ┆ 77  ┆ Serie Desesta ┆ VALORES      ┆ Comercio     ┆ 1           │\n",
       "│          ┆          ┆          ┆     ┆ cionalizada   ┆ CONSTANTES   ┆ Reparación   ┆             │\n",
       "│          ┆          ┆          ┆     ┆               ┆              ┆ de           ┆             │\n",
       "│          ┆          ┆          ┆     ┆               ┆              ┆ Vehículos…   ┆             │\n",
       "└──────────┴──────────┴──────────┴─────┴───────────────┴──────────────┴──────────────┴─────────────┘"
      ]
     },
     "execution_count": 66,
     "metadata": {},
     "output_type": "execute_result"
    }
   ],
   "source": [
    "res_nivel_7(\n",
    "    \"ESR\",\"PIBT\",\n",
    "    \"Niv_Gr_3\",\n",
    "    \"PROD\",\n",
    "    \"Id\",\"Niv_Descr_1\",\"Niv_Descr_2\",\"Niv_Descr_4\")"
   ]
  },
  {
   "cell_type": "markdown",
   "id": "cbf0055c",
   "metadata": {},
   "source": [
    "Resultados de una sola variable:\n"
   ]
  },
  {
   "cell_type": "code",
   "execution_count": 67,
   "id": "e506011d",
   "metadata": {},
   "outputs": [
    {
     "name": "stderr",
     "output_type": "stream",
     "text": [
      "<string>:29: FutureWarning:\n",
      "\n",
      "Passing literal json to 'read_json' is deprecated and will be removed in a future version. To read from a literal string, wrap it in a 'StringIO' object.\n",
      "\n"
     ]
    },
    {
     "name": "stderr",
     "output_type": "stream",
     "text": [
      "<string>:29: FutureWarning:\n",
      "\n",
      "Passing literal json to 'read_json' is deprecated and will be removed in a future version. To read from a literal string, wrap it in a 'StringIO' object.\n",
      "\n"
     ]
    },
    {
     "data": {
      "text/html": [
       "<div><style>\n",
       ".dataframe > thead > tr,\n",
       ".dataframe > tbody > tr {\n",
       "  text-align: right;\n",
       "  white-space: pre-wrap;\n",
       "}\n",
       "</style>\n",
       "<small>shape: (96, 2)</small><table border=\"1\" class=\"dataframe\"><thead><tr><th>Fecha</th><th>Serie Desestacionalizada-VALORES CORRIENTES-14-Servicios de Enseñanza Servicios Sociales y de Salud</th></tr><tr><td>date</td><td>f64</td></tr></thead><tbody><tr><td>2000-03-01</td><td>1754.8</td></tr><tr><td>2000-06-01</td><td>1871.8</td></tr><tr><td>2000-09-01</td><td>1939.6</td></tr><tr><td>2000-12-01</td><td>1938.9</td></tr><tr><td>2001-03-01</td><td>2250.4</td></tr><tr><td>&hellip;</td><td>&hellip;</td></tr><tr><td>2022-12-01</td><td>18497.7</td></tr><tr><td>2023-03-01</td><td>18732.8</td></tr><tr><td>2023-06-01</td><td>19374.7</td></tr><tr><td>2023-09-01</td><td>19802.0</td></tr><tr><td>2023-12-01</td><td>20086.5</td></tr></tbody></table></div>"
      ],
      "text/plain": [
       "shape: (96, 2)\n",
       "┌────────────┬───────────────────────────────────┐\n",
       "│ Fecha      ┆ Serie Desestacionalizada-VALORES… │\n",
       "│ ---        ┆ ---                               │\n",
       "│ date       ┆ f64                               │\n",
       "╞════════════╪═══════════════════════════════════╡\n",
       "│ 2000-03-01 ┆ 1754.8                            │\n",
       "│ 2000-06-01 ┆ 1871.8                            │\n",
       "│ 2000-09-01 ┆ 1939.6                            │\n",
       "│ 2000-12-01 ┆ 1938.9                            │\n",
       "│ 2001-03-01 ┆ 2250.4                            │\n",
       "│ …          ┆ …                                 │\n",
       "│ 2022-12-01 ┆ 18497.7                           │\n",
       "│ 2023-03-01 ┆ 18732.8                           │\n",
       "│ 2023-06-01 ┆ 19374.7                           │\n",
       "│ 2023-09-01 ┆ 19802.0                           │\n",
       "│ 2023-12-01 ┆ 20086.5                           │\n",
       "└────────────┴───────────────────────────────────┘"
      ]
     },
     "execution_count": 67,
     "metadata": {},
     "output_type": "execute_result"
    }
   ],
   "source": [
    "Id = 2\n",
    "df = get_df(Id)\n",
    "# get_plot(Id)\n",
    "df"
   ]
  },
  {
   "cell_type": "markdown",
   "id": "5f33ea34",
   "metadata": {},
   "source": [
    "##### GAST = PIB Trimestral por el Enfoque del Gasto\n",
    "\n",
    "* Serie Original\n",
    "* Serie Desestacionalizada\n",
    "* Valores Corrientes\n",
    "* Valores Constantes\n",
    "\n",
    "Para saber el contenido de todas las variables:\n"
   ]
  },
  {
   "cell_type": "code",
   "execution_count": 68,
   "id": "16fd7069",
   "metadata": {},
   "outputs": [
    {
     "name": "stderr",
     "output_type": "stream",
     "text": [
      "<string>:29: FutureWarning:\n",
      "\n",
      "Passing literal json to 'read_json' is deprecated and will be removed in a future version. To read from a literal string, wrap it in a 'StringIO' object.\n",
      "\n"
     ]
    },
    {
     "data": {
      "text/html": [
       "<div><style>\n",
       ".dataframe > thead > tr,\n",
       ".dataframe > tbody > tr {\n",
       "  text-align: right;\n",
       "  white-space: pre-wrap;\n",
       "}\n",
       "</style>\n",
       "<small>shape: (28, 8)</small><table border=\"1\" class=\"dataframe\"><thead><tr><th>Niv_Gr_1</th><th>Niv_Gr_2</th><th>Niv_Gr_3</th><th>Id</th><th>Niv_Descr_1</th><th>Niv_Descr_2</th><th>Niv_Descr_4</th><th>N_Variables</th></tr><tr><td>str</td><td>str</td><td>str</td><td>i64</td><td>str</td><td>str</td><td>str</td><td>u32</td></tr></thead><tbody><tr><td>&quot;ESR&quot;</td><td>&quot;PIBT&quot;</td><td>&quot;GAST&quot;</td><td>10</td><td>&quot;Serie Original…</td><td>&quot;VALORES CONSTA…</td><td>&quot;Sector Público…</td><td>1</td></tr><tr><td>&quot;ESR&quot;</td><td>&quot;PIBT&quot;</td><td>&quot;GAST&quot;</td><td>25</td><td>&quot;Serie Desestac…</td><td>&quot;VALORES CORRIE…</td><td>&quot;Producto Inter…</td><td>1</td></tr><tr><td>&quot;ESR&quot;</td><td>&quot;PIBT&quot;</td><td>&quot;GAST&quot;</td><td>31</td><td>&quot;Serie Desestac…</td><td>&quot;VALORES CORRIE…</td><td>&quot;Sector Público…</td><td>1</td></tr><tr><td>&quot;ESR&quot;</td><td>&quot;PIBT&quot;</td><td>&quot;GAST&quot;</td><td>35</td><td>&quot;Serie Desestac…</td><td>&quot;VALORES CONSTA…</td><td>&quot;Formación Brut…</td><td>1</td></tr><tr><td>&quot;ESR&quot;</td><td>&quot;PIBT&quot;</td><td>&quot;GAST&quot;</td><td>42</td><td>&quot;Serie Original…</td><td>&quot;VALORES CORRIE…</td><td>&quot;Importación de…</td><td>1</td></tr><tr><td>&hellip;</td><td>&hellip;</td><td>&hellip;</td><td>&hellip;</td><td>&hellip;</td><td>&hellip;</td><td>&hellip;</td><td>&hellip;</td></tr><tr><td>&quot;ESR&quot;</td><td>&quot;PIBT&quot;</td><td>&quot;GAST&quot;</td><td>12</td><td>&quot;Serie Original…</td><td>&quot;VALORES CONSTA…</td><td>&quot;Formación Brut…</td><td>1</td></tr><tr><td>&quot;ESR&quot;</td><td>&quot;PIBT&quot;</td><td>&quot;GAST&quot;</td><td>37</td><td>&quot;Serie Original…</td><td>&quot;VALORES CORRIE…</td><td>&quot;Gastos de Cons…</td><td>1</td></tr><tr><td>&quot;ESR&quot;</td><td>&quot;PIBT&quot;</td><td>&quot;GAST&quot;</td><td>26</td><td>&quot;Serie Desestac…</td><td>&quot;VALORES CONSTA…</td><td>&quot;Exportaciones …</td><td>1</td></tr><tr><td>&quot;ESR&quot;</td><td>&quot;PIBT&quot;</td><td>&quot;GAST&quot;</td><td>39</td><td>&quot;Serie Desestac…</td><td>&quot;VALORES CONSTA…</td><td>&quot;Sector Privado…</td><td>1</td></tr><tr><td>&quot;ESR&quot;</td><td>&quot;PIBT&quot;</td><td>&quot;GAST&quot;</td><td>9</td><td>&quot;Serie Original…</td><td>&quot;VALORES CONSTA…</td><td>&quot;Sector Privado…</td><td>1</td></tr></tbody></table></div>"
      ],
      "text/plain": [
       "shape: (28, 8)\n",
       "┌──────────┬──────────┬──────────┬─────┬───────────────┬──────────────┬──────────────┬─────────────┐\n",
       "│ Niv_Gr_1 ┆ Niv_Gr_2 ┆ Niv_Gr_3 ┆ Id  ┆ Niv_Descr_1   ┆ Niv_Descr_2  ┆ Niv_Descr_4  ┆ N_Variables │\n",
       "│ ---      ┆ ---      ┆ ---      ┆ --- ┆ ---           ┆ ---          ┆ ---          ┆ ---         │\n",
       "│ str      ┆ str      ┆ str      ┆ i64 ┆ str           ┆ str          ┆ str          ┆ u32         │\n",
       "╞══════════╪══════════╪══════════╪═════╪═══════════════╪══════════════╪══════════════╪═════════════╡\n",
       "│ ESR      ┆ PIBT     ┆ GAST     ┆ 10  ┆ Serie         ┆ VALORES      ┆ Sector       ┆ 1           │\n",
       "│          ┆          ┆          ┆     ┆ Original      ┆ CONSTANTES   ┆ Público      ┆             │\n",
       "│ ESR      ┆ PIBT     ┆ GAST     ┆ 25  ┆ Serie Desesta ┆ VALORES      ┆ Producto     ┆ 1           │\n",
       "│          ┆          ┆          ┆     ┆ cionalizada   ┆ CORRIENTES   ┆ Interno      ┆             │\n",
       "│          ┆          ┆          ┆     ┆               ┆              ┆ Bruto a      ┆             │\n",
       "│          ┆          ┆          ┆     ┆               ┆              ┆ precios…     ┆             │\n",
       "│ ESR      ┆ PIBT     ┆ GAST     ┆ 31  ┆ Serie Desesta ┆ VALORES      ┆ Sector       ┆ 1           │\n",
       "│          ┆          ┆          ┆     ┆ cionalizada   ┆ CORRIENTES   ┆ Público      ┆             │\n",
       "│ ESR      ┆ PIBT     ┆ GAST     ┆ 35  ┆ Serie Desesta ┆ VALORES      ┆ Formación    ┆ 1           │\n",
       "│          ┆          ┆          ┆     ┆ cionalizada   ┆ CONSTANTES   ┆ Bruta de     ┆             │\n",
       "│          ┆          ┆          ┆     ┆               ┆              ┆ Capital      ┆             │\n",
       "│ ESR      ┆ PIBT     ┆ GAST     ┆ 42  ┆ Serie         ┆ VALORES      ┆ Importación  ┆ 1           │\n",
       "│          ┆          ┆          ┆     ┆ Original      ┆ CORRIENTES   ┆ de Bienes y  ┆             │\n",
       "│          ┆          ┆          ┆     ┆               ┆              ┆ Servicio…    ┆             │\n",
       "│ …        ┆ …        ┆ …        ┆ …   ┆ …             ┆ …            ┆ …            ┆ …           │\n",
       "│ ESR      ┆ PIBT     ┆ GAST     ┆ 12  ┆ Serie         ┆ VALORES      ┆ Formación    ┆ 1           │\n",
       "│          ┆          ┆          ┆     ┆ Original      ┆ CONSTANTES   ┆ Bruta de     ┆             │\n",
       "│          ┆          ┆          ┆     ┆               ┆              ┆ Capital      ┆             │\n",
       "│ ESR      ┆ PIBT     ┆ GAST     ┆ 37  ┆ Serie         ┆ VALORES      ┆ Gastos de    ┆ 1           │\n",
       "│          ┆          ┆          ┆     ┆ Original      ┆ CORRIENTES   ┆ Consumo      ┆             │\n",
       "│          ┆          ┆          ┆     ┆               ┆              ┆ Final        ┆             │\n",
       "│ ESR      ┆ PIBT     ┆ GAST     ┆ 26  ┆ Serie Desesta ┆ VALORES      ┆ Exportacione ┆ 1           │\n",
       "│          ┆          ┆          ┆     ┆ cionalizada   ┆ CONSTANTES   ┆ s de Bienes  ┆             │\n",
       "│          ┆          ┆          ┆     ┆               ┆              ┆ y Servic…    ┆             │\n",
       "│ ESR      ┆ PIBT     ┆ GAST     ┆ 39  ┆ Serie Desesta ┆ VALORES      ┆ Sector       ┆ 1           │\n",
       "│          ┆          ┆          ┆     ┆ cionalizada   ┆ CONSTANTES   ┆ Privado      ┆             │\n",
       "│ ESR      ┆ PIBT     ┆ GAST     ┆ 9   ┆ Serie         ┆ VALORES      ┆ Sector       ┆ 1           │\n",
       "│          ┆          ┆          ┆     ┆ Original      ┆ CONSTANTES   ┆ Privado      ┆             │\n",
       "└──────────┴──────────┴──────────┴─────┴───────────────┴──────────────┴──────────────┴─────────────┘"
      ]
     },
     "execution_count": 68,
     "metadata": {},
     "output_type": "execute_result"
    }
   ],
   "source": [
    "res_nivel_7(\n",
    "    \"ESR\",\"PIBT\",\n",
    "    \"Niv_Gr_3\",\n",
    "    \"GAST\",\n",
    "    \"Id\",\"Niv_Descr_1\",\"Niv_Descr_2\",\"Niv_Descr_4\")"
   ]
  },
  {
   "cell_type": "markdown",
   "id": "4e7bc62c",
   "metadata": {},
   "source": [
    "Resultados de una sola variable:\n"
   ]
  },
  {
   "cell_type": "code",
   "execution_count": 69,
   "id": "61155f28",
   "metadata": {},
   "outputs": [
    {
     "name": "stderr",
     "output_type": "stream",
     "text": [
      "<string>:29: FutureWarning:\n",
      "\n",
      "Passing literal json to 'read_json' is deprecated and will be removed in a future version. To read from a literal string, wrap it in a 'StringIO' object.\n",
      "\n"
     ]
    },
    {
     "name": "stderr",
     "output_type": "stream",
     "text": [
      "<string>:29: FutureWarning:\n",
      "\n",
      "Passing literal json to 'read_json' is deprecated and will be removed in a future version. To read from a literal string, wrap it in a 'StringIO' object.\n",
      "\n"
     ]
    },
    {
     "data": {
      "text/html": [
       "<div><style>\n",
       ".dataframe > thead > tr,\n",
       ".dataframe > tbody > tr {\n",
       "  text-align: right;\n",
       "  white-space: pre-wrap;\n",
       "}\n",
       "</style>\n",
       "<small>shape: (96, 2)</small><table border=\"1\" class=\"dataframe\"><thead><tr><th>Fecha</th><th>Serie Original-VALORES CONSTANTES-1-Gastos de Consumo Final</th></tr><tr><td>date</td><td>f64</td></tr></thead><tbody><tr><td>2000-03-01</td><td>21983.9</td></tr><tr><td>2000-06-01</td><td>22187.9</td></tr><tr><td>2000-09-01</td><td>22183.0</td></tr><tr><td>2000-12-01</td><td>23404.6</td></tr><tr><td>2001-03-01</td><td>22815.4</td></tr><tr><td>&hellip;</td><td>&hellip;</td></tr><tr><td>2022-12-01</td><td>60656.4</td></tr><tr><td>2023-03-01</td><td>55847.1</td></tr><tr><td>2023-06-01</td><td>58735.5</td></tr><tr><td>2023-09-01</td><td>56825.4</td></tr><tr><td>2023-12-01</td><td>63981.5</td></tr></tbody></table></div>"
      ],
      "text/plain": [
       "shape: (96, 2)\n",
       "┌────────────┬───────────────────────────────────┐\n",
       "│ Fecha      ┆ Serie Original-VALORES CONSTANTE… │\n",
       "│ ---        ┆ ---                               │\n",
       "│ date       ┆ f64                               │\n",
       "╞════════════╪═══════════════════════════════════╡\n",
       "│ 2000-03-01 ┆ 21983.9                           │\n",
       "│ 2000-06-01 ┆ 22187.9                           │\n",
       "│ 2000-09-01 ┆ 22183.0                           │\n",
       "│ 2000-12-01 ┆ 23404.6                           │\n",
       "│ 2001-03-01 ┆ 22815.4                           │\n",
       "│ …          ┆ …                                 │\n",
       "│ 2022-12-01 ┆ 60656.4                           │\n",
       "│ 2023-03-01 ┆ 55847.1                           │\n",
       "│ 2023-06-01 ┆ 58735.5                           │\n",
       "│ 2023-09-01 ┆ 56825.4                           │\n",
       "│ 2023-12-01 ┆ 63981.5                           │\n",
       "└────────────┴───────────────────────────────────┘"
      ]
     },
     "execution_count": 69,
     "metadata": {},
     "output_type": "execute_result"
    }
   ],
   "source": [
    "Id = 8\n",
    "df = get_df(Id)\n",
    "# get_plot(Id)\n",
    "df"
   ]
  },
  {
   "cell_type": "markdown",
   "id": "0853d0df",
   "metadata": {},
   "source": [
    "##### TDC = Tasas de Crecimiento\n",
    "\n",
    "* Serie Original\n",
    "* Serie Desestacionalizada\n",
    "* Valores Corrientes\n",
    "* Valores Constantes\n",
    "\n",
    "Para saber el contenido de todas las variables:\n"
   ]
  },
  {
   "cell_type": "code",
   "execution_count": 70,
   "id": "a5d986b3",
   "metadata": {},
   "outputs": [
    {
     "name": "stderr",
     "output_type": "stream",
     "text": [
      "<string>:29: FutureWarning:\n",
      "\n",
      "Passing literal json to 'read_json' is deprecated and will be removed in a future version. To read from a literal string, wrap it in a 'StringIO' object.\n",
      "\n"
     ]
    },
    {
     "data": {
      "text/html": [
       "<div><style>\n",
       ".dataframe > thead > tr,\n",
       ".dataframe > tbody > tr {\n",
       "  text-align: right;\n",
       "  white-space: pre-wrap;\n",
       "}\n",
       "</style>\n",
       "<small>shape: (1, 7)</small><table border=\"1\" class=\"dataframe\"><thead><tr><th>Niv_Gr_1</th><th>Niv_Gr_2</th><th>Niv_Gr_3</th><th>Id</th><th>Nombre</th><th>Niv_Descr_1</th><th>N_Variables</th></tr><tr><td>str</td><td>str</td><td>str</td><td>i64</td><td>str</td><td>str</td><td>u32</td></tr></thead><tbody><tr><td>&quot;ESR&quot;</td><td>&quot;PIBT&quot;</td><td>&quot;TDC&quot;</td><td>98</td><td>&quot;ESR-PIBT-TDC-V…</td><td>&quot;Valores Ajusta…</td><td>1</td></tr></tbody></table></div>"
      ],
      "text/plain": [
       "shape: (1, 7)\n",
       "┌──────────┬──────────┬──────────┬─────┬─────────────────────────┬───────────────────┬─────────────┐\n",
       "│ Niv_Gr_1 ┆ Niv_Gr_2 ┆ Niv_Gr_3 ┆ Id  ┆ Nombre                  ┆ Niv_Descr_1       ┆ N_Variables │\n",
       "│ ---      ┆ ---      ┆ ---      ┆ --- ┆ ---                     ┆ ---               ┆ ---         │\n",
       "│ str      ┆ str      ┆ str      ┆ i64 ┆ str                     ┆ str               ┆ u32         │\n",
       "╞══════════╪══════════╪══════════╪═════╪═════════════════════════╪═══════════════════╪═════════════╡\n",
       "│ ESR      ┆ PIBT     ┆ TDC      ┆ 98  ┆ ESR-PIBT-TDC-Valores-01 ┆ Valores Ajustados ┆ 1           │\n",
       "└──────────┴──────────┴──────────┴─────┴─────────────────────────┴───────────────────┴─────────────┘"
      ]
     },
     "execution_count": 70,
     "metadata": {},
     "output_type": "execute_result"
    }
   ],
   "source": [
    "res_nivel_6(\n",
    "    \"ESR\",\"PIBT\",\n",
    "    \"Niv_Gr_3\",\n",
    "    \"TDC\",\n",
    "    \"Id\",\"Nombre\",\"Niv_Descr_1\")"
   ]
  },
  {
   "cell_type": "markdown",
   "id": "344820ba",
   "metadata": {},
   "source": [
    "Resultados de una sola variable:\n"
   ]
  },
  {
   "cell_type": "code",
   "execution_count": 71,
   "id": "f176f031",
   "metadata": {},
   "outputs": [
    {
     "name": "stderr",
     "output_type": "stream",
     "text": [
      "<string>:29: FutureWarning:\n",
      "\n",
      "Passing literal json to 'read_json' is deprecated and will be removed in a future version. To read from a literal string, wrap it in a 'StringIO' object.\n",
      "\n"
     ]
    },
    {
     "name": "stderr",
     "output_type": "stream",
     "text": [
      "<string>:29: FutureWarning:\n",
      "\n",
      "Passing literal json to 'read_json' is deprecated and will be removed in a future version. To read from a literal string, wrap it in a 'StringIO' object.\n",
      "\n"
     ]
    },
    {
     "data": {
      "text/html": [
       "<div><style>\n",
       ".dataframe > thead > tr,\n",
       ".dataframe > tbody > tr {\n",
       "  text-align: right;\n",
       "  white-space: pre-wrap;\n",
       "}\n",
       "</style>\n",
       "<small>shape: (96, 2)</small><table border=\"1\" class=\"dataframe\"><thead><tr><th>Fecha</th><th>Valores Ajustados</th></tr><tr><td>date</td><td>f64</td></tr></thead><tbody><tr><td>2000-03-01</td><td>26393.4</td></tr><tr><td>2000-06-01</td><td>26528.2</td></tr><tr><td>2000-09-01</td><td>26710.9</td></tr><tr><td>2000-12-01</td><td>26992.4</td></tr><tr><td>2001-03-01</td><td>27225.7</td></tr><tr><td>&hellip;</td><td>&hellip;</td></tr><tr><td>2022-12-01</td><td>59862.9</td></tr><tr><td>2023-03-01</td><td>59727.1</td></tr><tr><td>2023-06-01</td><td>60564.6</td></tr><tr><td>2023-09-01</td><td>61244.0</td></tr><tr><td>2023-12-01</td><td>61948.8</td></tr></tbody></table></div>"
      ],
      "text/plain": [
       "shape: (96, 2)\n",
       "┌────────────┬───────────────────┐\n",
       "│ Fecha      ┆ Valores Ajustados │\n",
       "│ ---        ┆ ---               │\n",
       "│ date       ┆ f64               │\n",
       "╞════════════╪═══════════════════╡\n",
       "│ 2000-03-01 ┆ 26393.4           │\n",
       "│ 2000-06-01 ┆ 26528.2           │\n",
       "│ 2000-09-01 ┆ 26710.9           │\n",
       "│ 2000-12-01 ┆ 26992.4           │\n",
       "│ 2001-03-01 ┆ 27225.7           │\n",
       "│ …          ┆ …                 │\n",
       "│ 2022-12-01 ┆ 59862.9           │\n",
       "│ 2023-03-01 ┆ 59727.1           │\n",
       "│ 2023-06-01 ┆ 60564.6           │\n",
       "│ 2023-09-01 ┆ 61244.0           │\n",
       "│ 2023-12-01 ┆ 61948.8           │\n",
       "└────────────┴───────────────────┘"
      ]
     },
     "execution_count": 71,
     "metadata": {},
     "output_type": "execute_result"
    }
   ],
   "source": [
    "Id = 98\n",
    "df = get_df(Id)\n",
    "# get_plot(Id)\n",
    "df"
   ]
  },
  {
   "cell_type": "markdown",
   "id": "9ea4bd4c",
   "metadata": {},
   "source": [
    "#### ODA = Oferta y Demanda Agregada\n",
    "\n",
    "* Oferta Global\n",
    "* Demanda Global\n"
   ]
  },
  {
   "cell_type": "code",
   "execution_count": 72,
   "id": "9435caf8",
   "metadata": {},
   "outputs": [
    {
     "name": "stdout",
     "output_type": "stream",
     "text": [
      "2 subgrupos\n",
      "94 variables\n"
     ]
    },
    {
     "name": "stderr",
     "output_type": "stream",
     "text": [
      "<string>:29: FutureWarning:\n",
      "\n",
      "Passing literal json to 'read_json' is deprecated and will be removed in a future version. To read from a literal string, wrap it in a 'StringIO' object.\n",
      "\n"
     ]
    },
    {
     "data": {
      "text/html": [
       "<div><style>\n",
       ".dataframe > thead > tr,\n",
       ".dataframe > tbody > tr {\n",
       "  text-align: right;\n",
       "  white-space: pre-wrap;\n",
       "}\n",
       "</style>\n",
       "<small>shape: (2, 4)</small><table border=\"1\" class=\"dataframe\"><thead><tr><th>Niv_Gr_1</th><th>Niv_Gr_2</th><th>Niv_Descr_1</th><th>N_Variables</th></tr><tr><td>str</td><td>str</td><td>str</td><td>u32</td></tr></thead><tbody><tr><td>&quot;ESR&quot;</td><td>&quot;ODA&quot;</td><td>&quot;OFERTA GLOBAL&quot;</td><td>48</td></tr><tr><td>&quot;ESR&quot;</td><td>&quot;ODA&quot;</td><td>&quot;DEMANDA GLOBAL…</td><td>46</td></tr></tbody></table></div>"
      ],
      "text/plain": [
       "shape: (2, 4)\n",
       "┌──────────┬──────────┬────────────────┬─────────────┐\n",
       "│ Niv_Gr_1 ┆ Niv_Gr_2 ┆ Niv_Descr_1    ┆ N_Variables │\n",
       "│ ---      ┆ ---      ┆ ---            ┆ ---         │\n",
       "│ str      ┆ str      ┆ str            ┆ u32         │\n",
       "╞══════════╪══════════╪════════════════╪═════════════╡\n",
       "│ ESR      ┆ ODA      ┆ OFERTA GLOBAL  ┆ 48          │\n",
       "│ ESR      ┆ ODA      ┆ DEMANDA GLOBAL ┆ 46          │\n",
       "└──────────┴──────────┴────────────────┴─────────────┘"
      ]
     },
     "execution_count": 72,
     "metadata": {},
     "output_type": "execute_result"
    }
   ],
   "source": [
    "res_nivel_3(\"ESR\",\"ODA\",\"Niv_Descr_1\")"
   ]
  },
  {
   "cell_type": "markdown",
   "id": "88b8a346",
   "metadata": {},
   "source": [
    "##### Oferta Global\n",
    "\n",
    "Estas tablas están agrupadas de dos maneras:\n",
    "\n",
    "1. Variables con valores en \"Niv_Descr_2\" y \"Niv_Descr_3\", corresponde a las siguientes series:\n",
    "\n",
    "* AGRICULTURA, GANADERÍA, CAZA, SILVICULTURA Y PESCA (A PRECIOS BÁSICOS)\n",
    "* COMERCIO, HOTELES Y RESTAURANTES (A PRECIOS BÁSICOS)\n",
    "* CONSTRUCCIÓN (A PRECIOS BÁSICOS)\n",
    "* EXPLOTACIÓN DE MINAS Y CANTERAS (A PRECIOS BÁSICOS)\n",
    "* INDUSTRIA MANUFACTURERA (A PRECIOS BÁSICOS)\n",
    "* MENOS: SERVICIOS DE INTERMEDIACIÓN FINANCIERA MEDIDOS INDIRECTAMENTE (A PRECIOS BÁSICOS)\n",
    "\n",
    "El tipo de valor (\"Niv_Descr_4\") de dichas variables es:\n",
    "\n",
    "* EN MILLONES DE LEMPIRAS CONSTANTES\n",
    "* EN MILLONES DE LEMPIRAS CORRIENTES\n",
    "* VARIACIONES RELATIVAS CONSTANTE\n",
    "* VARIACIONES RELATIVAS CORRIENTES\n"
   ]
  },
  {
   "cell_type": "code",
   "execution_count": 73,
   "id": "fa7dbeab",
   "metadata": {},
   "outputs": [
    {
     "name": "stderr",
     "output_type": "stream",
     "text": [
      "<string>:29: FutureWarning:\n",
      "\n",
      "Passing literal json to 'read_json' is deprecated and will be removed in a future version. To read from a literal string, wrap it in a 'StringIO' object.\n",
      "\n"
     ]
    },
    {
     "data": {
      "text/html": [
       "<div><style>\n",
       ".dataframe > thead > tr,\n",
       ".dataframe > tbody > tr {\n",
       "  text-align: right;\n",
       "  white-space: pre-wrap;\n",
       "}\n",
       "</style>\n",
       "<small>shape: (24, 8)</small><table border=\"1\" class=\"dataframe\"><thead><tr><th>Niv_Gr_1</th><th>Niv_Gr_2</th><th>Niv_Descr_1</th><th>Id</th><th>Niv_Descr_2</th><th>Niv_Descr_3</th><th>Niv_Descr_4</th><th>N_Variables</th></tr><tr><td>str</td><td>str</td><td>str</td><td>i64</td><td>str</td><td>str</td><td>str</td><td>u32</td></tr></thead><tbody><tr><td>&quot;ESR&quot;</td><td>&quot;ODA&quot;</td><td>&quot;OFERTA GLOBAL&quot;</td><td>11498</td><td>&quot;VALOR AGREGADO…</td><td>&quot;AGRICULTURA, G…</td><td>&quot;VARIACIONES RE…</td><td>1</td></tr><tr><td>&quot;ESR&quot;</td><td>&quot;ODA&quot;</td><td>&quot;OFERTA GLOBAL&quot;</td><td>11503</td><td>&quot;VALOR AGREGADO…</td><td>&quot;COMERCIO, HOTE…</td><td>&quot;VARIACIONES RE…</td><td>1</td></tr><tr><td>&quot;ESR&quot;</td><td>&quot;ODA&quot;</td><td>&quot;OFERTA GLOBAL&quot;</td><td>11504</td><td>&quot;VALOR AGREGADO…</td><td>&quot;CONSTRUCCIÓN (…</td><td>&quot;EN MILLONES DE…</td><td>1</td></tr><tr><td>&quot;ESR&quot;</td><td>&quot;ODA&quot;</td><td>&quot;OFERTA GLOBAL&quot;</td><td>11506</td><td>&quot;VALOR AGREGADO…</td><td>&quot;CONSTRUCCIÓN (…</td><td>&quot;VARIACIONES RE…</td><td>1</td></tr><tr><td>&quot;ESR&quot;</td><td>&quot;ODA&quot;</td><td>&quot;OFERTA GLOBAL&quot;</td><td>11509</td><td>&quot;VALOR AGREGADO…</td><td>&quot;EXPLOTACIÓN DE…</td><td>&quot;EN MILLONES DE…</td><td>1</td></tr><tr><td>&hellip;</td><td>&hellip;</td><td>&hellip;</td><td>&hellip;</td><td>&hellip;</td><td>&hellip;</td><td>&hellip;</td><td>&hellip;</td></tr><tr><td>&quot;ESR&quot;</td><td>&quot;ODA&quot;</td><td>&quot;OFERTA GLOBAL&quot;</td><td>11501</td><td>&quot;VALOR AGREGADO…</td><td>&quot;COMERCIO, HOTE…</td><td>&quot;EN MILLONES DE…</td><td>1</td></tr><tr><td>&quot;ESR&quot;</td><td>&quot;ODA&quot;</td><td>&quot;OFERTA GLOBAL&quot;</td><td>11502</td><td>&quot;VALOR AGREGADO…</td><td>&quot;COMERCIO, HOTE…</td><td>&quot;VARIACIONES RE…</td><td>1</td></tr><tr><td>&quot;ESR&quot;</td><td>&quot;ODA&quot;</td><td>&quot;OFERTA GLOBAL&quot;</td><td>11517</td><td>&quot;VALOR AGREGADO…</td><td>&quot;MENOS: SERVICI…</td><td>&quot;EN MILLONES DE…</td><td>1</td></tr><tr><td>&quot;ESR&quot;</td><td>&quot;ODA&quot;</td><td>&quot;OFERTA GLOBAL&quot;</td><td>11518</td><td>&quot;VALOR AGREGADO…</td><td>&quot;MENOS: SERVICI…</td><td>&quot;VARIACIONES RE…</td><td>1</td></tr><tr><td>&quot;ESR&quot;</td><td>&quot;ODA&quot;</td><td>&quot;OFERTA GLOBAL&quot;</td><td>11513</td><td>&quot;VALOR AGREGADO…</td><td>&quot;INDUSTRIA MANU…</td><td>&quot;EN MILLONES DE…</td><td>1</td></tr></tbody></table></div>"
      ],
      "text/plain": [
       "shape: (24, 8)\n",
       "┌──────────┬──────────┬─────────────┬───────┬─────────────┬─────────────┬─────────────┬────────────┐\n",
       "│ Niv_Gr_1 ┆ Niv_Gr_2 ┆ Niv_Descr_1 ┆ Id    ┆ Niv_Descr_2 ┆ Niv_Descr_3 ┆ Niv_Descr_4 ┆ N_Variable │\n",
       "│ ---      ┆ ---      ┆ ---         ┆ ---   ┆ ---         ┆ ---         ┆ ---         ┆ s          │\n",
       "│ str      ┆ str      ┆ str         ┆ i64   ┆ str         ┆ str         ┆ str         ┆ ---        │\n",
       "│          ┆          ┆             ┆       ┆             ┆             ┆             ┆ u32        │\n",
       "╞══════════╪══════════╪═════════════╪═══════╪═════════════╪═════════════╪═════════════╪════════════╡\n",
       "│ ESR      ┆ ODA      ┆ OFERTA      ┆ 11498 ┆ VALOR       ┆ AGRICULTURA ┆ VARIACIONES ┆ 1          │\n",
       "│          ┆          ┆ GLOBAL      ┆       ┆ AGREGADO    ┆ ,           ┆ RELATIVAS   ┆            │\n",
       "│          ┆          ┆             ┆       ┆ BRUTO       ┆ GANADERÍA,  ┆ CONSTANTE   ┆            │\n",
       "│          ┆          ┆             ┆       ┆             ┆ CAZA, SI…   ┆             ┆            │\n",
       "│ ESR      ┆ ODA      ┆ OFERTA      ┆ 11503 ┆ VALOR       ┆ COMERCIO,   ┆ VARIACIONES ┆ 1          │\n",
       "│          ┆          ┆ GLOBAL      ┆       ┆ AGREGADO    ┆ HOTELES Y   ┆ RELATIVAS   ┆            │\n",
       "│          ┆          ┆             ┆       ┆ BRUTO       ┆ RESTAURANTE ┆ CORRIENTES  ┆            │\n",
       "│          ┆          ┆             ┆       ┆             ┆ S…          ┆             ┆            │\n",
       "│ ESR      ┆ ODA      ┆ OFERTA      ┆ 11504 ┆ VALOR       ┆ CONSTRUCCIÓ ┆ EN MILLONES ┆ 1          │\n",
       "│          ┆          ┆ GLOBAL      ┆       ┆ AGREGADO    ┆ N (A        ┆ DE LEMPIRAS ┆            │\n",
       "│          ┆          ┆             ┆       ┆ BRUTO       ┆ PRECIOS     ┆ CONSTANT…   ┆            │\n",
       "│          ┆          ┆             ┆       ┆             ┆ BÁSICOS)    ┆             ┆            │\n",
       "│ ESR      ┆ ODA      ┆ OFERTA      ┆ 11506 ┆ VALOR       ┆ CONSTRUCCIÓ ┆ VARIACIONES ┆ 1          │\n",
       "│          ┆          ┆ GLOBAL      ┆       ┆ AGREGADO    ┆ N (A        ┆ RELATIVAS   ┆            │\n",
       "│          ┆          ┆             ┆       ┆ BRUTO       ┆ PRECIOS     ┆ CONSTANTE   ┆            │\n",
       "│          ┆          ┆             ┆       ┆             ┆ BÁSICOS)    ┆             ┆            │\n",
       "│ ESR      ┆ ODA      ┆ OFERTA      ┆ 11509 ┆ VALOR       ┆ EXPLOTACIÓN ┆ EN MILLONES ┆ 1          │\n",
       "│          ┆          ┆ GLOBAL      ┆       ┆ AGREGADO    ┆ DE MINAS Y  ┆ DE LEMPIRAS ┆            │\n",
       "│          ┆          ┆             ┆       ┆ BRUTO       ┆ CANTERAS …  ┆ CORRIENT…   ┆            │\n",
       "│ …        ┆ …        ┆ …           ┆ …     ┆ …           ┆ …           ┆ …           ┆ …          │\n",
       "│ ESR      ┆ ODA      ┆ OFERTA      ┆ 11501 ┆ VALOR       ┆ COMERCIO,   ┆ EN MILLONES ┆ 1          │\n",
       "│          ┆          ┆ GLOBAL      ┆       ┆ AGREGADO    ┆ HOTELES Y   ┆ DE LEMPIRAS ┆            │\n",
       "│          ┆          ┆             ┆       ┆ BRUTO       ┆ RESTAURANTE ┆ CORRIENT…   ┆            │\n",
       "│          ┆          ┆             ┆       ┆             ┆ S…          ┆             ┆            │\n",
       "│ ESR      ┆ ODA      ┆ OFERTA      ┆ 11502 ┆ VALOR       ┆ COMERCIO,   ┆ VARIACIONES ┆ 1          │\n",
       "│          ┆          ┆ GLOBAL      ┆       ┆ AGREGADO    ┆ HOTELES Y   ┆ RELATIVAS   ┆            │\n",
       "│          ┆          ┆             ┆       ┆ BRUTO       ┆ RESTAURANTE ┆ CONSTANTE   ┆            │\n",
       "│          ┆          ┆             ┆       ┆             ┆ S…          ┆             ┆            │\n",
       "│ ESR      ┆ ODA      ┆ OFERTA      ┆ 11517 ┆ VALOR       ┆ MENOS:      ┆ EN MILLONES ┆ 1          │\n",
       "│          ┆          ┆ GLOBAL      ┆       ┆ AGREGADO    ┆ SERVICIOS   ┆ DE LEMPIRAS ┆            │\n",
       "│          ┆          ┆             ┆       ┆ BRUTO       ┆ DE INTERMED ┆ CORRIENT…   ┆            │\n",
       "│          ┆          ┆             ┆       ┆             ┆ IACI…       ┆             ┆            │\n",
       "│ ESR      ┆ ODA      ┆ OFERTA      ┆ 11518 ┆ VALOR       ┆ MENOS:      ┆ VARIACIONES ┆ 1          │\n",
       "│          ┆          ┆ GLOBAL      ┆       ┆ AGREGADO    ┆ SERVICIOS   ┆ RELATIVAS   ┆            │\n",
       "│          ┆          ┆             ┆       ┆ BRUTO       ┆ DE INTERMED ┆ CONSTANTE   ┆            │\n",
       "│          ┆          ┆             ┆       ┆             ┆ IACI…       ┆             ┆            │\n",
       "│ ESR      ┆ ODA      ┆ OFERTA      ┆ 11513 ┆ VALOR       ┆ INDUSTRIA   ┆ EN MILLONES ┆ 1          │\n",
       "│          ┆          ┆ GLOBAL      ┆       ┆ AGREGADO    ┆ MANUFACTURE ┆ DE LEMPIRAS ┆            │\n",
       "│          ┆          ┆             ┆       ┆ BRUTO       ┆ RA (A       ┆ CORRIENT…   ┆            │\n",
       "│          ┆          ┆             ┆       ┆             ┆ PRECI…      ┆             ┆            │\n",
       "└──────────┴──────────┴─────────────┴───────┴─────────────┴─────────────┴─────────────┴────────────┘"
      ]
     },
     "execution_count": 73,
     "metadata": {},
     "output_type": "execute_result"
    }
   ],
   "source": [
    "res_nivel_7(\n",
    "    \"ESR\",\"ODA\",\n",
    "    \"Niv_Descr_1\",\n",
    "    \"OFERTA GLOBAL\",\n",
    "    \"Id\",\"Niv_Descr_2\",\"Niv_Descr_3\",\"Niv_Descr_4\"\n",
    "    ).filter((pl.col('Niv_Descr_2') != \"\"))"
   ]
  },
  {
   "cell_type": "markdown",
   "id": "1b969a08",
   "metadata": {},
   "source": [
    "Resultados de una sola variable:\n"
   ]
  },
  {
   "cell_type": "code",
   "execution_count": 74,
   "id": "dfe09486",
   "metadata": {},
   "outputs": [
    {
     "name": "stderr",
     "output_type": "stream",
     "text": [
      "<string>:29: FutureWarning:\n",
      "\n",
      "Passing literal json to 'read_json' is deprecated and will be removed in a future version. To read from a literal string, wrap it in a 'StringIO' object.\n",
      "\n"
     ]
    },
    {
     "name": "stderr",
     "output_type": "stream",
     "text": [
      "<string>:29: FutureWarning:\n",
      "\n",
      "Passing literal json to 'read_json' is deprecated and will be removed in a future version. To read from a literal string, wrap it in a 'StringIO' object.\n",
      "\n"
     ]
    },
    {
     "data": {
      "text/html": [
       "<div><style>\n",
       ".dataframe > thead > tr,\n",
       ".dataframe > tbody > tr {\n",
       "  text-align: right;\n",
       "  white-space: pre-wrap;\n",
       "}\n",
       "</style>\n",
       "<small>shape: (23, 2)</small><table border=\"1\" class=\"dataframe\"><thead><tr><th>Fecha</th><th>OFERTA GLOBAL-VALOR AGREGADO BRUTO-MENOS: SERVICIOS DE INTERMEDIACIÓN FINANCIERA MEDIDOS INDIRECTAMENTE (A PRECIOS BÁSICOS)-VARIACIONES RELATIVAS CONSTANTE</th></tr><tr><td>date</td><td>f64</td></tr></thead><tbody><tr><td>2001-01-01</td><td>10.7</td></tr><tr><td>2002-01-01</td><td>19.4</td></tr><tr><td>2003-01-01</td><td>13.3</td></tr><tr><td>2004-01-01</td><td>16.6</td></tr><tr><td>2005-01-01</td><td>22.5</td></tr><tr><td>&hellip;</td><td>&hellip;</td></tr><tr><td>2019-01-01</td><td>7.0</td></tr><tr><td>2020-01-01</td><td>1.8</td></tr><tr><td>2021-01-01</td><td>13.4</td></tr><tr><td>2022-01-01</td><td>12.4</td></tr><tr><td>2023-01-01</td><td>10.7</td></tr></tbody></table></div>"
      ],
      "text/plain": [
       "shape: (23, 2)\n",
       "┌────────────┬───────────────────────────────────┐\n",
       "│ Fecha      ┆ OFERTA GLOBAL-VALOR AGREGADO BRU… │\n",
       "│ ---        ┆ ---                               │\n",
       "│ date       ┆ f64                               │\n",
       "╞════════════╪═══════════════════════════════════╡\n",
       "│ 2001-01-01 ┆ 10.7                              │\n",
       "│ 2002-01-01 ┆ 19.4                              │\n",
       "│ 2003-01-01 ┆ 13.3                              │\n",
       "│ 2004-01-01 ┆ 16.6                              │\n",
       "│ 2005-01-01 ┆ 22.5                              │\n",
       "│ …          ┆ …                                 │\n",
       "│ 2019-01-01 ┆ 7.0                               │\n",
       "│ 2020-01-01 ┆ 1.8                               │\n",
       "│ 2021-01-01 ┆ 13.4                              │\n",
       "│ 2022-01-01 ┆ 12.4                              │\n",
       "│ 2023-01-01 ┆ 10.7                              │\n",
       "└────────────┴───────────────────────────────────┘"
      ]
     },
     "execution_count": 74,
     "metadata": {},
     "output_type": "execute_result"
    }
   ],
   "source": [
    "Id = 11518\n",
    "df = get_df(Id)\n",
    "# get_plot(Id)\n",
    "df"
   ]
  },
  {
   "cell_type": "markdown",
   "id": "f420bd3e",
   "metadata": {},
   "source": [
    "2. Variables sin valores en \"Niv_Descr_2\" y \"Niv_Descr_3\", corresponde a las siguientes series:\n",
    "\n",
    "* IMPORTACIONES DE BIENES Y SERVICIOS C.I.F.\n",
    "* IMPUESTOS NETOS DE SUBVENCIONES SOBRE LA PRODUCCIÓN Y LAS IMPORTACIONES\n",
    "* OFERTA GLOBAL\n",
    "* OTROS SERVICIOS (A PRECIOS BÃSICOS)\n",
    "* PRODUCTO INTERNO BRUTO A PRECIOS DE MERCADO\n",
    "* TOTAL VALOR AGREGADO BRUTO A PRECIOS BÁSICOS\n",
    "* VALOR AGREGADO BRUTO\n",
    "* VALOR AGREGADO BRUTO A PRECIOS BÁSICOS\n",
    "\n",
    "El tipo de valor (\"Niv_Descr_5\") de dichas variables es:\n",
    "\n",
    "* EN MILLONES DE LEMPIRAS CONSTANTES\n",
    "* EN MILLONES DE LEMPIRAS CORRIENTES\n",
    "* VARIACIONES RELATIVAS CONSTANTE\n",
    "* VARIACIONES RELATIVAS CORRIENTES\n",
    "\n",
    "Para saber el contenido de todas las variables:\n"
   ]
  },
  {
   "cell_type": "code",
   "execution_count": 75,
   "id": "6f752e31",
   "metadata": {},
   "outputs": [
    {
     "name": "stderr",
     "output_type": "stream",
     "text": [
      "<string>:29: FutureWarning:\n",
      "\n",
      "Passing literal json to 'read_json' is deprecated and will be removed in a future version. To read from a literal string, wrap it in a 'StringIO' object.\n",
      "\n"
     ]
    },
    {
     "data": {
      "text/html": [
       "<div><style>\n",
       ".dataframe > thead > tr,\n",
       ".dataframe > tbody > tr {\n",
       "  text-align: right;\n",
       "  white-space: pre-wrap;\n",
       "}\n",
       "</style>\n",
       "<small>shape: (24, 8)</small><table border=\"1\" class=\"dataframe\"><thead><tr><th>Niv_Gr_1</th><th>Niv_Gr_2</th><th>Niv_Descr_1</th><th>Id</th><th>Niv_Descr_2</th><th>Niv_Descr_4</th><th>Niv_Descr_5</th><th>N_Variables</th></tr><tr><td>str</td><td>str</td><td>str</td><td>i64</td><td>str</td><td>str</td><td>str</td><td>u32</td></tr></thead><tbody><tr><td>&quot;ESR&quot;</td><td>&quot;ODA&quot;</td><td>&quot;OFERTA GLOBAL&quot;</td><td>11486</td><td>&quot;&quot;</td><td>&quot;OTROS SERVICIO…</td><td>&quot;VARIACIONES RE…</td><td>1</td></tr><tr><td>&quot;ESR&quot;</td><td>&quot;ODA&quot;</td><td>&quot;OFERTA GLOBAL&quot;</td><td>11494</td><td>&quot;&quot;</td><td>&quot;VALOR AGREGADO…</td><td>&quot;VARIACIONES RE…</td><td>1</td></tr><tr><td>&quot;ESR&quot;</td><td>&quot;ODA&quot;</td><td>&quot;OFERTA GLOBAL&quot;</td><td>11472</td><td>&quot;&quot;</td><td>&quot;IMPORTACIONES …</td><td>&quot;EN MILLONES DE…</td><td>1</td></tr><tr><td>&quot;ESR&quot;</td><td>&quot;ODA&quot;</td><td>&quot;OFERTA GLOBAL&quot;</td><td>11483</td><td>&quot;&quot;</td><td>&quot;OFERTA GLOBAL&quot;</td><td>&quot;VARIACIONES RE…</td><td>1</td></tr><tr><td>&quot;ESR&quot;</td><td>&quot;ODA&quot;</td><td>&quot;OFERTA GLOBAL&quot;</td><td>11491</td><td>&quot;&quot;</td><td>&quot;PRODUCTO INTER…</td><td>&quot;VARIACIONES RE…</td><td>1</td></tr><tr><td>&hellip;</td><td>&hellip;</td><td>&hellip;</td><td>&hellip;</td><td>&hellip;</td><td>&hellip;</td><td>&hellip;</td><td>&hellip;</td></tr><tr><td>&quot;ESR&quot;</td><td>&quot;ODA&quot;</td><td>&quot;OFERTA GLOBAL&quot;</td><td>11476</td><td>&quot;&quot;</td><td>&quot;IMPUESTOS NETO…</td><td>&quot;EN MILLONES DE…</td><td>1</td></tr><tr><td>&quot;ESR&quot;</td><td>&quot;ODA&quot;</td><td>&quot;OFERTA GLOBAL&quot;</td><td>11481</td><td>&quot;&quot;</td><td>&quot;OFERTA GLOBAL&quot;</td><td>&quot;EN MILLONES DE…</td><td>1</td></tr><tr><td>&quot;ESR&quot;</td><td>&quot;ODA&quot;</td><td>&quot;OFERTA GLOBAL&quot;</td><td>11475</td><td>&quot;&quot;</td><td>&quot;IMPORTACIONES …</td><td>&quot;VARIACIONES RE…</td><td>1</td></tr><tr><td>&quot;ESR&quot;</td><td>&quot;ODA&quot;</td><td>&quot;OFERTA GLOBAL&quot;</td><td>11477</td><td>&quot;&quot;</td><td>&quot;IMPUESTOS NETO…</td><td>&quot;EN MILLONES DE…</td><td>1</td></tr><tr><td>&quot;ESR&quot;</td><td>&quot;ODA&quot;</td><td>&quot;OFERTA GLOBAL&quot;</td><td>11493</td><td>&quot;&quot;</td><td>&quot;VALOR AGREGADO…</td><td>&quot;EN MILLONES DE…</td><td>1</td></tr></tbody></table></div>"
      ],
      "text/plain": [
       "shape: (24, 8)\n",
       "┌──────────┬──────────┬─────────────┬───────┬─────────────┬─────────────┬─────────────┬────────────┐\n",
       "│ Niv_Gr_1 ┆ Niv_Gr_2 ┆ Niv_Descr_1 ┆ Id    ┆ Niv_Descr_2 ┆ Niv_Descr_4 ┆ Niv_Descr_5 ┆ N_Variable │\n",
       "│ ---      ┆ ---      ┆ ---         ┆ ---   ┆ ---         ┆ ---         ┆ ---         ┆ s          │\n",
       "│ str      ┆ str      ┆ str         ┆ i64   ┆ str         ┆ str         ┆ str         ┆ ---        │\n",
       "│          ┆          ┆             ┆       ┆             ┆             ┆             ┆ u32        │\n",
       "╞══════════╪══════════╪═════════════╪═══════╪═════════════╪═════════════╪═════════════╪════════════╡\n",
       "│ ESR      ┆ ODA      ┆ OFERTA      ┆ 11486 ┆             ┆ OTROS       ┆ VARIACIONES ┆ 1          │\n",
       "│          ┆          ┆ GLOBAL      ┆       ┆             ┆ SERVICIOS   ┆ RELATIVAS   ┆            │\n",
       "│          ┆          ┆             ┆       ┆             ┆ (A PRECIOS  ┆ CONSTANTE   ┆            │\n",
       "│          ┆          ┆             ┆       ┆             ┆ BÁSIC…      ┆             ┆            │\n",
       "│ ESR      ┆ ODA      ┆ OFERTA      ┆ 11494 ┆             ┆ VALOR       ┆ VARIACIONES ┆ 1          │\n",
       "│          ┆          ┆ GLOBAL      ┆       ┆             ┆ AGREGADO    ┆ RELATIVAS   ┆            │\n",
       "│          ┆          ┆             ┆       ┆             ┆ BRUTO A     ┆ CONSTANTE   ┆            │\n",
       "│          ┆          ┆             ┆       ┆             ┆ PRECIOS B…  ┆             ┆            │\n",
       "│ ESR      ┆ ODA      ┆ OFERTA      ┆ 11472 ┆             ┆ IMPORTACION ┆ EN MILLONES ┆ 1          │\n",
       "│          ┆          ┆ GLOBAL      ┆       ┆             ┆ ES DE       ┆ DE LEMPIRAS ┆            │\n",
       "│          ┆          ┆             ┆       ┆             ┆ BIENES Y    ┆ CONSTANT…   ┆            │\n",
       "│          ┆          ┆             ┆       ┆             ┆ SERVIC…     ┆             ┆            │\n",
       "│ ESR      ┆ ODA      ┆ OFERTA      ┆ 11483 ┆             ┆ OFERTA      ┆ VARIACIONES ┆ 1          │\n",
       "│          ┆          ┆ GLOBAL      ┆       ┆             ┆ GLOBAL      ┆ RELATIVAS   ┆            │\n",
       "│          ┆          ┆             ┆       ┆             ┆             ┆ CORRIENTES  ┆            │\n",
       "│ ESR      ┆ ODA      ┆ OFERTA      ┆ 11491 ┆             ┆ PRODUCTO    ┆ VARIACIONES ┆ 1          │\n",
       "│          ┆          ┆ GLOBAL      ┆       ┆             ┆ INTERNO     ┆ RELATIVAS   ┆            │\n",
       "│          ┆          ┆             ┆       ┆             ┆ BRUTO A     ┆ CORRIENTES  ┆            │\n",
       "│          ┆          ┆             ┆       ┆             ┆ PRECIOS…    ┆             ┆            │\n",
       "│ …        ┆ …        ┆ …           ┆ …     ┆ …           ┆ …           ┆ …           ┆ …          │\n",
       "│ ESR      ┆ ODA      ┆ OFERTA      ┆ 11476 ┆             ┆ IMPUESTOS   ┆ EN MILLONES ┆ 1          │\n",
       "│          ┆          ┆ GLOBAL      ┆       ┆             ┆ NETOS DE    ┆ DE LEMPIRAS ┆            │\n",
       "│          ┆          ┆             ┆       ┆             ┆ SUBVENCIONE ┆ CONSTANT…   ┆            │\n",
       "│          ┆          ┆             ┆       ┆             ┆ S …         ┆             ┆            │\n",
       "│ ESR      ┆ ODA      ┆ OFERTA      ┆ 11481 ┆             ┆ OFERTA      ┆ EN MILLONES ┆ 1          │\n",
       "│          ┆          ┆ GLOBAL      ┆       ┆             ┆ GLOBAL      ┆ DE LEMPIRAS ┆            │\n",
       "│          ┆          ┆             ┆       ┆             ┆             ┆ CORRIENT…   ┆            │\n",
       "│ ESR      ┆ ODA      ┆ OFERTA      ┆ 11475 ┆             ┆ IMPORTACION ┆ VARIACIONES ┆ 1          │\n",
       "│          ┆          ┆ GLOBAL      ┆       ┆             ┆ ES DE       ┆ RELATIVAS   ┆            │\n",
       "│          ┆          ┆             ┆       ┆             ┆ BIENES Y    ┆ CORRIENTES  ┆            │\n",
       "│          ┆          ┆             ┆       ┆             ┆ SERVIC…     ┆             ┆            │\n",
       "│ ESR      ┆ ODA      ┆ OFERTA      ┆ 11477 ┆             ┆ IMPUESTOS   ┆ EN MILLONES ┆ 1          │\n",
       "│          ┆          ┆ GLOBAL      ┆       ┆             ┆ NETOS DE    ┆ DE LEMPIRAS ┆            │\n",
       "│          ┆          ┆             ┆       ┆             ┆ SUBVENCIONE ┆ CORRIENT…   ┆            │\n",
       "│          ┆          ┆             ┆       ┆             ┆ S …         ┆             ┆            │\n",
       "│ ESR      ┆ ODA      ┆ OFERTA      ┆ 11493 ┆             ┆ VALOR       ┆ EN MILLONES ┆ 1          │\n",
       "│          ┆          ┆ GLOBAL      ┆       ┆             ┆ AGREGADO    ┆ DE LEMPIRAS ┆            │\n",
       "│          ┆          ┆             ┆       ┆             ┆ BRUTO       ┆ CONSTANT…   ┆            │\n",
       "└──────────┴──────────┴─────────────┴───────┴─────────────┴─────────────┴─────────────┴────────────┘"
      ]
     },
     "execution_count": 75,
     "metadata": {},
     "output_type": "execute_result"
    }
   ],
   "source": [
    "res_nivel_7(\n",
    "    \"ESR\",\"ODA\",\n",
    "    \"Niv_Descr_1\",\n",
    "    \"OFERTA GLOBAL\",\n",
    "    \"Id\",\"Niv_Descr_2\",\"Niv_Descr_4\",\"Niv_Descr_5\"\n",
    "    ).filter((pl.col('Niv_Descr_2') == \"\"))"
   ]
  },
  {
   "cell_type": "markdown",
   "id": "46b8e186",
   "metadata": {},
   "source": [
    "Resultados de una sola variable:\n"
   ]
  },
  {
   "cell_type": "code",
   "execution_count": 76,
   "id": "1c34edca",
   "metadata": {},
   "outputs": [
    {
     "name": "stderr",
     "output_type": "stream",
     "text": [
      "<string>:29: FutureWarning:\n",
      "\n",
      "Passing literal json to 'read_json' is deprecated and will be removed in a future version. To read from a literal string, wrap it in a 'StringIO' object.\n",
      "\n"
     ]
    },
    {
     "name": "stderr",
     "output_type": "stream",
     "text": [
      "<string>:29: FutureWarning:\n",
      "\n",
      "Passing literal json to 'read_json' is deprecated and will be removed in a future version. To read from a literal string, wrap it in a 'StringIO' object.\n",
      "\n"
     ]
    },
    {
     "data": {
      "text/html": [
       "<div><style>\n",
       ".dataframe > thead > tr,\n",
       ".dataframe > tbody > tr {\n",
       "  text-align: right;\n",
       "  white-space: pre-wrap;\n",
       "}\n",
       "</style>\n",
       "<small>shape: (24, 2)</small><table border=\"1\" class=\"dataframe\"><thead><tr><th>Fecha</th><th>OFERTA GLOBAL---IMPORTACIONES DE BIENES Y SERVICIOS C.I.F.-EN MILLONES DE LEMPIRAS CORRIENTES</th></tr><tr><td>date</td><td>f64</td></tr></thead><tbody><tr><td>2000-01-01</td><td>70839.7</td></tr><tr><td>2001-01-01</td><td>76450.8</td></tr><tr><td>2002-01-01</td><td>84303.0</td></tr><tr><td>2003-01-01</td><td>97336.4</td></tr><tr><td>2004-01-01</td><td>124423.4</td></tr><tr><td>&hellip;</td><td>&hellip;</td></tr><tr><td>2019-01-01</td><td>361267.7</td></tr><tr><td>2020-01-01</td><td>299223.4</td></tr><tr><td>2021-01-01</td><td>432645.9</td></tr><tr><td>2022-01-01</td><td>540641.5</td></tr><tr><td>2023-01-01</td><td>515765.4</td></tr></tbody></table></div>"
      ],
      "text/plain": [
       "shape: (24, 2)\n",
       "┌────────────┬───────────────────────────────────┐\n",
       "│ Fecha      ┆ OFERTA GLOBAL---IMPORTACIONES DE… │\n",
       "│ ---        ┆ ---                               │\n",
       "│ date       ┆ f64                               │\n",
       "╞════════════╪═══════════════════════════════════╡\n",
       "│ 2000-01-01 ┆ 70839.7                           │\n",
       "│ 2001-01-01 ┆ 76450.8                           │\n",
       "│ 2002-01-01 ┆ 84303.0                           │\n",
       "│ 2003-01-01 ┆ 97336.4                           │\n",
       "│ 2004-01-01 ┆ 124423.4                          │\n",
       "│ …          ┆ …                                 │\n",
       "│ 2019-01-01 ┆ 361267.7                          │\n",
       "│ 2020-01-01 ┆ 299223.4                          │\n",
       "│ 2021-01-01 ┆ 432645.9                          │\n",
       "│ 2022-01-01 ┆ 540641.5                          │\n",
       "│ 2023-01-01 ┆ 515765.4                          │\n",
       "└────────────┴───────────────────────────────────┘"
      ]
     },
     "execution_count": 76,
     "metadata": {},
     "output_type": "execute_result"
    }
   ],
   "source": [
    "Id = 11473\n",
    "df = get_df(Id)\n",
    "# get_plot(Id)\n",
    "df"
   ]
  },
  {
   "cell_type": "markdown",
   "id": "1f35a749",
   "metadata": {},
   "source": [
    "##### Demanda Global\n",
    "\n",
    "Estas tablas están agrupadas de dos maneras:\n",
    "\n",
    "1. Variables con valores en \"Niv_Descr_2\" y \"Niv_Descr_3\", corresponde a las siguientes series:\n",
    "\n",
    "* FORMACIÓN BRUTA DE CAPITAL FIJO\n",
    "* GASTOS DE CONSUMO FINAL\n",
    "\n",
    "De \"Niv_Descr_3\" se obtiene:\n",
    "\n",
    "* SECTOR PRIVADO\n",
    "* SECTOR PÚBLICO\n",
    "\n",
    "El tipo de valor (\"Niv_Descr_4\") de dichas variables es:\n",
    "\n",
    "* EN MILLONES DE LEMPIRAS CONSTANTES\n",
    "* EN MILLONES DE LEMPIRAS CORRIENTES\n",
    "* VARIACIONES RELATIVAS CONSTANTE\n",
    "* VARIACIONES RELATIVAS CORRIENTES\n"
   ]
  },
  {
   "cell_type": "code",
   "execution_count": 77,
   "id": "d589b4f8",
   "metadata": {},
   "outputs": [
    {
     "name": "stderr",
     "output_type": "stream",
     "text": [
      "<string>:29: FutureWarning:\n",
      "\n",
      "Passing literal json to 'read_json' is deprecated and will be removed in a future version. To read from a literal string, wrap it in a 'StringIO' object.\n",
      "\n"
     ]
    },
    {
     "data": {
      "text/html": [
       "<div><style>\n",
       ".dataframe > thead > tr,\n",
       ".dataframe > tbody > tr {\n",
       "  text-align: right;\n",
       "  white-space: pre-wrap;\n",
       "}\n",
       "</style>\n",
       "<small>shape: (16, 8)</small><table border=\"1\" class=\"dataframe\"><thead><tr><th>Niv_Gr_1</th><th>Niv_Gr_2</th><th>Niv_Descr_1</th><th>Id</th><th>Niv_Descr_2</th><th>Niv_Descr_3</th><th>Niv_Descr_4</th><th>N_Variables</th></tr><tr><td>str</td><td>str</td><td>str</td><td>i64</td><td>str</td><td>str</td><td>str</td><td>u32</td></tr></thead><tbody><tr><td>&quot;ESR&quot;</td><td>&quot;ODA&quot;</td><td>&quot;DEMANDA GLOBAL…</td><td>11457</td><td>&quot;FORMACIÓN BRUT…</td><td>&quot;SECTOR PRIVADO…</td><td>&quot;EN MILLONES DE…</td><td>1</td></tr><tr><td>&quot;ESR&quot;</td><td>&quot;ODA&quot;</td><td>&quot;DEMANDA GLOBAL…</td><td>11463</td><td>&quot;FORMACIÓN BRUT…</td><td>&quot;SECTOR PÚBLICO…</td><td>&quot;VARIACIONES RE…</td><td>1</td></tr><tr><td>&quot;ESR&quot;</td><td>&quot;ODA&quot;</td><td>&quot;DEMANDA GLOBAL…</td><td>11465</td><td>&quot;GASTOS DE CONS…</td><td>&quot;SECTOR PRIVADO…</td><td>&quot;EN MILLONES DE…</td><td>1</td></tr><tr><td>&quot;ESR&quot;</td><td>&quot;ODA&quot;</td><td>&quot;DEMANDA GLOBAL…</td><td>11464</td><td>&quot;GASTOS DE CONS…</td><td>&quot;SECTOR PRIVADO…</td><td>&quot;EN MILLONES DE…</td><td>1</td></tr><tr><td>&quot;ESR&quot;</td><td>&quot;ODA&quot;</td><td>&quot;DEMANDA GLOBAL…</td><td>11462</td><td>&quot;FORMACIÓN BRUT…</td><td>&quot;SECTOR PÚBLICO…</td><td>&quot;VARIACIONES RE…</td><td>1</td></tr><tr><td>&hellip;</td><td>&hellip;</td><td>&hellip;</td><td>&hellip;</td><td>&hellip;</td><td>&hellip;</td><td>&hellip;</td><td>&hellip;</td></tr><tr><td>&quot;ESR&quot;</td><td>&quot;ODA&quot;</td><td>&quot;DEMANDA GLOBAL…</td><td>11461</td><td>&quot;FORMACIÓN BRUT…</td><td>&quot;SECTOR PÚBLICO…</td><td>&quot;EN MILLONES DE…</td><td>1</td></tr><tr><td>&quot;ESR&quot;</td><td>&quot;ODA&quot;</td><td>&quot;DEMANDA GLOBAL…</td><td>11470</td><td>&quot;GASTOS DE CONS…</td><td>&quot;SECTOR PÚBLICO…</td><td>&quot;VARIACIONES RE…</td><td>1</td></tr><tr><td>&quot;ESR&quot;</td><td>&quot;ODA&quot;</td><td>&quot;DEMANDA GLOBAL…</td><td>11467</td><td>&quot;GASTOS DE CONS…</td><td>&quot;SECTOR PRIVADO…</td><td>&quot;VARIACIONES RE…</td><td>1</td></tr><tr><td>&quot;ESR&quot;</td><td>&quot;ODA&quot;</td><td>&quot;DEMANDA GLOBAL…</td><td>11468</td><td>&quot;GASTOS DE CONS…</td><td>&quot;SECTOR PÚBLICO…</td><td>&quot;EN MILLONES DE…</td><td>1</td></tr><tr><td>&quot;ESR&quot;</td><td>&quot;ODA&quot;</td><td>&quot;DEMANDA GLOBAL…</td><td>11471</td><td>&quot;GASTOS DE CONS…</td><td>&quot;SECTOR PÚBLICO…</td><td>&quot;VARIACIONES RE…</td><td>1</td></tr></tbody></table></div>"
      ],
      "text/plain": [
       "shape: (16, 8)\n",
       "┌──────────┬──────────┬─────────────┬───────┬─────────────┬─────────────┬─────────────┬────────────┐\n",
       "│ Niv_Gr_1 ┆ Niv_Gr_2 ┆ Niv_Descr_1 ┆ Id    ┆ Niv_Descr_2 ┆ Niv_Descr_3 ┆ Niv_Descr_4 ┆ N_Variable │\n",
       "│ ---      ┆ ---      ┆ ---         ┆ ---   ┆ ---         ┆ ---         ┆ ---         ┆ s          │\n",
       "│ str      ┆ str      ┆ str         ┆ i64   ┆ str         ┆ str         ┆ str         ┆ ---        │\n",
       "│          ┆          ┆             ┆       ┆             ┆             ┆             ┆ u32        │\n",
       "╞══════════╪══════════╪═════════════╪═══════╪═════════════╪═════════════╪═════════════╪════════════╡\n",
       "│ ESR      ┆ ODA      ┆ DEMANDA     ┆ 11457 ┆ FORMACIÓN   ┆ SECTOR      ┆ EN MILLONES ┆ 1          │\n",
       "│          ┆          ┆ GLOBAL      ┆       ┆ BRUTA DE    ┆ PRIVADO     ┆ DE LEMPIRAS ┆            │\n",
       "│          ┆          ┆             ┆       ┆ CAPITAL     ┆             ┆ CORRIENT…   ┆            │\n",
       "│          ┆          ┆             ┆       ┆ FIJO        ┆             ┆             ┆            │\n",
       "│ ESR      ┆ ODA      ┆ DEMANDA     ┆ 11463 ┆ FORMACIÓN   ┆ SECTOR      ┆ VARIACIONES ┆ 1          │\n",
       "│          ┆          ┆ GLOBAL      ┆       ┆ BRUTA DE    ┆ PÚBLICO     ┆ RELATIVAS   ┆            │\n",
       "│          ┆          ┆             ┆       ┆ CAPITAL     ┆             ┆ CORRIENTES  ┆            │\n",
       "│          ┆          ┆             ┆       ┆ FIJO        ┆             ┆             ┆            │\n",
       "│ ESR      ┆ ODA      ┆ DEMANDA     ┆ 11465 ┆ GASTOS DE   ┆ SECTOR      ┆ EN MILLONES ┆ 1          │\n",
       "│          ┆          ┆ GLOBAL      ┆       ┆ CONSUMO     ┆ PRIVADO     ┆ DE LEMPIRAS ┆            │\n",
       "│          ┆          ┆             ┆       ┆ FINAL       ┆             ┆ CORRIENT…   ┆            │\n",
       "│ ESR      ┆ ODA      ┆ DEMANDA     ┆ 11464 ┆ GASTOS DE   ┆ SECTOR      ┆ EN MILLONES ┆ 1          │\n",
       "│          ┆          ┆ GLOBAL      ┆       ┆ CONSUMO     ┆ PRIVADO     ┆ DE LEMPIRAS ┆            │\n",
       "│          ┆          ┆             ┆       ┆ FINAL       ┆             ┆ CONSTANT…   ┆            │\n",
       "│ ESR      ┆ ODA      ┆ DEMANDA     ┆ 11462 ┆ FORMACIÓN   ┆ SECTOR      ┆ VARIACIONES ┆ 1          │\n",
       "│          ┆          ┆ GLOBAL      ┆       ┆ BRUTA DE    ┆ PÚBLICO     ┆ RELATIVAS   ┆            │\n",
       "│          ┆          ┆             ┆       ┆ CAPITAL     ┆             ┆ CONSTANTE   ┆            │\n",
       "│          ┆          ┆             ┆       ┆ FIJO        ┆             ┆             ┆            │\n",
       "│ …        ┆ …        ┆ …           ┆ …     ┆ …           ┆ …           ┆ …           ┆ …          │\n",
       "│ ESR      ┆ ODA      ┆ DEMANDA     ┆ 11461 ┆ FORMACIÓN   ┆ SECTOR      ┆ EN MILLONES ┆ 1          │\n",
       "│          ┆          ┆ GLOBAL      ┆       ┆ BRUTA DE    ┆ PÚBLICO     ┆ DE LEMPIRAS ┆            │\n",
       "│          ┆          ┆             ┆       ┆ CAPITAL     ┆             ┆ CORRIENT…   ┆            │\n",
       "│          ┆          ┆             ┆       ┆ FIJO        ┆             ┆             ┆            │\n",
       "│ ESR      ┆ ODA      ┆ DEMANDA     ┆ 11470 ┆ GASTOS DE   ┆ SECTOR      ┆ VARIACIONES ┆ 1          │\n",
       "│          ┆          ┆ GLOBAL      ┆       ┆ CONSUMO     ┆ PÚBLICO     ┆ RELATIVAS   ┆            │\n",
       "│          ┆          ┆             ┆       ┆ FINAL       ┆             ┆ CONSTANTE   ┆            │\n",
       "│ ESR      ┆ ODA      ┆ DEMANDA     ┆ 11467 ┆ GASTOS DE   ┆ SECTOR      ┆ VARIACIONES ┆ 1          │\n",
       "│          ┆          ┆ GLOBAL      ┆       ┆ CONSUMO     ┆ PRIVADO     ┆ RELATIVAS   ┆            │\n",
       "│          ┆          ┆             ┆       ┆ FINAL       ┆             ┆ CORRIENTES  ┆            │\n",
       "│ ESR      ┆ ODA      ┆ DEMANDA     ┆ 11468 ┆ GASTOS DE   ┆ SECTOR      ┆ EN MILLONES ┆ 1          │\n",
       "│          ┆          ┆ GLOBAL      ┆       ┆ CONSUMO     ┆ PÚBLICO     ┆ DE LEMPIRAS ┆            │\n",
       "│          ┆          ┆             ┆       ┆ FINAL       ┆             ┆ CONSTANT…   ┆            │\n",
       "│ ESR      ┆ ODA      ┆ DEMANDA     ┆ 11471 ┆ GASTOS DE   ┆ SECTOR      ┆ VARIACIONES ┆ 1          │\n",
       "│          ┆          ┆ GLOBAL      ┆       ┆ CONSUMO     ┆ PÚBLICO     ┆ RELATIVAS   ┆            │\n",
       "│          ┆          ┆             ┆       ┆ FINAL       ┆             ┆ CORRIENTES  ┆            │\n",
       "└──────────┴──────────┴─────────────┴───────┴─────────────┴─────────────┴─────────────┴────────────┘"
      ]
     },
     "execution_count": 77,
     "metadata": {},
     "output_type": "execute_result"
    }
   ],
   "source": [
    "res_nivel_7(\n",
    "    \"ESR\",\"ODA\",\n",
    "    \"Niv_Descr_1\",\n",
    "    \"DEMANDA GLOBAL\",\n",
    "    \"Id\",\"Niv_Descr_2\",\"Niv_Descr_3\",\"Niv_Descr_4\"\n",
    "    ).filter((pl.col('Niv_Descr_2') != \"\"))"
   ]
  },
  {
   "cell_type": "markdown",
   "id": "5046810f",
   "metadata": {},
   "source": [
    "Resultados de una sola variable:\n"
   ]
  },
  {
   "cell_type": "code",
   "execution_count": 78,
   "id": "6dee8fdc",
   "metadata": {},
   "outputs": [
    {
     "name": "stderr",
     "output_type": "stream",
     "text": [
      "<string>:29: FutureWarning:\n",
      "\n",
      "Passing literal json to 'read_json' is deprecated and will be removed in a future version. To read from a literal string, wrap it in a 'StringIO' object.\n",
      "\n"
     ]
    },
    {
     "name": "stderr",
     "output_type": "stream",
     "text": [
      "<string>:29: FutureWarning:\n",
      "\n",
      "Passing literal json to 'read_json' is deprecated and will be removed in a future version. To read from a literal string, wrap it in a 'StringIO' object.\n",
      "\n"
     ]
    },
    {
     "data": {
      "text/html": [
       "<div><style>\n",
       ".dataframe > thead > tr,\n",
       ".dataframe > tbody > tr {\n",
       "  text-align: right;\n",
       "  white-space: pre-wrap;\n",
       "}\n",
       "</style>\n",
       "<small>shape: (24, 2)</small><table border=\"1\" class=\"dataframe\"><thead><tr><th>Fecha</th><th>DEMANDA GLOBAL-FORMACIÓN BRUTA DE CAPITAL FIJO-SECTOR PRIVADO-EN MILLONES DE LEMPIRAS CORRIENTES</th></tr><tr><td>date</td><td>f64</td></tr></thead><tbody><tr><td>2000-01-01</td><td>21630.4</td></tr><tr><td>2001-01-01</td><td>21859.9</td></tr><tr><td>2002-01-01</td><td>23425.3</td></tr><tr><td>2003-01-01</td><td>25758.4</td></tr><tr><td>2004-01-01</td><td>34118.0</td></tr><tr><td>&hellip;</td><td>&hellip;</td></tr><tr><td>2019-01-01</td><td>121220.5</td></tr><tr><td>2020-01-01</td><td>89277.4</td></tr><tr><td>2021-01-01</td><td>132749.6</td></tr><tr><td>2022-01-01</td><td>155255.9</td></tr><tr><td>2023-01-01</td><td>173970.0</td></tr></tbody></table></div>"
      ],
      "text/plain": [
       "shape: (24, 2)\n",
       "┌────────────┬───────────────────────────────────┐\n",
       "│ Fecha      ┆ DEMANDA GLOBAL-FORMACIÓN BRUTA D… │\n",
       "│ ---        ┆ ---                               │\n",
       "│ date       ┆ f64                               │\n",
       "╞════════════╪═══════════════════════════════════╡\n",
       "│ 2000-01-01 ┆ 21630.4                           │\n",
       "│ 2001-01-01 ┆ 21859.9                           │\n",
       "│ 2002-01-01 ┆ 23425.3                           │\n",
       "│ 2003-01-01 ┆ 25758.4                           │\n",
       "│ 2004-01-01 ┆ 34118.0                           │\n",
       "│ …          ┆ …                                 │\n",
       "│ 2019-01-01 ┆ 121220.5                          │\n",
       "│ 2020-01-01 ┆ 89277.4                           │\n",
       "│ 2021-01-01 ┆ 132749.6                          │\n",
       "│ 2022-01-01 ┆ 155255.9                          │\n",
       "│ 2023-01-01 ┆ 173970.0                          │\n",
       "└────────────┴───────────────────────────────────┘"
      ]
     },
     "execution_count": 78,
     "metadata": {},
     "output_type": "execute_result"
    }
   ],
   "source": [
    "Id = 11457\n",
    "df = get_df(Id)\n",
    "# get_plot(Id)\n",
    "df"
   ]
  },
  {
   "cell_type": "markdown",
   "id": "74c1513b",
   "metadata": {},
   "source": [
    "2. Variables sin valores en \"Niv_Descr_2\" y \"Niv_Descr_3\", corresponde a las siguientes series:\n",
    "\n",
    "* DEMANDA EXTERNA\n",
    "* DEMANDA GLOBAL\n",
    "* DEMANDA INTERNA\n",
    "* EXPORTACIÓN DE BIENES Y SERVICIOS F.O.B.\n",
    "* FORMACIÓN BRUTA DE CAPITAL FIJO\n",
    "* GASTOS DE CONSUMO FINAL\n",
    "* INVERSIÓN INTERNA BRUTA\n",
    "* VARIACIÓN DE EXISTENCIAS\n",
    "\n",
    "El tipo de valor de dichas variables es:\n",
    "\n",
    "* EN MILLONES DE LEMPIRAS CONSTANTES\n",
    "* EN MILLONES DE LEMPIRAS CORRIENTES\n",
    "* VARIACIONES RELATIVAS CONSTANTE\n",
    "* VARIACIONES RELATIVAS CORRIENTES\n",
    "\n",
    "Para saber el contenido de todas las variables:\n"
   ]
  },
  {
   "cell_type": "code",
   "execution_count": 79,
   "id": "5a1cc777",
   "metadata": {},
   "outputs": [
    {
     "name": "stderr",
     "output_type": "stream",
     "text": [
      "<string>:29: FutureWarning:\n",
      "\n",
      "Passing literal json to 'read_json' is deprecated and will be removed in a future version. To read from a literal string, wrap it in a 'StringIO' object.\n",
      "\n"
     ]
    },
    {
     "data": {
      "text/html": [
       "<div><style>\n",
       ".dataframe > thead > tr,\n",
       ".dataframe > tbody > tr {\n",
       "  text-align: right;\n",
       "  white-space: pre-wrap;\n",
       "}\n",
       "</style>\n",
       "<small>shape: (30, 8)</small><table border=\"1\" class=\"dataframe\"><thead><tr><th>Niv_Gr_1</th><th>Niv_Gr_2</th><th>Niv_Descr_1</th><th>Id</th><th>Niv_Descr_2</th><th>Niv_Descr_4</th><th>Niv_Descr_5</th><th>N_Variables</th></tr><tr><td>str</td><td>str</td><td>str</td><td>i64</td><td>str</td><td>str</td><td>str</td><td>u32</td></tr></thead><tbody><tr><td>&quot;ESR&quot;</td><td>&quot;ODA&quot;</td><td>&quot;DEMANDA GLOBAL…</td><td>11426</td><td>&quot;&quot;</td><td>&quot;DEMANDA EXTERN…</td><td>&quot;EN MILLONES DE…</td><td>1</td></tr><tr><td>&quot;ESR&quot;</td><td>&quot;ODA&quot;</td><td>&quot;DEMANDA GLOBAL…</td><td>11455</td><td>&quot;&quot;</td><td>&quot;VARIACIÓN DE E…</td><td>&quot;EN MILLONES DE…</td><td>1</td></tr><tr><td>&quot;ESR&quot;</td><td>&quot;ODA&quot;</td><td>&quot;DEMANDA GLOBAL…</td><td>11428</td><td>&quot;&quot;</td><td>&quot;DEMANDA EXTERN…</td><td>&quot;VARIACIONES RE…</td><td>1</td></tr><tr><td>&quot;ESR&quot;</td><td>&quot;ODA&quot;</td><td>&quot;DEMANDA GLOBAL…</td><td>11433</td><td>&quot;&quot;</td><td>&quot;DEMANDA GLOBAL…</td><td>&quot;VARIACIONES RE…</td><td>1</td></tr><tr><td>&quot;ESR&quot;</td><td>&quot;ODA&quot;</td><td>&quot;DEMANDA GLOBAL…</td><td>11454</td><td>&quot;&quot;</td><td>&quot;VARIACIÓN DE E…</td><td>&quot;EN MILLONES DE…</td><td>1</td></tr><tr><td>&hellip;</td><td>&hellip;</td><td>&hellip;</td><td>&hellip;</td><td>&hellip;</td><td>&hellip;</td><td>&hellip;</td><td>&hellip;</td></tr><tr><td>&quot;ESR&quot;</td><td>&quot;ODA&quot;</td><td>&quot;DEMANDA GLOBAL…</td><td>11444</td><td>&quot;&quot;</td><td>&quot;FORMACIÓN BRUT…</td><td>&quot;VARIACIONES RE…</td><td>1</td></tr><tr><td>&quot;ESR&quot;</td><td>&quot;ODA&quot;</td><td>&quot;DEMANDA GLOBAL…</td><td>11438</td><td>&quot;&quot;</td><td>&quot;EXPORTACIÓN DE…</td><td>&quot;EN MILLONES DE…</td><td>1</td></tr><tr><td>&quot;ESR&quot;</td><td>&quot;ODA&quot;</td><td>&quot;DEMANDA GLOBAL…</td><td>11430</td><td>&quot;&quot;</td><td>&quot;DEMANDA GLOBAL…</td><td>&quot;EN MILLONES DE…</td><td>1</td></tr><tr><td>&quot;ESR&quot;</td><td>&quot;ODA&quot;</td><td>&quot;DEMANDA GLOBAL…</td><td>11437</td><td>&quot;&quot;</td><td>&quot;DEMANDA INTERN…</td><td>&quot;VARIACIONES RE…</td><td>1</td></tr><tr><td>&quot;ESR&quot;</td><td>&quot;ODA&quot;</td><td>&quot;DEMANDA GLOBAL…</td><td>11448</td><td>&quot;&quot;</td><td>&quot;GASTOS DE CONS…</td><td>&quot;VARIACIONES RE…</td><td>1</td></tr></tbody></table></div>"
      ],
      "text/plain": [
       "shape: (30, 8)\n",
       "┌──────────┬──────────┬─────────────┬───────┬─────────────┬─────────────┬─────────────┬────────────┐\n",
       "│ Niv_Gr_1 ┆ Niv_Gr_2 ┆ Niv_Descr_1 ┆ Id    ┆ Niv_Descr_2 ┆ Niv_Descr_4 ┆ Niv_Descr_5 ┆ N_Variable │\n",
       "│ ---      ┆ ---      ┆ ---         ┆ ---   ┆ ---         ┆ ---         ┆ ---         ┆ s          │\n",
       "│ str      ┆ str      ┆ str         ┆ i64   ┆ str         ┆ str         ┆ str         ┆ ---        │\n",
       "│          ┆          ┆             ┆       ┆             ┆             ┆             ┆ u32        │\n",
       "╞══════════╪══════════╪═════════════╪═══════╪═════════════╪═════════════╪═════════════╪════════════╡\n",
       "│ ESR      ┆ ODA      ┆ DEMANDA     ┆ 11426 ┆             ┆ DEMANDA     ┆ EN MILLONES ┆ 1          │\n",
       "│          ┆          ┆ GLOBAL      ┆       ┆             ┆ EXTERNA     ┆ DE LEMPIRAS ┆            │\n",
       "│          ┆          ┆             ┆       ┆             ┆             ┆ CONSTANT…   ┆            │\n",
       "│ ESR      ┆ ODA      ┆ DEMANDA     ┆ 11455 ┆             ┆ VARIACIÓN   ┆ EN MILLONES ┆ 1          │\n",
       "│          ┆          ┆ GLOBAL      ┆       ┆             ┆ DE          ┆ DE LEMPIRAS ┆            │\n",
       "│          ┆          ┆             ┆       ┆             ┆ EXISTENCIAS ┆ CORRIENT…   ┆            │\n",
       "│ ESR      ┆ ODA      ┆ DEMANDA     ┆ 11428 ┆             ┆ DEMANDA     ┆ VARIACIONES ┆ 1          │\n",
       "│          ┆          ┆ GLOBAL      ┆       ┆             ┆ EXTERNA     ┆ RELATIVAS   ┆            │\n",
       "│          ┆          ┆             ┆       ┆             ┆             ┆ CONSTANTE   ┆            │\n",
       "│ ESR      ┆ ODA      ┆ DEMANDA     ┆ 11433 ┆             ┆ DEMANDA     ┆ VARIACIONES ┆ 1          │\n",
       "│          ┆          ┆ GLOBAL      ┆       ┆             ┆ GLOBAL      ┆ RELATIVAS   ┆            │\n",
       "│          ┆          ┆             ┆       ┆             ┆             ┆ CORRIENTES  ┆            │\n",
       "│ ESR      ┆ ODA      ┆ DEMANDA     ┆ 11454 ┆             ┆ VARIACIÓN   ┆ EN MILLONES ┆ 1          │\n",
       "│          ┆          ┆ GLOBAL      ┆       ┆             ┆ DE          ┆ DE LEMPIRAS ┆            │\n",
       "│          ┆          ┆             ┆       ┆             ┆ EXISTENCIAS ┆ CONSTANT…   ┆            │\n",
       "│ …        ┆ …        ┆ …           ┆ …     ┆ …           ┆ …           ┆ …           ┆ …          │\n",
       "│ ESR      ┆ ODA      ┆ DEMANDA     ┆ 11444 ┆             ┆ FORMACIÓN   ┆ VARIACIONES ┆ 1          │\n",
       "│          ┆          ┆ GLOBAL      ┆       ┆             ┆ BRUTA DE    ┆ RELATIVAS   ┆            │\n",
       "│          ┆          ┆             ┆       ┆             ┆ CAPITAL     ┆ CONSTANTE   ┆            │\n",
       "│          ┆          ┆             ┆       ┆             ┆ FIJO        ┆             ┆            │\n",
       "│ ESR      ┆ ODA      ┆ DEMANDA     ┆ 11438 ┆             ┆ EXPORTACIÓN ┆ EN MILLONES ┆ 1          │\n",
       "│          ┆          ┆ GLOBAL      ┆       ┆             ┆ DE BIENES Y ┆ DE LEMPIRAS ┆            │\n",
       "│          ┆          ┆             ┆       ┆             ┆ SERVICIO…   ┆ CONSTANT…   ┆            │\n",
       "│ ESR      ┆ ODA      ┆ DEMANDA     ┆ 11430 ┆             ┆ DEMANDA     ┆ EN MILLONES ┆ 1          │\n",
       "│          ┆          ┆ GLOBAL      ┆       ┆             ┆ GLOBAL      ┆ DE LEMPIRAS ┆            │\n",
       "│          ┆          ┆             ┆       ┆             ┆             ┆ CONSTANT…   ┆            │\n",
       "│ ESR      ┆ ODA      ┆ DEMANDA     ┆ 11437 ┆             ┆ DEMANDA     ┆ VARIACIONES ┆ 1          │\n",
       "│          ┆          ┆ GLOBAL      ┆       ┆             ┆ INTERNA     ┆ RELATIVAS   ┆            │\n",
       "│          ┆          ┆             ┆       ┆             ┆             ┆ CORRIENTES  ┆            │\n",
       "│ ESR      ┆ ODA      ┆ DEMANDA     ┆ 11448 ┆             ┆ GASTOS DE   ┆ VARIACIONES ┆ 1          │\n",
       "│          ┆          ┆ GLOBAL      ┆       ┆             ┆ CONSUMO     ┆ RELATIVAS   ┆            │\n",
       "│          ┆          ┆             ┆       ┆             ┆ FINAL       ┆ CONSTANTE   ┆            │\n",
       "└──────────┴──────────┴─────────────┴───────┴─────────────┴─────────────┴─────────────┴────────────┘"
      ]
     },
     "execution_count": 79,
     "metadata": {},
     "output_type": "execute_result"
    }
   ],
   "source": [
    "res_nivel_7(\n",
    "    \"ESR\",\"ODA\",\n",
    "    \"Niv_Descr_1\",\n",
    "    \"DEMANDA GLOBAL\",\n",
    "    \"Id\",\"Niv_Descr_2\",\"Niv_Descr_4\",\"Niv_Descr_5\"\n",
    "    ).filter((pl.col('Niv_Descr_2') == \"\"))"
   ]
  },
  {
   "cell_type": "markdown",
   "id": "50a3e5bc",
   "metadata": {},
   "source": [
    "Resultados de una sola variable:\n"
   ]
  },
  {
   "cell_type": "code",
   "execution_count": 80,
   "id": "a443d6f4",
   "metadata": {},
   "outputs": [
    {
     "name": "stderr",
     "output_type": "stream",
     "text": [
      "<string>:29: FutureWarning:\n",
      "\n",
      "Passing literal json to 'read_json' is deprecated and will be removed in a future version. To read from a literal string, wrap it in a 'StringIO' object.\n",
      "\n"
     ]
    },
    {
     "name": "stderr",
     "output_type": "stream",
     "text": [
      "<string>:29: FutureWarning:\n",
      "\n",
      "Passing literal json to 'read_json' is deprecated and will be removed in a future version. To read from a literal string, wrap it in a 'StringIO' object.\n",
      "\n"
     ]
    },
    {
     "data": {
      "text/html": [
       "<div><style>\n",
       ".dataframe > thead > tr,\n",
       ".dataframe > tbody > tr {\n",
       "  text-align: right;\n",
       "  white-space: pre-wrap;\n",
       "}\n",
       "</style>\n",
       "<small>shape: (23, 2)</small><table border=\"1\" class=\"dataframe\"><thead><tr><th>Fecha</th><th>DEMANDA GLOBAL---EXPORTACIÓN DE BIENES Y SERVICIOS F.O.B.-VARIACIONES RELATIVAS CONSTANTE</th></tr><tr><td>date</td><td>f64</td></tr></thead><tbody><tr><td>2001-01-01</td><td>4.0</td></tr><tr><td>2002-01-01</td><td>10.0</td></tr><tr><td>2003-01-01</td><td>8.7</td></tr><tr><td>2004-01-01</td><td>13.2</td></tr><tr><td>2005-01-01</td><td>5.3</td></tr><tr><td>&hellip;</td><td>&hellip;</td></tr><tr><td>2019-01-01</td><td>1.0</td></tr><tr><td>2020-01-01</td><td>-21.0</td></tr><tr><td>2021-01-01</td><td>23.2</td></tr><tr><td>2022-01-01</td><td>6.6</td></tr><tr><td>2023-01-01</td><td>-7.5</td></tr></tbody></table></div>"
      ],
      "text/plain": [
       "shape: (23, 2)\n",
       "┌────────────┬───────────────────────────────────┐\n",
       "│ Fecha      ┆ DEMANDA GLOBAL---EXPORTACIÓN DE … │\n",
       "│ ---        ┆ ---                               │\n",
       "│ date       ┆ f64                               │\n",
       "╞════════════╪═══════════════════════════════════╡\n",
       "│ 2001-01-01 ┆ 4.0                               │\n",
       "│ 2002-01-01 ┆ 10.0                              │\n",
       "│ 2003-01-01 ┆ 8.7                               │\n",
       "│ 2004-01-01 ┆ 13.2                              │\n",
       "│ 2005-01-01 ┆ 5.3                               │\n",
       "│ …          ┆ …                                 │\n",
       "│ 2019-01-01 ┆ 1.0                               │\n",
       "│ 2020-01-01 ┆ -21.0                             │\n",
       "│ 2021-01-01 ┆ 23.2                              │\n",
       "│ 2022-01-01 ┆ 6.6                               │\n",
       "│ 2023-01-01 ┆ -7.5                              │\n",
       "└────────────┴───────────────────────────────────┘"
      ]
     },
     "execution_count": 80,
     "metadata": {},
     "output_type": "execute_result"
    }
   ],
   "source": [
    "Id = 11440\n",
    "df = get_df(Id)\n",
    "# get_plot(Id)\n",
    "df"
   ]
  },
  {
   "cell_type": "markdown",
   "id": "b5bb0218",
   "metadata": {},
   "source": [
    "#### IMAE = Índice Mensual de la Actividad Económica\n",
    "\n",
    "Las actividades (\"Niv_Descr_4\") son:\n",
    "\n",
    "* Agricultura, Ganaderia, Silvicultura y Pesca \n",
    "* Minas y Canteras \n",
    "*  Industria Manufacturera \n",
    "* Electricidad y Agua \n",
    "* ConstrucciÃ³n \n",
    "* Comercio \n",
    "* Hoteles y Restaurantes \n",
    "* Transporte y Almacenamiento \n",
    "* Correo y Telecomunicaciones \n",
    "* Inter. Financiera, Seguros y Fondos de Pensiones \n",
    "* Otros Servicios \n",
    "* Serie Original \n",
    "* Tendencia Ciclo \n",
    "\n",
    "El tipo de valor (\"Niv_Descr_5\") de dichas variables es:\n",
    "\n",
    "* Acumulada\n",
    "* Interanual\n",
    "* Índice\n"
   ]
  },
  {
   "cell_type": "code",
   "execution_count": 81,
   "id": "c56fe80d",
   "metadata": {},
   "outputs": [
    {
     "name": "stdout",
     "output_type": "stream",
     "text": [
      "1 subgrupos\n",
      "39 variables\n"
     ]
    },
    {
     "name": "stderr",
     "output_type": "stream",
     "text": [
      "<string>:29: FutureWarning:\n",
      "\n",
      "Passing literal json to 'read_json' is deprecated and will be removed in a future version. To read from a literal string, wrap it in a 'StringIO' object.\n",
      "\n"
     ]
    },
    {
     "data": {
      "text/html": [
       "<div><style>\n",
       ".dataframe > thead > tr,\n",
       ".dataframe > tbody > tr {\n",
       "  text-align: right;\n",
       "  white-space: pre-wrap;\n",
       "}\n",
       "</style>\n",
       "<small>shape: (1, 4)</small><table border=\"1\" class=\"dataframe\"><thead><tr><th>Niv_Gr_1</th><th>Niv_Gr_2</th><th>Niv_Descr_2</th><th>N_Variables</th></tr><tr><td>str</td><td>str</td><td>str</td><td>u32</td></tr></thead><tbody><tr><td>&quot;ESR&quot;</td><td>&quot;IMAE&quot;</td><td>&quot;IMAE&quot;</td><td>39</td></tr></tbody></table></div>"
      ],
      "text/plain": [
       "shape: (1, 4)\n",
       "┌──────────┬──────────┬─────────────┬─────────────┐\n",
       "│ Niv_Gr_1 ┆ Niv_Gr_2 ┆ Niv_Descr_2 ┆ N_Variables │\n",
       "│ ---      ┆ ---      ┆ ---         ┆ ---         │\n",
       "│ str      ┆ str      ┆ str         ┆ u32         │\n",
       "╞══════════╪══════════╪═════════════╪═════════════╡\n",
       "│ ESR      ┆ IMAE     ┆ IMAE        ┆ 39          │\n",
       "└──────────┴──────────┴─────────────┴─────────────┘"
      ]
     },
     "execution_count": 81,
     "metadata": {},
     "output_type": "execute_result"
    }
   ],
   "source": [
    "res_nivel_3(\"ESR\",\"IMAE\",\"Niv_Descr_2\")"
   ]
  },
  {
   "cell_type": "markdown",
   "id": "e5f9033f",
   "metadata": {},
   "source": [
    "Para saber el contenido de todas las variables:\n"
   ]
  },
  {
   "cell_type": "code",
   "execution_count": 82,
   "id": "bab96283",
   "metadata": {},
   "outputs": [
    {
     "name": "stderr",
     "output_type": "stream",
     "text": [
      "<string>:29: FutureWarning:\n",
      "\n",
      "Passing literal json to 'read_json' is deprecated and will be removed in a future version. To read from a literal string, wrap it in a 'StringIO' object.\n",
      "\n"
     ]
    },
    {
     "data": {
      "text/html": [
       "<div><style>\n",
       ".dataframe > thead > tr,\n",
       ".dataframe > tbody > tr {\n",
       "  text-align: right;\n",
       "  white-space: pre-wrap;\n",
       "}\n",
       "</style>\n",
       "<small>shape: (39, 7)</small><table border=\"1\" class=\"dataframe\"><thead><tr><th>Niv_Gr_1</th><th>Niv_Gr_2</th><th>Niv_Descr_2</th><th>Id</th><th>Niv_Descr_4</th><th>Niv_Descr_5</th><th>N_Variables</th></tr><tr><td>str</td><td>str</td><td>str</td><td>i64</td><td>str</td><td>str</td><td>u32</td></tr></thead><tbody><tr><td>&quot;ESR&quot;</td><td>&quot;IMAE&quot;</td><td>&quot;IMAE&quot;</td><td>357</td><td>&quot; Hoteles y Res…</td><td>&quot; Índice&quot;</td><td>1</td></tr><tr><td>&quot;ESR&quot;</td><td>&quot;IMAE&quot;</td><td>&quot;IMAE&quot;</td><td>366</td><td>&quot; Inter. Financ…</td><td>&quot; Índice&quot;</td><td>1</td></tr><tr><td>&quot;ESR&quot;</td><td>&quot;IMAE&quot;</td><td>&quot;IMAE&quot;</td><td>347</td><td>&quot; Electricidad …</td><td>&quot; Interanual&quot;</td><td>1</td></tr><tr><td>&quot;ESR&quot;</td><td>&quot;IMAE&quot;</td><td>&quot;IMAE&quot;</td><td>353</td><td>&quot; Comercio &quot;</td><td>&quot; Interanual&quot;</td><td>1</td></tr><tr><td>&quot;ESR&quot;</td><td>&quot;IMAE&quot;</td><td>&quot;IMAE&quot;</td><td>360</td><td>&quot; Transporte y …</td><td>&quot; Índice&quot;</td><td>1</td></tr><tr><td>&hellip;</td><td>&hellip;</td><td>&hellip;</td><td>&hellip;</td><td>&hellip;</td><td>&hellip;</td><td>&hellip;</td></tr><tr><td>&quot;ESR&quot;</td><td>&quot;IMAE&quot;</td><td>&quot;IMAE&quot;</td><td>373</td><td>&quot; Tendencia Cic…</td><td>&quot; Acumulada&quot;</td><td>1</td></tr><tr><td>&quot;ESR&quot;</td><td>&quot;IMAE&quot;</td><td>&quot;IMAE&quot;</td><td>374</td><td>&quot; Tendencia Cic…</td><td>&quot; Interanual&quot;</td><td>1</td></tr><tr><td>&quot;ESR&quot;</td><td>&quot;IMAE&quot;</td><td>&quot;IMAE&quot;</td><td>341</td><td>&quot; Minas y Cante…</td><td>&quot; Interanual&quot;</td><td>1</td></tr><tr><td>&quot;ESR&quot;</td><td>&quot;IMAE&quot;</td><td>&quot;IMAE&quot;</td><td>350</td><td>&quot; Construcción …</td><td>&quot; Interanual&quot;</td><td>1</td></tr><tr><td>&quot;ESR&quot;</td><td>&quot;IMAE&quot;</td><td>&quot;IMAE&quot;</td><td>363</td><td>&quot; Correo y Tele…</td><td>&quot; Índice&quot;</td><td>1</td></tr></tbody></table></div>"
      ],
      "text/plain": [
       "shape: (39, 7)\n",
       "┌──────────┬──────────┬─────────────┬─────┬────────────────────────────┬─────────────┬─────────────┐\n",
       "│ Niv_Gr_1 ┆ Niv_Gr_2 ┆ Niv_Descr_2 ┆ Id  ┆ Niv_Descr_4                ┆ Niv_Descr_5 ┆ N_Variables │\n",
       "│ ---      ┆ ---      ┆ ---         ┆ --- ┆ ---                        ┆ ---         ┆ ---         │\n",
       "│ str      ┆ str      ┆ str         ┆ i64 ┆ str                        ┆ str         ┆ u32         │\n",
       "╞══════════╪══════════╪═════════════╪═════╪════════════════════════════╪═════════════╪═════════════╡\n",
       "│ ESR      ┆ IMAE     ┆ IMAE        ┆ 357 ┆  Hoteles y Restaurantes    ┆  Índice     ┆ 1           │\n",
       "│ ESR      ┆ IMAE     ┆ IMAE        ┆ 366 ┆ Inter. Financiera, Seguros ┆  Índice     ┆ 1           │\n",
       "│          ┆          ┆             ┆     ┆ y Fo…                      ┆             ┆             │\n",
       "│ ESR      ┆ IMAE     ┆ IMAE        ┆ 347 ┆  Electricidad y Agua       ┆  Interanual ┆ 1           │\n",
       "│ ESR      ┆ IMAE     ┆ IMAE        ┆ 353 ┆  Comercio                  ┆  Interanual ┆ 1           │\n",
       "│ ESR      ┆ IMAE     ┆ IMAE        ┆ 360 ┆ Transporte y               ┆  Índice     ┆ 1           │\n",
       "│          ┆          ┆             ┆     ┆ Almacenamiento             ┆             ┆             │\n",
       "│ …        ┆ …        ┆ …           ┆ …   ┆ …                          ┆ …           ┆ …           │\n",
       "│ ESR      ┆ IMAE     ┆ IMAE        ┆ 373 ┆  Tendencia Ciclo           ┆  Acumulada  ┆ 1           │\n",
       "│ ESR      ┆ IMAE     ┆ IMAE        ┆ 374 ┆  Tendencia Ciclo           ┆  Interanual ┆ 1           │\n",
       "│ ESR      ┆ IMAE     ┆ IMAE        ┆ 341 ┆  Minas y Canteras          ┆  Interanual ┆ 1           │\n",
       "│ ESR      ┆ IMAE     ┆ IMAE        ┆ 350 ┆  Construcción              ┆  Interanual ┆ 1           │\n",
       "│ ESR      ┆ IMAE     ┆ IMAE        ┆ 363 ┆ Correo y                   ┆  Índice     ┆ 1           │\n",
       "│          ┆          ┆             ┆     ┆ Telecomunicaciones         ┆             ┆             │\n",
       "└──────────┴──────────┴─────────────┴─────┴────────────────────────────┴─────────────┴─────────────┘"
      ]
     },
     "execution_count": 82,
     "metadata": {},
     "output_type": "execute_result"
    }
   ],
   "source": [
    "res_nivel_6(\n",
    "    \"ESR\",\"IMAE\",\n",
    "    \"Niv_Descr_2\",\n",
    "    \"IMAE\",\n",
    "    \"Id\",\"Niv_Descr_4\",\"Niv_Descr_5\")"
   ]
  },
  {
   "cell_type": "markdown",
   "id": "22d80aba",
   "metadata": {},
   "source": [
    "Resultados de una sola variable:\n"
   ]
  },
  {
   "cell_type": "code",
   "execution_count": 83,
   "id": "ffd5051d",
   "metadata": {},
   "outputs": [
    {
     "name": "stderr",
     "output_type": "stream",
     "text": [
      "<string>:29: FutureWarning:\n",
      "\n",
      "Passing literal json to 'read_json' is deprecated and will be removed in a future version. To read from a literal string, wrap it in a 'StringIO' object.\n",
      "\n"
     ]
    },
    {
     "name": "stderr",
     "output_type": "stream",
     "text": [
      "<string>:29: FutureWarning:\n",
      "\n",
      "Passing literal json to 'read_json' is deprecated and will be removed in a future version. To read from a literal string, wrap it in a 'StringIO' object.\n",
      "\n"
     ]
    },
    {
     "data": {
      "text/html": [
       "<div><style>\n",
       ".dataframe > thead > tr,\n",
       ".dataframe > tbody > tr {\n",
       "  text-align: right;\n",
       "  white-space: pre-wrap;\n",
       "}\n",
       "</style>\n",
       "<small>shape: (290, 2)</small><table border=\"1\" class=\"dataframe\"><thead><tr><th>Fecha</th><th>ESR-IMAE-01 - Serie Original - Índice</th></tr><tr><td>date</td><td>f64</td></tr></thead><tbody><tr><td>2000-01-01</td><td>96.0836</td></tr><tr><td>2000-02-01</td><td>100.354</td></tr><tr><td>2000-03-01</td><td>103.7134</td></tr><tr><td>2000-04-01</td><td>91.3566</td></tr><tr><td>2000-05-01</td><td>98.5831</td></tr><tr><td>&hellip;</td><td>&hellip;</td></tr><tr><td>2023-10-01</td><td>282.5159</td></tr><tr><td>2023-11-01</td><td>265.7474</td></tr><tr><td>2023-12-01</td><td>304.4677</td></tr><tr><td>2024-01-01</td><td>262.5582</td></tr><tr><td>2024-02-01</td><td>272.8435</td></tr></tbody></table></div>"
      ],
      "text/plain": [
       "shape: (290, 2)\n",
       "┌────────────┬───────────────────────────────────┐\n",
       "│ Fecha      ┆ ESR-IMAE-01 - Serie Original - Í… │\n",
       "│ ---        ┆ ---                               │\n",
       "│ date       ┆ f64                               │\n",
       "╞════════════╪═══════════════════════════════════╡\n",
       "│ 2000-01-01 ┆ 96.0836                           │\n",
       "│ 2000-02-01 ┆ 100.354                           │\n",
       "│ 2000-03-01 ┆ 103.7134                          │\n",
       "│ 2000-04-01 ┆ 91.3566                           │\n",
       "│ 2000-05-01 ┆ 98.5831                           │\n",
       "│ …          ┆ …                                 │\n",
       "│ 2023-10-01 ┆ 282.5159                          │\n",
       "│ 2023-11-01 ┆ 265.7474                          │\n",
       "│ 2023-12-01 ┆ 304.4677                          │\n",
       "│ 2024-01-01 ┆ 262.5582                          │\n",
       "│ 2024-02-01 ┆ 272.8435                          │\n",
       "└────────────┴───────────────────────────────────┘"
      ]
     },
     "execution_count": 83,
     "metadata": {},
     "output_type": "execute_result"
    }
   ],
   "source": [
    "Id = 372\n",
    "df = get_df(Id)\n",
    "# get_plot(Id)\n",
    "df"
   ]
  },
  {
   "cell_type": "markdown",
   "id": "d6312341",
   "metadata": {},
   "source": [
    "### ESE = Estadísticas del Sector Externo\n"
   ]
  },
  {
   "cell_type": "code",
   "execution_count": 84,
   "id": "5ffc89a0",
   "metadata": {},
   "outputs": [
    {
     "name": "stdout",
     "output_type": "stream",
     "text": [
      "11519 variables\n",
      "54 grupos\n",
      "12 variables\n",
      "6 grupos\n",
      "12 subgrupos\n"
     ]
    },
    {
     "name": "stderr",
     "output_type": "stream",
     "text": [
      "<string>:29: FutureWarning:\n",
      "\n",
      "Passing literal json to 'read_json' is deprecated and will be removed in a future version. To read from a literal string, wrap it in a 'StringIO' object.\n",
      "\n"
     ]
    },
    {
     "data": {
      "text/html": [
       "<div><style>\n",
       ".dataframe > thead > tr,\n",
       ".dataframe > tbody > tr {\n",
       "  text-align: right;\n",
       "  white-space: pre-wrap;\n",
       "}\n",
       "</style>\n",
       "<small>shape: (6, 4)</small><table border=\"1\" class=\"dataframe\"><thead><tr><th>Niv_Gr_1</th><th>Niv_Gr_2</th><th>N_Variables</th><th>N_Niv_Gr_2</th></tr><tr><td>str</td><td>str</td><td>u32</td><td>u32</td></tr></thead><tbody><tr><td>&quot;ESE&quot;</td><td>&quot;CEB&quot;</td><td>4</td><td>4</td></tr><tr><td>&quot;ESE&quot;</td><td>&quot;DE&quot;</td><td>4</td><td>4</td></tr><tr><td>&quot;ESE&quot;</td><td>&quot;PII&quot;</td><td>1</td><td>1</td></tr><tr><td>&quot;ESE&quot;</td><td>&quot;IED&quot;</td><td>1</td><td>1</td></tr><tr><td>&quot;ESE&quot;</td><td>&quot;IES&quot;</td><td>1</td><td>1</td></tr><tr><td>&quot;ESE&quot;</td><td>&quot;BP&quot;</td><td>1</td><td>1</td></tr></tbody></table></div>"
      ],
      "text/plain": [
       "shape: (6, 4)\n",
       "┌──────────┬──────────┬─────────────┬────────────┐\n",
       "│ Niv_Gr_1 ┆ Niv_Gr_2 ┆ N_Variables ┆ N_Niv_Gr_2 │\n",
       "│ ---      ┆ ---      ┆ ---         ┆ ---        │\n",
       "│ str      ┆ str      ┆ u32         ┆ u32        │\n",
       "╞══════════╪══════════╪═════════════╪════════════╡\n",
       "│ ESE      ┆ CEB      ┆ 4           ┆ 4          │\n",
       "│ ESE      ┆ DE       ┆ 4           ┆ 4          │\n",
       "│ ESE      ┆ PII      ┆ 1           ┆ 1          │\n",
       "│ ESE      ┆ IED      ┆ 1           ┆ 1          │\n",
       "│ ESE      ┆ IES      ┆ 1           ┆ 1          │\n",
       "│ ESE      ┆ BP       ┆ 1           ┆ 1          │\n",
       "└──────────┴──────────┴─────────────┴────────────┘"
      ]
     },
     "execution_count": 84,
     "metadata": {},
     "output_type": "execute_result"
    }
   ],
   "source": [
    "res_nivel_2(\"ESE\")"
   ]
  },
  {
   "cell_type": "markdown",
   "id": "a08f1cde",
   "metadata": {},
   "source": [
    "* DE = Deuda Externa\n",
    "* CEB = Comercio Exterior de Bienes\n",
    "* BP = Balanza de Pagos\n",
    "* IES = Ingresos y Egresos de Servicios\n",
    "* PII = Posición de Inversión Inernacional\n",
    "* IED = Inversión Extranjera Directa\n",
    "\n",
    "#### DE = Deuda Externa\n"
   ]
  },
  {
   "cell_type": "code",
   "execution_count": 85,
   "id": "a43617de",
   "metadata": {},
   "outputs": [
    {
     "name": "stdout",
     "output_type": "stream",
     "text": [
      "4 subgrupos\n",
      "737 variables\n"
     ]
    },
    {
     "name": "stderr",
     "output_type": "stream",
     "text": [
      "<string>:29: FutureWarning:\n",
      "\n",
      "Passing literal json to 'read_json' is deprecated and will be removed in a future version. To read from a literal string, wrap it in a 'StringIO' object.\n",
      "\n"
     ]
    },
    {
     "data": {
      "text/html": [
       "<div><style>\n",
       ".dataframe > thead > tr,\n",
       ".dataframe > tbody > tr {\n",
       "  text-align: right;\n",
       "  white-space: pre-wrap;\n",
       "}\n",
       "</style>\n",
       "<small>shape: (4, 4)</small><table border=\"1\" class=\"dataframe\"><thead><tr><th>Niv_Gr_1</th><th>Niv_Gr_2</th><th>Niv_Gr_3</th><th>N_Variables</th></tr><tr><td>str</td><td>str</td><td>str</td><td>u32</td></tr></thead><tbody><tr><td>&quot;ESE&quot;</td><td>&quot;DE&quot;</td><td>&quot;03&quot;</td><td>672</td></tr><tr><td>&quot;ESE&quot;</td><td>&quot;DE&quot;</td><td>&quot;04&quot;</td><td>55</td></tr><tr><td>&quot;ESE&quot;</td><td>&quot;DE&quot;</td><td>&quot;02&quot;</td><td>6</td></tr><tr><td>&quot;ESE&quot;</td><td>&quot;DE&quot;</td><td>&quot;01&quot;</td><td>4</td></tr></tbody></table></div>"
      ],
      "text/plain": [
       "shape: (4, 4)\n",
       "┌──────────┬──────────┬──────────┬─────────────┐\n",
       "│ Niv_Gr_1 ┆ Niv_Gr_2 ┆ Niv_Gr_3 ┆ N_Variables │\n",
       "│ ---      ┆ ---      ┆ ---      ┆ ---         │\n",
       "│ str      ┆ str      ┆ str      ┆ u32         │\n",
       "╞══════════╪══════════╪══════════╪═════════════╡\n",
       "│ ESE      ┆ DE       ┆ 03       ┆ 672         │\n",
       "│ ESE      ┆ DE       ┆ 04       ┆ 55          │\n",
       "│ ESE      ┆ DE       ┆ 02       ┆ 6           │\n",
       "│ ESE      ┆ DE       ┆ 01       ┆ 4           │\n",
       "└──────────┴──────────┴──────────┴─────────────┘"
      ]
     },
     "execution_count": 85,
     "metadata": {},
     "output_type": "execute_result"
    }
   ],
   "source": [
    "res_nivel_3(\"ESE\",\"DE\",\"Niv_Gr_3\")"
   ]
  },
  {
   "cell_type": "markdown",
   "id": "20ba9d72",
   "metadata": {},
   "source": [
    "##### 01 - Deudor\n",
    "\n",
    "Para ver todas las variables:\n"
   ]
  },
  {
   "cell_type": "code",
   "execution_count": 86,
   "id": "4fe36d9e",
   "metadata": {},
   "outputs": [
    {
     "name": "stderr",
     "output_type": "stream",
     "text": [
      "<string>:29: FutureWarning:\n",
      "\n",
      "Passing literal json to 'read_json' is deprecated and will be removed in a future version. To read from a literal string, wrap it in a 'StringIO' object.\n",
      "\n"
     ]
    },
    {
     "data": {
      "text/html": [
       "<div><style>\n",
       ".dataframe > thead > tr,\n",
       ".dataframe > tbody > tr {\n",
       "  text-align: right;\n",
       "  white-space: pre-wrap;\n",
       "}\n",
       "</style>\n",
       "<small>shape: (4, 8)</small><table border=\"1\" class=\"dataframe\"><thead><tr><th>Niv_Gr_1</th><th>Niv_Gr_2</th><th>Niv_Gr_3</th><th>Id</th><th>Nombre</th><th>Niv_Descr_1</th><th>Niv_Descr_2</th><th>N_Variables</th></tr><tr><td>str</td><td>str</td><td>str</td><td>i64</td><td>str</td><td>str</td><td>str</td><td>u32</td></tr></thead><tbody><tr><td>&quot;ESE&quot;</td><td>&quot;DE&quot;</td><td>&quot;01&quot;</td><td>6710</td><td>&quot;ESE-DE-01-1&quot;</td><td>&quot;Deudor&quot;</td><td>&quot;Autoridad Mone…</td><td>1</td></tr><tr><td>&quot;ESE&quot;</td><td>&quot;DE&quot;</td><td>&quot;01&quot;</td><td>6711</td><td>&quot;ESE-DE-01-2&quot;</td><td>&quot;Deudor&quot;</td><td>&quot;Empresas Públi…</td><td>1</td></tr><tr><td>&quot;ESE&quot;</td><td>&quot;DE&quot;</td><td>&quot;01&quot;</td><td>6712</td><td>&quot;ESE-DE-01-3&quot;</td><td>&quot;Deudor&quot;</td><td>&quot;Gobierno Gener…</td><td>1</td></tr><tr><td>&quot;ESE&quot;</td><td>&quot;DE&quot;</td><td>&quot;01&quot;</td><td>6713</td><td>&quot;ESE-DE-01-4&quot;</td><td>&quot;Deudor&quot;</td><td>&quot;Instituciones …</td><td>1</td></tr></tbody></table></div>"
      ],
      "text/plain": [
       "shape: (4, 8)\n",
       "┌──────────┬──────────┬──────────┬──────┬─────────────┬─────────────┬────────────────┬─────────────┐\n",
       "│ Niv_Gr_1 ┆ Niv_Gr_2 ┆ Niv_Gr_3 ┆ Id   ┆ Nombre      ┆ Niv_Descr_1 ┆ Niv_Descr_2    ┆ N_Variables │\n",
       "│ ---      ┆ ---      ┆ ---      ┆ ---  ┆ ---         ┆ ---         ┆ ---            ┆ ---         │\n",
       "│ str      ┆ str      ┆ str      ┆ i64  ┆ str         ┆ str         ┆ str            ┆ u32         │\n",
       "╞══════════╪══════════╪══════════╪══════╪═════════════╪═════════════╪════════════════╪═════════════╡\n",
       "│ ESE      ┆ DE       ┆ 01       ┆ 6710 ┆ ESE-DE-01-1 ┆ Deudor      ┆ Autoridad      ┆ 1           │\n",
       "│          ┆          ┆          ┆      ┆             ┆             ┆ Monetaria      ┆             │\n",
       "│ ESE      ┆ DE       ┆ 01       ┆ 6711 ┆ ESE-DE-01-2 ┆ Deudor      ┆ Empresas       ┆ 1           │\n",
       "│          ┆          ┆          ┆      ┆             ┆             ┆ Públicas no    ┆             │\n",
       "│          ┆          ┆          ┆      ┆             ┆             ┆ Financieras    ┆             │\n",
       "│ ESE      ┆ DE       ┆ 01       ┆ 6712 ┆ ESE-DE-01-3 ┆ Deudor      ┆ Gobierno       ┆ 1           │\n",
       "│          ┆          ┆          ┆      ┆             ┆             ┆ General        ┆             │\n",
       "│ ESE      ┆ DE       ┆ 01       ┆ 6713 ┆ ESE-DE-01-4 ┆ Deudor      ┆ Instituciones  ┆ 1           │\n",
       "│          ┆          ┆          ┆      ┆             ┆             ┆ Públicas       ┆             │\n",
       "│          ┆          ┆          ┆      ┆             ┆             ┆ Financier…     ┆             │\n",
       "└──────────┴──────────┴──────────┴──────┴─────────────┴─────────────┴────────────────┴─────────────┘"
      ]
     },
     "execution_count": 86,
     "metadata": {},
     "output_type": "execute_result"
    }
   ],
   "source": [
    "res_nivel_7(\n",
    "    \"ESE\",\"DE\",\n",
    "    \"Niv_Gr_3\",\"01\",\n",
    "    \"Id\",\"Nombre\",\"Niv_Descr_1\",\"Niv_Descr_2\").sort(\"Nombre\")"
   ]
  },
  {
   "cell_type": "markdown",
   "id": "37f238fb",
   "metadata": {},
   "source": [
    "Resultados de una sola variable:\n"
   ]
  },
  {
   "cell_type": "code",
   "execution_count": 87,
   "id": "7f589c3d",
   "metadata": {},
   "outputs": [
    {
     "name": "stderr",
     "output_type": "stream",
     "text": [
      "<string>:29: FutureWarning:\n",
      "\n",
      "Passing literal json to 'read_json' is deprecated and will be removed in a future version. To read from a literal string, wrap it in a 'StringIO' object.\n",
      "\n"
     ]
    },
    {
     "name": "stderr",
     "output_type": "stream",
     "text": [
      "<string>:29: FutureWarning:\n",
      "\n",
      "Passing literal json to 'read_json' is deprecated and will be removed in a future version. To read from a literal string, wrap it in a 'StringIO' object.\n",
      "\n"
     ]
    },
    {
     "data": {
      "text/html": [
       "<div><style>\n",
       ".dataframe > thead > tr,\n",
       ".dataframe > tbody > tr {\n",
       "  text-align: right;\n",
       "  white-space: pre-wrap;\n",
       "}\n",
       "</style>\n",
       "<small>shape: (197, 2)</small><table border=\"1\" class=\"dataframe\"><thead><tr><th>Fecha</th><th>Deudor-Autoridad Monetaria </th></tr><tr><td>date</td><td>f64</td></tr></thead><tbody><tr><td>2008-01-31</td><td>172.8</td></tr><tr><td>2008-02-29</td><td>173.2</td></tr><tr><td>2008-03-31</td><td>173.8</td></tr><tr><td>2008-04-30</td><td>173.4</td></tr><tr><td>2008-05-31</td><td>171.9</td></tr><tr><td>&hellip;</td><td>&hellip;</td></tr><tr><td>2023-12-30</td><td>648.4</td></tr><tr><td>2023-12-31</td><td>648.7</td></tr><tr><td>2024-01-31</td><td>643.3</td></tr><tr><td>2024-02-29</td><td>692.2</td></tr><tr><td>2024-03-31</td><td>702.0</td></tr></tbody></table></div>"
      ],
      "text/plain": [
       "shape: (197, 2)\n",
       "┌────────────┬─────────────────────────────┐\n",
       "│ Fecha      ┆ Deudor-Autoridad Monetaria  │\n",
       "│ ---        ┆ ---                         │\n",
       "│ date       ┆ f64                         │\n",
       "╞════════════╪═════════════════════════════╡\n",
       "│ 2008-01-31 ┆ 172.8                       │\n",
       "│ 2008-02-29 ┆ 173.2                       │\n",
       "│ 2008-03-31 ┆ 173.8                       │\n",
       "│ 2008-04-30 ┆ 173.4                       │\n",
       "│ 2008-05-31 ┆ 171.9                       │\n",
       "│ …          ┆ …                           │\n",
       "│ 2023-12-30 ┆ 648.4                       │\n",
       "│ 2023-12-31 ┆ 648.7                       │\n",
       "│ 2024-01-31 ┆ 643.3                       │\n",
       "│ 2024-02-29 ┆ 692.2                       │\n",
       "│ 2024-03-31 ┆ 702.0                       │\n",
       "└────────────┴─────────────────────────────┘"
      ]
     },
     "execution_count": 87,
     "metadata": {},
     "output_type": "execute_result"
    }
   ],
   "source": [
    "Id = 6710\n",
    "df = get_df(Id)\n",
    "# get_plot(Id)\n",
    "df"
   ]
  },
  {
   "cell_type": "markdown",
   "id": "07a61edf",
   "metadata": {},
   "source": [
    "##### 02 - Acreedor\n",
    "\n",
    "Para ver todas las variables:\n"
   ]
  },
  {
   "cell_type": "code",
   "execution_count": 88,
   "id": "de5dfc07",
   "metadata": {},
   "outputs": [
    {
     "name": "stderr",
     "output_type": "stream",
     "text": [
      "<string>:29: FutureWarning:\n",
      "\n",
      "Passing literal json to 'read_json' is deprecated and will be removed in a future version. To read from a literal string, wrap it in a 'StringIO' object.\n",
      "\n"
     ]
    },
    {
     "data": {
      "text/html": [
       "<div><style>\n",
       ".dataframe > thead > tr,\n",
       ".dataframe > tbody > tr {\n",
       "  text-align: right;\n",
       "  white-space: pre-wrap;\n",
       "}\n",
       "</style>\n",
       "<small>shape: (6, 8)</small><table border=\"1\" class=\"dataframe\"><thead><tr><th>Niv_Gr_1</th><th>Niv_Gr_2</th><th>Niv_Gr_3</th><th>Id</th><th>Nombre</th><th>Niv_Descr_1</th><th>Niv_Descr_2</th><th>N_Variables</th></tr><tr><td>str</td><td>str</td><td>str</td><td>i64</td><td>str</td><td>str</td><td>str</td><td>u32</td></tr></thead><tbody><tr><td>&quot;ESE&quot;</td><td>&quot;DE&quot;</td><td>&quot;02&quot;</td><td>6714</td><td>&quot;ESE-DE-02-1&quot;</td><td>&quot;Acreedor&quot;</td><td>&quot;Sector Privado…</td><td>1</td></tr><tr><td>&quot;ESE&quot;</td><td>&quot;DE&quot;</td><td>&quot;02&quot;</td><td>6715</td><td>&quot;ESE-DE-02-2&quot;</td><td>&quot;Acreedor&quot;</td><td>&quot;Sector Público…</td><td>1</td></tr><tr><td>&quot;ESE&quot;</td><td>&quot;DE&quot;</td><td>&quot;02&quot;</td><td>6716</td><td>&quot;ESE-DE-02-3&quot;</td><td>&quot;Acreedor&quot;</td><td>&quot;Sector Público…</td><td>1</td></tr><tr><td>&quot;ESE&quot;</td><td>&quot;DE&quot;</td><td>&quot;02&quot;</td><td>6717</td><td>&quot;ESE-DE-02-4&quot;</td><td>&quot;Acreedor&quot;</td><td>&quot;Sector Privado…</td><td>1</td></tr><tr><td>&quot;ESE&quot;</td><td>&quot;DE&quot;</td><td>&quot;02&quot;</td><td>6718</td><td>&quot;ESE-DE-02-5&quot;</td><td>&quot;Acreedor&quot;</td><td>&quot;Sector Público…</td><td>1</td></tr><tr><td>&quot;ESE&quot;</td><td>&quot;DE&quot;</td><td>&quot;02&quot;</td><td>6719</td><td>&quot;ESE-DE-02-6&quot;</td><td>&quot;Acreedor&quot;</td><td>&quot;Sector Privado…</td><td>1</td></tr></tbody></table></div>"
      ],
      "text/plain": [
       "shape: (6, 8)\n",
       "┌──────────┬──────────┬──────────┬──────┬─────────────┬─────────────┬────────────────┬─────────────┐\n",
       "│ Niv_Gr_1 ┆ Niv_Gr_2 ┆ Niv_Gr_3 ┆ Id   ┆ Nombre      ┆ Niv_Descr_1 ┆ Niv_Descr_2    ┆ N_Variables │\n",
       "│ ---      ┆ ---      ┆ ---      ┆ ---  ┆ ---         ┆ ---         ┆ ---            ┆ ---         │\n",
       "│ str      ┆ str      ┆ str      ┆ i64  ┆ str         ┆ str         ┆ str            ┆ u32         │\n",
       "╞══════════╪══════════╪══════════╪══════╪═════════════╪═════════════╪════════════════╪═════════════╡\n",
       "│ ESE      ┆ DE       ┆ 02       ┆ 6714 ┆ ESE-DE-02-1 ┆ Acreedor    ┆ Sector Privado ┆ 1           │\n",
       "│          ┆          ┆          ┆      ┆             ┆             ┆ Bilateral      ┆             │\n",
       "│ ESE      ┆ DE       ┆ 02       ┆ 6715 ┆ ESE-DE-02-2 ┆ Acreedor    ┆ Sector Público ┆ 1           │\n",
       "│          ┆          ┆          ┆      ┆             ┆             ┆ Bilateral      ┆             │\n",
       "│ ESE      ┆ DE       ┆ 02       ┆ 6716 ┆ ESE-DE-02-3 ┆ Acreedor    ┆ Sector Público ┆ 1           │\n",
       "│          ┆          ┆          ┆      ┆             ┆             ┆ Comercial      ┆             │\n",
       "│ ESE      ┆ DE       ┆ 02       ┆ 6717 ┆ ESE-DE-02-4 ┆ Acreedor    ┆ Sector Privado ┆ 1           │\n",
       "│          ┆          ┆          ┆      ┆             ┆             ┆ Comercial      ┆             │\n",
       "│ ESE      ┆ DE       ┆ 02       ┆ 6718 ┆ ESE-DE-02-5 ┆ Acreedor    ┆ Sector Público ┆ 1           │\n",
       "│          ┆          ┆          ┆      ┆             ┆             ┆ Multilateral   ┆             │\n",
       "│ ESE      ┆ DE       ┆ 02       ┆ 6719 ┆ ESE-DE-02-6 ┆ Acreedor    ┆ Sector Privado ┆ 1           │\n",
       "│          ┆          ┆          ┆      ┆             ┆             ┆ Multilateral   ┆             │\n",
       "└──────────┴──────────┴──────────┴──────┴─────────────┴─────────────┴────────────────┴─────────────┘"
      ]
     },
     "execution_count": 88,
     "metadata": {},
     "output_type": "execute_result"
    }
   ],
   "source": [
    "res_nivel_7(\n",
    "    \"ESE\",\"DE\",\n",
    "    \"Niv_Gr_3\",\"02\",\n",
    "    \"Id\",\"Nombre\",\"Niv_Descr_1\",\"Niv_Descr_2\").sort(\"Nombre\")"
   ]
  },
  {
   "cell_type": "markdown",
   "id": "080d578b",
   "metadata": {},
   "source": [
    "Resultados de una sola variable:\n"
   ]
  },
  {
   "cell_type": "code",
   "execution_count": 89,
   "id": "50232826",
   "metadata": {},
   "outputs": [
    {
     "name": "stderr",
     "output_type": "stream",
     "text": [
      "<string>:29: FutureWarning:\n",
      "\n",
      "Passing literal json to 'read_json' is deprecated and will be removed in a future version. To read from a literal string, wrap it in a 'StringIO' object.\n",
      "\n"
     ]
    },
    {
     "name": "stderr",
     "output_type": "stream",
     "text": [
      "<string>:29: FutureWarning:\n",
      "\n",
      "Passing literal json to 'read_json' is deprecated and will be removed in a future version. To read from a literal string, wrap it in a 'StringIO' object.\n",
      "\n"
     ]
    },
    {
     "data": {
      "text/html": [
       "<div><style>\n",
       ".dataframe > thead > tr,\n",
       ".dataframe > tbody > tr {\n",
       "  text-align: right;\n",
       "  white-space: pre-wrap;\n",
       "}\n",
       "</style>\n",
       "<small>shape: (65, 2)</small><table border=\"1\" class=\"dataframe\"><thead><tr><th>Fecha</th><th>Acreedor-Sector Privado Bilateral</th></tr><tr><td>date</td><td>f64</td></tr></thead><tbody><tr><td>2008-03-31</td><td>30.7</td></tr><tr><td>2008-06-30</td><td>28.8</td></tr><tr><td>2008-09-30</td><td>23.1</td></tr><tr><td>2008-12-31</td><td>30.7</td></tr><tr><td>2009-03-31</td><td>34.3</td></tr><tr><td>&hellip;</td><td>&hellip;</td></tr><tr><td>2023-03-31</td><td>162.6</td></tr><tr><td>2023-06-30</td><td>144.7</td></tr><tr><td>2023-09-30</td><td>153.4</td></tr><tr><td>2023-12-30</td><td>172.5</td></tr><tr><td>2023-12-31</td><td>145.3</td></tr></tbody></table></div>"
      ],
      "text/plain": [
       "shape: (65, 2)\n",
       "┌────────────┬───────────────────────────────────┐\n",
       "│ Fecha      ┆ Acreedor-Sector Privado Bilatera… │\n",
       "│ ---        ┆ ---                               │\n",
       "│ date       ┆ f64                               │\n",
       "╞════════════╪═══════════════════════════════════╡\n",
       "│ 2008-03-31 ┆ 30.7                              │\n",
       "│ 2008-06-30 ┆ 28.8                              │\n",
       "│ 2008-09-30 ┆ 23.1                              │\n",
       "│ 2008-12-31 ┆ 30.7                              │\n",
       "│ 2009-03-31 ┆ 34.3                              │\n",
       "│ …          ┆ …                                 │\n",
       "│ 2023-03-31 ┆ 162.6                             │\n",
       "│ 2023-06-30 ┆ 144.7                             │\n",
       "│ 2023-09-30 ┆ 153.4                             │\n",
       "│ 2023-12-30 ┆ 172.5                             │\n",
       "│ 2023-12-31 ┆ 145.3                             │\n",
       "└────────────┴───────────────────────────────────┘"
      ]
     },
     "execution_count": 89,
     "metadata": {},
     "output_type": "execute_result"
    }
   ],
   "source": [
    "Id = 6714\n",
    "df = get_df(Id)\n",
    "# get_plot(Id)\n",
    "df"
   ]
  },
  {
   "cell_type": "markdown",
   "id": "92c302cc",
   "metadata": {},
   "source": [
    "##### 03 - Por Institución\n",
    "\n",
    "* Banco Central\n",
    "* Gobierno general\n",
    "* Otras sociedades financieras\n",
    "* Otros Sectores\n",
    "* Saldo bruto de la deuda externa\n",
    "* Sociedades no financieras\n"
   ]
  },
  {
   "cell_type": "code",
   "execution_count": 90,
   "id": "f6114447",
   "metadata": {},
   "outputs": [
    {
     "name": "stderr",
     "output_type": "stream",
     "text": [
      "<string>:29: FutureWarning:\n",
      "\n",
      "Passing literal json to 'read_json' is deprecated and will be removed in a future version. To read from a literal string, wrap it in a 'StringIO' object.\n",
      "\n"
     ]
    },
    {
     "data": {
      "text/html": [
       "<div><style>\n",
       ".dataframe > thead > tr,\n",
       ".dataframe > tbody > tr {\n",
       "  text-align: right;\n",
       "  white-space: pre-wrap;\n",
       "}\n",
       "</style>\n",
       "<small>shape: (6, 5)</small><table border=\"1\" class=\"dataframe\"><thead><tr><th>Niv_Gr_1</th><th>Niv_Gr_2</th><th>Niv_Gr_3</th><th>Niv_Descr_1</th><th>N_Variables</th></tr><tr><td>str</td><td>str</td><td>str</td><td>str</td><td>u32</td></tr></thead><tbody><tr><td>&quot;ESE&quot;</td><td>&quot;DE&quot;</td><td>&quot;03&quot;</td><td>&quot;Gobierno gener…</td><td>144</td></tr><tr><td>&quot;ESE&quot;</td><td>&quot;DE&quot;</td><td>&quot;03&quot;</td><td>&quot;Banco Central&quot;</td><td>144</td></tr><tr><td>&quot;ESE&quot;</td><td>&quot;DE&quot;</td><td>&quot;03&quot;</td><td>&quot;Otros Sectores…</td><td>120</td></tr><tr><td>&quot;ESE&quot;</td><td>&quot;DE&quot;</td><td>&quot;03&quot;</td><td>&quot;Otras sociedad…</td><td>120</td></tr><tr><td>&quot;ESE&quot;</td><td>&quot;DE&quot;</td><td>&quot;03&quot;</td><td>&quot;Sociedades no …</td><td>120</td></tr><tr><td>&quot;ESE&quot;</td><td>&quot;DE&quot;</td><td>&quot;03&quot;</td><td>&quot;Saldo bruto de…</td><td>24</td></tr></tbody></table></div>"
      ],
      "text/plain": [
       "shape: (6, 5)\n",
       "┌──────────┬──────────┬──────────┬─────────────────────────────────┬─────────────┐\n",
       "│ Niv_Gr_1 ┆ Niv_Gr_2 ┆ Niv_Gr_3 ┆ Niv_Descr_1                     ┆ N_Variables │\n",
       "│ ---      ┆ ---      ┆ ---      ┆ ---                             ┆ ---         │\n",
       "│ str      ┆ str      ┆ str      ┆ str                             ┆ u32         │\n",
       "╞══════════╪══════════╪══════════╪═════════════════════════════════╪═════════════╡\n",
       "│ ESE      ┆ DE       ┆ 03       ┆ Gobierno general                ┆ 144         │\n",
       "│ ESE      ┆ DE       ┆ 03       ┆ Banco Central                   ┆ 144         │\n",
       "│ ESE      ┆ DE       ┆ 03       ┆ Otros Sectores                  ┆ 120         │\n",
       "│ ESE      ┆ DE       ┆ 03       ┆ Otras sociedades financieras    ┆ 120         │\n",
       "│ ESE      ┆ DE       ┆ 03       ┆ Sociedades no financieras       ┆ 120         │\n",
       "│ ESE      ┆ DE       ┆ 03       ┆ Saldo bruto de la deuda externa ┆ 24          │\n",
       "└──────────┴──────────┴──────────┴─────────────────────────────────┴─────────────┘"
      ]
     },
     "execution_count": 90,
     "metadata": {},
     "output_type": "execute_result"
    }
   ],
   "source": [
    "res_nivel_4(\n",
    "    \"ESE\",\"DE\",\n",
    "    \"Niv_Gr_3\",\n",
    "    \"03\",\n",
    "    \"Niv_Descr_1\")"
   ]
  },
  {
   "cell_type": "markdown",
   "id": "366194c1",
   "metadata": {},
   "source": [
    "* Asignación de Derechos especiales de giro\n",
    "* Asignación de Derechos especiales de giro \n",
    "* Créditos y anticipos comerciales\n",
    "* Créditos y anticipos comerciales \n",
    "* Moneda y depósitos\n",
    "* Moneda y depósitos \n",
    "* Otros pasivos de deuda\n",
    "* Otros pasivos de deuda \n",
    "* Préstamos\n",
    "* Préstamos \n",
    "* Tí­tulos de deuda\n",
    "* Tí­tulos de deuda \n",
    "* Saldo bruto de la deuda externa\n",
    "* Saldo bruto de la deuda externa \n"
   ]
  },
  {
   "cell_type": "code",
   "execution_count": 91,
   "id": "6206c5cc",
   "metadata": {},
   "outputs": [
    {
     "name": "stderr",
     "output_type": "stream",
     "text": [
      "<string>:29: FutureWarning:\n",
      "\n",
      "Passing literal json to 'read_json' is deprecated and will be removed in a future version. To read from a literal string, wrap it in a 'StringIO' object.\n",
      "\n"
     ]
    },
    {
     "data": {
      "text/html": [
       "<div><style>\n",
       ".dataframe > thead > tr,\n",
       ".dataframe > tbody > tr {\n",
       "  text-align: right;\n",
       "  white-space: pre-wrap;\n",
       "}\n",
       "</style>\n",
       "<small>shape: (14, 5)</small><table border=\"1\" class=\"dataframe\"><thead><tr><th>Niv_Gr_1</th><th>Niv_Gr_2</th><th>Niv_Gr_3</th><th>Niv_Descr_2</th><th>N_Variables</th></tr><tr><td>str</td><td>str</td><td>str</td><td>str</td><td>u32</td></tr></thead><tbody><tr><td>&quot;ESE&quot;</td><td>&quot;DE&quot;</td><td>&quot;03&quot;</td><td>&quot;Créditos y ant…</td><td>80</td></tr><tr><td>&quot;ESE&quot;</td><td>&quot;DE&quot;</td><td>&quot;03&quot;</td><td>&quot;Préstamos &quot;</td><td>80</td></tr><tr><td>&quot;ESE&quot;</td><td>&quot;DE&quot;</td><td>&quot;03&quot;</td><td>&quot;Otros pasivos …</td><td>80</td></tr><tr><td>&quot;ESE&quot;</td><td>&quot;DE&quot;</td><td>&quot;03&quot;</td><td>&quot;Moneda y depós…</td><td>80</td></tr><tr><td>&quot;ESE&quot;</td><td>&quot;DE&quot;</td><td>&quot;03&quot;</td><td>&quot;Títulos de deu…</td><td>80</td></tr><tr><td>&hellip;</td><td>&hellip;</td><td>&hellip;</td><td>&hellip;</td><td>&hellip;</td></tr><tr><td>&quot;ESE&quot;</td><td>&quot;DE&quot;</td><td>&quot;03&quot;</td><td>&quot;Moneda y depós…</td><td>40</td></tr><tr><td>&quot;ESE&quot;</td><td>&quot;DE&quot;</td><td>&quot;03&quot;</td><td>&quot;Asignación de …</td><td>32</td></tr><tr><td>&quot;ESE&quot;</td><td>&quot;DE&quot;</td><td>&quot;03&quot;</td><td>&quot;Saldo bruto de…</td><td>16</td></tr><tr><td>&quot;ESE&quot;</td><td>&quot;DE&quot;</td><td>&quot;03&quot;</td><td>&quot;Asignación de …</td><td>16</td></tr><tr><td>&quot;ESE&quot;</td><td>&quot;DE&quot;</td><td>&quot;03&quot;</td><td>&quot;Saldo bruto de…</td><td>8</td></tr></tbody></table></div>"
      ],
      "text/plain": [
       "shape: (14, 5)\n",
       "┌──────────┬──────────┬──────────┬───────────────────────────────────┬─────────────┐\n",
       "│ Niv_Gr_1 ┆ Niv_Gr_2 ┆ Niv_Gr_3 ┆ Niv_Descr_2                       ┆ N_Variables │\n",
       "│ ---      ┆ ---      ┆ ---      ┆ ---                               ┆ ---         │\n",
       "│ str      ┆ str      ┆ str      ┆ str                               ┆ u32         │\n",
       "╞══════════╪══════════╪══════════╪═══════════════════════════════════╪═════════════╡\n",
       "│ ESE      ┆ DE       ┆ 03       ┆ Créditos y anticipos comerciales… ┆ 80          │\n",
       "│ ESE      ┆ DE       ┆ 03       ┆ Préstamos                         ┆ 80          │\n",
       "│ ESE      ┆ DE       ┆ 03       ┆ Otros pasivos de deuda            ┆ 80          │\n",
       "│ ESE      ┆ DE       ┆ 03       ┆ Moneda y depósitos                ┆ 80          │\n",
       "│ ESE      ┆ DE       ┆ 03       ┆ Títulos de deuda                  ┆ 80          │\n",
       "│ …        ┆ …        ┆ …        ┆ …                                 ┆ …           │\n",
       "│ ESE      ┆ DE       ┆ 03       ┆ Moneda y depósitos                ┆ 40          │\n",
       "│ ESE      ┆ DE       ┆ 03       ┆ Asignación de Derechos especiale… ┆ 32          │\n",
       "│ ESE      ┆ DE       ┆ 03       ┆ Saldo bruto de la deuda externa   ┆ 16          │\n",
       "│ ESE      ┆ DE       ┆ 03       ┆ Asignación de Derechos especiale… ┆ 16          │\n",
       "│ ESE      ┆ DE       ┆ 03       ┆ Saldo bruto de la deuda externa   ┆ 8           │\n",
       "└──────────┴──────────┴──────────┴───────────────────────────────────┴─────────────┘"
      ]
     },
     "execution_count": 91,
     "metadata": {},
     "output_type": "execute_result"
    }
   ],
   "source": [
    "res_nivel_4(\n",
    "    \"ESE\",\"DE\",\n",
    "    \"Niv_Gr_3\",\n",
    "    \"03\",\n",
    "    \"Niv_Descr_2\")"
   ]
  },
  {
   "cell_type": "code",
   "execution_count": 92,
   "id": "9fb9349a",
   "metadata": {},
   "outputs": [
    {
     "name": "stderr",
     "output_type": "stream",
     "text": [
      "<string>:29: FutureWarning:\n",
      "\n",
      "Passing literal json to 'read_json' is deprecated and will be removed in a future version. To read from a literal string, wrap it in a 'StringIO' object.\n",
      "\n"
     ]
    },
    {
     "data": {
      "text/html": [
       "<div><style>\n",
       ".dataframe > thead > tr,\n",
       ".dataframe > tbody > tr {\n",
       "  text-align: right;\n",
       "  white-space: pre-wrap;\n",
       "}\n",
       "</style>\n",
       "<small>shape: (672, 8)</small><table border=\"1\" class=\"dataframe\"><thead><tr><th>Niv_Gr_1</th><th>Niv_Gr_2</th><th>Niv_Gr_3</th><th>Id</th><th>Niv_Descr_1</th><th>Niv_Descr_2</th><th>Niv_Descr_3</th><th>N_Variables</th></tr><tr><td>str</td><td>str</td><td>str</td><td>i64</td><td>str</td><td>str</td><td>str</td><td>u32</td></tr></thead><tbody><tr><td>&quot;ESE&quot;</td><td>&quot;DE&quot;</td><td>&quot;03&quot;</td><td>6722</td><td>&quot;Banco Central&quot;</td><td>&quot;Asignación de …</td><td>&quot;18&quot;</td><td>1</td></tr><tr><td>&quot;ESE&quot;</td><td>&quot;DE&quot;</td><td>&quot;03&quot;</td><td>6764</td><td>&quot;Banco Central&quot;</td><td>&quot;Créditos y ant…</td><td>&quot; Principal&quot;</td><td>1</td></tr><tr><td>&quot;ESE&quot;</td><td>&quot;DE&quot;</td><td>&quot;03&quot;</td><td>6785</td><td>&quot;Banco Central&quot;</td><td>&quot;Moneda y depós…</td><td>&quot; Principal&quot;</td><td>1</td></tr><tr><td>&quot;ESE&quot;</td><td>&quot;DE&quot;</td><td>&quot;03&quot;</td><td>6790</td><td>&quot;Banco Central&quot;</td><td>&quot;Moneda y depós…</td><td>&quot; Principal&quot;</td><td>1</td></tr><tr><td>&quot;ESE&quot;</td><td>&quot;DE&quot;</td><td>&quot;03&quot;</td><td>6798</td><td>&quot;Banco Central&quot;</td><td>&quot;Otros pasivos …</td><td>&quot;9&quot;</td><td>1</td></tr><tr><td>&hellip;</td><td>&hellip;</td><td>&hellip;</td><td>&hellip;</td><td>&hellip;</td><td>&hellip;</td><td>&hellip;</td><td>&hellip;</td></tr><tr><td>&quot;ESE&quot;</td><td>&quot;DE&quot;</td><td>&quot;03&quot;</td><td>7342</td><td>&quot;Sociedades no …</td><td>&quot;Otros pasivos …</td><td>&quot; Principal&quot;</td><td>1</td></tr><tr><td>&quot;ESE&quot;</td><td>&quot;DE&quot;</td><td>&quot;03&quot;</td><td>7343</td><td>&quot;Sociedades no …</td><td>&quot;Otros pasivos …</td><td>&quot; Principal&quot;</td><td>1</td></tr><tr><td>&quot;ESE&quot;</td><td>&quot;DE&quot;</td><td>&quot;03&quot;</td><td>7355</td><td>&quot;Sociedades no …</td><td>&quot;Préstamos &quot;</td><td>&quot; Intereses&quot;</td><td>1</td></tr><tr><td>&quot;ESE&quot;</td><td>&quot;DE&quot;</td><td>&quot;03&quot;</td><td>7382</td><td>&quot;Sociedades no …</td><td>&quot;Títulos de deu…</td><td>&quot; Intereses&quot;</td><td>1</td></tr><tr><td>&quot;ESE&quot;</td><td>&quot;DE&quot;</td><td>&quot;03&quot;</td><td>7387</td><td>&quot;Sociedades no …</td><td>&quot;Títulos de deu…</td><td>&quot; Principal&quot;</td><td>1</td></tr></tbody></table></div>"
      ],
      "text/plain": [
       "shape: (672, 8)\n",
       "┌──────────┬──────────┬──────────┬──────┬───────────────┬──────────────┬─────────────┬─────────────┐\n",
       "│ Niv_Gr_1 ┆ Niv_Gr_2 ┆ Niv_Gr_3 ┆ Id   ┆ Niv_Descr_1   ┆ Niv_Descr_2  ┆ Niv_Descr_3 ┆ N_Variables │\n",
       "│ ---      ┆ ---      ┆ ---      ┆ ---  ┆ ---           ┆ ---          ┆ ---         ┆ ---         │\n",
       "│ str      ┆ str      ┆ str      ┆ i64  ┆ str           ┆ str          ┆ str         ┆ u32         │\n",
       "╞══════════╪══════════╪══════════╪══════╪═══════════════╪══════════════╪═════════════╪═════════════╡\n",
       "│ ESE      ┆ DE       ┆ 03       ┆ 6722 ┆ Banco Central ┆ Asignación   ┆ 18          ┆ 1           │\n",
       "│          ┆          ┆          ┆      ┆               ┆ de Derechos  ┆             ┆             │\n",
       "│          ┆          ┆          ┆      ┆               ┆ especiale…   ┆             ┆             │\n",
       "│ ESE      ┆ DE       ┆ 03       ┆ 6764 ┆ Banco Central ┆ Créditos y   ┆  Principal  ┆ 1           │\n",
       "│          ┆          ┆          ┆      ┆               ┆ anticipos    ┆             ┆             │\n",
       "│          ┆          ┆          ┆      ┆               ┆ comerciales… ┆             ┆             │\n",
       "│ ESE      ┆ DE       ┆ 03       ┆ 6785 ┆ Banco Central ┆ Moneda y     ┆  Principal  ┆ 1           │\n",
       "│          ┆          ┆          ┆      ┆               ┆ depósitos    ┆             ┆             │\n",
       "│ ESE      ┆ DE       ┆ 03       ┆ 6790 ┆ Banco Central ┆ Moneda y     ┆  Principal  ┆ 1           │\n",
       "│          ┆          ┆          ┆      ┆               ┆ depósitos    ┆             ┆             │\n",
       "│ ESE      ┆ DE       ┆ 03       ┆ 6798 ┆ Banco Central ┆ Otros        ┆ 9           ┆ 1           │\n",
       "│          ┆          ┆          ┆      ┆               ┆ pasivos de   ┆             ┆             │\n",
       "│          ┆          ┆          ┆      ┆               ┆ deuda        ┆             ┆             │\n",
       "│ …        ┆ …        ┆ …        ┆ …    ┆ …             ┆ …            ┆ …           ┆ …           │\n",
       "│ ESE      ┆ DE       ┆ 03       ┆ 7342 ┆ Sociedades no ┆ Otros        ┆  Principal  ┆ 1           │\n",
       "│          ┆          ┆          ┆      ┆ financieras   ┆ pasivos de   ┆             ┆             │\n",
       "│          ┆          ┆          ┆      ┆               ┆ deuda        ┆             ┆             │\n",
       "│ ESE      ┆ DE       ┆ 03       ┆ 7343 ┆ Sociedades no ┆ Otros        ┆  Principal  ┆ 1           │\n",
       "│          ┆          ┆          ┆      ┆ financieras   ┆ pasivos de   ┆             ┆             │\n",
       "│          ┆          ┆          ┆      ┆               ┆ deuda        ┆             ┆             │\n",
       "│ ESE      ┆ DE       ┆ 03       ┆ 7355 ┆ Sociedades no ┆ Préstamos    ┆  Intereses  ┆ 1           │\n",
       "│          ┆          ┆          ┆      ┆ financieras   ┆              ┆             ┆             │\n",
       "│ ESE      ┆ DE       ┆ 03       ┆ 7382 ┆ Sociedades no ┆ Títulos de   ┆  Intereses  ┆ 1           │\n",
       "│          ┆          ┆          ┆      ┆ financieras   ┆ deuda        ┆             ┆             │\n",
       "│ ESE      ┆ DE       ┆ 03       ┆ 7387 ┆ Sociedades no ┆ Títulos de   ┆  Principal  ┆ 1           │\n",
       "│          ┆          ┆          ┆      ┆ financieras   ┆ deuda        ┆             ┆             │\n",
       "└──────────┴──────────┴──────────┴──────┴───────────────┴──────────────┴─────────────┴─────────────┘"
      ]
     },
     "execution_count": 92,
     "metadata": {},
     "output_type": "execute_result"
    }
   ],
   "source": [
    "res_nivel_7(\n",
    "    \"ESE\",\"DE\",\n",
    "    \"Niv_Gr_3\",\"03\",\n",
    "    \"Id\",\"Niv_Descr_1\",\"Niv_Descr_2\",\"Niv_Descr_3\")"
   ]
  },
  {
   "cell_type": "markdown",
   "id": "f03158f2",
   "metadata": {},
   "source": [
    "Para ver todas las variables (Nota: el nivel de descripción sigue):\n"
   ]
  },
  {
   "cell_type": "code",
   "execution_count": 93,
   "id": "414a451e",
   "metadata": {},
   "outputs": [
    {
     "data": {
      "text/html": [
       "<div><style>\n",
       ".dataframe > thead > tr,\n",
       ".dataframe > tbody > tr {\n",
       "  text-align: right;\n",
       "  white-space: pre-wrap;\n",
       "}\n",
       "</style>\n",
       "<small>shape: (672, 16)</small><table border=\"1\" class=\"dataframe\"><thead><tr><th>Id</th><th>Nombre</th><th>Descripcion</th><th>Periodicidad</th><th>Grupo</th><th>CorrelativoGrupo</th><th>Niv_Descr_1</th><th>Niv_Descr_2</th><th>Niv_Descr_3</th><th>Niv_Descr_4</th><th>Niv_Descr_5</th><th>Niv_Descr</th><th>Niv_Gr_1</th><th>Niv_Gr_2</th><th>Niv_Gr_3</th><th>Niv_Gr</th></tr><tr><td>i64</td><td>str</td><td>str</td><td>str</td><td>str</td><td>str</td><td>str</td><td>str</td><td>str</td><td>str</td><td>str</td><td>i64</td><td>str</td><td>str</td><td>str</td><td>i64</td></tr></thead><tbody><tr><td>6720</td><td>&quot;ESE-DE-03-1&quot;</td><td>&quot;Banco Central-…</td><td>&quot;Trimestral&quot;</td><td>&quot;ESE-DE-03&quot;</td><td>&quot;1&quot;</td><td>&quot;Banco Central&quot;</td><td>&quot;Asignación de …</td><td>&quot;0&quot;</td><td>&quot;3 meses&quot;</td><td>null</td><td>4</td><td>&quot;ESE&quot;</td><td>&quot;DE&quot;</td><td>&quot;03&quot;</td><td>12</td></tr><tr><td>6721</td><td>&quot;ESE-DE-03-2&quot;</td><td>&quot;Banco Central-…</td><td>&quot;Trimestral&quot;</td><td>&quot;ESE-DE-03&quot;</td><td>&quot;2&quot;</td><td>&quot;Banco Central&quot;</td><td>&quot;Asignación de …</td><td>&quot;12&quot;</td><td>&quot;18 meses&quot;</td><td>null</td><td>4</td><td>&quot;ESE&quot;</td><td>&quot;DE&quot;</td><td>&quot;03&quot;</td><td>12</td></tr><tr><td>6722</td><td>&quot;ESE-DE-03-3&quot;</td><td>&quot;Banco Central-…</td><td>&quot;Trimestral&quot;</td><td>&quot;ESE-DE-03&quot;</td><td>&quot;3&quot;</td><td>&quot;Banco Central&quot;</td><td>&quot;Asignación de …</td><td>&quot;18&quot;</td><td>&quot;24 meses&quot;</td><td>null</td><td>4</td><td>&quot;ESE&quot;</td><td>&quot;DE&quot;</td><td>&quot;03&quot;</td><td>12</td></tr><tr><td>6723</td><td>&quot;ESE-DE-03-4&quot;</td><td>&quot;Banco Central-…</td><td>&quot;Trimestral&quot;</td><td>&quot;ESE-DE-03&quot;</td><td>&quot;4&quot;</td><td>&quot;Banco Central&quot;</td><td>&quot;Asignación de …</td><td>&quot;2 años en adel…</td><td>null</td><td>null</td><td>3</td><td>&quot;ESE&quot;</td><td>&quot;DE&quot;</td><td>&quot;03&quot;</td><td>11</td></tr><tr><td>6724</td><td>&quot;ESE-DE-03-5&quot;</td><td>&quot;Banco Central-…</td><td>&quot;Trimestral&quot;</td><td>&quot;ESE-DE-03&quot;</td><td>&quot;5&quot;</td><td>&quot;Banco Central&quot;</td><td>&quot;Asignación de …</td><td>&quot;3&quot;</td><td>&quot;6 meses&quot;</td><td>null</td><td>4</td><td>&quot;ESE&quot;</td><td>&quot;DE&quot;</td><td>&quot;03&quot;</td><td>12</td></tr><tr><td>&hellip;</td><td>&hellip;</td><td>&hellip;</td><td>&hellip;</td><td>&hellip;</td><td>&hellip;</td><td>&hellip;</td><td>&hellip;</td><td>&hellip;</td><td>&hellip;</td><td>&hellip;</td><td>&hellip;</td><td>&hellip;</td><td>&hellip;</td><td>&hellip;</td><td>&hellip;</td></tr><tr><td>7387</td><td>&quot;ESE-DE-03-668&quot;</td><td>&quot;Sociedades no …</td><td>&quot;Trimestral&quot;</td><td>&quot;ESE-DE-03&quot;</td><td>&quot;668&quot;</td><td>&quot;Sociedades no …</td><td>&quot;Títulos de deu…</td><td>&quot; Principal&quot;</td><td>&quot;2 años en adel…</td><td>null</td><td>4</td><td>&quot;ESE&quot;</td><td>&quot;DE&quot;</td><td>&quot;03&quot;</td><td>12</td></tr><tr><td>7388</td><td>&quot;ESE-DE-03-669&quot;</td><td>&quot;Sociedades no …</td><td>&quot;Trimestral&quot;</td><td>&quot;ESE-DE-03&quot;</td><td>&quot;669&quot;</td><td>&quot;Sociedades no …</td><td>&quot;Títulos de deu…</td><td>&quot; Principal&quot;</td><td>&quot;3&quot;</td><td>&quot;6 meses&quot;</td><td>5</td><td>&quot;ESE&quot;</td><td>&quot;DE&quot;</td><td>&quot;03&quot;</td><td>13</td></tr><tr><td>7389</td><td>&quot;ESE-DE-03-670&quot;</td><td>&quot;Sociedades no …</td><td>&quot;Trimestral&quot;</td><td>&quot;ESE-DE-03&quot;</td><td>&quot;670&quot;</td><td>&quot;Sociedades no …</td><td>&quot;Títulos de deu…</td><td>&quot; Principal&quot;</td><td>&quot;6&quot;</td><td>&quot;9 meses&quot;</td><td>5</td><td>&quot;ESE&quot;</td><td>&quot;DE&quot;</td><td>&quot;03&quot;</td><td>13</td></tr><tr><td>7390</td><td>&quot;ESE-DE-03-671&quot;</td><td>&quot;Sociedades no …</td><td>&quot;Trimestral&quot;</td><td>&quot;ESE-DE-03&quot;</td><td>&quot;671&quot;</td><td>&quot;Sociedades no …</td><td>&quot;Títulos de deu…</td><td>&quot; Principal&quot;</td><td>&quot;9&quot;</td><td>&quot;12 meses&quot;</td><td>5</td><td>&quot;ESE&quot;</td><td>&quot;DE&quot;</td><td>&quot;03&quot;</td><td>13</td></tr><tr><td>7391</td><td>&quot;ESE-DE-03-672&quot;</td><td>&quot;Sociedades no …</td><td>&quot;Trimestral&quot;</td><td>&quot;ESE-DE-03&quot;</td><td>&quot;672&quot;</td><td>&quot;Sociedades no …</td><td>&quot;Títulos de deu…</td><td>&quot; Principal&quot;</td><td>&quot;De pago inmedi…</td><td>null</td><td>4</td><td>&quot;ESE&quot;</td><td>&quot;DE&quot;</td><td>&quot;03&quot;</td><td>12</td></tr></tbody></table></div>"
      ],
      "text/plain": [
       "shape: (672, 16)\n",
       "┌──────┬───────────────┬──────────────┬──────────────┬───┬──────────┬──────────┬──────────┬────────┐\n",
       "│ Id   ┆ Nombre        ┆ Descripcion  ┆ Periodicidad ┆ … ┆ Niv_Gr_1 ┆ Niv_Gr_2 ┆ Niv_Gr_3 ┆ Niv_Gr │\n",
       "│ ---  ┆ ---           ┆ ---          ┆ ---          ┆   ┆ ---      ┆ ---      ┆ ---      ┆ ---    │\n",
       "│ i64  ┆ str           ┆ str          ┆ str          ┆   ┆ str      ┆ str      ┆ str      ┆ i64    │\n",
       "╞══════╪═══════════════╪══════════════╪══════════════╪═══╪══════════╪══════════╪══════════╪════════╡\n",
       "│ 6720 ┆ ESE-DE-03-1   ┆ Banco Centra ┆ Trimestral   ┆ … ┆ ESE      ┆ DE       ┆ 03       ┆ 12     │\n",
       "│      ┆               ┆ l-Asignación ┆              ┆   ┆          ┆          ┆          ┆        │\n",
       "│      ┆               ┆ de Dere…     ┆              ┆   ┆          ┆          ┆          ┆        │\n",
       "│ 6721 ┆ ESE-DE-03-2   ┆ Banco Centra ┆ Trimestral   ┆ … ┆ ESE      ┆ DE       ┆ 03       ┆ 12     │\n",
       "│      ┆               ┆ l-Asignación ┆              ┆   ┆          ┆          ┆          ┆        │\n",
       "│      ┆               ┆ de Dere…     ┆              ┆   ┆          ┆          ┆          ┆        │\n",
       "│ 6722 ┆ ESE-DE-03-3   ┆ Banco Centra ┆ Trimestral   ┆ … ┆ ESE      ┆ DE       ┆ 03       ┆ 12     │\n",
       "│      ┆               ┆ l-Asignación ┆              ┆   ┆          ┆          ┆          ┆        │\n",
       "│      ┆               ┆ de Dere…     ┆              ┆   ┆          ┆          ┆          ┆        │\n",
       "│ 6723 ┆ ESE-DE-03-4   ┆ Banco Centra ┆ Trimestral   ┆ … ┆ ESE      ┆ DE       ┆ 03       ┆ 11     │\n",
       "│      ┆               ┆ l-Asignación ┆              ┆   ┆          ┆          ┆          ┆        │\n",
       "│      ┆               ┆ de Dere…     ┆              ┆   ┆          ┆          ┆          ┆        │\n",
       "│ 6724 ┆ ESE-DE-03-5   ┆ Banco Centra ┆ Trimestral   ┆ … ┆ ESE      ┆ DE       ┆ 03       ┆ 12     │\n",
       "│      ┆               ┆ l-Asignación ┆              ┆   ┆          ┆          ┆          ┆        │\n",
       "│      ┆               ┆ de Dere…     ┆              ┆   ┆          ┆          ┆          ┆        │\n",
       "│ …    ┆ …             ┆ …            ┆ …            ┆ … ┆ …        ┆ …        ┆ …        ┆ …      │\n",
       "│ 7387 ┆ ESE-DE-03-668 ┆ Sociedades   ┆ Trimestral   ┆ … ┆ ESE      ┆ DE       ┆ 03       ┆ 12     │\n",
       "│      ┆               ┆ no financier ┆              ┆   ┆          ┆          ┆          ┆        │\n",
       "│      ┆               ┆ as-Título…   ┆              ┆   ┆          ┆          ┆          ┆        │\n",
       "│ 7388 ┆ ESE-DE-03-669 ┆ Sociedades   ┆ Trimestral   ┆ … ┆ ESE      ┆ DE       ┆ 03       ┆ 13     │\n",
       "│      ┆               ┆ no financier ┆              ┆   ┆          ┆          ┆          ┆        │\n",
       "│      ┆               ┆ as-Título…   ┆              ┆   ┆          ┆          ┆          ┆        │\n",
       "│ 7389 ┆ ESE-DE-03-670 ┆ Sociedades   ┆ Trimestral   ┆ … ┆ ESE      ┆ DE       ┆ 03       ┆ 13     │\n",
       "│      ┆               ┆ no financier ┆              ┆   ┆          ┆          ┆          ┆        │\n",
       "│      ┆               ┆ as-Título…   ┆              ┆   ┆          ┆          ┆          ┆        │\n",
       "│ 7390 ┆ ESE-DE-03-671 ┆ Sociedades   ┆ Trimestral   ┆ … ┆ ESE      ┆ DE       ┆ 03       ┆ 13     │\n",
       "│      ┆               ┆ no financier ┆              ┆   ┆          ┆          ┆          ┆        │\n",
       "│      ┆               ┆ as-Título…   ┆              ┆   ┆          ┆          ┆          ┆        │\n",
       "│ 7391 ┆ ESE-DE-03-672 ┆ Sociedades   ┆ Trimestral   ┆ … ┆ ESE      ┆ DE       ┆ 03       ┆ 12     │\n",
       "│      ┆               ┆ no financier ┆              ┆   ┆          ┆          ┆          ┆        │\n",
       "│      ┆               ┆ as-Título…   ┆              ┆   ┆          ┆          ┆          ┆        │\n",
       "└──────┴───────────────┴──────────────┴──────────────┴───┴──────────┴──────────┴──────────┴────────┘"
      ]
     },
     "execution_count": 93,
     "metadata": {},
     "output_type": "execute_result"
    }
   ],
   "source": [
    "df_all.filter(\n",
    "    pl.col(\"Niv_Gr_1\") == \"ESE\",\n",
    "    pl.col(\"Niv_Gr_2\") == \"DE\",\n",
    "    pl.col(\"Niv_Gr_3\") == \"03\"\n",
    "    ).select(pl.all().exclude(\n",
    "        \"Niv_Descr_6\",\"Niv_Descr_7\",\"Niv_Descr_8\",\n",
    "        \"Niv_Gr_4\",\"Niv_Gr_5\"))"
   ]
  },
  {
   "cell_type": "markdown",
   "id": "2e5823fb",
   "metadata": {},
   "source": [
    "Resultados de una sola variable:\n"
   ]
  },
  {
   "cell_type": "code",
   "execution_count": 94,
   "id": "3fbbea1b",
   "metadata": {},
   "outputs": [
    {
     "name": "stderr",
     "output_type": "stream",
     "text": [
      "<string>:29: FutureWarning:\n",
      "\n",
      "Passing literal json to 'read_json' is deprecated and will be removed in a future version. To read from a literal string, wrap it in a 'StringIO' object.\n",
      "\n"
     ]
    },
    {
     "name": "stderr",
     "output_type": "stream",
     "text": [
      "<string>:29: FutureWarning:\n",
      "\n",
      "Passing literal json to 'read_json' is deprecated and will be removed in a future version. To read from a literal string, wrap it in a 'StringIO' object.\n",
      "\n"
     ]
    },
    {
     "data": {
      "text/html": [
       "<div><style>\n",
       ".dataframe > thead > tr,\n",
       ".dataframe > tbody > tr {\n",
       "  text-align: right;\n",
       "  white-space: pre-wrap;\n",
       "}\n",
       "</style>\n",
       "<small>shape: (1, 2)</small><table border=\"1\" class=\"dataframe\"><thead><tr><th>Fecha</th><th>Banco Central-Asignación de Derechos especiales de giro-0-3 meses</th></tr><tr><td>date</td><td>i64</td></tr></thead><tbody><tr><td>2024-04-19</td><td>0</td></tr></tbody></table></div>"
      ],
      "text/plain": [
       "shape: (1, 2)\n",
       "┌────────────┬───────────────────────────────────┐\n",
       "│ Fecha      ┆ Banco Central-Asignación de Dere… │\n",
       "│ ---        ┆ ---                               │\n",
       "│ date       ┆ i64                               │\n",
       "╞════════════╪═══════════════════════════════════╡\n",
       "│ 2024-04-19 ┆ 0                                 │\n",
       "└────────────┴───────────────────────────────────┘"
      ]
     },
     "execution_count": 94,
     "metadata": {},
     "output_type": "execute_result"
    }
   ],
   "source": [
    "Id = 6720\n",
    "df = get_df(Id)\n",
    "# get_plot(Id)\n",
    "df"
   ]
  },
  {
   "cell_type": "markdown",
   "id": "18d593b9",
   "metadata": {},
   "source": [
    "##### 04 - Pagos que vencen en un año o menos\n",
    "\n",
    "* Gobierno general\n",
    "* Banco Central\n",
    "* Otros Sectores\n",
    "* Otras sociedades financieras\n",
    "* Sociedades no financieras\n",
    "* Deuda externa total a corto plazo\n"
   ]
  },
  {
   "cell_type": "code",
   "execution_count": 95,
   "id": "18423b4a",
   "metadata": {},
   "outputs": [
    {
     "name": "stderr",
     "output_type": "stream",
     "text": [
      "<string>:29: FutureWarning:\n",
      "\n",
      "Passing literal json to 'read_json' is deprecated and will be removed in a future version. To read from a literal string, wrap it in a 'StringIO' object.\n",
      "\n"
     ]
    },
    {
     "data": {
      "text/html": [
       "<div><style>\n",
       ".dataframe > thead > tr,\n",
       ".dataframe > tbody > tr {\n",
       "  text-align: right;\n",
       "  white-space: pre-wrap;\n",
       "}\n",
       "</style>\n",
       "<small>shape: (6, 5)</small><table border=\"1\" class=\"dataframe\"><thead><tr><th>Niv_Gr_1</th><th>Niv_Gr_2</th><th>Niv_Gr_3</th><th>Niv_Descr_1</th><th>N_Variables</th></tr><tr><td>str</td><td>str</td><td>str</td><td>str</td><td>u32</td></tr></thead><tbody><tr><td>&quot;ESE&quot;</td><td>&quot;DE&quot;</td><td>&quot;04&quot;</td><td>&quot;Gobierno gener…</td><td>12</td></tr><tr><td>&quot;ESE&quot;</td><td>&quot;DE&quot;</td><td>&quot;04&quot;</td><td>&quot;Banco Central&quot;</td><td>12</td></tr><tr><td>&quot;ESE&quot;</td><td>&quot;DE&quot;</td><td>&quot;04&quot;</td><td>&quot;Otras sociedad…</td><td>10</td></tr><tr><td>&quot;ESE&quot;</td><td>&quot;DE&quot;</td><td>&quot;04&quot;</td><td>&quot;Otros Sectores…</td><td>10</td></tr><tr><td>&quot;ESE&quot;</td><td>&quot;DE&quot;</td><td>&quot;04&quot;</td><td>&quot;Sociedades no …</td><td>10</td></tr><tr><td>&quot;ESE&quot;</td><td>&quot;DE&quot;</td><td>&quot;04&quot;</td><td>&quot;Deuda externa …</td><td>1</td></tr></tbody></table></div>"
      ],
      "text/plain": [
       "shape: (6, 5)\n",
       "┌──────────┬──────────┬──────────┬───────────────────────────────────┬─────────────┐\n",
       "│ Niv_Gr_1 ┆ Niv_Gr_2 ┆ Niv_Gr_3 ┆ Niv_Descr_1                       ┆ N_Variables │\n",
       "│ ---      ┆ ---      ┆ ---      ┆ ---                               ┆ ---         │\n",
       "│ str      ┆ str      ┆ str      ┆ str                               ┆ u32         │\n",
       "╞══════════╪══════════╪══════════╪═══════════════════════════════════╪═════════════╡\n",
       "│ ESE      ┆ DE       ┆ 04       ┆ Gobierno general                  ┆ 12          │\n",
       "│ ESE      ┆ DE       ┆ 04       ┆ Banco Central                     ┆ 12          │\n",
       "│ ESE      ┆ DE       ┆ 04       ┆ Otras sociedades financieras      ┆ 10          │\n",
       "│ ESE      ┆ DE       ┆ 04       ┆ Otros Sectores                    ┆ 10          │\n",
       "│ ESE      ┆ DE       ┆ 04       ┆ Sociedades no financieras         ┆ 10          │\n",
       "│ ESE      ┆ DE       ┆ 04       ┆ Deuda externa total a corto plaz… ┆ 1           │\n",
       "└──────────┴──────────┴──────────┴───────────────────────────────────┴─────────────┘"
      ]
     },
     "execution_count": 95,
     "metadata": {},
     "output_type": "execute_result"
    }
   ],
   "source": [
    "res_nivel_4(\n",
    "    \"ESE\",\"DE\",\n",
    "    \"Niv_Gr_3\",\n",
    "    \"04\",\n",
    "    \"Niv_Descr_1\")"
   ]
  },
  {
   "cell_type": "markdown",
   "id": "4cf40ec5",
   "metadata": {},
   "source": [
    "* A corto plazo según el vencimiento original\n",
    "* A largo plazo exigible dentro de un año o antes\n",
    "* Deuda externa total a corto plazo\n"
   ]
  },
  {
   "cell_type": "code",
   "execution_count": 96,
   "id": "4b74515e",
   "metadata": {},
   "outputs": [
    {
     "name": "stderr",
     "output_type": "stream",
     "text": [
      "<string>:29: FutureWarning:\n",
      "\n",
      "Passing literal json to 'read_json' is deprecated and will be removed in a future version. To read from a literal string, wrap it in a 'StringIO' object.\n",
      "\n"
     ]
    },
    {
     "data": {
      "text/html": [
       "<div><style>\n",
       ".dataframe > thead > tr,\n",
       ".dataframe > tbody > tr {\n",
       "  text-align: right;\n",
       "  white-space: pre-wrap;\n",
       "}\n",
       "</style>\n",
       "<small>shape: (3, 5)</small><table border=\"1\" class=\"dataframe\"><thead><tr><th>Niv_Gr_1</th><th>Niv_Gr_2</th><th>Niv_Gr_3</th><th>Niv_Descr_2</th><th>N_Variables</th></tr><tr><td>str</td><td>str</td><td>str</td><td>str</td><td>u32</td></tr></thead><tbody><tr><td>&quot;ESE&quot;</td><td>&quot;DE&quot;</td><td>&quot;04&quot;</td><td>&quot;A corto plazo …</td><td>27</td></tr><tr><td>&quot;ESE&quot;</td><td>&quot;DE&quot;</td><td>&quot;04&quot;</td><td>&quot;A largo plazo …</td><td>27</td></tr><tr><td>&quot;ESE&quot;</td><td>&quot;DE&quot;</td><td>&quot;04&quot;</td><td>&quot;Deuda externa …</td><td>1</td></tr></tbody></table></div>"
      ],
      "text/plain": [
       "shape: (3, 5)\n",
       "┌──────────┬──────────┬──────────┬───────────────────────────────────┬─────────────┐\n",
       "│ Niv_Gr_1 ┆ Niv_Gr_2 ┆ Niv_Gr_3 ┆ Niv_Descr_2                       ┆ N_Variables │\n",
       "│ ---      ┆ ---      ┆ ---      ┆ ---                               ┆ ---         │\n",
       "│ str      ┆ str      ┆ str      ┆ str                               ┆ u32         │\n",
       "╞══════════╪══════════╪══════════╪═══════════════════════════════════╪═════════════╡\n",
       "│ ESE      ┆ DE       ┆ 04       ┆ A corto plazo según el vencimien… ┆ 27          │\n",
       "│ ESE      ┆ DE       ┆ 04       ┆ A largo plazo exigible dentro de… ┆ 27          │\n",
       "│ ESE      ┆ DE       ┆ 04       ┆ Deuda externa total a corto plaz… ┆ 1           │\n",
       "└──────────┴──────────┴──────────┴───────────────────────────────────┴─────────────┘"
      ]
     },
     "execution_count": 96,
     "metadata": {},
     "output_type": "execute_result"
    }
   ],
   "source": [
    "res_nivel_4(\n",
    "    \"ESE\",\"DE\",\n",
    "    \"Niv_Gr_3\",\n",
    "    \"04\",\n",
    "    \"Niv_Descr_2\")"
   ]
  },
  {
   "cell_type": "markdown",
   "id": "e63daafa",
   "metadata": {},
   "source": [
    "* Asignación de Derechos especiales de giro\n",
    "* Moneda y depósitos\n",
    "* Tí­tulos de deuda\n",
    "* Préstamos\n",
    "* Créditos y anticipos comerciales\n",
    "* Otros pasivos de deuda\n",
    "* Deuda externa total a corto plazo (según el vencimiento residual)\n"
   ]
  },
  {
   "cell_type": "code",
   "execution_count": 97,
   "id": "a4cbc77f",
   "metadata": {},
   "outputs": [
    {
     "name": "stderr",
     "output_type": "stream",
     "text": [
      "<string>:29: FutureWarning:\n",
      "\n",
      "Passing literal json to 'read_json' is deprecated and will be removed in a future version. To read from a literal string, wrap it in a 'StringIO' object.\n",
      "\n"
     ]
    },
    {
     "data": {
      "text/html": [
       "<div><style>\n",
       ".dataframe > thead > tr,\n",
       ".dataframe > tbody > tr {\n",
       "  text-align: right;\n",
       "  white-space: pre-wrap;\n",
       "}\n",
       "</style>\n",
       "<small>shape: (7, 5)</small><table border=\"1\" class=\"dataframe\"><thead><tr><th>Niv_Gr_1</th><th>Niv_Gr_2</th><th>Niv_Gr_3</th><th>Niv_Descr_3</th><th>N_Variables</th></tr><tr><td>str</td><td>str</td><td>str</td><td>str</td><td>u32</td></tr></thead><tbody><tr><td>&quot;ESE&quot;</td><td>&quot;DE&quot;</td><td>&quot;04&quot;</td><td>&quot;Moneda y depós…</td><td>10</td></tr><tr><td>&quot;ESE&quot;</td><td>&quot;DE&quot;</td><td>&quot;04&quot;</td><td>&quot;Otros pasivos …</td><td>10</td></tr><tr><td>&quot;ESE&quot;</td><td>&quot;DE&quot;</td><td>&quot;04&quot;</td><td>&quot;Créditos y ant…</td><td>10</td></tr><tr><td>&quot;ESE&quot;</td><td>&quot;DE&quot;</td><td>&quot;04&quot;</td><td>&quot;Préstamos&quot;</td><td>10</td></tr><tr><td>&quot;ESE&quot;</td><td>&quot;DE&quot;</td><td>&quot;04&quot;</td><td>&quot;Títulos de deu…</td><td>10</td></tr><tr><td>&quot;ESE&quot;</td><td>&quot;DE&quot;</td><td>&quot;04&quot;</td><td>&quot;Asignación de …</td><td>4</td></tr><tr><td>&quot;ESE&quot;</td><td>&quot;DE&quot;</td><td>&quot;04&quot;</td><td>&quot;Deuda externa …</td><td>1</td></tr></tbody></table></div>"
      ],
      "text/plain": [
       "shape: (7, 5)\n",
       "┌──────────┬──────────┬──────────┬───────────────────────────────────┬─────────────┐\n",
       "│ Niv_Gr_1 ┆ Niv_Gr_2 ┆ Niv_Gr_3 ┆ Niv_Descr_3                       ┆ N_Variables │\n",
       "│ ---      ┆ ---      ┆ ---      ┆ ---                               ┆ ---         │\n",
       "│ str      ┆ str      ┆ str      ┆ str                               ┆ u32         │\n",
       "╞══════════╪══════════╪══════════╪═══════════════════════════════════╪═════════════╡\n",
       "│ ESE      ┆ DE       ┆ 04       ┆ Moneda y depósitos                ┆ 10          │\n",
       "│ ESE      ┆ DE       ┆ 04       ┆ Otros pasivos de deuda            ┆ 10          │\n",
       "│ ESE      ┆ DE       ┆ 04       ┆ Créditos y anticipos comerciales  ┆ 10          │\n",
       "│ ESE      ┆ DE       ┆ 04       ┆ Préstamos                         ┆ 10          │\n",
       "│ ESE      ┆ DE       ┆ 04       ┆ Títulos de deuda                  ┆ 10          │\n",
       "│ ESE      ┆ DE       ┆ 04       ┆ Asignación de Derechos especiale… ┆ 4           │\n",
       "│ ESE      ┆ DE       ┆ 04       ┆ Deuda externa total a corto plaz… ┆ 1           │\n",
       "└──────────┴──────────┴──────────┴───────────────────────────────────┴─────────────┘"
      ]
     },
     "execution_count": 97,
     "metadata": {},
     "output_type": "execute_result"
    }
   ],
   "source": [
    "res_nivel_4(\n",
    "    \"ESE\",\"DE\",\n",
    "    \"Niv_Gr_3\",\n",
    "    \"04\",\n",
    "    \"Niv_Descr_3\")"
   ]
  },
  {
   "cell_type": "markdown",
   "id": "7182c34f",
   "metadata": {},
   "source": [
    "Para ver todas las variables:\n"
   ]
  },
  {
   "cell_type": "code",
   "execution_count": 98,
   "id": "5b4cd420",
   "metadata": {},
   "outputs": [
    {
     "name": "stderr",
     "output_type": "stream",
     "text": [
      "<string>:29: FutureWarning:\n",
      "\n",
      "Passing literal json to 'read_json' is deprecated and will be removed in a future version. To read from a literal string, wrap it in a 'StringIO' object.\n",
      "\n"
     ]
    },
    {
     "data": {
      "text/html": [
       "<div><style>\n",
       ".dataframe > thead > tr,\n",
       ".dataframe > tbody > tr {\n",
       "  text-align: right;\n",
       "  white-space: pre-wrap;\n",
       "}\n",
       "</style>\n",
       "<small>shape: (55, 8)</small><table border=\"1\" class=\"dataframe\"><thead><tr><th>Niv_Gr_1</th><th>Niv_Gr_2</th><th>Niv_Gr_3</th><th>Id</th><th>Niv_Descr_1</th><th>Niv_Descr_2</th><th>Niv_Descr_3</th><th>N_Variables</th></tr><tr><td>str</td><td>str</td><td>str</td><td>i64</td><td>str</td><td>str</td><td>str</td><td>u32</td></tr></thead><tbody><tr><td>&quot;ESE&quot;</td><td>&quot;DE&quot;</td><td>&quot;04&quot;</td><td>7392</td><td>&quot;Gobierno gener…</td><td>&quot;A corto plazo …</td><td>&quot;Asignación de …</td><td>1</td></tr><tr><td>&quot;ESE&quot;</td><td>&quot;DE&quot;</td><td>&quot;04&quot;</td><td>7393</td><td>&quot;Gobierno gener…</td><td>&quot;A corto plazo …</td><td>&quot;Moneda y depós…</td><td>1</td></tr><tr><td>&quot;ESE&quot;</td><td>&quot;DE&quot;</td><td>&quot;04&quot;</td><td>7394</td><td>&quot;Gobierno gener…</td><td>&quot;A corto plazo …</td><td>&quot;Títulos de deu…</td><td>1</td></tr><tr><td>&quot;ESE&quot;</td><td>&quot;DE&quot;</td><td>&quot;04&quot;</td><td>7395</td><td>&quot;Gobierno gener…</td><td>&quot;A corto plazo …</td><td>&quot;Préstamos&quot;</td><td>1</td></tr><tr><td>&quot;ESE&quot;</td><td>&quot;DE&quot;</td><td>&quot;04&quot;</td><td>7396</td><td>&quot;Gobierno gener…</td><td>&quot;A corto plazo …</td><td>&quot;Créditos y ant…</td><td>1</td></tr><tr><td>&hellip;</td><td>&hellip;</td><td>&hellip;</td><td>&hellip;</td><td>&hellip;</td><td>&hellip;</td><td>&hellip;</td><td>&hellip;</td></tr><tr><td>&quot;ESE&quot;</td><td>&quot;DE&quot;</td><td>&quot;04&quot;</td><td>7442</td><td>&quot;Sociedades no …</td><td>&quot;A largo plazo …</td><td>&quot;Títulos de deu…</td><td>1</td></tr><tr><td>&quot;ESE&quot;</td><td>&quot;DE&quot;</td><td>&quot;04&quot;</td><td>7443</td><td>&quot;Sociedades no …</td><td>&quot;A largo plazo …</td><td>&quot;Préstamos&quot;</td><td>1</td></tr><tr><td>&quot;ESE&quot;</td><td>&quot;DE&quot;</td><td>&quot;04&quot;</td><td>7444</td><td>&quot;Sociedades no …</td><td>&quot;A largo plazo …</td><td>&quot;Créditos y ant…</td><td>1</td></tr><tr><td>&quot;ESE&quot;</td><td>&quot;DE&quot;</td><td>&quot;04&quot;</td><td>7445</td><td>&quot;Sociedades no …</td><td>&quot;A largo plazo …</td><td>&quot;Otros pasivos …</td><td>1</td></tr><tr><td>&quot;ESE&quot;</td><td>&quot;DE&quot;</td><td>&quot;04&quot;</td><td>7446</td><td>&quot;Deuda externa …</td><td>&quot;Deuda externa …</td><td>&quot;Deuda externa …</td><td>1</td></tr></tbody></table></div>"
      ],
      "text/plain": [
       "shape: (55, 8)\n",
       "┌──────────┬──────────┬──────────┬──────┬──────────────┬──────────────┬──────────────┬─────────────┐\n",
       "│ Niv_Gr_1 ┆ Niv_Gr_2 ┆ Niv_Gr_3 ┆ Id   ┆ Niv_Descr_1  ┆ Niv_Descr_2  ┆ Niv_Descr_3  ┆ N_Variables │\n",
       "│ ---      ┆ ---      ┆ ---      ┆ ---  ┆ ---          ┆ ---          ┆ ---          ┆ ---         │\n",
       "│ str      ┆ str      ┆ str      ┆ i64  ┆ str          ┆ str          ┆ str          ┆ u32         │\n",
       "╞══════════╪══════════╪══════════╪══════╪══════════════╪══════════════╪══════════════╪═════════════╡\n",
       "│ ESE      ┆ DE       ┆ 04       ┆ 7392 ┆ Gobierno     ┆ A corto      ┆ Asignación   ┆ 1           │\n",
       "│          ┆          ┆          ┆      ┆ general      ┆ plazo según  ┆ de Derechos  ┆             │\n",
       "│          ┆          ┆          ┆      ┆              ┆ el           ┆ especiale…   ┆             │\n",
       "│          ┆          ┆          ┆      ┆              ┆ vencimien…   ┆              ┆             │\n",
       "│ ESE      ┆ DE       ┆ 04       ┆ 7393 ┆ Gobierno     ┆ A corto      ┆ Moneda y     ┆ 1           │\n",
       "│          ┆          ┆          ┆      ┆ general      ┆ plazo según  ┆ depósitos    ┆             │\n",
       "│          ┆          ┆          ┆      ┆              ┆ el           ┆              ┆             │\n",
       "│          ┆          ┆          ┆      ┆              ┆ vencimien…   ┆              ┆             │\n",
       "│ ESE      ┆ DE       ┆ 04       ┆ 7394 ┆ Gobierno     ┆ A corto      ┆ Títulos de   ┆ 1           │\n",
       "│          ┆          ┆          ┆      ┆ general      ┆ plazo según  ┆ deuda        ┆             │\n",
       "│          ┆          ┆          ┆      ┆              ┆ el           ┆              ┆             │\n",
       "│          ┆          ┆          ┆      ┆              ┆ vencimien…   ┆              ┆             │\n",
       "│ ESE      ┆ DE       ┆ 04       ┆ 7395 ┆ Gobierno     ┆ A corto      ┆ Préstamos    ┆ 1           │\n",
       "│          ┆          ┆          ┆      ┆ general      ┆ plazo según  ┆              ┆             │\n",
       "│          ┆          ┆          ┆      ┆              ┆ el           ┆              ┆             │\n",
       "│          ┆          ┆          ┆      ┆              ┆ vencimien…   ┆              ┆             │\n",
       "│ ESE      ┆ DE       ┆ 04       ┆ 7396 ┆ Gobierno     ┆ A corto      ┆ Créditos y   ┆ 1           │\n",
       "│          ┆          ┆          ┆      ┆ general      ┆ plazo según  ┆ anticipos    ┆             │\n",
       "│          ┆          ┆          ┆      ┆              ┆ el           ┆ comerciales  ┆             │\n",
       "│          ┆          ┆          ┆      ┆              ┆ vencimien…   ┆              ┆             │\n",
       "│ …        ┆ …        ┆ …        ┆ …    ┆ …            ┆ …            ┆ …            ┆ …           │\n",
       "│ ESE      ┆ DE       ┆ 04       ┆ 7442 ┆ Sociedades   ┆ A largo      ┆ Títulos de   ┆ 1           │\n",
       "│          ┆          ┆          ┆      ┆ no           ┆ plazo        ┆ deuda        ┆             │\n",
       "│          ┆          ┆          ┆      ┆ financieras  ┆ exigible     ┆              ┆             │\n",
       "│          ┆          ┆          ┆      ┆              ┆ dentro de…   ┆              ┆             │\n",
       "│ ESE      ┆ DE       ┆ 04       ┆ 7443 ┆ Sociedades   ┆ A largo      ┆ Préstamos    ┆ 1           │\n",
       "│          ┆          ┆          ┆      ┆ no           ┆ plazo        ┆              ┆             │\n",
       "│          ┆          ┆          ┆      ┆ financieras  ┆ exigible     ┆              ┆             │\n",
       "│          ┆          ┆          ┆      ┆              ┆ dentro de…   ┆              ┆             │\n",
       "│ ESE      ┆ DE       ┆ 04       ┆ 7444 ┆ Sociedades   ┆ A largo      ┆ Créditos y   ┆ 1           │\n",
       "│          ┆          ┆          ┆      ┆ no           ┆ plazo        ┆ anticipos    ┆             │\n",
       "│          ┆          ┆          ┆      ┆ financieras  ┆ exigible     ┆ comerciales  ┆             │\n",
       "│          ┆          ┆          ┆      ┆              ┆ dentro de…   ┆              ┆             │\n",
       "│ ESE      ┆ DE       ┆ 04       ┆ 7445 ┆ Sociedades   ┆ A largo      ┆ Otros        ┆ 1           │\n",
       "│          ┆          ┆          ┆      ┆ no           ┆ plazo        ┆ pasivos de   ┆             │\n",
       "│          ┆          ┆          ┆      ┆ financieras  ┆ exigible     ┆ deuda        ┆             │\n",
       "│          ┆          ┆          ┆      ┆              ┆ dentro de…   ┆              ┆             │\n",
       "│ ESE      ┆ DE       ┆ 04       ┆ 7446 ┆ Deuda        ┆ Deuda        ┆ Deuda        ┆ 1           │\n",
       "│          ┆          ┆          ┆      ┆ externa      ┆ externa      ┆ externa      ┆             │\n",
       "│          ┆          ┆          ┆      ┆ total a      ┆ total a      ┆ total a      ┆             │\n",
       "│          ┆          ┆          ┆      ┆ corto plaz…  ┆ corto plaz…  ┆ corto plaz…  ┆             │\n",
       "└──────────┴──────────┴──────────┴──────┴──────────────┴──────────────┴──────────────┴─────────────┘"
      ]
     },
     "execution_count": 98,
     "metadata": {},
     "output_type": "execute_result"
    }
   ],
   "source": [
    "res_nivel_7(\n",
    "    \"ESE\",\"DE\",\n",
    "    \"Niv_Gr_3\",\n",
    "    \"04\",\n",
    "    \"Id\",\"Niv_Descr_1\",\"Niv_Descr_2\",\"Niv_Descr_3\").sort(\"Id\")"
   ]
  },
  {
   "cell_type": "markdown",
   "id": "43af6bc2",
   "metadata": {},
   "source": [
    "**OJO: REVISAR LA CONSULTA A PARTIR DE 7392 HASTA 7446**\n",
    "\n",
    "Resultados de una sola variable:\n"
   ]
  },
  {
   "cell_type": "code",
   "execution_count": 99,
   "id": "42106ecd",
   "metadata": {},
   "outputs": [
    {
     "name": "stderr",
     "output_type": "stream",
     "text": [
      "<string>:29: FutureWarning:\n",
      "\n",
      "Passing literal json to 'read_json' is deprecated and will be removed in a future version. To read from a literal string, wrap it in a 'StringIO' object.\n",
      "\n"
     ]
    },
    {
     "name": "stderr",
     "output_type": "stream",
     "text": [
      "<string>:29: FutureWarning:\n",
      "\n",
      "Passing literal json to 'read_json' is deprecated and will be removed in a future version. To read from a literal string, wrap it in a 'StringIO' object.\n",
      "\n"
     ]
    },
    {
     "data": {
      "text/html": [
       "<div><style>\n",
       ".dataframe > thead > tr,\n",
       ".dataframe > tbody > tr {\n",
       "  text-align: right;\n",
       "  white-space: pre-wrap;\n",
       "}\n",
       "</style>\n",
       "<small>shape: (20, 2)</small><table border=\"1\" class=\"dataframe\"><thead><tr><th>Fecha</th><th>Consumo Intermedio-Actividades Inmobiliarias y Empresariales-Economía Total</th></tr><tr><td>date</td><td>f64</td></tr></thead><tbody><tr><td>2000-01-01</td><td>1151.179</td></tr><tr><td>2001-01-01</td><td>1308.8859</td></tr><tr><td>2002-01-01</td><td>1405.3519</td></tr><tr><td>2003-01-01</td><td>1700.5176</td></tr><tr><td>2004-01-01</td><td>2002.3782</td></tr><tr><td>&hellip;</td><td>&hellip;</td></tr><tr><td>2015-01-01</td><td>5587.1</td></tr><tr><td>2016-01-01</td><td>6028.2</td></tr><tr><td>2017-01-01</td><td>6647.1</td></tr><tr><td>2018-01-01</td><td>7224.4</td></tr><tr><td>2019-01-01</td><td>7775.6</td></tr></tbody></table></div>"
      ],
      "text/plain": [
       "shape: (20, 2)\n",
       "┌────────────┬───────────────────────────────────┐\n",
       "│ Fecha      ┆ Consumo Intermedio-Actividades I… │\n",
       "│ ---        ┆ ---                               │\n",
       "│ date       ┆ f64                               │\n",
       "╞════════════╪═══════════════════════════════════╡\n",
       "│ 2000-01-01 ┆ 1151.179                          │\n",
       "│ 2001-01-01 ┆ 1308.8859                         │\n",
       "│ 2002-01-01 ┆ 1405.3519                         │\n",
       "│ 2003-01-01 ┆ 1700.5176                         │\n",
       "│ 2004-01-01 ┆ 2002.3782                         │\n",
       "│ …          ┆ …                                 │\n",
       "│ 2015-01-01 ┆ 5587.1                            │\n",
       "│ 2016-01-01 ┆ 6028.2                            │\n",
       "│ 2017-01-01 ┆ 6647.1                            │\n",
       "│ 2018-01-01 ┆ 7224.4                            │\n",
       "│ 2019-01-01 ┆ 7775.6                            │\n",
       "└────────────┴───────────────────────────────────┘"
      ]
     },
     "execution_count": 99,
     "metadata": {},
     "output_type": "execute_result"
    }
   ],
   "source": [
    "Id = 7447 # 7392 - 7446\n",
    "df = get_df(Id)\n",
    "# get_plot(Id)\n",
    "df"
   ]
  },
  {
   "cell_type": "markdown",
   "id": "3e968b9c",
   "metadata": {},
   "source": [
    "#### CEB = Comercio Exterior de Bienes\n"
   ]
  },
  {
   "cell_type": "code",
   "execution_count": 100,
   "id": "e4783297",
   "metadata": {},
   "outputs": [
    {
     "name": "stdout",
     "output_type": "stream",
     "text": [
      "4 subgrupos\n",
      "339 variables\n"
     ]
    },
    {
     "name": "stderr",
     "output_type": "stream",
     "text": [
      "<string>:29: FutureWarning:\n",
      "\n",
      "Passing literal json to 'read_json' is deprecated and will be removed in a future version. To read from a literal string, wrap it in a 'StringIO' object.\n",
      "\n"
     ]
    },
    {
     "data": {
      "text/html": [
       "<div><style>\n",
       ".dataframe > thead > tr,\n",
       ".dataframe > tbody > tr {\n",
       "  text-align: right;\n",
       "  white-space: pre-wrap;\n",
       "}\n",
       "</style>\n",
       "<small>shape: (4, 4)</small><table border=\"1\" class=\"dataframe\"><thead><tr><th>Niv_Gr_1</th><th>Niv_Gr_2</th><th>Niv_Gr_3</th><th>N_Variables</th></tr><tr><td>str</td><td>str</td><td>str</td><td>u32</td></tr></thead><tbody><tr><td>&quot;ESE&quot;</td><td>&quot;CEB&quot;</td><td>&quot;04&quot;</td><td>159</td></tr><tr><td>&quot;ESE&quot;</td><td>&quot;CEB&quot;</td><td>&quot;03&quot;</td><td>93</td></tr><tr><td>&quot;ESE&quot;</td><td>&quot;CEB&quot;</td><td>&quot;01&quot;</td><td>66</td></tr><tr><td>&quot;ESE&quot;</td><td>&quot;CEB&quot;</td><td>&quot;02&quot;</td><td>21</td></tr></tbody></table></div>"
      ],
      "text/plain": [
       "shape: (4, 4)\n",
       "┌──────────┬──────────┬──────────┬─────────────┐\n",
       "│ Niv_Gr_1 ┆ Niv_Gr_2 ┆ Niv_Gr_3 ┆ N_Variables │\n",
       "│ ---      ┆ ---      ┆ ---      ┆ ---         │\n",
       "│ str      ┆ str      ┆ str      ┆ u32         │\n",
       "╞══════════╪══════════╪══════════╪═════════════╡\n",
       "│ ESE      ┆ CEB      ┆ 04       ┆ 159         │\n",
       "│ ESE      ┆ CEB      ┆ 03       ┆ 93          │\n",
       "│ ESE      ┆ CEB      ┆ 01       ┆ 66          │\n",
       "│ ESE      ┆ CEB      ┆ 02       ┆ 21          │\n",
       "└──────────┴──────────┴──────────┴─────────────┘"
      ]
     },
     "execution_count": 100,
     "metadata": {},
     "output_type": "execute_result"
    }
   ],
   "source": [
    "res_nivel_3(\"ESE\",\"CEB\",\"Niv_Gr_3\")"
   ]
  },
  {
   "cell_type": "markdown",
   "id": "e6743ee3",
   "metadata": {},
   "source": [
    "##### 01 - Productos\n",
    "\n",
    "* Banano\n",
    "* Café\n",
    "* Aceite de Palma\n",
    "* Camarones\n",
    "* Melones y Sandí­as\n",
    "* Legumbres y Hortalizas\n",
    "* Puros o Cigarros\n",
    "* Textiles\n",
    "* Jabones\n",
    "* Plásticos y su Manufacturas\n",
    "* Papel y Cartón\n"
   ]
  },
  {
   "cell_type": "code",
   "execution_count": 101,
   "id": "48c082e5",
   "metadata": {},
   "outputs": [
    {
     "name": "stderr",
     "output_type": "stream",
     "text": [
      "<string>:29: FutureWarning:\n",
      "\n",
      "Passing literal json to 'read_json' is deprecated and will be removed in a future version. To read from a literal string, wrap it in a 'StringIO' object.\n",
      "\n"
     ]
    },
    {
     "data": {
      "text/html": [
       "<div><style>\n",
       ".dataframe > thead > tr,\n",
       ".dataframe > tbody > tr {\n",
       "  text-align: right;\n",
       "  white-space: pre-wrap;\n",
       "}\n",
       "</style>\n",
       "<small>shape: (11, 5)</small><table border=\"1\" class=\"dataframe\"><thead><tr><th>Niv_Gr_1</th><th>Niv_Gr_2</th><th>Niv_Gr_3</th><th>Niv_Descr_5</th><th>N_Variables</th></tr><tr><td>str</td><td>str</td><td>str</td><td>str</td><td>u32</td></tr></thead><tbody><tr><td>&quot;ESE&quot;</td><td>&quot;CEB&quot;</td><td>&quot;01&quot;</td><td>&quot;Banano&quot;</td><td>6</td></tr><tr><td>&quot;ESE&quot;</td><td>&quot;CEB&quot;</td><td>&quot;01&quot;</td><td>&quot;Textiles&quot;</td><td>6</td></tr><tr><td>&quot;ESE&quot;</td><td>&quot;CEB&quot;</td><td>&quot;01&quot;</td><td>&quot;Legumbres y Ho…</td><td>6</td></tr><tr><td>&quot;ESE&quot;</td><td>&quot;CEB&quot;</td><td>&quot;01&quot;</td><td>&quot;Papel y Cartón…</td><td>6</td></tr><tr><td>&quot;ESE&quot;</td><td>&quot;CEB&quot;</td><td>&quot;01&quot;</td><td>&quot;Café&quot;</td><td>6</td></tr><tr><td>&hellip;</td><td>&hellip;</td><td>&hellip;</td><td>&hellip;</td><td>&hellip;</td></tr><tr><td>&quot;ESE&quot;</td><td>&quot;CEB&quot;</td><td>&quot;01&quot;</td><td>&quot;Plásticos y su…</td><td>6</td></tr><tr><td>&quot;ESE&quot;</td><td>&quot;CEB&quot;</td><td>&quot;01&quot;</td><td>&quot;Camarones&quot;</td><td>6</td></tr><tr><td>&quot;ESE&quot;</td><td>&quot;CEB&quot;</td><td>&quot;01&quot;</td><td>&quot;Puros o Cigarr…</td><td>6</td></tr><tr><td>&quot;ESE&quot;</td><td>&quot;CEB&quot;</td><td>&quot;01&quot;</td><td>&quot;Jabones&quot;</td><td>6</td></tr><tr><td>&quot;ESE&quot;</td><td>&quot;CEB&quot;</td><td>&quot;01&quot;</td><td>&quot;Melones y Sand…</td><td>6</td></tr></tbody></table></div>"
      ],
      "text/plain": [
       "shape: (11, 5)\n",
       "┌──────────┬──────────┬──────────┬─────────────────────────────┬─────────────┐\n",
       "│ Niv_Gr_1 ┆ Niv_Gr_2 ┆ Niv_Gr_3 ┆ Niv_Descr_5                 ┆ N_Variables │\n",
       "│ ---      ┆ ---      ┆ ---      ┆ ---                         ┆ ---         │\n",
       "│ str      ┆ str      ┆ str      ┆ str                         ┆ u32         │\n",
       "╞══════════╪══════════╪══════════╪═════════════════════════════╪═════════════╡\n",
       "│ ESE      ┆ CEB      ┆ 01       ┆ Banano                      ┆ 6           │\n",
       "│ ESE      ┆ CEB      ┆ 01       ┆ Textiles                    ┆ 6           │\n",
       "│ ESE      ┆ CEB      ┆ 01       ┆ Legumbres y Hortalizas      ┆ 6           │\n",
       "│ ESE      ┆ CEB      ┆ 01       ┆ Papel y Cartón              ┆ 6           │\n",
       "│ ESE      ┆ CEB      ┆ 01       ┆ Café                        ┆ 6           │\n",
       "│ …        ┆ …        ┆ …        ┆ …                           ┆ …           │\n",
       "│ ESE      ┆ CEB      ┆ 01       ┆ Plásticos y su Manufacturas ┆ 6           │\n",
       "│ ESE      ┆ CEB      ┆ 01       ┆ Camarones                   ┆ 6           │\n",
       "│ ESE      ┆ CEB      ┆ 01       ┆ Puros o Cigarros            ┆ 6           │\n",
       "│ ESE      ┆ CEB      ┆ 01       ┆ Jabones                     ┆ 6           │\n",
       "│ ESE      ┆ CEB      ┆ 01       ┆ Melones y Sandías           ┆ 6           │\n",
       "└──────────┴──────────┴──────────┴─────────────────────────────┴─────────────┘"
      ]
     },
     "execution_count": 101,
     "metadata": {},
     "output_type": "execute_result"
    }
   ],
   "source": [
    "res_nivel_4(\n",
    "    \"ESE\",\"CEB\",\n",
    "    \"Niv_Gr_3\",\n",
    "    \"01\",\n",
    "    \"Niv_Descr_5\")"
   ]
  },
  {
   "cell_type": "markdown",
   "id": "4482a300",
   "metadata": {},
   "source": [
    "* Volumen\n",
    "* Valor\n",
    "* Precio\n"
   ]
  },
  {
   "cell_type": "code",
   "execution_count": 102,
   "id": "a82696db",
   "metadata": {},
   "outputs": [
    {
     "name": "stderr",
     "output_type": "stream",
     "text": [
      "<string>:29: FutureWarning:\n",
      "\n",
      "Passing literal json to 'read_json' is deprecated and will be removed in a future version. To read from a literal string, wrap it in a 'StringIO' object.\n",
      "\n"
     ]
    },
    {
     "data": {
      "text/html": [
       "<div><style>\n",
       ".dataframe > thead > tr,\n",
       ".dataframe > tbody > tr {\n",
       "  text-align: right;\n",
       "  white-space: pre-wrap;\n",
       "}\n",
       "</style>\n",
       "<small>shape: (3, 5)</small><table border=\"1\" class=\"dataframe\"><thead><tr><th>Niv_Gr_1</th><th>Niv_Gr_2</th><th>Niv_Gr_3</th><th>Niv_Descr_6</th><th>N_Variables</th></tr><tr><td>str</td><td>str</td><td>str</td><td>str</td><td>u32</td></tr></thead><tbody><tr><td>&quot;ESE&quot;</td><td>&quot;CEB&quot;</td><td>&quot;01&quot;</td><td>&quot;Precio&quot;</td><td>22</td></tr><tr><td>&quot;ESE&quot;</td><td>&quot;CEB&quot;</td><td>&quot;01&quot;</td><td>&quot;Volumen&quot;</td><td>22</td></tr><tr><td>&quot;ESE&quot;</td><td>&quot;CEB&quot;</td><td>&quot;01&quot;</td><td>&quot;Valor&quot;</td><td>22</td></tr></tbody></table></div>"
      ],
      "text/plain": [
       "shape: (3, 5)\n",
       "┌──────────┬──────────┬──────────┬─────────────┬─────────────┐\n",
       "│ Niv_Gr_1 ┆ Niv_Gr_2 ┆ Niv_Gr_3 ┆ Niv_Descr_6 ┆ N_Variables │\n",
       "│ ---      ┆ ---      ┆ ---      ┆ ---         ┆ ---         │\n",
       "│ str      ┆ str      ┆ str      ┆ str         ┆ u32         │\n",
       "╞══════════╪══════════╪══════════╪═════════════╪═════════════╡\n",
       "│ ESE      ┆ CEB      ┆ 01       ┆ Precio      ┆ 22          │\n",
       "│ ESE      ┆ CEB      ┆ 01       ┆ Volumen     ┆ 22          │\n",
       "│ ESE      ┆ CEB      ┆ 01       ┆ Valor       ┆ 22          │\n",
       "└──────────┴──────────┴──────────┴─────────────┴─────────────┘"
      ]
     },
     "execution_count": 102,
     "metadata": {},
     "output_type": "execute_result"
    }
   ],
   "source": [
    "res_nivel_4(\n",
    "    \"ESE\",\"CEB\",\n",
    "    \"Niv_Gr_3\",\n",
    "    \"01\",\n",
    "    \"Niv_Descr_6\")"
   ]
  },
  {
   "cell_type": "markdown",
   "id": "c778c28e",
   "metadata": {},
   "source": [
    "* Trimestral\n",
    "* Anual\n"
   ]
  },
  {
   "cell_type": "code",
   "execution_count": 103,
   "id": "7ac3977a",
   "metadata": {},
   "outputs": [
    {
     "name": "stderr",
     "output_type": "stream",
     "text": [
      "<string>:29: FutureWarning:\n",
      "\n",
      "Passing literal json to 'read_json' is deprecated and will be removed in a future version. To read from a literal string, wrap it in a 'StringIO' object.\n",
      "\n"
     ]
    },
    {
     "data": {
      "text/html": [
       "<div><style>\n",
       ".dataframe > thead > tr,\n",
       ".dataframe > tbody > tr {\n",
       "  text-align: right;\n",
       "  white-space: pre-wrap;\n",
       "}\n",
       "</style>\n",
       "<small>shape: (2, 5)</small><table border=\"1\" class=\"dataframe\"><thead><tr><th>Niv_Gr_1</th><th>Niv_Gr_2</th><th>Niv_Gr_3</th><th>Niv_Descr_7</th><th>N_Variables</th></tr><tr><td>str</td><td>str</td><td>str</td><td>str</td><td>u32</td></tr></thead><tbody><tr><td>&quot;ESE&quot;</td><td>&quot;CEB&quot;</td><td>&quot;01&quot;</td><td>&quot;Anual&quot;</td><td>33</td></tr><tr><td>&quot;ESE&quot;</td><td>&quot;CEB&quot;</td><td>&quot;01&quot;</td><td>&quot;Trimestral&quot;</td><td>33</td></tr></tbody></table></div>"
      ],
      "text/plain": [
       "shape: (2, 5)\n",
       "┌──────────┬──────────┬──────────┬─────────────┬─────────────┐\n",
       "│ Niv_Gr_1 ┆ Niv_Gr_2 ┆ Niv_Gr_3 ┆ Niv_Descr_7 ┆ N_Variables │\n",
       "│ ---      ┆ ---      ┆ ---      ┆ ---         ┆ ---         │\n",
       "│ str      ┆ str      ┆ str      ┆ str         ┆ u32         │\n",
       "╞══════════╪══════════╪══════════╪═════════════╪═════════════╡\n",
       "│ ESE      ┆ CEB      ┆ 01       ┆ Anual       ┆ 33          │\n",
       "│ ESE      ┆ CEB      ┆ 01       ┆ Trimestral  ┆ 33          │\n",
       "└──────────┴──────────┴──────────┴─────────────┴─────────────┘"
      ]
     },
     "execution_count": 103,
     "metadata": {},
     "output_type": "execute_result"
    }
   ],
   "source": [
    "res_nivel_4(\n",
    "    \"ESE\",\"CEB\",\n",
    "    \"Niv_Gr_3\",\n",
    "    \"01\",\n",
    "    \"Niv_Descr_7\")"
   ]
  },
  {
   "cell_type": "markdown",
   "id": "07fbba96",
   "metadata": {},
   "source": [
    "**OJO: \"Niv_Descr_7\" y \"Niv_Descr_8\" son iguales**\n",
    "\n",
    "Para ver todas las variables:\n"
   ]
  },
  {
   "cell_type": "code",
   "execution_count": 104,
   "id": "5a2ea424",
   "metadata": {},
   "outputs": [
    {
     "name": "stderr",
     "output_type": "stream",
     "text": [
      "<string>:29: FutureWarning:\n",
      "\n",
      "Passing literal json to 'read_json' is deprecated and will be removed in a future version. To read from a literal string, wrap it in a 'StringIO' object.\n",
      "\n"
     ]
    },
    {
     "data": {
      "text/html": [
       "<div><style>\n",
       ".dataframe > thead > tr,\n",
       ".dataframe > tbody > tr {\n",
       "  text-align: right;\n",
       "  white-space: pre-wrap;\n",
       "}\n",
       "</style>\n",
       "<small>shape: (66, 8)</small><table border=\"1\" class=\"dataframe\"><thead><tr><th>Niv_Gr_1</th><th>Niv_Gr_2</th><th>Niv_Gr_3</th><th>Id</th><th>Niv_Descr_5</th><th>Niv_Descr_6</th><th>Niv_Descr_7</th><th>N_Variables</th></tr><tr><td>str</td><td>str</td><td>str</td><td>i64</td><td>str</td><td>str</td><td>str</td><td>u32</td></tr></thead><tbody><tr><td>&quot;ESE&quot;</td><td>&quot;CEB&quot;</td><td>&quot;01&quot;</td><td>433</td><td>&quot;Camarones&quot;</td><td>&quot;Valor&quot;</td><td>&quot;Trimestral&quot;</td><td>1</td></tr><tr><td>&quot;ESE&quot;</td><td>&quot;CEB&quot;</td><td>&quot;01&quot;</td><td>449</td><td>&quot;Legumbres y Ho…</td><td>&quot;Precio&quot;</td><td>&quot;Trimestral&quot;</td><td>1</td></tr><tr><td>&quot;ESE&quot;</td><td>&quot;CEB&quot;</td><td>&quot;01&quot;</td><td>456</td><td>&quot;Textiles&quot;</td><td>&quot;Valor&quot;</td><td>&quot;Anual&quot;</td><td>1</td></tr><tr><td>&quot;ESE&quot;</td><td>&quot;CEB&quot;</td><td>&quot;01&quot;</td><td>467</td><td>&quot;Jabones&quot;</td><td>&quot;Precio&quot;</td><td>&quot;Anual&quot;</td><td>1</td></tr><tr><td>&quot;ESE&quot;</td><td>&quot;CEB&quot;</td><td>&quot;01&quot;</td><td>427</td><td>&quot;Aceite de Palm…</td><td>&quot;Valor&quot;</td><td>&quot;Trimestral&quot;</td><td>1</td></tr><tr><td>&hellip;</td><td>&hellip;</td><td>&hellip;</td><td>&hellip;</td><td>&hellip;</td><td>&hellip;</td><td>&hellip;</td><td>&hellip;</td></tr><tr><td>&quot;ESE&quot;</td><td>&quot;CEB&quot;</td><td>&quot;01&quot;</td><td>450</td><td>&quot;Puros o Cigarr…</td><td>&quot;Valor&quot;</td><td>&quot;Trimestral&quot;</td><td>1</td></tr><tr><td>&quot;ESE&quot;</td><td>&quot;CEB&quot;</td><td>&quot;01&quot;</td><td>461</td><td>&quot;Textiles&quot;</td><td>&quot;Precio&quot;</td><td>&quot;Trimestral&quot;</td><td>1</td></tr><tr><td>&quot;ESE&quot;</td><td>&quot;CEB&quot;</td><td>&quot;01&quot;</td><td>470</td><td>&quot;Plásticos y su…</td><td>&quot;Volumen&quot;</td><td>&quot;Trimestral&quot;</td><td>1</td></tr><tr><td>&quot;ESE&quot;</td><td>&quot;CEB&quot;</td><td>&quot;01&quot;</td><td>477</td><td>&quot;Papel y Cartón…</td><td>&quot;Volumen&quot;</td><td>&quot;Trimestral&quot;</td><td>1</td></tr><tr><td>&quot;ESE&quot;</td><td>&quot;CEB&quot;</td><td>&quot;01&quot;</td><td>478</td><td>&quot;Papel y Cartón…</td><td>&quot;Precio&quot;</td><td>&quot;Trimestral&quot;</td><td>1</td></tr></tbody></table></div>"
      ],
      "text/plain": [
       "shape: (66, 8)\n",
       "┌──────────┬──────────┬──────────┬─────┬─────────────────┬─────────────┬─────────────┬─────────────┐\n",
       "│ Niv_Gr_1 ┆ Niv_Gr_2 ┆ Niv_Gr_3 ┆ Id  ┆ Niv_Descr_5     ┆ Niv_Descr_6 ┆ Niv_Descr_7 ┆ N_Variables │\n",
       "│ ---      ┆ ---      ┆ ---      ┆ --- ┆ ---             ┆ ---         ┆ ---         ┆ ---         │\n",
       "│ str      ┆ str      ┆ str      ┆ i64 ┆ str             ┆ str         ┆ str         ┆ u32         │\n",
       "╞══════════╪══════════╪══════════╪═════╪═════════════════╪═════════════╪═════════════╪═════════════╡\n",
       "│ ESE      ┆ CEB      ┆ 01       ┆ 433 ┆ Camarones       ┆ Valor       ┆ Trimestral  ┆ 1           │\n",
       "│ ESE      ┆ CEB      ┆ 01       ┆ 449 ┆ Legumbres y     ┆ Precio      ┆ Trimestral  ┆ 1           │\n",
       "│          ┆          ┆          ┆     ┆ Hortalizas      ┆             ┆             ┆             │\n",
       "│ ESE      ┆ CEB      ┆ 01       ┆ 456 ┆ Textiles        ┆ Valor       ┆ Anual       ┆ 1           │\n",
       "│ ESE      ┆ CEB      ┆ 01       ┆ 467 ┆ Jabones         ┆ Precio      ┆ Anual       ┆ 1           │\n",
       "│ ESE      ┆ CEB      ┆ 01       ┆ 427 ┆ Aceite de Palma ┆ Valor       ┆ Trimestral  ┆ 1           │\n",
       "│ …        ┆ …        ┆ …        ┆ …   ┆ …               ┆ …           ┆ …           ┆ …           │\n",
       "│ ESE      ┆ CEB      ┆ 01       ┆ 450 ┆ Puros o         ┆ Valor       ┆ Trimestral  ┆ 1           │\n",
       "│          ┆          ┆          ┆     ┆ Cigarros        ┆             ┆             ┆             │\n",
       "│ ESE      ┆ CEB      ┆ 01       ┆ 461 ┆ Textiles        ┆ Precio      ┆ Trimestral  ┆ 1           │\n",
       "│ ESE      ┆ CEB      ┆ 01       ┆ 470 ┆ Plásticos y su  ┆ Volumen     ┆ Trimestral  ┆ 1           │\n",
       "│          ┆          ┆          ┆     ┆ Manufacturas    ┆             ┆             ┆             │\n",
       "│ ESE      ┆ CEB      ┆ 01       ┆ 477 ┆ Papel y Cartón  ┆ Volumen     ┆ Trimestral  ┆ 1           │\n",
       "│ ESE      ┆ CEB      ┆ 01       ┆ 478 ┆ Papel y Cartón  ┆ Precio      ┆ Trimestral  ┆ 1           │\n",
       "└──────────┴──────────┴──────────┴─────┴─────────────────┴─────────────┴─────────────┴─────────────┘"
      ]
     },
     "execution_count": 104,
     "metadata": {},
     "output_type": "execute_result"
    }
   ],
   "source": [
    "res_nivel_7(\n",
    "    \"ESE\",\"CEB\",\n",
    "    \"Niv_Gr_3\",\n",
    "    \"01\",\"Id\",\"Niv_Descr_5\",\"Niv_Descr_6\",\"Niv_Descr_7\")"
   ]
  },
  {
   "cell_type": "markdown",
   "id": "ad3cd327",
   "metadata": {},
   "source": [
    "Resultados de una sola variable:\n"
   ]
  },
  {
   "cell_type": "code",
   "execution_count": 105,
   "id": "f5afad8b",
   "metadata": {},
   "outputs": [
    {
     "name": "stderr",
     "output_type": "stream",
     "text": [
      "<string>:29: FutureWarning:\n",
      "\n",
      "Passing literal json to 'read_json' is deprecated and will be removed in a future version. To read from a literal string, wrap it in a 'StringIO' object.\n",
      "\n"
     ]
    },
    {
     "name": "stderr",
     "output_type": "stream",
     "text": [
      "<string>:29: FutureWarning:\n",
      "\n",
      "Passing literal json to 'read_json' is deprecated and will be removed in a future version. To read from a literal string, wrap it in a 'StringIO' object.\n",
      "\n"
     ]
    },
    {
     "data": {
      "text/html": [
       "<div><style>\n",
       ".dataframe > thead > tr,\n",
       ".dataframe > tbody > tr {\n",
       "  text-align: right;\n",
       "  white-space: pre-wrap;\n",
       "}\n",
       "</style>\n",
       "<small>shape: (80, 2)</small><table border=\"1\" class=\"dataframe\"><thead><tr><th>Fecha</th><th>ESE-CEB-01-28-Melones y Sandías-Volumen-Trimestral-Trimestral</th></tr><tr><td>date</td><td>f64</td></tr></thead><tbody><tr><td>2004-03-01</td><td>102961.3</td></tr><tr><td>2004-06-01</td><td>77639.6</td></tr><tr><td>2004-09-01</td><td>740.8</td></tr><tr><td>2004-12-01</td><td>15063.9</td></tr><tr><td>2005-03-01</td><td>108685.4</td></tr><tr><td>&hellip;</td><td>&hellip;</td></tr><tr><td>2022-12-01</td><td>3618.1</td></tr><tr><td>2023-03-01</td><td>123855.4</td></tr><tr><td>2023-06-01</td><td>71660.4</td></tr><tr><td>2023-09-01</td><td>8101.3</td></tr><tr><td>2023-12-01</td><td>4023.5</td></tr></tbody></table></div>"
      ],
      "text/plain": [
       "shape: (80, 2)\n",
       "┌────────────┬───────────────────────────────────┐\n",
       "│ Fecha      ┆ ESE-CEB-01-28-Melones y Sandías-… │\n",
       "│ ---        ┆ ---                               │\n",
       "│ date       ┆ f64                               │\n",
       "╞════════════╪═══════════════════════════════════╡\n",
       "│ 2004-03-01 ┆ 102961.3                          │\n",
       "│ 2004-06-01 ┆ 77639.6                           │\n",
       "│ 2004-09-01 ┆ 740.8                             │\n",
       "│ 2004-12-01 ┆ 15063.9                           │\n",
       "│ 2005-03-01 ┆ 108685.4                          │\n",
       "│ …          ┆ …                                 │\n",
       "│ 2022-12-01 ┆ 3618.1                            │\n",
       "│ 2023-03-01 ┆ 123855.4                          │\n",
       "│ 2023-06-01 ┆ 71660.4                           │\n",
       "│ 2023-09-01 ┆ 8101.3                            │\n",
       "│ 2023-12-01 ┆ 4023.5                            │\n",
       "└────────────┴───────────────────────────────────┘"
      ]
     },
     "execution_count": 105,
     "metadata": {},
     "output_type": "execute_result"
    }
   ],
   "source": [
    "Id = 441\n",
    "df = get_df(Id)\n",
    "# get_plot(Id)\n",
    "df"
   ]
  },
  {
   "cell_type": "markdown",
   "id": "b5c9306c",
   "metadata": {},
   "source": [
    "##### 02 - Combustibles\n",
    "\n",
    "* Gasolina regular\n",
    "* Bunker\n",
    "* Diesel\n",
    "* Total combustibles\n",
    "* Gasolina superior\n",
    "* Kerosene\n",
    "* LPG\n"
   ]
  },
  {
   "cell_type": "code",
   "execution_count": 106,
   "id": "b2ce8231",
   "metadata": {},
   "outputs": [
    {
     "name": "stderr",
     "output_type": "stream",
     "text": [
      "<string>:29: FutureWarning:\n",
      "\n",
      "Passing literal json to 'read_json' is deprecated and will be removed in a future version. To read from a literal string, wrap it in a 'StringIO' object.\n",
      "\n"
     ]
    },
    {
     "data": {
      "text/html": [
       "<div><style>\n",
       ".dataframe > thead > tr,\n",
       ".dataframe > tbody > tr {\n",
       "  text-align: right;\n",
       "  white-space: pre-wrap;\n",
       "}\n",
       "</style>\n",
       "<small>shape: (7, 5)</small><table border=\"1\" class=\"dataframe\"><thead><tr><th>Niv_Gr_1</th><th>Niv_Gr_2</th><th>Niv_Gr_3</th><th>Niv_Descr_5</th><th>N_Variables</th></tr><tr><td>str</td><td>str</td><td>str</td><td>str</td><td>u32</td></tr></thead><tbody><tr><td>&quot;ESE&quot;</td><td>&quot;CEB&quot;</td><td>&quot;02&quot;</td><td>&quot;Bunker&quot;</td><td>3</td></tr><tr><td>&quot;ESE&quot;</td><td>&quot;CEB&quot;</td><td>&quot;02&quot;</td><td>&quot;Diésel&quot;</td><td>3</td></tr><tr><td>&quot;ESE&quot;</td><td>&quot;CEB&quot;</td><td>&quot;02&quot;</td><td>&quot;Kerosene&quot;</td><td>3</td></tr><tr><td>&quot;ESE&quot;</td><td>&quot;CEB&quot;</td><td>&quot;02&quot;</td><td>&quot;LPG&quot;</td><td>3</td></tr><tr><td>&quot;ESE&quot;</td><td>&quot;CEB&quot;</td><td>&quot;02&quot;</td><td>&quot;Gasolina regul…</td><td>3</td></tr><tr><td>&quot;ESE&quot;</td><td>&quot;CEB&quot;</td><td>&quot;02&quot;</td><td>&quot;Gasolina super…</td><td>3</td></tr><tr><td>&quot;ESE&quot;</td><td>&quot;CEB&quot;</td><td>&quot;02&quot;</td><td>&quot;Total combusti…</td><td>3</td></tr></tbody></table></div>"
      ],
      "text/plain": [
       "shape: (7, 5)\n",
       "┌──────────┬──────────┬──────────┬────────────────────┬─────────────┐\n",
       "│ Niv_Gr_1 ┆ Niv_Gr_2 ┆ Niv_Gr_3 ┆ Niv_Descr_5        ┆ N_Variables │\n",
       "│ ---      ┆ ---      ┆ ---      ┆ ---                ┆ ---         │\n",
       "│ str      ┆ str      ┆ str      ┆ str                ┆ u32         │\n",
       "╞══════════╪══════════╪══════════╪════════════════════╪═════════════╡\n",
       "│ ESE      ┆ CEB      ┆ 02       ┆ Bunker             ┆ 3           │\n",
       "│ ESE      ┆ CEB      ┆ 02       ┆ Diésel             ┆ 3           │\n",
       "│ ESE      ┆ CEB      ┆ 02       ┆ Kerosene           ┆ 3           │\n",
       "│ ESE      ┆ CEB      ┆ 02       ┆ LPG                ┆ 3           │\n",
       "│ ESE      ┆ CEB      ┆ 02       ┆ Gasolina regular   ┆ 3           │\n",
       "│ ESE      ┆ CEB      ┆ 02       ┆ Gasolina superior  ┆ 3           │\n",
       "│ ESE      ┆ CEB      ┆ 02       ┆ Total combustibles ┆ 3           │\n",
       "└──────────┴──────────┴──────────┴────────────────────┴─────────────┘"
      ]
     },
     "execution_count": 106,
     "metadata": {},
     "output_type": "execute_result"
    }
   ],
   "source": [
    "res_nivel_4(\n",
    "    \"ESE\",\"CEB\",\n",
    "    \"Niv_Gr_3\",\n",
    "    \"02\",\n",
    "    \"Niv_Descr_5\")"
   ]
  },
  {
   "cell_type": "markdown",
   "id": "b8f4097a",
   "metadata": {},
   "source": [
    "* Barriles\n",
    "* Valor\n",
    "* Precio\n"
   ]
  },
  {
   "cell_type": "code",
   "execution_count": 107,
   "id": "73c73111",
   "metadata": {},
   "outputs": [
    {
     "name": "stderr",
     "output_type": "stream",
     "text": [
      "<string>:29: FutureWarning:\n",
      "\n",
      "Passing literal json to 'read_json' is deprecated and will be removed in a future version. To read from a literal string, wrap it in a 'StringIO' object.\n",
      "\n"
     ]
    },
    {
     "data": {
      "text/html": [
       "<div><style>\n",
       ".dataframe > thead > tr,\n",
       ".dataframe > tbody > tr {\n",
       "  text-align: right;\n",
       "  white-space: pre-wrap;\n",
       "}\n",
       "</style>\n",
       "<small>shape: (3, 5)</small><table border=\"1\" class=\"dataframe\"><thead><tr><th>Niv_Gr_1</th><th>Niv_Gr_2</th><th>Niv_Gr_3</th><th>Niv_Descr_6</th><th>N_Variables</th></tr><tr><td>str</td><td>str</td><td>str</td><td>str</td><td>u32</td></tr></thead><tbody><tr><td>&quot;ESE&quot;</td><td>&quot;CEB&quot;</td><td>&quot;02&quot;</td><td>&quot;Valor&quot;</td><td>7</td></tr><tr><td>&quot;ESE&quot;</td><td>&quot;CEB&quot;</td><td>&quot;02&quot;</td><td>&quot;Precio&quot;</td><td>7</td></tr><tr><td>&quot;ESE&quot;</td><td>&quot;CEB&quot;</td><td>&quot;02&quot;</td><td>&quot;Barriles&quot;</td><td>7</td></tr></tbody></table></div>"
      ],
      "text/plain": [
       "shape: (3, 5)\n",
       "┌──────────┬──────────┬──────────┬─────────────┬─────────────┐\n",
       "│ Niv_Gr_1 ┆ Niv_Gr_2 ┆ Niv_Gr_3 ┆ Niv_Descr_6 ┆ N_Variables │\n",
       "│ ---      ┆ ---      ┆ ---      ┆ ---         ┆ ---         │\n",
       "│ str      ┆ str      ┆ str      ┆ str         ┆ u32         │\n",
       "╞══════════╪══════════╪══════════╪═════════════╪═════════════╡\n",
       "│ ESE      ┆ CEB      ┆ 02       ┆ Valor       ┆ 7           │\n",
       "│ ESE      ┆ CEB      ┆ 02       ┆ Precio      ┆ 7           │\n",
       "│ ESE      ┆ CEB      ┆ 02       ┆ Barriles    ┆ 7           │\n",
       "└──────────┴──────────┴──────────┴─────────────┴─────────────┘"
      ]
     },
     "execution_count": 107,
     "metadata": {},
     "output_type": "execute_result"
    }
   ],
   "source": [
    "res_nivel_4(\n",
    "    \"ESE\",\"CEB\",\n",
    "    \"Niv_Gr_3\",\n",
    "    \"02\",\n",
    "    \"Niv_Descr_6\")"
   ]
  },
  {
   "cell_type": "markdown",
   "id": "b0df406e",
   "metadata": {},
   "source": [
    "Para ver todas las variables:\n"
   ]
  },
  {
   "cell_type": "code",
   "execution_count": 108,
   "id": "bc5245c3",
   "metadata": {},
   "outputs": [
    {
     "name": "stderr",
     "output_type": "stream",
     "text": [
      "<string>:29: FutureWarning:\n",
      "\n",
      "Passing literal json to 'read_json' is deprecated and will be removed in a future version. To read from a literal string, wrap it in a 'StringIO' object.\n",
      "\n"
     ]
    },
    {
     "data": {
      "text/html": [
       "<div><style>\n",
       ".dataframe > thead > tr,\n",
       ".dataframe > tbody > tr {\n",
       "  text-align: right;\n",
       "  white-space: pre-wrap;\n",
       "}\n",
       "</style>\n",
       "<small>shape: (21, 8)</small><table border=\"1\" class=\"dataframe\"><thead><tr><th>Niv_Gr_1</th><th>Niv_Gr_2</th><th>Niv_Gr_3</th><th>Id</th><th>Nombre</th><th>Niv_Descr_5</th><th>Niv_Descr_6</th><th>N_Variables</th></tr><tr><td>str</td><td>str</td><td>str</td><td>i64</td><td>str</td><td>str</td><td>str</td><td>u32</td></tr></thead><tbody><tr><td>&quot;ESE&quot;</td><td>&quot;CEB&quot;</td><td>&quot;02&quot;</td><td>504</td><td>&quot;ESE-CEB-02-16&quot;</td><td>&quot;Total combusti…</td><td>&quot;Valor&quot;</td><td>1</td></tr><tr><td>&quot;ESE&quot;</td><td>&quot;CEB&quot;</td><td>&quot;02&quot;</td><td>501</td><td>&quot;ESE-CEB-02-13&quot;</td><td>&quot;Total combusti…</td><td>&quot;Precio&quot;</td><td>1</td></tr><tr><td>&quot;ESE&quot;</td><td>&quot;CEB&quot;</td><td>&quot;02&quot;</td><td>513</td><td>&quot;ESE-CEB-02-5&quot;</td><td>&quot;Kerosene&quot;</td><td>&quot;Barriles&quot;</td><td>1</td></tr><tr><td>&quot;ESE&quot;</td><td>&quot;CEB&quot;</td><td>&quot;02&quot;</td><td>516</td><td>&quot;ESE-CEB-02-8&quot;</td><td>&quot;LPG&quot;</td><td>&quot;Precio&quot;</td><td>1</td></tr><tr><td>&quot;ESE&quot;</td><td>&quot;CEB&quot;</td><td>&quot;02&quot;</td><td>498</td><td>&quot;ESE-CEB-02-10&quot;</td><td>&quot;Bunker&quot;</td><td>&quot;Precio&quot;</td><td>1</td></tr><tr><td>&hellip;</td><td>&hellip;</td><td>&hellip;</td><td>&hellip;</td><td>&hellip;</td><td>&hellip;</td><td>&hellip;</td><td>&hellip;</td></tr><tr><td>&quot;ESE&quot;</td><td>&quot;CEB&quot;</td><td>&quot;02&quot;</td><td>514</td><td>&quot;ESE-CEB-02-6&quot;</td><td>&quot;Bunker&quot;</td><td>&quot;Barriles&quot;</td><td>1</td></tr><tr><td>&quot;ESE&quot;</td><td>&quot;CEB&quot;</td><td>&quot;02&quot;</td><td>499</td><td>&quot;ESE-CEB-02-11&quot;</td><td>&quot;Gasolina regul…</td><td>&quot;Precio&quot;</td><td>1</td></tr><tr><td>&quot;ESE&quot;</td><td>&quot;CEB&quot;</td><td>&quot;02&quot;</td><td>506</td><td>&quot;ESE-CEB-02-18&quot;</td><td>&quot;Bunker&quot;</td><td>&quot;Valor&quot;</td><td>1</td></tr><tr><td>&quot;ESE&quot;</td><td>&quot;CEB&quot;</td><td>&quot;02&quot;</td><td>503</td><td>&quot;ESE-CEB-02-15&quot;</td><td>&quot;Kerosene&quot;</td><td>&quot;Valor&quot;</td><td>1</td></tr><tr><td>&quot;ESE&quot;</td><td>&quot;CEB&quot;</td><td>&quot;02&quot;</td><td>509</td><td>&quot;ESE-CEB-02-20&quot;</td><td>&quot;Gasolina regul…</td><td>&quot;Valor&quot;</td><td>1</td></tr></tbody></table></div>"
      ],
      "text/plain": [
       "shape: (21, 8)\n",
       "┌──────────┬──────────┬──────────┬─────┬───────────────┬───────────────┬─────────────┬─────────────┐\n",
       "│ Niv_Gr_1 ┆ Niv_Gr_2 ┆ Niv_Gr_3 ┆ Id  ┆ Nombre        ┆ Niv_Descr_5   ┆ Niv_Descr_6 ┆ N_Variables │\n",
       "│ ---      ┆ ---      ┆ ---      ┆ --- ┆ ---           ┆ ---           ┆ ---         ┆ ---         │\n",
       "│ str      ┆ str      ┆ str      ┆ i64 ┆ str           ┆ str           ┆ str         ┆ u32         │\n",
       "╞══════════╪══════════╪══════════╪═════╪═══════════════╪═══════════════╪═════════════╪═════════════╡\n",
       "│ ESE      ┆ CEB      ┆ 02       ┆ 504 ┆ ESE-CEB-02-16 ┆ Total         ┆ Valor       ┆ 1           │\n",
       "│          ┆          ┆          ┆     ┆               ┆ combustibles  ┆             ┆             │\n",
       "│ ESE      ┆ CEB      ┆ 02       ┆ 501 ┆ ESE-CEB-02-13 ┆ Total         ┆ Precio      ┆ 1           │\n",
       "│          ┆          ┆          ┆     ┆               ┆ combustibles  ┆             ┆             │\n",
       "│ ESE      ┆ CEB      ┆ 02       ┆ 513 ┆ ESE-CEB-02-5  ┆ Kerosene      ┆ Barriles    ┆ 1           │\n",
       "│ ESE      ┆ CEB      ┆ 02       ┆ 516 ┆ ESE-CEB-02-8  ┆ LPG           ┆ Precio      ┆ 1           │\n",
       "│ ESE      ┆ CEB      ┆ 02       ┆ 498 ┆ ESE-CEB-02-10 ┆ Bunker        ┆ Precio      ┆ 1           │\n",
       "│ …        ┆ …        ┆ …        ┆ …   ┆ …             ┆ …             ┆ …           ┆ …           │\n",
       "│ ESE      ┆ CEB      ┆ 02       ┆ 514 ┆ ESE-CEB-02-6  ┆ Bunker        ┆ Barriles    ┆ 1           │\n",
       "│ ESE      ┆ CEB      ┆ 02       ┆ 499 ┆ ESE-CEB-02-11 ┆ Gasolina      ┆ Precio      ┆ 1           │\n",
       "│          ┆          ┆          ┆     ┆               ┆ regular       ┆             ┆             │\n",
       "│ ESE      ┆ CEB      ┆ 02       ┆ 506 ┆ ESE-CEB-02-18 ┆ Bunker        ┆ Valor       ┆ 1           │\n",
       "│ ESE      ┆ CEB      ┆ 02       ┆ 503 ┆ ESE-CEB-02-15 ┆ Kerosene      ┆ Valor       ┆ 1           │\n",
       "│ ESE      ┆ CEB      ┆ 02       ┆ 509 ┆ ESE-CEB-02-20 ┆ Gasolina      ┆ Valor       ┆ 1           │\n",
       "│          ┆          ┆          ┆     ┆               ┆ regular       ┆             ┆             │\n",
       "└──────────┴──────────┴──────────┴─────┴───────────────┴───────────────┴─────────────┴─────────────┘"
      ]
     },
     "execution_count": 108,
     "metadata": {},
     "output_type": "execute_result"
    }
   ],
   "source": [
    "res_nivel_7(\n",
    "    \"ESE\",\"CEB\",\n",
    "    \"Niv_Gr_3\",\n",
    "    \"02\",\"Id\",\"Nombre\",\"Niv_Descr_5\",\"Niv_Descr_6\")"
   ]
  },
  {
   "cell_type": "markdown",
   "id": "ad821688",
   "metadata": {},
   "source": [
    "Resultados de una sola variable:\n"
   ]
  },
  {
   "cell_type": "code",
   "execution_count": 109,
   "id": "4a7f4f90",
   "metadata": {},
   "outputs": [
    {
     "name": "stderr",
     "output_type": "stream",
     "text": [
      "<string>:29: FutureWarning:\n",
      "\n",
      "Passing literal json to 'read_json' is deprecated and will be removed in a future version. To read from a literal string, wrap it in a 'StringIO' object.\n",
      "\n"
     ]
    },
    {
     "name": "stderr",
     "output_type": "stream",
     "text": [
      "<string>:29: FutureWarning:\n",
      "\n",
      "Passing literal json to 'read_json' is deprecated and will be removed in a future version. To read from a literal string, wrap it in a 'StringIO' object.\n",
      "\n"
     ]
    },
    {
     "data": {
      "text/html": [
       "<div><style>\n",
       ".dataframe > thead > tr,\n",
       ".dataframe > tbody > tr {\n",
       "  text-align: right;\n",
       "  white-space: pre-wrap;\n",
       "}\n",
       "</style>\n",
       "<small>shape: (96, 2)</small><table border=\"1\" class=\"dataframe\"><thead><tr><th>Fecha</th><th>ESE-CEB-02-15-Kerosene-Valor</th></tr><tr><td>date</td><td>f64</td></tr></thead><tbody><tr><td>2016-01-01</td><td>1921.3</td></tr><tr><td>2016-02-01</td><td>1461.25</td></tr><tr><td>2016-03-01</td><td>3450.34</td></tr><tr><td>2016-04-01</td><td>1781.63</td></tr><tr><td>2016-05-01</td><td>3786.19</td></tr><tr><td>&hellip;</td><td>&hellip;</td></tr><tr><td>2023-08-01</td><td>9865.51</td></tr><tr><td>2023-09-01</td><td>6111.43</td></tr><tr><td>2023-10-01</td><td>4686.2</td></tr><tr><td>2023-11-01</td><td>8071.3</td></tr><tr><td>2023-12-01</td><td>2757.78</td></tr></tbody></table></div>"
      ],
      "text/plain": [
       "shape: (96, 2)\n",
       "┌────────────┬──────────────────────────────┐\n",
       "│ Fecha      ┆ ESE-CEB-02-15-Kerosene-Valor │\n",
       "│ ---        ┆ ---                          │\n",
       "│ date       ┆ f64                          │\n",
       "╞════════════╪══════════════════════════════╡\n",
       "│ 2016-01-01 ┆ 1921.3                       │\n",
       "│ 2016-02-01 ┆ 1461.25                      │\n",
       "│ 2016-03-01 ┆ 3450.34                      │\n",
       "│ 2016-04-01 ┆ 1781.63                      │\n",
       "│ 2016-05-01 ┆ 3786.19                      │\n",
       "│ …          ┆ …                            │\n",
       "│ 2023-08-01 ┆ 9865.51                      │\n",
       "│ 2023-09-01 ┆ 6111.43                      │\n",
       "│ 2023-10-01 ┆ 4686.2                       │\n",
       "│ 2023-11-01 ┆ 8071.3                       │\n",
       "│ 2023-12-01 ┆ 2757.78                      │\n",
       "└────────────┴──────────────────────────────┘"
      ]
     },
     "execution_count": 109,
     "metadata": {},
     "output_type": "execute_result"
    }
   ],
   "source": [
    "Id = 503\n",
    "df = get_df(Id)\n",
    "# get_plot(Id)\n",
    "df"
   ]
  },
  {
   "cell_type": "markdown",
   "id": "7dd84974",
   "metadata": {},
   "source": [
    "##### 03\n",
    "\n",
    "* Importaciones AE \n",
    "* Importaciones BT Sección \n",
    "* Importaciones Secciones \n"
   ]
  },
  {
   "cell_type": "code",
   "execution_count": 110,
   "id": "9254ce21",
   "metadata": {},
   "outputs": [
    {
     "name": "stderr",
     "output_type": "stream",
     "text": [
      "<string>:29: FutureWarning:\n",
      "\n",
      "Passing literal json to 'read_json' is deprecated and will be removed in a future version. To read from a literal string, wrap it in a 'StringIO' object.\n",
      "\n"
     ]
    },
    {
     "data": {
      "text/html": [
       "<div><style>\n",
       ".dataframe > thead > tr,\n",
       ".dataframe > tbody > tr {\n",
       "  text-align: right;\n",
       "  white-space: pre-wrap;\n",
       "}\n",
       "</style>\n",
       "<small>shape: (3, 5)</small><table border=\"1\" class=\"dataframe\"><thead><tr><th>Niv_Gr_1</th><th>Niv_Gr_2</th><th>Niv_Gr_3</th><th>Niv_Descr_1</th><th>N_Variables</th></tr><tr><td>str</td><td>str</td><td>str</td><td>str</td><td>u32</td></tr></thead><tbody><tr><td>&quot;ESE&quot;</td><td>&quot;CEB&quot;</td><td>&quot;03&quot;</td><td>&quot;Importaciones …</td><td>50</td></tr><tr><td>&quot;ESE&quot;</td><td>&quot;CEB&quot;</td><td>&quot;03&quot;</td><td>&quot;Importaciones …</td><td>30</td></tr><tr><td>&quot;ESE&quot;</td><td>&quot;CEB&quot;</td><td>&quot;03&quot;</td><td>&quot;Importaciones …</td><td>13</td></tr></tbody></table></div>"
      ],
      "text/plain": [
       "shape: (3, 5)\n",
       "┌──────────┬──────────┬──────────┬───────────────────────────┬─────────────┐\n",
       "│ Niv_Gr_1 ┆ Niv_Gr_2 ┆ Niv_Gr_3 ┆ Niv_Descr_1               ┆ N_Variables │\n",
       "│ ---      ┆ ---      ┆ ---      ┆ ---                       ┆ ---         │\n",
       "│ str      ┆ str      ┆ str      ┆ str                       ┆ u32         │\n",
       "╞══════════╪══════════╪══════════╪═══════════════════════════╪═════════════╡\n",
       "│ ESE      ┆ CEB      ┆ 03       ┆ Importaciones Secciones   ┆ 50          │\n",
       "│ ESE      ┆ CEB      ┆ 03       ┆ Importaciones AE          ┆ 30          │\n",
       "│ ESE      ┆ CEB      ┆ 03       ┆ Importaciones BT Sección  ┆ 13          │\n",
       "└──────────┴──────────┴──────────┴───────────────────────────┴─────────────┘"
      ]
     },
     "execution_count": 110,
     "metadata": {},
     "output_type": "execute_result"
    }
   ],
   "source": [
    "res_nivel_4(\n",
    "    \"ESE\",\"CEB\",\n",
    "    \"Niv_Gr_3\",\n",
    "    \"03\",\n",
    "    \"Niv_Descr_1\")"
   ]
  },
  {
   "cell_type": "markdown",
   "id": "1fd8eac1",
   "metadata": {},
   "source": [
    "Los dos primeros grupos solamente tienen un nivel de descripción:\n",
    "\n",
    "###### Importaciones AE\n"
   ]
  },
  {
   "cell_type": "code",
   "execution_count": 111,
   "id": "f590ae97",
   "metadata": {},
   "outputs": [
    {
     "name": "stderr",
     "output_type": "stream",
     "text": [
      "<string>:29: FutureWarning:\n",
      "\n",
      "Passing literal json to 'read_json' is deprecated and will be removed in a future version. To read from a literal string, wrap it in a 'StringIO' object.\n",
      "\n"
     ]
    },
    {
     "data": {
      "text/html": [
       "<div><style>\n",
       ".dataframe > thead > tr,\n",
       ".dataframe > tbody > tr {\n",
       "  text-align: right;\n",
       "  white-space: pre-wrap;\n",
       "}\n",
       "</style>\n",
       "<small>shape: (30, 8)</small><table border=\"1\" class=\"dataframe\"><thead><tr><th>Niv_Gr_1</th><th>Niv_Gr_2</th><th>Niv_Gr_3</th><th>Id</th><th>Nombre</th><th>Niv_Descr_1</th><th>Niv_Descr_2</th><th>N_Variables</th></tr><tr><td>str</td><td>str</td><td>str</td><td>i64</td><td>str</td><td>str</td><td>str</td><td>u32</td></tr></thead><tbody><tr><td>&quot;ESE&quot;</td><td>&quot;CEB&quot;</td><td>&quot;03&quot;</td><td>6468</td><td>&quot;ESE-CEB-03-11&quot;</td><td>&quot;Importaciones …</td><td>&quot; 3. Combustibl…</td><td>1</td></tr><tr><td>&quot;ESE&quot;</td><td>&quot;CEB&quot;</td><td>&quot;03&quot;</td><td>6476</td><td>&quot;ESE-CEB-03-19&quot;</td><td>&quot;Importaciones …</td><td>&quot; 5. Equipo de …</td><td>1</td></tr><tr><td>&quot;ESE&quot;</td><td>&quot;CEB&quot;</td><td>&quot;03&quot;</td><td>6484</td><td>&quot;ESE-CEB-03-27&quot;</td><td>&quot;Importaciones …</td><td>&quot; 6.2 Semidurad…</td><td>1</td></tr><tr><td>&quot;ESE&quot;</td><td>&quot;CEB&quot;</td><td>&quot;03&quot;</td><td>6485</td><td>&quot;ESE-CEB-03-28&quot;</td><td>&quot;Importaciones …</td><td>&quot; 6.3 No durade…</td><td>1</td></tr><tr><td>&quot;ESE&quot;</td><td>&quot;CEB&quot;</td><td>&quot;03&quot;</td><td>6487</td><td>&quot;ESE-CEB-03-30&quot;</td><td>&quot;Importaciones …</td><td>&quot; 8. Todas las …</td><td>1</td></tr><tr><td>&hellip;</td><td>&hellip;</td><td>&hellip;</td><td>&hellip;</td><td>&hellip;</td><td>&hellip;</td><td>&hellip;</td><td>&hellip;</td></tr><tr><td>&quot;ESE&quot;</td><td>&quot;CEB&quot;</td><td>&quot;03&quot;</td><td>6469</td><td>&quot;ESE-CEB-03-12&quot;</td><td>&quot;Importaciones …</td><td>&quot; 3.1 Sector Pr…</td><td>1</td></tr><tr><td>&quot;ESE&quot;</td><td>&quot;CEB&quot;</td><td>&quot;03&quot;</td><td>6470</td><td>&quot;ESE-CEB-03-13&quot;</td><td>&quot;Importaciones …</td><td>&quot; 3.2 Procesado…</td><td>1</td></tr><tr><td>&quot;ESE&quot;</td><td>&quot;CEB&quot;</td><td>&quot;03&quot;</td><td>6474</td><td>&quot;ESE-CEB-03-17&quot;</td><td>&quot;Importaciones …</td><td>&quot; 4.1 Bienes de…</td><td>1</td></tr><tr><td>&quot;ESE&quot;</td><td>&quot;CEB&quot;</td><td>&quot;03&quot;</td><td>6467</td><td>&quot;ESE-CEB-03-10&quot;</td><td>&quot;Importaciones …</td><td>&quot; 2.2 Procesado…</td><td>1</td></tr><tr><td>&quot;ESE&quot;</td><td>&quot;CEB&quot;</td><td>&quot;03&quot;</td><td>6480</td><td>&quot;ESE-CEB-03-23&quot;</td><td>&quot;Importaciones …</td><td>&quot; 5.2.2 No indu…</td><td>1</td></tr></tbody></table></div>"
      ],
      "text/plain": [
       "shape: (30, 8)\n",
       "┌──────────┬──────────┬──────────┬──────┬──────────────┬──────────────┬──────────────┬─────────────┐\n",
       "│ Niv_Gr_1 ┆ Niv_Gr_2 ┆ Niv_Gr_3 ┆ Id   ┆ Nombre       ┆ Niv_Descr_1  ┆ Niv_Descr_2  ┆ N_Variables │\n",
       "│ ---      ┆ ---      ┆ ---      ┆ ---  ┆ ---          ┆ ---          ┆ ---          ┆ ---         │\n",
       "│ str      ┆ str      ┆ str      ┆ i64  ┆ str          ┆ str          ┆ str          ┆ u32         │\n",
       "╞══════════╪══════════╪══════════╪══════╪══════════════╪══════════════╪══════════════╪═════════════╡\n",
       "│ ESE      ┆ CEB      ┆ 03       ┆ 6468 ┆ ESE-CEB-03-1 ┆ Importacione ┆ 3.           ┆ 1           │\n",
       "│          ┆          ┆          ┆      ┆ 1            ┆ s AE         ┆ Combustibles ┆             │\n",
       "│          ┆          ┆          ┆      ┆              ┆              ┆ y            ┆             │\n",
       "│          ┆          ┆          ┆      ┆              ┆              ┆ lubricantes  ┆             │\n",
       "│ ESE      ┆ CEB      ┆ 03       ┆ 6476 ┆ ESE-CEB-03-1 ┆ Importacione ┆ 5. Equipo de ┆ 1           │\n",
       "│          ┆          ┆          ┆      ┆ 9            ┆ s AE         ┆ transporte,  ┆             │\n",
       "│          ┆          ┆          ┆      ┆              ┆              ┆ sus pa…      ┆             │\n",
       "│ ESE      ┆ CEB      ┆ 03       ┆ 6484 ┆ ESE-CEB-03-2 ┆ Importacione ┆ 6.2 Semidura ┆ 1           │\n",
       "│          ┆          ┆          ┆      ┆ 7            ┆ s AE         ┆ deros        ┆             │\n",
       "│ ESE      ┆ CEB      ┆ 03       ┆ 6485 ┆ ESE-CEB-03-2 ┆ Importacione ┆ 6.3 No       ┆ 1           │\n",
       "│          ┆          ┆          ┆      ┆ 8            ┆ s AE         ┆ duraderos    ┆             │\n",
       "│ ESE      ┆ CEB      ┆ 03       ┆ 6487 ┆ ESE-CEB-03-3 ┆ Importacione ┆ 8. Todas las ┆ 1           │\n",
       "│          ┆          ┆          ┆      ┆ 0            ┆ s AE         ┆ categorías   ┆             │\n",
       "│ …        ┆ …        ┆ …        ┆ …    ┆ …            ┆ …            ┆ …            ┆ …           │\n",
       "│ ESE      ┆ CEB      ┆ 03       ┆ 6469 ┆ ESE-CEB-03-1 ┆ Importacione ┆ 3.1 Sector   ┆ 1           │\n",
       "│          ┆          ┆          ┆      ┆ 2            ┆ s AE         ┆ Primario     ┆             │\n",
       "│ ESE      ┆ CEB      ┆ 03       ┆ 6470 ┆ ESE-CEB-03-1 ┆ Importacione ┆ 3.2          ┆ 1           │\n",
       "│          ┆          ┆          ┆      ┆ 3            ┆ s AE         ┆ Procesados   ┆             │\n",
       "│ ESE      ┆ CEB      ┆ 03       ┆ 6474 ┆ ESE-CEB-03-1 ┆ Importacione ┆ 4.1 Bienes   ┆ 1           │\n",
       "│          ┆          ┆          ┆      ┆ 7            ┆ s AE         ┆ de capital   ┆             │\n",
       "│ ESE      ┆ CEB      ┆ 03       ┆ 6467 ┆ ESE-CEB-03-1 ┆ Importacione ┆ 2.2          ┆ 1           │\n",
       "│          ┆          ┆          ┆      ┆ 0            ┆ s AE         ┆ Procesados   ┆             │\n",
       "│ ESE      ┆ CEB      ┆ 03       ┆ 6480 ┆ ESE-CEB-03-2 ┆ Importacione ┆ 5.2.2 No     ┆ 1           │\n",
       "│          ┆          ┆          ┆      ┆ 3            ┆ s AE         ┆ industrial   ┆             │\n",
       "└──────────┴──────────┴──────────┴──────┴──────────────┴──────────────┴──────────────┴─────────────┘"
      ]
     },
     "execution_count": 111,
     "metadata": {},
     "output_type": "execute_result"
    }
   ],
   "source": [
    "res_nivel_7(\n",
    "    \"ESE\",\"CEB\",\n",
    "    \"Niv_Gr_3\",\n",
    "    \"03\",\"Id\",\"Nombre\",\"Niv_Descr_1\",\"Niv_Descr_2\"\n",
    "    ).filter(\n",
    "    pl.col(\"Niv_Descr_1\") == \"Importaciones AE \")"
   ]
  },
  {
   "cell_type": "markdown",
   "id": "eb4e2da1",
   "metadata": {},
   "source": [
    "###### Importaciones BT Sección \n"
   ]
  },
  {
   "cell_type": "code",
   "execution_count": 112,
   "id": "db96246b",
   "metadata": {},
   "outputs": [
    {
     "name": "stderr",
     "output_type": "stream",
     "text": [
      "<string>:29: FutureWarning:\n",
      "\n",
      "Passing literal json to 'read_json' is deprecated and will be removed in a future version. To read from a literal string, wrap it in a 'StringIO' object.\n",
      "\n"
     ]
    },
    {
     "data": {
      "text/html": [
       "<div><style>\n",
       ".dataframe > thead > tr,\n",
       ".dataframe > tbody > tr {\n",
       "  text-align: right;\n",
       "  white-space: pre-wrap;\n",
       "}\n",
       "</style>\n",
       "<small>shape: (13, 8)</small><table border=\"1\" class=\"dataframe\"><thead><tr><th>Niv_Gr_1</th><th>Niv_Gr_2</th><th>Niv_Gr_3</th><th>Id</th><th>Nombre</th><th>Niv_Descr_1</th><th>Niv_Descr_2</th><th>N_Variables</th></tr><tr><td>str</td><td>str</td><td>str</td><td>i64</td><td>str</td><td>str</td><td>str</td><td>u32</td></tr></thead><tbody><tr><td>&quot;ESE&quot;</td><td>&quot;CEB&quot;</td><td>&quot;03&quot;</td><td>6496</td><td>&quot;ESE-CEB-03-39&quot;</td><td>&quot;Importaciones …</td><td>&quot; 16 Máquinas y…</td><td>1</td></tr><tr><td>&quot;ESE&quot;</td><td>&quot;CEB&quot;</td><td>&quot;03&quot;</td><td>6490</td><td>&quot;ESE-CEB-03-33&quot;</td><td>&quot;Importaciones …</td><td>&quot; 7 Plástico y …</td><td>1</td></tr><tr><td>&quot;ESE&quot;</td><td>&quot;CEB&quot;</td><td>&quot;03&quot;</td><td>6498</td><td>&quot;ESE-CEB-03-41&quot;</td><td>&quot;Importaciones …</td><td>&quot; 18 Instrumene…</td><td>1</td></tr><tr><td>&quot;ESE&quot;</td><td>&quot;CEB&quot;</td><td>&quot;03&quot;</td><td>6494</td><td>&quot;ESE-CEB-03-37&quot;</td><td>&quot;Importaciones …</td><td>&quot; 13 Manufactur…</td><td>1</td></tr><tr><td>&quot;ESE&quot;</td><td>&quot;CEB&quot;</td><td>&quot;03&quot;</td><td>6499</td><td>&quot;ESE-CEB-03-42&quot;</td><td>&quot;Importaciones …</td><td>&quot; 20 Mercancías…</td><td>1</td></tr><tr><td>&hellip;</td><td>&hellip;</td><td>&hellip;</td><td>&hellip;</td><td>&hellip;</td><td>&hellip;</td><td>&hellip;</td><td>&hellip;</td></tr><tr><td>&quot;ESE&quot;</td><td>&quot;CEB&quot;</td><td>&quot;03&quot;</td><td>6488</td><td>&quot;ESE-CEB-03-31&quot;</td><td>&quot;Importaciones …</td><td>&quot; 5 Productos m…</td><td>1</td></tr><tr><td>&quot;ESE&quot;</td><td>&quot;CEB&quot;</td><td>&quot;03&quot;</td><td>6492</td><td>&quot;ESE-CEB-03-35&quot;</td><td>&quot;Importaciones …</td><td>&quot; 10 Pasta de M…</td><td>1</td></tr><tr><td>&quot;ESE&quot;</td><td>&quot;CEB&quot;</td><td>&quot;03&quot;</td><td>6495</td><td>&quot;ESE-CEB-03-38&quot;</td><td>&quot;Importaciones …</td><td>&quot; 15 Metales co…</td><td>1</td></tr><tr><td>&quot;ESE&quot;</td><td>&quot;CEB&quot;</td><td>&quot;03&quot;</td><td>6489</td><td>&quot;ESE-CEB-03-32&quot;</td><td>&quot;Importaciones …</td><td>&quot; 6 Produtos de…</td><td>1</td></tr><tr><td>&quot;ESE&quot;</td><td>&quot;CEB&quot;</td><td>&quot;03&quot;</td><td>6493</td><td>&quot;ESE-CEB-03-36&quot;</td><td>&quot;Importaciones …</td><td>&quot; 11 Materias t…</td><td>1</td></tr></tbody></table></div>"
      ],
      "text/plain": [
       "shape: (13, 8)\n",
       "┌──────────┬──────────┬──────────┬──────┬──────────────┬──────────────┬──────────────┬─────────────┐\n",
       "│ Niv_Gr_1 ┆ Niv_Gr_2 ┆ Niv_Gr_3 ┆ Id   ┆ Nombre       ┆ Niv_Descr_1  ┆ Niv_Descr_2  ┆ N_Variables │\n",
       "│ ---      ┆ ---      ┆ ---      ┆ ---  ┆ ---          ┆ ---          ┆ ---          ┆ ---         │\n",
       "│ str      ┆ str      ┆ str      ┆ i64  ┆ str          ┆ str          ┆ str          ┆ u32         │\n",
       "╞══════════╪══════════╪══════════╪══════╪══════════════╪══════════════╪══════════════╪═════════════╡\n",
       "│ ESE      ┆ CEB      ┆ 03       ┆ 6496 ┆ ESE-CEB-03-3 ┆ Importacione ┆ 16 Máquinas  ┆ 1           │\n",
       "│          ┆          ┆          ┆      ┆ 9            ┆ s BT Sección ┆ y aparatos,  ┆             │\n",
       "│          ┆          ┆          ┆      ┆              ┆              ┆ materia…     ┆             │\n",
       "│ ESE      ┆ CEB      ┆ 03       ┆ 6490 ┆ ESE-CEB-03-3 ┆ Importacione ┆ 7 Plástico y ┆ 1           │\n",
       "│          ┆          ┆          ┆      ┆ 3            ┆ s BT Sección ┆ sus          ┆             │\n",
       "│          ┆          ┆          ┆      ┆              ┆              ┆ manufacturas ┆             │\n",
       "│ ESE      ┆ CEB      ┆ 03       ┆ 6498 ┆ ESE-CEB-03-4 ┆ Importacione ┆ 18 Instrumen ┆ 1           │\n",
       "│          ┆          ┆          ┆      ┆ 1            ┆ s BT Sección ┆ eto. de      ┆             │\n",
       "│          ┆          ┆          ┆      ┆              ┆              ┆ óptica, fot… ┆             │\n",
       "│ ESE      ┆ CEB      ┆ 03       ┆ 6494 ┆ ESE-CEB-03-3 ┆ Importacione ┆ 13           ┆ 1           │\n",
       "│          ┆          ┆          ┆      ┆ 7            ┆ s BT Sección ┆ Manufactura  ┆             │\n",
       "│          ┆          ┆          ┆      ┆              ┆              ┆ de piedra,   ┆             │\n",
       "│          ┆          ┆          ┆      ┆              ┆              ┆ yeso,…       ┆             │\n",
       "│ ESE      ┆ CEB      ┆ 03       ┆ 6499 ┆ ESE-CEB-03-4 ┆ Importacione ┆ 20           ┆ 1           │\n",
       "│          ┆          ┆          ┆      ┆ 2            ┆ s BT Sección ┆ Mercancías y ┆             │\n",
       "│          ┆          ┆          ┆      ┆              ┆              ┆ productos    ┆             │\n",
       "│          ┆          ┆          ┆      ┆              ┆              ┆ diver…       ┆             │\n",
       "│ …        ┆ …        ┆ …        ┆ …    ┆ …            ┆ …            ┆ …            ┆ …           │\n",
       "│ ESE      ┆ CEB      ┆ 03       ┆ 6488 ┆ ESE-CEB-03-3 ┆ Importacione ┆ 5 Productos  ┆ 1           │\n",
       "│          ┆          ┆          ┆      ┆ 1            ┆ s BT Sección ┆ minerales    ┆             │\n",
       "│ ESE      ┆ CEB      ┆ 03       ┆ 6492 ┆ ESE-CEB-03-3 ┆ Importacione ┆ 10 Pasta de  ┆ 1           │\n",
       "│          ┆          ┆          ┆      ┆ 5            ┆ s BT Sección ┆ Madera;      ┆             │\n",
       "│          ┆          ┆          ┆      ┆              ┆              ┆ papel o car… ┆             │\n",
       "│ ESE      ┆ CEB      ┆ 03       ┆ 6495 ┆ ESE-CEB-03-3 ┆ Importacione ┆ 15 Metales   ┆ 1           │\n",
       "│          ┆          ┆          ┆      ┆ 8            ┆ s BT Sección ┆ comunes y    ┆             │\n",
       "│          ┆          ┆          ┆      ┆              ┆              ┆ sus manufa…  ┆             │\n",
       "│ ESE      ┆ CEB      ┆ 03       ┆ 6489 ┆ ESE-CEB-03-3 ┆ Importacione ┆ 6 Produtos   ┆ 1           │\n",
       "│          ┆          ┆          ┆      ┆ 2            ┆ s BT Sección ┆ de           ┆             │\n",
       "│          ┆          ┆          ┆      ┆              ┆              ┆ industrias   ┆             │\n",
       "│          ┆          ┆          ┆      ┆              ┆              ┆ químic…      ┆             │\n",
       "│ ESE      ┆ CEB      ┆ 03       ┆ 6493 ┆ ESE-CEB-03-3 ┆ Importacione ┆ 11 Materias  ┆ 1           │\n",
       "│          ┆          ┆          ┆      ┆ 6            ┆ s BT Sección ┆ textiles y   ┆             │\n",
       "│          ┆          ┆          ┆      ┆              ┆              ┆ sus manu…    ┆             │\n",
       "└──────────┴──────────┴──────────┴──────┴──────────────┴──────────────┴──────────────┴─────────────┘"
      ]
     },
     "execution_count": 112,
     "metadata": {},
     "output_type": "execute_result"
    }
   ],
   "source": [
    "res_nivel_7(\n",
    "    \"ESE\",\"CEB\",\n",
    "    \"Niv_Gr_3\",\n",
    "    \"03\",\"Id\",\"Nombre\",\"Niv_Descr_1\",\"Niv_Descr_2\"\n",
    "    ).filter(\n",
    "    pl.col(\"Niv_Descr_1\") == \"Importaciones BT Sección \")"
   ]
  },
  {
   "cell_type": "markdown",
   "id": "da2cf33c",
   "metadata": {},
   "source": [
    "El tercer grupo tiene dos niveles de descripción\n",
    "\n",
    "###### Importaciones Secciones \n",
    "\n",
    "* Valores en Millones de USD\n",
    "* Peso en Kilos\n"
   ]
  },
  {
   "cell_type": "code",
   "execution_count": 113,
   "id": "f7e72cb0",
   "metadata": {},
   "outputs": [
    {
     "name": "stderr",
     "output_type": "stream",
     "text": [
      "<string>:29: FutureWarning:\n",
      "\n",
      "Passing literal json to 'read_json' is deprecated and will be removed in a future version. To read from a literal string, wrap it in a 'StringIO' object.\n",
      "\n"
     ]
    },
    {
     "data": {
      "text/html": [
       "<div><style>\n",
       ".dataframe > thead > tr,\n",
       ".dataframe > tbody > tr {\n",
       "  text-align: right;\n",
       "  white-space: pre-wrap;\n",
       "}\n",
       "</style>\n",
       "<small>shape: (50, 8)</small><table border=\"1\" class=\"dataframe\"><thead><tr><th>Niv_Gr_1</th><th>Niv_Gr_2</th><th>Niv_Gr_3</th><th>Id</th><th>Niv_Descr_1</th><th>Niv_Descr_2</th><th>Niv_Descr_3</th><th>N_Variables</th></tr><tr><td>str</td><td>str</td><td>str</td><td>i64</td><td>str</td><td>str</td><td>str</td><td>u32</td></tr></thead><tbody><tr><td>&quot;ESE&quot;</td><td>&quot;CEB&quot;</td><td>&quot;03&quot;</td><td>6534</td><td>&quot;Importaciones …</td><td>&quot; Peso en Kilos…</td><td>&quot; 7 Plástico y …</td><td>1</td></tr><tr><td>&quot;ESE&quot;</td><td>&quot;CEB&quot;</td><td>&quot;03&quot;</td><td>6547</td><td>&quot;Importaciones …</td><td>&quot; Peso en Kilos…</td><td>&quot; 20 Mercancía …</td><td>1</td></tr><tr><td>&quot;ESE&quot;</td><td>&quot;CEB&quot;</td><td>&quot;03&quot;</td><td>6506</td><td>&quot;Importaciones …</td><td>&quot; Valores en Mi…</td><td>&quot; 5.1 Combustib…</td><td>1</td></tr><tr><td>&quot;ESE&quot;</td><td>&quot;CEB&quot;</td><td>&quot;03&quot;</td><td>6531</td><td>&quot;Importaciones …</td><td>&quot; Peso en Kilos…</td><td>&quot; 5.1 Combustib…</td><td>1</td></tr><tr><td>&quot;ESE&quot;</td><td>&quot;CEB&quot;</td><td>&quot;03&quot;</td><td>6539</td><td>&quot;Importaciones …</td><td>&quot; Peso en Kilos…</td><td>&quot; 12 Calzado, s…</td><td>1</td></tr><tr><td>&hellip;</td><td>&hellip;</td><td>&hellip;</td><td>&hellip;</td><td>&hellip;</td><td>&hellip;</td><td>&hellip;</td><td>&hellip;</td></tr><tr><td>&quot;ESE&quot;</td><td>&quot;CEB&quot;</td><td>&quot;03&quot;</td><td>6522</td><td>&quot;Importaciones …</td><td>&quot; Valores en Mi…</td><td>&quot; 20 Mercancía …</td><td>1</td></tr><tr><td>&quot;ESE&quot;</td><td>&quot;CEB&quot;</td><td>&quot;03&quot;</td><td>6501</td><td>&quot;Importaciones …</td><td>&quot; Valores en Mi…</td><td>&quot; 1 Animales vi…</td><td>1</td></tr><tr><td>&quot;ESE&quot;</td><td>&quot;CEB&quot;</td><td>&quot;03&quot;</td><td>6507</td><td>&quot;Importaciones …</td><td>&quot; Valores en Mi…</td><td>&quot; 5.2 Otros pro…</td><td>1</td></tr><tr><td>&quot;ESE&quot;</td><td>&quot;CEB&quot;</td><td>&quot;03&quot;</td><td>6516</td><td>&quot;Importaciones …</td><td>&quot; Valores en Mi…</td><td>&quot; 14 Perlas, pi…</td><td>1</td></tr><tr><td>&quot;ESE&quot;</td><td>&quot;CEB&quot;</td><td>&quot;03&quot;</td><td>6523</td><td>&quot;Importaciones …</td><td>&quot; Valores en Mi…</td><td>&quot; 21 Objetos de…</td><td>1</td></tr></tbody></table></div>"
      ],
      "text/plain": [
       "shape: (50, 8)\n",
       "┌──────────┬──────────┬──────────┬──────┬──────────────┬──────────────┬──────────────┬─────────────┐\n",
       "│ Niv_Gr_1 ┆ Niv_Gr_2 ┆ Niv_Gr_3 ┆ Id   ┆ Niv_Descr_1  ┆ Niv_Descr_2  ┆ Niv_Descr_3  ┆ N_Variables │\n",
       "│ ---      ┆ ---      ┆ ---      ┆ ---  ┆ ---          ┆ ---          ┆ ---          ┆ ---         │\n",
       "│ str      ┆ str      ┆ str      ┆ i64  ┆ str          ┆ str          ┆ str          ┆ u32         │\n",
       "╞══════════╪══════════╪══════════╪══════╪══════════════╪══════════════╪══════════════╪═════════════╡\n",
       "│ ESE      ┆ CEB      ┆ 03       ┆ 6534 ┆ Importacione ┆ Peso en      ┆ 7 Plástico y ┆ 1           │\n",
       "│          ┆          ┆          ┆      ┆ s Secciones  ┆ Kilos        ┆ sus          ┆             │\n",
       "│          ┆          ┆          ┆      ┆              ┆              ┆ manufacturas ┆             │\n",
       "│ ESE      ┆ CEB      ┆ 03       ┆ 6547 ┆ Importacione ┆ Peso en      ┆ 20 Mercancía ┆ 1           │\n",
       "│          ┆          ┆          ┆      ┆ s Secciones  ┆ Kilos        ┆ y productos  ┆             │\n",
       "│          ┆          ┆          ┆      ┆              ┆              ┆ divers…      ┆             │\n",
       "│ ESE      ┆ CEB      ┆ 03       ┆ 6506 ┆ Importacione ┆ Valores en   ┆ 5.1 Combusti ┆ 1           │\n",
       "│          ┆          ┆          ┆      ┆ s Secciones  ┆ Millones de  ┆ bles,        ┆             │\n",
       "│          ┆          ┆          ┆      ┆              ┆ USD          ┆ lubricantes  ┆             │\n",
       "│          ┆          ┆          ┆      ┆              ┆              ┆ y…           ┆             │\n",
       "│ ESE      ┆ CEB      ┆ 03       ┆ 6531 ┆ Importacione ┆ Peso en      ┆ 5.1 Combusti ┆ 1           │\n",
       "│          ┆          ┆          ┆      ┆ s Secciones  ┆ Kilos        ┆ bles,        ┆             │\n",
       "│          ┆          ┆          ┆      ┆              ┆              ┆ lubricantes  ┆             │\n",
       "│          ┆          ┆          ┆      ┆              ┆              ┆ y…           ┆             │\n",
       "│ ESE      ┆ CEB      ┆ 03       ┆ 6539 ┆ Importacione ┆ Peso en      ┆ 12 Calzado,  ┆ 1           │\n",
       "│          ┆          ┆          ┆      ┆ s Secciones  ┆ Kilos        ┆ sombreria,   ┆             │\n",
       "│          ┆          ┆          ┆      ┆              ┆              ┆ plumas, …    ┆             │\n",
       "│ …        ┆ …        ┆ …        ┆ …    ┆ …            ┆ …            ┆ …            ┆ …           │\n",
       "│ ESE      ┆ CEB      ┆ 03       ┆ 6522 ┆ Importacione ┆ Valores en   ┆ 20 Mercancía ┆ 1           │\n",
       "│          ┆          ┆          ┆      ┆ s Secciones  ┆ Millones de  ┆ y productos  ┆             │\n",
       "│          ┆          ┆          ┆      ┆              ┆ USD          ┆ divers…      ┆             │\n",
       "│ ESE      ┆ CEB      ┆ 03       ┆ 6501 ┆ Importacione ┆ Valores en   ┆ 1 Animales   ┆ 1           │\n",
       "│          ┆          ┆          ┆      ┆ s Secciones  ┆ Millones de  ┆ vivos y      ┆             │\n",
       "│          ┆          ┆          ┆      ┆              ┆ USD          ┆ productos    ┆             │\n",
       "│          ┆          ┆          ┆      ┆              ┆              ┆ de…          ┆             │\n",
       "│ ESE      ┆ CEB      ┆ 03       ┆ 6507 ┆ Importacione ┆ Valores en   ┆ 5.2 Otros    ┆ 1           │\n",
       "│          ┆          ┆          ┆      ┆ s Secciones  ┆ Millones de  ┆ productos    ┆             │\n",
       "│          ┆          ┆          ┆      ┆              ┆ USD          ┆ minerales    ┆             │\n",
       "│ ESE      ┆ CEB      ┆ 03       ┆ 6516 ┆ Importacione ┆ Valores en   ┆ 14 Perlas,   ┆ 1           │\n",
       "│          ┆          ┆          ┆      ┆ s Secciones  ┆ Millones de  ┆ piedras y    ┆             │\n",
       "│          ┆          ┆          ┆      ┆              ┆ USD          ┆ metales pr…  ┆             │\n",
       "│ ESE      ┆ CEB      ┆ 03       ┆ 6523 ┆ Importacione ┆ Valores en   ┆ 21 Objetos   ┆ 1           │\n",
       "│          ┆          ┆          ┆      ┆ s Secciones  ┆ Millones de  ┆ de arte o    ┆             │\n",
       "│          ┆          ┆          ┆      ┆              ┆ USD          ┆ colección …  ┆             │\n",
       "└──────────┴──────────┴──────────┴──────┴──────────────┴──────────────┴──────────────┴─────────────┘"
      ]
     },
     "execution_count": 113,
     "metadata": {},
     "output_type": "execute_result"
    }
   ],
   "source": [
    "res_nivel_7(\n",
    "    \"ESE\",\"CEB\",\n",
    "    \"Niv_Gr_3\",\n",
    "    \"03\",\"Id\",\"Niv_Descr_1\",\"Niv_Descr_2\",\"Niv_Descr_3\"\n",
    "    ).filter(\n",
    "    pl.col(\"Niv_Descr_1\") == \"Importaciones Secciones \")"
   ]
  },
  {
   "cell_type": "markdown",
   "id": "8ac91e88",
   "metadata": {},
   "source": [
    "Para ver todas las variables:\n"
   ]
  },
  {
   "cell_type": "code",
   "execution_count": 114,
   "id": "3027ea04",
   "metadata": {},
   "outputs": [
    {
     "name": "stderr",
     "output_type": "stream",
     "text": [
      "<string>:29: FutureWarning:\n",
      "\n",
      "Passing literal json to 'read_json' is deprecated and will be removed in a future version. To read from a literal string, wrap it in a 'StringIO' object.\n",
      "\n"
     ]
    },
    {
     "data": {
      "text/html": [
       "<div><style>\n",
       ".dataframe > thead > tr,\n",
       ".dataframe > tbody > tr {\n",
       "  text-align: right;\n",
       "  white-space: pre-wrap;\n",
       "}\n",
       "</style>\n",
       "<small>shape: (93, 8)</small><table border=\"1\" class=\"dataframe\"><thead><tr><th>Niv_Gr_1</th><th>Niv_Gr_2</th><th>Niv_Gr_3</th><th>Id</th><th>Niv_Descr_1</th><th>Niv_Descr_2</th><th>Niv_Descr_3</th><th>N_Variables</th></tr><tr><td>str</td><td>str</td><td>str</td><td>i64</td><td>str</td><td>str</td><td>str</td><td>u32</td></tr></thead><tbody><tr><td>&quot;ESE&quot;</td><td>&quot;CEB&quot;</td><td>&quot;03&quot;</td><td>6483</td><td>&quot;Importaciones …</td><td>&quot; 6.1 Duraderos…</td><td>null</td><td>1</td></tr><tr><td>&quot;ESE&quot;</td><td>&quot;CEB&quot;</td><td>&quot;03&quot;</td><td>6491</td><td>&quot;Importaciones …</td><td>&quot; 9 Madera, car…</td><td>null</td><td>1</td></tr><tr><td>&quot;ESE&quot;</td><td>&quot;CEB&quot;</td><td>&quot;03&quot;</td><td>6496</td><td>&quot;Importaciones …</td><td>&quot; 16 Máquinas y…</td><td>null</td><td>1</td></tr><tr><td>&quot;ESE&quot;</td><td>&quot;CEB&quot;</td><td>&quot;03&quot;</td><td>6518</td><td>&quot;Importaciones …</td><td>&quot; Valores en Mi…</td><td>&quot; 16 Máquinas y…</td><td>1</td></tr><tr><td>&quot;ESE&quot;</td><td>&quot;CEB&quot;</td><td>&quot;03&quot;</td><td>6463</td><td>&quot;Importaciones …</td><td>&quot; 1.2.1 Princip…</td><td>null</td><td>1</td></tr><tr><td>&hellip;</td><td>&hellip;</td><td>&hellip;</td><td>&hellip;</td><td>&hellip;</td><td>&hellip;</td><td>&hellip;</td><td>&hellip;</td></tr><tr><td>&quot;ESE&quot;</td><td>&quot;CEB&quot;</td><td>&quot;03&quot;</td><td>6532</td><td>&quot;Importaciones …</td><td>&quot; Peso en Kilos…</td><td>&quot; 5.2 Otros pro…</td><td>1</td></tr><tr><td>&quot;ESE&quot;</td><td>&quot;CEB&quot;</td><td>&quot;03&quot;</td><td>6538</td><td>&quot;Importaciones …</td><td>&quot; Peso en Kilos…</td><td>&quot; 11 Materias t…</td><td>1</td></tr><tr><td>&quot;ESE&quot;</td><td>&quot;CEB&quot;</td><td>&quot;03&quot;</td><td>6542</td><td>&quot;Importaciones …</td><td>&quot; Peso en Kilos…</td><td>&quot; 15 Metales co…</td><td>1</td></tr><tr><td>&quot;ESE&quot;</td><td>&quot;CEB&quot;</td><td>&quot;03&quot;</td><td>6546</td><td>&quot;Importaciones …</td><td>&quot; Peso en Kilos…</td><td>&quot; 19 Armas y mu…</td><td>1</td></tr><tr><td>&quot;ESE&quot;</td><td>&quot;CEB&quot;</td><td>&quot;03&quot;</td><td>6548</td><td>&quot;Importaciones …</td><td>&quot; Peso en Kilos…</td><td>&quot; 21 Objetos de…</td><td>1</td></tr></tbody></table></div>"
      ],
      "text/plain": [
       "shape: (93, 8)\n",
       "┌──────────┬──────────┬──────────┬──────┬──────────────┬──────────────┬──────────────┬─────────────┐\n",
       "│ Niv_Gr_1 ┆ Niv_Gr_2 ┆ Niv_Gr_3 ┆ Id   ┆ Niv_Descr_1  ┆ Niv_Descr_2  ┆ Niv_Descr_3  ┆ N_Variables │\n",
       "│ ---      ┆ ---      ┆ ---      ┆ ---  ┆ ---          ┆ ---          ┆ ---          ┆ ---         │\n",
       "│ str      ┆ str      ┆ str      ┆ i64  ┆ str          ┆ str          ┆ str          ┆ u32         │\n",
       "╞══════════╪══════════╪══════════╪══════╪══════════════╪══════════════╪══════════════╪═════════════╡\n",
       "│ ESE      ┆ CEB      ┆ 03       ┆ 6483 ┆ Importacione ┆ 6.1          ┆ null         ┆ 1           │\n",
       "│          ┆          ┆          ┆      ┆ s AE         ┆ Duraderos    ┆              ┆             │\n",
       "│ ESE      ┆ CEB      ┆ 03       ┆ 6491 ┆ Importacione ┆ 9 Madera,    ┆ null         ┆ 1           │\n",
       "│          ┆          ┆          ┆      ┆ s BT Sección ┆ carbón       ┆              ┆             │\n",
       "│          ┆          ┆          ┆      ┆              ┆ vegetal y    ┆              ┆             │\n",
       "│          ┆          ┆          ┆      ┆              ┆ manu…        ┆              ┆             │\n",
       "│ ESE      ┆ CEB      ┆ 03       ┆ 6496 ┆ Importacione ┆ 16 Máquinas  ┆ null         ┆ 1           │\n",
       "│          ┆          ┆          ┆      ┆ s BT Sección ┆ y aparatos,  ┆              ┆             │\n",
       "│          ┆          ┆          ┆      ┆              ┆ materia…     ┆              ┆             │\n",
       "│ ESE      ┆ CEB      ┆ 03       ┆ 6518 ┆ Importacione ┆ Valores en   ┆ 16 Máquinas  ┆ 1           │\n",
       "│          ┆          ┆          ┆      ┆ s Secciones  ┆ Millones de  ┆ y aparatos,  ┆             │\n",
       "│          ┆          ┆          ┆      ┆              ┆ USD          ┆ materia…     ┆             │\n",
       "│ ESE      ┆ CEB      ┆ 03       ┆ 6463 ┆ Importacione ┆ 1.2.1 Princi ┆ null         ┆ 1           │\n",
       "│          ┆          ┆          ┆      ┆ s AE         ┆ palmente     ┆              ┆             │\n",
       "│          ┆          ┆          ┆      ┆              ┆ para la in…  ┆              ┆             │\n",
       "│ …        ┆ …        ┆ …        ┆ …    ┆ …            ┆ …            ┆ …            ┆ …           │\n",
       "│ ESE      ┆ CEB      ┆ 03       ┆ 6532 ┆ Importacione ┆ Peso en      ┆ 5.2 Otros    ┆ 1           │\n",
       "│          ┆          ┆          ┆      ┆ s Secciones  ┆ Kilos        ┆ productos    ┆             │\n",
       "│          ┆          ┆          ┆      ┆              ┆              ┆ minerales    ┆             │\n",
       "│ ESE      ┆ CEB      ┆ 03       ┆ 6538 ┆ Importacione ┆ Peso en      ┆ 11 Materias  ┆ 1           │\n",
       "│          ┆          ┆          ┆      ┆ s Secciones  ┆ Kilos        ┆ textiles y   ┆             │\n",
       "│          ┆          ┆          ┆      ┆              ┆              ┆ sus manu…    ┆             │\n",
       "│ ESE      ┆ CEB      ┆ 03       ┆ 6542 ┆ Importacione ┆ Peso en      ┆ 15 Metales   ┆ 1           │\n",
       "│          ┆          ┆          ┆      ┆ s Secciones  ┆ Kilos        ┆ comunes y    ┆             │\n",
       "│          ┆          ┆          ┆      ┆              ┆              ┆ sus manufa…  ┆             │\n",
       "│ ESE      ┆ CEB      ┆ 03       ┆ 6546 ┆ Importacione ┆ Peso en      ┆ 19 Armas y   ┆ 1           │\n",
       "│          ┆          ┆          ┆      ┆ s Secciones  ┆ Kilos        ┆ municiones;  ┆             │\n",
       "│          ┆          ┆          ┆      ┆              ┆              ┆ y sus pa…    ┆             │\n",
       "│ ESE      ┆ CEB      ┆ 03       ┆ 6548 ┆ Importacione ┆ Peso en      ┆ 21 Objetos   ┆ 1           │\n",
       "│          ┆          ┆          ┆      ┆ s Secciones  ┆ Kilos        ┆ de arte o    ┆             │\n",
       "│          ┆          ┆          ┆      ┆              ┆              ┆ colección …  ┆             │\n",
       "└──────────┴──────────┴──────────┴──────┴──────────────┴──────────────┴──────────────┴─────────────┘"
      ]
     },
     "execution_count": 114,
     "metadata": {},
     "output_type": "execute_result"
    }
   ],
   "source": [
    "res_nivel_7(\n",
    "    \"ESE\",\"CEB\",\n",
    "    \"Niv_Gr_3\",\n",
    "    \"03\",\"Id\",\"Niv_Descr_1\",\"Niv_Descr_2\",\"Niv_Descr_3\"\n",
    "    )"
   ]
  },
  {
   "cell_type": "markdown",
   "id": "bfb0a4ed",
   "metadata": {},
   "source": [
    "Resultados de una sola variable:\n"
   ]
  },
  {
   "cell_type": "code",
   "execution_count": 115,
   "id": "56501712",
   "metadata": {},
   "outputs": [
    {
     "name": "stderr",
     "output_type": "stream",
     "text": [
      "<string>:29: FutureWarning:\n",
      "\n",
      "Passing literal json to 'read_json' is deprecated and will be removed in a future version. To read from a literal string, wrap it in a 'StringIO' object.\n",
      "\n"
     ]
    },
    {
     "name": "stderr",
     "output_type": "stream",
     "text": [
      "<string>:29: FutureWarning:\n",
      "\n",
      "Passing literal json to 'read_json' is deprecated and will be removed in a future version. To read from a literal string, wrap it in a 'StringIO' object.\n",
      "\n"
     ]
    },
    {
     "data": {
      "text/html": [
       "<div><style>\n",
       ".dataframe > thead > tr,\n",
       ".dataframe > tbody > tr {\n",
       "  text-align: right;\n",
       "  white-space: pre-wrap;\n",
       "}\n",
       "</style>\n",
       "<small>shape: (36, 2)</small><table border=\"1\" class=\"dataframe\"><thead><tr><th>Fecha</th><th>Importaciones Secciones - Valores en Millones de USD - 15 Metales comunes y sus manufacturas</th></tr><tr><td>date</td><td>f64</td></tr></thead><tbody><tr><td>2021-01-01</td><td>75.2166</td></tr><tr><td>2021-02-01</td><td>72.4471</td></tr><tr><td>2021-03-01</td><td>93.2076</td></tr><tr><td>2021-04-01</td><td>72.5089</td></tr><tr><td>2021-05-01</td><td>120.7819</td></tr><tr><td>&hellip;</td><td>&hellip;</td></tr><tr><td>2023-08-01</td><td>95.8238</td></tr><tr><td>2023-09-01</td><td>114.9642</td></tr><tr><td>2023-10-01</td><td>86.7132</td></tr><tr><td>2023-11-01</td><td>86.1909</td></tr><tr><td>2023-12-01</td><td>89.435</td></tr></tbody></table></div>"
      ],
      "text/plain": [
       "shape: (36, 2)\n",
       "┌────────────┬───────────────────────────────────┐\n",
       "│ Fecha      ┆ Importaciones Secciones - Valore… │\n",
       "│ ---        ┆ ---                               │\n",
       "│ date       ┆ f64                               │\n",
       "╞════════════╪═══════════════════════════════════╡\n",
       "│ 2021-01-01 ┆ 75.2166                           │\n",
       "│ 2021-02-01 ┆ 72.4471                           │\n",
       "│ 2021-03-01 ┆ 93.2076                           │\n",
       "│ 2021-04-01 ┆ 72.5089                           │\n",
       "│ 2021-05-01 ┆ 120.7819                          │\n",
       "│ …          ┆ …                                 │\n",
       "│ 2023-08-01 ┆ 95.8238                           │\n",
       "│ 2023-09-01 ┆ 114.9642                          │\n",
       "│ 2023-10-01 ┆ 86.7132                           │\n",
       "│ 2023-11-01 ┆ 86.1909                           │\n",
       "│ 2023-12-01 ┆ 89.435                            │\n",
       "└────────────┴───────────────────────────────────┘"
      ]
     },
     "execution_count": 115,
     "metadata": {},
     "output_type": "execute_result"
    }
   ],
   "source": [
    "Id = 6517\n",
    "df = get_df(Id)\n",
    "# get_plot(Id)\n",
    "df"
   ]
  },
  {
   "cell_type": "markdown",
   "id": "95333de0",
   "metadata": {},
   "source": [
    "##### 04 AE y BT\n",
    "\n",
    "* Exportaciones AE\n",
    "* Exportaciones BT\n"
   ]
  },
  {
   "cell_type": "code",
   "execution_count": 116,
   "id": "09341de0",
   "metadata": {},
   "outputs": [
    {
     "name": "stderr",
     "output_type": "stream",
     "text": [
      "<string>:29: FutureWarning:\n",
      "\n",
      "Passing literal json to 'read_json' is deprecated and will be removed in a future version. To read from a literal string, wrap it in a 'StringIO' object.\n",
      "\n"
     ]
    },
    {
     "data": {
      "text/html": [
       "<div><style>\n",
       ".dataframe > thead > tr,\n",
       ".dataframe > tbody > tr {\n",
       "  text-align: right;\n",
       "  white-space: pre-wrap;\n",
       "}\n",
       "</style>\n",
       "<small>shape: (2, 5)</small><table border=\"1\" class=\"dataframe\"><thead><tr><th>Niv_Gr_1</th><th>Niv_Gr_2</th><th>Niv_Gr_3</th><th>Niv_Descr_1</th><th>N_Variables</th></tr><tr><td>str</td><td>str</td><td>str</td><td>str</td><td>u32</td></tr></thead><tbody><tr><td>&quot;ESE&quot;</td><td>&quot;CEB&quot;</td><td>&quot;04&quot;</td><td>&quot;Exportaciones …</td><td>137</td></tr><tr><td>&quot;ESE&quot;</td><td>&quot;CEB&quot;</td><td>&quot;04&quot;</td><td>&quot;Exportaciones …</td><td>22</td></tr></tbody></table></div>"
      ],
      "text/plain": [
       "shape: (2, 5)\n",
       "┌──────────┬──────────┬──────────┬──────────────────┬─────────────┐\n",
       "│ Niv_Gr_1 ┆ Niv_Gr_2 ┆ Niv_Gr_3 ┆ Niv_Descr_1      ┆ N_Variables │\n",
       "│ ---      ┆ ---      ┆ ---      ┆ ---              ┆ ---         │\n",
       "│ str      ┆ str      ┆ str      ┆ str              ┆ u32         │\n",
       "╞══════════╪══════════╪══════════╪══════════════════╪═════════════╡\n",
       "│ ESE      ┆ CEB      ┆ 04       ┆ Exportaciones AE ┆ 137         │\n",
       "│ ESE      ┆ CEB      ┆ 04       ┆ Exportaciones BT ┆ 22          │\n",
       "└──────────┴──────────┴──────────┴──────────────────┴─────────────┘"
      ]
     },
     "execution_count": 116,
     "metadata": {},
     "output_type": "execute_result"
    }
   ],
   "source": [
    "res_nivel_4(\n",
    "    \"ESE\",\"CEB\",\n",
    "    \"Niv_Gr_3\",\n",
    "    \"04\",\n",
    "    \"Niv_Descr_1\")"
   ]
  },
  {
   "cell_type": "markdown",
   "id": "2c499270",
   "metadata": {},
   "source": [
    "* Producto\n",
    "* Grupo Producto\n"
   ]
  },
  {
   "cell_type": "code",
   "execution_count": 117,
   "id": "7cf175bb",
   "metadata": {},
   "outputs": [
    {
     "name": "stderr",
     "output_type": "stream",
     "text": [
      "<string>:29: FutureWarning:\n",
      "\n",
      "Passing literal json to 'read_json' is deprecated and will be removed in a future version. To read from a literal string, wrap it in a 'StringIO' object.\n",
      "\n"
     ]
    },
    {
     "data": {
      "text/html": [
       "<div><style>\n",
       ".dataframe > thead > tr,\n",
       ".dataframe > tbody > tr {\n",
       "  text-align: right;\n",
       "  white-space: pre-wrap;\n",
       "}\n",
       "</style>\n",
       "<small>shape: (2, 5)</small><table border=\"1\" class=\"dataframe\"><thead><tr><th>Niv_Gr_1</th><th>Niv_Gr_2</th><th>Niv_Gr_3</th><th>Niv_Descr_2</th><th>N_Variables</th></tr><tr><td>str</td><td>str</td><td>str</td><td>str</td><td>u32</td></tr></thead><tbody><tr><td>&quot;ESE&quot;</td><td>&quot;CEB&quot;</td><td>&quot;04&quot;</td><td>&quot; Producto &quot;</td><td>137</td></tr><tr><td>&quot;ESE&quot;</td><td>&quot;CEB&quot;</td><td>&quot;04&quot;</td><td>&quot;Grupo Producto…</td><td>22</td></tr></tbody></table></div>"
      ],
      "text/plain": [
       "shape: (2, 5)\n",
       "┌──────────┬──────────┬──────────┬─────────────────┬─────────────┐\n",
       "│ Niv_Gr_1 ┆ Niv_Gr_2 ┆ Niv_Gr_3 ┆ Niv_Descr_2     ┆ N_Variables │\n",
       "│ ---      ┆ ---      ┆ ---      ┆ ---             ┆ ---         │\n",
       "│ str      ┆ str      ┆ str      ┆ str             ┆ u32         │\n",
       "╞══════════╪══════════╪══════════╪═════════════════╪═════════════╡\n",
       "│ ESE      ┆ CEB      ┆ 04       ┆  Producto       ┆ 137         │\n",
       "│ ESE      ┆ CEB      ┆ 04       ┆ Grupo Producto  ┆ 22          │\n",
       "└──────────┴──────────┴──────────┴─────────────────┴─────────────┘"
      ]
     },
     "execution_count": 117,
     "metadata": {},
     "output_type": "execute_result"
    }
   ],
   "source": [
    "res_nivel_4(\n",
    "    \"ESE\",\"CEB\",\n",
    "    \"Niv_Gr_3\",\n",
    "    \"04\",\n",
    "    \"Niv_Descr_2\")"
   ]
  },
  {
   "cell_type": "markdown",
   "id": "ee624016",
   "metadata": {},
   "source": [
    "Para ver todas las variables:\n"
   ]
  },
  {
   "cell_type": "code",
   "execution_count": 118,
   "id": "a62facaf",
   "metadata": {},
   "outputs": [
    {
     "name": "stderr",
     "output_type": "stream",
     "text": [
      "<string>:29: FutureWarning:\n",
      "\n",
      "Passing literal json to 'read_json' is deprecated and will be removed in a future version. To read from a literal string, wrap it in a 'StringIO' object.\n",
      "\n"
     ]
    },
    {
     "data": {
      "text/html": [
       "<div><style>\n",
       ".dataframe > thead > tr,\n",
       ".dataframe > tbody > tr {\n",
       "  text-align: right;\n",
       "  white-space: pre-wrap;\n",
       "}\n",
       "</style>\n",
       "<small>shape: (159, 8)</small><table border=\"1\" class=\"dataframe\"><thead><tr><th>Niv_Gr_1</th><th>Niv_Gr_2</th><th>Niv_Gr_3</th><th>Id</th><th>Niv_Descr_1</th><th>Niv_Descr_2</th><th>Niv_Descr_3</th><th>N_Variables</th></tr><tr><td>str</td><td>str</td><td>str</td><td>i64</td><td>str</td><td>str</td><td>str</td><td>u32</td></tr></thead><tbody><tr><td>&quot;ESE&quot;</td><td>&quot;CEB&quot;</td><td>&quot;04&quot;</td><td>6563</td><td>&quot;Exportaciones …</td><td>&quot; Producto &quot;</td><td>&quot; 1.12 Otras fr…</td><td>1</td></tr><tr><td>&quot;ESE&quot;</td><td>&quot;CEB&quot;</td><td>&quot;04&quot;</td><td>6571</td><td>&quot;Exportaciones …</td><td>&quot; Producto &quot;</td><td>&quot; 1.20 Plátano&quot;</td><td>1</td></tr><tr><td>&quot;ESE&quot;</td><td>&quot;CEB&quot;</td><td>&quot;04&quot;</td><td>6576</td><td>&quot;Exportaciones …</td><td>&quot; Producto &quot;</td><td>&quot; 1.25 Resinas …</td><td>1</td></tr><tr><td>&quot;ESE&quot;</td><td>&quot;CEB&quot;</td><td>&quot;04&quot;</td><td>6580</td><td>&quot;Exportaciones …</td><td>&quot; Producto &quot;</td><td>&quot; 1.29 Sorgo&quot;</td><td>1</td></tr><tr><td>&quot;ESE&quot;</td><td>&quot;CEB&quot;</td><td>&quot;04&quot;</td><td>6615</td><td>&quot;Exportaciones …</td><td>&quot; Producto &quot;</td><td>&quot; 3.28 Cemento,…</td><td>1</td></tr><tr><td>&hellip;</td><td>&hellip;</td><td>&hellip;</td><td>&hellip;</td><td>&hellip;</td><td>&hellip;</td><td>&hellip;</td><td>&hellip;</td></tr><tr><td>&quot;ESE&quot;</td><td>&quot;CEB&quot;</td><td>&quot;04&quot;</td><td>6633</td><td>&quot;Exportaciones …</td><td>&quot; Producto &quot;</td><td>&quot; 3.46 Harina d…</td><td>1</td></tr><tr><td>&quot;ESE&quot;</td><td>&quot;CEB&quot;</td><td>&quot;04&quot;</td><td>6660</td><td>&quot;Exportaciones …</td><td>&quot; Producto &quot;</td><td>&quot; 3.73 Maquinar…</td><td>1</td></tr><tr><td>&quot;ESE&quot;</td><td>&quot;CEB&quot;</td><td>&quot;04&quot;</td><td>6675</td><td>&quot;Exportaciones …</td><td>&quot; Producto &quot;</td><td>&quot; 3.89 Bebidas …</td><td>1</td></tr><tr><td>&quot;ESE&quot;</td><td>&quot;CEB&quot;</td><td>&quot;04&quot;</td><td>6684</td><td>&quot;Exportaciones …</td><td>&quot; Producto &quot;</td><td>&quot; 4 Suministro …</td><td>1</td></tr><tr><td>&quot;ESE&quot;</td><td>&quot;CEB&quot;</td><td>&quot;04&quot;</td><td>6686</td><td>&quot;Exportaciones …</td><td>&quot; Producto &quot;</td><td>&quot; 4.2 Energía e…</td><td>1</td></tr></tbody></table></div>"
      ],
      "text/plain": [
       "shape: (159, 8)\n",
       "┌──────────┬──────────┬──────────┬──────┬───────────────┬─────────────┬──────────────┬─────────────┐\n",
       "│ Niv_Gr_1 ┆ Niv_Gr_2 ┆ Niv_Gr_3 ┆ Id   ┆ Niv_Descr_1   ┆ Niv_Descr_2 ┆ Niv_Descr_3  ┆ N_Variables │\n",
       "│ ---      ┆ ---      ┆ ---      ┆ ---  ┆ ---           ┆ ---         ┆ ---          ┆ ---         │\n",
       "│ str      ┆ str      ┆ str      ┆ i64  ┆ str           ┆ str         ┆ str          ┆ u32         │\n",
       "╞══════════╪══════════╪══════════╪══════╪═══════════════╪═════════════╪══════════════╪═════════════╡\n",
       "│ ESE      ┆ CEB      ┆ 04       ┆ 6563 ┆ Exportaciones ┆  Producto   ┆ 1.12 Otras   ┆ 1           │\n",
       "│          ┆          ┆          ┆      ┆ AE            ┆             ┆ frutas y     ┆             │\n",
       "│          ┆          ┆          ┆      ┆               ┆             ┆ semillas de… ┆             │\n",
       "│ ESE      ┆ CEB      ┆ 04       ┆ 6571 ┆ Exportaciones ┆  Producto   ┆ 1.20 Plátano ┆ 1           │\n",
       "│          ┆          ┆          ┆      ┆ AE            ┆             ┆              ┆             │\n",
       "│ ESE      ┆ CEB      ┆ 04       ┆ 6576 ┆ Exportaciones ┆  Producto   ┆ 1.25 Resinas ┆ 1           │\n",
       "│          ┆          ┆          ┆      ┆ AE            ┆             ┆ y caucho     ┆             │\n",
       "│          ┆          ┆          ┆      ┆               ┆             ┆ natural      ┆             │\n",
       "│ ESE      ┆ CEB      ┆ 04       ┆ 6580 ┆ Exportaciones ┆  Producto   ┆  1.29 Sorgo  ┆ 1           │\n",
       "│          ┆          ┆          ┆      ┆ AE            ┆             ┆              ┆             │\n",
       "│ ESE      ┆ CEB      ┆ 04       ┆ 6615 ┆ Exportaciones ┆  Producto   ┆ 3.28         ┆ 1           │\n",
       "│          ┆          ┆          ┆      ┆ AE            ┆             ┆ Cemento,     ┆             │\n",
       "│          ┆          ┆          ┆      ┆               ┆             ┆ yeso, cal y  ┆             │\n",
       "│          ┆          ┆          ┆      ┆               ┆             ┆ Clink…       ┆             │\n",
       "│ …        ┆ …        ┆ …        ┆ …    ┆ …             ┆ …           ┆ …            ┆ …           │\n",
       "│ ESE      ┆ CEB      ┆ 04       ┆ 6633 ┆ Exportaciones ┆  Producto   ┆ 3.46 Harina  ┆ 1           │\n",
       "│          ┆          ┆          ┆      ┆ AE            ┆             ┆ de maíz      ┆             │\n",
       "│ ESE      ┆ CEB      ┆ 04       ┆ 6660 ┆ Exportaciones ┆  Producto   ┆ 3.73         ┆ 1           │\n",
       "│          ┆          ┆          ┆      ┆ AE            ┆             ┆ Maquinaria   ┆             │\n",
       "│          ┆          ┆          ┆      ┆               ┆             ┆ para la      ┆             │\n",
       "│          ┆          ┆          ┆      ┆               ┆             ┆ minería…     ┆             │\n",
       "│ ESE      ┆ CEB      ┆ 04       ┆ 6675 ┆ Exportaciones ┆  Producto   ┆ 3.89 Bebidas ┆ 1           │\n",
       "│          ┆          ┆          ┆      ┆ AE            ┆             ┆ alcohólicas  ┆             │\n",
       "│          ┆          ┆          ┆      ┆               ┆             ┆ destil…      ┆             │\n",
       "│ ESE      ┆ CEB      ┆ 04       ┆ 6684 ┆ Exportaciones ┆  Producto   ┆ 4 Suministro ┆ 1           │\n",
       "│          ┆          ┆          ┆      ┆ AE            ┆             ┆ de Energia y ┆             │\n",
       "│          ┆          ┆          ┆      ┆               ┆             ┆ Recup…       ┆             │\n",
       "│ ESE      ┆ CEB      ┆ 04       ┆ 6686 ┆ Exportaciones ┆  Producto   ┆ 4.2 Energía  ┆ 1           │\n",
       "│          ┆          ┆          ┆      ┆ AE            ┆             ┆ eléctrica    ┆             │\n",
       "└──────────┴──────────┴──────────┴──────┴───────────────┴─────────────┴──────────────┴─────────────┘"
      ]
     },
     "execution_count": 118,
     "metadata": {},
     "output_type": "execute_result"
    }
   ],
   "source": [
    "res_nivel_7(\n",
    "    \"ESE\",\"CEB\",\n",
    "    \"Niv_Gr_3\",\n",
    "    \"04\",\"Id\",\"Niv_Descr_1\",\"Niv_Descr_2\",\"Niv_Descr_3\")"
   ]
  },
  {
   "cell_type": "markdown",
   "id": "d59d94b4",
   "metadata": {},
   "source": [
    "Resultados de una sola variable:\n"
   ]
  },
  {
   "cell_type": "code",
   "execution_count": 119,
   "id": "d2a1edae",
   "metadata": {},
   "outputs": [
    {
     "name": "stderr",
     "output_type": "stream",
     "text": [
      "<string>:29: FutureWarning:\n",
      "\n",
      "Passing literal json to 'read_json' is deprecated and will be removed in a future version. To read from a literal string, wrap it in a 'StringIO' object.\n",
      "\n"
     ]
    },
    {
     "name": "stderr",
     "output_type": "stream",
     "text": [
      "<string>:29: FutureWarning:\n",
      "\n",
      "Passing literal json to 'read_json' is deprecated and will be removed in a future version. To read from a literal string, wrap it in a 'StringIO' object.\n",
      "\n"
     ]
    },
    {
     "data": {
      "text/html": [
       "<div><style>\n",
       ".dataframe > thead > tr,\n",
       ".dataframe > tbody > tr {\n",
       "  text-align: right;\n",
       "  white-space: pre-wrap;\n",
       "}\n",
       "</style>\n",
       "<small>shape: (36, 2)</small><table border=\"1\" class=\"dataframe\"><thead><tr><th>Fecha</th><th>Exportaciones AE- Producto - 1.3 Otras hortalizas, legumbres y demás vegetales y semillas de hortalizas</th></tr><tr><td>date</td><td>f64</td></tr></thead><tbody><tr><td>2021-01-01</td><td>6049.6537</td></tr><tr><td>2021-02-01</td><td>6190.9441</td></tr><tr><td>2021-03-01</td><td>7928.1926</td></tr><tr><td>2021-04-01</td><td>5373.3219</td></tr><tr><td>2021-05-01</td><td>6966.3106</td></tr><tr><td>&hellip;</td><td>&hellip;</td></tr><tr><td>2023-08-01</td><td>2825.6754</td></tr><tr><td>2023-09-01</td><td>1473.4386</td></tr><tr><td>2023-10-01</td><td>2589.7748</td></tr><tr><td>2023-11-01</td><td>2083.6031</td></tr><tr><td>2023-12-01</td><td>2331.321</td></tr></tbody></table></div>"
      ],
      "text/plain": [
       "shape: (36, 2)\n",
       "┌────────────┬───────────────────────────────────┐\n",
       "│ Fecha      ┆ Exportaciones AE- Producto - 1.3… │\n",
       "│ ---        ┆ ---                               │\n",
       "│ date       ┆ f64                               │\n",
       "╞════════════╪═══════════════════════════════════╡\n",
       "│ 2021-01-01 ┆ 6049.6537                         │\n",
       "│ 2021-02-01 ┆ 6190.9441                         │\n",
       "│ 2021-03-01 ┆ 7928.1926                         │\n",
       "│ 2021-04-01 ┆ 5373.3219                         │\n",
       "│ 2021-05-01 ┆ 6966.3106                         │\n",
       "│ …          ┆ …                                 │\n",
       "│ 2023-08-01 ┆ 2825.6754                         │\n",
       "│ 2023-09-01 ┆ 1473.4386                         │\n",
       "│ 2023-10-01 ┆ 2589.7748                         │\n",
       "│ 2023-11-01 ┆ 2083.6031                         │\n",
       "│ 2023-12-01 ┆ 2331.321                          │\n",
       "└────────────┴───────────────────────────────────┘"
      ]
     },
     "execution_count": 119,
     "metadata": {},
     "output_type": "execute_result"
    }
   ],
   "source": [
    "Id = 6554\n",
    "df = get_df(Id)\n",
    "# get_plot(Id)\n",
    "df"
   ]
  },
  {
   "cell_type": "markdown",
   "id": "515aa747",
   "metadata": {},
   "source": [
    "#### BP = Balanza de Pagos\n"
   ]
  },
  {
   "cell_type": "code",
   "execution_count": 120,
   "id": "e5ca828a",
   "metadata": {},
   "outputs": [
    {
     "name": "stdout",
     "output_type": "stream",
     "text": [
      "1 subgrupos\n",
      "182 variables\n"
     ]
    },
    {
     "name": "stderr",
     "output_type": "stream",
     "text": [
      "<string>:29: FutureWarning:\n",
      "\n",
      "Passing literal json to 'read_json' is deprecated and will be removed in a future version. To read from a literal string, wrap it in a 'StringIO' object.\n",
      "\n"
     ]
    },
    {
     "data": {
      "text/html": [
       "<div><style>\n",
       ".dataframe > thead > tr,\n",
       ".dataframe > tbody > tr {\n",
       "  text-align: right;\n",
       "  white-space: pre-wrap;\n",
       "}\n",
       "</style>\n",
       "<small>shape: (1, 4)</small><table border=\"1\" class=\"dataframe\"><thead><tr><th>Niv_Gr_1</th><th>Niv_Gr_2</th><th>Niv_Gr_3</th><th>N_Variables</th></tr><tr><td>str</td><td>str</td><td>str</td><td>u32</td></tr></thead><tbody><tr><td>&quot;ESE&quot;</td><td>&quot;BP&quot;</td><td>&quot;01&quot;</td><td>182</td></tr></tbody></table></div>"
      ],
      "text/plain": [
       "shape: (1, 4)\n",
       "┌──────────┬──────────┬──────────┬─────────────┐\n",
       "│ Niv_Gr_1 ┆ Niv_Gr_2 ┆ Niv_Gr_3 ┆ N_Variables │\n",
       "│ ---      ┆ ---      ┆ ---      ┆ ---         │\n",
       "│ str      ┆ str      ┆ str      ┆ u32         │\n",
       "╞══════════╪══════════╪══════════╪═════════════╡\n",
       "│ ESE      ┆ BP       ┆ 01       ┆ 182         │\n",
       "└──────────┴──────────┴──────────┴─────────────┘"
      ]
     },
     "execution_count": 120,
     "metadata": {},
     "output_type": "execute_result"
    }
   ],
   "source": [
    "res_nivel_3(\"ESE\",\"BP\",\"Niv_Gr_3\")"
   ]
  },
  {
   "cell_type": "markdown",
   "id": "56ed8d3a",
   "metadata": {},
   "source": [
    "* Anual\n",
    "* Mensual\n"
   ]
  },
  {
   "cell_type": "code",
   "execution_count": 121,
   "id": "6472d090",
   "metadata": {},
   "outputs": [
    {
     "name": "stderr",
     "output_type": "stream",
     "text": [
      "<string>:29: FutureWarning:\n",
      "\n",
      "Passing literal json to 'read_json' is deprecated and will be removed in a future version. To read from a literal string, wrap it in a 'StringIO' object.\n",
      "\n"
     ]
    },
    {
     "data": {
      "text/html": [
       "<div><style>\n",
       ".dataframe > thead > tr,\n",
       ".dataframe > tbody > tr {\n",
       "  text-align: right;\n",
       "  white-space: pre-wrap;\n",
       "}\n",
       "</style>\n",
       "<small>shape: (2, 5)</small><table border=\"1\" class=\"dataframe\"><thead><tr><th>Niv_Gr_1</th><th>Niv_Gr_2</th><th>Niv_Gr_3</th><th>Niv_Descr_2</th><th>N_Variables</th></tr><tr><td>str</td><td>str</td><td>str</td><td>str</td><td>u32</td></tr></thead><tbody><tr><td>&quot;ESE&quot;</td><td>&quot;BP&quot;</td><td>&quot;01&quot;</td><td>&quot; Anual&quot;</td><td>91</td></tr><tr><td>&quot;ESE&quot;</td><td>&quot;BP&quot;</td><td>&quot;01&quot;</td><td>&quot; Mensual&quot;</td><td>91</td></tr></tbody></table></div>"
      ],
      "text/plain": [
       "shape: (2, 5)\n",
       "┌──────────┬──────────┬──────────┬─────────────┬─────────────┐\n",
       "│ Niv_Gr_1 ┆ Niv_Gr_2 ┆ Niv_Gr_3 ┆ Niv_Descr_2 ┆ N_Variables │\n",
       "│ ---      ┆ ---      ┆ ---      ┆ ---         ┆ ---         │\n",
       "│ str      ┆ str      ┆ str      ┆ str         ┆ u32         │\n",
       "╞══════════╪══════════╪══════════╪═════════════╪═════════════╡\n",
       "│ ESE      ┆ BP       ┆ 01       ┆  Anual      ┆ 91          │\n",
       "│ ESE      ┆ BP       ┆ 01       ┆  Mensual    ┆ 91          │\n",
       "└──────────┴──────────┴──────────┴─────────────┴─────────────┘"
      ]
     },
     "execution_count": 121,
     "metadata": {},
     "output_type": "execute_result"
    }
   ],
   "source": [
    "res_nivel_4(\n",
    "    \"ESE\",\"BP\",\n",
    "    \"Niv_Gr_3\",\n",
    "    \"01\",\n",
    "    \"Niv_Descr_2\")"
   ]
  },
  {
   "cell_type": "markdown",
   "id": "0401aae5",
   "metadata": {},
   "source": [
    "Por Componentes:\n"
   ]
  },
  {
   "cell_type": "code",
   "execution_count": 122,
   "id": "565a3d5c",
   "metadata": {},
   "outputs": [
    {
     "name": "stderr",
     "output_type": "stream",
     "text": [
      "<string>:29: FutureWarning:\n",
      "\n",
      "Passing literal json to 'read_json' is deprecated and will be removed in a future version. To read from a literal string, wrap it in a 'StringIO' object.\n",
      "\n"
     ]
    },
    {
     "data": {
      "text/html": [
       "<div><style>\n",
       ".dataframe > thead > tr,\n",
       ".dataframe > tbody > tr {\n",
       "  text-align: right;\n",
       "  white-space: pre-wrap;\n",
       "}\n",
       "</style>\n",
       "<small>shape: (90, 5)</small><table border=\"1\" class=\"dataframe\"><thead><tr><th>Niv_Gr_1</th><th>Niv_Gr_2</th><th>Niv_Gr_3</th><th>Niv_Descr_1</th><th>N_Variables</th></tr><tr><td>str</td><td>str</td><td>str</td><td>str</td><td>u32</td></tr></thead><tbody><tr><td>&quot;ESE&quot;</td><td>&quot;BP&quot;</td><td>&quot;01&quot;</td><td>&quot;1. Ingresos &quot;</td><td>4</td></tr><tr><td>&quot;ESE&quot;</td><td>&quot;BP&quot;</td><td>&quot;01&quot;</td><td>&quot;2.2 Bienes par…</td><td>2</td></tr><tr><td>&quot;ESE&quot;</td><td>&quot;BP&quot;</td><td>&quot;01&quot;</td><td>&quot;1.2 Otra Renta…</td><td>2</td></tr><tr><td>&quot;ESE&quot;</td><td>&quot;BP&quot;</td><td>&quot;01&quot;</td><td>&quot;3.1.4.1 Banco …</td><td>2</td></tr><tr><td>&quot;ESE&quot;</td><td>&quot;BP&quot;</td><td>&quot;01&quot;</td><td>&quot;3.2 Pasivos &quot;</td><td>2</td></tr><tr><td>&hellip;</td><td>&hellip;</td><td>&hellip;</td><td>&hellip;</td><td>&hellip;</td></tr><tr><td>&quot;ESE&quot;</td><td>&quot;BP&quot;</td><td>&quot;01&quot;</td><td>&quot;1.1 Inversión …</td><td>2</td></tr><tr><td>&quot;ESE&quot;</td><td>&quot;BP&quot;</td><td>&quot;01&quot;</td><td>&quot;3.1.2.2 Gobier…</td><td>2</td></tr><tr><td>&quot;ESE&quot;</td><td>&quot;BP&quot;</td><td>&quot;01&quot;</td><td>&quot;1.1 Transporte…</td><td>2</td></tr><tr><td>&quot;ESE&quot;</td><td>&quot;BP&quot;</td><td>&quot;01&quot;</td><td>&quot;Balance de bie…</td><td>2</td></tr><tr><td>&quot;ESE&quot;</td><td>&quot;BP&quot;</td><td>&quot;01&quot;</td><td>&quot;3.1 Activos &quot;</td><td>2</td></tr></tbody></table></div>"
      ],
      "text/plain": [
       "shape: (90, 5)\n",
       "┌──────────┬──────────┬──────────┬───────────────────────────────────┬─────────────┐\n",
       "│ Niv_Gr_1 ┆ Niv_Gr_2 ┆ Niv_Gr_3 ┆ Niv_Descr_1                       ┆ N_Variables │\n",
       "│ ---      ┆ ---      ┆ ---      ┆ ---                               ┆ ---         │\n",
       "│ str      ┆ str      ┆ str      ┆ str                               ┆ u32         │\n",
       "╞══════════╪══════════╪══════════╪═══════════════════════════════════╪═════════════╡\n",
       "│ ESE      ┆ BP       ┆ 01       ┆ 1. Ingresos                       ┆ 4           │\n",
       "│ ESE      ┆ BP       ┆ 01       ┆ 2.2 Bienes para Transformación    ┆ 2           │\n",
       "│ ESE      ┆ BP       ┆ 01       ┆ 1.2 Otra Renta                    ┆ 2           │\n",
       "│ ESE      ┆ BP       ┆ 01       ┆ 3.1.4.1 Banco Central             ┆ 2           │\n",
       "│ ESE      ┆ BP       ┆ 01       ┆ 3.2 Pasivos                       ┆ 2           │\n",
       "│ …        ┆ …        ┆ …        ┆ …                                 ┆ …           │\n",
       "│ ESE      ┆ BP       ┆ 01       ┆ 1.1 Inversión directa en el exte… ┆ 2           │\n",
       "│ ESE      ┆ BP       ┆ 01       ┆ 3.1.2.2 Gobierno General          ┆ 2           │\n",
       "│ ESE      ┆ BP       ┆ 01       ┆ 1.1 Transporte                    ┆ 2           │\n",
       "│ ESE      ┆ BP       ┆ 01       ┆ Balance de bienes, servicios y r… ┆ 2           │\n",
       "│ ESE      ┆ BP       ┆ 01       ┆ 3.1 Activos                       ┆ 2           │\n",
       "└──────────┴──────────┴──────────┴───────────────────────────────────┴─────────────┘"
      ]
     },
     "execution_count": 122,
     "metadata": {},
     "output_type": "execute_result"
    }
   ],
   "source": [
    "res_nivel_4(\n",
    "    \"ESE\",\"BP\",\n",
    "    \"Niv_Gr_3\",\n",
    "    \"01\",\n",
    "    \"Niv_Descr_1\")"
   ]
  },
  {
   "cell_type": "markdown",
   "id": "f276e880",
   "metadata": {},
   "source": [
    "Para ver todas las variables:\n"
   ]
  },
  {
   "cell_type": "code",
   "execution_count": 123,
   "id": "5afc59e8",
   "metadata": {},
   "outputs": [
    {
     "name": "stderr",
     "output_type": "stream",
     "text": [
      "<string>:29: FutureWarning:\n",
      "\n",
      "Passing literal json to 'read_json' is deprecated and will be removed in a future version. To read from a literal string, wrap it in a 'StringIO' object.\n",
      "\n"
     ]
    },
    {
     "data": {
      "text/html": [
       "<div><style>\n",
       ".dataframe > thead > tr,\n",
       ".dataframe > tbody > tr {\n",
       "  text-align: right;\n",
       "  white-space: pre-wrap;\n",
       "}\n",
       "</style>\n",
       "<small>shape: (182, 8)</small><table border=\"1\" class=\"dataframe\"><thead><tr><th>Niv_Gr_1</th><th>Niv_Gr_2</th><th>Niv_Gr_3</th><th>Id</th><th>Nombre</th><th>Niv_Descr_2</th><th>Niv_Descr_1</th><th>N_Variables</th></tr><tr><td>str</td><td>str</td><td>str</td><td>i64</td><td>str</td><td>str</td><td>str</td><td>u32</td></tr></thead><tbody><tr><td>&quot;ESE&quot;</td><td>&quot;BP&quot;</td><td>&quot;01&quot;</td><td>6384</td><td>&quot;ESE-BP-01-109&quot;</td><td>&quot; Anual&quot;</td><td>&quot;2.2 Viajes &quot;</td><td>1</td></tr><tr><td>&quot;ESE&quot;</td><td>&quot;BP&quot;</td><td>&quot;01&quot;</td><td>6435</td><td>&quot;ESE-BP-01-160&quot;</td><td>&quot; Anual&quot;</td><td>&quot;3.2.1.1 Gobier…</td><td>1</td></tr><tr><td>&quot;ESE&quot;</td><td>&quot;BP&quot;</td><td>&quot;01&quot;</td><td>6436</td><td>&quot;ESE-BP-01-161&quot;</td><td>&quot; Anual&quot;</td><td>&quot;3.2.1.2 Otros …</td><td>1</td></tr><tr><td>&quot;ESE&quot;</td><td>&quot;BP&quot;</td><td>&quot;01&quot;</td><td>6447</td><td>&quot;ESE-BP-01-172&quot;</td><td>&quot; Anual&quot;</td><td>&quot;3.2.4 Otros Pa…</td><td>1</td></tr><tr><td>&quot;ESE&quot;</td><td>&quot;BP&quot;</td><td>&quot;01&quot;</td><td>6406</td><td>&quot;ESE-BP-01-131&quot;</td><td>&quot; Anual&quot;</td><td>&quot;1.2 Inversión …</td><td>1</td></tr><tr><td>&hellip;</td><td>&hellip;</td><td>&hellip;</td><td>&hellip;</td><td>&hellip;</td><td>&hellip;</td><td>&hellip;</td><td>&hellip;</td></tr><tr><td>&quot;ESE&quot;</td><td>&quot;BP&quot;</td><td>&quot;01&quot;</td><td>6337</td><td>&quot;ESE-BP-01-62&quot;</td><td>&quot; Mensual&quot;</td><td>&quot;3.1.4  Otros A…</td><td>1</td></tr><tr><td>&quot;ESE&quot;</td><td>&quot;BP&quot;</td><td>&quot;01&quot;</td><td>6344</td><td>&quot;ESE-BP-01-69&quot;</td><td>&quot; Mensual&quot;</td><td>&quot;3.2.1.1 Gobier…</td><td>1</td></tr><tr><td>&quot;ESE&quot;</td><td>&quot;BP&quot;</td><td>&quot;01&quot;</td><td>6355</td><td>&quot;ESE-BP-01-80&quot;</td><td>&quot; Mensual&quot;</td><td>&quot;3.2.3.4 Otros …</td><td>1</td></tr><tr><td>&quot;ESE&quot;</td><td>&quot;BP&quot;</td><td>&quot;01&quot;</td><td>6358</td><td>&quot;ESE-BP-01-83&quot;</td><td>&quot; Mensual&quot;</td><td>&quot;3.2.4.2 Gobier…</td><td>1</td></tr><tr><td>&quot;ESE&quot;</td><td>&quot;BP&quot;</td><td>&quot;01&quot;</td><td>6361</td><td>&quot;ESE-BP-01-86&quot;</td><td>&quot; Mensual&quot;</td><td>&quot;ERRORES Y OMIS…</td><td>1</td></tr></tbody></table></div>"
      ],
      "text/plain": [
       "shape: (182, 8)\n",
       "┌──────────┬──────────┬──────────┬──────┬───────────────┬─────────────┬──────────────┬─────────────┐\n",
       "│ Niv_Gr_1 ┆ Niv_Gr_2 ┆ Niv_Gr_3 ┆ Id   ┆ Nombre        ┆ Niv_Descr_2 ┆ Niv_Descr_1  ┆ N_Variables │\n",
       "│ ---      ┆ ---      ┆ ---      ┆ ---  ┆ ---           ┆ ---         ┆ ---          ┆ ---         │\n",
       "│ str      ┆ str      ┆ str      ┆ i64  ┆ str           ┆ str         ┆ str          ┆ u32         │\n",
       "╞══════════╪══════════╪══════════╪══════╪═══════════════╪═════════════╪══════════════╪═════════════╡\n",
       "│ ESE      ┆ BP       ┆ 01       ┆ 6384 ┆ ESE-BP-01-109 ┆  Anual      ┆ 2.2 Viajes   ┆ 1           │\n",
       "│ ESE      ┆ BP       ┆ 01       ┆ 6435 ┆ ESE-BP-01-160 ┆  Anual      ┆ 3.2.1.1      ┆ 1           │\n",
       "│          ┆          ┆          ┆      ┆               ┆             ┆ Gobierno     ┆             │\n",
       "│          ┆          ┆          ┆      ┆               ┆             ┆ General      ┆             │\n",
       "│ ESE      ┆ BP       ┆ 01       ┆ 6436 ┆ ESE-BP-01-161 ┆  Anual      ┆ 3.2.1.2      ┆ 1           │\n",
       "│          ┆          ┆          ┆      ┆               ┆             ┆ Otros        ┆             │\n",
       "│          ┆          ┆          ┆      ┆               ┆             ┆ Sectores     ┆             │\n",
       "│ ESE      ┆ BP       ┆ 01       ┆ 6447 ┆ ESE-BP-01-172 ┆  Anual      ┆ 3.2.4 Otros  ┆ 1           │\n",
       "│          ┆          ┆          ┆      ┆               ┆             ┆ Pasivos      ┆             │\n",
       "│ ESE      ┆ BP       ┆ 01       ┆ 6406 ┆ ESE-BP-01-131 ┆  Anual      ┆ 1.2          ┆ 1           │\n",
       "│          ┆          ┆          ┆      ┆               ┆             ┆ Inversión    ┆             │\n",
       "│          ┆          ┆          ┆      ┆               ┆             ┆ directa en   ┆             │\n",
       "│          ┆          ┆          ┆      ┆               ┆             ┆ Hondura…     ┆             │\n",
       "│ …        ┆ …        ┆ …        ┆ …    ┆ …             ┆ …           ┆ …            ┆ …           │\n",
       "│ ESE      ┆ BP       ┆ 01       ┆ 6337 ┆ ESE-BP-01-62  ┆  Mensual    ┆ 3.1.4  Otros ┆ 1           │\n",
       "│          ┆          ┆          ┆      ┆               ┆             ┆ Activos      ┆             │\n",
       "│ ESE      ┆ BP       ┆ 01       ┆ 6344 ┆ ESE-BP-01-69  ┆  Mensual    ┆ 3.2.1.1      ┆ 1           │\n",
       "│          ┆          ┆          ┆      ┆               ┆             ┆ Gobierno     ┆             │\n",
       "│          ┆          ┆          ┆      ┆               ┆             ┆ General      ┆             │\n",
       "│ ESE      ┆ BP       ┆ 01       ┆ 6355 ┆ ESE-BP-01-80  ┆  Mensual    ┆ 3.2.3.4      ┆ 1           │\n",
       "│          ┆          ┆          ┆      ┆               ┆             ┆ Otros        ┆             │\n",
       "│          ┆          ┆          ┆      ┆               ┆             ┆ Sectores     ┆             │\n",
       "│ ESE      ┆ BP       ┆ 01       ┆ 6358 ┆ ESE-BP-01-83  ┆  Mensual    ┆ 3.2.4.2      ┆ 1           │\n",
       "│          ┆          ┆          ┆      ┆               ┆             ┆ Gobierno     ┆             │\n",
       "│          ┆          ┆          ┆      ┆               ┆             ┆ General      ┆             │\n",
       "│ ESE      ┆ BP       ┆ 01       ┆ 6361 ┆ ESE-BP-01-86  ┆  Mensual    ┆ ERRORES Y    ┆ 1           │\n",
       "│          ┆          ┆          ┆      ┆               ┆             ┆ OMISIONES    ┆             │\n",
       "│          ┆          ┆          ┆      ┆               ┆             ┆ NETOS        ┆             │\n",
       "└──────────┴──────────┴──────────┴──────┴───────────────┴─────────────┴──────────────┴─────────────┘"
      ]
     },
     "execution_count": 123,
     "metadata": {},
     "output_type": "execute_result"
    }
   ],
   "source": [
    "res_nivel_7(\n",
    "    \"ESE\",\"BP\",\n",
    "    \"Niv_Gr_3\",\n",
    "    \"01\",\"Id\",\"Nombre\",\"Niv_Descr_2\",\"Niv_Descr_1\").sort(\"Niv_Descr_2\")"
   ]
  },
  {
   "cell_type": "markdown",
   "id": "e3dbc3a3",
   "metadata": {},
   "source": [
    "Resultados de una sola variable:\n"
   ]
  },
  {
   "cell_type": "code",
   "execution_count": 124,
   "id": "2d03f86c",
   "metadata": {},
   "outputs": [
    {
     "name": "stderr",
     "output_type": "stream",
     "text": [
      "<string>:29: FutureWarning:\n",
      "\n",
      "Passing literal json to 'read_json' is deprecated and will be removed in a future version. To read from a literal string, wrap it in a 'StringIO' object.\n",
      "\n"
     ]
    },
    {
     "name": "stderr",
     "output_type": "stream",
     "text": [
      "<string>:29: FutureWarning:\n",
      "\n",
      "Passing literal json to 'read_json' is deprecated and will be removed in a future version. To read from a literal string, wrap it in a 'StringIO' object.\n",
      "\n"
     ]
    },
    {
     "data": {
      "text/html": [
       "<div><style>\n",
       ".dataframe > thead > tr,\n",
       ".dataframe > tbody > tr {\n",
       "  text-align: right;\n",
       "  white-space: pre-wrap;\n",
       "}\n",
       "</style>\n",
       "<small>shape: (80, 2)</small><table border=\"1\" class=\"dataframe\"><thead><tr><th>Fecha</th><th>2.1 Transporte - Mensual</th></tr><tr><td>date</td><td>f64</td></tr></thead><tbody><tr><td>2004-03-01</td><td>98.1</td></tr><tr><td>2004-06-01</td><td>104.5</td></tr><tr><td>2004-09-01</td><td>113.6</td></tr><tr><td>2004-12-01</td><td>123.2</td></tr><tr><td>2005-03-01</td><td>116.1</td></tr><tr><td>&hellip;</td><td>&hellip;</td></tr><tr><td>2022-12-01</td><td>581.3</td></tr><tr><td>2023-03-01</td><td>461.7</td></tr><tr><td>2023-06-01</td><td>477.0</td></tr><tr><td>2023-09-01</td><td>491.4</td></tr><tr><td>2023-12-01</td><td>535.2</td></tr></tbody></table></div>"
      ],
      "text/plain": [
       "shape: (80, 2)\n",
       "┌────────────┬──────────────────────────┐\n",
       "│ Fecha      ┆ 2.1 Transporte - Mensual │\n",
       "│ ---        ┆ ---                      │\n",
       "│ date       ┆ f64                      │\n",
       "╞════════════╪══════════════════════════╡\n",
       "│ 2004-03-01 ┆ 98.1                     │\n",
       "│ 2004-06-01 ┆ 104.5                    │\n",
       "│ 2004-09-01 ┆ 113.6                    │\n",
       "│ 2004-12-01 ┆ 123.2                    │\n",
       "│ 2005-03-01 ┆ 116.1                    │\n",
       "│ …          ┆ …                        │\n",
       "│ 2022-12-01 ┆ 581.3                    │\n",
       "│ 2023-03-01 ┆ 461.7                    │\n",
       "│ 2023-06-01 ┆ 477.0                    │\n",
       "│ 2023-09-01 ┆ 491.4                    │\n",
       "│ 2023-12-01 ┆ 535.2                    │\n",
       "└────────────┴──────────────────────────┘"
      ]
     },
     "execution_count": 124,
     "metadata": {},
     "output_type": "execute_result"
    }
   ],
   "source": [
    "Id = 6292\n",
    "df = get_df(Id)\n",
    "# get_plot(Id)\n",
    "df"
   ]
  },
  {
   "cell_type": "markdown",
   "id": "c2904ea4",
   "metadata": {},
   "source": [
    "#### IES - Ingresos y Egresos de Servicios\n"
   ]
  },
  {
   "cell_type": "code",
   "execution_count": 125,
   "id": "7ec692db",
   "metadata": {},
   "outputs": [
    {
     "name": "stdout",
     "output_type": "stream",
     "text": [
      "1 subgrupos\n",
      "28 variables\n"
     ]
    },
    {
     "name": "stderr",
     "output_type": "stream",
     "text": [
      "<string>:29: FutureWarning:\n",
      "\n",
      "Passing literal json to 'read_json' is deprecated and will be removed in a future version. To read from a literal string, wrap it in a 'StringIO' object.\n",
      "\n"
     ]
    },
    {
     "data": {
      "text/html": [
       "<div><style>\n",
       ".dataframe > thead > tr,\n",
       ".dataframe > tbody > tr {\n",
       "  text-align: right;\n",
       "  white-space: pre-wrap;\n",
       "}\n",
       "</style>\n",
       "<small>shape: (1, 4)</small><table border=\"1\" class=\"dataframe\"><thead><tr><th>Niv_Gr_1</th><th>Niv_Gr_2</th><th>Niv_Gr_3</th><th>N_Variables</th></tr><tr><td>str</td><td>str</td><td>str</td><td>u32</td></tr></thead><tbody><tr><td>&quot;ESE&quot;</td><td>&quot;IES&quot;</td><td>&quot;01&quot;</td><td>28</td></tr></tbody></table></div>"
      ],
      "text/plain": [
       "shape: (1, 4)\n",
       "┌──────────┬──────────┬──────────┬─────────────┐\n",
       "│ Niv_Gr_1 ┆ Niv_Gr_2 ┆ Niv_Gr_3 ┆ N_Variables │\n",
       "│ ---      ┆ ---      ┆ ---      ┆ ---         │\n",
       "│ str      ┆ str      ┆ str      ┆ u32         │\n",
       "╞══════════╪══════════╪══════════╪═════════════╡\n",
       "│ ESE      ┆ IES      ┆ 01       ┆ 28          │\n",
       "└──────────┴──────────┴──────────┴─────────────┘"
      ]
     },
     "execution_count": 125,
     "metadata": {},
     "output_type": "execute_result"
    }
   ],
   "source": [
    "res_nivel_3(\"ESE\",\"IES\",\"Niv_Gr_3\")"
   ]
  },
  {
   "cell_type": "markdown",
   "id": "db9d3c0a",
   "metadata": {},
   "source": [
    "Periodicidad:\n",
    "\n",
    "* Anual\n",
    "* Trimestral\n"
   ]
  },
  {
   "cell_type": "code",
   "execution_count": 126,
   "id": "a02fdab1",
   "metadata": {},
   "outputs": [
    {
     "name": "stderr",
     "output_type": "stream",
     "text": [
      "<string>:29: FutureWarning:\n",
      "\n",
      "Passing literal json to 'read_json' is deprecated and will be removed in a future version. To read from a literal string, wrap it in a 'StringIO' object.\n",
      "\n"
     ]
    },
    {
     "data": {
      "text/html": [
       "<div><style>\n",
       ".dataframe > thead > tr,\n",
       ".dataframe > tbody > tr {\n",
       "  text-align: right;\n",
       "  white-space: pre-wrap;\n",
       "}\n",
       "</style>\n",
       "<small>shape: (2, 5)</small><table border=\"1\" class=\"dataframe\"><thead><tr><th>Niv_Gr_1</th><th>Niv_Gr_2</th><th>Niv_Descr_3</th><th>Niv_Descr_5</th><th>N_Variables</th></tr><tr><td>str</td><td>str</td><td>str</td><td>str</td><td>u32</td></tr></thead><tbody><tr><td>&quot;ESE&quot;</td><td>&quot;IES&quot;</td><td>&quot;01&quot;</td><td>&quot;Trimestral&quot;</td><td>14</td></tr><tr><td>&quot;ESE&quot;</td><td>&quot;IES&quot;</td><td>&quot;01&quot;</td><td>&quot;Anual&quot;</td><td>14</td></tr></tbody></table></div>"
      ],
      "text/plain": [
       "shape: (2, 5)\n",
       "┌──────────┬──────────┬─────────────┬─────────────┬─────────────┐\n",
       "│ Niv_Gr_1 ┆ Niv_Gr_2 ┆ Niv_Descr_3 ┆ Niv_Descr_5 ┆ N_Variables │\n",
       "│ ---      ┆ ---      ┆ ---         ┆ ---         ┆ ---         │\n",
       "│ str      ┆ str      ┆ str         ┆ str         ┆ u32         │\n",
       "╞══════════╪══════════╪═════════════╪═════════════╪═════════════╡\n",
       "│ ESE      ┆ IES      ┆ 01          ┆ Trimestral  ┆ 14          │\n",
       "│ ESE      ┆ IES      ┆ 01          ┆ Anual       ┆ 14          │\n",
       "└──────────┴──────────┴─────────────┴─────────────┴─────────────┘"
      ]
     },
     "execution_count": 126,
     "metadata": {},
     "output_type": "execute_result"
    }
   ],
   "source": [
    "res_nivel_4(\n",
    "    \"ESE\",\"IES\",\n",
    "    \"Niv_Descr_3\",\n",
    "    \"01\",\"Niv_Descr_5\")"
   ]
  },
  {
   "cell_type": "markdown",
   "id": "236e4f73",
   "metadata": {},
   "source": [
    "Ingresos y Egresos:\n",
    "\n",
    "* Exportaciones (Ingresos)\n",
    "* Importaciones (Egresos)\n"
   ]
  },
  {
   "cell_type": "code",
   "execution_count": 127,
   "id": "e7875fc4",
   "metadata": {},
   "outputs": [
    {
     "name": "stderr",
     "output_type": "stream",
     "text": [
      "<string>:29: FutureWarning:\n",
      "\n",
      "Passing literal json to 'read_json' is deprecated and will be removed in a future version. To read from a literal string, wrap it in a 'StringIO' object.\n",
      "\n"
     ]
    },
    {
     "data": {
      "text/html": [
       "<div><style>\n",
       ".dataframe > thead > tr,\n",
       ".dataframe > tbody > tr {\n",
       "  text-align: right;\n",
       "  white-space: pre-wrap;\n",
       "}\n",
       "</style>\n",
       "<small>shape: (2, 5)</small><table border=\"1\" class=\"dataframe\"><thead><tr><th>Niv_Gr_1</th><th>Niv_Gr_2</th><th>Niv_Descr_3</th><th>Niv_Descr_6</th><th>N_Variables</th></tr><tr><td>str</td><td>str</td><td>str</td><td>str</td><td>u32</td></tr></thead><tbody><tr><td>&quot;ESE&quot;</td><td>&quot;IES&quot;</td><td>&quot;01&quot;</td><td>&quot;Importaciones …</td><td>16</td></tr><tr><td>&quot;ESE&quot;</td><td>&quot;IES&quot;</td><td>&quot;01&quot;</td><td>&quot;Exportaciones …</td><td>12</td></tr></tbody></table></div>"
      ],
      "text/plain": [
       "shape: (2, 5)\n",
       "┌──────────┬──────────┬─────────────┬──────────────────────────┬─────────────┐\n",
       "│ Niv_Gr_1 ┆ Niv_Gr_2 ┆ Niv_Descr_3 ┆ Niv_Descr_6              ┆ N_Variables │\n",
       "│ ---      ┆ ---      ┆ ---         ┆ ---                      ┆ ---         │\n",
       "│ str      ┆ str      ┆ str         ┆ str                      ┆ u32         │\n",
       "╞══════════╪══════════╪═════════════╪══════════════════════════╪═════════════╡\n",
       "│ ESE      ┆ IES      ┆ 01          ┆ Importaciones (Egresos)  ┆ 16          │\n",
       "│ ESE      ┆ IES      ┆ 01          ┆ Exportaciones (Ingresos) ┆ 12          │\n",
       "└──────────┴──────────┴─────────────┴──────────────────────────┴─────────────┘"
      ]
     },
     "execution_count": 127,
     "metadata": {},
     "output_type": "execute_result"
    }
   ],
   "source": [
    "res_nivel_4(\n",
    "    \"ESE\",\"IES\",\n",
    "    \"Niv_Descr_3\",\n",
    "    \"01\",\"Niv_Descr_6\")"
   ]
  },
  {
   "cell_type": "markdown",
   "id": "1ac7ba8b",
   "metadata": {},
   "source": [
    "Variables:\n",
    "\n",
    "* Transporte\n",
    "* Viajes\n",
    "* Servicios de Comunicaciones\n",
    "* Otros Servicios Empresariales\n",
    "* Servicios de Gobierno\n",
    "* Otros Servicios\n",
    "* Servicios de Seguro\n",
    "* Servicios de InformÃ¡tica e Información\n",
    "* Servicios de RegalÃ­as y Derechos de Licencia\n"
   ]
  },
  {
   "cell_type": "code",
   "execution_count": 128,
   "id": "3a7b4ee4",
   "metadata": {},
   "outputs": [
    {
     "name": "stderr",
     "output_type": "stream",
     "text": [
      "<string>:29: FutureWarning:\n",
      "\n",
      "Passing literal json to 'read_json' is deprecated and will be removed in a future version. To read from a literal string, wrap it in a 'StringIO' object.\n",
      "\n"
     ]
    },
    {
     "data": {
      "text/html": [
       "<div><style>\n",
       ".dataframe > thead > tr,\n",
       ".dataframe > tbody > tr {\n",
       "  text-align: right;\n",
       "  white-space: pre-wrap;\n",
       "}\n",
       "</style>\n",
       "<small>shape: (9, 5)</small><table border=\"1\" class=\"dataframe\"><thead><tr><th>Niv_Gr_1</th><th>Niv_Gr_2</th><th>Niv_Descr_3</th><th>Niv_Descr_7</th><th>N_Variables</th></tr><tr><td>str</td><td>str</td><td>str</td><td>str</td><td>u32</td></tr></thead><tbody><tr><td>&quot;ESE&quot;</td><td>&quot;IES&quot;</td><td>&quot;01&quot;</td><td>&quot;Otros Servicio…</td><td>4</td></tr><tr><td>&quot;ESE&quot;</td><td>&quot;IES&quot;</td><td>&quot;01&quot;</td><td>&quot;Servicios de C…</td><td>4</td></tr><tr><td>&quot;ESE&quot;</td><td>&quot;IES&quot;</td><td>&quot;01&quot;</td><td>&quot;Transporte&quot;</td><td>4</td></tr><tr><td>&quot;ESE&quot;</td><td>&quot;IES&quot;</td><td>&quot;01&quot;</td><td>&quot;Otros Servicio…</td><td>4</td></tr><tr><td>&quot;ESE&quot;</td><td>&quot;IES&quot;</td><td>&quot;01&quot;</td><td>&quot;Viajes&quot;</td><td>4</td></tr><tr><td>&quot;ESE&quot;</td><td>&quot;IES&quot;</td><td>&quot;01&quot;</td><td>&quot;Servicios de S…</td><td>2</td></tr><tr><td>&quot;ESE&quot;</td><td>&quot;IES&quot;</td><td>&quot;01&quot;</td><td>&quot;Servicios de G…</td><td>2</td></tr><tr><td>&quot;ESE&quot;</td><td>&quot;IES&quot;</td><td>&quot;01&quot;</td><td>&quot;Servicios de R…</td><td>2</td></tr><tr><td>&quot;ESE&quot;</td><td>&quot;IES&quot;</td><td>&quot;01&quot;</td><td>&quot;Servicios de I…</td><td>2</td></tr></tbody></table></div>"
      ],
      "text/plain": [
       "shape: (9, 5)\n",
       "┌──────────┬──────────┬─────────────┬───────────────────────────────────┬─────────────┐\n",
       "│ Niv_Gr_1 ┆ Niv_Gr_2 ┆ Niv_Descr_3 ┆ Niv_Descr_7                       ┆ N_Variables │\n",
       "│ ---      ┆ ---      ┆ ---         ┆ ---                               ┆ ---         │\n",
       "│ str      ┆ str      ┆ str         ┆ str                               ┆ u32         │\n",
       "╞══════════╪══════════╪═════════════╪═══════════════════════════════════╪═════════════╡\n",
       "│ ESE      ┆ IES      ┆ 01          ┆ Otros Servicios Empresariales     ┆ 4           │\n",
       "│ ESE      ┆ IES      ┆ 01          ┆ Servicios de Comunicaciones       ┆ 4           │\n",
       "│ ESE      ┆ IES      ┆ 01          ┆ Transporte                        ┆ 4           │\n",
       "│ ESE      ┆ IES      ┆ 01          ┆ Otros Servicios                   ┆ 4           │\n",
       "│ ESE      ┆ IES      ┆ 01          ┆ Viajes                            ┆ 4           │\n",
       "│ ESE      ┆ IES      ┆ 01          ┆ Servicios de Seguro               ┆ 2           │\n",
       "│ ESE      ┆ IES      ┆ 01          ┆ Servicios de Gobierno             ┆ 2           │\n",
       "│ ESE      ┆ IES      ┆ 01          ┆ Servicios de Regalías y Derechos… ┆ 2           │\n",
       "│ ESE      ┆ IES      ┆ 01          ┆ Servicios de Informática e Infor… ┆ 2           │\n",
       "└──────────┴──────────┴─────────────┴───────────────────────────────────┴─────────────┘"
      ]
     },
     "execution_count": 128,
     "metadata": {},
     "output_type": "execute_result"
    }
   ],
   "source": [
    "res_nivel_4(\n",
    "    \"ESE\",\"IES\",\n",
    "    \"Niv_Descr_3\",\n",
    "    \"01\",\"Niv_Descr_7\")"
   ]
  },
  {
   "cell_type": "markdown",
   "id": "e136ebfc",
   "metadata": {},
   "source": [
    "Para ver todas las variables:\n"
   ]
  },
  {
   "cell_type": "code",
   "execution_count": 129,
   "id": "a5bc7969",
   "metadata": {},
   "outputs": [
    {
     "name": "stderr",
     "output_type": "stream",
     "text": [
      "<string>:29: FutureWarning:\n",
      "\n",
      "Passing literal json to 'read_json' is deprecated and will be removed in a future version. To read from a literal string, wrap it in a 'StringIO' object.\n",
      "\n"
     ]
    },
    {
     "data": {
      "text/html": [
       "<div><style>\n",
       ".dataframe > thead > tr,\n",
       ".dataframe > tbody > tr {\n",
       "  text-align: right;\n",
       "  white-space: pre-wrap;\n",
       "}\n",
       "</style>\n",
       "<small>shape: (28, 8)</small><table border=\"1\" class=\"dataframe\"><thead><tr><th>Niv_Gr_1</th><th>Niv_Gr_2</th><th>Niv_Gr_3</th><th>Id</th><th>Niv_Descr_5</th><th>Niv_Descr_6</th><th>Niv_Descr_7</th><th>N_Variables</th></tr><tr><td>str</td><td>str</td><td>str</td><td>i64</td><td>str</td><td>str</td><td>str</td><td>u32</td></tr></thead><tbody><tr><td>&quot;ESE&quot;</td><td>&quot;IES&quot;</td><td>&quot;01&quot;</td><td>399</td><td>&quot;Trimestral&quot;</td><td>&quot;Importaciones …</td><td>&quot;Servicios de S…</td><td>1</td></tr><tr><td>&quot;ESE&quot;</td><td>&quot;IES&quot;</td><td>&quot;01&quot;</td><td>392</td><td>&quot;Trimestral&quot;</td><td>&quot;Exportaciones …</td><td>&quot;Servicios de C…</td><td>1</td></tr><tr><td>&quot;ESE&quot;</td><td>&quot;IES&quot;</td><td>&quot;01&quot;</td><td>385</td><td>&quot;Anual&quot;</td><td>&quot;Importaciones …</td><td>&quot;Servicios de S…</td><td>1</td></tr><tr><td>&quot;ESE&quot;</td><td>&quot;IES&quot;</td><td>&quot;01&quot;</td><td>380</td><td>&quot;Anual&quot;</td><td>&quot;Exportaciones …</td><td>&quot;Servicios de G…</td><td>1</td></tr><tr><td>&quot;ESE&quot;</td><td>&quot;IES&quot;</td><td>&quot;01&quot;</td><td>386</td><td>&quot;Anual&quot;</td><td>&quot;Importaciones …</td><td>&quot;Servicios de I…</td><td>1</td></tr><tr><td>&hellip;</td><td>&hellip;</td><td>&hellip;</td><td>&hellip;</td><td>&hellip;</td><td>&hellip;</td><td>&hellip;</td><td>&hellip;</td></tr><tr><td>&quot;ESE&quot;</td><td>&quot;IES&quot;</td><td>&quot;01&quot;</td><td>379</td><td>&quot;Anual&quot;</td><td>&quot;Exportaciones …</td><td>&quot;Otros Servicio…</td><td>1</td></tr><tr><td>&quot;ESE&quot;</td><td>&quot;IES&quot;</td><td>&quot;01&quot;</td><td>401</td><td>&quot;Trimestral&quot;</td><td>&quot;Importaciones …</td><td>&quot;Servicios de R…</td><td>1</td></tr><tr><td>&quot;ESE&quot;</td><td>&quot;IES&quot;</td><td>&quot;01&quot;</td><td>395</td><td>&quot;Trimestral&quot;</td><td>&quot;Exportaciones …</td><td>&quot;Otros Servicio…</td><td>1</td></tr><tr><td>&quot;ESE&quot;</td><td>&quot;IES&quot;</td><td>&quot;01&quot;</td><td>384</td><td>&quot;Anual&quot;</td><td>&quot;Importaciones …</td><td>&quot;Servicios de C…</td><td>1</td></tr><tr><td>&quot;ESE&quot;</td><td>&quot;IES&quot;</td><td>&quot;01&quot;</td><td>389</td><td>&quot;Anual&quot;</td><td>&quot;Importaciones …</td><td>&quot;Otros Servicio…</td><td>1</td></tr></tbody></table></div>"
      ],
      "text/plain": [
       "shape: (28, 8)\n",
       "┌──────────┬──────────┬──────────┬─────┬─────────────┬───────────────┬───────────────┬─────────────┐\n",
       "│ Niv_Gr_1 ┆ Niv_Gr_2 ┆ Niv_Gr_3 ┆ Id  ┆ Niv_Descr_5 ┆ Niv_Descr_6   ┆ Niv_Descr_7   ┆ N_Variables │\n",
       "│ ---      ┆ ---      ┆ ---      ┆ --- ┆ ---         ┆ ---           ┆ ---           ┆ ---         │\n",
       "│ str      ┆ str      ┆ str      ┆ i64 ┆ str         ┆ str           ┆ str           ┆ u32         │\n",
       "╞══════════╪══════════╪══════════╪═════╪═════════════╪═══════════════╪═══════════════╪═════════════╡\n",
       "│ ESE      ┆ IES      ┆ 01       ┆ 399 ┆ Trimestral  ┆ Importaciones ┆ Servicios de  ┆ 1           │\n",
       "│          ┆          ┆          ┆     ┆             ┆ (Egresos)     ┆ Seguro        ┆             │\n",
       "│ ESE      ┆ IES      ┆ 01       ┆ 392 ┆ Trimestral  ┆ Exportaciones ┆ Servicios de  ┆ 1           │\n",
       "│          ┆          ┆          ┆     ┆             ┆ (Ingresos)    ┆ Comunicacione ┆             │\n",
       "│          ┆          ┆          ┆     ┆             ┆               ┆ s             ┆             │\n",
       "│ ESE      ┆ IES      ┆ 01       ┆ 385 ┆ Anual       ┆ Importaciones ┆ Servicios de  ┆ 1           │\n",
       "│          ┆          ┆          ┆     ┆             ┆ (Egresos)     ┆ Seguro        ┆             │\n",
       "│ ESE      ┆ IES      ┆ 01       ┆ 380 ┆ Anual       ┆ Exportaciones ┆ Servicios de  ┆ 1           │\n",
       "│          ┆          ┆          ┆     ┆             ┆ (Ingresos)    ┆ Gobierno      ┆             │\n",
       "│ ESE      ┆ IES      ┆ 01       ┆ 386 ┆ Anual       ┆ Importaciones ┆ Servicios de  ┆ 1           │\n",
       "│          ┆          ┆          ┆     ┆             ┆ (Egresos)     ┆ Informática e ┆             │\n",
       "│          ┆          ┆          ┆     ┆             ┆               ┆ Infor…        ┆             │\n",
       "│ …        ┆ …        ┆ …        ┆ …   ┆ …           ┆ …             ┆ …             ┆ …           │\n",
       "│ ESE      ┆ IES      ┆ 01       ┆ 379 ┆ Anual       ┆ Exportaciones ┆ Otros         ┆ 1           │\n",
       "│          ┆          ┆          ┆     ┆             ┆ (Ingresos)    ┆ Servicios     ┆             │\n",
       "│          ┆          ┆          ┆     ┆             ┆               ┆ Empresariales ┆             │\n",
       "│ ESE      ┆ IES      ┆ 01       ┆ 401 ┆ Trimestral  ┆ Importaciones ┆ Servicios de  ┆ 1           │\n",
       "│          ┆          ┆          ┆     ┆             ┆ (Egresos)     ┆ Regalías y    ┆             │\n",
       "│          ┆          ┆          ┆     ┆             ┆               ┆ Derechos…     ┆             │\n",
       "│ ESE      ┆ IES      ┆ 01       ┆ 395 ┆ Trimestral  ┆ Exportaciones ┆ Otros         ┆ 1           │\n",
       "│          ┆          ┆          ┆     ┆             ┆ (Ingresos)    ┆ Servicios     ┆             │\n",
       "│ ESE      ┆ IES      ┆ 01       ┆ 384 ┆ Anual       ┆ Importaciones ┆ Servicios de  ┆ 1           │\n",
       "│          ┆          ┆          ┆     ┆             ┆ (Egresos)     ┆ Comunicacione ┆             │\n",
       "│          ┆          ┆          ┆     ┆             ┆               ┆ s             ┆             │\n",
       "│ ESE      ┆ IES      ┆ 01       ┆ 389 ┆ Anual       ┆ Importaciones ┆ Otros         ┆ 1           │\n",
       "│          ┆          ┆          ┆     ┆             ┆ (Egresos)     ┆ Servicios     ┆             │\n",
       "└──────────┴──────────┴──────────┴─────┴─────────────┴───────────────┴───────────────┴─────────────┘"
      ]
     },
     "execution_count": 129,
     "metadata": {},
     "output_type": "execute_result"
    }
   ],
   "source": [
    "res_nivel_7(\n",
    "    \"ESE\",\"IES\",\n",
    "    \"Niv_Gr_3\",\n",
    "    \"01\",\"Id\",\"Niv_Descr_5\",\"Niv_Descr_6\",\"Niv_Descr_7\")"
   ]
  },
  {
   "cell_type": "markdown",
   "id": "e8165de1",
   "metadata": {},
   "source": [
    "Resultados de una sola variable:\n"
   ]
  },
  {
   "cell_type": "code",
   "execution_count": 130,
   "id": "e6429e77",
   "metadata": {},
   "outputs": [
    {
     "name": "stderr",
     "output_type": "stream",
     "text": [
      "<string>:29: FutureWarning:\n",
      "\n",
      "Passing literal json to 'read_json' is deprecated and will be removed in a future version. To read from a literal string, wrap it in a 'StringIO' object.\n",
      "\n"
     ]
    },
    {
     "name": "stderr",
     "output_type": "stream",
     "text": [
      "<string>:29: FutureWarning:\n",
      "\n",
      "Passing literal json to 'read_json' is deprecated and will be removed in a future version. To read from a literal string, wrap it in a 'StringIO' object.\n",
      "\n"
     ]
    },
    {
     "data": {
      "text/html": [
       "<div><style>\n",
       ".dataframe > thead > tr,\n",
       ".dataframe > tbody > tr {\n",
       "  text-align: right;\n",
       "  white-space: pre-wrap;\n",
       "}\n",
       "</style>\n",
       "<small>shape: (24, 2)</small><table border=\"1\" class=\"dataframe\"><thead><tr><th>Fecha</th><th>ESE-IES-01-13-Anual-Importaciones (Egresos)-Otros Servicios Empresariales</th></tr><tr><td>date</td><td>f64</td></tr></thead><tbody><tr><td>2000-01-01</td><td>46.2</td></tr><tr><td>2001-01-01</td><td>57.0</td></tr><tr><td>2002-01-01</td><td>48.1</td></tr><tr><td>2003-01-01</td><td>48.3</td></tr><tr><td>2004-01-01</td><td>50.7</td></tr><tr><td>&hellip;</td><td>&hellip;</td></tr><tr><td>2019-01-01</td><td>236.8</td></tr><tr><td>2020-01-01</td><td>265.5</td></tr><tr><td>2021-01-01</td><td>227.2</td></tr><tr><td>2022-01-01</td><td>237.9</td></tr><tr><td>2023-01-01</td><td>275.1</td></tr></tbody></table></div>"
      ],
      "text/plain": [
       "shape: (24, 2)\n",
       "┌────────────┬───────────────────────────────────┐\n",
       "│ Fecha      ┆ ESE-IES-01-13-Anual-Importacione… │\n",
       "│ ---        ┆ ---                               │\n",
       "│ date       ┆ f64                               │\n",
       "╞════════════╪═══════════════════════════════════╡\n",
       "│ 2000-01-01 ┆ 46.2                              │\n",
       "│ 2001-01-01 ┆ 57.0                              │\n",
       "│ 2002-01-01 ┆ 48.1                              │\n",
       "│ 2003-01-01 ┆ 48.3                              │\n",
       "│ 2004-01-01 ┆ 50.7                              │\n",
       "│ …          ┆ …                                 │\n",
       "│ 2019-01-01 ┆ 236.8                             │\n",
       "│ 2020-01-01 ┆ 265.5                             │\n",
       "│ 2021-01-01 ┆ 227.2                             │\n",
       "│ 2022-01-01 ┆ 237.9                             │\n",
       "│ 2023-01-01 ┆ 275.1                             │\n",
       "└────────────┴───────────────────────────────────┘"
      ]
     },
     "execution_count": 130,
     "metadata": {},
     "output_type": "execute_result"
    }
   ],
   "source": [
    "Id = 388\n",
    "df = get_df(Id)\n",
    "# get_plot(Id)\n",
    "df"
   ]
  },
  {
   "cell_type": "markdown",
   "id": "5a5a99ed",
   "metadata": {},
   "source": [
    "#### PII = Posición de Inversión Inernacional\n"
   ]
  },
  {
   "cell_type": "code",
   "execution_count": 131,
   "id": "c91a65e9",
   "metadata": {},
   "outputs": [
    {
     "name": "stdout",
     "output_type": "stream",
     "text": [
      "1 subgrupos\n",
      "17 variables\n"
     ]
    },
    {
     "name": "stderr",
     "output_type": "stream",
     "text": [
      "<string>:29: FutureWarning:\n",
      "\n",
      "Passing literal json to 'read_json' is deprecated and will be removed in a future version. To read from a literal string, wrap it in a 'StringIO' object.\n",
      "\n"
     ]
    },
    {
     "data": {
      "text/html": [
       "<div><style>\n",
       ".dataframe > thead > tr,\n",
       ".dataframe > tbody > tr {\n",
       "  text-align: right;\n",
       "  white-space: pre-wrap;\n",
       "}\n",
       "</style>\n",
       "<small>shape: (1, 4)</small><table border=\"1\" class=\"dataframe\"><thead><tr><th>Niv_Gr_1</th><th>Niv_Gr_2</th><th>Niv_Gr_3</th><th>N_Variables</th></tr><tr><td>str</td><td>str</td><td>str</td><td>u32</td></tr></thead><tbody><tr><td>&quot;ESE&quot;</td><td>&quot;PII&quot;</td><td>&quot;01&quot;</td><td>17</td></tr></tbody></table></div>"
      ],
      "text/plain": [
       "shape: (1, 4)\n",
       "┌──────────┬──────────┬──────────┬─────────────┐\n",
       "│ Niv_Gr_1 ┆ Niv_Gr_2 ┆ Niv_Gr_3 ┆ N_Variables │\n",
       "│ ---      ┆ ---      ┆ ---      ┆ ---         │\n",
       "│ str      ┆ str      ┆ str      ┆ u32         │\n",
       "╞══════════╪══════════╪══════════╪═════════════╡\n",
       "│ ESE      ┆ PII      ┆ 01       ┆ 17          │\n",
       "└──────────┴──────────┴──────────┴─────────────┘"
      ]
     },
     "execution_count": 131,
     "metadata": {},
     "output_type": "execute_result"
    }
   ],
   "source": [
    "res_nivel_3(\"ESE\",\"PII\",\"Niv_Gr_3\")"
   ]
  },
  {
   "cell_type": "markdown",
   "id": "ea126bf9",
   "metadata": {},
   "source": [
    "Agrupación:\n",
    "\n",
    "* Posición de Inversión Internacional por Categorí­a  \n",
    "* Posición de los Activos Financieros con no Residentes por Componente \n",
    "* Posición de los Pasivos Financieros con no Residentes por Componente \n",
    "* Posición de Inversión Internacional Neta por Componente \n"
   ]
  },
  {
   "cell_type": "code",
   "execution_count": 132,
   "id": "67126317",
   "metadata": {},
   "outputs": [
    {
     "name": "stderr",
     "output_type": "stream",
     "text": [
      "<string>:29: FutureWarning:\n",
      "\n",
      "Passing literal json to 'read_json' is deprecated and will be removed in a future version. To read from a literal string, wrap it in a 'StringIO' object.\n",
      "\n"
     ]
    },
    {
     "data": {
      "text/html": [
       "<div><style>\n",
       ".dataframe > thead > tr,\n",
       ".dataframe > tbody > tr {\n",
       "  text-align: right;\n",
       "  white-space: pre-wrap;\n",
       "}\n",
       "</style>\n",
       "<small>shape: (4, 5)</small><table border=\"1\" class=\"dataframe\"><thead><tr><th>Niv_Gr_1</th><th>Niv_Gr_2</th><th>Niv_Gr_3</th><th>Niv_Descr_5</th><th>N_Variables</th></tr><tr><td>str</td><td>str</td><td>str</td><td>str</td><td>u32</td></tr></thead><tbody><tr><td>&quot;ESE&quot;</td><td>&quot;PII&quot;</td><td>&quot;01&quot;</td><td>&quot; Posición de I…</td><td>5</td></tr><tr><td>&quot;ESE&quot;</td><td>&quot;PII&quot;</td><td>&quot;01&quot;</td><td>&quot; Posición de l…</td><td>5</td></tr><tr><td>&quot;ESE&quot;</td><td>&quot;PII&quot;</td><td>&quot;01&quot;</td><td>&quot; Posición de l…</td><td>4</td></tr><tr><td>&quot;ESE&quot;</td><td>&quot;PII&quot;</td><td>&quot;01&quot;</td><td>&quot; Posición de I…</td><td>3</td></tr></tbody></table></div>"
      ],
      "text/plain": [
       "shape: (4, 5)\n",
       "┌──────────┬──────────┬──────────┬───────────────────────────────────┬─────────────┐\n",
       "│ Niv_Gr_1 ┆ Niv_Gr_2 ┆ Niv_Gr_3 ┆ Niv_Descr_5                       ┆ N_Variables │\n",
       "│ ---      ┆ ---      ┆ ---      ┆ ---                               ┆ ---         │\n",
       "│ str      ┆ str      ┆ str      ┆ str                               ┆ u32         │\n",
       "╞══════════╪══════════╪══════════╪═══════════════════════════════════╪═════════════╡\n",
       "│ ESE      ┆ PII      ┆ 01       ┆  Posición de Inversión Internaci… ┆ 5           │\n",
       "│ ESE      ┆ PII      ┆ 01       ┆  Posición de los Activos Financi… ┆ 5           │\n",
       "│ ESE      ┆ PII      ┆ 01       ┆  Posición de los Pasivos Financi… ┆ 4           │\n",
       "│ ESE      ┆ PII      ┆ 01       ┆  Posición de Inversión Internaci… ┆ 3           │\n",
       "└──────────┴──────────┴──────────┴───────────────────────────────────┴─────────────┘"
      ]
     },
     "execution_count": 132,
     "metadata": {},
     "output_type": "execute_result"
    }
   ],
   "source": [
    "res_nivel_4(\n",
    "    \"ESE\",\"PII\",\n",
    "    \"Niv_Gr_3\",\n",
    "    \"01\",\"Niv_Descr_5\")"
   ]
  },
  {
   "cell_type": "markdown",
   "id": "2cff9996",
   "metadata": {},
   "source": [
    "Cuentas:\n",
    "\n",
    "* Activos \n",
    "* Pasivos\n",
    "* PII Neta\n",
    "* Inversió³n extranjera directa\n",
    "* Inversión de cartera\n",
    "* Derivados financieros\n",
    "* Otra inversión\n",
    "* Activos de reservas lí­quidos oficiales\n"
   ]
  },
  {
   "cell_type": "code",
   "execution_count": 133,
   "id": "67280b2e",
   "metadata": {},
   "outputs": [
    {
     "name": "stderr",
     "output_type": "stream",
     "text": [
      "<string>:29: FutureWarning:\n",
      "\n",
      "Passing literal json to 'read_json' is deprecated and will be removed in a future version. To read from a literal string, wrap it in a 'StringIO' object.\n",
      "\n"
     ]
    },
    {
     "data": {
      "text/html": [
       "<div><style>\n",
       ".dataframe > thead > tr,\n",
       ".dataframe > tbody > tr {\n",
       "  text-align: right;\n",
       "  white-space: pre-wrap;\n",
       "}\n",
       "</style>\n",
       "<small>shape: (8, 5)</small><table border=\"1\" class=\"dataframe\"><thead><tr><th>Niv_Gr_1</th><th>Niv_Gr_2</th><th>Niv_Gr_3</th><th>Niv_Descr_6</th><th>N_Variables</th></tr><tr><td>str</td><td>str</td><td>str</td><td>str</td><td>u32</td></tr></thead><tbody><tr><td>&quot;ESE&quot;</td><td>&quot;PII&quot;</td><td>&quot;01&quot;</td><td>&quot; Inversión ext…</td><td>3</td></tr><tr><td>&quot;ESE&quot;</td><td>&quot;PII&quot;</td><td>&quot;01&quot;</td><td>&quot; Otra inversió…</td><td>3</td></tr><tr><td>&quot;ESE&quot;</td><td>&quot;PII&quot;</td><td>&quot;01&quot;</td><td>&quot; Derivados fin…</td><td>3</td></tr><tr><td>&quot;ESE&quot;</td><td>&quot;PII&quot;</td><td>&quot;01&quot;</td><td>&quot; Inversión de …</td><td>3</td></tr><tr><td>&quot;ESE&quot;</td><td>&quot;PII&quot;</td><td>&quot;01&quot;</td><td>&quot; Activos de re…</td><td>2</td></tr><tr><td>&quot;ESE&quot;</td><td>&quot;PII&quot;</td><td>&quot;01&quot;</td><td>&quot; PII Neta&quot;</td><td>1</td></tr><tr><td>&quot;ESE&quot;</td><td>&quot;PII&quot;</td><td>&quot;01&quot;</td><td>&quot; Pasivos&quot;</td><td>1</td></tr><tr><td>&quot;ESE&quot;</td><td>&quot;PII&quot;</td><td>&quot;01&quot;</td><td>&quot; Activos &quot;</td><td>1</td></tr></tbody></table></div>"
      ],
      "text/plain": [
       "shape: (8, 5)\n",
       "┌──────────┬──────────┬──────────┬───────────────────────────────────┬─────────────┐\n",
       "│ Niv_Gr_1 ┆ Niv_Gr_2 ┆ Niv_Gr_3 ┆ Niv_Descr_6                       ┆ N_Variables │\n",
       "│ ---      ┆ ---      ┆ ---      ┆ ---                               ┆ ---         │\n",
       "│ str      ┆ str      ┆ str      ┆ str                               ┆ u32         │\n",
       "╞══════════╪══════════╪══════════╪═══════════════════════════════════╪═════════════╡\n",
       "│ ESE      ┆ PII      ┆ 01       ┆  Inversión extranjera directa     ┆ 3           │\n",
       "│ ESE      ┆ PII      ┆ 01       ┆  Otra inversión                   ┆ 3           │\n",
       "│ ESE      ┆ PII      ┆ 01       ┆  Derivados financieros            ┆ 3           │\n",
       "│ ESE      ┆ PII      ┆ 01       ┆  Inversión de cartera             ┆ 3           │\n",
       "│ ESE      ┆ PII      ┆ 01       ┆  Activos de reservas líquidos of… ┆ 2           │\n",
       "│ ESE      ┆ PII      ┆ 01       ┆  PII Neta                         ┆ 1           │\n",
       "│ ESE      ┆ PII      ┆ 01       ┆  Pasivos                          ┆ 1           │\n",
       "│ ESE      ┆ PII      ┆ 01       ┆  Activos                          ┆ 1           │\n",
       "└──────────┴──────────┴──────────┴───────────────────────────────────┴─────────────┘"
      ]
     },
     "execution_count": 133,
     "metadata": {},
     "output_type": "execute_result"
    }
   ],
   "source": [
    "res_nivel_4(\n",
    "    \"ESE\",\"PII\",\n",
    "    \"Niv_Gr_3\",\n",
    "    \"01\",\"Niv_Descr_6\")"
   ]
  },
  {
   "cell_type": "markdown",
   "id": "c9192d98",
   "metadata": {},
   "source": [
    "Para ver todas las variables:\n"
   ]
  },
  {
   "cell_type": "code",
   "execution_count": 134,
   "id": "14d93d48",
   "metadata": {},
   "outputs": [
    {
     "name": "stderr",
     "output_type": "stream",
     "text": [
      "<string>:29: FutureWarning:\n",
      "\n",
      "Passing literal json to 'read_json' is deprecated and will be removed in a future version. To read from a literal string, wrap it in a 'StringIO' object.\n",
      "\n"
     ]
    },
    {
     "data": {
      "text/html": [
       "<div><style>\n",
       ".dataframe > thead > tr,\n",
       ".dataframe > tbody > tr {\n",
       "  text-align: right;\n",
       "  white-space: pre-wrap;\n",
       "}\n",
       "</style>\n",
       "<small>shape: (17, 8)</small><table border=\"1\" class=\"dataframe\"><thead><tr><th>Niv_Gr_1</th><th>Niv_Gr_2</th><th>Niv_Gr_3</th><th>Id</th><th>Nombre</th><th>Niv_Descr_5</th><th>Niv_Descr_6</th><th>N_Variables</th></tr><tr><td>str</td><td>str</td><td>str</td><td>i64</td><td>str</td><td>str</td><td>str</td><td>u32</td></tr></thead><tbody><tr><td>&quot;ESE&quot;</td><td>&quot;PII&quot;</td><td>&quot;01&quot;</td><td>493</td><td>&quot;ESE-PII-01-A14…</td><td>&quot; Posición de I…</td><td>&quot; Inversión de …</td><td>1</td></tr><tr><td>&quot;ESE&quot;</td><td>&quot;PII&quot;</td><td>&quot;01&quot;</td><td>496</td><td>&quot;ESE-PII-01-A17…</td><td>&quot; Posición de I…</td><td>&quot; Activos de re…</td><td>1</td></tr><tr><td>&quot;ESE&quot;</td><td>&quot;PII&quot;</td><td>&quot;01&quot;</td><td>484</td><td>&quot;ESE-PII-01-A5&quot;</td><td>&quot; Posición de l…</td><td>&quot; Inversión de …</td><td>1</td></tr><tr><td>&quot;ESE&quot;</td><td>&quot;PII&quot;</td><td>&quot;01&quot;</td><td>490</td><td>&quot;ESE-PII-01-A11…</td><td>&quot; Posición de l…</td><td>&quot; Derivados fin…</td><td>1</td></tr><tr><td>&quot;ESE&quot;</td><td>&quot;PII&quot;</td><td>&quot;01&quot;</td><td>480</td><td>&quot;ESE-PII-01-A1&quot;</td><td>&quot; Posición de I…</td><td>&quot; Activos &quot;</td><td>1</td></tr><tr><td>&hellip;</td><td>&hellip;</td><td>&hellip;</td><td>&hellip;</td><td>&hellip;</td><td>&hellip;</td><td>&hellip;</td><td>&hellip;</td></tr><tr><td>&quot;ESE&quot;</td><td>&quot;PII&quot;</td><td>&quot;01&quot;</td><td>489</td><td>&quot;ESE-PII-01-A10…</td><td>&quot; Posición de l…</td><td>&quot; Inversión de …</td><td>1</td></tr><tr><td>&quot;ESE&quot;</td><td>&quot;PII&quot;</td><td>&quot;01&quot;</td><td>483</td><td>&quot;ESE-PII-01-A4&quot;</td><td>&quot; Posición de l…</td><td>&quot; Inversión ext…</td><td>1</td></tr><tr><td>&quot;ESE&quot;</td><td>&quot;PII&quot;</td><td>&quot;01&quot;</td><td>488</td><td>&quot;ESE-PII-01-A9&quot;</td><td>&quot; Posición de l…</td><td>&quot; Inversión ext…</td><td>1</td></tr><tr><td>&quot;ESE&quot;</td><td>&quot;PII&quot;</td><td>&quot;01&quot;</td><td>485</td><td>&quot;ESE-PII-01-A6&quot;</td><td>&quot; Posición de l…</td><td>&quot; Derivados fin…</td><td>1</td></tr><tr><td>&quot;ESE&quot;</td><td>&quot;PII&quot;</td><td>&quot;01&quot;</td><td>495</td><td>&quot;ESE-PII-01-A16…</td><td>&quot; Posición de I…</td><td>&quot; Otra inversió…</td><td>1</td></tr></tbody></table></div>"
      ],
      "text/plain": [
       "shape: (17, 8)\n",
       "┌──────────┬──────────┬──────────┬─────┬───────────────┬──────────────┬──────────────┬─────────────┐\n",
       "│ Niv_Gr_1 ┆ Niv_Gr_2 ┆ Niv_Gr_3 ┆ Id  ┆ Nombre        ┆ Niv_Descr_5  ┆ Niv_Descr_6  ┆ N_Variables │\n",
       "│ ---      ┆ ---      ┆ ---      ┆ --- ┆ ---           ┆ ---          ┆ ---          ┆ ---         │\n",
       "│ str      ┆ str      ┆ str      ┆ i64 ┆ str           ┆ str          ┆ str          ┆ u32         │\n",
       "╞══════════╪══════════╪══════════╪═════╪═══════════════╪══════════════╪══════════════╪═════════════╡\n",
       "│ ESE      ┆ PII      ┆ 01       ┆ 493 ┆ ESE-PII-01-A1 ┆ Posición de  ┆ Inversión de ┆ 1           │\n",
       "│          ┆          ┆          ┆     ┆ 4             ┆ Inversión    ┆ cartera      ┆             │\n",
       "│          ┆          ┆          ┆     ┆               ┆ Internaci…   ┆              ┆             │\n",
       "│ ESE      ┆ PII      ┆ 01       ┆ 496 ┆ ESE-PII-01-A1 ┆ Posición de  ┆ Activos de   ┆ 1           │\n",
       "│          ┆          ┆          ┆     ┆ 7             ┆ Inversión    ┆ reservas     ┆             │\n",
       "│          ┆          ┆          ┆     ┆               ┆ Internaci…   ┆ líquidos of… ┆             │\n",
       "│ ESE      ┆ PII      ┆ 01       ┆ 484 ┆ ESE-PII-01-A5 ┆ Posición de  ┆ Inversión de ┆ 1           │\n",
       "│          ┆          ┆          ┆     ┆               ┆ los Activos  ┆ cartera      ┆             │\n",
       "│          ┆          ┆          ┆     ┆               ┆ Financi…     ┆              ┆             │\n",
       "│ ESE      ┆ PII      ┆ 01       ┆ 490 ┆ ESE-PII-01-A1 ┆ Posición de  ┆ Derivados    ┆ 1           │\n",
       "│          ┆          ┆          ┆     ┆ 1             ┆ los Pasivos  ┆ financieros  ┆             │\n",
       "│          ┆          ┆          ┆     ┆               ┆ Financi…     ┆              ┆             │\n",
       "│ ESE      ┆ PII      ┆ 01       ┆ 480 ┆ ESE-PII-01-A1 ┆ Posición de  ┆  Activos     ┆ 1           │\n",
       "│          ┆          ┆          ┆     ┆               ┆ Inversión    ┆              ┆             │\n",
       "│          ┆          ┆          ┆     ┆               ┆ Internaci…   ┆              ┆             │\n",
       "│ …        ┆ …        ┆ …        ┆ …   ┆ …             ┆ …            ┆ …            ┆ …           │\n",
       "│ ESE      ┆ PII      ┆ 01       ┆ 489 ┆ ESE-PII-01-A1 ┆ Posición de  ┆ Inversión de ┆ 1           │\n",
       "│          ┆          ┆          ┆     ┆ 0             ┆ los Pasivos  ┆ cartera      ┆             │\n",
       "│          ┆          ┆          ┆     ┆               ┆ Financi…     ┆              ┆             │\n",
       "│ ESE      ┆ PII      ┆ 01       ┆ 483 ┆ ESE-PII-01-A4 ┆ Posición de  ┆ Inversión    ┆ 1           │\n",
       "│          ┆          ┆          ┆     ┆               ┆ los Activos  ┆ extranjera   ┆             │\n",
       "│          ┆          ┆          ┆     ┆               ┆ Financi…     ┆ directa      ┆             │\n",
       "│ ESE      ┆ PII      ┆ 01       ┆ 488 ┆ ESE-PII-01-A9 ┆ Posición de  ┆ Inversión    ┆ 1           │\n",
       "│          ┆          ┆          ┆     ┆               ┆ los Pasivos  ┆ extranjera   ┆             │\n",
       "│          ┆          ┆          ┆     ┆               ┆ Financi…     ┆ directa      ┆             │\n",
       "│ ESE      ┆ PII      ┆ 01       ┆ 485 ┆ ESE-PII-01-A6 ┆ Posición de  ┆ Derivados    ┆ 1           │\n",
       "│          ┆          ┆          ┆     ┆               ┆ los Activos  ┆ financieros  ┆             │\n",
       "│          ┆          ┆          ┆     ┆               ┆ Financi…     ┆              ┆             │\n",
       "│ ESE      ┆ PII      ┆ 01       ┆ 495 ┆ ESE-PII-01-A1 ┆ Posición de  ┆ Otra         ┆ 1           │\n",
       "│          ┆          ┆          ┆     ┆ 6             ┆ Inversión    ┆ inversión    ┆             │\n",
       "│          ┆          ┆          ┆     ┆               ┆ Internaci…   ┆              ┆             │\n",
       "└──────────┴──────────┴──────────┴─────┴───────────────┴──────────────┴──────────────┴─────────────┘"
      ]
     },
     "execution_count": 134,
     "metadata": {},
     "output_type": "execute_result"
    }
   ],
   "source": [
    "res_nivel_7(\n",
    "    \"ESE\",\"PII\",\n",
    "    \"Niv_Gr_3\",\n",
    "    \"01\",\"Id\",\"Nombre\",\"Niv_Descr_5\",\"Niv_Descr_6\")"
   ]
  },
  {
   "cell_type": "markdown",
   "id": "f5695a49",
   "metadata": {},
   "source": [
    "Resultados de una sola variable:\n"
   ]
  },
  {
   "cell_type": "code",
   "execution_count": 135,
   "id": "8da75d71",
   "metadata": {},
   "outputs": [
    {
     "name": "stderr",
     "output_type": "stream",
     "text": [
      "<string>:29: FutureWarning:\n",
      "\n",
      "Passing literal json to 'read_json' is deprecated and will be removed in a future version. To read from a literal string, wrap it in a 'StringIO' object.\n",
      "\n"
     ]
    },
    {
     "name": "stderr",
     "output_type": "stream",
     "text": [
      "<string>:29: FutureWarning:\n",
      "\n",
      "Passing literal json to 'read_json' is deprecated and will be removed in a future version. To read from a literal string, wrap it in a 'StringIO' object.\n",
      "\n"
     ]
    },
    {
     "data": {
      "text/html": [
       "<div><style>\n",
       ".dataframe > thead > tr,\n",
       ".dataframe > tbody > tr {\n",
       "  text-align: right;\n",
       "  white-space: pre-wrap;\n",
       "}\n",
       "</style>\n",
       "<small>shape: (64, 2)</small><table border=\"1\" class=\"dataframe\"><thead><tr><th>Fecha</th><th>ESE-PII-01 - D - Posición de Inversión Internacional Neta por Componente - Activos de reservas líquidos oficiales</th></tr><tr><td>date</td><td>f64</td></tr></thead><tbody><tr><td>2008-03-01</td><td>2512.7</td></tr><tr><td>2008-06-01</td><td>2541.4</td></tr><tr><td>2008-09-01</td><td>2350.1</td></tr><tr><td>2008-12-01</td><td>2449.7</td></tr><tr><td>2009-03-01</td><td>2542.6</td></tr><tr><td>&hellip;</td><td>&hellip;</td></tr><tr><td>2022-12-01</td><td>8410.5</td></tr><tr><td>2023-03-01</td><td>8122.5</td></tr><tr><td>2023-06-01</td><td>7902.2</td></tr><tr><td>2023-09-01</td><td>7675.0</td></tr><tr><td>2023-12-01</td><td>7543.8</td></tr></tbody></table></div>"
      ],
      "text/plain": [
       "shape: (64, 2)\n",
       "┌────────────┬───────────────────────────────────┐\n",
       "│ Fecha      ┆ ESE-PII-01 - D - Posición de Inv… │\n",
       "│ ---        ┆ ---                               │\n",
       "│ date       ┆ f64                               │\n",
       "╞════════════╪═══════════════════════════════════╡\n",
       "│ 2008-03-01 ┆ 2512.7                            │\n",
       "│ 2008-06-01 ┆ 2541.4                            │\n",
       "│ 2008-09-01 ┆ 2350.1                            │\n",
       "│ 2008-12-01 ┆ 2449.7                            │\n",
       "│ 2009-03-01 ┆ 2542.6                            │\n",
       "│ …          ┆ …                                 │\n",
       "│ 2022-12-01 ┆ 8410.5                            │\n",
       "│ 2023-03-01 ┆ 8122.5                            │\n",
       "│ 2023-06-01 ┆ 7902.2                            │\n",
       "│ 2023-09-01 ┆ 7675.0                            │\n",
       "│ 2023-12-01 ┆ 7543.8                            │\n",
       "└────────────┴───────────────────────────────────┘"
      ]
     },
     "execution_count": 135,
     "metadata": {},
     "output_type": "execute_result"
    }
   ],
   "source": [
    "Id = 496\n",
    "df = get_df(Id)\n",
    "# get_plot(Id)\n",
    "df"
   ]
  },
  {
   "cell_type": "markdown",
   "id": "63e9a2b2",
   "metadata": {},
   "source": [
    "#### IED = Inversión Extranjera Directa\n"
   ]
  },
  {
   "cell_type": "code",
   "execution_count": 136,
   "id": "98b912da",
   "metadata": {},
   "outputs": [
    {
     "name": "stdout",
     "output_type": "stream",
     "text": [
      "1 subgrupos\n",
      "10 variables\n"
     ]
    },
    {
     "name": "stderr",
     "output_type": "stream",
     "text": [
      "<string>:29: FutureWarning:\n",
      "\n",
      "Passing literal json to 'read_json' is deprecated and will be removed in a future version. To read from a literal string, wrap it in a 'StringIO' object.\n",
      "\n"
     ]
    },
    {
     "data": {
      "text/html": [
       "<div><style>\n",
       ".dataframe > thead > tr,\n",
       ".dataframe > tbody > tr {\n",
       "  text-align: right;\n",
       "  white-space: pre-wrap;\n",
       "}\n",
       "</style>\n",
       "<small>shape: (1, 4)</small><table border=\"1\" class=\"dataframe\"><thead><tr><th>Niv_Gr_1</th><th>Niv_Gr_2</th><th>Niv_Gr_3</th><th>N_Variables</th></tr><tr><td>str</td><td>str</td><td>str</td><td>u32</td></tr></thead><tbody><tr><td>&quot;ESE&quot;</td><td>&quot;IED&quot;</td><td>&quot;01&quot;</td><td>10</td></tr></tbody></table></div>"
      ],
      "text/plain": [
       "shape: (1, 4)\n",
       "┌──────────┬──────────┬──────────┬─────────────┐\n",
       "│ Niv_Gr_1 ┆ Niv_Gr_2 ┆ Niv_Gr_3 ┆ N_Variables │\n",
       "│ ---      ┆ ---      ┆ ---      ┆ ---         │\n",
       "│ str      ┆ str      ┆ str      ┆ u32         │\n",
       "╞══════════╪══════════╪══════════╪═════════════╡\n",
       "│ ESE      ┆ IED      ┆ 01       ┆ 10          │\n",
       "└──────────┴──────────┴──────────┴─────────────┘"
      ]
     },
     "execution_count": 136,
     "metadata": {},
     "output_type": "execute_result"
    }
   ],
   "source": [
    "res_nivel_3(\"ESE\",\"IED\",\"Niv_Gr_3\")"
   ]
  },
  {
   "cell_type": "markdown",
   "id": "6c8c49f1",
   "metadata": {},
   "source": [
    "Para ver todas las variables:\n"
   ]
  },
  {
   "cell_type": "code",
   "execution_count": 137,
   "id": "74c8cf83",
   "metadata": {},
   "outputs": [
    {
     "name": "stderr",
     "output_type": "stream",
     "text": [
      "<string>:29: FutureWarning:\n",
      "\n",
      "Passing literal json to 'read_json' is deprecated and will be removed in a future version. To read from a literal string, wrap it in a 'StringIO' object.\n",
      "\n"
     ]
    },
    {
     "data": {
      "text/html": [
       "<div><style>\n",
       ".dataframe > thead > tr,\n",
       ".dataframe > tbody > tr {\n",
       "  text-align: right;\n",
       "  white-space: pre-wrap;\n",
       "}\n",
       "</style>\n",
       "<small>shape: (10, 7)</small><table border=\"1\" class=\"dataframe\"><thead><tr><th>Niv_Gr_1</th><th>Niv_Gr_2</th><th>Niv_Gr_3</th><th>Id</th><th>Nombre</th><th>Niv_Descr_4</th><th>N_Variables</th></tr><tr><td>str</td><td>str</td><td>str</td><td>i64</td><td>str</td><td>str</td><td>u32</td></tr></thead><tbody><tr><td>&quot;ESE&quot;</td><td>&quot;IED&quot;</td><td>&quot;01&quot;</td><td>406</td><td>&quot;ESE-IED-01-2&quot;</td><td>&quot; Comercio, Res…</td><td>1</td></tr><tr><td>&quot;ESE&quot;</td><td>&quot;IED&quot;</td><td>&quot;01&quot;</td><td>405</td><td>&quot;ESE-IED-01-10&quot;</td><td>&quot; Transporte, A…</td><td>1</td></tr><tr><td>&quot;ESE&quot;</td><td>&quot;IED&quot;</td><td>&quot;01&quot;</td><td>410</td><td>&quot;ESE-IED-01-6&quot;</td><td>&quot; Industria Man…</td><td>1</td></tr><tr><td>&quot;ESE&quot;</td><td>&quot;IED&quot;</td><td>&quot;01&quot;</td><td>413</td><td>&quot;ESE-IED-01-9&quot;</td><td>&quot; IED Total&quot;</td><td>1</td></tr><tr><td>&quot;ESE&quot;</td><td>&quot;IED&quot;</td><td>&quot;01&quot;</td><td>407</td><td>&quot;ESE-IED-01-3&quot;</td><td>&quot; Construcción&quot;</td><td>1</td></tr><tr><td>&quot;ESE&quot;</td><td>&quot;IED&quot;</td><td>&quot;01&quot;</td><td>411</td><td>&quot;ESE-IED-01-7&quot;</td><td>&quot; Minas y Cante…</td><td>1</td></tr><tr><td>&quot;ESE&quot;</td><td>&quot;IED&quot;</td><td>&quot;01&quot;</td><td>409</td><td>&quot;ESE-IED-01-5&quot;</td><td>&quot; Industria de …</td><td>1</td></tr><tr><td>&quot;ESE&quot;</td><td>&quot;IED&quot;</td><td>&quot;01&quot;</td><td>408</td><td>&quot;ESE-IED-01-4&quot;</td><td>&quot; Electricidad,…</td><td>1</td></tr><tr><td>&quot;ESE&quot;</td><td>&quot;IED&quot;</td><td>&quot;01&quot;</td><td>412</td><td>&quot;ESE-IED-01-8&quot;</td><td>&quot; Servicios&quot;</td><td>1</td></tr><tr><td>&quot;ESE&quot;</td><td>&quot;IED&quot;</td><td>&quot;01&quot;</td><td>404</td><td>&quot;ESE-IED-01-1&quot;</td><td>&quot; Agricultura, …</td><td>1</td></tr></tbody></table></div>"
      ],
      "text/plain": [
       "shape: (10, 7)\n",
       "┌──────────┬──────────┬──────────┬─────┬───────────────┬─────────────────────────────┬─────────────┐\n",
       "│ Niv_Gr_1 ┆ Niv_Gr_2 ┆ Niv_Gr_3 ┆ Id  ┆ Nombre        ┆ Niv_Descr_4                 ┆ N_Variables │\n",
       "│ ---      ┆ ---      ┆ ---      ┆ --- ┆ ---           ┆ ---                         ┆ ---         │\n",
       "│ str      ┆ str      ┆ str      ┆ i64 ┆ str           ┆ str                         ┆ u32         │\n",
       "╞══════════╪══════════╪══════════╪═════╪═══════════════╪═════════════════════════════╪═════════════╡\n",
       "│ ESE      ┆ IED      ┆ 01       ┆ 406 ┆ ESE-IED-01-2  ┆ Comercio, Restaurantes y    ┆ 1           │\n",
       "│          ┆          ┆          ┆     ┆               ┆ Hotele…                     ┆             │\n",
       "│ ESE      ┆ IED      ┆ 01       ┆ 405 ┆ ESE-IED-01-10 ┆ Transporte, Almacenaje y    ┆ 1           │\n",
       "│          ┆          ┆          ┆     ┆               ┆ Teleco…                     ┆             │\n",
       "│ ESE      ┆ IED      ┆ 01       ┆ 410 ┆ ESE-IED-01-6  ┆  Industria Manufacturera    ┆ 1           │\n",
       "│ ESE      ┆ IED      ┆ 01       ┆ 413 ┆ ESE-IED-01-9  ┆  IED Total                  ┆ 1           │\n",
       "│ ESE      ┆ IED      ┆ 01       ┆ 407 ┆ ESE-IED-01-3  ┆  Construcción               ┆ 1           │\n",
       "│ ESE      ┆ IED      ┆ 01       ┆ 411 ┆ ESE-IED-01-7  ┆  Minas y Canteras           ┆ 1           │\n",
       "│ ESE      ┆ IED      ┆ 01       ┆ 409 ┆ ESE-IED-01-5  ┆ Industria de Bienes para    ┆ 1           │\n",
       "│          ┆          ┆          ┆     ┆               ┆ Transf…                     ┆             │\n",
       "│ ESE      ┆ IED      ┆ 01       ┆ 408 ┆ ESE-IED-01-4  ┆  Electricidad, Gas y Agua   ┆ 1           │\n",
       "│ ESE      ┆ IED      ┆ 01       ┆ 412 ┆ ESE-IED-01-8  ┆  Servicios                  ┆ 1           │\n",
       "│ ESE      ┆ IED      ┆ 01       ┆ 404 ┆ ESE-IED-01-1  ┆ Agricultura, Silvicultura,  ┆ 1           │\n",
       "│          ┆          ┆          ┆     ┆               ┆ Caza…                       ┆             │\n",
       "└──────────┴──────────┴──────────┴─────┴───────────────┴─────────────────────────────┴─────────────┘"
      ]
     },
     "execution_count": 137,
     "metadata": {},
     "output_type": "execute_result"
    }
   ],
   "source": [
    "res_nivel_6(\n",
    "    \"ESE\",\"IED\",\n",
    "    \"Niv_Gr_3\",\n",
    "    \"01\",\"Id\",\"Nombre\",\"Niv_Descr_4\")"
   ]
  },
  {
   "cell_type": "markdown",
   "id": "8ddee083",
   "metadata": {},
   "source": [
    "Resultados de una sola variable:\n"
   ]
  },
  {
   "cell_type": "code",
   "execution_count": 138,
   "id": "d9f74d19",
   "metadata": {},
   "outputs": [
    {
     "name": "stderr",
     "output_type": "stream",
     "text": [
      "<string>:29: FutureWarning:\n",
      "\n",
      "Passing literal json to 'read_json' is deprecated and will be removed in a future version. To read from a literal string, wrap it in a 'StringIO' object.\n",
      "\n"
     ]
    },
    {
     "name": "stderr",
     "output_type": "stream",
     "text": [
      "<string>:29: FutureWarning:\n",
      "\n",
      "Passing literal json to 'read_json' is deprecated and will be removed in a future version. To read from a literal string, wrap it in a 'StringIO' object.\n",
      "\n"
     ]
    },
    {
     "data": {
      "text/html": [
       "<div><style>\n",
       ".dataframe > thead > tr,\n",
       ".dataframe > tbody > tr {\n",
       "  text-align: right;\n",
       "  white-space: pre-wrap;\n",
       "}\n",
       "</style>\n",
       "<small>shape: (24, 2)</small><table border=\"1\" class=\"dataframe\"><thead><tr><th>Fecha</th><th>ESE-IED-01 - Industria de Bienes para Transformación (Maquila)</th></tr><tr><td>date</td><td>f64</td></tr></thead><tbody><tr><td>2000-01-01</td><td>50.7</td></tr><tr><td>2001-01-01</td><td>73.9</td></tr><tr><td>2002-01-01</td><td>73.3</td></tr><tr><td>2003-01-01</td><td>108.8</td></tr><tr><td>2004-01-01</td><td>174.9</td></tr><tr><td>&hellip;</td><td>&hellip;</td></tr><tr><td>2019-01-01</td><td>-34.6</td></tr><tr><td>2020-01-01</td><td>235.0</td></tr><tr><td>2021-01-01</td><td>77.4</td></tr><tr><td>2022-01-01</td><td>14.6</td></tr><tr><td>2023-01-01</td><td>-86.7</td></tr></tbody></table></div>"
      ],
      "text/plain": [
       "shape: (24, 2)\n",
       "┌────────────┬───────────────────────────────────┐\n",
       "│ Fecha      ┆ ESE-IED-01 - Industria de Bienes… │\n",
       "│ ---        ┆ ---                               │\n",
       "│ date       ┆ f64                               │\n",
       "╞════════════╪═══════════════════════════════════╡\n",
       "│ 2000-01-01 ┆ 50.7                              │\n",
       "│ 2001-01-01 ┆ 73.9                              │\n",
       "│ 2002-01-01 ┆ 73.3                              │\n",
       "│ 2003-01-01 ┆ 108.8                             │\n",
       "│ 2004-01-01 ┆ 174.9                             │\n",
       "│ …          ┆ …                                 │\n",
       "│ 2019-01-01 ┆ -34.6                             │\n",
       "│ 2020-01-01 ┆ 235.0                             │\n",
       "│ 2021-01-01 ┆ 77.4                              │\n",
       "│ 2022-01-01 ┆ 14.6                              │\n",
       "│ 2023-01-01 ┆ -86.7                             │\n",
       "└────────────┴───────────────────────────────────┘"
      ]
     },
     "execution_count": 138,
     "metadata": {},
     "output_type": "execute_result"
    }
   ],
   "source": [
    "Id = 409\n",
    "df = get_df(Id)\n",
    "# get_plot(Id)\n",
    "df"
   ]
  },
  {
   "cell_type": "markdown",
   "id": "abb67daa",
   "metadata": {},
   "source": [
    "### EMF = Estadísiticas Monetarias y Financieras\n"
   ]
  },
  {
   "cell_type": "code",
   "execution_count": 139,
   "id": "06ecd40f",
   "metadata": {},
   "outputs": [
    {
     "name": "stdout",
     "output_type": "stream",
     "text": [
      "11519 variables\n",
      "54 grupos\n",
      "12 variables\n",
      "4 grupos\n",
      "12 subgrupos\n"
     ]
    },
    {
     "name": "stderr",
     "output_type": "stream",
     "text": [
      "<string>:29: FutureWarning:\n",
      "\n",
      "Passing literal json to 'read_json' is deprecated and will be removed in a future version. To read from a literal string, wrap it in a 'StringIO' object.\n",
      "\n"
     ]
    },
    {
     "data": {
      "text/html": [
       "<div><style>\n",
       ".dataframe > thead > tr,\n",
       ".dataframe > tbody > tr {\n",
       "  text-align: right;\n",
       "  white-space: pre-wrap;\n",
       "}\n",
       "</style>\n",
       "<small>shape: (4, 4)</small><table border=\"1\" class=\"dataframe\"><thead><tr><th>Niv_Gr_1</th><th>Niv_Gr_2</th><th>N_Variables</th><th>N_Niv_Gr_2</th></tr><tr><td>str</td><td>str</td><td>u32</td><td>u32</td></tr></thead><tbody><tr><td>&quot;EMF&quot;</td><td>&quot;AMCC&quot;</td><td>6</td><td>6</td></tr><tr><td>&quot;EMF&quot;</td><td>&quot;TI&quot;</td><td>3</td><td>3</td></tr><tr><td>&quot;EMF&quot;</td><td>&quot;PFS&quot;</td><td>2</td><td>2</td></tr><tr><td>&quot;EMF&quot;</td><td>&quot;EBM&quot;</td><td>1</td><td>1</td></tr></tbody></table></div>"
      ],
      "text/plain": [
       "shape: (4, 4)\n",
       "┌──────────┬──────────┬─────────────┬────────────┐\n",
       "│ Niv_Gr_1 ┆ Niv_Gr_2 ┆ N_Variables ┆ N_Niv_Gr_2 │\n",
       "│ ---      ┆ ---      ┆ ---         ┆ ---        │\n",
       "│ str      ┆ str      ┆ u32         ┆ u32        │\n",
       "╞══════════╪══════════╪═════════════╪════════════╡\n",
       "│ EMF      ┆ AMCC     ┆ 6           ┆ 6          │\n",
       "│ EMF      ┆ TI       ┆ 3           ┆ 3          │\n",
       "│ EMF      ┆ PFS      ┆ 2           ┆ 2          │\n",
       "│ EMF      ┆ EBM      ┆ 1           ┆ 1          │\n",
       "└──────────┴──────────┴─────────────┴────────────┘"
      ]
     },
     "execution_count": 139,
     "metadata": {},
     "output_type": "execute_result"
    }
   ],
   "source": [
    "res_nivel_2(\"EMF\")"
   ]
  },
  {
   "cell_type": "markdown",
   "id": "475a8dff",
   "metadata": {},
   "source": [
    "#### AMCC = Agregados Monetarios, Crédito y Captación\n"
   ]
  },
  {
   "cell_type": "code",
   "execution_count": 140,
   "id": "661d7907",
   "metadata": {},
   "outputs": [
    {
     "name": "stdout",
     "output_type": "stream",
     "text": [
      "6 subgrupos\n",
      "102 variables\n"
     ]
    },
    {
     "name": "stderr",
     "output_type": "stream",
     "text": [
      "<string>:29: FutureWarning:\n",
      "\n",
      "Passing literal json to 'read_json' is deprecated and will be removed in a future version. To read from a literal string, wrap it in a 'StringIO' object.\n",
      "\n"
     ]
    },
    {
     "data": {
      "text/html": [
       "<div><style>\n",
       ".dataframe > thead > tr,\n",
       ".dataframe > tbody > tr {\n",
       "  text-align: right;\n",
       "  white-space: pre-wrap;\n",
       "}\n",
       "</style>\n",
       "<small>shape: (6, 4)</small><table border=\"1\" class=\"dataframe\"><thead><tr><th>Niv_Gr_1</th><th>Niv_Gr_2</th><th>Niv_Gr_3</th><th>N_Variables</th></tr><tr><td>str</td><td>str</td><td>str</td><td>u32</td></tr></thead><tbody><tr><td>&quot;EMF&quot;</td><td>&quot;AMCC&quot;</td><td>&quot;01&quot;</td><td>46</td></tr><tr><td>&quot;EMF&quot;</td><td>&quot;AMCC&quot;</td><td>&quot;02&quot;</td><td>16</td></tr><tr><td>&quot;EMF&quot;</td><td>&quot;AMCC&quot;</td><td>&quot;03&quot;</td><td>6</td></tr><tr><td>&quot;EMF&quot;</td><td>&quot;AMCC&quot;</td><td>&quot;04&quot;</td><td>6</td></tr><tr><td>&quot;EMF&quot;</td><td>&quot;AMCC&quot;</td><td>&quot;05&quot;</td><td>14</td></tr><tr><td>&quot;EMF&quot;</td><td>&quot;AMCC&quot;</td><td>&quot;06&quot;</td><td>14</td></tr></tbody></table></div>"
      ],
      "text/plain": [
       "shape: (6, 4)\n",
       "┌──────────┬──────────┬──────────┬─────────────┐\n",
       "│ Niv_Gr_1 ┆ Niv_Gr_2 ┆ Niv_Gr_3 ┆ N_Variables │\n",
       "│ ---      ┆ ---      ┆ ---      ┆ ---         │\n",
       "│ str      ┆ str      ┆ str      ┆ u32         │\n",
       "╞══════════╪══════════╪══════════╪═════════════╡\n",
       "│ EMF      ┆ AMCC     ┆ 01       ┆ 46          │\n",
       "│ EMF      ┆ AMCC     ┆ 02       ┆ 16          │\n",
       "│ EMF      ┆ AMCC     ┆ 03       ┆ 6           │\n",
       "│ EMF      ┆ AMCC     ┆ 04       ┆ 6           │\n",
       "│ EMF      ┆ AMCC     ┆ 05       ┆ 14          │\n",
       "│ EMF      ┆ AMCC     ┆ 06       ┆ 14          │\n",
       "└──────────┴──────────┴──────────┴─────────────┘"
      ]
     },
     "execution_count": 140,
     "metadata": {},
     "output_type": "execute_result"
    }
   ],
   "source": [
    "res_nivel_3(\"EMF\",\"AMCC\",\"Niv_Gr_3\").sort(\"Niv_Gr_3\")"
   ]
  },
  {
   "cell_type": "markdown",
   "id": "77fb8eec",
   "metadata": {},
   "source": [
    "##### 01 Agregados Monetarios, Crédito y Captación\n",
    "\n",
    "Grupos:\n"
   ]
  },
  {
   "cell_type": "code",
   "execution_count": 141,
   "id": "4a925b4e",
   "metadata": {},
   "outputs": [
    {
     "name": "stderr",
     "output_type": "stream",
     "text": [
      "<string>:29: FutureWarning:\n",
      "\n",
      "Passing literal json to 'read_json' is deprecated and will be removed in a future version. To read from a literal string, wrap it in a 'StringIO' object.\n",
      "\n"
     ]
    },
    {
     "data": {
      "text/html": [
       "<div><style>\n",
       ".dataframe > thead > tr,\n",
       ".dataframe > tbody > tr {\n",
       "  text-align: right;\n",
       "  white-space: pre-wrap;\n",
       "}\n",
       "</style>\n",
       "<small>shape: (7, 5)</small><table border=\"1\" class=\"dataframe\"><thead><tr><th>Niv_Gr_1</th><th>Niv_Gr_2</th><th>Niv_Gr_3</th><th>Niv_Descr_5</th><th>N_Variables</th></tr><tr><td>str</td><td>str</td><td>str</td><td>str</td><td>u32</td></tr></thead><tbody><tr><td>&quot;EMF&quot;</td><td>&quot;AMCC&quot;</td><td>&quot;01&quot;</td><td>&quot; Captación Ban…</td><td>8</td></tr><tr><td>&quot;EMF&quot;</td><td>&quot;AMCC&quot;</td><td>&quot;01&quot;</td><td>&quot; Captación Otr…</td><td>8</td></tr><tr><td>&quot;EMF&quot;</td><td>&quot;AMCC&quot;</td><td>&quot;01&quot;</td><td>&quot; Crédito Otras…</td><td>6</td></tr><tr><td>&quot;EMF&quot;</td><td>&quot;AMCC&quot;</td><td>&quot;01&quot;</td><td>&quot; Crédito de lo…</td><td>6</td></tr><tr><td>&quot;EMF&quot;</td><td>&quot;AMCC&quot;</td><td>&quot;01&quot;</td><td>&quot; Agregados Mon…</td><td>6</td></tr><tr><td>&quot;EMF&quot;</td><td>&quot;AMCC&quot;</td><td>&quot;01&quot;</td><td>&quot; Crédito Secto…</td><td>6</td></tr><tr><td>&quot;EMF&quot;</td><td>&quot;AMCC&quot;</td><td>&quot;01&quot;</td><td>&quot; Crédito Otras…</td><td>6</td></tr></tbody></table></div>"
      ],
      "text/plain": [
       "shape: (7, 5)\n",
       "┌──────────┬──────────┬──────────┬───────────────────────────────────┬─────────────┐\n",
       "│ Niv_Gr_1 ┆ Niv_Gr_2 ┆ Niv_Gr_3 ┆ Niv_Descr_5                       ┆ N_Variables │\n",
       "│ ---      ┆ ---      ┆ ---      ┆ ---                               ┆ ---         │\n",
       "│ str      ┆ str      ┆ str      ┆ str                               ┆ u32         │\n",
       "╞══════════╪══════════╪══════════╪═══════════════════════════════════╪═════════════╡\n",
       "│ EMF      ┆ AMCC     ┆ 01       ┆  Captación Bancos Comerciales     ┆ 8           │\n",
       "│ EMF      ┆ AMCC     ┆ 01       ┆  Captación Otras Sociedades de D… ┆ 8           │\n",
       "│ EMF      ┆ AMCC     ┆ 01       ┆  Crédito Otras Sociedades Financ… ┆ 6           │\n",
       "│ EMF      ┆ AMCC     ┆ 01       ┆  Crédito de los Bancos Comercial… ┆ 6           │\n",
       "│ EMF      ┆ AMCC     ┆ 01       ┆  Agregados Monetarios             ┆ 6           │\n",
       "│ EMF      ┆ AMCC     ┆ 01       ┆  Crédito Sector Financiero        ┆ 6           │\n",
       "│ EMF      ┆ AMCC     ┆ 01       ┆  Crédito Otras Sociedades de Dep… ┆ 6           │\n",
       "└──────────┴──────────┴──────────┴───────────────────────────────────┴─────────────┘"
      ]
     },
     "execution_count": 141,
     "metadata": {},
     "output_type": "execute_result"
    }
   ],
   "source": [
    "res_nivel_4(\n",
    "    \"EMF\",\"AMCC\",\n",
    "    \"Niv_Gr_3\",\"01\",\n",
    "    \"Niv_Descr_5\")"
   ]
  },
  {
   "cell_type": "markdown",
   "id": "1b28bf26",
   "metadata": {},
   "source": [
    "Variables:\n"
   ]
  },
  {
   "cell_type": "code",
   "execution_count": 142,
   "id": "92bda6ec",
   "metadata": {},
   "outputs": [
    {
     "name": "stderr",
     "output_type": "stream",
     "text": [
      "<string>:29: FutureWarning:\n",
      "\n",
      "Passing literal json to 'read_json' is deprecated and will be removed in a future version. To read from a literal string, wrap it in a 'StringIO' object.\n",
      "\n"
     ]
    },
    {
     "data": {
      "text/html": [
       "<div><style>\n",
       ".dataframe > thead > tr,\n",
       ".dataframe > tbody > tr {\n",
       "  text-align: right;\n",
       "  white-space: pre-wrap;\n",
       "}\n",
       "</style>\n",
       "<small>shape: (7, 5)</small><table border=\"1\" class=\"dataframe\"><thead><tr><th>Niv_Gr_1</th><th>Niv_Gr_2</th><th>Niv_Gr_3</th><th>Niv_Descr_6</th><th>N_Variables</th></tr><tr><td>str</td><td>str</td><td>str</td><td>str</td><td>u32</td></tr></thead><tbody><tr><td>&quot;EMF&quot;</td><td>&quot;AMCC&quot;</td><td>&quot;01&quot;</td><td>&quot; Hogares&quot;</td><td>12</td></tr><tr><td>&quot;EMF&quot;</td><td>&quot;AMCC&quot;</td><td>&quot;01&quot;</td><td>&quot; Total&quot;</td><td>12</td></tr><tr><td>&quot;EMF&quot;</td><td>&quot;AMCC&quot;</td><td>&quot;01&quot;</td><td>&quot; Empresas Priv…</td><td>12</td></tr><tr><td>&quot;EMF&quot;</td><td>&quot;AMCC&quot;</td><td>&quot;01&quot;</td><td>&quot; Otros Sectore…</td><td>4</td></tr><tr><td>&quot;EMF&quot;</td><td>&quot;AMCC&quot;</td><td>&quot;01&quot;</td><td>&quot; M3&quot;</td><td>2</td></tr><tr><td>&quot;EMF&quot;</td><td>&quot;AMCC&quot;</td><td>&quot;01&quot;</td><td>&quot; M2&quot;</td><td>2</td></tr><tr><td>&quot;EMF&quot;</td><td>&quot;AMCC&quot;</td><td>&quot;01&quot;</td><td>&quot; M1&quot;</td><td>2</td></tr></tbody></table></div>"
      ],
      "text/plain": [
       "shape: (7, 5)\n",
       "┌──────────┬──────────┬──────────┬────────────────────┬─────────────┐\n",
       "│ Niv_Gr_1 ┆ Niv_Gr_2 ┆ Niv_Gr_3 ┆ Niv_Descr_6        ┆ N_Variables │\n",
       "│ ---      ┆ ---      ┆ ---      ┆ ---                ┆ ---         │\n",
       "│ str      ┆ str      ┆ str      ┆ str                ┆ u32         │\n",
       "╞══════════╪══════════╪══════════╪════════════════════╪═════════════╡\n",
       "│ EMF      ┆ AMCC     ┆ 01       ┆  Hogares           ┆ 12          │\n",
       "│ EMF      ┆ AMCC     ┆ 01       ┆  Total             ┆ 12          │\n",
       "│ EMF      ┆ AMCC     ┆ 01       ┆  Empresas Privadas ┆ 12          │\n",
       "│ EMF      ┆ AMCC     ┆ 01       ┆  Otros Sectores    ┆ 4           │\n",
       "│ EMF      ┆ AMCC     ┆ 01       ┆  M3                ┆ 2           │\n",
       "│ EMF      ┆ AMCC     ┆ 01       ┆  M2                ┆ 2           │\n",
       "│ EMF      ┆ AMCC     ┆ 01       ┆  M1                ┆ 2           │\n",
       "└──────────┴──────────┴──────────┴────────────────────┴─────────────┘"
      ]
     },
     "execution_count": 142,
     "metadata": {},
     "output_type": "execute_result"
    }
   ],
   "source": [
    "res_nivel_4(\n",
    "    \"EMF\",\"AMCC\",\n",
    "    \"Niv_Gr_3\",\"01\",\n",
    "    \"Niv_Descr_6\")"
   ]
  },
  {
   "cell_type": "markdown",
   "id": "62059772",
   "metadata": {},
   "source": [
    "Para ver todas las variables:\n"
   ]
  },
  {
   "cell_type": "code",
   "execution_count": 143,
   "id": "312c0704",
   "metadata": {},
   "outputs": [
    {
     "name": "stderr",
     "output_type": "stream",
     "text": [
      "<string>:29: FutureWarning:\n",
      "\n",
      "Passing literal json to 'read_json' is deprecated and will be removed in a future version. To read from a literal string, wrap it in a 'StringIO' object.\n",
      "\n"
     ]
    },
    {
     "data": {
      "text/html": [
       "<div><style>\n",
       ".dataframe > thead > tr,\n",
       ".dataframe > tbody > tr {\n",
       "  text-align: right;\n",
       "  white-space: pre-wrap;\n",
       "}\n",
       "</style>\n",
       "<small>shape: (46, 8)</small><table border=\"1\" class=\"dataframe\"><thead><tr><th>Niv_Gr_1</th><th>Niv_Gr_2</th><th>Niv_Gr_3</th><th>Id</th><th>Niv_Descr_5</th><th>Niv_Descr_6</th><th>Niv_Descr_4</th><th>N_Variables</th></tr><tr><td>str</td><td>str</td><td>str</td><td>i64</td><td>str</td><td>str</td><td>str</td><td>u32</td></tr></thead><tbody><tr><td>&quot;EMF&quot;</td><td>&quot;AMCC&quot;</td><td>&quot;01&quot;</td><td>545</td><td>&quot; Captación Otr…</td><td>&quot; Total&quot;</td><td>&quot; VariaciónCapt…</td><td>1</td></tr><tr><td>&quot;EMF&quot;</td><td>&quot;AMCC&quot;</td><td>&quot;01&quot;</td><td>551</td><td>&quot; Captación Ban…</td><td>&quot; Total&quot;</td><td>&quot; Captacióndelo…</td><td>1</td></tr><tr><td>&quot;EMF&quot;</td><td>&quot;AMCC&quot;</td><td>&quot;01&quot;</td><td>564</td><td>&quot; Crédito de lo…</td><td>&quot; Empresas Priv…</td><td>&quot; VariaciónCréd…</td><td>1</td></tr><tr><td>&quot;EMF&quot;</td><td>&quot;AMCC&quot;</td><td>&quot;01&quot;</td><td>579</td><td>&quot; Captación Ban…</td><td>&quot; Otros Sectore…</td><td>&quot; VariaciónCapt…</td><td>1</td></tr><tr><td>&quot;EMF&quot;</td><td>&quot;AMCC&quot;</td><td>&quot;01&quot;</td><td>534</td><td>&quot; Agregados Mon…</td><td>&quot; M1&quot;</td><td>&quot; VariaciónM1 &quot;</td><td>1</td></tr><tr><td>&hellip;</td><td>&hellip;</td><td>&hellip;</td><td>&hellip;</td><td>&hellip;</td><td>&hellip;</td><td>&hellip;</td><td>&hellip;</td></tr><tr><td>&quot;EMF&quot;</td><td>&quot;AMCC&quot;</td><td>&quot;01&quot;</td><td>542</td><td>&quot; Crédito de lo…</td><td>&quot; Total&quot;</td><td>&quot; VariaciónCréd…</td><td>1</td></tr><tr><td>&quot;EMF&quot;</td><td>&quot;AMCC&quot;</td><td>&quot;01&quot;</td><td>544</td><td>&quot; Crédito Otras…</td><td>&quot; Total&quot;</td><td>&quot; CréditodelasO…</td><td>1</td></tr><tr><td>&quot;EMF&quot;</td><td>&quot;AMCC&quot;</td><td>&quot;01&quot;</td><td>576</td><td>&quot; Captación Ban…</td><td>&quot; Otros Sectore…</td><td>&quot; CaptaciónBCOt…</td><td>1</td></tr><tr><td>&quot;EMF&quot;</td><td>&quot;AMCC&quot;</td><td>&quot;01&quot;</td><td>578</td><td>&quot; Captación Otr…</td><td>&quot; Otros Sectore…</td><td>&quot; CaptaciónOSDO…</td><td>1</td></tr><tr><td>&quot;EMF&quot;</td><td>&quot;AMCC&quot;</td><td>&quot;01&quot;</td><td>557</td><td>&quot; Crédito Secto…</td><td>&quot; Hogares&quot;</td><td>&quot; VariaciónCréd…</td><td>1</td></tr></tbody></table></div>"
      ],
      "text/plain": [
       "shape: (46, 8)\n",
       "┌──────────┬──────────┬──────────┬─────┬───────────────┬──────────────┬──────────────┬─────────────┐\n",
       "│ Niv_Gr_1 ┆ Niv_Gr_2 ┆ Niv_Gr_3 ┆ Id  ┆ Niv_Descr_5   ┆ Niv_Descr_6  ┆ Niv_Descr_4  ┆ N_Variables │\n",
       "│ ---      ┆ ---      ┆ ---      ┆ --- ┆ ---           ┆ ---          ┆ ---          ┆ ---         │\n",
       "│ str      ┆ str      ┆ str      ┆ i64 ┆ str           ┆ str          ┆ str          ┆ u32         │\n",
       "╞══════════╪══════════╪══════════╪═════╪═══════════════╪══════════════╪══════════════╪═════════════╡\n",
       "│ EMF      ┆ AMCC     ┆ 01       ┆ 545 ┆ Captación     ┆  Total       ┆ VariaciónCap ┆ 1           │\n",
       "│          ┆          ┆          ┆     ┆ Otras         ┆              ┆ tacióndelasO ┆             │\n",
       "│          ┆          ┆          ┆     ┆ Sociedades de ┆              ┆ SDTotal…     ┆             │\n",
       "│          ┆          ┆          ┆     ┆ D…            ┆              ┆              ┆             │\n",
       "│ EMF      ┆ AMCC     ┆ 01       ┆ 551 ┆ Captación     ┆  Total       ┆ Captacióndel ┆ 1           │\n",
       "│          ┆          ┆          ┆     ┆ Bancos        ┆              ┆ osBancosCome ┆             │\n",
       "│          ┆          ┆          ┆     ┆ Comerciales   ┆              ┆ rciales…     ┆             │\n",
       "│ EMF      ┆ AMCC     ┆ 01       ┆ 564 ┆ Crédito de    ┆ Empresas     ┆ VariaciónCré ┆ 1           │\n",
       "│          ┆          ┆          ┆     ┆ los Bancos    ┆ Privadas     ┆ ditoBCEmpres ┆             │\n",
       "│          ┆          ┆          ┆     ┆ Comercial…    ┆              ┆ asPriva…     ┆             │\n",
       "│ EMF      ┆ AMCC     ┆ 01       ┆ 579 ┆ Captación     ┆ Otros        ┆ VariaciónCap ┆ 1           │\n",
       "│          ┆          ┆          ┆     ┆ Bancos        ┆ Sectores     ┆ taciónBCOtro ┆             │\n",
       "│          ┆          ┆          ┆     ┆ Comerciales   ┆              ┆ sSector…     ┆             │\n",
       "│ EMF      ┆ AMCC     ┆ 01       ┆ 534 ┆ Agregados     ┆  M1          ┆ VariaciónM1  ┆ 1           │\n",
       "│          ┆          ┆          ┆     ┆ Monetarios    ┆              ┆              ┆             │\n",
       "│ …        ┆ …        ┆ …        ┆ …   ┆ …             ┆ …            ┆ …            ┆ …           │\n",
       "│ EMF      ┆ AMCC     ┆ 01       ┆ 542 ┆ Crédito de    ┆  Total       ┆ VariaciónCré ┆ 1           │\n",
       "│          ┆          ┆          ┆     ┆ los Bancos    ┆              ┆ ditodelosBan ┆             │\n",
       "│          ┆          ┆          ┆     ┆ Comercial…    ┆              ┆ cosCome…     ┆             │\n",
       "│ EMF      ┆ AMCC     ┆ 01       ┆ 544 ┆ Crédito Otras ┆  Total       ┆ Créditodelas ┆ 1           │\n",
       "│          ┆          ┆          ┆     ┆ Sociedades de ┆              ┆ OSDTotal     ┆             │\n",
       "│          ┆          ┆          ┆     ┆ Dep…          ┆              ┆              ┆             │\n",
       "│ EMF      ┆ AMCC     ┆ 01       ┆ 576 ┆ Captación     ┆ Otros        ┆ CaptaciónBCO ┆ 1           │\n",
       "│          ┆          ┆          ┆     ┆ Bancos        ┆ Sectores     ┆ trosSectores ┆             │\n",
       "│          ┆          ┆          ┆     ┆ Comerciales   ┆              ┆              ┆             │\n",
       "│ EMF      ┆ AMCC     ┆ 01       ┆ 578 ┆ Captación     ┆ Otros        ┆ CaptaciónOSD ┆ 1           │\n",
       "│          ┆          ┆          ┆     ┆ Otras         ┆ Sectores     ┆ OtrosSectore ┆             │\n",
       "│          ┆          ┆          ┆     ┆ Sociedades de ┆              ┆ s            ┆             │\n",
       "│          ┆          ┆          ┆     ┆ D…            ┆              ┆              ┆             │\n",
       "│ EMF      ┆ AMCC     ┆ 01       ┆ 557 ┆ Crédito       ┆  Hogares     ┆ VariaciónCré ┆ 1           │\n",
       "│          ┆          ┆          ┆     ┆ Sector        ┆              ┆ ditodelSFaHo ┆             │\n",
       "│          ┆          ┆          ┆     ┆ Financiero    ┆              ┆ gares        ┆             │\n",
       "└──────────┴──────────┴──────────┴─────┴───────────────┴──────────────┴──────────────┴─────────────┘"
      ]
     },
     "execution_count": 143,
     "metadata": {},
     "output_type": "execute_result"
    }
   ],
   "source": [
    "res_nivel_7(\n",
    "    \"EMF\",\"AMCC\",\n",
    "    \"Niv_Gr_3\",\"01\",\n",
    "    \"Id\",\"Niv_Descr_5\",\"Niv_Descr_6\",\"Niv_Descr_4\")"
   ]
  },
  {
   "cell_type": "markdown",
   "id": "4f99b2f8",
   "metadata": {},
   "source": [
    "Resultados de una sola variable:\n"
   ]
  },
  {
   "cell_type": "code",
   "execution_count": 144,
   "id": "18cc7c0e",
   "metadata": {},
   "outputs": [
    {
     "name": "stderr",
     "output_type": "stream",
     "text": [
      "<string>:29: FutureWarning:\n",
      "\n",
      "Passing literal json to 'read_json' is deprecated and will be removed in a future version. To read from a literal string, wrap it in a 'StringIO' object.\n",
      "\n"
     ]
    },
    {
     "name": "stderr",
     "output_type": "stream",
     "text": [
      "<string>:29: FutureWarning:\n",
      "\n",
      "Passing literal json to 'read_json' is deprecated and will be removed in a future version. To read from a literal string, wrap it in a 'StringIO' object.\n",
      "\n"
     ]
    },
    {
     "data": {
      "text/html": [
       "<div><style>\n",
       ".dataframe > thead > tr,\n",
       ".dataframe > tbody > tr {\n",
       "  text-align: right;\n",
       "  white-space: pre-wrap;\n",
       "}\n",
       "</style>\n",
       "<small>shape: (183, 2)</small><table border=\"1\" class=\"dataframe\"><thead><tr><th>Fecha</th><th>EMF-AMCC-01 - CaptacióndelasOSDTotal - Captación Otras Sociedades de Depósito - Total</th></tr><tr><td>date</td><td>f64</td></tr></thead><tbody><tr><td>2009-01-01</td><td>121098.9568</td></tr><tr><td>2009-02-01</td><td>122857.7616</td></tr><tr><td>2009-03-01</td><td>123678.236</td></tr><tr><td>2009-04-01</td><td>124122.7985</td></tr><tr><td>2009-05-01</td><td>124697.6893</td></tr><tr><td>&hellip;</td><td>&hellip;</td></tr><tr><td>2023-11-01</td><td>545201.5847</td></tr><tr><td>2023-12-01</td><td>559471.0519</td></tr><tr><td>2024-01-01</td><td>562707.5954</td></tr><tr><td>2024-02-01</td><td>568256.0198</td></tr><tr><td>2024-03-01</td><td>573083.8768</td></tr></tbody></table></div>"
      ],
      "text/plain": [
       "shape: (183, 2)\n",
       "┌────────────┬───────────────────────────────────┐\n",
       "│ Fecha      ┆ EMF-AMCC-01 - CaptacióndelasOSDT… │\n",
       "│ ---        ┆ ---                               │\n",
       "│ date       ┆ f64                               │\n",
       "╞════════════╪═══════════════════════════════════╡\n",
       "│ 2009-01-01 ┆ 121098.9568                       │\n",
       "│ 2009-02-01 ┆ 122857.7616                       │\n",
       "│ 2009-03-01 ┆ 123678.236                        │\n",
       "│ 2009-04-01 ┆ 124122.7985                       │\n",
       "│ 2009-05-01 ┆ 124697.6893                       │\n",
       "│ …          ┆ …                                 │\n",
       "│ 2023-11-01 ┆ 545201.5847                       │\n",
       "│ 2023-12-01 ┆ 559471.0519                       │\n",
       "│ 2024-01-01 ┆ 562707.5954                       │\n",
       "│ 2024-02-01 ┆ 568256.0198                       │\n",
       "│ 2024-03-01 ┆ 573083.8768                       │\n",
       "└────────────┴───────────────────────────────────┘"
      ]
     },
     "execution_count": 144,
     "metadata": {},
     "output_type": "execute_result"
    }
   ],
   "source": [
    "Id = 548\n",
    "df = get_df(Id)\n",
    "# get_plot(Id)\n",
    "df"
   ]
  },
  {
   "cell_type": "markdown",
   "id": "2e926f69",
   "metadata": {},
   "source": [
    "##### 02 Captación: Bancos Comerciales y Otras Sociedades de Depósito (Variación y Saldo)\n"
   ]
  },
  {
   "cell_type": "code",
   "execution_count": 145,
   "id": "f46fdc05",
   "metadata": {},
   "outputs": [
    {
     "name": "stderr",
     "output_type": "stream",
     "text": [
      "<string>:29: FutureWarning:\n",
      "\n",
      "Passing literal json to 'read_json' is deprecated and will be removed in a future version. To read from a literal string, wrap it in a 'StringIO' object.\n",
      "\n"
     ]
    },
    {
     "data": {
      "text/html": [
       "<div><style>\n",
       ".dataframe > thead > tr,\n",
       ".dataframe > tbody > tr {\n",
       "  text-align: right;\n",
       "  white-space: pre-wrap;\n",
       "}\n",
       "</style>\n",
       "<small>shape: (2, 5)</small><table border=\"1\" class=\"dataframe\"><thead><tr><th>Niv_Gr_1</th><th>Niv_Gr_2</th><th>Niv_Gr_3</th><th>Niv_Descr_1</th><th>N_Variables</th></tr><tr><td>str</td><td>str</td><td>str</td><td>str</td><td>u32</td></tr></thead><tbody><tr><td>&quot;EMF&quot;</td><td>&quot;AMCC&quot;</td><td>&quot;02&quot;</td><td>&quot;Captación Otra…</td><td>8</td></tr><tr><td>&quot;EMF&quot;</td><td>&quot;AMCC&quot;</td><td>&quot;02&quot;</td><td>&quot;Captación Banc…</td><td>8</td></tr></tbody></table></div>"
      ],
      "text/plain": [
       "shape: (2, 5)\n",
       "┌──────────┬──────────┬──────────┬───────────────────────────────────┬─────────────┐\n",
       "│ Niv_Gr_1 ┆ Niv_Gr_2 ┆ Niv_Gr_3 ┆ Niv_Descr_1                       ┆ N_Variables │\n",
       "│ ---      ┆ ---      ┆ ---      ┆ ---                               ┆ ---         │\n",
       "│ str      ┆ str      ┆ str      ┆ str                               ┆ u32         │\n",
       "╞══════════╪══════════╪══════════╪═══════════════════════════════════╪═════════════╡\n",
       "│ EMF      ┆ AMCC     ┆ 02       ┆ Captación Otras Sociedades de De… ┆ 8           │\n",
       "│ EMF      ┆ AMCC     ┆ 02       ┆ Captación Bancos Comerciales      ┆ 8           │\n",
       "└──────────┴──────────┴──────────┴───────────────────────────────────┴─────────────┘"
      ]
     },
     "execution_count": 145,
     "metadata": {},
     "output_type": "execute_result"
    }
   ],
   "source": [
    "res_nivel_4(\n",
    "    \"EMF\",\"AMCC\",\n",
    "    \"Niv_Gr_3\",\"02\",\n",
    "    \"Niv_Descr_1\")"
   ]
  },
  {
   "cell_type": "code",
   "execution_count": 146,
   "id": "b333b2a3",
   "metadata": {},
   "outputs": [
    {
     "name": "stderr",
     "output_type": "stream",
     "text": [
      "<string>:29: FutureWarning:\n",
      "\n",
      "Passing literal json to 'read_json' is deprecated and will be removed in a future version. To read from a literal string, wrap it in a 'StringIO' object.\n",
      "\n"
     ]
    },
    {
     "data": {
      "text/html": [
       "<div><style>\n",
       ".dataframe > thead > tr,\n",
       ".dataframe > tbody > tr {\n",
       "  text-align: right;\n",
       "  white-space: pre-wrap;\n",
       "}\n",
       "</style>\n",
       "<small>shape: (4, 5)</small><table border=\"1\" class=\"dataframe\"><thead><tr><th>Niv_Gr_1</th><th>Niv_Gr_2</th><th>Niv_Gr_3</th><th>Niv_Descr_3</th><th>N_Variables</th></tr><tr><td>str</td><td>str</td><td>str</td><td>str</td><td>u32</td></tr></thead><tbody><tr><td>&quot;EMF&quot;</td><td>&quot;AMCC&quot;</td><td>&quot;02&quot;</td><td>&quot;Hogares&quot;</td><td>4</td></tr><tr><td>&quot;EMF&quot;</td><td>&quot;AMCC&quot;</td><td>&quot;02&quot;</td><td>&quot;Total&quot;</td><td>4</td></tr><tr><td>&quot;EMF&quot;</td><td>&quot;AMCC&quot;</td><td>&quot;02&quot;</td><td>&quot;Otros Sectores…</td><td>4</td></tr><tr><td>&quot;EMF&quot;</td><td>&quot;AMCC&quot;</td><td>&quot;02&quot;</td><td>&quot;Empresas Priva…</td><td>4</td></tr></tbody></table></div>"
      ],
      "text/plain": [
       "shape: (4, 5)\n",
       "┌──────────┬──────────┬──────────┬───────────────────┬─────────────┐\n",
       "│ Niv_Gr_1 ┆ Niv_Gr_2 ┆ Niv_Gr_3 ┆ Niv_Descr_3       ┆ N_Variables │\n",
       "│ ---      ┆ ---      ┆ ---      ┆ ---               ┆ ---         │\n",
       "│ str      ┆ str      ┆ str      ┆ str               ┆ u32         │\n",
       "╞══════════╪══════════╪══════════╪═══════════════════╪═════════════╡\n",
       "│ EMF      ┆ AMCC     ┆ 02       ┆ Hogares           ┆ 4           │\n",
       "│ EMF      ┆ AMCC     ┆ 02       ┆ Total             ┆ 4           │\n",
       "│ EMF      ┆ AMCC     ┆ 02       ┆ Otros Sectores    ┆ 4           │\n",
       "│ EMF      ┆ AMCC     ┆ 02       ┆ Empresas Privadas ┆ 4           │\n",
       "└──────────┴──────────┴──────────┴───────────────────┴─────────────┘"
      ]
     },
     "execution_count": 146,
     "metadata": {},
     "output_type": "execute_result"
    }
   ],
   "source": [
    "res_nivel_4(\n",
    "    \"EMF\",\"AMCC\",\n",
    "    \"Niv_Gr_3\",\"02\",\n",
    "    \"Niv_Descr_3\")"
   ]
  },
  {
   "cell_type": "code",
   "execution_count": 147,
   "id": "05bb3601",
   "metadata": {},
   "outputs": [
    {
     "name": "stderr",
     "output_type": "stream",
     "text": [
      "<string>:29: FutureWarning:\n",
      "\n",
      "Passing literal json to 'read_json' is deprecated and will be removed in a future version. To read from a literal string, wrap it in a 'StringIO' object.\n",
      "\n"
     ]
    },
    {
     "data": {
      "text/html": [
       "<div><style>\n",
       ".dataframe > thead > tr,\n",
       ".dataframe > tbody > tr {\n",
       "  text-align: right;\n",
       "  white-space: pre-wrap;\n",
       "}\n",
       "</style>\n",
       "<small>shape: (2, 5)</small><table border=\"1\" class=\"dataframe\"><thead><tr><th>Niv_Gr_1</th><th>Niv_Gr_2</th><th>Niv_Gr_3</th><th>Niv_Descr_4</th><th>N_Variables</th></tr><tr><td>str</td><td>str</td><td>str</td><td>str</td><td>u32</td></tr></thead><tbody><tr><td>&quot;EMF&quot;</td><td>&quot;AMCC&quot;</td><td>&quot;02&quot;</td><td>&quot;Saldo&quot;</td><td>8</td></tr><tr><td>&quot;EMF&quot;</td><td>&quot;AMCC&quot;</td><td>&quot;02&quot;</td><td>&quot;Variación&quot;</td><td>8</td></tr></tbody></table></div>"
      ],
      "text/plain": [
       "shape: (2, 5)\n",
       "┌──────────┬──────────┬──────────┬─────────────┬─────────────┐\n",
       "│ Niv_Gr_1 ┆ Niv_Gr_2 ┆ Niv_Gr_3 ┆ Niv_Descr_4 ┆ N_Variables │\n",
       "│ ---      ┆ ---      ┆ ---      ┆ ---         ┆ ---         │\n",
       "│ str      ┆ str      ┆ str      ┆ str         ┆ u32         │\n",
       "╞══════════╪══════════╪══════════╪═════════════╪═════════════╡\n",
       "│ EMF      ┆ AMCC     ┆ 02       ┆ Saldo       ┆ 8           │\n",
       "│ EMF      ┆ AMCC     ┆ 02       ┆ Variación   ┆ 8           │\n",
       "└──────────┴──────────┴──────────┴─────────────┴─────────────┘"
      ]
     },
     "execution_count": 147,
     "metadata": {},
     "output_type": "execute_result"
    }
   ],
   "source": [
    "res_nivel_4(\n",
    "    \"EMF\",\"AMCC\",\n",
    "    \"Niv_Gr_3\",\"02\",\n",
    "    \"Niv_Descr_4\")"
   ]
  },
  {
   "cell_type": "markdown",
   "id": "17fe537e",
   "metadata": {},
   "source": [
    "Para ver todas las variables:\n"
   ]
  },
  {
   "cell_type": "code",
   "execution_count": 148,
   "id": "91a6f784",
   "metadata": {},
   "outputs": [
    {
     "name": "stderr",
     "output_type": "stream",
     "text": [
      "<string>:29: FutureWarning:\n",
      "\n",
      "Passing literal json to 'read_json' is deprecated and will be removed in a future version. To read from a literal string, wrap it in a 'StringIO' object.\n",
      "\n"
     ]
    },
    {
     "data": {
      "text/html": [
       "<div><style>\n",
       ".dataframe > thead > tr,\n",
       ".dataframe > tbody > tr {\n",
       "  text-align: right;\n",
       "  white-space: pre-wrap;\n",
       "}\n",
       "</style>\n",
       "<small>shape: (16, 8)</small><table border=\"1\" class=\"dataframe\"><thead><tr><th>Niv_Gr_1</th><th>Niv_Gr_2</th><th>Niv_Gr_3</th><th>Id</th><th>Niv_Descr_1</th><th>Niv_Descr_3</th><th>Niv_Descr_4</th><th>N_Variables</th></tr><tr><td>str</td><td>str</td><td>str</td><td>i64</td><td>str</td><td>str</td><td>str</td><td>u32</td></tr></thead><tbody><tr><td>&quot;EMF&quot;</td><td>&quot;AMCC&quot;</td><td>&quot;02&quot;</td><td>626</td><td>&quot;Captación Banc…</td><td>&quot;Empresas Priva…</td><td>&quot;Variación&quot;</td><td>1</td></tr><tr><td>&quot;EMF&quot;</td><td>&quot;AMCC&quot;</td><td>&quot;02&quot;</td><td>622</td><td>&quot;Captación Banc…</td><td>&quot;Empresas Priva…</td><td>&quot;Saldo&quot;</td><td>1</td></tr><tr><td>&quot;EMF&quot;</td><td>&quot;AMCC&quot;</td><td>&quot;02&quot;</td><td>629</td><td>&quot;Captación Otra…</td><td>&quot;Total&quot;</td><td>&quot;Saldo&quot;</td><td>1</td></tr><tr><td>&quot;EMF&quot;</td><td>&quot;AMCC&quot;</td><td>&quot;02&quot;</td><td>631</td><td>&quot;Captación Otra…</td><td>&quot;Empresas Priva…</td><td>&quot;Saldo&quot;</td><td>1</td></tr><tr><td>&quot;EMF&quot;</td><td>&quot;AMCC&quot;</td><td>&quot;02&quot;</td><td>633</td><td>&quot;Captación Otra…</td><td>&quot;Total&quot;</td><td>&quot;Variación&quot;</td><td>1</td></tr><tr><td>&hellip;</td><td>&hellip;</td><td>&hellip;</td><td>&hellip;</td><td>&hellip;</td><td>&hellip;</td><td>&hellip;</td><td>&hellip;</td></tr><tr><td>&quot;EMF&quot;</td><td>&quot;AMCC&quot;</td><td>&quot;02&quot;</td><td>635</td><td>&quot;Captación Otra…</td><td>&quot;Empresas Priva…</td><td>&quot;Variación&quot;</td><td>1</td></tr><tr><td>&quot;EMF&quot;</td><td>&quot;AMCC&quot;</td><td>&quot;02&quot;</td><td>621</td><td>&quot;Captación Banc…</td><td>&quot;Hogares&quot;</td><td>&quot;Saldo&quot;</td><td>1</td></tr><tr><td>&quot;EMF&quot;</td><td>&quot;AMCC&quot;</td><td>&quot;02&quot;</td><td>636</td><td>&quot;Captación Otra…</td><td>&quot;Otros Sectores…</td><td>&quot;Variación&quot;</td><td>1</td></tr><tr><td>&quot;EMF&quot;</td><td>&quot;AMCC&quot;</td><td>&quot;02&quot;</td><td>625</td><td>&quot;Captación Banc…</td><td>&quot;Hogares&quot;</td><td>&quot;Variación&quot;</td><td>1</td></tr><tr><td>&quot;EMF&quot;</td><td>&quot;AMCC&quot;</td><td>&quot;02&quot;</td><td>628</td><td>&quot;Captación Banc…</td><td>&quot;Total&quot;</td><td>&quot;Variación&quot;</td><td>1</td></tr></tbody></table></div>"
      ],
      "text/plain": [
       "shape: (16, 8)\n",
       "┌──────────┬──────────┬──────────┬─────┬───────────────┬───────────────┬─────────────┬─────────────┐\n",
       "│ Niv_Gr_1 ┆ Niv_Gr_2 ┆ Niv_Gr_3 ┆ Id  ┆ Niv_Descr_1   ┆ Niv_Descr_3   ┆ Niv_Descr_4 ┆ N_Variables │\n",
       "│ ---      ┆ ---      ┆ ---      ┆ --- ┆ ---           ┆ ---           ┆ ---         ┆ ---         │\n",
       "│ str      ┆ str      ┆ str      ┆ i64 ┆ str           ┆ str           ┆ str         ┆ u32         │\n",
       "╞══════════╪══════════╪══════════╪═════╪═══════════════╪═══════════════╪═════════════╪═════════════╡\n",
       "│ EMF      ┆ AMCC     ┆ 02       ┆ 626 ┆ Captación     ┆ Empresas      ┆ Variación   ┆ 1           │\n",
       "│          ┆          ┆          ┆     ┆ Bancos        ┆ Privadas      ┆             ┆             │\n",
       "│          ┆          ┆          ┆     ┆ Comerciales   ┆               ┆             ┆             │\n",
       "│ EMF      ┆ AMCC     ┆ 02       ┆ 622 ┆ Captación     ┆ Empresas      ┆ Saldo       ┆ 1           │\n",
       "│          ┆          ┆          ┆     ┆ Bancos        ┆ Privadas      ┆             ┆             │\n",
       "│          ┆          ┆          ┆     ┆ Comerciales   ┆               ┆             ┆             │\n",
       "│ EMF      ┆ AMCC     ┆ 02       ┆ 629 ┆ Captación     ┆ Total         ┆ Saldo       ┆ 1           │\n",
       "│          ┆          ┆          ┆     ┆ Otras         ┆               ┆             ┆             │\n",
       "│          ┆          ┆          ┆     ┆ Sociedades de ┆               ┆             ┆             │\n",
       "│          ┆          ┆          ┆     ┆ De…           ┆               ┆             ┆             │\n",
       "│ EMF      ┆ AMCC     ┆ 02       ┆ 631 ┆ Captación     ┆ Empresas      ┆ Saldo       ┆ 1           │\n",
       "│          ┆          ┆          ┆     ┆ Otras         ┆ Privadas      ┆             ┆             │\n",
       "│          ┆          ┆          ┆     ┆ Sociedades de ┆               ┆             ┆             │\n",
       "│          ┆          ┆          ┆     ┆ De…           ┆               ┆             ┆             │\n",
       "│ EMF      ┆ AMCC     ┆ 02       ┆ 633 ┆ Captación     ┆ Total         ┆ Variación   ┆ 1           │\n",
       "│          ┆          ┆          ┆     ┆ Otras         ┆               ┆             ┆             │\n",
       "│          ┆          ┆          ┆     ┆ Sociedades de ┆               ┆             ┆             │\n",
       "│          ┆          ┆          ┆     ┆ De…           ┆               ┆             ┆             │\n",
       "│ …        ┆ …        ┆ …        ┆ …   ┆ …             ┆ …             ┆ …           ┆ …           │\n",
       "│ EMF      ┆ AMCC     ┆ 02       ┆ 635 ┆ Captación     ┆ Empresas      ┆ Variación   ┆ 1           │\n",
       "│          ┆          ┆          ┆     ┆ Otras         ┆ Privadas      ┆             ┆             │\n",
       "│          ┆          ┆          ┆     ┆ Sociedades de ┆               ┆             ┆             │\n",
       "│          ┆          ┆          ┆     ┆ De…           ┆               ┆             ┆             │\n",
       "│ EMF      ┆ AMCC     ┆ 02       ┆ 621 ┆ Captación     ┆ Hogares       ┆ Saldo       ┆ 1           │\n",
       "│          ┆          ┆          ┆     ┆ Bancos        ┆               ┆             ┆             │\n",
       "│          ┆          ┆          ┆     ┆ Comerciales   ┆               ┆             ┆             │\n",
       "│ EMF      ┆ AMCC     ┆ 02       ┆ 636 ┆ Captación     ┆ Otros         ┆ Variación   ┆ 1           │\n",
       "│          ┆          ┆          ┆     ┆ Otras         ┆ Sectores      ┆             ┆             │\n",
       "│          ┆          ┆          ┆     ┆ Sociedades de ┆               ┆             ┆             │\n",
       "│          ┆          ┆          ┆     ┆ De…           ┆               ┆             ┆             │\n",
       "│ EMF      ┆ AMCC     ┆ 02       ┆ 625 ┆ Captación     ┆ Hogares       ┆ Variación   ┆ 1           │\n",
       "│          ┆          ┆          ┆     ┆ Bancos        ┆               ┆             ┆             │\n",
       "│          ┆          ┆          ┆     ┆ Comerciales   ┆               ┆             ┆             │\n",
       "│ EMF      ┆ AMCC     ┆ 02       ┆ 628 ┆ Captación     ┆ Total         ┆ Variación   ┆ 1           │\n",
       "│          ┆          ┆          ┆     ┆ Bancos        ┆               ┆             ┆             │\n",
       "│          ┆          ┆          ┆     ┆ Comerciales   ┆               ┆             ┆             │\n",
       "└──────────┴──────────┴──────────┴─────┴───────────────┴───────────────┴─────────────┴─────────────┘"
      ]
     },
     "execution_count": 148,
     "metadata": {},
     "output_type": "execute_result"
    }
   ],
   "source": [
    "res_nivel_7(\n",
    "    \"EMF\",\"AMCC\",\n",
    "    \"Niv_Gr_3\",\"02\",\n",
    "    \"Id\",\"Niv_Descr_1\",\"Niv_Descr_3\",\"Niv_Descr_4\")"
   ]
  },
  {
   "cell_type": "markdown",
   "id": "228c0fbd",
   "metadata": {},
   "source": [
    "Resultados de una sola variable:\n"
   ]
  },
  {
   "cell_type": "code",
   "execution_count": 149,
   "id": "c993eac4",
   "metadata": {},
   "outputs": [
    {
     "name": "stderr",
     "output_type": "stream",
     "text": [
      "<string>:29: FutureWarning:\n",
      "\n",
      "Passing literal json to 'read_json' is deprecated and will be removed in a future version. To read from a literal string, wrap it in a 'StringIO' object.\n",
      "\n"
     ]
    },
    {
     "name": "stderr",
     "output_type": "stream",
     "text": [
      "<string>:29: FutureWarning:\n",
      "\n",
      "Passing literal json to 'read_json' is deprecated and will be removed in a future version. To read from a literal string, wrap it in a 'StringIO' object.\n",
      "\n"
     ]
    },
    {
     "data": {
      "text/html": [
       "<div><style>\n",
       ".dataframe > thead > tr,\n",
       ".dataframe > tbody > tr {\n",
       "  text-align: right;\n",
       "  white-space: pre-wrap;\n",
       "}\n",
       "</style>\n",
       "<small>shape: (183, 2)</small><table border=\"1\" class=\"dataframe\"><thead><tr><th>Fecha</th><th>Captación Bancos Comerciales-CaptaciónBCOtrasSociedadesnoFinancieras-Empresas Privadas-Saldo</th></tr><tr><td>date</td><td>f64</td></tr></thead><tbody><tr><td>2009-01-01</td><td>34027.9427</td></tr><tr><td>2009-02-01</td><td>35448.6052</td></tr><tr><td>2009-03-01</td><td>35268.8324</td></tr><tr><td>2009-04-01</td><td>36897.5217</td></tr><tr><td>2009-05-01</td><td>36938.7292</td></tr><tr><td>&hellip;</td><td>&hellip;</td></tr><tr><td>2023-11-01</td><td>155805.7389</td></tr><tr><td>2023-12-01</td><td>159703.4382</td></tr><tr><td>2024-01-01</td><td>164128.4025</td></tr><tr><td>2024-02-01</td><td>164611.0291</td></tr><tr><td>2024-03-01</td><td>167719.7976</td></tr></tbody></table></div>"
      ],
      "text/plain": [
       "shape: (183, 2)\n",
       "┌────────────┬───────────────────────────────────┐\n",
       "│ Fecha      ┆ Captación Bancos Comerciales-Cap… │\n",
       "│ ---        ┆ ---                               │\n",
       "│ date       ┆ f64                               │\n",
       "╞════════════╪═══════════════════════════════════╡\n",
       "│ 2009-01-01 ┆ 34027.9427                        │\n",
       "│ 2009-02-01 ┆ 35448.6052                        │\n",
       "│ 2009-03-01 ┆ 35268.8324                        │\n",
       "│ 2009-04-01 ┆ 36897.5217                        │\n",
       "│ 2009-05-01 ┆ 36938.7292                        │\n",
       "│ …          ┆ …                                 │\n",
       "│ 2023-11-01 ┆ 155805.7389                       │\n",
       "│ 2023-12-01 ┆ 159703.4382                       │\n",
       "│ 2024-01-01 ┆ 164128.4025                       │\n",
       "│ 2024-02-01 ┆ 164611.0291                       │\n",
       "│ 2024-03-01 ┆ 167719.7976                       │\n",
       "└────────────┴───────────────────────────────────┘"
      ]
     },
     "execution_count": 149,
     "metadata": {},
     "output_type": "execute_result"
    }
   ],
   "source": [
    "Id = 622\n",
    "df = get_df(Id)\n",
    "# get_plot(Id)\n",
    "df"
   ]
  },
  {
   "cell_type": "markdown",
   "id": "f02ea18f",
   "metadata": {},
   "source": [
    "##### 03 Crédito de los Bancos Comerciales\n"
   ]
  },
  {
   "cell_type": "code",
   "execution_count": 150,
   "id": "8e9eb8cf",
   "metadata": {},
   "outputs": [
    {
     "name": "stderr",
     "output_type": "stream",
     "text": [
      "<string>:29: FutureWarning:\n",
      "\n",
      "Passing literal json to 'read_json' is deprecated and will be removed in a future version. To read from a literal string, wrap it in a 'StringIO' object.\n",
      "\n"
     ]
    },
    {
     "data": {
      "text/html": [
       "<div><style>\n",
       ".dataframe > thead > tr,\n",
       ".dataframe > tbody > tr {\n",
       "  text-align: right;\n",
       "  white-space: pre-wrap;\n",
       "}\n",
       "</style>\n",
       "<small>shape: (1, 5)</small><table border=\"1\" class=\"dataframe\"><thead><tr><th>Niv_Gr_1</th><th>Niv_Gr_2</th><th>Niv_Gr_3</th><th>Niv_Descr_1</th><th>N_Variables</th></tr><tr><td>str</td><td>str</td><td>str</td><td>str</td><td>u32</td></tr></thead><tbody><tr><td>&quot;EMF&quot;</td><td>&quot;AMCC&quot;</td><td>&quot;03&quot;</td><td>&quot;Crédito de los…</td><td>6</td></tr></tbody></table></div>"
      ],
      "text/plain": [
       "shape: (1, 5)\n",
       "┌──────────┬──────────┬──────────┬───────────────────────────────────┬─────────────┐\n",
       "│ Niv_Gr_1 ┆ Niv_Gr_2 ┆ Niv_Gr_3 ┆ Niv_Descr_1                       ┆ N_Variables │\n",
       "│ ---      ┆ ---      ┆ ---      ┆ ---                               ┆ ---         │\n",
       "│ str      ┆ str      ┆ str      ┆ str                               ┆ u32         │\n",
       "╞══════════╪══════════╪══════════╪═══════════════════════════════════╪═════════════╡\n",
       "│ EMF      ┆ AMCC     ┆ 03       ┆ Crédito de los Bancos Comerciale… ┆ 6           │\n",
       "└──────────┴──────────┴──────────┴───────────────────────────────────┴─────────────┘"
      ]
     },
     "execution_count": 150,
     "metadata": {},
     "output_type": "execute_result"
    }
   ],
   "source": [
    "res_nivel_4(\n",
    "    \"EMF\",\"AMCC\",\n",
    "    \"Niv_Gr_3\",\"03\",\n",
    "    \"Niv_Descr_1\")"
   ]
  },
  {
   "cell_type": "code",
   "execution_count": 151,
   "id": "c13baade",
   "metadata": {},
   "outputs": [
    {
     "name": "stderr",
     "output_type": "stream",
     "text": [
      "<string>:29: FutureWarning:\n",
      "\n",
      "Passing literal json to 'read_json' is deprecated and will be removed in a future version. To read from a literal string, wrap it in a 'StringIO' object.\n",
      "\n"
     ]
    },
    {
     "data": {
      "text/html": [
       "<div><style>\n",
       ".dataframe > thead > tr,\n",
       ".dataframe > tbody > tr {\n",
       "  text-align: right;\n",
       "  white-space: pre-wrap;\n",
       "}\n",
       "</style>\n",
       "<small>shape: (2, 5)</small><table border=\"1\" class=\"dataframe\"><thead><tr><th>Niv_Gr_1</th><th>Niv_Gr_2</th><th>Niv_Gr_3</th><th>Niv_Descr_4</th><th>N_Variables</th></tr><tr><td>str</td><td>str</td><td>str</td><td>str</td><td>u32</td></tr></thead><tbody><tr><td>&quot;EMF&quot;</td><td>&quot;AMCC&quot;</td><td>&quot;03&quot;</td><td>&quot;Variación&quot;</td><td>3</td></tr><tr><td>&quot;EMF&quot;</td><td>&quot;AMCC&quot;</td><td>&quot;03&quot;</td><td>&quot;Saldo&quot;</td><td>3</td></tr></tbody></table></div>"
      ],
      "text/plain": [
       "shape: (2, 5)\n",
       "┌──────────┬──────────┬──────────┬─────────────┬─────────────┐\n",
       "│ Niv_Gr_1 ┆ Niv_Gr_2 ┆ Niv_Gr_3 ┆ Niv_Descr_4 ┆ N_Variables │\n",
       "│ ---      ┆ ---      ┆ ---      ┆ ---         ┆ ---         │\n",
       "│ str      ┆ str      ┆ str      ┆ str         ┆ u32         │\n",
       "╞══════════╪══════════╪══════════╪═════════════╪═════════════╡\n",
       "│ EMF      ┆ AMCC     ┆ 03       ┆ Variación   ┆ 3           │\n",
       "│ EMF      ┆ AMCC     ┆ 03       ┆ Saldo       ┆ 3           │\n",
       "└──────────┴──────────┴──────────┴─────────────┴─────────────┘"
      ]
     },
     "execution_count": 151,
     "metadata": {},
     "output_type": "execute_result"
    }
   ],
   "source": [
    "res_nivel_4(\n",
    "    \"EMF\",\"AMCC\",\n",
    "    \"Niv_Gr_3\",\"03\",\n",
    "    \"Niv_Descr_4\")"
   ]
  },
  {
   "cell_type": "code",
   "execution_count": 152,
   "id": "fbd27b12",
   "metadata": {},
   "outputs": [
    {
     "name": "stderr",
     "output_type": "stream",
     "text": [
      "<string>:29: FutureWarning:\n",
      "\n",
      "Passing literal json to 'read_json' is deprecated and will be removed in a future version. To read from a literal string, wrap it in a 'StringIO' object.\n",
      "\n"
     ]
    },
    {
     "data": {
      "text/html": [
       "<div><style>\n",
       ".dataframe > thead > tr,\n",
       ".dataframe > tbody > tr {\n",
       "  text-align: right;\n",
       "  white-space: pre-wrap;\n",
       "}\n",
       "</style>\n",
       "<small>shape: (3, 5)</small><table border=\"1\" class=\"dataframe\"><thead><tr><th>Niv_Gr_1</th><th>Niv_Gr_2</th><th>Niv_Gr_3</th><th>Niv_Descr_3</th><th>N_Variables</th></tr><tr><td>str</td><td>str</td><td>str</td><td>str</td><td>u32</td></tr></thead><tbody><tr><td>&quot;EMF&quot;</td><td>&quot;AMCC&quot;</td><td>&quot;03&quot;</td><td>&quot;Empresas Priva…</td><td>2</td></tr><tr><td>&quot;EMF&quot;</td><td>&quot;AMCC&quot;</td><td>&quot;03&quot;</td><td>&quot;Total&quot;</td><td>2</td></tr><tr><td>&quot;EMF&quot;</td><td>&quot;AMCC&quot;</td><td>&quot;03&quot;</td><td>&quot;Hogares&quot;</td><td>2</td></tr></tbody></table></div>"
      ],
      "text/plain": [
       "shape: (3, 5)\n",
       "┌──────────┬──────────┬──────────┬───────────────────┬─────────────┐\n",
       "│ Niv_Gr_1 ┆ Niv_Gr_2 ┆ Niv_Gr_3 ┆ Niv_Descr_3       ┆ N_Variables │\n",
       "│ ---      ┆ ---      ┆ ---      ┆ ---               ┆ ---         │\n",
       "│ str      ┆ str      ┆ str      ┆ str               ┆ u32         │\n",
       "╞══════════╪══════════╪══════════╪═══════════════════╪═════════════╡\n",
       "│ EMF      ┆ AMCC     ┆ 03       ┆ Empresas Privadas ┆ 2           │\n",
       "│ EMF      ┆ AMCC     ┆ 03       ┆ Total             ┆ 2           │\n",
       "│ EMF      ┆ AMCC     ┆ 03       ┆ Hogares           ┆ 2           │\n",
       "└──────────┴──────────┴──────────┴───────────────────┴─────────────┘"
      ]
     },
     "execution_count": 152,
     "metadata": {},
     "output_type": "execute_result"
    }
   ],
   "source": [
    "res_nivel_4(\n",
    "    \"EMF\",\"AMCC\",\n",
    "    \"Niv_Gr_3\",\"03\",\n",
    "    \"Niv_Descr_3\")"
   ]
  },
  {
   "cell_type": "markdown",
   "id": "8e674019",
   "metadata": {},
   "source": [
    "Para ver todas las variables:\n"
   ]
  },
  {
   "cell_type": "code",
   "execution_count": 153,
   "id": "00bbb08c",
   "metadata": {},
   "outputs": [
    {
     "name": "stderr",
     "output_type": "stream",
     "text": [
      "<string>:29: FutureWarning:\n",
      "\n",
      "Passing literal json to 'read_json' is deprecated and will be removed in a future version. To read from a literal string, wrap it in a 'StringIO' object.\n",
      "\n"
     ]
    },
    {
     "data": {
      "text/html": [
       "<div><style>\n",
       ".dataframe > thead > tr,\n",
       ".dataframe > tbody > tr {\n",
       "  text-align: right;\n",
       "  white-space: pre-wrap;\n",
       "}\n",
       "</style>\n",
       "<small>shape: (6, 8)</small><table border=\"1\" class=\"dataframe\"><thead><tr><th>Niv_Gr_1</th><th>Niv_Gr_2</th><th>Niv_Gr_3</th><th>Id</th><th>Niv_Descr_1</th><th>Niv_Descr_3</th><th>Niv_Descr_4</th><th>N_Variables</th></tr><tr><td>str</td><td>str</td><td>str</td><td>i64</td><td>str</td><td>str</td><td>str</td><td>u32</td></tr></thead><tbody><tr><td>&quot;EMF&quot;</td><td>&quot;AMCC&quot;</td><td>&quot;03&quot;</td><td>638</td><td>&quot;Crédito de los…</td><td>&quot;Hogares&quot;</td><td>&quot;Saldo&quot;</td><td>1</td></tr><tr><td>&quot;EMF&quot;</td><td>&quot;AMCC&quot;</td><td>&quot;03&quot;</td><td>640</td><td>&quot;Crédito de los…</td><td>&quot;Empresas Priva…</td><td>&quot;Variación&quot;</td><td>1</td></tr><tr><td>&quot;EMF&quot;</td><td>&quot;AMCC&quot;</td><td>&quot;03&quot;</td><td>642</td><td>&quot;Crédito de los…</td><td>&quot;Total&quot;</td><td>&quot;Variación&quot;</td><td>1</td></tr><tr><td>&quot;EMF&quot;</td><td>&quot;AMCC&quot;</td><td>&quot;03&quot;</td><td>639</td><td>&quot;Crédito de los…</td><td>&quot;Total&quot;</td><td>&quot;Saldo&quot;</td><td>1</td></tr><tr><td>&quot;EMF&quot;</td><td>&quot;AMCC&quot;</td><td>&quot;03&quot;</td><td>637</td><td>&quot;Crédito de los…</td><td>&quot;Empresas Priva…</td><td>&quot;Saldo&quot;</td><td>1</td></tr><tr><td>&quot;EMF&quot;</td><td>&quot;AMCC&quot;</td><td>&quot;03&quot;</td><td>641</td><td>&quot;Crédito de los…</td><td>&quot;Hogares&quot;</td><td>&quot;Variación&quot;</td><td>1</td></tr></tbody></table></div>"
      ],
      "text/plain": [
       "shape: (6, 8)\n",
       "┌──────────┬──────────┬──────────┬─────┬───────────────┬───────────────┬─────────────┬─────────────┐\n",
       "│ Niv_Gr_1 ┆ Niv_Gr_2 ┆ Niv_Gr_3 ┆ Id  ┆ Niv_Descr_1   ┆ Niv_Descr_3   ┆ Niv_Descr_4 ┆ N_Variables │\n",
       "│ ---      ┆ ---      ┆ ---      ┆ --- ┆ ---           ┆ ---           ┆ ---         ┆ ---         │\n",
       "│ str      ┆ str      ┆ str      ┆ i64 ┆ str           ┆ str           ┆ str         ┆ u32         │\n",
       "╞══════════╪══════════╪══════════╪═════╪═══════════════╪═══════════════╪═════════════╪═════════════╡\n",
       "│ EMF      ┆ AMCC     ┆ 03       ┆ 638 ┆ Crédito de    ┆ Hogares       ┆ Saldo       ┆ 1           │\n",
       "│          ┆          ┆          ┆     ┆ los Bancos    ┆               ┆             ┆             │\n",
       "│          ┆          ┆          ┆     ┆ Comerciale…   ┆               ┆             ┆             │\n",
       "│ EMF      ┆ AMCC     ┆ 03       ┆ 640 ┆ Crédito de    ┆ Empresas      ┆ Variación   ┆ 1           │\n",
       "│          ┆          ┆          ┆     ┆ los Bancos    ┆ Privadas      ┆             ┆             │\n",
       "│          ┆          ┆          ┆     ┆ Comerciale…   ┆               ┆             ┆             │\n",
       "│ EMF      ┆ AMCC     ┆ 03       ┆ 642 ┆ Crédito de    ┆ Total         ┆ Variación   ┆ 1           │\n",
       "│          ┆          ┆          ┆     ┆ los Bancos    ┆               ┆             ┆             │\n",
       "│          ┆          ┆          ┆     ┆ Comerciale…   ┆               ┆             ┆             │\n",
       "│ EMF      ┆ AMCC     ┆ 03       ┆ 639 ┆ Crédito de    ┆ Total         ┆ Saldo       ┆ 1           │\n",
       "│          ┆          ┆          ┆     ┆ los Bancos    ┆               ┆             ┆             │\n",
       "│          ┆          ┆          ┆     ┆ Comerciale…   ┆               ┆             ┆             │\n",
       "│ EMF      ┆ AMCC     ┆ 03       ┆ 637 ┆ Crédito de    ┆ Empresas      ┆ Saldo       ┆ 1           │\n",
       "│          ┆          ┆          ┆     ┆ los Bancos    ┆ Privadas      ┆             ┆             │\n",
       "│          ┆          ┆          ┆     ┆ Comerciale…   ┆               ┆             ┆             │\n",
       "│ EMF      ┆ AMCC     ┆ 03       ┆ 641 ┆ Crédito de    ┆ Hogares       ┆ Variación   ┆ 1           │\n",
       "│          ┆          ┆          ┆     ┆ los Bancos    ┆               ┆             ┆             │\n",
       "│          ┆          ┆          ┆     ┆ Comerciale…   ┆               ┆             ┆             │\n",
       "└──────────┴──────────┴──────────┴─────┴───────────────┴───────────────┴─────────────┴─────────────┘"
      ]
     },
     "execution_count": 153,
     "metadata": {},
     "output_type": "execute_result"
    }
   ],
   "source": [
    "res_nivel_7(\n",
    "    \"EMF\",\"AMCC\",\n",
    "    \"Niv_Gr_3\",\"03\",\n",
    "    \"Id\",\"Niv_Descr_1\",\"Niv_Descr_3\",\"Niv_Descr_4\")"
   ]
  },
  {
   "cell_type": "markdown",
   "id": "0207dfba",
   "metadata": {},
   "source": [
    "Resultados de una sola variable:\n"
   ]
  },
  {
   "cell_type": "code",
   "execution_count": 154,
   "id": "d66b839f",
   "metadata": {},
   "outputs": [
    {
     "name": "stderr",
     "output_type": "stream",
     "text": [
      "<string>:29: FutureWarning:\n",
      "\n",
      "Passing literal json to 'read_json' is deprecated and will be removed in a future version. To read from a literal string, wrap it in a 'StringIO' object.\n",
      "\n"
     ]
    },
    {
     "name": "stderr",
     "output_type": "stream",
     "text": [
      "<string>:29: FutureWarning:\n",
      "\n",
      "Passing literal json to 'read_json' is deprecated and will be removed in a future version. To read from a literal string, wrap it in a 'StringIO' object.\n",
      "\n"
     ]
    },
    {
     "data": {
      "text/html": [
       "<div><style>\n",
       ".dataframe > thead > tr,\n",
       ".dataframe > tbody > tr {\n",
       "  text-align: right;\n",
       "  white-space: pre-wrap;\n",
       "}\n",
       "</style>\n",
       "<small>shape: (183, 2)</small><table border=\"1\" class=\"dataframe\"><thead><tr><th>Fecha</th><th>Crédito de los Bancos Comerciales-CréditoBCHogares-Hogares-Saldo</th></tr><tr><td>date</td><td>f64</td></tr></thead><tbody><tr><td>2009-01-01</td><td>55678.9931</td></tr><tr><td>2009-02-01</td><td>54470.0449</td></tr><tr><td>2009-03-01</td><td>55864.692</td></tr><tr><td>2009-04-01</td><td>56912.6855</td></tr><tr><td>2009-05-01</td><td>56863.5362</td></tr><tr><td>&hellip;</td><td>&hellip;</td></tr><tr><td>2023-11-01</td><td>245899.9323</td></tr><tr><td>2023-12-01</td><td>250488.4006</td></tr><tr><td>2024-01-01</td><td>253037.8958</td></tr><tr><td>2024-02-01</td><td>256892.0197</td></tr><tr><td>2024-03-01</td><td>261432.0977</td></tr></tbody></table></div>"
      ],
      "text/plain": [
       "shape: (183, 2)\n",
       "┌────────────┬───────────────────────────────────┐\n",
       "│ Fecha      ┆ Crédito de los Bancos Comerciale… │\n",
       "│ ---        ┆ ---                               │\n",
       "│ date       ┆ f64                               │\n",
       "╞════════════╪═══════════════════════════════════╡\n",
       "│ 2009-01-01 ┆ 55678.9931                        │\n",
       "│ 2009-02-01 ┆ 54470.0449                        │\n",
       "│ 2009-03-01 ┆ 55864.692                         │\n",
       "│ 2009-04-01 ┆ 56912.6855                        │\n",
       "│ 2009-05-01 ┆ 56863.5362                        │\n",
       "│ …          ┆ …                                 │\n",
       "│ 2023-11-01 ┆ 245899.9323                       │\n",
       "│ 2023-12-01 ┆ 250488.4006                       │\n",
       "│ 2024-01-01 ┆ 253037.8958                       │\n",
       "│ 2024-02-01 ┆ 256892.0197                       │\n",
       "│ 2024-03-01 ┆ 261432.0977                       │\n",
       "└────────────┴───────────────────────────────────┘"
      ]
     },
     "execution_count": 154,
     "metadata": {},
     "output_type": "execute_result"
    }
   ],
   "source": [
    "Id = 638\n",
    "df = get_df(Id)\n",
    "# get_plot(Id)\n",
    "df"
   ]
  },
  {
   "cell_type": "markdown",
   "id": "d9e16690",
   "metadata": {},
   "source": [
    "##### 04 Crédito Otras Sociedades de Depósito\n"
   ]
  },
  {
   "cell_type": "code",
   "execution_count": 155,
   "id": "9161b86e",
   "metadata": {},
   "outputs": [
    {
     "name": "stderr",
     "output_type": "stream",
     "text": [
      "<string>:29: FutureWarning:\n",
      "\n",
      "Passing literal json to 'read_json' is deprecated and will be removed in a future version. To read from a literal string, wrap it in a 'StringIO' object.\n",
      "\n"
     ]
    },
    {
     "data": {
      "text/html": [
       "<div><style>\n",
       ".dataframe > thead > tr,\n",
       ".dataframe > tbody > tr {\n",
       "  text-align: right;\n",
       "  white-space: pre-wrap;\n",
       "}\n",
       "</style>\n",
       "<small>shape: (1, 5)</small><table border=\"1\" class=\"dataframe\"><thead><tr><th>Niv_Gr_1</th><th>Niv_Gr_2</th><th>Niv_Gr_3</th><th>Niv_Descr_1</th><th>N_Variables</th></tr><tr><td>str</td><td>str</td><td>str</td><td>str</td><td>u32</td></tr></thead><tbody><tr><td>&quot;EMF&quot;</td><td>&quot;AMCC&quot;</td><td>&quot;04&quot;</td><td>&quot;Crédito Otras …</td><td>6</td></tr></tbody></table></div>"
      ],
      "text/plain": [
       "shape: (1, 5)\n",
       "┌──────────┬──────────┬──────────┬───────────────────────────────────┬─────────────┐\n",
       "│ Niv_Gr_1 ┆ Niv_Gr_2 ┆ Niv_Gr_3 ┆ Niv_Descr_1                       ┆ N_Variables │\n",
       "│ ---      ┆ ---      ┆ ---      ┆ ---                               ┆ ---         │\n",
       "│ str      ┆ str      ┆ str      ┆ str                               ┆ u32         │\n",
       "╞══════════╪══════════╪══════════╪═══════════════════════════════════╪═════════════╡\n",
       "│ EMF      ┆ AMCC     ┆ 04       ┆ Crédito Otras Sociedades de Depó… ┆ 6           │\n",
       "└──────────┴──────────┴──────────┴───────────────────────────────────┴─────────────┘"
      ]
     },
     "execution_count": 155,
     "metadata": {},
     "output_type": "execute_result"
    }
   ],
   "source": [
    "res_nivel_4(\n",
    "    \"EMF\",\"AMCC\",\n",
    "    \"Niv_Gr_3\",\"04\",\n",
    "    \"Niv_Descr_1\")"
   ]
  },
  {
   "cell_type": "code",
   "execution_count": 156,
   "id": "3550f6c6",
   "metadata": {},
   "outputs": [
    {
     "name": "stderr",
     "output_type": "stream",
     "text": [
      "<string>:29: FutureWarning:\n",
      "\n",
      "Passing literal json to 'read_json' is deprecated and will be removed in a future version. To read from a literal string, wrap it in a 'StringIO' object.\n",
      "\n"
     ]
    },
    {
     "data": {
      "text/html": [
       "<div><style>\n",
       ".dataframe > thead > tr,\n",
       ".dataframe > tbody > tr {\n",
       "  text-align: right;\n",
       "  white-space: pre-wrap;\n",
       "}\n",
       "</style>\n",
       "<small>shape: (6, 6)</small><table border=\"1\" class=\"dataframe\"><thead><tr><th>Niv_Gr_1</th><th>Niv_Gr_2</th><th>Niv_Gr_3</th><th>Niv_Descr_3</th><th>Niv_Descr_4</th><th>N_Variables</th></tr><tr><td>str</td><td>str</td><td>str</td><td>str</td><td>str</td><td>u32</td></tr></thead><tbody><tr><td>&quot;EMF&quot;</td><td>&quot;AMCC&quot;</td><td>&quot;04&quot;</td><td>&quot;Hogares&quot;</td><td>&quot;Saldo&quot;</td><td>1</td></tr><tr><td>&quot;EMF&quot;</td><td>&quot;AMCC&quot;</td><td>&quot;04&quot;</td><td>&quot;Total&quot;</td><td>&quot;Saldo&quot;</td><td>1</td></tr><tr><td>&quot;EMF&quot;</td><td>&quot;AMCC&quot;</td><td>&quot;04&quot;</td><td>&quot;Total&quot;</td><td>&quot;Variación&quot;</td><td>1</td></tr><tr><td>&quot;EMF&quot;</td><td>&quot;AMCC&quot;</td><td>&quot;04&quot;</td><td>&quot;Hogares&quot;</td><td>&quot;Variación&quot;</td><td>1</td></tr><tr><td>&quot;EMF&quot;</td><td>&quot;AMCC&quot;</td><td>&quot;04&quot;</td><td>&quot;Empresas Priva…</td><td>&quot;Saldo&quot;</td><td>1</td></tr><tr><td>&quot;EMF&quot;</td><td>&quot;AMCC&quot;</td><td>&quot;04&quot;</td><td>&quot;Empresas Priva…</td><td>&quot;Variación&quot;</td><td>1</td></tr></tbody></table></div>"
      ],
      "text/plain": [
       "shape: (6, 6)\n",
       "┌──────────┬──────────┬──────────┬───────────────────┬─────────────┬─────────────┐\n",
       "│ Niv_Gr_1 ┆ Niv_Gr_2 ┆ Niv_Gr_3 ┆ Niv_Descr_3       ┆ Niv_Descr_4 ┆ N_Variables │\n",
       "│ ---      ┆ ---      ┆ ---      ┆ ---               ┆ ---         ┆ ---         │\n",
       "│ str      ┆ str      ┆ str      ┆ str               ┆ str         ┆ u32         │\n",
       "╞══════════╪══════════╪══════════╪═══════════════════╪═════════════╪═════════════╡\n",
       "│ EMF      ┆ AMCC     ┆ 04       ┆ Hogares           ┆ Saldo       ┆ 1           │\n",
       "│ EMF      ┆ AMCC     ┆ 04       ┆ Total             ┆ Saldo       ┆ 1           │\n",
       "│ EMF      ┆ AMCC     ┆ 04       ┆ Total             ┆ Variación   ┆ 1           │\n",
       "│ EMF      ┆ AMCC     ┆ 04       ┆ Hogares           ┆ Variación   ┆ 1           │\n",
       "│ EMF      ┆ AMCC     ┆ 04       ┆ Empresas Privadas ┆ Saldo       ┆ 1           │\n",
       "│ EMF      ┆ AMCC     ┆ 04       ┆ Empresas Privadas ┆ Variación   ┆ 1           │\n",
       "└──────────┴──────────┴──────────┴───────────────────┴─────────────┴─────────────┘"
      ]
     },
     "execution_count": 156,
     "metadata": {},
     "output_type": "execute_result"
    }
   ],
   "source": [
    "res_nivel_5(\n",
    "    \"EMF\",\"AMCC\",\n",
    "    \"Niv_Gr_3\",\"04\",\n",
    "    \"Niv_Descr_3\",\"Niv_Descr_4\")"
   ]
  },
  {
   "cell_type": "markdown",
   "id": "52cc4c1f",
   "metadata": {},
   "source": [
    "Para ver todas las variables:\n"
   ]
  },
  {
   "cell_type": "code",
   "execution_count": 157,
   "id": "6761b8de",
   "metadata": {},
   "outputs": [
    {
     "name": "stderr",
     "output_type": "stream",
     "text": [
      "<string>:29: FutureWarning:\n",
      "\n",
      "Passing literal json to 'read_json' is deprecated and will be removed in a future version. To read from a literal string, wrap it in a 'StringIO' object.\n",
      "\n"
     ]
    },
    {
     "data": {
      "text/html": [
       "<div><style>\n",
       ".dataframe > thead > tr,\n",
       ".dataframe > tbody > tr {\n",
       "  text-align: right;\n",
       "  white-space: pre-wrap;\n",
       "}\n",
       "</style>\n",
       "<small>shape: (6, 8)</small><table border=\"1\" class=\"dataframe\"><thead><tr><th>Niv_Gr_1</th><th>Niv_Gr_2</th><th>Niv_Gr_3</th><th>Id</th><th>Niv_Descr_1</th><th>Niv_Descr_3</th><th>Niv_Descr_4</th><th>N_Variables</th></tr><tr><td>str</td><td>str</td><td>str</td><td>i64</td><td>str</td><td>str</td><td>str</td><td>u32</td></tr></thead><tbody><tr><td>&quot;EMF&quot;</td><td>&quot;AMCC&quot;</td><td>&quot;04&quot;</td><td>645</td><td>&quot;Crédito Otras …</td><td>&quot;Total&quot;</td><td>&quot;Saldo&quot;</td><td>1</td></tr><tr><td>&quot;EMF&quot;</td><td>&quot;AMCC&quot;</td><td>&quot;04&quot;</td><td>648</td><td>&quot;Crédito Otras …</td><td>&quot;Total&quot;</td><td>&quot;Variación&quot;</td><td>1</td></tr><tr><td>&quot;EMF&quot;</td><td>&quot;AMCC&quot;</td><td>&quot;04&quot;</td><td>643</td><td>&quot;Crédito Otras …</td><td>&quot;Empresas Priva…</td><td>&quot;Saldo&quot;</td><td>1</td></tr><tr><td>&quot;EMF&quot;</td><td>&quot;AMCC&quot;</td><td>&quot;04&quot;</td><td>646</td><td>&quot;Crédito Otras …</td><td>&quot;Empresas Priva…</td><td>&quot;Variación&quot;</td><td>1</td></tr><tr><td>&quot;EMF&quot;</td><td>&quot;AMCC&quot;</td><td>&quot;04&quot;</td><td>647</td><td>&quot;Crédito Otras …</td><td>&quot;Hogares&quot;</td><td>&quot;Variación&quot;</td><td>1</td></tr><tr><td>&quot;EMF&quot;</td><td>&quot;AMCC&quot;</td><td>&quot;04&quot;</td><td>644</td><td>&quot;Crédito Otras …</td><td>&quot;Hogares&quot;</td><td>&quot;Saldo&quot;</td><td>1</td></tr></tbody></table></div>"
      ],
      "text/plain": [
       "shape: (6, 8)\n",
       "┌──────────┬──────────┬──────────┬─────┬───────────────┬───────────────┬─────────────┬─────────────┐\n",
       "│ Niv_Gr_1 ┆ Niv_Gr_2 ┆ Niv_Gr_3 ┆ Id  ┆ Niv_Descr_1   ┆ Niv_Descr_3   ┆ Niv_Descr_4 ┆ N_Variables │\n",
       "│ ---      ┆ ---      ┆ ---      ┆ --- ┆ ---           ┆ ---           ┆ ---         ┆ ---         │\n",
       "│ str      ┆ str      ┆ str      ┆ i64 ┆ str           ┆ str           ┆ str         ┆ u32         │\n",
       "╞══════════╪══════════╪══════════╪═════╪═══════════════╪═══════════════╪═════════════╪═════════════╡\n",
       "│ EMF      ┆ AMCC     ┆ 04       ┆ 645 ┆ Crédito Otras ┆ Total         ┆ Saldo       ┆ 1           │\n",
       "│          ┆          ┆          ┆     ┆ Sociedades de ┆               ┆             ┆             │\n",
       "│          ┆          ┆          ┆     ┆ Depó…         ┆               ┆             ┆             │\n",
       "│ EMF      ┆ AMCC     ┆ 04       ┆ 648 ┆ Crédito Otras ┆ Total         ┆ Variación   ┆ 1           │\n",
       "│          ┆          ┆          ┆     ┆ Sociedades de ┆               ┆             ┆             │\n",
       "│          ┆          ┆          ┆     ┆ Depó…         ┆               ┆             ┆             │\n",
       "│ EMF      ┆ AMCC     ┆ 04       ┆ 643 ┆ Crédito Otras ┆ Empresas      ┆ Saldo       ┆ 1           │\n",
       "│          ┆          ┆          ┆     ┆ Sociedades de ┆ Privadas      ┆             ┆             │\n",
       "│          ┆          ┆          ┆     ┆ Depó…         ┆               ┆             ┆             │\n",
       "│ EMF      ┆ AMCC     ┆ 04       ┆ 646 ┆ Crédito Otras ┆ Empresas      ┆ Variación   ┆ 1           │\n",
       "│          ┆          ┆          ┆     ┆ Sociedades de ┆ Privadas      ┆             ┆             │\n",
       "│          ┆          ┆          ┆     ┆ Depó…         ┆               ┆             ┆             │\n",
       "│ EMF      ┆ AMCC     ┆ 04       ┆ 647 ┆ Crédito Otras ┆ Hogares       ┆ Variación   ┆ 1           │\n",
       "│          ┆          ┆          ┆     ┆ Sociedades de ┆               ┆             ┆             │\n",
       "│          ┆          ┆          ┆     ┆ Depó…         ┆               ┆             ┆             │\n",
       "│ EMF      ┆ AMCC     ┆ 04       ┆ 644 ┆ Crédito Otras ┆ Hogares       ┆ Saldo       ┆ 1           │\n",
       "│          ┆          ┆          ┆     ┆ Sociedades de ┆               ┆             ┆             │\n",
       "│          ┆          ┆          ┆     ┆ Depó…         ┆               ┆             ┆             │\n",
       "└──────────┴──────────┴──────────┴─────┴───────────────┴───────────────┴─────────────┴─────────────┘"
      ]
     },
     "execution_count": 157,
     "metadata": {},
     "output_type": "execute_result"
    }
   ],
   "source": [
    "res_nivel_7(\n",
    "    \"EMF\",\"AMCC\",\n",
    "    \"Niv_Gr_3\",\"04\",\n",
    "    \"Id\",\"Niv_Descr_1\",\"Niv_Descr_3\",\"Niv_Descr_4\")"
   ]
  },
  {
   "cell_type": "markdown",
   "id": "f86837ed",
   "metadata": {},
   "source": [
    "Resultados de una sola variable:\n"
   ]
  },
  {
   "cell_type": "code",
   "execution_count": 158,
   "id": "8dbd2249",
   "metadata": {},
   "outputs": [
    {
     "name": "stderr",
     "output_type": "stream",
     "text": [
      "<string>:29: FutureWarning:\n",
      "\n",
      "Passing literal json to 'read_json' is deprecated and will be removed in a future version. To read from a literal string, wrap it in a 'StringIO' object.\n",
      "\n"
     ]
    },
    {
     "name": "stderr",
     "output_type": "stream",
     "text": [
      "<string>:29: FutureWarning:\n",
      "\n",
      "Passing literal json to 'read_json' is deprecated and will be removed in a future version. To read from a literal string, wrap it in a 'StringIO' object.\n",
      "\n"
     ]
    },
    {
     "data": {
      "text/html": [
       "<div><style>\n",
       ".dataframe > thead > tr,\n",
       ".dataframe > tbody > tr {\n",
       "  text-align: right;\n",
       "  white-space: pre-wrap;\n",
       "}\n",
       "</style>\n",
       "<small>shape: (171, 2)</small><table border=\"1\" class=\"dataframe\"><thead><tr><th>Fecha</th><th>Crédito Otras Sociedades de Depósito-VariaciónCréditodelasOSDTotal-Total-Variación</th></tr><tr><td>date</td><td>f64</td></tr></thead><tbody><tr><td>2010-01-01</td><td>2.4085</td></tr><tr><td>2010-02-01</td><td>2.1975</td></tr><tr><td>2010-03-01</td><td>2.3382</td></tr><tr><td>2010-04-01</td><td>3.0188</td></tr><tr><td>2010-05-01</td><td>3.1448</td></tr><tr><td>&hellip;</td><td>&hellip;</td></tr><tr><td>2023-11-01</td><td>18.591</td></tr><tr><td>2023-12-01</td><td>18.7543</td></tr><tr><td>2024-01-01</td><td>18.5811</td></tr><tr><td>2024-02-01</td><td>17.5987</td></tr><tr><td>2024-03-01</td><td>17.0371</td></tr></tbody></table></div>"
      ],
      "text/plain": [
       "shape: (171, 2)\n",
       "┌────────────┬───────────────────────────────────┐\n",
       "│ Fecha      ┆ Crédito Otras Sociedades de Depó… │\n",
       "│ ---        ┆ ---                               │\n",
       "│ date       ┆ f64                               │\n",
       "╞════════════╪═══════════════════════════════════╡\n",
       "│ 2010-01-01 ┆ 2.4085                            │\n",
       "│ 2010-02-01 ┆ 2.1975                            │\n",
       "│ 2010-03-01 ┆ 2.3382                            │\n",
       "│ 2010-04-01 ┆ 3.0188                            │\n",
       "│ 2010-05-01 ┆ 3.1448                            │\n",
       "│ …          ┆ …                                 │\n",
       "│ 2023-11-01 ┆ 18.591                            │\n",
       "│ 2023-12-01 ┆ 18.7543                           │\n",
       "│ 2024-01-01 ┆ 18.5811                           │\n",
       "│ 2024-02-01 ┆ 17.5987                           │\n",
       "│ 2024-03-01 ┆ 17.0371                           │\n",
       "└────────────┴───────────────────────────────────┘"
      ]
     },
     "execution_count": 158,
     "metadata": {},
     "output_type": "execute_result"
    }
   ],
   "source": [
    "Id = 648\n",
    "df = get_df(Id)\n",
    "# get_plot(Id)\n",
    "df"
   ]
  },
  {
   "cell_type": "markdown",
   "id": "beb2522d",
   "metadata": {},
   "source": [
    "##### 05 Saldo de Préstamos (Millones de Lempiras)\n"
   ]
  },
  {
   "cell_type": "code",
   "execution_count": 159,
   "id": "3f9349ec",
   "metadata": {},
   "outputs": [
    {
     "name": "stderr",
     "output_type": "stream",
     "text": [
      "<string>:29: FutureWarning:\n",
      "\n",
      "Passing literal json to 'read_json' is deprecated and will be removed in a future version. To read from a literal string, wrap it in a 'StringIO' object.\n",
      "\n"
     ]
    },
    {
     "data": {
      "text/html": [
       "<div><style>\n",
       ".dataframe > thead > tr,\n",
       ".dataframe > tbody > tr {\n",
       "  text-align: right;\n",
       "  white-space: pre-wrap;\n",
       "}\n",
       "</style>\n",
       "<small>shape: (1, 5)</small><table border=\"1\" class=\"dataframe\"><thead><tr><th>Niv_Gr_1</th><th>Niv_Gr_2</th><th>Niv_Gr_3</th><th>Niv_Descr_1</th><th>N_Variables</th></tr><tr><td>str</td><td>str</td><td>str</td><td>str</td><td>u32</td></tr></thead><tbody><tr><td>&quot;EMF&quot;</td><td>&quot;AMCC&quot;</td><td>&quot;05&quot;</td><td>&quot;Saldo de prést…</td><td>14</td></tr></tbody></table></div>"
      ],
      "text/plain": [
       "shape: (1, 5)\n",
       "┌──────────┬──────────┬──────────┬────────────────────┬─────────────┐\n",
       "│ Niv_Gr_1 ┆ Niv_Gr_2 ┆ Niv_Gr_3 ┆ Niv_Descr_1        ┆ N_Variables │\n",
       "│ ---      ┆ ---      ┆ ---      ┆ ---                ┆ ---         │\n",
       "│ str      ┆ str      ┆ str      ┆ str                ┆ u32         │\n",
       "╞══════════╪══════════╪══════════╪════════════════════╪═════════════╡\n",
       "│ EMF      ┆ AMCC     ┆ 05       ┆ Saldo de préstamos ┆ 14          │\n",
       "└──────────┴──────────┴──────────┴────────────────────┴─────────────┘"
      ]
     },
     "execution_count": 159,
     "metadata": {},
     "output_type": "execute_result"
    }
   ],
   "source": [
    "res_nivel_4(\n",
    "    \"EMF\",\"AMCC\",\n",
    "    \"Niv_Gr_3\",\"05\",\n",
    "    \"Niv_Descr_1\")"
   ]
  },
  {
   "cell_type": "markdown",
   "id": "b34a9121",
   "metadata": {},
   "source": [
    "* Variación\n",
    "* Saldo\n",
    "\n",
    "De los siguientes sectores:\n",
    "\n",
    "* Agropecuaria\n",
    "* Comercio\n",
    "* Consumo\n",
    "* Industria\n",
    "* Propiedad Raí­z\n",
    "* Servicios\n",
    "* Total\n",
    "\n",
    "Para ver todas las variables:\n"
   ]
  },
  {
   "cell_type": "code",
   "execution_count": 160,
   "id": "aae65075",
   "metadata": {},
   "outputs": [
    {
     "name": "stderr",
     "output_type": "stream",
     "text": [
      "<string>:29: FutureWarning:\n",
      "\n",
      "Passing literal json to 'read_json' is deprecated and will be removed in a future version. To read from a literal string, wrap it in a 'StringIO' object.\n",
      "\n"
     ]
    },
    {
     "data": {
      "text/html": [
       "<div><style>\n",
       ".dataframe > thead > tr,\n",
       ".dataframe > tbody > tr {\n",
       "  text-align: right;\n",
       "  white-space: pre-wrap;\n",
       "}\n",
       "</style>\n",
       "<small>shape: (14, 8)</small><table border=\"1\" class=\"dataframe\"><thead><tr><th>Niv_Gr_1</th><th>Niv_Gr_2</th><th>Niv_Gr_3</th><th>Id</th><th>Niv_Descr_1</th><th>Niv_Descr_3</th><th>Niv_Descr_4</th><th>N_Variables</th></tr><tr><td>str</td><td>str</td><td>str</td><td>i64</td><td>str</td><td>str</td><td>str</td><td>u32</td></tr></thead><tbody><tr><td>&quot;EMF&quot;</td><td>&quot;AMCC&quot;</td><td>&quot;05&quot;</td><td>650</td><td>&quot;Saldo de prést…</td><td>&quot;Comercio&quot;</td><td>&quot;Saldo&quot;</td><td>1</td></tr><tr><td>&quot;EMF&quot;</td><td>&quot;AMCC&quot;</td><td>&quot;05&quot;</td><td>655</td><td>&quot;Saldo de prést…</td><td>&quot;Total&quot;</td><td>&quot;Saldo&quot;</td><td>1</td></tr><tr><td>&quot;EMF&quot;</td><td>&quot;AMCC&quot;</td><td>&quot;05&quot;</td><td>651</td><td>&quot;Saldo de prést…</td><td>&quot;Consumo&quot;</td><td>&quot;Saldo&quot;</td><td>1</td></tr><tr><td>&quot;EMF&quot;</td><td>&quot;AMCC&quot;</td><td>&quot;05&quot;</td><td>653</td><td>&quot;Saldo de prést…</td><td>&quot;PropiedadRaíz&quot;</td><td>&quot;Saldo&quot;</td><td>1</td></tr><tr><td>&quot;EMF&quot;</td><td>&quot;AMCC&quot;</td><td>&quot;05&quot;</td><td>654</td><td>&quot;Saldo de prést…</td><td>&quot;Servicios&quot;</td><td>&quot;Saldo&quot;</td><td>1</td></tr><tr><td>&hellip;</td><td>&hellip;</td><td>&hellip;</td><td>&hellip;</td><td>&hellip;</td><td>&hellip;</td><td>&hellip;</td><td>&hellip;</td></tr><tr><td>&quot;EMF&quot;</td><td>&quot;AMCC&quot;</td><td>&quot;05&quot;</td><td>660</td><td>&quot;Saldo de prést…</td><td>&quot;VariaciónPropi…</td><td>&quot;Variación&quot;</td><td>1</td></tr><tr><td>&quot;EMF&quot;</td><td>&quot;AMCC&quot;</td><td>&quot;05&quot;</td><td>659</td><td>&quot;Saldo de prést…</td><td>&quot;VariaciónIndus…</td><td>&quot;Variación&quot;</td><td>1</td></tr><tr><td>&quot;EMF&quot;</td><td>&quot;AMCC&quot;</td><td>&quot;05&quot;</td><td>661</td><td>&quot;Saldo de prést…</td><td>&quot;VariaciónServi…</td><td>&quot;Variación&quot;</td><td>1</td></tr><tr><td>&quot;EMF&quot;</td><td>&quot;AMCC&quot;</td><td>&quot;05&quot;</td><td>656</td><td>&quot;Saldo de prést…</td><td>&quot;VariaciónAgrop…</td><td>&quot;Variación&quot;</td><td>1</td></tr><tr><td>&quot;EMF&quot;</td><td>&quot;AMCC&quot;</td><td>&quot;05&quot;</td><td>657</td><td>&quot;Saldo de prést…</td><td>&quot;VariaciónComer…</td><td>&quot;Variación&quot;</td><td>1</td></tr></tbody></table></div>"
      ],
      "text/plain": [
       "shape: (14, 8)\n",
       "┌──────────┬──────────┬──────────┬─────┬───────────────┬───────────────┬─────────────┬─────────────┐\n",
       "│ Niv_Gr_1 ┆ Niv_Gr_2 ┆ Niv_Gr_3 ┆ Id  ┆ Niv_Descr_1   ┆ Niv_Descr_3   ┆ Niv_Descr_4 ┆ N_Variables │\n",
       "│ ---      ┆ ---      ┆ ---      ┆ --- ┆ ---           ┆ ---           ┆ ---         ┆ ---         │\n",
       "│ str      ┆ str      ┆ str      ┆ i64 ┆ str           ┆ str           ┆ str         ┆ u32         │\n",
       "╞══════════╪══════════╪══════════╪═════╪═══════════════╪═══════════════╪═════════════╪═════════════╡\n",
       "│ EMF      ┆ AMCC     ┆ 05       ┆ 650 ┆ Saldo de      ┆ Comercio      ┆ Saldo       ┆ 1           │\n",
       "│          ┆          ┆          ┆     ┆ préstamos     ┆               ┆             ┆             │\n",
       "│ EMF      ┆ AMCC     ┆ 05       ┆ 655 ┆ Saldo de      ┆ Total         ┆ Saldo       ┆ 1           │\n",
       "│          ┆          ┆          ┆     ┆ préstamos     ┆               ┆             ┆             │\n",
       "│ EMF      ┆ AMCC     ┆ 05       ┆ 651 ┆ Saldo de      ┆ Consumo       ┆ Saldo       ┆ 1           │\n",
       "│          ┆          ┆          ┆     ┆ préstamos     ┆               ┆             ┆             │\n",
       "│ EMF      ┆ AMCC     ┆ 05       ┆ 653 ┆ Saldo de      ┆ PropiedadRaíz ┆ Saldo       ┆ 1           │\n",
       "│          ┆          ┆          ┆     ┆ préstamos     ┆               ┆             ┆             │\n",
       "│ EMF      ┆ AMCC     ┆ 05       ┆ 654 ┆ Saldo de      ┆ Servicios     ┆ Saldo       ┆ 1           │\n",
       "│          ┆          ┆          ┆     ┆ préstamos     ┆               ┆             ┆             │\n",
       "│ …        ┆ …        ┆ …        ┆ …   ┆ …             ┆ …             ┆ …           ┆ …           │\n",
       "│ EMF      ┆ AMCC     ┆ 05       ┆ 660 ┆ Saldo de      ┆ VariaciónProp ┆ Variación   ┆ 1           │\n",
       "│          ┆          ┆          ┆     ┆ préstamos     ┆ iedadRaíz     ┆             ┆             │\n",
       "│ EMF      ┆ AMCC     ┆ 05       ┆ 659 ┆ Saldo de      ┆ VariaciónIndu ┆ Variación   ┆ 1           │\n",
       "│          ┆          ┆          ┆     ┆ préstamos     ┆ stria         ┆             ┆             │\n",
       "│ EMF      ┆ AMCC     ┆ 05       ┆ 661 ┆ Saldo de      ┆ VariaciónServ ┆ Variación   ┆ 1           │\n",
       "│          ┆          ┆          ┆     ┆ préstamos     ┆ icios         ┆             ┆             │\n",
       "│ EMF      ┆ AMCC     ┆ 05       ┆ 656 ┆ Saldo de      ┆ VariaciónAgro ┆ Variación   ┆ 1           │\n",
       "│          ┆          ┆          ┆     ┆ préstamos     ┆ pecuaria      ┆             ┆             │\n",
       "│ EMF      ┆ AMCC     ┆ 05       ┆ 657 ┆ Saldo de      ┆ VariaciónCome ┆ Variación   ┆ 1           │\n",
       "│          ┆          ┆          ┆     ┆ préstamos     ┆ rcio          ┆             ┆             │\n",
       "└──────────┴──────────┴──────────┴─────┴───────────────┴───────────────┴─────────────┴─────────────┘"
      ]
     },
     "execution_count": 160,
     "metadata": {},
     "output_type": "execute_result"
    }
   ],
   "source": [
    "res_nivel_7(\n",
    "    \"EMF\",\"AMCC\",\n",
    "    \"Niv_Gr_3\",\"05\",\n",
    "    \"Id\",\"Niv_Descr_1\",\"Niv_Descr_3\",\"Niv_Descr_4\").sort(\"Niv_Descr_4\")"
   ]
  },
  {
   "cell_type": "markdown",
   "id": "da054bfe",
   "metadata": {},
   "source": [
    "Resultados de una sola variable:\n"
   ]
  },
  {
   "cell_type": "code",
   "execution_count": 161,
   "id": "b9335e10",
   "metadata": {},
   "outputs": [
    {
     "name": "stderr",
     "output_type": "stream",
     "text": [
      "<string>:29: FutureWarning:\n",
      "\n",
      "Passing literal json to 'read_json' is deprecated and will be removed in a future version. To read from a literal string, wrap it in a 'StringIO' object.\n",
      "\n"
     ]
    },
    {
     "name": "stderr",
     "output_type": "stream",
     "text": [
      "<string>:29: FutureWarning:\n",
      "\n",
      "Passing literal json to 'read_json' is deprecated and will be removed in a future version. To read from a literal string, wrap it in a 'StringIO' object.\n",
      "\n"
     ]
    },
    {
     "data": {
      "text/html": [
       "<div><style>\n",
       ".dataframe > thead > tr,\n",
       ".dataframe > tbody > tr {\n",
       "  text-align: right;\n",
       "  white-space: pre-wrap;\n",
       "}\n",
       "</style>\n",
       "<small>shape: (84, 2)</small><table border=\"1\" class=\"dataframe\"><thead><tr><th>Fecha</th><th>Saldo de préstamos-Saldos en millones de lempiras-Comercio-Saldo</th></tr><tr><td>date</td><td>f64</td></tr></thead><tbody><tr><td>2017-01-01</td><td>40207.1</td></tr><tr><td>2017-02-01</td><td>40690.6</td></tr><tr><td>2017-03-01</td><td>40997.5</td></tr><tr><td>2017-04-01</td><td>40674.4</td></tr><tr><td>2017-05-01</td><td>39759.4</td></tr><tr><td>&hellip;</td><td>&hellip;</td></tr><tr><td>2023-08-01</td><td>90128.6</td></tr><tr><td>2023-09-01</td><td>90088.3</td></tr><tr><td>2023-10-01</td><td>90823.6</td></tr><tr><td>2023-11-01</td><td>92529.6</td></tr><tr><td>2023-12-01</td><td>97441.3</td></tr></tbody></table></div>"
      ],
      "text/plain": [
       "shape: (84, 2)\n",
       "┌────────────┬───────────────────────────────────┐\n",
       "│ Fecha      ┆ Saldo de préstamos-Saldos en mil… │\n",
       "│ ---        ┆ ---                               │\n",
       "│ date       ┆ f64                               │\n",
       "╞════════════╪═══════════════════════════════════╡\n",
       "│ 2017-01-01 ┆ 40207.1                           │\n",
       "│ 2017-02-01 ┆ 40690.6                           │\n",
       "│ 2017-03-01 ┆ 40997.5                           │\n",
       "│ 2017-04-01 ┆ 40674.4                           │\n",
       "│ 2017-05-01 ┆ 39759.4                           │\n",
       "│ …          ┆ …                                 │\n",
       "│ 2023-08-01 ┆ 90128.6                           │\n",
       "│ 2023-09-01 ┆ 90088.3                           │\n",
       "│ 2023-10-01 ┆ 90823.6                           │\n",
       "│ 2023-11-01 ┆ 92529.6                           │\n",
       "│ 2023-12-01 ┆ 97441.3                           │\n",
       "└────────────┴───────────────────────────────────┘"
      ]
     },
     "execution_count": 161,
     "metadata": {},
     "output_type": "execute_result"
    }
   ],
   "source": [
    "Id = 650\n",
    "df = get_df(Id)\n",
    "# get_plot(Id)\n",
    "df"
   ]
  },
  {
   "cell_type": "markdown",
   "id": "891de52b",
   "metadata": {},
   "source": [
    "##### 06 Préstamos Nuevos (Flujos acumulados en millones de lempiras)\n"
   ]
  },
  {
   "cell_type": "code",
   "execution_count": 162,
   "id": "64d45cc6",
   "metadata": {},
   "outputs": [
    {
     "name": "stderr",
     "output_type": "stream",
     "text": [
      "<string>:29: FutureWarning:\n",
      "\n",
      "Passing literal json to 'read_json' is deprecated and will be removed in a future version. To read from a literal string, wrap it in a 'StringIO' object.\n",
      "\n"
     ]
    },
    {
     "data": {
      "text/html": [
       "<div><style>\n",
       ".dataframe > thead > tr,\n",
       ".dataframe > tbody > tr {\n",
       "  text-align: right;\n",
       "  white-space: pre-wrap;\n",
       "}\n",
       "</style>\n",
       "<small>shape: (1, 5)</small><table border=\"1\" class=\"dataframe\"><thead><tr><th>Niv_Gr_1</th><th>Niv_Gr_2</th><th>Niv_Gr_3</th><th>Niv_Descr_1</th><th>N_Variables</th></tr><tr><td>str</td><td>str</td><td>str</td><td>str</td><td>u32</td></tr></thead><tbody><tr><td>&quot;EMF&quot;</td><td>&quot;AMCC&quot;</td><td>&quot;06&quot;</td><td>&quot;Préstamos nuev…</td><td>14</td></tr></tbody></table></div>"
      ],
      "text/plain": [
       "shape: (1, 5)\n",
       "┌──────────┬──────────┬──────────┬──────────────────┬─────────────┐\n",
       "│ Niv_Gr_1 ┆ Niv_Gr_2 ┆ Niv_Gr_3 ┆ Niv_Descr_1      ┆ N_Variables │\n",
       "│ ---      ┆ ---      ┆ ---      ┆ ---              ┆ ---         │\n",
       "│ str      ┆ str      ┆ str      ┆ str              ┆ u32         │\n",
       "╞══════════╪══════════╪══════════╪══════════════════╪═════════════╡\n",
       "│ EMF      ┆ AMCC     ┆ 06       ┆ Préstamos nuevos ┆ 14          │\n",
       "└──────────┴──────────┴──────────┴──────────────────┴─────────────┘"
      ]
     },
     "execution_count": 162,
     "metadata": {},
     "output_type": "execute_result"
    }
   ],
   "source": [
    "res_nivel_4(\n",
    "    \"EMF\",\"AMCC\",\n",
    "    \"Niv_Gr_3\",\"06\",\n",
    "    \"Niv_Descr_1\")"
   ]
  },
  {
   "cell_type": "markdown",
   "id": "fd85f0c9",
   "metadata": {},
   "source": [
    "* Variación\n",
    "* Saldo\n",
    "\n",
    "De los siguientes sectores:\n",
    "\n",
    "* Agropecuaria\n",
    "* Comercio\n",
    "* Consumo\n",
    "* Industria\n",
    "* Propiedad Raí­z\n",
    "* Servicios\n",
    "* Total\n"
   ]
  },
  {
   "cell_type": "code",
   "execution_count": 163,
   "id": "5f664662",
   "metadata": {},
   "outputs": [
    {
     "name": "stderr",
     "output_type": "stream",
     "text": [
      "<string>:29: FutureWarning:\n",
      "\n",
      "Passing literal json to 'read_json' is deprecated and will be removed in a future version. To read from a literal string, wrap it in a 'StringIO' object.\n",
      "\n"
     ]
    },
    {
     "data": {
      "text/html": [
       "<div><style>\n",
       ".dataframe > thead > tr,\n",
       ".dataframe > tbody > tr {\n",
       "  text-align: right;\n",
       "  white-space: pre-wrap;\n",
       "}\n",
       "</style>\n",
       "<small>shape: (2, 6)</small><table border=\"1\" class=\"dataframe\"><thead><tr><th>Niv_Gr_1</th><th>Niv_Gr_2</th><th>Niv_Gr_3</th><th>Niv_Descr_1</th><th>Niv_Descr_4</th><th>N_Variables</th></tr><tr><td>str</td><td>str</td><td>str</td><td>str</td><td>str</td><td>u32</td></tr></thead><tbody><tr><td>&quot;EMF&quot;</td><td>&quot;AMCC&quot;</td><td>&quot;06&quot;</td><td>&quot;Préstamos nuev…</td><td>&quot;Saldo&quot;</td><td>7</td></tr><tr><td>&quot;EMF&quot;</td><td>&quot;AMCC&quot;</td><td>&quot;06&quot;</td><td>&quot;Préstamos nuev…</td><td>&quot;Variación&quot;</td><td>7</td></tr></tbody></table></div>"
      ],
      "text/plain": [
       "shape: (2, 6)\n",
       "┌──────────┬──────────┬──────────┬──────────────────┬─────────────┬─────────────┐\n",
       "│ Niv_Gr_1 ┆ Niv_Gr_2 ┆ Niv_Gr_3 ┆ Niv_Descr_1      ┆ Niv_Descr_4 ┆ N_Variables │\n",
       "│ ---      ┆ ---      ┆ ---      ┆ ---              ┆ ---         ┆ ---         │\n",
       "│ str      ┆ str      ┆ str      ┆ str              ┆ str         ┆ u32         │\n",
       "╞══════════╪══════════╪══════════╪══════════════════╪═════════════╪═════════════╡\n",
       "│ EMF      ┆ AMCC     ┆ 06       ┆ Préstamos nuevos ┆ Saldo       ┆ 7           │\n",
       "│ EMF      ┆ AMCC     ┆ 06       ┆ Préstamos nuevos ┆ Variación   ┆ 7           │\n",
       "└──────────┴──────────┴──────────┴──────────────────┴─────────────┴─────────────┘"
      ]
     },
     "execution_count": 163,
     "metadata": {},
     "output_type": "execute_result"
    }
   ],
   "source": [
    "res_nivel_5(\n",
    "    \"EMF\",\"AMCC\",\n",
    "    \"Niv_Gr_3\",\"06\",\n",
    "    \"Niv_Descr_1\",\"Niv_Descr_4\")"
   ]
  },
  {
   "cell_type": "markdown",
   "id": "801135aa",
   "metadata": {},
   "source": [
    "Para ver todas las variables:\n"
   ]
  },
  {
   "cell_type": "code",
   "execution_count": 164,
   "id": "364ca030",
   "metadata": {},
   "outputs": [
    {
     "name": "stderr",
     "output_type": "stream",
     "text": [
      "<string>:29: FutureWarning:\n",
      "\n",
      "Passing literal json to 'read_json' is deprecated and will be removed in a future version. To read from a literal string, wrap it in a 'StringIO' object.\n",
      "\n"
     ]
    },
    {
     "data": {
      "text/html": [
       "<div><style>\n",
       ".dataframe > thead > tr,\n",
       ".dataframe > tbody > tr {\n",
       "  text-align: right;\n",
       "  white-space: pre-wrap;\n",
       "}\n",
       "</style>\n",
       "<small>shape: (14, 8)</small><table border=\"1\" class=\"dataframe\"><thead><tr><th>Niv_Gr_1</th><th>Niv_Gr_2</th><th>Niv_Gr_3</th><th>Id</th><th>Niv_Descr_1</th><th>Niv_Descr_3</th><th>Niv_Descr_4</th><th>N_Variables</th></tr><tr><td>str</td><td>str</td><td>str</td><td>i64</td><td>str</td><td>str</td><td>str</td><td>u32</td></tr></thead><tbody><tr><td>&quot;EMF&quot;</td><td>&quot;AMCC&quot;</td><td>&quot;06&quot;</td><td>663</td><td>&quot;Préstamos nuev…</td><td>&quot;Agropecuaria&quot;</td><td>&quot;Saldo&quot;</td><td>1</td></tr><tr><td>&quot;EMF&quot;</td><td>&quot;AMCC&quot;</td><td>&quot;06&quot;</td><td>665</td><td>&quot;Préstamos nuev…</td><td>&quot;Consumo&quot;</td><td>&quot;Saldo&quot;</td><td>1</td></tr><tr><td>&quot;EMF&quot;</td><td>&quot;AMCC&quot;</td><td>&quot;06&quot;</td><td>668</td><td>&quot;Préstamos nuev…</td><td>&quot;Servicios&quot;</td><td>&quot;Saldo&quot;</td><td>1</td></tr><tr><td>&quot;EMF&quot;</td><td>&quot;AMCC&quot;</td><td>&quot;06&quot;</td><td>666</td><td>&quot;Préstamos nuev…</td><td>&quot;Industria&quot;</td><td>&quot;Saldo&quot;</td><td>1</td></tr><tr><td>&quot;EMF&quot;</td><td>&quot;AMCC&quot;</td><td>&quot;06&quot;</td><td>667</td><td>&quot;Préstamos nuev…</td><td>&quot;PropiedadRaíz&quot;</td><td>&quot;Saldo&quot;</td><td>1</td></tr><tr><td>&hellip;</td><td>&hellip;</td><td>&hellip;</td><td>&hellip;</td><td>&hellip;</td><td>&hellip;</td><td>&hellip;</td><td>&hellip;</td></tr><tr><td>&quot;EMF&quot;</td><td>&quot;AMCC&quot;</td><td>&quot;06&quot;</td><td>676</td><td>&quot;Préstamos nuev…</td><td>&quot;VariaciónTotal…</td><td>&quot;Variación&quot;</td><td>1</td></tr><tr><td>&quot;EMF&quot;</td><td>&quot;AMCC&quot;</td><td>&quot;06&quot;</td><td>672</td><td>&quot;Préstamos nuev…</td><td>&quot;VariaciónConsu…</td><td>&quot;Variación&quot;</td><td>1</td></tr><tr><td>&quot;EMF&quot;</td><td>&quot;AMCC&quot;</td><td>&quot;06&quot;</td><td>673</td><td>&quot;Préstamos nuev…</td><td>&quot;VariaciónIndus…</td><td>&quot;Variación&quot;</td><td>1</td></tr><tr><td>&quot;EMF&quot;</td><td>&quot;AMCC&quot;</td><td>&quot;06&quot;</td><td>670</td><td>&quot;Préstamos nuev…</td><td>&quot;VariaciónAgrop…</td><td>&quot;Variación&quot;</td><td>1</td></tr><tr><td>&quot;EMF&quot;</td><td>&quot;AMCC&quot;</td><td>&quot;06&quot;</td><td>675</td><td>&quot;Préstamos nuev…</td><td>&quot;VariaciónServi…</td><td>&quot;Variación&quot;</td><td>1</td></tr></tbody></table></div>"
      ],
      "text/plain": [
       "shape: (14, 8)\n",
       "┌──────────┬──────────┬──────────┬─────┬───────────────┬───────────────┬─────────────┬─────────────┐\n",
       "│ Niv_Gr_1 ┆ Niv_Gr_2 ┆ Niv_Gr_3 ┆ Id  ┆ Niv_Descr_1   ┆ Niv_Descr_3   ┆ Niv_Descr_4 ┆ N_Variables │\n",
       "│ ---      ┆ ---      ┆ ---      ┆ --- ┆ ---           ┆ ---           ┆ ---         ┆ ---         │\n",
       "│ str      ┆ str      ┆ str      ┆ i64 ┆ str           ┆ str           ┆ str         ┆ u32         │\n",
       "╞══════════╪══════════╪══════════╪═════╪═══════════════╪═══════════════╪═════════════╪═════════════╡\n",
       "│ EMF      ┆ AMCC     ┆ 06       ┆ 663 ┆ Préstamos     ┆ Agropecuaria  ┆ Saldo       ┆ 1           │\n",
       "│          ┆          ┆          ┆     ┆ nuevos        ┆               ┆             ┆             │\n",
       "│ EMF      ┆ AMCC     ┆ 06       ┆ 665 ┆ Préstamos     ┆ Consumo       ┆ Saldo       ┆ 1           │\n",
       "│          ┆          ┆          ┆     ┆ nuevos        ┆               ┆             ┆             │\n",
       "│ EMF      ┆ AMCC     ┆ 06       ┆ 668 ┆ Préstamos     ┆ Servicios     ┆ Saldo       ┆ 1           │\n",
       "│          ┆          ┆          ┆     ┆ nuevos        ┆               ┆             ┆             │\n",
       "│ EMF      ┆ AMCC     ┆ 06       ┆ 666 ┆ Préstamos     ┆ Industria     ┆ Saldo       ┆ 1           │\n",
       "│          ┆          ┆          ┆     ┆ nuevos        ┆               ┆             ┆             │\n",
       "│ EMF      ┆ AMCC     ┆ 06       ┆ 667 ┆ Préstamos     ┆ PropiedadRaíz ┆ Saldo       ┆ 1           │\n",
       "│          ┆          ┆          ┆     ┆ nuevos        ┆               ┆             ┆             │\n",
       "│ …        ┆ …        ┆ …        ┆ …   ┆ …             ┆ …             ┆ …           ┆ …           │\n",
       "│ EMF      ┆ AMCC     ┆ 06       ┆ 676 ┆ Préstamos     ┆ VariaciónTota ┆ Variación   ┆ 1           │\n",
       "│          ┆          ┆          ┆     ┆ nuevos        ┆ l             ┆             ┆             │\n",
       "│ EMF      ┆ AMCC     ┆ 06       ┆ 672 ┆ Préstamos     ┆ VariaciónCons ┆ Variación   ┆ 1           │\n",
       "│          ┆          ┆          ┆     ┆ nuevos        ┆ umo           ┆             ┆             │\n",
       "│ EMF      ┆ AMCC     ┆ 06       ┆ 673 ┆ Préstamos     ┆ VariaciónIndu ┆ Variación   ┆ 1           │\n",
       "│          ┆          ┆          ┆     ┆ nuevos        ┆ stria         ┆             ┆             │\n",
       "│ EMF      ┆ AMCC     ┆ 06       ┆ 670 ┆ Préstamos     ┆ VariaciónAgro ┆ Variación   ┆ 1           │\n",
       "│          ┆          ┆          ┆     ┆ nuevos        ┆ pecuaria      ┆             ┆             │\n",
       "│ EMF      ┆ AMCC     ┆ 06       ┆ 675 ┆ Préstamos     ┆ VariaciónServ ┆ Variación   ┆ 1           │\n",
       "│          ┆          ┆          ┆     ┆ nuevos        ┆ icios         ┆             ┆             │\n",
       "└──────────┴──────────┴──────────┴─────┴───────────────┴───────────────┴─────────────┴─────────────┘"
      ]
     },
     "execution_count": 164,
     "metadata": {},
     "output_type": "execute_result"
    }
   ],
   "source": [
    "res_nivel_7(\n",
    "    \"EMF\",\"AMCC\",\n",
    "    \"Niv_Gr_3\",\"06\",\n",
    "    \"Id\",\"Niv_Descr_1\",\"Niv_Descr_3\",\"Niv_Descr_4\").sort(\"Niv_Descr_4\")"
   ]
  },
  {
   "cell_type": "markdown",
   "id": "77255069",
   "metadata": {},
   "source": [
    "Resultados de una sola variable:\n"
   ]
  },
  {
   "cell_type": "code",
   "execution_count": 165,
   "id": "2cad4cef",
   "metadata": {},
   "outputs": [
    {
     "name": "stderr",
     "output_type": "stream",
     "text": [
      "<string>:29: FutureWarning:\n",
      "\n",
      "Passing literal json to 'read_json' is deprecated and will be removed in a future version. To read from a literal string, wrap it in a 'StringIO' object.\n",
      "\n"
     ]
    },
    {
     "name": "stderr",
     "output_type": "stream",
     "text": [
      "<string>:29: FutureWarning:\n",
      "\n",
      "Passing literal json to 'read_json' is deprecated and will be removed in a future version. To read from a literal string, wrap it in a 'StringIO' object.\n",
      "\n"
     ]
    },
    {
     "data": {
      "text/html": [
       "<div><style>\n",
       ".dataframe > thead > tr,\n",
       ".dataframe > tbody > tr {\n",
       "  text-align: right;\n",
       "  white-space: pre-wrap;\n",
       "}\n",
       "</style>\n",
       "<small>shape: (84, 2)</small><table border=\"1\" class=\"dataframe\"><thead><tr><th>Fecha</th><th>Préstamos nuevos-Flujos acumulados en millones de lempiras-Agropecuaria-Saldo</th></tr><tr><td>date</td><td>f64</td></tr></thead><tbody><tr><td>2017-01-01</td><td>1326.8</td></tr><tr><td>2017-02-01</td><td>1859.6</td></tr><tr><td>2017-03-01</td><td>2709.4</td></tr><tr><td>2017-04-01</td><td>3727.6</td></tr><tr><td>2017-05-01</td><td>4787.8</td></tr><tr><td>&hellip;</td><td>&hellip;</td></tr><tr><td>2023-08-01</td><td>11386.5</td></tr><tr><td>2023-09-01</td><td>12141.2</td></tr><tr><td>2023-10-01</td><td>13187.9</td></tr><tr><td>2023-11-01</td><td>14126.0</td></tr><tr><td>2023-12-01</td><td>15346.5</td></tr></tbody></table></div>"
      ],
      "text/plain": [
       "shape: (84, 2)\n",
       "┌────────────┬───────────────────────────────────┐\n",
       "│ Fecha      ┆ Préstamos nuevos-Flujos acumulad… │\n",
       "│ ---        ┆ ---                               │\n",
       "│ date       ┆ f64                               │\n",
       "╞════════════╪═══════════════════════════════════╡\n",
       "│ 2017-01-01 ┆ 1326.8                            │\n",
       "│ 2017-02-01 ┆ 1859.6                            │\n",
       "│ 2017-03-01 ┆ 2709.4                            │\n",
       "│ 2017-04-01 ┆ 3727.6                            │\n",
       "│ 2017-05-01 ┆ 4787.8                            │\n",
       "│ …          ┆ …                                 │\n",
       "│ 2023-08-01 ┆ 11386.5                           │\n",
       "│ 2023-09-01 ┆ 12141.2                           │\n",
       "│ 2023-10-01 ┆ 13187.9                           │\n",
       "│ 2023-11-01 ┆ 14126.0                           │\n",
       "│ 2023-12-01 ┆ 15346.5                           │\n",
       "└────────────┴───────────────────────────────────┘"
      ]
     },
     "execution_count": 165,
     "metadata": {},
     "output_type": "execute_result"
    }
   ],
   "source": [
    "Id = 663\n",
    "df = get_df(Id)\n",
    "# get_plot(Id)\n",
    "df"
   ]
  },
  {
   "cell_type": "markdown",
   "id": "ceabb78a",
   "metadata": {},
   "source": [
    "#### TI = Tasas de Interés\n"
   ]
  },
  {
   "cell_type": "code",
   "execution_count": 166,
   "id": "8fa27b60",
   "metadata": {},
   "outputs": [
    {
     "name": "stdout",
     "output_type": "stream",
     "text": [
      "3 subgrupos\n",
      "38 variables\n"
     ]
    },
    {
     "name": "stderr",
     "output_type": "stream",
     "text": [
      "<string>:29: FutureWarning:\n",
      "\n",
      "Passing literal json to 'read_json' is deprecated and will be removed in a future version. To read from a literal string, wrap it in a 'StringIO' object.\n",
      "\n"
     ]
    },
    {
     "data": {
      "text/html": [
       "<div><style>\n",
       ".dataframe > thead > tr,\n",
       ".dataframe > tbody > tr {\n",
       "  text-align: right;\n",
       "  white-space: pre-wrap;\n",
       "}\n",
       "</style>\n",
       "<small>shape: (3, 4)</small><table border=\"1\" class=\"dataframe\"><thead><tr><th>Niv_Gr_1</th><th>Niv_Gr_2</th><th>Niv_Gr_3</th><th>N_Variables</th></tr><tr><td>str</td><td>str</td><td>str</td><td>u32</td></tr></thead><tbody><tr><td>&quot;EMF&quot;</td><td>&quot;TI&quot;</td><td>&quot;01&quot;</td><td>8</td></tr><tr><td>&quot;EMF&quot;</td><td>&quot;TI&quot;</td><td>&quot;02&quot;</td><td>20</td></tr><tr><td>&quot;EMF&quot;</td><td>&quot;TI&quot;</td><td>&quot;03&quot;</td><td>10</td></tr></tbody></table></div>"
      ],
      "text/plain": [
       "shape: (3, 4)\n",
       "┌──────────┬──────────┬──────────┬─────────────┐\n",
       "│ Niv_Gr_1 ┆ Niv_Gr_2 ┆ Niv_Gr_3 ┆ N_Variables │\n",
       "│ ---      ┆ ---      ┆ ---      ┆ ---         │\n",
       "│ str      ┆ str      ┆ str      ┆ u32         │\n",
       "╞══════════╪══════════╪══════════╪═════════════╡\n",
       "│ EMF      ┆ TI       ┆ 01       ┆ 8           │\n",
       "│ EMF      ┆ TI       ┆ 02       ┆ 20          │\n",
       "│ EMF      ┆ TI       ┆ 03       ┆ 10          │\n",
       "└──────────┴──────────┴──────────┴─────────────┘"
      ]
     },
     "execution_count": 166,
     "metadata": {},
     "output_type": "execute_result"
    }
   ],
   "source": [
    "res_nivel_3(\"EMF\",\"TI\",\"Niv_Gr_3\").sort(\"Niv_Gr_3\")"
   ]
  },
  {
   "cell_type": "markdown",
   "id": "ad8e9947",
   "metadata": {},
   "source": [
    "##### 01 Tasas de Interés, Activa y Pasiva, por Moneda\n",
    "\n",
    "Por Tipo:\n",
    "\n",
    "* Activa Préstamos \n",
    "* Pasiva Ahorros \n",
    "* Pasiva Cheques \n",
    "* Pasiva Plazo \n"
   ]
  },
  {
   "cell_type": "code",
   "execution_count": 167,
   "id": "91821b4f",
   "metadata": {},
   "outputs": [
    {
     "name": "stderr",
     "output_type": "stream",
     "text": [
      "<string>:29: FutureWarning:\n",
      "\n",
      "Passing literal json to 'read_json' is deprecated and will be removed in a future version. To read from a literal string, wrap it in a 'StringIO' object.\n",
      "\n"
     ]
    },
    {
     "data": {
      "text/html": [
       "<div><style>\n",
       ".dataframe > thead > tr,\n",
       ".dataframe > tbody > tr {\n",
       "  text-align: right;\n",
       "  white-space: pre-wrap;\n",
       "}\n",
       "</style>\n",
       "<small>shape: (4, 5)</small><table border=\"1\" class=\"dataframe\"><thead><tr><th>Niv_Gr_1</th><th>Niv_Gr_2</th><th>Niv_Gr_3</th><th>Niv_Descr_5</th><th>N_Variables</th></tr><tr><td>str</td><td>str</td><td>str</td><td>str</td><td>u32</td></tr></thead><tbody><tr><td>&quot;EMF&quot;</td><td>&quot;TI&quot;</td><td>&quot;01&quot;</td><td>&quot; Pasiva Ahorro…</td><td>2</td></tr><tr><td>&quot;EMF&quot;</td><td>&quot;TI&quot;</td><td>&quot;01&quot;</td><td>&quot; Pasiva Plazo …</td><td>2</td></tr><tr><td>&quot;EMF&quot;</td><td>&quot;TI&quot;</td><td>&quot;01&quot;</td><td>&quot; Pasiva Cheque…</td><td>2</td></tr><tr><td>&quot;EMF&quot;</td><td>&quot;TI&quot;</td><td>&quot;01&quot;</td><td>&quot; Activa Présta…</td><td>2</td></tr></tbody></table></div>"
      ],
      "text/plain": [
       "shape: (4, 5)\n",
       "┌──────────┬──────────┬──────────┬────────────────────┬─────────────┐\n",
       "│ Niv_Gr_1 ┆ Niv_Gr_2 ┆ Niv_Gr_3 ┆ Niv_Descr_5        ┆ N_Variables │\n",
       "│ ---      ┆ ---      ┆ ---      ┆ ---                ┆ ---         │\n",
       "│ str      ┆ str      ┆ str      ┆ str                ┆ u32         │\n",
       "╞══════════╪══════════╪══════════╪════════════════════╪═════════════╡\n",
       "│ EMF      ┆ TI       ┆ 01       ┆  Pasiva Ahorros    ┆ 2           │\n",
       "│ EMF      ┆ TI       ┆ 01       ┆  Pasiva Plazo      ┆ 2           │\n",
       "│ EMF      ┆ TI       ┆ 01       ┆  Pasiva Cheques    ┆ 2           │\n",
       "│ EMF      ┆ TI       ┆ 01       ┆  Activa Préstamos  ┆ 2           │\n",
       "└──────────┴──────────┴──────────┴────────────────────┴─────────────┘"
      ]
     },
     "execution_count": 167,
     "metadata": {},
     "output_type": "execute_result"
    }
   ],
   "source": [
    "res_nivel_4(\n",
    "    \"EMF\",\"TI\",\n",
    "    \"Niv_Gr_3\",\"01\",\n",
    "    \"Niv_Descr_5\")"
   ]
  },
  {
   "cell_type": "markdown",
   "id": "23936cb9",
   "metadata": {},
   "source": [
    "Por Moneda:\n",
    "\n",
    "* Moneda Nacional\n",
    "* Moneda Extranjera\n",
    "\n",
    "Para ver todas las variables:\n"
   ]
  },
  {
   "cell_type": "code",
   "execution_count": 168,
   "id": "9d2b0ce0",
   "metadata": {},
   "outputs": [
    {
     "name": "stderr",
     "output_type": "stream",
     "text": [
      "<string>:29: FutureWarning:\n",
      "\n",
      "Passing literal json to 'read_json' is deprecated and will be removed in a future version. To read from a literal string, wrap it in a 'StringIO' object.\n",
      "\n"
     ]
    },
    {
     "data": {
      "text/html": [
       "<div><style>\n",
       ".dataframe > thead > tr,\n",
       ".dataframe > tbody > tr {\n",
       "  text-align: right;\n",
       "  white-space: pre-wrap;\n",
       "}\n",
       "</style>\n",
       "<small>shape: (8, 8)</small><table border=\"1\" class=\"dataframe\"><thead><tr><th>Niv_Gr_1</th><th>Niv_Gr_2</th><th>Niv_Gr_3</th><th>Id</th><th>Nombre</th><th>Niv_Descr_5</th><th>Niv_Descr_6</th><th>N_Variables</th></tr><tr><td>str</td><td>str</td><td>str</td><td>i64</td><td>str</td><td>str</td><td>str</td><td>u32</td></tr></thead><tbody><tr><td>&quot;EMF&quot;</td><td>&quot;TI&quot;</td><td>&quot;01&quot;</td><td>587</td><td>&quot;EMF-TI-01-3&quot;</td><td>&quot; Pasiva Plazo …</td><td>&quot; Moneda Extran…</td><td>1</td></tr><tr><td>&quot;EMF&quot;</td><td>&quot;TI&quot;</td><td>&quot;01&quot;</td><td>585</td><td>&quot;EMF-TI-01-7&quot;</td><td>&quot; Pasiva Cheque…</td><td>&quot; Moneda Extran…</td><td>1</td></tr><tr><td>&quot;EMF&quot;</td><td>&quot;TI&quot;</td><td>&quot;01&quot;</td><td>582</td><td>&quot;EMF-TI-01-6&quot;</td><td>&quot; Pasiva Ahorro…</td><td>&quot; Moneda Nacion…</td><td>1</td></tr><tr><td>&quot;EMF&quot;</td><td>&quot;TI&quot;</td><td>&quot;01&quot;</td><td>583</td><td>&quot;EMF-TI-01-5&quot;</td><td>&quot; Pasiva Ahorro…</td><td>&quot; Moneda Extran…</td><td>1</td></tr><tr><td>&quot;EMF&quot;</td><td>&quot;TI&quot;</td><td>&quot;01&quot;</td><td>586</td><td>&quot;EMF-TI-01-4&quot;</td><td>&quot; Pasiva Plazo …</td><td>&quot; Moneda Nacion…</td><td>1</td></tr><tr><td>&quot;EMF&quot;</td><td>&quot;TI&quot;</td><td>&quot;01&quot;</td><td>584</td><td>&quot;EMF-TI-01-8&quot;</td><td>&quot; Pasiva Cheque…</td><td>&quot; Moneda Nacion…</td><td>1</td></tr><tr><td>&quot;EMF&quot;</td><td>&quot;TI&quot;</td><td>&quot;01&quot;</td><td>580</td><td>&quot;EMF-TI-01-2&quot;</td><td>&quot; Activa Présta…</td><td>&quot; Moneda Nacion…</td><td>1</td></tr><tr><td>&quot;EMF&quot;</td><td>&quot;TI&quot;</td><td>&quot;01&quot;</td><td>581</td><td>&quot;EMF-TI-01-1&quot;</td><td>&quot; Activa Présta…</td><td>&quot; Moneda Extran…</td><td>1</td></tr></tbody></table></div>"
      ],
      "text/plain": [
       "shape: (8, 8)\n",
       "┌──────────┬──────────┬──────────┬─────┬─────────────┬───────────────┬───────────────┬─────────────┐\n",
       "│ Niv_Gr_1 ┆ Niv_Gr_2 ┆ Niv_Gr_3 ┆ Id  ┆ Nombre      ┆ Niv_Descr_5   ┆ Niv_Descr_6   ┆ N_Variables │\n",
       "│ ---      ┆ ---      ┆ ---      ┆ --- ┆ ---         ┆ ---           ┆ ---           ┆ ---         │\n",
       "│ str      ┆ str      ┆ str      ┆ i64 ┆ str         ┆ str           ┆ str           ┆ u32         │\n",
       "╞══════════╪══════════╪══════════╪═════╪═════════════╪═══════════════╪═══════════════╪═════════════╡\n",
       "│ EMF      ┆ TI       ┆ 01       ┆ 587 ┆ EMF-TI-01-3 ┆ Pasiva Plazo  ┆ Moneda        ┆ 1           │\n",
       "│          ┆          ┆          ┆     ┆             ┆               ┆ Extranjera    ┆             │\n",
       "│ EMF      ┆ TI       ┆ 01       ┆ 585 ┆ EMF-TI-01-7 ┆ Pasiva        ┆ Moneda        ┆ 1           │\n",
       "│          ┆          ┆          ┆     ┆             ┆ Cheques       ┆ Extranjera    ┆             │\n",
       "│ EMF      ┆ TI       ┆ 01       ┆ 582 ┆ EMF-TI-01-6 ┆ Pasiva        ┆ Moneda        ┆ 1           │\n",
       "│          ┆          ┆          ┆     ┆             ┆ Ahorros       ┆ Nacional      ┆             │\n",
       "│ EMF      ┆ TI       ┆ 01       ┆ 583 ┆ EMF-TI-01-5 ┆ Pasiva        ┆ Moneda        ┆ 1           │\n",
       "│          ┆          ┆          ┆     ┆             ┆ Ahorros       ┆ Extranjera    ┆             │\n",
       "│ EMF      ┆ TI       ┆ 01       ┆ 586 ┆ EMF-TI-01-4 ┆ Pasiva Plazo  ┆ Moneda        ┆ 1           │\n",
       "│          ┆          ┆          ┆     ┆             ┆               ┆ Nacional      ┆             │\n",
       "│ EMF      ┆ TI       ┆ 01       ┆ 584 ┆ EMF-TI-01-8 ┆ Pasiva        ┆ Moneda        ┆ 1           │\n",
       "│          ┆          ┆          ┆     ┆             ┆ Cheques       ┆ Nacional      ┆             │\n",
       "│ EMF      ┆ TI       ┆ 01       ┆ 580 ┆ EMF-TI-01-2 ┆ Activa        ┆ Moneda        ┆ 1           │\n",
       "│          ┆          ┆          ┆     ┆             ┆ Préstamos     ┆ Nacional      ┆             │\n",
       "│ EMF      ┆ TI       ┆ 01       ┆ 581 ┆ EMF-TI-01-1 ┆ Activa        ┆ Moneda        ┆ 1           │\n",
       "│          ┆          ┆          ┆     ┆             ┆ Préstamos     ┆ Extranjera    ┆             │\n",
       "└──────────┴──────────┴──────────┴─────┴─────────────┴───────────────┴───────────────┴─────────────┘"
      ]
     },
     "execution_count": 168,
     "metadata": {},
     "output_type": "execute_result"
    }
   ],
   "source": [
    "res_nivel_7(\n",
    "    \"EMF\",\"TI\",\n",
    "    \"Niv_Gr_3\",\"01\",\n",
    "    \"Id\",\"Nombre\",\"Niv_Descr_5\",\"Niv_Descr_6\")"
   ]
  },
  {
   "cell_type": "markdown",
   "id": "13b51c50",
   "metadata": {},
   "source": [
    "Resultados de una sola variable:\n"
   ]
  },
  {
   "cell_type": "code",
   "execution_count": 169,
   "id": "b4addb5f",
   "metadata": {},
   "outputs": [
    {
     "name": "stderr",
     "output_type": "stream",
     "text": [
      "<string>:29: FutureWarning:\n",
      "\n",
      "Passing literal json to 'read_json' is deprecated and will be removed in a future version. To read from a literal string, wrap it in a 'StringIO' object.\n",
      "\n"
     ]
    },
    {
     "name": "stderr",
     "output_type": "stream",
     "text": [
      "<string>:29: FutureWarning:\n",
      "\n",
      "Passing literal json to 'read_json' is deprecated and will be removed in a future version. To read from a literal string, wrap it in a 'StringIO' object.\n",
      "\n"
     ]
    },
    {
     "data": {
      "text/html": [
       "<div><style>\n",
       ".dataframe > thead > tr,\n",
       ".dataframe > tbody > tr {\n",
       "  text-align: right;\n",
       "  white-space: pre-wrap;\n",
       "}\n",
       "</style>\n",
       "<small>shape: (315, 2)</small><table border=\"1\" class=\"dataframe\"><thead><tr><th>Fecha</th><th>EMF-TI-01 - PasivaaPlazoMonedaExtranjera  - Pasiva Plazo - Moneda Extranjera</th></tr><tr><td>date</td><td>f64</td></tr></thead><tbody><tr><td>1998-01-01</td><td>9.3</td></tr><tr><td>1998-02-01</td><td>8.76</td></tr><tr><td>1998-03-01</td><td>9.33</td></tr><tr><td>1998-04-01</td><td>9.54</td></tr><tr><td>1998-05-01</td><td>9.38</td></tr><tr><td>&hellip;</td><td>&hellip;</td></tr><tr><td>2023-11-01</td><td>4.93</td></tr><tr><td>2023-12-01</td><td>5.12</td></tr><tr><td>2024-01-01</td><td>5.29</td></tr><tr><td>2024-02-01</td><td>5.45</td></tr><tr><td>2024-03-01</td><td>5.53</td></tr></tbody></table></div>"
      ],
      "text/plain": [
       "shape: (315, 2)\n",
       "┌────────────┬───────────────────────────────────┐\n",
       "│ Fecha      ┆ EMF-TI-01 - PasivaaPlazoMonedaEx… │\n",
       "│ ---        ┆ ---                               │\n",
       "│ date       ┆ f64                               │\n",
       "╞════════════╪═══════════════════════════════════╡\n",
       "│ 1998-01-01 ┆ 9.3                               │\n",
       "│ 1998-02-01 ┆ 8.76                              │\n",
       "│ 1998-03-01 ┆ 9.33                              │\n",
       "│ 1998-04-01 ┆ 9.54                              │\n",
       "│ 1998-05-01 ┆ 9.38                              │\n",
       "│ …          ┆ …                                 │\n",
       "│ 2023-11-01 ┆ 4.93                              │\n",
       "│ 2023-12-01 ┆ 5.12                              │\n",
       "│ 2024-01-01 ┆ 5.29                              │\n",
       "│ 2024-02-01 ┆ 5.45                              │\n",
       "│ 2024-03-01 ┆ 5.53                              │\n",
       "└────────────┴───────────────────────────────────┘"
      ]
     },
     "execution_count": 169,
     "metadata": {},
     "output_type": "execute_result"
    }
   ],
   "source": [
    "Id = 587\n",
    "df = get_df(Id)\n",
    "# get_plot(Id)\n",
    "df"
   ]
  },
  {
   "cell_type": "markdown",
   "id": "7c4cef42",
   "metadata": {},
   "source": [
    "##### 02 Por Actividad\n"
   ]
  },
  {
   "cell_type": "code",
   "execution_count": 170,
   "id": "f7e80664",
   "metadata": {},
   "outputs": [
    {
     "name": "stderr",
     "output_type": "stream",
     "text": [
      "<string>:29: FutureWarning:\n",
      "\n",
      "Passing literal json to 'read_json' is deprecated and will be removed in a future version. To read from a literal string, wrap it in a 'StringIO' object.\n",
      "\n"
     ]
    },
    {
     "data": {
      "text/html": [
       "<div><style>\n",
       ".dataframe > thead > tr,\n",
       ".dataframe > tbody > tr {\n",
       "  text-align: right;\n",
       "  white-space: pre-wrap;\n",
       "}\n",
       "</style>\n",
       "<small>shape: (10, 5)</small><table border=\"1\" class=\"dataframe\"><thead><tr><th>Niv_Gr_1</th><th>Niv_Gr_2</th><th>Niv_Gr_3</th><th>Niv_Descr_5</th><th>N_Variables</th></tr><tr><td>str</td><td>str</td><td>str</td><td>str</td><td>u32</td></tr></thead><tbody><tr><td>&quot;EMF&quot;</td><td>&quot;TI&quot;</td><td>&quot;02&quot;</td><td>&quot; Industrias Ma…</td><td>2</td></tr><tr><td>&quot;EMF&quot;</td><td>&quot;TI&quot;</td><td>&quot;02&quot;</td><td>&quot; Actividades A…</td><td>2</td></tr><tr><td>&quot;EMF&quot;</td><td>&quot;TI&quot;</td><td>&quot;02&quot;</td><td>&quot; Consumo&quot;</td><td>2</td></tr><tr><td>&quot;EMF&quot;</td><td>&quot;TI&quot;</td><td>&quot;02&quot;</td><td>&quot; Transporte, A…</td><td>2</td></tr><tr><td>&quot;EMF&quot;</td><td>&quot;TI&quot;</td><td>&quot;02&quot;</td><td>&quot; Explotación d…</td><td>2</td></tr><tr><td>&quot;EMF&quot;</td><td>&quot;TI&quot;</td><td>&quot;02&quot;</td><td>&quot; Construcción&quot;</td><td>2</td></tr><tr><td>&quot;EMF&quot;</td><td>&quot;TI&quot;</td><td>&quot;02&quot;</td><td>&quot; Vivienda&quot;</td><td>2</td></tr><tr><td>&quot;EMF&quot;</td><td>&quot;TI&quot;</td><td>&quot;02&quot;</td><td>&quot; Agricultura, …</td><td>2</td></tr><tr><td>&quot;EMF&quot;</td><td>&quot;TI&quot;</td><td>&quot;02&quot;</td><td>&quot; Otros Sectore…</td><td>2</td></tr><tr><td>&quot;EMF&quot;</td><td>&quot;TI&quot;</td><td>&quot;02&quot;</td><td>&quot; Comercio&quot;</td><td>2</td></tr></tbody></table></div>"
      ],
      "text/plain": [
       "shape: (10, 5)\n",
       "┌──────────┬──────────┬──────────┬───────────────────────────────────┬─────────────┐\n",
       "│ Niv_Gr_1 ┆ Niv_Gr_2 ┆ Niv_Gr_3 ┆ Niv_Descr_5                       ┆ N_Variables │\n",
       "│ ---      ┆ ---      ┆ ---      ┆ ---                               ┆ ---         │\n",
       "│ str      ┆ str      ┆ str      ┆ str                               ┆ u32         │\n",
       "╞══════════╪══════════╪══════════╪═══════════════════════════════════╪═════════════╡\n",
       "│ EMF      ┆ TI       ┆ 02       ┆  Industrias Manufactureras        ┆ 2           │\n",
       "│ EMF      ┆ TI       ┆ 02       ┆  Actividades Alojamiento y Servi… ┆ 2           │\n",
       "│ EMF      ┆ TI       ┆ 02       ┆  Consumo                          ┆ 2           │\n",
       "│ EMF      ┆ TI       ┆ 02       ┆  Transporte, Almacenamiento, Inf… ┆ 2           │\n",
       "│ EMF      ┆ TI       ┆ 02       ┆  Explotación de Minas y Canteras  ┆ 2           │\n",
       "│ EMF      ┆ TI       ┆ 02       ┆  Construcción                     ┆ 2           │\n",
       "│ EMF      ┆ TI       ┆ 02       ┆  Vivienda                         ┆ 2           │\n",
       "│ EMF      ┆ TI       ┆ 02       ┆  Agricultura, Ganadería, Silvicu… ┆ 2           │\n",
       "│ EMF      ┆ TI       ┆ 02       ┆  Otros Sectores                   ┆ 2           │\n",
       "│ EMF      ┆ TI       ┆ 02       ┆  Comercio                         ┆ 2           │\n",
       "└──────────┴──────────┴──────────┴───────────────────────────────────┴─────────────┘"
      ]
     },
     "execution_count": 170,
     "metadata": {},
     "output_type": "execute_result"
    }
   ],
   "source": [
    "res_nivel_4(\n",
    "    \"EMF\",\"TI\",\n",
    "    \"Niv_Gr_3\",\"02\",\n",
    "    \"Niv_Descr_5\")"
   ]
  },
  {
   "cell_type": "markdown",
   "id": "3845dd13",
   "metadata": {},
   "source": [
    "Por Moneda:\n",
    "\n",
    "* Moneda Nacional\n",
    "* Moneda Extranjera\n"
   ]
  },
  {
   "cell_type": "code",
   "execution_count": 171,
   "id": "fe2567dc",
   "metadata": {},
   "outputs": [
    {
     "name": "stderr",
     "output_type": "stream",
     "text": [
      "<string>:29: FutureWarning:\n",
      "\n",
      "Passing literal json to 'read_json' is deprecated and will be removed in a future version. To read from a literal string, wrap it in a 'StringIO' object.\n",
      "\n"
     ]
    },
    {
     "data": {
      "text/html": [
       "<div><style>\n",
       ".dataframe > thead > tr,\n",
       ".dataframe > tbody > tr {\n",
       "  text-align: right;\n",
       "  white-space: pre-wrap;\n",
       "}\n",
       "</style>\n",
       "<small>shape: (2, 6)</small><table border=\"1\" class=\"dataframe\"><thead><tr><th>Niv_Gr_1</th><th>Niv_Gr_2</th><th>Niv_Gr_3</th><th>Niv_Descr_1</th><th>Niv_Descr_4</th><th>N_Variables</th></tr><tr><td>str</td><td>str</td><td>str</td><td>str</td><td>str</td><td>u32</td></tr></thead><tbody><tr><td>&quot;EMF&quot;</td><td>&quot;TI&quot;</td><td>&quot;02&quot;</td><td>&quot;EMF&quot;</td><td>&quot; Nacional &quot;</td><td>10</td></tr><tr><td>&quot;EMF&quot;</td><td>&quot;TI&quot;</td><td>&quot;02&quot;</td><td>&quot;EMF&quot;</td><td>&quot; Extranjera &quot;</td><td>10</td></tr></tbody></table></div>"
      ],
      "text/plain": [
       "shape: (2, 6)\n",
       "┌──────────┬──────────┬──────────┬─────────────┬──────────────┬─────────────┐\n",
       "│ Niv_Gr_1 ┆ Niv_Gr_2 ┆ Niv_Gr_3 ┆ Niv_Descr_1 ┆ Niv_Descr_4  ┆ N_Variables │\n",
       "│ ---      ┆ ---      ┆ ---      ┆ ---         ┆ ---          ┆ ---         │\n",
       "│ str      ┆ str      ┆ str      ┆ str         ┆ str          ┆ u32         │\n",
       "╞══════════╪══════════╪══════════╪═════════════╪══════════════╪═════════════╡\n",
       "│ EMF      ┆ TI       ┆ 02       ┆ EMF         ┆  Nacional    ┆ 10          │\n",
       "│ EMF      ┆ TI       ┆ 02       ┆ EMF         ┆  Extranjera  ┆ 10          │\n",
       "└──────────┴──────────┴──────────┴─────────────┴──────────────┴─────────────┘"
      ]
     },
     "execution_count": 171,
     "metadata": {},
     "output_type": "execute_result"
    }
   ],
   "source": [
    "res_nivel_5(\n",
    "    \"EMF\",\"TI\",\n",
    "    \"Niv_Gr_3\",\"02\",\n",
    "    \"Niv_Descr_1\",\"Niv_Descr_4\")"
   ]
  },
  {
   "cell_type": "markdown",
   "id": "d9b79aa5",
   "metadata": {},
   "source": [
    "Para ver todas las variables:\n"
   ]
  },
  {
   "cell_type": "code",
   "execution_count": 172,
   "id": "7f67f3e1",
   "metadata": {},
   "outputs": [
    {
     "name": "stderr",
     "output_type": "stream",
     "text": [
      "<string>:29: FutureWarning:\n",
      "\n",
      "Passing literal json to 'read_json' is deprecated and will be removed in a future version. To read from a literal string, wrap it in a 'StringIO' object.\n",
      "\n"
     ]
    },
    {
     "data": {
      "text/html": [
       "<div><style>\n",
       ".dataframe > thead > tr,\n",
       ".dataframe > tbody > tr {\n",
       "  text-align: right;\n",
       "  white-space: pre-wrap;\n",
       "}\n",
       "</style>\n",
       "<small>shape: (20, 8)</small><table border=\"1\" class=\"dataframe\"><thead><tr><th>Niv_Gr_1</th><th>Niv_Gr_2</th><th>Niv_Gr_3</th><th>Id</th><th>Nombre</th><th>Niv_Descr_5</th><th>Niv_Descr_4</th><th>N_Variables</th></tr><tr><td>str</td><td>str</td><td>str</td><td>i64</td><td>str</td><td>str</td><td>str</td><td>u32</td></tr></thead><tbody><tr><td>&quot;EMF&quot;</td><td>&quot;TI&quot;</td><td>&quot;02&quot;</td><td>600</td><td>&quot;EMF-TI-02-5&quot;</td><td>&quot; Industrias Ma…</td><td>&quot; Extranjera &quot;</td><td>1</td></tr><tr><td>&quot;EMF&quot;</td><td>&quot;TI&quot;</td><td>&quot;02&quot;</td><td>605</td><td>&quot;EMF-TI-02-10&quot;</td><td>&quot; Actividades A…</td><td>&quot; Extranjera &quot;</td><td>1</td></tr><tr><td>&quot;EMF&quot;</td><td>&quot;TI&quot;</td><td>&quot;02&quot;</td><td>598</td><td>&quot;EMF-TI-02-3&quot;</td><td>&quot; Agricultura, …</td><td>&quot; Extranjera &quot;</td><td>1</td></tr><tr><td>&quot;EMF&quot;</td><td>&quot;TI&quot;</td><td>&quot;02&quot;</td><td>602</td><td>&quot;EMF-TI-02-7&quot;</td><td>&quot; Consumo&quot;</td><td>&quot; Extranjera &quot;</td><td>1</td></tr><tr><td>&quot;EMF&quot;</td><td>&quot;TI&quot;</td><td>&quot;02&quot;</td><td>607</td><td>&quot;EMF-TI-02-13&quot;</td><td>&quot; Otros Sectore…</td><td>&quot; Extranjera &quot;</td><td>1</td></tr><tr><td>&hellip;</td><td>&hellip;</td><td>&hellip;</td><td>&hellip;</td><td>&hellip;</td><td>&hellip;</td><td>&hellip;</td><td>&hellip;</td></tr><tr><td>&quot;EMF&quot;</td><td>&quot;TI&quot;</td><td>&quot;02&quot;</td><td>591</td><td>&quot;EMF-TI-02-15&quot;</td><td>&quot; Construcción&quot;</td><td>&quot; Nacional &quot;</td><td>1</td></tr><tr><td>&quot;EMF&quot;</td><td>&quot;TI&quot;</td><td>&quot;02&quot;</td><td>589</td><td>&quot;EMF-TI-02-12&quot;</td><td>&quot; Explotación d…</td><td>&quot; Nacional &quot;</td><td>1</td></tr><tr><td>&quot;EMF&quot;</td><td>&quot;TI&quot;</td><td>&quot;02&quot;</td><td>592</td><td>&quot;EMF-TI-02-16&quot;</td><td>&quot; Consumo&quot;</td><td>&quot; Nacional &quot;</td><td>1</td></tr><tr><td>&quot;EMF&quot;</td><td>&quot;TI&quot;</td><td>&quot;02&quot;</td><td>595</td><td>&quot;EMF-TI-02-19&quot;</td><td>&quot; Actividades A…</td><td>&quot; Nacional &quot;</td><td>1</td></tr><tr><td>&quot;EMF&quot;</td><td>&quot;TI&quot;</td><td>&quot;02&quot;</td><td>590</td><td>&quot;EMF-TI-02-14&quot;</td><td>&quot; Industrias Ma…</td><td>&quot; Nacional &quot;</td><td>1</td></tr></tbody></table></div>"
      ],
      "text/plain": [
       "shape: (20, 8)\n",
       "┌──────────┬──────────┬──────────┬─────┬──────────────┬───────────────┬──────────────┬─────────────┐\n",
       "│ Niv_Gr_1 ┆ Niv_Gr_2 ┆ Niv_Gr_3 ┆ Id  ┆ Nombre       ┆ Niv_Descr_5   ┆ Niv_Descr_4  ┆ N_Variables │\n",
       "│ ---      ┆ ---      ┆ ---      ┆ --- ┆ ---          ┆ ---           ┆ ---          ┆ ---         │\n",
       "│ str      ┆ str      ┆ str      ┆ i64 ┆ str          ┆ str           ┆ str          ┆ u32         │\n",
       "╞══════════╪══════════╪══════════╪═════╪══════════════╪═══════════════╪══════════════╪═════════════╡\n",
       "│ EMF      ┆ TI       ┆ 02       ┆ 600 ┆ EMF-TI-02-5  ┆ Industrias    ┆  Extranjera  ┆ 1           │\n",
       "│          ┆          ┆          ┆     ┆              ┆ Manufacturera ┆              ┆             │\n",
       "│          ┆          ┆          ┆     ┆              ┆ s             ┆              ┆             │\n",
       "│ EMF      ┆ TI       ┆ 02       ┆ 605 ┆ EMF-TI-02-10 ┆ Actividades   ┆  Extranjera  ┆ 1           │\n",
       "│          ┆          ┆          ┆     ┆              ┆ Alojamiento y ┆              ┆             │\n",
       "│          ┆          ┆          ┆     ┆              ┆ Servi…        ┆              ┆             │\n",
       "│ EMF      ┆ TI       ┆ 02       ┆ 598 ┆ EMF-TI-02-3  ┆ Agricultura,  ┆  Extranjera  ┆ 1           │\n",
       "│          ┆          ┆          ┆     ┆              ┆ Ganadería,    ┆              ┆             │\n",
       "│          ┆          ┆          ┆     ┆              ┆ Silvicu…      ┆              ┆             │\n",
       "│ EMF      ┆ TI       ┆ 02       ┆ 602 ┆ EMF-TI-02-7  ┆  Consumo      ┆  Extranjera  ┆ 1           │\n",
       "│ EMF      ┆ TI       ┆ 02       ┆ 607 ┆ EMF-TI-02-13 ┆ Otros         ┆  Extranjera  ┆ 1           │\n",
       "│          ┆          ┆          ┆     ┆              ┆ Sectores      ┆              ┆             │\n",
       "│ …        ┆ …        ┆ …        ┆ …   ┆ …            ┆ …             ┆ …            ┆ …           │\n",
       "│ EMF      ┆ TI       ┆ 02       ┆ 591 ┆ EMF-TI-02-15 ┆  Construcción ┆  Nacional    ┆ 1           │\n",
       "│ EMF      ┆ TI       ┆ 02       ┆ 589 ┆ EMF-TI-02-12 ┆ Explotación   ┆  Nacional    ┆ 1           │\n",
       "│          ┆          ┆          ┆     ┆              ┆ de Minas y    ┆              ┆             │\n",
       "│          ┆          ┆          ┆     ┆              ┆ Canteras      ┆              ┆             │\n",
       "│ EMF      ┆ TI       ┆ 02       ┆ 592 ┆ EMF-TI-02-16 ┆  Consumo      ┆  Nacional    ┆ 1           │\n",
       "│ EMF      ┆ TI       ┆ 02       ┆ 595 ┆ EMF-TI-02-19 ┆ Actividades   ┆  Nacional    ┆ 1           │\n",
       "│          ┆          ┆          ┆     ┆              ┆ Alojamiento y ┆              ┆             │\n",
       "│          ┆          ┆          ┆     ┆              ┆ Servi…        ┆              ┆             │\n",
       "│ EMF      ┆ TI       ┆ 02       ┆ 590 ┆ EMF-TI-02-14 ┆ Industrias    ┆  Nacional    ┆ 1           │\n",
       "│          ┆          ┆          ┆     ┆              ┆ Manufacturera ┆              ┆             │\n",
       "│          ┆          ┆          ┆     ┆              ┆ s             ┆              ┆             │\n",
       "└──────────┴──────────┴──────────┴─────┴──────────────┴───────────────┴──────────────┴─────────────┘"
      ]
     },
     "execution_count": 172,
     "metadata": {},
     "output_type": "execute_result"
    }
   ],
   "source": [
    "res_nivel_7(\n",
    "    \"EMF\",\"TI\",\n",
    "    \"Niv_Gr_3\",\"02\",\n",
    "    \"Id\",\"Nombre\",\"Niv_Descr_5\",\"Niv_Descr_4\").sort(\"Niv_Descr_4\")"
   ]
  },
  {
   "cell_type": "markdown",
   "id": "3aa6caf9",
   "metadata": {},
   "source": [
    "Resultados de una sola variable:\n"
   ]
  },
  {
   "cell_type": "code",
   "execution_count": 173,
   "id": "b1ce05c5",
   "metadata": {},
   "outputs": [
    {
     "name": "stderr",
     "output_type": "stream",
     "text": [
      "<string>:29: FutureWarning:\n",
      "\n",
      "Passing literal json to 'read_json' is deprecated and will be removed in a future version. To read from a literal string, wrap it in a 'StringIO' object.\n",
      "\n"
     ]
    },
    {
     "name": "stderr",
     "output_type": "stream",
     "text": [
      "<string>:29: FutureWarning:\n",
      "\n",
      "Passing literal json to 'read_json' is deprecated and will be removed in a future version. To read from a literal string, wrap it in a 'StringIO' object.\n",
      "\n"
     ]
    },
    {
     "data": {
      "text/html": [
       "<div><style>\n",
       ".dataframe > thead > tr,\n",
       ".dataframe > tbody > tr {\n",
       "  text-align: right;\n",
       "  white-space: pre-wrap;\n",
       "}\n",
       "</style>\n",
       "<small>shape: (62, 2)</small><table border=\"1\" class=\"dataframe\"><thead><tr><th>Fecha</th><th>EMF-TI-02 - Extranjera - Actividades Alojamiento y Servicios Comida</th></tr><tr><td>date</td><td>f64</td></tr></thead><tbody><tr><td>2019-01-01</td><td>6.2445</td></tr><tr><td>2019-02-01</td><td>6.2271</td></tr><tr><td>2019-03-01</td><td>6.1944</td></tr><tr><td>2019-04-01</td><td>6.3569</td></tr><tr><td>2019-05-01</td><td>6.3522</td></tr><tr><td>&hellip;</td><td>&hellip;</td></tr><tr><td>2023-10-01</td><td>6.29</td></tr><tr><td>2023-11-01</td><td>7.01</td></tr><tr><td>2023-12-01</td><td>6.3507</td></tr><tr><td>2024-01-01</td><td>6.6022</td></tr><tr><td>2024-02-01</td><td>6.75</td></tr></tbody></table></div>"
      ],
      "text/plain": [
       "shape: (62, 2)\n",
       "┌────────────┬───────────────────────────────────┐\n",
       "│ Fecha      ┆ EMF-TI-02 - Extranjera - Activid… │\n",
       "│ ---        ┆ ---                               │\n",
       "│ date       ┆ f64                               │\n",
       "╞════════════╪═══════════════════════════════════╡\n",
       "│ 2019-01-01 ┆ 6.2445                            │\n",
       "│ 2019-02-01 ┆ 6.2271                            │\n",
       "│ 2019-03-01 ┆ 6.1944                            │\n",
       "│ 2019-04-01 ┆ 6.3569                            │\n",
       "│ 2019-05-01 ┆ 6.3522                            │\n",
       "│ …          ┆ …                                 │\n",
       "│ 2023-10-01 ┆ 6.29                              │\n",
       "│ 2023-11-01 ┆ 7.01                              │\n",
       "│ 2023-12-01 ┆ 6.3507                            │\n",
       "│ 2024-01-01 ┆ 6.6022                            │\n",
       "│ 2024-02-01 ┆ 6.75                              │\n",
       "└────────────┴───────────────────────────────────┘"
      ]
     },
     "execution_count": 173,
     "metadata": {},
     "output_type": "execute_result"
    }
   ],
   "source": [
    "Id = 605\n",
    "df = get_df(Id)\n",
    "# get_plot(Id)\n",
    "df"
   ]
  },
  {
   "cell_type": "markdown",
   "id": "c65f82c0",
   "metadata": {},
   "source": [
    "##### 03 Tasas de Interés Anuales\n",
    "\n",
    "* Tasas de Interés Anuales Mí­nimas y Máximas del Sistema Bancario Comercial\n",
    "* Tasas de Interés Anuales Promedio Ponderadas del Sistema Financiero\n"
   ]
  },
  {
   "cell_type": "code",
   "execution_count": 174,
   "id": "9cc18a21",
   "metadata": {},
   "outputs": [
    {
     "name": "stderr",
     "output_type": "stream",
     "text": [
      "<string>:29: FutureWarning:\n",
      "\n",
      "Passing literal json to 'read_json' is deprecated and will be removed in a future version. To read from a literal string, wrap it in a 'StringIO' object.\n",
      "\n"
     ]
    },
    {
     "data": {
      "text/html": [
       "<div><style>\n",
       ".dataframe > thead > tr,\n",
       ".dataframe > tbody > tr {\n",
       "  text-align: right;\n",
       "  white-space: pre-wrap;\n",
       "}\n",
       "</style>\n",
       "<small>shape: (2, 5)</small><table border=\"1\" class=\"dataframe\"><thead><tr><th>Niv_Gr_1</th><th>Niv_Gr_2</th><th>Niv_Gr_3</th><th>Niv_Descr_6</th><th>N_Variables</th></tr><tr><td>str</td><td>str</td><td>str</td><td>str</td><td>u32</td></tr></thead><tbody><tr><td>&quot;EMF&quot;</td><td>&quot;TI&quot;</td><td>&quot;03&quot;</td><td>&quot; Tasas de Inte…</td><td>8</td></tr><tr><td>&quot;EMF&quot;</td><td>&quot;TI&quot;</td><td>&quot;03&quot;</td><td>&quot; Tasas de Inte…</td><td>2</td></tr></tbody></table></div>"
      ],
      "text/plain": [
       "shape: (2, 5)\n",
       "┌──────────┬──────────┬──────────┬───────────────────────────────────┬─────────────┐\n",
       "│ Niv_Gr_1 ┆ Niv_Gr_2 ┆ Niv_Gr_3 ┆ Niv_Descr_6                       ┆ N_Variables │\n",
       "│ ---      ┆ ---      ┆ ---      ┆ ---                               ┆ ---         │\n",
       "│ str      ┆ str      ┆ str      ┆ str                               ┆ u32         │\n",
       "╞══════════╪══════════╪══════════╪═══════════════════════════════════╪═════════════╡\n",
       "│ EMF      ┆ TI       ┆ 03       ┆  Tasas de Interés Anuales Mínima… ┆ 8           │\n",
       "│ EMF      ┆ TI       ┆ 03       ┆  Tasas de Interés Anuales Promed… ┆ 2           │\n",
       "└──────────┴──────────┴──────────┴───────────────────────────────────┴─────────────┘"
      ]
     },
     "execution_count": 174,
     "metadata": {},
     "output_type": "execute_result"
    }
   ],
   "source": [
    "res_nivel_4(\n",
    "    \"EMF\",\"TI\",\n",
    "    \"Niv_Gr_3\",\"03\",\n",
    "    \"Niv_Descr_6\")"
   ]
  },
  {
   "cell_type": "markdown",
   "id": "1fd7efec",
   "metadata": {},
   "source": [
    "* Activa\n",
    "* Pasiva\n",
    "\n",
    "Por Unidad de Medida:\n",
    "\n",
    "* Máxima\n",
    "* Mínima\n",
    "* Promedio\n",
    "\n",
    "Por Moneda:\n",
    "\n",
    "* Nacional\n",
    "* Extranjera\n",
    "\n",
    "Para ver todas las variables:\n"
   ]
  },
  {
   "cell_type": "code",
   "execution_count": 175,
   "id": "b4be7e9c",
   "metadata": {},
   "outputs": [
    {
     "name": "stderr",
     "output_type": "stream",
     "text": [
      "<string>:29: FutureWarning:\n",
      "\n",
      "Passing literal json to 'read_json' is deprecated and will be removed in a future version. To read from a literal string, wrap it in a 'StringIO' object.\n",
      "\n"
     ]
    },
    {
     "data": {
      "text/html": [
       "<div><style>\n",
       ".dataframe > thead > tr,\n",
       ".dataframe > tbody > tr {\n",
       "  text-align: right;\n",
       "  white-space: pre-wrap;\n",
       "}\n",
       "</style>\n",
       "<small>shape: (10, 8)</small><table border=\"1\" class=\"dataframe\"><thead><tr><th>Niv_Gr_1</th><th>Niv_Gr_2</th><th>Niv_Gr_3</th><th>Id</th><th>Nombre</th><th>Niv_Descr_6</th><th>Niv_Descr_5</th><th>N_Variables</th></tr><tr><td>str</td><td>str</td><td>str</td><td>i64</td><td>str</td><td>str</td><td>str</td><td>u32</td></tr></thead><tbody><tr><td>&quot;EMF&quot;</td><td>&quot;TI&quot;</td><td>&quot;03&quot;</td><td>695</td><td>&quot;EMF-TI-03-7&quot;</td><td>&quot; Tasas de Inte…</td><td>&quot;Pasiva Mínima …</td><td>1</td></tr><tr><td>&quot;EMF&quot;</td><td>&quot;TI&quot;</td><td>&quot;03&quot;</td><td>690</td><td>&quot;EMF-TI-03-2&quot;</td><td>&quot; Tasas de Inte…</td><td>&quot;Activa Máxima …</td><td>1</td></tr><tr><td>&quot;EMF&quot;</td><td>&quot;TI&quot;</td><td>&quot;03&quot;</td><td>693</td><td>&quot;EMF-TI-03-5&quot;</td><td>&quot; Tasas de Inte…</td><td>&quot;Activa Mínima …</td><td>1</td></tr><tr><td>&quot;EMF&quot;</td><td>&quot;TI&quot;</td><td>&quot;03&quot;</td><td>694</td><td>&quot;EMF-TI-03-6&quot;</td><td>&quot; Tasas de Inte…</td><td>&quot;Activa Máxima …</td><td>1</td></tr><tr><td>&quot;EMF&quot;</td><td>&quot;TI&quot;</td><td>&quot;03&quot;</td><td>696</td><td>&quot;EMF-TI-03-8&quot;</td><td>&quot; Tasas de Inte…</td><td>&quot;Pasiva Máxima …</td><td>1</td></tr><tr><td>&quot;EMF&quot;</td><td>&quot;TI&quot;</td><td>&quot;03&quot;</td><td>691</td><td>&quot;EMF-TI-03-3&quot;</td><td>&quot; Tasas de Inte…</td><td>&quot;Pasiva Mínima …</td><td>1</td></tr><tr><td>&quot;EMF&quot;</td><td>&quot;TI&quot;</td><td>&quot;03&quot;</td><td>689</td><td>&quot;EMF-TI-03-1&quot;</td><td>&quot; Tasas de Inte…</td><td>&quot;Activa Mínima …</td><td>1</td></tr><tr><td>&quot;EMF&quot;</td><td>&quot;TI&quot;</td><td>&quot;03&quot;</td><td>692</td><td>&quot;EMF-TI-03-4&quot;</td><td>&quot; Tasas de Inte…</td><td>&quot;Pasiva Máxima …</td><td>1</td></tr><tr><td>&quot;EMF&quot;</td><td>&quot;TI&quot;</td><td>&quot;03&quot;</td><td>698</td><td>&quot;EMF-TI-03-10&quot;</td><td>&quot; Tasas de Inte…</td><td>&quot;Activa Promedi…</td><td>1</td></tr><tr><td>&quot;EMF&quot;</td><td>&quot;TI&quot;</td><td>&quot;03&quot;</td><td>697</td><td>&quot;EMF-TI-03-9&quot;</td><td>&quot; Tasas de Inte…</td><td>&quot;Activa Promedi…</td><td>1</td></tr></tbody></table></div>"
      ],
      "text/plain": [
       "shape: (10, 8)\n",
       "┌──────────┬──────────┬──────────┬─────┬──────────────┬───────────────┬──────────────┬─────────────┐\n",
       "│ Niv_Gr_1 ┆ Niv_Gr_2 ┆ Niv_Gr_3 ┆ Id  ┆ Nombre       ┆ Niv_Descr_6   ┆ Niv_Descr_5  ┆ N_Variables │\n",
       "│ ---      ┆ ---      ┆ ---      ┆ --- ┆ ---          ┆ ---           ┆ ---          ┆ ---         │\n",
       "│ str      ┆ str      ┆ str      ┆ i64 ┆ str          ┆ str           ┆ str          ┆ u32         │\n",
       "╞══════════╪══════════╪══════════╪═════╪══════════════╪═══════════════╪══════════════╪═════════════╡\n",
       "│ EMF      ┆ TI       ┆ 03       ┆ 695 ┆ EMF-TI-03-7  ┆ Tasas de      ┆ Pasiva       ┆ 1           │\n",
       "│          ┆          ┆          ┆     ┆              ┆ Interés       ┆ Mínima Plazo ┆             │\n",
       "│          ┆          ┆          ┆     ┆              ┆ Anuales       ┆ 180 días     ┆             │\n",
       "│          ┆          ┆          ┆     ┆              ┆ Mínima…       ┆ Mon…         ┆             │\n",
       "│ EMF      ┆ TI       ┆ 03       ┆ 690 ┆ EMF-TI-03-2  ┆ Tasas de      ┆ Activa       ┆ 1           │\n",
       "│          ┆          ┆          ┆     ┆              ┆ Interés       ┆ Máxima en    ┆             │\n",
       "│          ┆          ┆          ┆     ┆              ┆ Anuales       ┆ Moneda       ┆             │\n",
       "│          ┆          ┆          ┆     ┆              ┆ Mínima…       ┆ Nacional…    ┆             │\n",
       "│ EMF      ┆ TI       ┆ 03       ┆ 693 ┆ EMF-TI-03-5  ┆ Tasas de      ┆ Activa       ┆ 1           │\n",
       "│          ┆          ┆          ┆     ┆              ┆ Interés       ┆ Mínima en    ┆             │\n",
       "│          ┆          ┆          ┆     ┆              ┆ Anuales       ┆ Moneda       ┆             │\n",
       "│          ┆          ┆          ┆     ┆              ┆ Mínima…       ┆ Extranje…    ┆             │\n",
       "│ EMF      ┆ TI       ┆ 03       ┆ 694 ┆ EMF-TI-03-6  ┆ Tasas de      ┆ Activa       ┆ 1           │\n",
       "│          ┆          ┆          ┆     ┆              ┆ Interés       ┆ Máxima en    ┆             │\n",
       "│          ┆          ┆          ┆     ┆              ┆ Anuales       ┆ Moneda       ┆             │\n",
       "│          ┆          ┆          ┆     ┆              ┆ Mínima…       ┆ Extranje…    ┆             │\n",
       "│ EMF      ┆ TI       ┆ 03       ┆ 696 ┆ EMF-TI-03-8  ┆ Tasas de      ┆ Pasiva       ┆ 1           │\n",
       "│          ┆          ┆          ┆     ┆              ┆ Interés       ┆ Máxima Plazo ┆             │\n",
       "│          ┆          ┆          ┆     ┆              ┆ Anuales       ┆ 180 días     ┆             │\n",
       "│          ┆          ┆          ┆     ┆              ┆ Mínima…       ┆ Mon…         ┆             │\n",
       "│ EMF      ┆ TI       ┆ 03       ┆ 691 ┆ EMF-TI-03-3  ┆ Tasas de      ┆ Pasiva       ┆ 1           │\n",
       "│          ┆          ┆          ┆     ┆              ┆ Interés       ┆ Mínima Plazo ┆             │\n",
       "│          ┆          ┆          ┆     ┆              ┆ Anuales       ┆ 180 días     ┆             │\n",
       "│          ┆          ┆          ┆     ┆              ┆ Mínima…       ┆ Mon…         ┆             │\n",
       "│ EMF      ┆ TI       ┆ 03       ┆ 689 ┆ EMF-TI-03-1  ┆ Tasas de      ┆ Activa       ┆ 1           │\n",
       "│          ┆          ┆          ┆     ┆              ┆ Interés       ┆ Mínima en    ┆             │\n",
       "│          ┆          ┆          ┆     ┆              ┆ Anuales       ┆ Moneda       ┆             │\n",
       "│          ┆          ┆          ┆     ┆              ┆ Mínima…       ┆ Nacional…    ┆             │\n",
       "│ EMF      ┆ TI       ┆ 03       ┆ 692 ┆ EMF-TI-03-4  ┆ Tasas de      ┆ Pasiva       ┆ 1           │\n",
       "│          ┆          ┆          ┆     ┆              ┆ Interés       ┆ Máxima Plazo ┆             │\n",
       "│          ┆          ┆          ┆     ┆              ┆ Anuales       ┆ 180 días     ┆             │\n",
       "│          ┆          ┆          ┆     ┆              ┆ Mínima…       ┆ Mon…         ┆             │\n",
       "│ EMF      ┆ TI       ┆ 03       ┆ 698 ┆ EMF-TI-03-10 ┆ Tasas de      ┆ Activa       ┆ 1           │\n",
       "│          ┆          ┆          ┆     ┆              ┆ Interés       ┆ Promedio     ┆             │\n",
       "│          ┆          ┆          ┆     ┆              ┆ Anuales       ┆ Ponderada    ┆             │\n",
       "│          ┆          ┆          ┆     ┆              ┆ Promed…       ┆ Moneda…      ┆             │\n",
       "│ EMF      ┆ TI       ┆ 03       ┆ 697 ┆ EMF-TI-03-9  ┆ Tasas de      ┆ Activa       ┆ 1           │\n",
       "│          ┆          ┆          ┆     ┆              ┆ Interés       ┆ Promedio     ┆             │\n",
       "│          ┆          ┆          ┆     ┆              ┆ Anuales       ┆ Ponderada en ┆             │\n",
       "│          ┆          ┆          ┆     ┆              ┆ Promed…       ┆ Mon…         ┆             │\n",
       "└──────────┴──────────┴──────────┴─────┴──────────────┴───────────────┴──────────────┴─────────────┘"
      ]
     },
     "execution_count": 175,
     "metadata": {},
     "output_type": "execute_result"
    }
   ],
   "source": [
    "res_nivel_7(\n",
    "    \"EMF\",\"TI\",\n",
    "    \"Niv_Gr_3\",\"03\",\n",
    "    \"Id\",\"Nombre\",\"Niv_Descr_6\",\"Niv_Descr_5\").sort(\"Niv_Descr_6\")"
   ]
  },
  {
   "cell_type": "markdown",
   "id": "db570def",
   "metadata": {},
   "source": [
    "Resultados de una sola variable:\n"
   ]
  },
  {
   "cell_type": "code",
   "execution_count": 176,
   "id": "17ff5a8a",
   "metadata": {},
   "outputs": [
    {
     "name": "stderr",
     "output_type": "stream",
     "text": [
      "<string>:29: FutureWarning:\n",
      "\n",
      "Passing literal json to 'read_json' is deprecated and will be removed in a future version. To read from a literal string, wrap it in a 'StringIO' object.\n",
      "\n"
     ]
    },
    {
     "name": "stderr",
     "output_type": "stream",
     "text": [
      "<string>:29: FutureWarning:\n",
      "\n",
      "Passing literal json to 'read_json' is deprecated and will be removed in a future version. To read from a literal string, wrap it in a 'StringIO' object.\n",
      "\n"
     ]
    },
    {
     "data": {
      "text/html": [
       "<div><style>\n",
       ".dataframe > thead > tr,\n",
       ".dataframe > tbody > tr {\n",
       "  text-align: right;\n",
       "  white-space: pre-wrap;\n",
       "}\n",
       "</style>\n",
       "<small>shape: (73, 2)</small><table border=\"1\" class=\"dataframe\"><thead><tr><th>Fecha</th><th>EMF-TI-03-1-Activa Mínima en Moneda Nacional - Tasas de Interés Anuales Mínimas y Máximas del Sistema Bancario Comercial-C1</th></tr><tr><td>date</td><td>f64</td></tr></thead><tbody><tr><td>2018-01-01</td><td>9.17</td></tr><tr><td>2018-02-01</td><td>9.75</td></tr><tr><td>2018-03-01</td><td>12.86</td></tr><tr><td>2018-04-01</td><td>12.58</td></tr><tr><td>2018-05-01</td><td>12.71</td></tr><tr><td>&hellip;</td><td>&hellip;</td></tr><tr><td>2023-09-01</td><td>4.94</td></tr><tr><td>2023-10-01</td><td>7.63</td></tr><tr><td>2023-11-01</td><td>6.76</td></tr><tr><td>2023-12-01</td><td>5.11</td></tr><tr><td>2024-01-01</td><td>10.21</td></tr></tbody></table></div>"
      ],
      "text/plain": [
       "shape: (73, 2)\n",
       "┌────────────┬───────────────────────────────────┐\n",
       "│ Fecha      ┆ EMF-TI-03-1-Activa Mínima en Mon… │\n",
       "│ ---        ┆ ---                               │\n",
       "│ date       ┆ f64                               │\n",
       "╞════════════╪═══════════════════════════════════╡\n",
       "│ 2018-01-01 ┆ 9.17                              │\n",
       "│ 2018-02-01 ┆ 9.75                              │\n",
       "│ 2018-03-01 ┆ 12.86                             │\n",
       "│ 2018-04-01 ┆ 12.58                             │\n",
       "│ 2018-05-01 ┆ 12.71                             │\n",
       "│ …          ┆ …                                 │\n",
       "│ 2023-09-01 ┆ 4.94                              │\n",
       "│ 2023-10-01 ┆ 7.63                              │\n",
       "│ 2023-11-01 ┆ 6.76                              │\n",
       "│ 2023-12-01 ┆ 5.11                              │\n",
       "│ 2024-01-01 ┆ 10.21                             │\n",
       "└────────────┴───────────────────────────────────┘"
      ]
     },
     "execution_count": 176,
     "metadata": {},
     "output_type": "execute_result"
    }
   ],
   "source": [
    "Id = 689\n",
    "df = get_df(Id)\n",
    "# get_plot(Id)\n",
    "df"
   ]
  },
  {
   "cell_type": "markdown",
   "id": "6315b6c8",
   "metadata": {},
   "source": [
    "#### PFS = Panorama de las Sociedades Financieras\n"
   ]
  },
  {
   "cell_type": "code",
   "execution_count": 177,
   "id": "1b5f860c",
   "metadata": {},
   "outputs": [
    {
     "name": "stdout",
     "output_type": "stream",
     "text": [
      "2 subgrupos\n",
      "12 variables\n"
     ]
    },
    {
     "name": "stderr",
     "output_type": "stream",
     "text": [
      "<string>:29: FutureWarning:\n",
      "\n",
      "Passing literal json to 'read_json' is deprecated and will be removed in a future version. To read from a literal string, wrap it in a 'StringIO' object.\n",
      "\n"
     ]
    },
    {
     "data": {
      "text/html": [
       "<div><style>\n",
       ".dataframe > thead > tr,\n",
       ".dataframe > tbody > tr {\n",
       "  text-align: right;\n",
       "  white-space: pre-wrap;\n",
       "}\n",
       "</style>\n",
       "<small>shape: (2, 4)</small><table border=\"1\" class=\"dataframe\"><thead><tr><th>Niv_Gr_1</th><th>Niv_Gr_2</th><th>Niv_Gr_3</th><th>N_Variables</th></tr><tr><td>str</td><td>str</td><td>str</td><td>u32</td></tr></thead><tbody><tr><td>&quot;EMF&quot;</td><td>&quot;PFS&quot;</td><td>&quot;01&quot;</td><td>3</td></tr><tr><td>&quot;EMF&quot;</td><td>&quot;PFS&quot;</td><td>&quot;02&quot;</td><td>9</td></tr></tbody></table></div>"
      ],
      "text/plain": [
       "shape: (2, 4)\n",
       "┌──────────┬──────────┬──────────┬─────────────┐\n",
       "│ Niv_Gr_1 ┆ Niv_Gr_2 ┆ Niv_Gr_3 ┆ N_Variables │\n",
       "│ ---      ┆ ---      ┆ ---      ┆ ---         │\n",
       "│ str      ┆ str      ┆ str      ┆ u32         │\n",
       "╞══════════╪══════════╪══════════╪═════════════╡\n",
       "│ EMF      ┆ PFS      ┆ 01       ┆ 3           │\n",
       "│ EMF      ┆ PFS      ┆ 02       ┆ 9           │\n",
       "└──────────┴──────────┴──────────┴─────────────┘"
      ]
     },
     "execution_count": 177,
     "metadata": {},
     "output_type": "execute_result"
    }
   ],
   "source": [
    "res_nivel_3(\"EMF\",\"PFS\",\"Niv_Gr_3\").sort(\"Niv_Gr_3\")"
   ]
  },
  {
   "cell_type": "markdown",
   "id": "37fb875a",
   "metadata": {},
   "source": [
    "##### 01 Bancos Comerciales, Activos y Pasivos Externos\n",
    "\n",
    "Para ver todas las variables:\n"
   ]
  },
  {
   "cell_type": "code",
   "execution_count": 178,
   "id": "0046aa23",
   "metadata": {},
   "outputs": [
    {
     "name": "stderr",
     "output_type": "stream",
     "text": [
      "<string>:29: FutureWarning:\n",
      "\n",
      "Passing literal json to 'read_json' is deprecated and will be removed in a future version. To read from a literal string, wrap it in a 'StringIO' object.\n",
      "\n"
     ]
    },
    {
     "data": {
      "text/html": [
       "<div><style>\n",
       ".dataframe > thead > tr,\n",
       ".dataframe > tbody > tr {\n",
       "  text-align: right;\n",
       "  white-space: pre-wrap;\n",
       "}\n",
       "</style>\n",
       "<small>shape: (3, 8)</small><table border=\"1\" class=\"dataframe\"><thead><tr><th>Niv_Gr_1</th><th>Niv_Gr_2</th><th>Niv_Gr_3</th><th>Id</th><th>Nombre</th><th>Niv_Descr_2</th><th>Niv_Descr_1</th><th>N_Variables</th></tr><tr><td>str</td><td>str</td><td>str</td><td>i64</td><td>str</td><td>str</td><td>str</td><td>u32</td></tr></thead><tbody><tr><td>&quot;EMF&quot;</td><td>&quot;PFS&quot;</td><td>&quot;01&quot;</td><td>677</td><td>&quot;EMF-PFS-01-1&quot;</td><td>&quot;Bancos Comerci…</td><td>&quot;Activos Extern…</td><td>1</td></tr><tr><td>&quot;EMF&quot;</td><td>&quot;PFS&quot;</td><td>&quot;01&quot;</td><td>678</td><td>&quot;EMF-PFS-01-2&quot;</td><td>&quot;Bancos Comerci…</td><td>&quot;Activos Extern…</td><td>1</td></tr><tr><td>&quot;EMF&quot;</td><td>&quot;PFS&quot;</td><td>&quot;01&quot;</td><td>679</td><td>&quot;EMF-PFS-01-3&quot;</td><td>&quot;Bancos Comerci…</td><td>&quot;Pasivos Extern…</td><td>1</td></tr></tbody></table></div>"
      ],
      "text/plain": [
       "shape: (3, 8)\n",
       "┌──────────┬──────────┬──────────┬─────┬──────────────┬───────────────┬──────────────┬─────────────┐\n",
       "│ Niv_Gr_1 ┆ Niv_Gr_2 ┆ Niv_Gr_3 ┆ Id  ┆ Nombre       ┆ Niv_Descr_2   ┆ Niv_Descr_1  ┆ N_Variables │\n",
       "│ ---      ┆ ---      ┆ ---      ┆ --- ┆ ---          ┆ ---           ┆ ---          ┆ ---         │\n",
       "│ str      ┆ str      ┆ str      ┆ i64 ┆ str          ┆ str           ┆ str          ┆ u32         │\n",
       "╞══════════╪══════════╪══════════╪═════╪══════════════╪═══════════════╪══════════════╪═════════════╡\n",
       "│ EMF      ┆ PFS      ┆ 01       ┆ 677 ┆ EMF-PFS-01-1 ┆ Bancos        ┆ Activos      ┆ 1           │\n",
       "│          ┆          ┆          ┆     ┆              ┆ Comerciales   ┆ Externos     ┆             │\n",
       "│          ┆          ┆          ┆     ┆              ┆               ┆ Netos        ┆             │\n",
       "│ EMF      ┆ PFS      ┆ 01       ┆ 678 ┆ EMF-PFS-01-2 ┆ Bancos        ┆ Activos      ┆ 1           │\n",
       "│          ┆          ┆          ┆     ┆              ┆ Comerciales   ┆ Externos     ┆             │\n",
       "│ EMF      ┆ PFS      ┆ 01       ┆ 679 ┆ EMF-PFS-01-3 ┆ Bancos        ┆ Pasivos      ┆ 1           │\n",
       "│          ┆          ┆          ┆     ┆              ┆ Comerciales   ┆ Externos     ┆             │\n",
       "└──────────┴──────────┴──────────┴─────┴──────────────┴───────────────┴──────────────┴─────────────┘"
      ]
     },
     "execution_count": 178,
     "metadata": {},
     "output_type": "execute_result"
    }
   ],
   "source": [
    "res_nivel_7(\n",
    "    \"EMF\",\"PFS\",\n",
    "    \"Niv_Gr_3\",\"01\",\n",
    "    \"Id\",\"Nombre\",\"Niv_Descr_2\",\"Niv_Descr_1\").sort(\"Nombre\")"
   ]
  },
  {
   "cell_type": "markdown",
   "id": "281e626a",
   "metadata": {},
   "source": [
    "Resultados de una sola variable:\n"
   ]
  },
  {
   "cell_type": "code",
   "execution_count": 179,
   "id": "8403f98f",
   "metadata": {},
   "outputs": [
    {
     "name": "stderr",
     "output_type": "stream",
     "text": [
      "<string>:29: FutureWarning:\n",
      "\n",
      "Passing literal json to 'read_json' is deprecated and will be removed in a future version. To read from a literal string, wrap it in a 'StringIO' object.\n",
      "\n"
     ]
    },
    {
     "name": "stderr",
     "output_type": "stream",
     "text": [
      "<string>:29: FutureWarning:\n",
      "\n",
      "Passing literal json to 'read_json' is deprecated and will be removed in a future version. To read from a literal string, wrap it in a 'StringIO' object.\n",
      "\n"
     ]
    },
    {
     "data": {
      "text/html": [
       "<div><style>\n",
       ".dataframe > thead > tr,\n",
       ".dataframe > tbody > tr {\n",
       "  text-align: right;\n",
       "  white-space: pre-wrap;\n",
       "}\n",
       "</style>\n",
       "<small>shape: (183, 2)</small><table border=\"1\" class=\"dataframe\"><thead><tr><th>Fecha</th><th>Activos Externos Netos-Bancos Comerciales</th></tr><tr><td>date</td><td>f64</td></tr></thead><tbody><tr><td>2009-01-01</td><td>-1855.5907</td></tr><tr><td>2009-02-01</td><td>-723.8547</td></tr><tr><td>2009-03-01</td><td>-862.9082</td></tr><tr><td>2009-04-01</td><td>80.2026</td></tr><tr><td>2009-05-01</td><td>792.7156</td></tr><tr><td>&hellip;</td><td>&hellip;</td></tr><tr><td>2023-11-01</td><td>-32943.865</td></tr><tr><td>2023-12-01</td><td>-36239.6994</td></tr><tr><td>2024-01-01</td><td>-37030.809</td></tr><tr><td>2024-02-01</td><td>-36526.3968</td></tr><tr><td>2024-03-01</td><td>-36766.6293</td></tr></tbody></table></div>"
      ],
      "text/plain": [
       "shape: (183, 2)\n",
       "┌────────────┬───────────────────────────────────┐\n",
       "│ Fecha      ┆ Activos Externos Netos-Bancos Co… │\n",
       "│ ---        ┆ ---                               │\n",
       "│ date       ┆ f64                               │\n",
       "╞════════════╪═══════════════════════════════════╡\n",
       "│ 2009-01-01 ┆ -1855.5907                        │\n",
       "│ 2009-02-01 ┆ -723.8547                         │\n",
       "│ 2009-03-01 ┆ -862.9082                         │\n",
       "│ 2009-04-01 ┆ 80.2026                           │\n",
       "│ 2009-05-01 ┆ 792.7156                          │\n",
       "│ …          ┆ …                                 │\n",
       "│ 2023-11-01 ┆ -32943.865                        │\n",
       "│ 2023-12-01 ┆ -36239.6994                       │\n",
       "│ 2024-01-01 ┆ -37030.809                        │\n",
       "│ 2024-02-01 ┆ -36526.3968                       │\n",
       "│ 2024-03-01 ┆ -36766.6293                       │\n",
       "└────────────┴───────────────────────────────────┘"
      ]
     },
     "execution_count": 179,
     "metadata": {},
     "output_type": "execute_result"
    }
   ],
   "source": [
    "Id = 677\n",
    "df = get_df(Id)\n",
    "# get_plot(Id)\n",
    "df"
   ]
  },
  {
   "cell_type": "markdown",
   "id": "93eb5077",
   "metadata": {},
   "source": [
    "##### 02 Activos y Pasivos Externos\n"
   ]
  },
  {
   "cell_type": "code",
   "execution_count": 180,
   "id": "d726845a",
   "metadata": {},
   "outputs": [
    {
     "name": "stderr",
     "output_type": "stream",
     "text": [
      "<string>:29: FutureWarning:\n",
      "\n",
      "Passing literal json to 'read_json' is deprecated and will be removed in a future version. To read from a literal string, wrap it in a 'StringIO' object.\n",
      "\n"
     ]
    },
    {
     "data": {
      "text/html": [
       "<div><style>\n",
       ".dataframe > thead > tr,\n",
       ".dataframe > tbody > tr {\n",
       "  text-align: right;\n",
       "  white-space: pre-wrap;\n",
       "}\n",
       "</style>\n",
       "<small>shape: (3, 5)</small><table border=\"1\" class=\"dataframe\"><thead><tr><th>Niv_Gr_1</th><th>Niv_Gr_2</th><th>Niv_Gr_3</th><th>Niv_Descr_1</th><th>N_Variables</th></tr><tr><td>str</td><td>str</td><td>str</td><td>str</td><td>u32</td></tr></thead><tbody><tr><td>&quot;EMF&quot;</td><td>&quot;PFS&quot;</td><td>&quot;02&quot;</td><td>&quot;Activos Extern…</td><td>3</td></tr><tr><td>&quot;EMF&quot;</td><td>&quot;PFS&quot;</td><td>&quot;02&quot;</td><td>&quot;Activos Extern…</td><td>3</td></tr><tr><td>&quot;EMF&quot;</td><td>&quot;PFS&quot;</td><td>&quot;02&quot;</td><td>&quot;Pasivos Extern…</td><td>3</td></tr></tbody></table></div>"
      ],
      "text/plain": [
       "shape: (3, 5)\n",
       "┌──────────┬──────────┬──────────┬────────────────────────┬─────────────┐\n",
       "│ Niv_Gr_1 ┆ Niv_Gr_2 ┆ Niv_Gr_3 ┆ Niv_Descr_1            ┆ N_Variables │\n",
       "│ ---      ┆ ---      ┆ ---      ┆ ---                    ┆ ---         │\n",
       "│ str      ┆ str      ┆ str      ┆ str                    ┆ u32         │\n",
       "╞══════════╪══════════╪══════════╪════════════════════════╪═════════════╡\n",
       "│ EMF      ┆ PFS      ┆ 02       ┆ Activos Externos Netos ┆ 3           │\n",
       "│ EMF      ┆ PFS      ┆ 02       ┆ Activos Externos       ┆ 3           │\n",
       "│ EMF      ┆ PFS      ┆ 02       ┆ Pasivos Externos       ┆ 3           │\n",
       "└──────────┴──────────┴──────────┴────────────────────────┴─────────────┘"
      ]
     },
     "execution_count": 180,
     "metadata": {},
     "output_type": "execute_result"
    }
   ],
   "source": [
    "res_nivel_4(\n",
    "    \"EMF\",\"PFS\",\n",
    "    \"Niv_Gr_3\",\"02\",\n",
    "    \"Niv_Descr_1\")"
   ]
  },
  {
   "cell_type": "code",
   "execution_count": 181,
   "id": "903a778a",
   "metadata": {},
   "outputs": [
    {
     "name": "stderr",
     "output_type": "stream",
     "text": [
      "<string>:29: FutureWarning:\n",
      "\n",
      "Passing literal json to 'read_json' is deprecated and will be removed in a future version. To read from a literal string, wrap it in a 'StringIO' object.\n",
      "\n"
     ]
    },
    {
     "data": {
      "text/html": [
       "<div><style>\n",
       ".dataframe > thead > tr,\n",
       ".dataframe > tbody > tr {\n",
       "  text-align: right;\n",
       "  white-space: pre-wrap;\n",
       "}\n",
       "</style>\n",
       "<small>shape: (3, 5)</small><table border=\"1\" class=\"dataframe\"><thead><tr><th>Niv_Gr_1</th><th>Niv_Gr_2</th><th>Niv_Gr_3</th><th>Niv_Descr_2</th><th>N_Variables</th></tr><tr><td>str</td><td>str</td><td>str</td><td>str</td><td>u32</td></tr></thead><tbody><tr><td>&quot;EMF&quot;</td><td>&quot;PFS&quot;</td><td>&quot;02&quot;</td><td>&quot;Banco Central …</td><td>3</td></tr><tr><td>&quot;EMF&quot;</td><td>&quot;PFS&quot;</td><td>&quot;02&quot;</td><td>&quot;Otras Sociedad…</td><td>3</td></tr><tr><td>&quot;EMF&quot;</td><td>&quot;PFS&quot;</td><td>&quot;02&quot;</td><td>&quot;Sociedades de …</td><td>3</td></tr></tbody></table></div>"
      ],
      "text/plain": [
       "shape: (3, 5)\n",
       "┌──────────┬──────────┬──────────┬──────────────────────────────┬─────────────┐\n",
       "│ Niv_Gr_1 ┆ Niv_Gr_2 ┆ Niv_Gr_3 ┆ Niv_Descr_2                  ┆ N_Variables │\n",
       "│ ---      ┆ ---      ┆ ---      ┆ ---                          ┆ ---         │\n",
       "│ str      ┆ str      ┆ str      ┆ str                          ┆ u32         │\n",
       "╞══════════╪══════════╪══════════╪══════════════════════════════╪═════════════╡\n",
       "│ EMF      ┆ PFS      ┆ 02       ┆ Banco Central de Honduras    ┆ 3           │\n",
       "│ EMF      ┆ PFS      ┆ 02       ┆ Otras Sociedades de Depósito ┆ 3           │\n",
       "│ EMF      ┆ PFS      ┆ 02       ┆ Sociedades de Depósito       ┆ 3           │\n",
       "└──────────┴──────────┴──────────┴──────────────────────────────┴─────────────┘"
      ]
     },
     "execution_count": 181,
     "metadata": {},
     "output_type": "execute_result"
    }
   ],
   "source": [
    "res_nivel_4(\n",
    "    \"EMF\",\"PFS\",\n",
    "    \"Niv_Gr_3\",\"02\",\n",
    "    \"Niv_Descr_2\")"
   ]
  },
  {
   "cell_type": "markdown",
   "id": "cabbe0de",
   "metadata": {},
   "source": [
    "Para ver todas las variables:\n"
   ]
  },
  {
   "cell_type": "code",
   "execution_count": 182,
   "id": "668dbadf",
   "metadata": {},
   "outputs": [
    {
     "name": "stderr",
     "output_type": "stream",
     "text": [
      "<string>:29: FutureWarning:\n",
      "\n",
      "Passing literal json to 'read_json' is deprecated and will be removed in a future version. To read from a literal string, wrap it in a 'StringIO' object.\n",
      "\n"
     ]
    },
    {
     "data": {
      "text/html": [
       "<div><style>\n",
       ".dataframe > thead > tr,\n",
       ".dataframe > tbody > tr {\n",
       "  text-align: right;\n",
       "  white-space: pre-wrap;\n",
       "}\n",
       "</style>\n",
       "<small>shape: (9, 8)</small><table border=\"1\" class=\"dataframe\"><thead><tr><th>Niv_Gr_1</th><th>Niv_Gr_2</th><th>Niv_Gr_3</th><th>Id</th><th>Nombre</th><th>Niv_Descr_1</th><th>Niv_Descr_2</th><th>N_Variables</th></tr><tr><td>str</td><td>str</td><td>str</td><td>i64</td><td>str</td><td>str</td><td>str</td><td>u32</td></tr></thead><tbody><tr><td>&quot;EMF&quot;</td><td>&quot;PFS&quot;</td><td>&quot;02&quot;</td><td>680</td><td>&quot;EMF-PFS-02-1&quot;</td><td>&quot;Activos Extern…</td><td>&quot;Banco Central …</td><td>1</td></tr><tr><td>&quot;EMF&quot;</td><td>&quot;PFS&quot;</td><td>&quot;02&quot;</td><td>684</td><td>&quot;EMF-PFS-02-5&quot;</td><td>&quot;Activos Extern…</td><td>&quot;Otras Sociedad…</td><td>1</td></tr><tr><td>&quot;EMF&quot;</td><td>&quot;PFS&quot;</td><td>&quot;02&quot;</td><td>687</td><td>&quot;EMF-PFS-02-8&quot;</td><td>&quot;Pasivos Extern…</td><td>&quot;Otras Sociedad…</td><td>1</td></tr><tr><td>&quot;EMF&quot;</td><td>&quot;PFS&quot;</td><td>&quot;02&quot;</td><td>681</td><td>&quot;EMF-PFS-02-2&quot;</td><td>&quot;Activos Extern…</td><td>&quot;Otras Sociedad…</td><td>1</td></tr><tr><td>&quot;EMF&quot;</td><td>&quot;PFS&quot;</td><td>&quot;02&quot;</td><td>686</td><td>&quot;EMF-PFS-02-7&quot;</td><td>&quot;Pasivos Extern…</td><td>&quot;Banco Central …</td><td>1</td></tr><tr><td>&quot;EMF&quot;</td><td>&quot;PFS&quot;</td><td>&quot;02&quot;</td><td>682</td><td>&quot;EMF-PFS-02-3&quot;</td><td>&quot;Activos Extern…</td><td>&quot;Sociedades de …</td><td>1</td></tr><tr><td>&quot;EMF&quot;</td><td>&quot;PFS&quot;</td><td>&quot;02&quot;</td><td>685</td><td>&quot;EMF-PFS-02-6&quot;</td><td>&quot;Activos Extern…</td><td>&quot;Sociedades de …</td><td>1</td></tr><tr><td>&quot;EMF&quot;</td><td>&quot;PFS&quot;</td><td>&quot;02&quot;</td><td>683</td><td>&quot;EMF-PFS-02-4&quot;</td><td>&quot;Activos Extern…</td><td>&quot;Banco Central …</td><td>1</td></tr><tr><td>&quot;EMF&quot;</td><td>&quot;PFS&quot;</td><td>&quot;02&quot;</td><td>688</td><td>&quot;EMF-PFS-02-9&quot;</td><td>&quot;Pasivos Extern…</td><td>&quot;Sociedades de …</td><td>1</td></tr></tbody></table></div>"
      ],
      "text/plain": [
       "shape: (9, 8)\n",
       "┌──────────┬──────────┬──────────┬─────┬──────────────┬───────────────┬──────────────┬─────────────┐\n",
       "│ Niv_Gr_1 ┆ Niv_Gr_2 ┆ Niv_Gr_3 ┆ Id  ┆ Nombre       ┆ Niv_Descr_1   ┆ Niv_Descr_2  ┆ N_Variables │\n",
       "│ ---      ┆ ---      ┆ ---      ┆ --- ┆ ---          ┆ ---           ┆ ---          ┆ ---         │\n",
       "│ str      ┆ str      ┆ str      ┆ i64 ┆ str          ┆ str           ┆ str          ┆ u32         │\n",
       "╞══════════╪══════════╪══════════╪═════╪══════════════╪═══════════════╪══════════════╪═════════════╡\n",
       "│ EMF      ┆ PFS      ┆ 02       ┆ 680 ┆ EMF-PFS-02-1 ┆ Activos       ┆ Banco        ┆ 1           │\n",
       "│          ┆          ┆          ┆     ┆              ┆ Externos      ┆ Central de   ┆             │\n",
       "│          ┆          ┆          ┆     ┆              ┆ Netos         ┆ Honduras     ┆             │\n",
       "│ EMF      ┆ PFS      ┆ 02       ┆ 684 ┆ EMF-PFS-02-5 ┆ Activos       ┆ Otras        ┆ 1           │\n",
       "│          ┆          ┆          ┆     ┆              ┆ Externos      ┆ Sociedades   ┆             │\n",
       "│          ┆          ┆          ┆     ┆              ┆               ┆ de Depósito  ┆             │\n",
       "│ EMF      ┆ PFS      ┆ 02       ┆ 687 ┆ EMF-PFS-02-8 ┆ Pasivos       ┆ Otras        ┆ 1           │\n",
       "│          ┆          ┆          ┆     ┆              ┆ Externos      ┆ Sociedades   ┆             │\n",
       "│          ┆          ┆          ┆     ┆              ┆               ┆ de Depósito  ┆             │\n",
       "│ EMF      ┆ PFS      ┆ 02       ┆ 681 ┆ EMF-PFS-02-2 ┆ Activos       ┆ Otras        ┆ 1           │\n",
       "│          ┆          ┆          ┆     ┆              ┆ Externos      ┆ Sociedades   ┆             │\n",
       "│          ┆          ┆          ┆     ┆              ┆ Netos         ┆ de Depósito  ┆             │\n",
       "│ EMF      ┆ PFS      ┆ 02       ┆ 686 ┆ EMF-PFS-02-7 ┆ Pasivos       ┆ Banco        ┆ 1           │\n",
       "│          ┆          ┆          ┆     ┆              ┆ Externos      ┆ Central de   ┆             │\n",
       "│          ┆          ┆          ┆     ┆              ┆               ┆ Honduras     ┆             │\n",
       "│ EMF      ┆ PFS      ┆ 02       ┆ 682 ┆ EMF-PFS-02-3 ┆ Activos       ┆ Sociedades   ┆ 1           │\n",
       "│          ┆          ┆          ┆     ┆              ┆ Externos      ┆ de Depósito  ┆             │\n",
       "│          ┆          ┆          ┆     ┆              ┆ Netos         ┆              ┆             │\n",
       "│ EMF      ┆ PFS      ┆ 02       ┆ 685 ┆ EMF-PFS-02-6 ┆ Activos       ┆ Sociedades   ┆ 1           │\n",
       "│          ┆          ┆          ┆     ┆              ┆ Externos      ┆ de Depósito  ┆             │\n",
       "│ EMF      ┆ PFS      ┆ 02       ┆ 683 ┆ EMF-PFS-02-4 ┆ Activos       ┆ Banco        ┆ 1           │\n",
       "│          ┆          ┆          ┆     ┆              ┆ Externos      ┆ Central de   ┆             │\n",
       "│          ┆          ┆          ┆     ┆              ┆               ┆ Honduras     ┆             │\n",
       "│ EMF      ┆ PFS      ┆ 02       ┆ 688 ┆ EMF-PFS-02-9 ┆ Pasivos       ┆ Sociedades   ┆ 1           │\n",
       "│          ┆          ┆          ┆     ┆              ┆ Externos      ┆ de Depósito  ┆             │\n",
       "└──────────┴──────────┴──────────┴─────┴──────────────┴───────────────┴──────────────┴─────────────┘"
      ]
     },
     "execution_count": 182,
     "metadata": {},
     "output_type": "execute_result"
    }
   ],
   "source": [
    "res_nivel_7(\n",
    "    \"EMF\",\"PFS\",\n",
    "    \"Niv_Gr_3\",\"02\",\n",
    "    \"Id\",\"Nombre\",\"Niv_Descr_1\",\"Niv_Descr_2\")"
   ]
  },
  {
   "cell_type": "markdown",
   "id": "ea4c6395",
   "metadata": {},
   "source": [
    "Resultados de una sola variable:\n"
   ]
  },
  {
   "cell_type": "code",
   "execution_count": 183,
   "id": "874f59b7",
   "metadata": {},
   "outputs": [
    {
     "name": "stderr",
     "output_type": "stream",
     "text": [
      "<string>:29: FutureWarning:\n",
      "\n",
      "Passing literal json to 'read_json' is deprecated and will be removed in a future version. To read from a literal string, wrap it in a 'StringIO' object.\n",
      "\n"
     ]
    },
    {
     "name": "stderr",
     "output_type": "stream",
     "text": [
      "<string>:29: FutureWarning:\n",
      "\n",
      "Passing literal json to 'read_json' is deprecated and will be removed in a future version. To read from a literal string, wrap it in a 'StringIO' object.\n",
      "\n"
     ]
    },
    {
     "data": {
      "text/html": [
       "<div><style>\n",
       ".dataframe > thead > tr,\n",
       ".dataframe > tbody > tr {\n",
       "  text-align: right;\n",
       "  white-space: pre-wrap;\n",
       "}\n",
       "</style>\n",
       "<small>shape: (183, 2)</small><table border=\"1\" class=\"dataframe\"><thead><tr><th>Fecha</th><th>Pasivos Externos-Otras Sociedades de Depósito</th></tr><tr><td>date</td><td>f64</td></tr></thead><tbody><tr><td>2009-01-01</td><td>15258.1141</td></tr><tr><td>2009-02-01</td><td>15135.3623</td></tr><tr><td>2009-03-01</td><td>14597.5965</td></tr><tr><td>2009-04-01</td><td>14237.5792</td></tr><tr><td>2009-05-01</td><td>13918.5834</td></tr><tr><td>&hellip;</td><td>&hellip;</td></tr><tr><td>2023-11-01</td><td>52769.2959</td></tr><tr><td>2023-12-01</td><td>56670.0158</td></tr><tr><td>2024-01-01</td><td>56699.17</td></tr><tr><td>2024-02-01</td><td>55320.0751</td></tr><tr><td>2024-03-01</td><td>54266.3728</td></tr></tbody></table></div>"
      ],
      "text/plain": [
       "shape: (183, 2)\n",
       "┌────────────┬───────────────────────────────────┐\n",
       "│ Fecha      ┆ Pasivos Externos-Otras Sociedade… │\n",
       "│ ---        ┆ ---                               │\n",
       "│ date       ┆ f64                               │\n",
       "╞════════════╪═══════════════════════════════════╡\n",
       "│ 2009-01-01 ┆ 15258.1141                        │\n",
       "│ 2009-02-01 ┆ 15135.3623                        │\n",
       "│ 2009-03-01 ┆ 14597.5965                        │\n",
       "│ 2009-04-01 ┆ 14237.5792                        │\n",
       "│ 2009-05-01 ┆ 13918.5834                        │\n",
       "│ …          ┆ …                                 │\n",
       "│ 2023-11-01 ┆ 52769.2959                        │\n",
       "│ 2023-12-01 ┆ 56670.0158                        │\n",
       "│ 2024-01-01 ┆ 56699.17                          │\n",
       "│ 2024-02-01 ┆ 55320.0751                        │\n",
       "│ 2024-03-01 ┆ 54266.3728                        │\n",
       "└────────────┴───────────────────────────────────┘"
      ]
     },
     "execution_count": 183,
     "metadata": {},
     "output_type": "execute_result"
    }
   ],
   "source": [
    "Id = 687\n",
    "df = get_df(Id)\n",
    "# get_plot(Id)\n",
    "df"
   ]
  },
  {
   "cell_type": "markdown",
   "id": "6fba7b08",
   "metadata": {},
   "source": [
    "#### EBM = Emisión y Base Monetaria\n"
   ]
  },
  {
   "cell_type": "code",
   "execution_count": 184,
   "id": "7724c91f",
   "metadata": {},
   "outputs": [
    {
     "name": "stdout",
     "output_type": "stream",
     "text": [
      "1 subgrupos\n",
      "6 variables\n"
     ]
    },
    {
     "name": "stderr",
     "output_type": "stream",
     "text": [
      "<string>:29: FutureWarning:\n",
      "\n",
      "Passing literal json to 'read_json' is deprecated and will be removed in a future version. To read from a literal string, wrap it in a 'StringIO' object.\n",
      "\n"
     ]
    },
    {
     "data": {
      "text/html": [
       "<div><style>\n",
       ".dataframe > thead > tr,\n",
       ".dataframe > tbody > tr {\n",
       "  text-align: right;\n",
       "  white-space: pre-wrap;\n",
       "}\n",
       "</style>\n",
       "<small>shape: (1, 4)</small><table border=\"1\" class=\"dataframe\"><thead><tr><th>Niv_Gr_1</th><th>Niv_Gr_2</th><th>Niv_Gr_3</th><th>N_Variables</th></tr><tr><td>str</td><td>str</td><td>str</td><td>u32</td></tr></thead><tbody><tr><td>&quot;EMF&quot;</td><td>&quot;EBM&quot;</td><td>&quot;01&quot;</td><td>6</td></tr></tbody></table></div>"
      ],
      "text/plain": [
       "shape: (1, 4)\n",
       "┌──────────┬──────────┬──────────┬─────────────┐\n",
       "│ Niv_Gr_1 ┆ Niv_Gr_2 ┆ Niv_Gr_3 ┆ N_Variables │\n",
       "│ ---      ┆ ---      ┆ ---      ┆ ---         │\n",
       "│ str      ┆ str      ┆ str      ┆ u32         │\n",
       "╞══════════╪══════════╪══════════╪═════════════╡\n",
       "│ EMF      ┆ EBM      ┆ 01       ┆ 6           │\n",
       "└──────────┴──────────┴──────────┴─────────────┘"
      ]
     },
     "execution_count": 184,
     "metadata": {},
     "output_type": "execute_result"
    }
   ],
   "source": [
    "res_nivel_3(\"EMF\",\"EBM\",\"Niv_Gr_3\").sort(\"Niv_Gr_3\")"
   ]
  },
  {
   "cell_type": "code",
   "execution_count": 185,
   "id": "c8eafc8c",
   "metadata": {},
   "outputs": [
    {
     "name": "stderr",
     "output_type": "stream",
     "text": [
      "<string>:29: FutureWarning:\n",
      "\n",
      "Passing literal json to 'read_json' is deprecated and will be removed in a future version. To read from a literal string, wrap it in a 'StringIO' object.\n",
      "\n"
     ]
    },
    {
     "data": {
      "text/html": [
       "<div><style>\n",
       ".dataframe > thead > tr,\n",
       ".dataframe > tbody > tr {\n",
       "  text-align: right;\n",
       "  white-space: pre-wrap;\n",
       "}\n",
       "</style>\n",
       "<small>shape: (3, 5)</small><table border=\"1\" class=\"dataframe\"><thead><tr><th>Niv_Gr_1</th><th>Niv_Gr_2</th><th>Niv_Gr_3</th><th>Niv_Descr_4</th><th>N_Variables</th></tr><tr><td>str</td><td>str</td><td>str</td><td>str</td><td>u32</td></tr></thead><tbody><tr><td>&quot;EMF&quot;</td><td>&quot;EBM&quot;</td><td>&quot;01&quot;</td><td>&quot;Emision Moneta…</td><td>2</td></tr><tr><td>&quot;EMF&quot;</td><td>&quot;EBM&quot;</td><td>&quot;01&quot;</td><td>&quot;Base Monetaria…</td><td>2</td></tr><tr><td>&quot;EMF&quot;</td><td>&quot;EBM&quot;</td><td>&quot;01&quot;</td><td>&quot;Base Monetaria…</td><td>2</td></tr></tbody></table></div>"
      ],
      "text/plain": [
       "shape: (3, 5)\n",
       "┌──────────┬──────────┬──────────┬────────────────────────────┬─────────────┐\n",
       "│ Niv_Gr_1 ┆ Niv_Gr_2 ┆ Niv_Gr_3 ┆ Niv_Descr_4                ┆ N_Variables │\n",
       "│ ---      ┆ ---      ┆ ---      ┆ ---                        ┆ ---         │\n",
       "│ str      ┆ str      ┆ str      ┆ str                        ┆ u32         │\n",
       "╞══════════╪══════════╪══════════╪════════════════════════════╪═════════════╡\n",
       "│ EMF      ┆ EBM      ┆ 01       ┆ Emision Monetaria          ┆ 2           │\n",
       "│ EMF      ┆ EBM      ┆ 01       ┆ Base Monetaria Restringida ┆ 2           │\n",
       "│ EMF      ┆ EBM      ┆ 01       ┆ Base Monetaria Amplia      ┆ 2           │\n",
       "└──────────┴──────────┴──────────┴────────────────────────────┴─────────────┘"
      ]
     },
     "execution_count": 185,
     "metadata": {},
     "output_type": "execute_result"
    }
   ],
   "source": [
    "res_nivel_4(\n",
    "    \"EMF\",\"EBM\",\n",
    "    \"Niv_Gr_3\",\"01\",\n",
    "    \"Niv_Descr_4\")"
   ]
  },
  {
   "cell_type": "code",
   "execution_count": 186,
   "id": "13edfc6f",
   "metadata": {},
   "outputs": [
    {
     "name": "stderr",
     "output_type": "stream",
     "text": [
      "<string>:29: FutureWarning:\n",
      "\n",
      "Passing literal json to 'read_json' is deprecated and will be removed in a future version. To read from a literal string, wrap it in a 'StringIO' object.\n",
      "\n"
     ]
    },
    {
     "data": {
      "text/html": [
       "<div><style>\n",
       ".dataframe > thead > tr,\n",
       ".dataframe > tbody > tr {\n",
       "  text-align: right;\n",
       "  white-space: pre-wrap;\n",
       "}\n",
       "</style>\n",
       "<small>shape: (6, 6)</small><table border=\"1\" class=\"dataframe\"><thead><tr><th>Niv_Gr_1</th><th>Niv_Gr_2</th><th>Niv_Gr_3</th><th>Niv_Descr_4</th><th>Niv_Descr_5</th><th>N_Variables</th></tr><tr><td>str</td><td>str</td><td>str</td><td>str</td><td>str</td><td>u32</td></tr></thead><tbody><tr><td>&quot;EMF&quot;</td><td>&quot;EBM&quot;</td><td>&quot;01&quot;</td><td>&quot;Base Monetaria…</td><td>&quot;Saldo&quot;</td><td>1</td></tr><tr><td>&quot;EMF&quot;</td><td>&quot;EBM&quot;</td><td>&quot;01&quot;</td><td>&quot;Emision Moneta…</td><td>&quot;Variación&quot;</td><td>1</td></tr><tr><td>&quot;EMF&quot;</td><td>&quot;EBM&quot;</td><td>&quot;01&quot;</td><td>&quot;Emision Moneta…</td><td>&quot;Saldo&quot;</td><td>1</td></tr><tr><td>&quot;EMF&quot;</td><td>&quot;EBM&quot;</td><td>&quot;01&quot;</td><td>&quot;Base Monetaria…</td><td>&quot;Variación&quot;</td><td>1</td></tr><tr><td>&quot;EMF&quot;</td><td>&quot;EBM&quot;</td><td>&quot;01&quot;</td><td>&quot;Base Monetaria…</td><td>&quot;Variación&quot;</td><td>1</td></tr><tr><td>&quot;EMF&quot;</td><td>&quot;EBM&quot;</td><td>&quot;01&quot;</td><td>&quot;Base Monetaria…</td><td>&quot;Saldo&quot;</td><td>1</td></tr></tbody></table></div>"
      ],
      "text/plain": [
       "shape: (6, 6)\n",
       "┌──────────┬──────────┬──────────┬────────────────────────────┬─────────────┬─────────────┐\n",
       "│ Niv_Gr_1 ┆ Niv_Gr_2 ┆ Niv_Gr_3 ┆ Niv_Descr_4                ┆ Niv_Descr_5 ┆ N_Variables │\n",
       "│ ---      ┆ ---      ┆ ---      ┆ ---                        ┆ ---         ┆ ---         │\n",
       "│ str      ┆ str      ┆ str      ┆ str                        ┆ str         ┆ u32         │\n",
       "╞══════════╪══════════╪══════════╪════════════════════════════╪═════════════╪═════════════╡\n",
       "│ EMF      ┆ EBM      ┆ 01       ┆ Base Monetaria Amplia      ┆ Saldo       ┆ 1           │\n",
       "│ EMF      ┆ EBM      ┆ 01       ┆ Emision Monetaria          ┆ Variación   ┆ 1           │\n",
       "│ EMF      ┆ EBM      ┆ 01       ┆ Emision Monetaria          ┆ Saldo       ┆ 1           │\n",
       "│ EMF      ┆ EBM      ┆ 01       ┆ Base Monetaria Amplia      ┆ Variación   ┆ 1           │\n",
       "│ EMF      ┆ EBM      ┆ 01       ┆ Base Monetaria Restringida ┆ Variación   ┆ 1           │\n",
       "│ EMF      ┆ EBM      ┆ 01       ┆ Base Monetaria Restringida ┆ Saldo       ┆ 1           │\n",
       "└──────────┴──────────┴──────────┴────────────────────────────┴─────────────┴─────────────┘"
      ]
     },
     "execution_count": 186,
     "metadata": {},
     "output_type": "execute_result"
    }
   ],
   "source": [
    "res_nivel_5(\n",
    "    \"EMF\",\"EBM\",\n",
    "    \"Niv_Gr_3\",\"01\",\n",
    "    \"Niv_Descr_4\",\"Niv_Descr_5\")"
   ]
  },
  {
   "cell_type": "markdown",
   "id": "19279fb7",
   "metadata": {},
   "source": [
    "Para ver todas las variables:\n"
   ]
  },
  {
   "cell_type": "code",
   "execution_count": 187,
   "id": "002a1309",
   "metadata": {},
   "outputs": [
    {
     "name": "stderr",
     "output_type": "stream",
     "text": [
      "<string>:29: FutureWarning:\n",
      "\n",
      "Passing literal json to 'read_json' is deprecated and will be removed in a future version. To read from a literal string, wrap it in a 'StringIO' object.\n",
      "\n"
     ]
    },
    {
     "data": {
      "text/html": [
       "<div><style>\n",
       ".dataframe > thead > tr,\n",
       ".dataframe > tbody > tr {\n",
       "  text-align: right;\n",
       "  white-space: pre-wrap;\n",
       "}\n",
       "</style>\n",
       "<small>shape: (6, 8)</small><table border=\"1\" class=\"dataframe\"><thead><tr><th>Niv_Gr_1</th><th>Niv_Gr_2</th><th>Niv_Gr_3</th><th>Id</th><th>Nombre</th><th>Niv_Descr_4</th><th>Niv_Descr_5</th><th>N_Variables</th></tr><tr><td>str</td><td>str</td><td>str</td><td>i64</td><td>str</td><td>str</td><td>str</td><td>u32</td></tr></thead><tbody><tr><td>&quot;EMF&quot;</td><td>&quot;EBM&quot;</td><td>&quot;01&quot;</td><td>522</td><td>&quot;EMF-EBM-01-3&quot;</td><td>&quot;Base Monetaria…</td><td>&quot;Saldo&quot;</td><td>1</td></tr><tr><td>&quot;EMF&quot;</td><td>&quot;EBM&quot;</td><td>&quot;01&quot;</td><td>518</td><td>&quot;EMF-EBM-01-1&quot;</td><td>&quot;Emision Moneta…</td><td>&quot;Saldo&quot;</td><td>1</td></tr><tr><td>&quot;EMF&quot;</td><td>&quot;EBM&quot;</td><td>&quot;01&quot;</td><td>519</td><td>&quot;EMF-EBM-01-4&quot;</td><td>&quot;Emision Moneta…</td><td>&quot;Variación&quot;</td><td>1</td></tr><tr><td>&quot;EMF&quot;</td><td>&quot;EBM&quot;</td><td>&quot;01&quot;</td><td>521</td><td>&quot;EMF-EBM-01-5&quot;</td><td>&quot;Base Monetaria…</td><td>&quot;Variación&quot;</td><td>1</td></tr><tr><td>&quot;EMF&quot;</td><td>&quot;EBM&quot;</td><td>&quot;01&quot;</td><td>523</td><td>&quot;EMF-EBM-01-6&quot;</td><td>&quot;Base Monetaria…</td><td>&quot;Variación&quot;</td><td>1</td></tr><tr><td>&quot;EMF&quot;</td><td>&quot;EBM&quot;</td><td>&quot;01&quot;</td><td>520</td><td>&quot;EMF-EBM-01-2&quot;</td><td>&quot;Base Monetaria…</td><td>&quot;Saldo&quot;</td><td>1</td></tr></tbody></table></div>"
      ],
      "text/plain": [
       "shape: (6, 8)\n",
       "┌──────────┬──────────┬──────────┬─────┬──────────────┬────────────────┬─────────────┬─────────────┐\n",
       "│ Niv_Gr_1 ┆ Niv_Gr_2 ┆ Niv_Gr_3 ┆ Id  ┆ Nombre       ┆ Niv_Descr_4    ┆ Niv_Descr_5 ┆ N_Variables │\n",
       "│ ---      ┆ ---      ┆ ---      ┆ --- ┆ ---          ┆ ---            ┆ ---         ┆ ---         │\n",
       "│ str      ┆ str      ┆ str      ┆ i64 ┆ str          ┆ str            ┆ str         ┆ u32         │\n",
       "╞══════════╪══════════╪══════════╪═════╪══════════════╪════════════════╪═════════════╪═════════════╡\n",
       "│ EMF      ┆ EBM      ┆ 01       ┆ 522 ┆ EMF-EBM-01-3 ┆ Base Monetaria ┆ Saldo       ┆ 1           │\n",
       "│          ┆          ┆          ┆     ┆              ┆ Amplia         ┆             ┆             │\n",
       "│ EMF      ┆ EBM      ┆ 01       ┆ 518 ┆ EMF-EBM-01-1 ┆ Emision        ┆ Saldo       ┆ 1           │\n",
       "│          ┆          ┆          ┆     ┆              ┆ Monetaria      ┆             ┆             │\n",
       "│ EMF      ┆ EBM      ┆ 01       ┆ 519 ┆ EMF-EBM-01-4 ┆ Emision        ┆ Variación   ┆ 1           │\n",
       "│          ┆          ┆          ┆     ┆              ┆ Monetaria      ┆             ┆             │\n",
       "│ EMF      ┆ EBM      ┆ 01       ┆ 521 ┆ EMF-EBM-01-5 ┆ Base Monetaria ┆ Variación   ┆ 1           │\n",
       "│          ┆          ┆          ┆     ┆              ┆ Restringida    ┆             ┆             │\n",
       "│ EMF      ┆ EBM      ┆ 01       ┆ 523 ┆ EMF-EBM-01-6 ┆ Base Monetaria ┆ Variación   ┆ 1           │\n",
       "│          ┆          ┆          ┆     ┆              ┆ Amplia         ┆             ┆             │\n",
       "│ EMF      ┆ EBM      ┆ 01       ┆ 520 ┆ EMF-EBM-01-2 ┆ Base Monetaria ┆ Saldo       ┆ 1           │\n",
       "│          ┆          ┆          ┆     ┆              ┆ Restringida    ┆             ┆             │\n",
       "└──────────┴──────────┴──────────┴─────┴──────────────┴────────────────┴─────────────┴─────────────┘"
      ]
     },
     "execution_count": 187,
     "metadata": {},
     "output_type": "execute_result"
    }
   ],
   "source": [
    "res_nivel_7(\n",
    "    \"EMF\",\"EBM\",\n",
    "    \"Niv_Gr_3\",\"01\",\n",
    "    \"Id\",\"Nombre\",\"Niv_Descr_4\",\"Niv_Descr_5\")"
   ]
  },
  {
   "cell_type": "markdown",
   "id": "910f1112",
   "metadata": {},
   "source": [
    "Resultados de una sola variable:\n"
   ]
  },
  {
   "cell_type": "code",
   "execution_count": 188,
   "id": "3d3365d4",
   "metadata": {},
   "outputs": [
    {
     "name": "stderr",
     "output_type": "stream",
     "text": [
      "<string>:29: FutureWarning:\n",
      "\n",
      "Passing literal json to 'read_json' is deprecated and will be removed in a future version. To read from a literal string, wrap it in a 'StringIO' object.\n",
      "\n"
     ]
    },
    {
     "name": "stderr",
     "output_type": "stream",
     "text": [
      "<string>:29: FutureWarning:\n",
      "\n",
      "Passing literal json to 'read_json' is deprecated and will be removed in a future version. To read from a literal string, wrap it in a 'StringIO' object.\n",
      "\n"
     ]
    },
    {
     "data": {
      "text/html": [
       "<div><style>\n",
       ".dataframe > thead > tr,\n",
       ".dataframe > tbody > tr {\n",
       "  text-align: right;\n",
       "  white-space: pre-wrap;\n",
       "}\n",
       "</style>\n",
       "<small>shape: (172, 2)</small><table border=\"1\" class=\"dataframe\"><thead><tr><th>Fecha</th><th>EMF-EBM-01-Base Monetaria Amplia-Variación</th></tr><tr><td>date</td><td>f64</td></tr></thead><tbody><tr><td>2009-12-01</td><td>7.7574</td></tr><tr><td>2010-01-01</td><td>6.7993</td></tr><tr><td>2010-02-01</td><td>9.6529</td></tr><tr><td>2010-03-01</td><td>12.938</td></tr><tr><td>2010-04-01</td><td>7.1</td></tr><tr><td>&hellip;</td><td>&hellip;</td></tr><tr><td>2023-11-01</td><td>-1.2691</td></tr><tr><td>2023-12-01</td><td>-0.3203</td></tr><tr><td>2024-01-01</td><td>-0.8613</td></tr><tr><td>2024-02-01</td><td>-2.0822</td></tr><tr><td>2024-03-01</td><td>2.026</td></tr></tbody></table></div>"
      ],
      "text/plain": [
       "shape: (172, 2)\n",
       "┌────────────┬───────────────────────────────────┐\n",
       "│ Fecha      ┆ EMF-EBM-01-Base Monetaria Amplia… │\n",
       "│ ---        ┆ ---                               │\n",
       "│ date       ┆ f64                               │\n",
       "╞════════════╪═══════════════════════════════════╡\n",
       "│ 2009-12-01 ┆ 7.7574                            │\n",
       "│ 2010-01-01 ┆ 6.7993                            │\n",
       "│ 2010-02-01 ┆ 9.6529                            │\n",
       "│ 2010-03-01 ┆ 12.938                            │\n",
       "│ 2010-04-01 ┆ 7.1                               │\n",
       "│ …          ┆ …                                 │\n",
       "│ 2023-11-01 ┆ -1.2691                           │\n",
       "│ 2023-12-01 ┆ -0.3203                           │\n",
       "│ 2024-01-01 ┆ -0.8613                           │\n",
       "│ 2024-02-01 ┆ -2.0822                           │\n",
       "│ 2024-03-01 ┆ 2.026                             │\n",
       "└────────────┴───────────────────────────────────┘"
      ]
     },
     "execution_count": 188,
     "metadata": {},
     "output_type": "execute_result"
    }
   ],
   "source": [
    "Id = 523\n",
    "df = get_df(Id)\n",
    "# get_plot(Id)\n",
    "df"
   ]
  },
  {
   "cell_type": "markdown",
   "id": "ec08dbd3",
   "metadata": {},
   "source": [
    "### ESP = Estadísticas de Sistema de Pagos\n"
   ]
  },
  {
   "cell_type": "code",
   "execution_count": 189,
   "id": "5e9fd689",
   "metadata": {},
   "outputs": [
    {
     "name": "stdout",
     "output_type": "stream",
     "text": [
      "11519 variables\n",
      "54 grupos\n",
      "2 variables\n",
      "2 grupos\n",
      "2 subgrupos\n"
     ]
    },
    {
     "name": "stderr",
     "output_type": "stream",
     "text": [
      "<string>:29: FutureWarning:\n",
      "\n",
      "Passing literal json to 'read_json' is deprecated and will be removed in a future version. To read from a literal string, wrap it in a 'StringIO' object.\n",
      "\n"
     ]
    },
    {
     "data": {
      "text/html": [
       "<div><style>\n",
       ".dataframe > thead > tr,\n",
       ".dataframe > tbody > tr {\n",
       "  text-align: right;\n",
       "  white-space: pre-wrap;\n",
       "}\n",
       "</style>\n",
       "<small>shape: (2, 4)</small><table border=\"1\" class=\"dataframe\"><thead><tr><th>Niv_Gr_1</th><th>Niv_Gr_2</th><th>N_Variables</th><th>N_Niv_Gr_2</th></tr><tr><td>str</td><td>str</td><td>u32</td><td>u32</td></tr></thead><tbody><tr><td>&quot;ESP&quot;</td><td>&quot;CCECH&quot;</td><td>1</td><td>1</td></tr><tr><td>&quot;ESP&quot;</td><td>&quot;ACH&quot;</td><td>1</td><td>1</td></tr></tbody></table></div>"
      ],
      "text/plain": [
       "shape: (2, 4)\n",
       "┌──────────┬──────────┬─────────────┬────────────┐\n",
       "│ Niv_Gr_1 ┆ Niv_Gr_2 ┆ N_Variables ┆ N_Niv_Gr_2 │\n",
       "│ ---      ┆ ---      ┆ ---         ┆ ---        │\n",
       "│ str      ┆ str      ┆ u32         ┆ u32        │\n",
       "╞══════════╪══════════╪═════════════╪════════════╡\n",
       "│ ESP      ┆ CCECH    ┆ 1           ┆ 1          │\n",
       "│ ESP      ┆ ACH      ┆ 1           ┆ 1          │\n",
       "└──────────┴──────────┴─────────────┴────────────┘"
      ]
     },
     "execution_count": 189,
     "metadata": {},
     "output_type": "execute_result"
    }
   ],
   "source": [
    "res_nivel_2(\"ESP\")"
   ]
  },
  {
   "cell_type": "markdown",
   "id": "2385d43d",
   "metadata": {},
   "source": [
    "#### ACH = Operaciones de Crédito Compensadas en Ceproban y Liquidadas en BCH\n"
   ]
  },
  {
   "cell_type": "code",
   "execution_count": 190,
   "id": "3827319c",
   "metadata": {},
   "outputs": [
    {
     "name": "stdout",
     "output_type": "stream",
     "text": [
      "1 subgrupos\n",
      "4 variables\n"
     ]
    },
    {
     "name": "stderr",
     "output_type": "stream",
     "text": [
      "<string>:29: FutureWarning:\n",
      "\n",
      "Passing literal json to 'read_json' is deprecated and will be removed in a future version. To read from a literal string, wrap it in a 'StringIO' object.\n",
      "\n"
     ]
    },
    {
     "data": {
      "text/html": [
       "<div><style>\n",
       ".dataframe > thead > tr,\n",
       ".dataframe > tbody > tr {\n",
       "  text-align: right;\n",
       "  white-space: pre-wrap;\n",
       "}\n",
       "</style>\n",
       "<small>shape: (1, 4)</small><table border=\"1\" class=\"dataframe\"><thead><tr><th>Niv_Gr_1</th><th>Niv_Gr_2</th><th>Niv_Gr_3</th><th>N_Variables</th></tr><tr><td>str</td><td>str</td><td>str</td><td>u32</td></tr></thead><tbody><tr><td>&quot;ESP&quot;</td><td>&quot;ACH&quot;</td><td>&quot;01&quot;</td><td>4</td></tr></tbody></table></div>"
      ],
      "text/plain": [
       "shape: (1, 4)\n",
       "┌──────────┬──────────┬──────────┬─────────────┐\n",
       "│ Niv_Gr_1 ┆ Niv_Gr_2 ┆ Niv_Gr_3 ┆ N_Variables │\n",
       "│ ---      ┆ ---      ┆ ---      ┆ ---         │\n",
       "│ str      ┆ str      ┆ str      ┆ u32         │\n",
       "╞══════════╪══════════╪══════════╪═════════════╡\n",
       "│ ESP      ┆ ACH      ┆ 01       ┆ 4           │\n",
       "└──────────┴──────────┴──────────┴─────────────┘"
      ]
     },
     "execution_count": 190,
     "metadata": {},
     "output_type": "execute_result"
    }
   ],
   "source": [
    "res_nivel_3(\"ESP\",\"ACH\",\"Niv_Gr_3\").sort(\"Niv_Gr_3\")"
   ]
  },
  {
   "cell_type": "code",
   "execution_count": 191,
   "id": "feaad4a2",
   "metadata": {},
   "outputs": [
    {
     "name": "stderr",
     "output_type": "stream",
     "text": [
      "<string>:29: FutureWarning:\n",
      "\n",
      "Passing literal json to 'read_json' is deprecated and will be removed in a future version. To read from a literal string, wrap it in a 'StringIO' object.\n",
      "\n"
     ]
    },
    {
     "data": {
      "text/html": [
       "<div><style>\n",
       ".dataframe > thead > tr,\n",
       ".dataframe > tbody > tr {\n",
       "  text-align: right;\n",
       "  white-space: pre-wrap;\n",
       "}\n",
       "</style>\n",
       "<small>shape: (2, 5)</small><table border=\"1\" class=\"dataframe\"><thead><tr><th>Niv_Gr_1</th><th>Niv_Gr_2</th><th>Niv_Gr_3</th><th>Niv_Descr_5</th><th>N_Variables</th></tr><tr><td>str</td><td>str</td><td>str</td><td>str</td><td>u32</td></tr></thead><tbody><tr><td>&quot;ESP&quot;</td><td>&quot;ACH&quot;</td><td>&quot;01&quot;</td><td>&quot;Cantidad&quot;</td><td>2</td></tr><tr><td>&quot;ESP&quot;</td><td>&quot;ACH&quot;</td><td>&quot;01&quot;</td><td>&quot;Monto&quot;</td><td>2</td></tr></tbody></table></div>"
      ],
      "text/plain": [
       "shape: (2, 5)\n",
       "┌──────────┬──────────┬──────────┬─────────────┬─────────────┐\n",
       "│ Niv_Gr_1 ┆ Niv_Gr_2 ┆ Niv_Gr_3 ┆ Niv_Descr_5 ┆ N_Variables │\n",
       "│ ---      ┆ ---      ┆ ---      ┆ ---         ┆ ---         │\n",
       "│ str      ┆ str      ┆ str      ┆ str         ┆ u32         │\n",
       "╞══════════╪══════════╪══════════╪═════════════╪═════════════╡\n",
       "│ ESP      ┆ ACH      ┆ 01       ┆ Cantidad    ┆ 2           │\n",
       "│ ESP      ┆ ACH      ┆ 01       ┆ Monto       ┆ 2           │\n",
       "└──────────┴──────────┴──────────┴─────────────┴─────────────┘"
      ]
     },
     "execution_count": 191,
     "metadata": {},
     "output_type": "execute_result"
    }
   ],
   "source": [
    "res_nivel_4(\n",
    "    \"ESP\",\"ACH\",\n",
    "    \"Niv_Gr_3\",\"01\",\n",
    "    \"Niv_Descr_5\")"
   ]
  },
  {
   "cell_type": "code",
   "execution_count": 192,
   "id": "5e3123cd",
   "metadata": {},
   "outputs": [
    {
     "name": "stderr",
     "output_type": "stream",
     "text": [
      "<string>:29: FutureWarning:\n",
      "\n",
      "Passing literal json to 'read_json' is deprecated and will be removed in a future version. To read from a literal string, wrap it in a 'StringIO' object.\n",
      "\n"
     ]
    },
    {
     "data": {
      "text/html": [
       "<div><style>\n",
       ".dataframe > thead > tr,\n",
       ".dataframe > tbody > tr {\n",
       "  text-align: right;\n",
       "  white-space: pre-wrap;\n",
       "}\n",
       "</style>\n",
       "<small>shape: (2, 5)</small><table border=\"1\" class=\"dataframe\"><thead><tr><th>Niv_Gr_1</th><th>Niv_Gr_2</th><th>Niv_Gr_3</th><th>Niv_Descr_6</th><th>N_Variables</th></tr><tr><td>str</td><td>str</td><td>str</td><td>str</td><td>u32</td></tr></thead><tbody><tr><td>&quot;ESP&quot;</td><td>&quot;ACH&quot;</td><td>&quot;01&quot;</td><td>&quot;Dólares&quot;</td><td>2</td></tr><tr><td>&quot;ESP&quot;</td><td>&quot;ACH&quot;</td><td>&quot;01&quot;</td><td>&quot;Lempiras&quot;</td><td>2</td></tr></tbody></table></div>"
      ],
      "text/plain": [
       "shape: (2, 5)\n",
       "┌──────────┬──────────┬──────────┬─────────────┬─────────────┐\n",
       "│ Niv_Gr_1 ┆ Niv_Gr_2 ┆ Niv_Gr_3 ┆ Niv_Descr_6 ┆ N_Variables │\n",
       "│ ---      ┆ ---      ┆ ---      ┆ ---         ┆ ---         │\n",
       "│ str      ┆ str      ┆ str      ┆ str         ┆ u32         │\n",
       "╞══════════╪══════════╪══════════╪═════════════╪═════════════╡\n",
       "│ ESP      ┆ ACH      ┆ 01       ┆ Dólares     ┆ 2           │\n",
       "│ ESP      ┆ ACH      ┆ 01       ┆ Lempiras    ┆ 2           │\n",
       "└──────────┴──────────┴──────────┴─────────────┴─────────────┘"
      ]
     },
     "execution_count": 192,
     "metadata": {},
     "output_type": "execute_result"
    }
   ],
   "source": [
    "res_nivel_4(\n",
    "    \"ESP\",\"ACH\",\n",
    "    \"Niv_Gr_3\",\"01\",\n",
    "    \"Niv_Descr_6\")"
   ]
  },
  {
   "cell_type": "markdown",
   "id": "afb74d02",
   "metadata": {},
   "source": [
    "Para ver todas las variables:\n"
   ]
  },
  {
   "cell_type": "code",
   "execution_count": 193,
   "id": "c5487dea",
   "metadata": {},
   "outputs": [
    {
     "name": "stderr",
     "output_type": "stream",
     "text": [
      "<string>:29: FutureWarning:\n",
      "\n",
      "Passing literal json to 'read_json' is deprecated and will be removed in a future version. To read from a literal string, wrap it in a 'StringIO' object.\n",
      "\n"
     ]
    },
    {
     "data": {
      "text/html": [
       "<div><style>\n",
       ".dataframe > thead > tr,\n",
       ".dataframe > tbody > tr {\n",
       "  text-align: right;\n",
       "  white-space: pre-wrap;\n",
       "}\n",
       "</style>\n",
       "<small>shape: (4, 8)</small><table border=\"1\" class=\"dataframe\"><thead><tr><th>Niv_Gr_1</th><th>Niv_Gr_2</th><th>Niv_Gr_3</th><th>Id</th><th>Nombre</th><th>Niv_Descr_5</th><th>Niv_Descr_6</th><th>N_Variables</th></tr><tr><td>str</td><td>str</td><td>str</td><td>i64</td><td>str</td><td>str</td><td>str</td><td>u32</td></tr></thead><tbody><tr><td>&quot;ESP&quot;</td><td>&quot;ACH&quot;</td><td>&quot;01&quot;</td><td>611</td><td>&quot;ESP-ACH-01-1&quot;</td><td>&quot;Cantidad&quot;</td><td>&quot;Dólares&quot;</td><td>1</td></tr><tr><td>&quot;ESP&quot;</td><td>&quot;ACH&quot;</td><td>&quot;01&quot;</td><td>612</td><td>&quot;ESP-ACH-01-2&quot;</td><td>&quot;Cantidad&quot;</td><td>&quot;Lempiras&quot;</td><td>1</td></tr><tr><td>&quot;ESP&quot;</td><td>&quot;ACH&quot;</td><td>&quot;01&quot;</td><td>613</td><td>&quot;ESP-ACH-01-3&quot;</td><td>&quot;Monto&quot;</td><td>&quot;Dólares&quot;</td><td>1</td></tr><tr><td>&quot;ESP&quot;</td><td>&quot;ACH&quot;</td><td>&quot;01&quot;</td><td>614</td><td>&quot;ESP-ACH-01-4&quot;</td><td>&quot;Monto&quot;</td><td>&quot;Lempiras&quot;</td><td>1</td></tr></tbody></table></div>"
      ],
      "text/plain": [
       "shape: (4, 8)\n",
       "┌──────────┬──────────┬──────────┬─────┬──────────────┬─────────────┬─────────────┬─────────────┐\n",
       "│ Niv_Gr_1 ┆ Niv_Gr_2 ┆ Niv_Gr_3 ┆ Id  ┆ Nombre       ┆ Niv_Descr_5 ┆ Niv_Descr_6 ┆ N_Variables │\n",
       "│ ---      ┆ ---      ┆ ---      ┆ --- ┆ ---          ┆ ---         ┆ ---         ┆ ---         │\n",
       "│ str      ┆ str      ┆ str      ┆ i64 ┆ str          ┆ str         ┆ str         ┆ u32         │\n",
       "╞══════════╪══════════╪══════════╪═════╪══════════════╪═════════════╪═════════════╪═════════════╡\n",
       "│ ESP      ┆ ACH      ┆ 01       ┆ 611 ┆ ESP-ACH-01-1 ┆ Cantidad    ┆ Dólares     ┆ 1           │\n",
       "│ ESP      ┆ ACH      ┆ 01       ┆ 612 ┆ ESP-ACH-01-2 ┆ Cantidad    ┆ Lempiras    ┆ 1           │\n",
       "│ ESP      ┆ ACH      ┆ 01       ┆ 613 ┆ ESP-ACH-01-3 ┆ Monto       ┆ Dólares     ┆ 1           │\n",
       "│ ESP      ┆ ACH      ┆ 01       ┆ 614 ┆ ESP-ACH-01-4 ┆ Monto       ┆ Lempiras    ┆ 1           │\n",
       "└──────────┴──────────┴──────────┴─────┴──────────────┴─────────────┴─────────────┴─────────────┘"
      ]
     },
     "execution_count": 193,
     "metadata": {},
     "output_type": "execute_result"
    }
   ],
   "source": [
    "res_nivel_7(\n",
    "    \"ESP\",\"ACH\",\n",
    "    \"Niv_Gr_3\",\"01\",\n",
    "    \"Id\",\"Nombre\",\"Niv_Descr_5\",\"Niv_Descr_6\").sort(\"Nombre\")"
   ]
  },
  {
   "cell_type": "markdown",
   "id": "5ccd9881",
   "metadata": {},
   "source": [
    "Resultados de una sola variable:\n"
   ]
  },
  {
   "cell_type": "code",
   "execution_count": 194,
   "id": "7a93829b",
   "metadata": {},
   "outputs": [
    {
     "name": "stderr",
     "output_type": "stream",
     "text": [
      "<string>:29: FutureWarning:\n",
      "\n",
      "Passing literal json to 'read_json' is deprecated and will be removed in a future version. To read from a literal string, wrap it in a 'StringIO' object.\n",
      "\n"
     ]
    },
    {
     "name": "stderr",
     "output_type": "stream",
     "text": [
      "<string>:29: FutureWarning:\n",
      "\n",
      "Passing literal json to 'read_json' is deprecated and will be removed in a future version. To read from a literal string, wrap it in a 'StringIO' object.\n",
      "\n"
     ]
    },
    {
     "data": {
      "text/html": [
       "<div><style>\n",
       ".dataframe > thead > tr,\n",
       ".dataframe > tbody > tr {\n",
       "  text-align: right;\n",
       "  white-space: pre-wrap;\n",
       "}\n",
       "</style>\n",
       "<small>shape: (170, 2)</small><table border=\"1\" class=\"dataframe\"><thead><tr><th>Fecha</th><th>ESP-ACH-01-1-Cantidad-Dólares</th></tr><tr><td>date</td><td>i64</td></tr></thead><tbody><tr><td>2010-01-01</td><td>3</td></tr><tr><td>2010-02-01</td><td>9</td></tr><tr><td>2010-03-01</td><td>34</td></tr><tr><td>2010-04-01</td><td>54</td></tr><tr><td>2010-05-01</td><td>67</td></tr><tr><td>&hellip;</td><td>&hellip;</td></tr><tr><td>2023-10-01</td><td>31605</td></tr><tr><td>2023-11-01</td><td>31941</td></tr><tr><td>2023-12-01</td><td>31208</td></tr><tr><td>2024-01-01</td><td>37225</td></tr><tr><td>2024-02-01</td><td>33718</td></tr></tbody></table></div>"
      ],
      "text/plain": [
       "shape: (170, 2)\n",
       "┌────────────┬───────────────────────────────┐\n",
       "│ Fecha      ┆ ESP-ACH-01-1-Cantidad-Dólares │\n",
       "│ ---        ┆ ---                           │\n",
       "│ date       ┆ i64                           │\n",
       "╞════════════╪═══════════════════════════════╡\n",
       "│ 2010-01-01 ┆ 3                             │\n",
       "│ 2010-02-01 ┆ 9                             │\n",
       "│ 2010-03-01 ┆ 34                            │\n",
       "│ 2010-04-01 ┆ 54                            │\n",
       "│ 2010-05-01 ┆ 67                            │\n",
       "│ …          ┆ …                             │\n",
       "│ 2023-10-01 ┆ 31605                         │\n",
       "│ 2023-11-01 ┆ 31941                         │\n",
       "│ 2023-12-01 ┆ 31208                         │\n",
       "│ 2024-01-01 ┆ 37225                         │\n",
       "│ 2024-02-01 ┆ 33718                         │\n",
       "└────────────┴───────────────────────────────┘"
      ]
     },
     "execution_count": 194,
     "metadata": {},
     "output_type": "execute_result"
    }
   ],
   "source": [
    "Id = 611\n",
    "df = get_df(Id)\n",
    "# get_plot(Id)\n",
    "df"
   ]
  },
  {
   "cell_type": "markdown",
   "id": "42bfb0be",
   "metadata": {},
   "source": [
    "#### CCECH = Cheques Compensados en Ceproban y Liquidados en BCH\n"
   ]
  },
  {
   "cell_type": "code",
   "execution_count": 195,
   "id": "97f767fb",
   "metadata": {},
   "outputs": [
    {
     "name": "stdout",
     "output_type": "stream",
     "text": [
      "1 subgrupos\n",
      "4 variables\n"
     ]
    },
    {
     "name": "stderr",
     "output_type": "stream",
     "text": [
      "<string>:29: FutureWarning:\n",
      "\n",
      "Passing literal json to 'read_json' is deprecated and will be removed in a future version. To read from a literal string, wrap it in a 'StringIO' object.\n",
      "\n"
     ]
    },
    {
     "data": {
      "text/html": [
       "<div><style>\n",
       ".dataframe > thead > tr,\n",
       ".dataframe > tbody > tr {\n",
       "  text-align: right;\n",
       "  white-space: pre-wrap;\n",
       "}\n",
       "</style>\n",
       "<small>shape: (1, 4)</small><table border=\"1\" class=\"dataframe\"><thead><tr><th>Niv_Gr_1</th><th>Niv_Gr_2</th><th>Niv_Gr_3</th><th>N_Variables</th></tr><tr><td>str</td><td>str</td><td>str</td><td>u32</td></tr></thead><tbody><tr><td>&quot;ESP&quot;</td><td>&quot;CCECH&quot;</td><td>&quot;01&quot;</td><td>4</td></tr></tbody></table></div>"
      ],
      "text/plain": [
       "shape: (1, 4)\n",
       "┌──────────┬──────────┬──────────┬─────────────┐\n",
       "│ Niv_Gr_1 ┆ Niv_Gr_2 ┆ Niv_Gr_3 ┆ N_Variables │\n",
       "│ ---      ┆ ---      ┆ ---      ┆ ---         │\n",
       "│ str      ┆ str      ┆ str      ┆ u32         │\n",
       "╞══════════╪══════════╪══════════╪═════════════╡\n",
       "│ ESP      ┆ CCECH    ┆ 01       ┆ 4           │\n",
       "└──────────┴──────────┴──────────┴─────────────┘"
      ]
     },
     "execution_count": 195,
     "metadata": {},
     "output_type": "execute_result"
    }
   ],
   "source": [
    "res_nivel_3(\"ESP\",\"CCECH\",\"Niv_Gr_3\")"
   ]
  },
  {
   "cell_type": "code",
   "execution_count": 196,
   "id": "043303e8",
   "metadata": {},
   "outputs": [
    {
     "name": "stderr",
     "output_type": "stream",
     "text": [
      "<string>:29: FutureWarning:\n",
      "\n",
      "Passing literal json to 'read_json' is deprecated and will be removed in a future version. To read from a literal string, wrap it in a 'StringIO' object.\n",
      "\n"
     ]
    },
    {
     "data": {
      "text/html": [
       "<div><style>\n",
       ".dataframe > thead > tr,\n",
       ".dataframe > tbody > tr {\n",
       "  text-align: right;\n",
       "  white-space: pre-wrap;\n",
       "}\n",
       "</style>\n",
       "<small>shape: (2, 5)</small><table border=\"1\" class=\"dataframe\"><thead><tr><th>Niv_Gr_1</th><th>Niv_Gr_2</th><th>Niv_Gr_3</th><th>Niv_Descr_5</th><th>N_Variables</th></tr><tr><td>str</td><td>str</td><td>str</td><td>str</td><td>u32</td></tr></thead><tbody><tr><td>&quot;ESP&quot;</td><td>&quot;CCECH&quot;</td><td>&quot;01&quot;</td><td>&quot;Cantidad&quot;</td><td>2</td></tr><tr><td>&quot;ESP&quot;</td><td>&quot;CCECH&quot;</td><td>&quot;01&quot;</td><td>&quot;Monto&quot;</td><td>2</td></tr></tbody></table></div>"
      ],
      "text/plain": [
       "shape: (2, 5)\n",
       "┌──────────┬──────────┬──────────┬─────────────┬─────────────┐\n",
       "│ Niv_Gr_1 ┆ Niv_Gr_2 ┆ Niv_Gr_3 ┆ Niv_Descr_5 ┆ N_Variables │\n",
       "│ ---      ┆ ---      ┆ ---      ┆ ---         ┆ ---         │\n",
       "│ str      ┆ str      ┆ str      ┆ str         ┆ u32         │\n",
       "╞══════════╪══════════╪══════════╪═════════════╪═════════════╡\n",
       "│ ESP      ┆ CCECH    ┆ 01       ┆ Cantidad    ┆ 2           │\n",
       "│ ESP      ┆ CCECH    ┆ 01       ┆ Monto       ┆ 2           │\n",
       "└──────────┴──────────┴──────────┴─────────────┴─────────────┘"
      ]
     },
     "execution_count": 196,
     "metadata": {},
     "output_type": "execute_result"
    }
   ],
   "source": [
    "res_nivel_4(\n",
    "    \"ESP\",\"CCECH\",\n",
    "    \"Niv_Gr_3\",\"01\",\n",
    "    \"Niv_Descr_5\")"
   ]
  },
  {
   "cell_type": "code",
   "execution_count": 197,
   "id": "ebdea54e",
   "metadata": {},
   "outputs": [
    {
     "name": "stderr",
     "output_type": "stream",
     "text": [
      "<string>:29: FutureWarning:\n",
      "\n",
      "Passing literal json to 'read_json' is deprecated and will be removed in a future version. To read from a literal string, wrap it in a 'StringIO' object.\n",
      "\n"
     ]
    },
    {
     "data": {
      "text/html": [
       "<div><style>\n",
       ".dataframe > thead > tr,\n",
       ".dataframe > tbody > tr {\n",
       "  text-align: right;\n",
       "  white-space: pre-wrap;\n",
       "}\n",
       "</style>\n",
       "<small>shape: (2, 5)</small><table border=\"1\" class=\"dataframe\"><thead><tr><th>Niv_Gr_1</th><th>Niv_Gr_2</th><th>Niv_Gr_3</th><th>Niv_Descr_6</th><th>N_Variables</th></tr><tr><td>str</td><td>str</td><td>str</td><td>str</td><td>u32</td></tr></thead><tbody><tr><td>&quot;ESP&quot;</td><td>&quot;CCECH&quot;</td><td>&quot;01&quot;</td><td>&quot;Lempiras&quot;</td><td>2</td></tr><tr><td>&quot;ESP&quot;</td><td>&quot;CCECH&quot;</td><td>&quot;01&quot;</td><td>&quot;Dólares&quot;</td><td>2</td></tr></tbody></table></div>"
      ],
      "text/plain": [
       "shape: (2, 5)\n",
       "┌──────────┬──────────┬──────────┬─────────────┬─────────────┐\n",
       "│ Niv_Gr_1 ┆ Niv_Gr_2 ┆ Niv_Gr_3 ┆ Niv_Descr_6 ┆ N_Variables │\n",
       "│ ---      ┆ ---      ┆ ---      ┆ ---         ┆ ---         │\n",
       "│ str      ┆ str      ┆ str      ┆ str         ┆ u32         │\n",
       "╞══════════╪══════════╪══════════╪═════════════╪═════════════╡\n",
       "│ ESP      ┆ CCECH    ┆ 01       ┆ Lempiras    ┆ 2           │\n",
       "│ ESP      ┆ CCECH    ┆ 01       ┆ Dólares     ┆ 2           │\n",
       "└──────────┴──────────┴──────────┴─────────────┴─────────────┘"
      ]
     },
     "execution_count": 197,
     "metadata": {},
     "output_type": "execute_result"
    }
   ],
   "source": [
    "res_nivel_4(\n",
    "    \"ESP\",\"CCECH\",\n",
    "    \"Niv_Gr_3\",\"01\",\n",
    "    \"Niv_Descr_6\")"
   ]
  },
  {
   "cell_type": "markdown",
   "id": "fc7760f1",
   "metadata": {},
   "source": [
    "Para ver todas las variables:\n"
   ]
  },
  {
   "cell_type": "code",
   "execution_count": 198,
   "id": "51e779e7",
   "metadata": {},
   "outputs": [
    {
     "name": "stderr",
     "output_type": "stream",
     "text": [
      "<string>:29: FutureWarning:\n",
      "\n",
      "Passing literal json to 'read_json' is deprecated and will be removed in a future version. To read from a literal string, wrap it in a 'StringIO' object.\n",
      "\n"
     ]
    },
    {
     "data": {
      "text/html": [
       "<div><style>\n",
       ".dataframe > thead > tr,\n",
       ".dataframe > tbody > tr {\n",
       "  text-align: right;\n",
       "  white-space: pre-wrap;\n",
       "}\n",
       "</style>\n",
       "<small>shape: (4, 8)</small><table border=\"1\" class=\"dataframe\"><thead><tr><th>Niv_Gr_1</th><th>Niv_Gr_2</th><th>Niv_Gr_3</th><th>Id</th><th>Nombre</th><th>Niv_Descr_5</th><th>Niv_Descr_6</th><th>N_Variables</th></tr><tr><td>str</td><td>str</td><td>str</td><td>i64</td><td>str</td><td>str</td><td>str</td><td>u32</td></tr></thead><tbody><tr><td>&quot;ESP&quot;</td><td>&quot;CCECH&quot;</td><td>&quot;01&quot;</td><td>617</td><td>&quot;ESP-CCECH-01-3…</td><td>&quot;Monto&quot;</td><td>&quot;Dólares&quot;</td><td>1</td></tr><tr><td>&quot;ESP&quot;</td><td>&quot;CCECH&quot;</td><td>&quot;01&quot;</td><td>618</td><td>&quot;ESP-CCECH-01-4…</td><td>&quot;Monto&quot;</td><td>&quot;Lempiras&quot;</td><td>1</td></tr><tr><td>&quot;ESP&quot;</td><td>&quot;CCECH&quot;</td><td>&quot;01&quot;</td><td>615</td><td>&quot;ESP-CCECH-01-1…</td><td>&quot;Cantidad&quot;</td><td>&quot;Dólares&quot;</td><td>1</td></tr><tr><td>&quot;ESP&quot;</td><td>&quot;CCECH&quot;</td><td>&quot;01&quot;</td><td>616</td><td>&quot;ESP-CCECH-01-2…</td><td>&quot;Cantidad&quot;</td><td>&quot;Lempiras&quot;</td><td>1</td></tr></tbody></table></div>"
      ],
      "text/plain": [
       "shape: (4, 8)\n",
       "┌──────────┬──────────┬──────────┬─────┬────────────────┬─────────────┬─────────────┬─────────────┐\n",
       "│ Niv_Gr_1 ┆ Niv_Gr_2 ┆ Niv_Gr_3 ┆ Id  ┆ Nombre         ┆ Niv_Descr_5 ┆ Niv_Descr_6 ┆ N_Variables │\n",
       "│ ---      ┆ ---      ┆ ---      ┆ --- ┆ ---            ┆ ---         ┆ ---         ┆ ---         │\n",
       "│ str      ┆ str      ┆ str      ┆ i64 ┆ str            ┆ str         ┆ str         ┆ u32         │\n",
       "╞══════════╪══════════╪══════════╪═════╪════════════════╪═════════════╪═════════════╪═════════════╡\n",
       "│ ESP      ┆ CCECH    ┆ 01       ┆ 617 ┆ ESP-CCECH-01-3 ┆ Monto       ┆ Dólares     ┆ 1           │\n",
       "│ ESP      ┆ CCECH    ┆ 01       ┆ 618 ┆ ESP-CCECH-01-4 ┆ Monto       ┆ Lempiras    ┆ 1           │\n",
       "│ ESP      ┆ CCECH    ┆ 01       ┆ 615 ┆ ESP-CCECH-01-1 ┆ Cantidad    ┆ Dólares     ┆ 1           │\n",
       "│ ESP      ┆ CCECH    ┆ 01       ┆ 616 ┆ ESP-CCECH-01-2 ┆ Cantidad    ┆ Lempiras    ┆ 1           │\n",
       "└──────────┴──────────┴──────────┴─────┴────────────────┴─────────────┴─────────────┴─────────────┘"
      ]
     },
     "execution_count": 198,
     "metadata": {},
     "output_type": "execute_result"
    }
   ],
   "source": [
    "res_nivel_7(\n",
    "    \"ESP\",\"CCECH\",\n",
    "    \"Niv_Gr_3\",\"01\",\n",
    "    \"Id\",\"Nombre\",\"Niv_Descr_5\",\"Niv_Descr_6\")"
   ]
  },
  {
   "cell_type": "markdown",
   "id": "70aa5e28",
   "metadata": {},
   "source": [
    "Resultados de una sola variable:\n"
   ]
  },
  {
   "cell_type": "code",
   "execution_count": 199,
   "id": "4baa6e93",
   "metadata": {},
   "outputs": [
    {
     "name": "stderr",
     "output_type": "stream",
     "text": [
      "<string>:29: FutureWarning:\n",
      "\n",
      "Passing literal json to 'read_json' is deprecated and will be removed in a future version. To read from a literal string, wrap it in a 'StringIO' object.\n",
      "\n"
     ]
    },
    {
     "name": "stderr",
     "output_type": "stream",
     "text": [
      "<string>:29: FutureWarning:\n",
      "\n",
      "Passing literal json to 'read_json' is deprecated and will be removed in a future version. To read from a literal string, wrap it in a 'StringIO' object.\n",
      "\n"
     ]
    },
    {
     "data": {
      "text/html": [
       "<div><style>\n",
       ".dataframe > thead > tr,\n",
       ".dataframe > tbody > tr {\n",
       "  text-align: right;\n",
       "  white-space: pre-wrap;\n",
       "}\n",
       "</style>\n",
       "<small>shape: (170, 2)</small><table border=\"1\" class=\"dataframe\"><thead><tr><th>Fecha</th><th>ESP-CCECH-01-1-Cantidad-Dólares</th></tr><tr><td>date</td><td>i64</td></tr></thead><tbody><tr><td>2010-01-01</td><td>9344</td></tr><tr><td>2010-02-01</td><td>10124</td></tr><tr><td>2010-03-01</td><td>11828</td></tr><tr><td>2010-04-01</td><td>10274</td></tr><tr><td>2010-05-01</td><td>11172</td></tr><tr><td>&hellip;</td><td>&hellip;</td></tr><tr><td>2023-10-01</td><td>1628</td></tr><tr><td>2023-11-01</td><td>1588</td></tr><tr><td>2023-12-01</td><td>1472</td></tr><tr><td>2024-01-01</td><td>1490</td></tr><tr><td>2024-02-01</td><td>1412</td></tr></tbody></table></div>"
      ],
      "text/plain": [
       "shape: (170, 2)\n",
       "┌────────────┬─────────────────────────────────┐\n",
       "│ Fecha      ┆ ESP-CCECH-01-1-Cantidad-Dólares │\n",
       "│ ---        ┆ ---                             │\n",
       "│ date       ┆ i64                             │\n",
       "╞════════════╪═════════════════════════════════╡\n",
       "│ 2010-01-01 ┆ 9344                            │\n",
       "│ 2010-02-01 ┆ 10124                           │\n",
       "│ 2010-03-01 ┆ 11828                           │\n",
       "│ 2010-04-01 ┆ 10274                           │\n",
       "│ 2010-05-01 ┆ 11172                           │\n",
       "│ …          ┆ …                               │\n",
       "│ 2023-10-01 ┆ 1628                            │\n",
       "│ 2023-11-01 ┆ 1588                            │\n",
       "│ 2023-12-01 ┆ 1472                            │\n",
       "│ 2024-01-01 ┆ 1490                            │\n",
       "│ 2024-02-01 ┆ 1412                            │\n",
       "└────────────┴─────────────────────────────────┘"
      ]
     },
     "execution_count": 199,
     "metadata": {},
     "output_type": "execute_result"
    }
   ],
   "source": [
    "Id = 615\n",
    "df = get_df(Id)\n",
    "# get_plot(Id)\n",
    "df"
   ]
  },
  {
   "cell_type": "markdown",
   "id": "c2af06f0",
   "metadata": {},
   "source": [
    "### EM = Estadísticas Monetarias (TPM y RIN)\n"
   ]
  },
  {
   "cell_type": "code",
   "execution_count": 200,
   "id": "f9db8133",
   "metadata": {},
   "outputs": [
    {
     "name": "stdout",
     "output_type": "stream",
     "text": [
      "11519 variables\n",
      "54 grupos\n",
      "2 variables\n",
      "2 grupos\n",
      "2 subgrupos\n"
     ]
    },
    {
     "name": "stderr",
     "output_type": "stream",
     "text": [
      "<string>:29: FutureWarning:\n",
      "\n",
      "Passing literal json to 'read_json' is deprecated and will be removed in a future version. To read from a literal string, wrap it in a 'StringIO' object.\n",
      "\n"
     ]
    },
    {
     "data": {
      "text/html": [
       "<div><style>\n",
       ".dataframe > thead > tr,\n",
       ".dataframe > tbody > tr {\n",
       "  text-align: right;\n",
       "  white-space: pre-wrap;\n",
       "}\n",
       "</style>\n",
       "<small>shape: (2, 4)</small><table border=\"1\" class=\"dataframe\"><thead><tr><th>Niv_Gr_1</th><th>Niv_Gr_2</th><th>N_Variables</th><th>N_Niv_Gr_2</th></tr><tr><td>str</td><td>str</td><td>u32</td><td>u32</td></tr></thead><tbody><tr><td>&quot;EM&quot;</td><td>&quot;RIN&quot;</td><td>1</td><td>1</td></tr><tr><td>&quot;EM&quot;</td><td>&quot;TPM&quot;</td><td>1</td><td>1</td></tr></tbody></table></div>"
      ],
      "text/plain": [
       "shape: (2, 4)\n",
       "┌──────────┬──────────┬─────────────┬────────────┐\n",
       "│ Niv_Gr_1 ┆ Niv_Gr_2 ┆ N_Variables ┆ N_Niv_Gr_2 │\n",
       "│ ---      ┆ ---      ┆ ---         ┆ ---        │\n",
       "│ str      ┆ str      ┆ u32         ┆ u32        │\n",
       "╞══════════╪══════════╪═════════════╪════════════╡\n",
       "│ EM       ┆ RIN      ┆ 1           ┆ 1          │\n",
       "│ EM       ┆ TPM      ┆ 1           ┆ 1          │\n",
       "└──────────┴──────────┴─────────────┴────────────┘"
      ]
     },
     "execution_count": 200,
     "metadata": {},
     "output_type": "execute_result"
    }
   ],
   "source": [
    "res_nivel_2(\"EM\")"
   ]
  },
  {
   "cell_type": "markdown",
   "id": "caf74b01",
   "metadata": {},
   "source": [
    "#### RIN = Reservas Internacionales Netas\n"
   ]
  },
  {
   "cell_type": "code",
   "execution_count": 201,
   "id": "bbc3e908",
   "metadata": {},
   "outputs": [
    {
     "name": "stdout",
     "output_type": "stream",
     "text": [
      "1 subgrupos\n",
      "10 variables\n"
     ]
    },
    {
     "name": "stderr",
     "output_type": "stream",
     "text": [
      "<string>:29: FutureWarning:\n",
      "\n",
      "Passing literal json to 'read_json' is deprecated and will be removed in a future version. To read from a literal string, wrap it in a 'StringIO' object.\n",
      "\n"
     ]
    },
    {
     "data": {
      "text/html": [
       "<div><style>\n",
       ".dataframe > thead > tr,\n",
       ".dataframe > tbody > tr {\n",
       "  text-align: right;\n",
       "  white-space: pre-wrap;\n",
       "}\n",
       "</style>\n",
       "<small>shape: (1, 4)</small><table border=\"1\" class=\"dataframe\"><thead><tr><th>Niv_Gr_1</th><th>Niv_Gr_2</th><th>Niv_Gr_3</th><th>N_Variables</th></tr><tr><td>str</td><td>str</td><td>str</td><td>u32</td></tr></thead><tbody><tr><td>&quot;EM&quot;</td><td>&quot;RIN&quot;</td><td>&quot;01&quot;</td><td>10</td></tr></tbody></table></div>"
      ],
      "text/plain": [
       "shape: (1, 4)\n",
       "┌──────────┬──────────┬──────────┬─────────────┐\n",
       "│ Niv_Gr_1 ┆ Niv_Gr_2 ┆ Niv_Gr_3 ┆ N_Variables │\n",
       "│ ---      ┆ ---      ┆ ---      ┆ ---         │\n",
       "│ str      ┆ str      ┆ str      ┆ u32         │\n",
       "╞══════════╪══════════╪══════════╪═════════════╡\n",
       "│ EM       ┆ RIN      ┆ 01       ┆ 10          │\n",
       "└──────────┴──────────┴──────────┴─────────────┘"
      ]
     },
     "execution_count": 201,
     "metadata": {},
     "output_type": "execute_result"
    }
   ],
   "source": [
    "res_nivel_3(\"EM\",\"RIN\",\"Niv_Gr_3\").sort(\"Niv_Gr_3\")"
   ]
  },
  {
   "cell_type": "markdown",
   "id": "1abf980e",
   "metadata": {},
   "source": [
    "* Saldo\n",
    "* Variación\n",
    "\n",
    "Variables:\n",
    "\n",
    "* Reservas Internacionales Netas\n",
    "* Activos de Reserva Oficial\n"
   ]
  },
  {
   "cell_type": "code",
   "execution_count": 202,
   "id": "4ab9f69a",
   "metadata": {},
   "outputs": [
    {
     "name": "stderr",
     "output_type": "stream",
     "text": [
      "<string>:29: FutureWarning:\n",
      "\n",
      "Passing literal json to 'read_json' is deprecated and will be removed in a future version. To read from a literal string, wrap it in a 'StringIO' object.\n",
      "\n"
     ]
    },
    {
     "data": {
      "text/html": [
       "<div><style>\n",
       ".dataframe > thead > tr,\n",
       ".dataframe > tbody > tr {\n",
       "  text-align: right;\n",
       "  white-space: pre-wrap;\n",
       "}\n",
       "</style>\n",
       "<small>shape: (2, 5)</small><table border=\"1\" class=\"dataframe\"><thead><tr><th>Niv_Gr_1</th><th>Niv_Gr_2</th><th>Niv_Gr_3</th><th>Niv_Descr_4</th><th>N_Variables</th></tr><tr><td>str</td><td>str</td><td>str</td><td>str</td><td>u32</td></tr></thead><tbody><tr><td>&quot;EM&quot;</td><td>&quot;RIN&quot;</td><td>&quot;01&quot;</td><td>&quot; Activos de Re…</td><td>5</td></tr><tr><td>&quot;EM&quot;</td><td>&quot;RIN&quot;</td><td>&quot;01&quot;</td><td>&quot; Reservas Inte…</td><td>5</td></tr></tbody></table></div>"
      ],
      "text/plain": [
       "shape: (2, 5)\n",
       "┌──────────┬──────────┬──────────┬──────────────────────────────────┬─────────────┐\n",
       "│ Niv_Gr_1 ┆ Niv_Gr_2 ┆ Niv_Gr_3 ┆ Niv_Descr_4                      ┆ N_Variables │\n",
       "│ ---      ┆ ---      ┆ ---      ┆ ---                              ┆ ---         │\n",
       "│ str      ┆ str      ┆ str      ┆ str                              ┆ u32         │\n",
       "╞══════════╪══════════╪══════════╪══════════════════════════════════╪═════════════╡\n",
       "│ EM       ┆ RIN      ┆ 01       ┆  Activos de Reserva Oficial      ┆ 5           │\n",
       "│ EM       ┆ RIN      ┆ 01       ┆  Reservas Internacionales Netas  ┆ 5           │\n",
       "└──────────┴──────────┴──────────┴──────────────────────────────────┴─────────────┘"
      ]
     },
     "execution_count": 202,
     "metadata": {},
     "output_type": "execute_result"
    }
   ],
   "source": [
    "res_nivel_4(\n",
    "    \"EM\",\"RIN\",\n",
    "    \"Niv_Gr_3\",\"01\",\n",
    "    \"Niv_Descr_4\")"
   ]
  },
  {
   "cell_type": "code",
   "execution_count": 203,
   "id": "73d322fd",
   "metadata": {},
   "outputs": [
    {
     "name": "stderr",
     "output_type": "stream",
     "text": [
      "<string>:29: FutureWarning:\n",
      "\n",
      "Passing literal json to 'read_json' is deprecated and will be removed in a future version. To read from a literal string, wrap it in a 'StringIO' object.\n",
      "\n"
     ]
    },
    {
     "data": {
      "text/html": [
       "<div><style>\n",
       ".dataframe > thead > tr,\n",
       ".dataframe > tbody > tr {\n",
       "  text-align: right;\n",
       "  white-space: pre-wrap;\n",
       "}\n",
       "</style>\n",
       "<small>shape: (5, 5)</small><table border=\"1\" class=\"dataframe\"><thead><tr><th>Niv_Gr_1</th><th>Niv_Gr_2</th><th>Niv_Gr_3</th><th>Niv_Descr_5</th><th>N_Variables</th></tr><tr><td>str</td><td>str</td><td>str</td><td>str</td><td>u32</td></tr></thead><tbody><tr><td>&quot;EM&quot;</td><td>&quot;RIN&quot;</td><td>&quot;01&quot;</td><td>&quot; Variación Abs…</td><td>2</td></tr><tr><td>&quot;EM&quot;</td><td>&quot;RIN&quot;</td><td>&quot;01&quot;</td><td>&quot; Variación Abs…</td><td>2</td></tr><tr><td>&quot;EM&quot;</td><td>&quot;RIN&quot;</td><td>&quot;01&quot;</td><td>&quot; Saldo&quot;</td><td>2</td></tr><tr><td>&quot;EM&quot;</td><td>&quot;RIN&quot;</td><td>&quot;01&quot;</td><td>&quot; Variación Abs…</td><td>2</td></tr><tr><td>&quot;EM&quot;</td><td>&quot;RIN&quot;</td><td>&quot;01&quot;</td><td>&quot; Variación Int…</td><td>2</td></tr></tbody></table></div>"
      ],
      "text/plain": [
       "shape: (5, 5)\n",
       "┌──────────┬──────────┬──────────┬───────────────────────────────────┬─────────────┐\n",
       "│ Niv_Gr_1 ┆ Niv_Gr_2 ┆ Niv_Gr_3 ┆ Niv_Descr_5                       ┆ N_Variables │\n",
       "│ ---      ┆ ---      ┆ ---      ┆ ---                               ┆ ---         │\n",
       "│ str      ┆ str      ┆ str      ┆ str                               ┆ u32         │\n",
       "╞══════════╪══════════╪══════════╪═══════════════════════════════════╪═════════════╡\n",
       "│ EM       ┆ RIN      ┆ 01       ┆  Variación Absoluta Mensual       ┆ 2           │\n",
       "│ EM       ┆ RIN      ┆ 01       ┆  Variación Absoluta Acumulada     ┆ 2           │\n",
       "│ EM       ┆ RIN      ┆ 01       ┆  Saldo                            ┆ 2           │\n",
       "│ EM       ┆ RIN      ┆ 01       ┆  Variación Absoluta Interanual    ┆ 2           │\n",
       "│ EM       ┆ RIN      ┆ 01       ┆  Variación Interanual en porcent… ┆ 2           │\n",
       "└──────────┴──────────┴──────────┴───────────────────────────────────┴─────────────┘"
      ]
     },
     "execution_count": 203,
     "metadata": {},
     "output_type": "execute_result"
    }
   ],
   "source": [
    "res_nivel_4(\n",
    "    \"EM\",\"RIN\",\n",
    "    \"Niv_Gr_3\",\"01\",\n",
    "    \"Niv_Descr_5\")"
   ]
  },
  {
   "cell_type": "markdown",
   "id": "fbabd0d4",
   "metadata": {},
   "source": [
    "Para ver todas las variables:\n"
   ]
  },
  {
   "cell_type": "code",
   "execution_count": 204,
   "id": "11b6c081",
   "metadata": {},
   "outputs": [
    {
     "name": "stderr",
     "output_type": "stream",
     "text": [
      "<string>:29: FutureWarning:\n",
      "\n",
      "Passing literal json to 'read_json' is deprecated and will be removed in a future version. To read from a literal string, wrap it in a 'StringIO' object.\n",
      "\n"
     ]
    },
    {
     "data": {
      "text/html": [
       "<div><style>\n",
       ".dataframe > thead > tr,\n",
       ".dataframe > tbody > tr {\n",
       "  text-align: right;\n",
       "  white-space: pre-wrap;\n",
       "}\n",
       "</style>\n",
       "<small>shape: (10, 8)</small><table border=\"1\" class=\"dataframe\"><thead><tr><th>Niv_Gr_1</th><th>Niv_Gr_2</th><th>Niv_Gr_3</th><th>Id</th><th>Nombre</th><th>Niv_Descr_4</th><th>Niv_Descr_5</th><th>N_Variables</th></tr><tr><td>str</td><td>str</td><td>str</td><td>i64</td><td>str</td><td>str</td><td>str</td><td>u32</td></tr></thead><tbody><tr><td>&quot;EM&quot;</td><td>&quot;RIN&quot;</td><td>&quot;01&quot;</td><td>524</td><td>&quot;EM-RIN-01-1&quot;</td><td>&quot; Reservas Inte…</td><td>&quot; Saldo&quot;</td><td>1</td></tr><tr><td>&quot;EM&quot;</td><td>&quot;RIN&quot;</td><td>&quot;01&quot;</td><td>533</td><td>&quot;EM-RIN-01-2&quot;</td><td>&quot; Activos de Re…</td><td>&quot; Variación Int…</td><td>1</td></tr><tr><td>&quot;EM&quot;</td><td>&quot;RIN&quot;</td><td>&quot;01&quot;</td><td>527</td><td>&quot;EM-RIN-01-5&quot;</td><td>&quot; Reservas Inte…</td><td>&quot; Variación Abs…</td><td>1</td></tr><tr><td>&quot;EM&quot;</td><td>&quot;RIN&quot;</td><td>&quot;01&quot;</td><td>531</td><td>&quot;EM-RIN-01-9&quot;</td><td>&quot; Activos de Re…</td><td>&quot; Variación Abs…</td><td>1</td></tr><tr><td>&quot;EM&quot;</td><td>&quot;RIN&quot;</td><td>&quot;01&quot;</td><td>532</td><td>&quot;EM-RIN-01-10&quot;</td><td>&quot; Activos de Re…</td><td>&quot; Variación Abs…</td><td>1</td></tr><tr><td>&quot;EM&quot;</td><td>&quot;RIN&quot;</td><td>&quot;01&quot;</td><td>526</td><td>&quot;EM-RIN-01-4&quot;</td><td>&quot; Reservas Inte…</td><td>&quot; Variación Abs…</td><td>1</td></tr><tr><td>&quot;EM&quot;</td><td>&quot;RIN&quot;</td><td>&quot;01&quot;</td><td>525</td><td>&quot;EM-RIN-01-3&quot;</td><td>&quot; Reservas Inte…</td><td>&quot; Variación Abs…</td><td>1</td></tr><tr><td>&quot;EM&quot;</td><td>&quot;RIN&quot;</td><td>&quot;01&quot;</td><td>530</td><td>&quot;EM-RIN-01-8&quot;</td><td>&quot; Activos de Re…</td><td>&quot; Variación Abs…</td><td>1</td></tr><tr><td>&quot;EM&quot;</td><td>&quot;RIN&quot;</td><td>&quot;01&quot;</td><td>528</td><td>&quot;EM-RIN-01-6&quot;</td><td>&quot; Reservas Inte…</td><td>&quot; Variación Int…</td><td>1</td></tr><tr><td>&quot;EM&quot;</td><td>&quot;RIN&quot;</td><td>&quot;01&quot;</td><td>529</td><td>&quot;EM-RIN-01-7&quot;</td><td>&quot; Activos de Re…</td><td>&quot; Saldo&quot;</td><td>1</td></tr></tbody></table></div>"
      ],
      "text/plain": [
       "shape: (10, 8)\n",
       "┌──────────┬──────────┬──────────┬─────┬──────────────┬───────────────┬──────────────┬─────────────┐\n",
       "│ Niv_Gr_1 ┆ Niv_Gr_2 ┆ Niv_Gr_3 ┆ Id  ┆ Nombre       ┆ Niv_Descr_4   ┆ Niv_Descr_5  ┆ N_Variables │\n",
       "│ ---      ┆ ---      ┆ ---      ┆ --- ┆ ---          ┆ ---           ┆ ---          ┆ ---         │\n",
       "│ str      ┆ str      ┆ str      ┆ i64 ┆ str          ┆ str           ┆ str          ┆ u32         │\n",
       "╞══════════╪══════════╪══════════╪═════╪══════════════╪═══════════════╪══════════════╪═════════════╡\n",
       "│ EM       ┆ RIN      ┆ 01       ┆ 524 ┆ EM-RIN-01-1  ┆ Reservas Inte ┆  Saldo       ┆ 1           │\n",
       "│          ┆          ┆          ┆     ┆              ┆ rnacionales   ┆              ┆             │\n",
       "│          ┆          ┆          ┆     ┆              ┆ Netas         ┆              ┆             │\n",
       "│ EM       ┆ RIN      ┆ 01       ┆ 533 ┆ EM-RIN-01-2  ┆ Activos de    ┆ Variación    ┆ 1           │\n",
       "│          ┆          ┆          ┆     ┆              ┆ Reserva       ┆ Interanual   ┆             │\n",
       "│          ┆          ┆          ┆     ┆              ┆ Oficial       ┆ en porcent…  ┆             │\n",
       "│ EM       ┆ RIN      ┆ 01       ┆ 527 ┆ EM-RIN-01-5  ┆ Reservas Inte ┆ Variación    ┆ 1           │\n",
       "│          ┆          ┆          ┆     ┆              ┆ rnacionales   ┆ Absoluta     ┆             │\n",
       "│          ┆          ┆          ┆     ┆              ┆ Netas         ┆ Interanual   ┆             │\n",
       "│ EM       ┆ RIN      ┆ 01       ┆ 531 ┆ EM-RIN-01-9  ┆ Activos de    ┆ Variación    ┆ 1           │\n",
       "│          ┆          ┆          ┆     ┆              ┆ Reserva       ┆ Absoluta     ┆             │\n",
       "│          ┆          ┆          ┆     ┆              ┆ Oficial       ┆ Acumulada    ┆             │\n",
       "│ EM       ┆ RIN      ┆ 01       ┆ 532 ┆ EM-RIN-01-10 ┆ Activos de    ┆ Variación    ┆ 1           │\n",
       "│          ┆          ┆          ┆     ┆              ┆ Reserva       ┆ Absoluta     ┆             │\n",
       "│          ┆          ┆          ┆     ┆              ┆ Oficial       ┆ Interanual   ┆             │\n",
       "│ EM       ┆ RIN      ┆ 01       ┆ 526 ┆ EM-RIN-01-4  ┆ Reservas Inte ┆ Variación    ┆ 1           │\n",
       "│          ┆          ┆          ┆     ┆              ┆ rnacionales   ┆ Absoluta     ┆             │\n",
       "│          ┆          ┆          ┆     ┆              ┆ Netas         ┆ Acumulada    ┆             │\n",
       "│ EM       ┆ RIN      ┆ 01       ┆ 525 ┆ EM-RIN-01-3  ┆ Reservas Inte ┆ Variación    ┆ 1           │\n",
       "│          ┆          ┆          ┆     ┆              ┆ rnacionales   ┆ Absoluta     ┆             │\n",
       "│          ┆          ┆          ┆     ┆              ┆ Netas         ┆ Mensual      ┆             │\n",
       "│ EM       ┆ RIN      ┆ 01       ┆ 530 ┆ EM-RIN-01-8  ┆ Activos de    ┆ Variación    ┆ 1           │\n",
       "│          ┆          ┆          ┆     ┆              ┆ Reserva       ┆ Absoluta     ┆             │\n",
       "│          ┆          ┆          ┆     ┆              ┆ Oficial       ┆ Mensual      ┆             │\n",
       "│ EM       ┆ RIN      ┆ 01       ┆ 528 ┆ EM-RIN-01-6  ┆ Reservas Inte ┆ Variación    ┆ 1           │\n",
       "│          ┆          ┆          ┆     ┆              ┆ rnacionales   ┆ Interanual   ┆             │\n",
       "│          ┆          ┆          ┆     ┆              ┆ Netas         ┆ en porcent…  ┆             │\n",
       "│ EM       ┆ RIN      ┆ 01       ┆ 529 ┆ EM-RIN-01-7  ┆ Activos de    ┆  Saldo       ┆ 1           │\n",
       "│          ┆          ┆          ┆     ┆              ┆ Reserva       ┆              ┆             │\n",
       "│          ┆          ┆          ┆     ┆              ┆ Oficial       ┆              ┆             │\n",
       "└──────────┴──────────┴──────────┴─────┴──────────────┴───────────────┴──────────────┴─────────────┘"
      ]
     },
     "execution_count": 204,
     "metadata": {},
     "output_type": "execute_result"
    }
   ],
   "source": [
    "res_nivel_7(\n",
    "    \"EM\",\"RIN\",\n",
    "    \"Niv_Gr_3\",\"01\",\n",
    "    \"Id\",\"Nombre\",\"Niv_Descr_4\",\"Niv_Descr_5\")"
   ]
  },
  {
   "cell_type": "markdown",
   "id": "2a263def",
   "metadata": {},
   "source": [
    "Resultados de una sola variable:\n"
   ]
  },
  {
   "cell_type": "code",
   "execution_count": 205,
   "id": "ae0e4b65",
   "metadata": {},
   "outputs": [
    {
     "name": "stderr",
     "output_type": "stream",
     "text": [
      "<string>:29: FutureWarning:\n",
      "\n",
      "Passing literal json to 'read_json' is deprecated and will be removed in a future version. To read from a literal string, wrap it in a 'StringIO' object.\n",
      "\n"
     ]
    },
    {
     "name": "stderr",
     "output_type": "stream",
     "text": [
      "<string>:29: FutureWarning:\n",
      "\n",
      "Passing literal json to 'read_json' is deprecated and will be removed in a future version. To read from a literal string, wrap it in a 'StringIO' object.\n",
      "\n"
     ]
    },
    {
     "data": {
      "text/html": [
       "<div><style>\n",
       ".dataframe > thead > tr,\n",
       ".dataframe > tbody > tr {\n",
       "  text-align: right;\n",
       "  white-space: pre-wrap;\n",
       "}\n",
       "</style>\n",
       "<small>shape: (268, 2)</small><table border=\"1\" class=\"dataframe\"><thead><tr><th>Fecha</th><th>EM-RIN-01 - Activos de Reserva Oficial - Variación Absoluta Interanual</th></tr><tr><td>date</td><td>f64</td></tr></thead><tbody><tr><td>2002-01-01</td><td>1547.119</td></tr><tr><td>2002-02-01</td><td>1570.3292</td></tr><tr><td>2002-03-01</td><td>1600.73</td></tr><tr><td>2002-04-01</td><td>1685.4012</td></tr><tr><td>2002-05-01</td><td>1675.31</td></tr><tr><td>&hellip;</td><td>&hellip;</td></tr><tr><td>2023-12-01</td><td>-863.6644</td></tr><tr><td>2024-01-01</td><td>-948.2284</td></tr><tr><td>2024-02-01</td><td>-953.5449</td></tr><tr><td>2024-03-01</td><td>-993.6543</td></tr><tr><td>2024-04-01</td><td>-878.3451</td></tr></tbody></table></div>"
      ],
      "text/plain": [
       "shape: (268, 2)\n",
       "┌────────────┬───────────────────────────────────┐\n",
       "│ Fecha      ┆ EM-RIN-01 - Activos de Reserva O… │\n",
       "│ ---        ┆ ---                               │\n",
       "│ date       ┆ f64                               │\n",
       "╞════════════╪═══════════════════════════════════╡\n",
       "│ 2002-01-01 ┆ 1547.119                          │\n",
       "│ 2002-02-01 ┆ 1570.3292                         │\n",
       "│ 2002-03-01 ┆ 1600.73                           │\n",
       "│ 2002-04-01 ┆ 1685.4012                         │\n",
       "│ 2002-05-01 ┆ 1675.31                           │\n",
       "│ …          ┆ …                                 │\n",
       "│ 2023-12-01 ┆ -863.6644                         │\n",
       "│ 2024-01-01 ┆ -948.2284                         │\n",
       "│ 2024-02-01 ┆ -953.5449                         │\n",
       "│ 2024-03-01 ┆ -993.6543                         │\n",
       "│ 2024-04-01 ┆ -878.3451                         │\n",
       "└────────────┴───────────────────────────────────┘"
      ]
     },
     "execution_count": 205,
     "metadata": {},
     "output_type": "execute_result"
    }
   ],
   "source": [
    "Id = 532\n",
    "df = get_df(Id)\n",
    "# get_plot(Id)\n",
    "df"
   ]
  },
  {
   "cell_type": "markdown",
   "id": "273fa7af",
   "metadata": {},
   "source": [
    "#### TPM = Tasa de Política Monetaria\n"
   ]
  },
  {
   "cell_type": "code",
   "execution_count": 206,
   "id": "0793083e",
   "metadata": {},
   "outputs": [
    {
     "name": "stdout",
     "output_type": "stream",
     "text": [
      "1 subgrupos\n",
      "2 variables\n"
     ]
    },
    {
     "name": "stderr",
     "output_type": "stream",
     "text": [
      "<string>:29: FutureWarning:\n",
      "\n",
      "Passing literal json to 'read_json' is deprecated and will be removed in a future version. To read from a literal string, wrap it in a 'StringIO' object.\n",
      "\n"
     ]
    },
    {
     "data": {
      "text/html": [
       "<div><style>\n",
       ".dataframe > thead > tr,\n",
       ".dataframe > tbody > tr {\n",
       "  text-align: right;\n",
       "  white-space: pre-wrap;\n",
       "}\n",
       "</style>\n",
       "<small>shape: (1, 4)</small><table border=\"1\" class=\"dataframe\"><thead><tr><th>Niv_Gr_1</th><th>Niv_Gr_2</th><th>Niv_Gr_3</th><th>N_Variables</th></tr><tr><td>str</td><td>str</td><td>str</td><td>u32</td></tr></thead><tbody><tr><td>&quot;EM&quot;</td><td>&quot;TPM&quot;</td><td>&quot;01&quot;</td><td>2</td></tr></tbody></table></div>"
      ],
      "text/plain": [
       "shape: (1, 4)\n",
       "┌──────────┬──────────┬──────────┬─────────────┐\n",
       "│ Niv_Gr_1 ┆ Niv_Gr_2 ┆ Niv_Gr_3 ┆ N_Variables │\n",
       "│ ---      ┆ ---      ┆ ---      ┆ ---         │\n",
       "│ str      ┆ str      ┆ str      ┆ u32         │\n",
       "╞══════════╪══════════╪══════════╪═════════════╡\n",
       "│ EM       ┆ TPM      ┆ 01       ┆ 2           │\n",
       "└──────────┴──────────┴──────────┴─────────────┘"
      ]
     },
     "execution_count": 206,
     "metadata": {},
     "output_type": "execute_result"
    }
   ],
   "source": [
    "res_nivel_3(\"EM\",\"TPM\",\"Niv_Gr_3\")"
   ]
  },
  {
   "cell_type": "markdown",
   "id": "a9224455",
   "metadata": {},
   "source": [
    "Para ver todas las variables:\n"
   ]
  },
  {
   "cell_type": "code",
   "execution_count": 207,
   "id": "838cfac1",
   "metadata": {},
   "outputs": [
    {
     "name": "stderr",
     "output_type": "stream",
     "text": [
      "<string>:29: FutureWarning:\n",
      "\n",
      "Passing literal json to 'read_json' is deprecated and will be removed in a future version. To read from a literal string, wrap it in a 'StringIO' object.\n",
      "\n"
     ]
    },
    {
     "data": {
      "text/html": [
       "<div><style>\n",
       ".dataframe > thead > tr,\n",
       ".dataframe > tbody > tr {\n",
       "  text-align: right;\n",
       "  white-space: pre-wrap;\n",
       "}\n",
       "</style>\n",
       "<small>shape: (2, 8)</small><table border=\"1\" class=\"dataframe\"><thead><tr><th>Niv_Gr_1</th><th>Niv_Gr_2</th><th>Niv_Gr_3</th><th>Id</th><th>Nombre</th><th>Niv_Descr_1</th><th>Niv_Descr_2</th><th>N_Variables</th></tr><tr><td>str</td><td>str</td><td>str</td><td>i64</td><td>str</td><td>str</td><td>str</td><td>u32</td></tr></thead><tbody><tr><td>&quot;EM&quot;</td><td>&quot;TPM&quot;</td><td>&quot;01&quot;</td><td>699</td><td>&quot;EM-TPM-01-1&quot;</td><td>&quot;Tasa Politica …</td><td>&quot; Diario&quot;</td><td>1</td></tr><tr><td>&quot;EM&quot;</td><td>&quot;TPM&quot;</td><td>&quot;01&quot;</td><td>700</td><td>&quot;EM-TPM-01-2&quot;</td><td>&quot;Tasa Politica …</td><td>&quot; Mensual&quot;</td><td>1</td></tr></tbody></table></div>"
      ],
      "text/plain": [
       "shape: (2, 8)\n",
       "┌──────────┬──────────┬──────────┬─────┬─────────────┬─────────────────┬─────────────┬─────────────┐\n",
       "│ Niv_Gr_1 ┆ Niv_Gr_2 ┆ Niv_Gr_3 ┆ Id  ┆ Nombre      ┆ Niv_Descr_1     ┆ Niv_Descr_2 ┆ N_Variables │\n",
       "│ ---      ┆ ---      ┆ ---      ┆ --- ┆ ---         ┆ ---             ┆ ---         ┆ ---         │\n",
       "│ str      ┆ str      ┆ str      ┆ i64 ┆ str         ┆ str             ┆ str         ┆ u32         │\n",
       "╞══════════╪══════════╪══════════╪═════╪═════════════╪═════════════════╪═════════════╪═════════════╡\n",
       "│ EM       ┆ TPM      ┆ 01       ┆ 699 ┆ EM-TPM-01-1 ┆ Tasa Politica   ┆  Diario     ┆ 1           │\n",
       "│          ┆          ┆          ┆     ┆             ┆ Monetaria       ┆             ┆             │\n",
       "│ EM       ┆ TPM      ┆ 01       ┆ 700 ┆ EM-TPM-01-2 ┆ Tasa Politica   ┆  Mensual    ┆ 1           │\n",
       "│          ┆          ┆          ┆     ┆             ┆ Monetaria       ┆             ┆             │\n",
       "└──────────┴──────────┴──────────┴─────┴─────────────┴─────────────────┴─────────────┴─────────────┘"
      ]
     },
     "execution_count": 207,
     "metadata": {},
     "output_type": "execute_result"
    }
   ],
   "source": [
    "res_nivel_7(\n",
    "    \"EM\",\"TPM\",\n",
    "    \"Niv_Gr_3\",\"01\",\n",
    "    \"Id\",\"Nombre\",\"Niv_Descr_1\",\"Niv_Descr_2\").sort(\"Niv_Descr_2\")"
   ]
  },
  {
   "cell_type": "markdown",
   "id": "1b9e26d2",
   "metadata": {},
   "source": [
    "Resultados de una sola variable:\n"
   ]
  },
  {
   "cell_type": "code",
   "execution_count": 208,
   "id": "840566f5",
   "metadata": {},
   "outputs": [
    {
     "name": "stderr",
     "output_type": "stream",
     "text": [
      "<string>:29: FutureWarning:\n",
      "\n",
      "Passing literal json to 'read_json' is deprecated and will be removed in a future version. To read from a literal string, wrap it in a 'StringIO' object.\n",
      "\n"
     ]
    },
    {
     "name": "stderr",
     "output_type": "stream",
     "text": [
      "<string>:29: FutureWarning:\n",
      "\n",
      "Passing literal json to 'read_json' is deprecated and will be removed in a future version. To read from a literal string, wrap it in a 'StringIO' object.\n",
      "\n"
     ]
    },
    {
     "data": {
      "text/html": [
       "<div><style>\n",
       ".dataframe > thead > tr,\n",
       ".dataframe > tbody > tr {\n",
       "  text-align: right;\n",
       "  white-space: pre-wrap;\n",
       "}\n",
       "</style>\n",
       "<small>shape: (6_725, 2)</small><table border=\"1\" class=\"dataframe\"><thead><tr><th>Fecha</th><th>Tasa Politica Monetaria - Diario</th></tr><tr><td>date</td><td>f64</td></tr></thead><tbody><tr><td>2005-05-31</td><td>0.07</td></tr><tr><td>2005-06-01</td><td>0.07</td></tr><tr><td>2005-06-02</td><td>0.07</td></tr><tr><td>2005-06-03</td><td>0.07</td></tr><tr><td>2005-06-04</td><td>0.07</td></tr><tr><td>&hellip;</td><td>&hellip;</td></tr><tr><td>2024-05-17</td><td>0.03</td></tr><tr><td>2024-05-20</td><td>0.03</td></tr><tr><td>2024-05-21</td><td>0.03</td></tr><tr><td>2024-05-22</td><td>0.03</td></tr><tr><td>2024-05-23</td><td>0.03</td></tr></tbody></table></div>"
      ],
      "text/plain": [
       "shape: (6_725, 2)\n",
       "┌────────────┬──────────────────────────────────┐\n",
       "│ Fecha      ┆ Tasa Politica Monetaria - Diario │\n",
       "│ ---        ┆ ---                              │\n",
       "│ date       ┆ f64                              │\n",
       "╞════════════╪══════════════════════════════════╡\n",
       "│ 2005-05-31 ┆ 0.07                             │\n",
       "│ 2005-06-01 ┆ 0.07                             │\n",
       "│ 2005-06-02 ┆ 0.07                             │\n",
       "│ 2005-06-03 ┆ 0.07                             │\n",
       "│ 2005-06-04 ┆ 0.07                             │\n",
       "│ …          ┆ …                                │\n",
       "│ 2024-05-17 ┆ 0.03                             │\n",
       "│ 2024-05-20 ┆ 0.03                             │\n",
       "│ 2024-05-21 ┆ 0.03                             │\n",
       "│ 2024-05-22 ┆ 0.03                             │\n",
       "│ 2024-05-23 ┆ 0.03                             │\n",
       "└────────────┴──────────────────────────────────┘"
      ]
     },
     "execution_count": 208,
     "metadata": {},
     "output_type": "execute_result"
    }
   ],
   "source": [
    "Id = 699\n",
    "df = get_df(Id)\n",
    "# get_plot(Id)\n",
    "df"
   ]
  },
  {
   "cell_type": "markdown",
   "id": "ec29e552",
   "metadata": {},
   "source": [
    "### EC = Estadísticas Cambiarias\n"
   ]
  },
  {
   "cell_type": "code",
   "execution_count": 209,
   "id": "db6506e3",
   "metadata": {},
   "outputs": [
    {
     "name": "stdout",
     "output_type": "stream",
     "text": [
      "11519 variables\n",
      "54 grupos\n",
      "2 variables\n",
      "2 grupos\n",
      "2 subgrupos\n"
     ]
    },
    {
     "name": "stderr",
     "output_type": "stream",
     "text": [
      "<string>:29: FutureWarning:\n",
      "\n",
      "Passing literal json to 'read_json' is deprecated and will be removed in a future version. To read from a literal string, wrap it in a 'StringIO' object.\n",
      "\n"
     ]
    },
    {
     "data": {
      "text/html": [
       "<div><style>\n",
       ".dataframe > thead > tr,\n",
       ".dataframe > tbody > tr {\n",
       "  text-align: right;\n",
       "  white-space: pre-wrap;\n",
       "}\n",
       "</style>\n",
       "<small>shape: (2, 4)</small><table border=\"1\" class=\"dataframe\"><thead><tr><th>Niv_Gr_1</th><th>Niv_Gr_2</th><th>N_Variables</th><th>N_Niv_Gr_2</th></tr><tr><td>str</td><td>str</td><td>u32</td><td>u32</td></tr></thead><tbody><tr><td>&quot;EC&quot;</td><td>&quot;TCR&quot;</td><td>1</td><td>1</td></tr><tr><td>&quot;EC&quot;</td><td>&quot;TCN&quot;</td><td>1</td><td>1</td></tr></tbody></table></div>"
      ],
      "text/plain": [
       "shape: (2, 4)\n",
       "┌──────────┬──────────┬─────────────┬────────────┐\n",
       "│ Niv_Gr_1 ┆ Niv_Gr_2 ┆ N_Variables ┆ N_Niv_Gr_2 │\n",
       "│ ---      ┆ ---      ┆ ---         ┆ ---        │\n",
       "│ str      ┆ str      ┆ u32         ┆ u32        │\n",
       "╞══════════╪══════════╪═════════════╪════════════╡\n",
       "│ EC       ┆ TCR      ┆ 1           ┆ 1          │\n",
       "│ EC       ┆ TCN      ┆ 1           ┆ 1          │\n",
       "└──────────┴──────────┴─────────────┴────────────┘"
      ]
     },
     "execution_count": 209,
     "metadata": {},
     "output_type": "execute_result"
    }
   ],
   "source": [
    "res_nivel_2(\"EC\")"
   ]
  },
  {
   "cell_type": "markdown",
   "id": "92a83840",
   "metadata": {},
   "source": [
    "#### TCR = Tipo de Cambio de Referencia\n"
   ]
  },
  {
   "cell_type": "code",
   "execution_count": 210,
   "id": "d550324b",
   "metadata": {},
   "outputs": [
    {
     "name": "stdout",
     "output_type": "stream",
     "text": [
      "1 subgrupos\n",
      "1 variables\n"
     ]
    },
    {
     "name": "stderr",
     "output_type": "stream",
     "text": [
      "<string>:29: FutureWarning:\n",
      "\n",
      "Passing literal json to 'read_json' is deprecated and will be removed in a future version. To read from a literal string, wrap it in a 'StringIO' object.\n",
      "\n"
     ]
    },
    {
     "data": {
      "text/html": [
       "<div><style>\n",
       ".dataframe > thead > tr,\n",
       ".dataframe > tbody > tr {\n",
       "  text-align: right;\n",
       "  white-space: pre-wrap;\n",
       "}\n",
       "</style>\n",
       "<small>shape: (1, 4)</small><table border=\"1\" class=\"dataframe\"><thead><tr><th>Niv_Gr_1</th><th>Niv_Gr_2</th><th>Niv_Gr_3</th><th>N_Variables</th></tr><tr><td>str</td><td>str</td><td>str</td><td>u32</td></tr></thead><tbody><tr><td>&quot;EC&quot;</td><td>&quot;TCR&quot;</td><td>null</td><td>1</td></tr></tbody></table></div>"
      ],
      "text/plain": [
       "shape: (1, 4)\n",
       "┌──────────┬──────────┬──────────┬─────────────┐\n",
       "│ Niv_Gr_1 ┆ Niv_Gr_2 ┆ Niv_Gr_3 ┆ N_Variables │\n",
       "│ ---      ┆ ---      ┆ ---      ┆ ---         │\n",
       "│ str      ┆ str      ┆ str      ┆ u32         │\n",
       "╞══════════╪══════════╪══════════╪═════════════╡\n",
       "│ EC       ┆ TCR      ┆ null     ┆ 1           │\n",
       "└──────────┴──────────┴──────────┴─────────────┘"
      ]
     },
     "execution_count": 210,
     "metadata": {},
     "output_type": "execute_result"
    }
   ],
   "source": [
    "res_nivel_3(\"EC\",\"TCR\",\"Niv_Gr_3\").sort(\"Niv_Gr_3\")"
   ]
  },
  {
   "cell_type": "markdown",
   "id": "9fbc3089",
   "metadata": {},
   "source": [
    "Para ver todas las variables:\n"
   ]
  },
  {
   "cell_type": "code",
   "execution_count": 211,
   "id": "3ff38036",
   "metadata": {},
   "outputs": [
    {
     "data": {
      "text/html": [
       "<div><style>\n",
       ".dataframe > thead > tr,\n",
       ".dataframe > tbody > tr {\n",
       "  text-align: right;\n",
       "  white-space: pre-wrap;\n",
       "}\n",
       "</style>\n",
       "<small>shape: (1, 11)</small><table border=\"1\" class=\"dataframe\"><thead><tr><th>Id</th><th>Nombre</th><th>Descripcion</th><th>Periodicidad</th><th>Grupo</th><th>CorrelativoGrupo</th><th>Niv_Descr_1</th><th>Niv_Descr</th><th>Niv_Gr_1</th><th>Niv_Gr_2</th><th>Niv_Gr</th></tr><tr><td>i64</td><td>str</td><td>str</td><td>str</td><td>str</td><td>str</td><td>str</td><td>i64</td><td>str</td><td>str</td><td>i64</td></tr></thead><tbody><tr><td>97</td><td>&quot;EC-TCR-01&quot;</td><td>&quot;Estadísticas C…</td><td>&quot;Diario&quot;</td><td>&quot;EC-TCR&quot;</td><td>&quot;01&quot;</td><td>&quot;Estadísticas C…</td><td>2</td><td>&quot;EC&quot;</td><td>&quot;TCR&quot;</td><td>9</td></tr></tbody></table></div>"
      ],
      "text/plain": [
       "shape: (1, 11)\n",
       "┌─────┬───────────┬──────────────┬──────────────┬───┬───────────┬──────────┬──────────┬────────┐\n",
       "│ Id  ┆ Nombre    ┆ Descripcion  ┆ Periodicidad ┆ … ┆ Niv_Descr ┆ Niv_Gr_1 ┆ Niv_Gr_2 ┆ Niv_Gr │\n",
       "│ --- ┆ ---       ┆ ---          ┆ ---          ┆   ┆ ---       ┆ ---      ┆ ---      ┆ ---    │\n",
       "│ i64 ┆ str       ┆ str          ┆ str          ┆   ┆ i64       ┆ str      ┆ str      ┆ i64    │\n",
       "╞═════╪═══════════╪══════════════╪══════════════╪═══╪═══════════╪══════════╪══════════╪════════╡\n",
       "│ 97  ┆ EC-TCR-01 ┆ Estadísticas ┆ Diario       ┆ … ┆ 2         ┆ EC       ┆ TCR      ┆ 9      │\n",
       "│     ┆           ┆ Cambiarias - ┆              ┆   ┆           ┆          ┆          ┆        │\n",
       "│     ┆           ┆ Tipo d…      ┆              ┆   ┆           ┆          ┆          ┆        │\n",
       "└─────┴───────────┴──────────────┴──────────────┴───┴───────────┴──────────┴──────────┴────────┘"
      ]
     },
     "execution_count": 211,
     "metadata": {},
     "output_type": "execute_result"
    }
   ],
   "source": [
    "# df_all.filter(pl.col(\"Nombre\") == \"EC-TCR-01\").select(pl.all().is_not_null())\n",
    "df_all.filter(pl.col(\"Nombre\") == \"EC-TCR-01\")[:, df_all.select(pl.all().is_not_null().all()).row(0)]"
   ]
  },
  {
   "cell_type": "markdown",
   "id": "553a7cf4",
   "metadata": {},
   "source": [
    "Resultados de una sola variable:\n"
   ]
  },
  {
   "cell_type": "code",
   "execution_count": 212,
   "id": "e3577262",
   "metadata": {},
   "outputs": [
    {
     "name": "stderr",
     "output_type": "stream",
     "text": [
      "<string>:29: FutureWarning:\n",
      "\n",
      "Passing literal json to 'read_json' is deprecated and will be removed in a future version. To read from a literal string, wrap it in a 'StringIO' object.\n",
      "\n"
     ]
    },
    {
     "name": "stderr",
     "output_type": "stream",
     "text": [
      "<string>:29: FutureWarning:\n",
      "\n",
      "Passing literal json to 'read_json' is deprecated and will be removed in a future version. To read from a literal string, wrap it in a 'StringIO' object.\n",
      "\n"
     ]
    },
    {
     "data": {
      "text/html": [
       "<div><style>\n",
       ".dataframe > thead > tr,\n",
       ".dataframe > tbody > tr {\n",
       "  text-align: right;\n",
       "  white-space: pre-wrap;\n",
       "}\n",
       "</style>\n",
       "<small>shape: (1_321, 2)</small><table border=\"1\" class=\"dataframe\"><thead><tr><th>Fecha</th><th>Estadísticas Cambiarias - Tipo de Cambio de Referencia</th></tr><tr><td>date</td><td>f64</td></tr></thead><tbody><tr><td>2019-02-20</td><td>24.3944</td></tr><tr><td>2019-02-21</td><td>24.4009</td></tr><tr><td>2019-02-22</td><td>24.409</td></tr><tr><td>2019-02-23</td><td>24.4184</td></tr><tr><td>2019-02-26</td><td>24.4218</td></tr><tr><td>&hellip;</td><td>&hellip;</td></tr><tr><td>2024-05-29</td><td>24.6887</td></tr><tr><td>2024-05-30</td><td>24.6879</td></tr><tr><td>2024-05-31</td><td>24.687</td></tr><tr><td>2024-06-01</td><td>24.6867</td></tr><tr><td>2024-06-04</td><td>24.6866</td></tr></tbody></table></div>"
      ],
      "text/plain": [
       "shape: (1_321, 2)\n",
       "┌────────────┬───────────────────────────────────┐\n",
       "│ Fecha      ┆ Estadísticas Cambiarias - Tipo d… │\n",
       "│ ---        ┆ ---                               │\n",
       "│ date       ┆ f64                               │\n",
       "╞════════════╪═══════════════════════════════════╡\n",
       "│ 2019-02-20 ┆ 24.3944                           │\n",
       "│ 2019-02-21 ┆ 24.4009                           │\n",
       "│ 2019-02-22 ┆ 24.409                            │\n",
       "│ 2019-02-23 ┆ 24.4184                           │\n",
       "│ 2019-02-26 ┆ 24.4218                           │\n",
       "│ …          ┆ …                                 │\n",
       "│ 2024-05-29 ┆ 24.6887                           │\n",
       "│ 2024-05-30 ┆ 24.6879                           │\n",
       "│ 2024-05-31 ┆ 24.687                            │\n",
       "│ 2024-06-01 ┆ 24.6867                           │\n",
       "│ 2024-06-04 ┆ 24.6866                           │\n",
       "└────────────┴───────────────────────────────────┘"
      ]
     },
     "execution_count": 212,
     "metadata": {},
     "output_type": "execute_result"
    }
   ],
   "source": [
    "Id = 97\n",
    "df = get_df(Id)\n",
    "# get_plot(Id)\n",
    "df"
   ]
  },
  {
   "cell_type": "markdown",
   "id": "4218ec64",
   "metadata": {},
   "source": [
    "#### TCN = Tipo de Cambio Nominal\n"
   ]
  },
  {
   "cell_type": "code",
   "execution_count": 213,
   "id": "1f16ab54",
   "metadata": {},
   "outputs": [
    {
     "name": "stdout",
     "output_type": "stream",
     "text": [
      "1 subgrupos\n",
      "2 variables\n"
     ]
    },
    {
     "name": "stderr",
     "output_type": "stream",
     "text": [
      "<string>:29: FutureWarning:\n",
      "\n",
      "Passing literal json to 'read_json' is deprecated and will be removed in a future version. To read from a literal string, wrap it in a 'StringIO' object.\n",
      "\n"
     ]
    },
    {
     "data": {
      "text/html": [
       "<div><style>\n",
       ".dataframe > thead > tr,\n",
       ".dataframe > tbody > tr {\n",
       "  text-align: right;\n",
       "  white-space: pre-wrap;\n",
       "}\n",
       "</style>\n",
       "<small>shape: (1, 4)</small><table border=\"1\" class=\"dataframe\"><thead><tr><th>Niv_Gr_1</th><th>Niv_Gr_2</th><th>Niv_Gr_3</th><th>N_Variables</th></tr><tr><td>str</td><td>str</td><td>str</td><td>u32</td></tr></thead><tbody><tr><td>&quot;EC&quot;</td><td>&quot;TCN&quot;</td><td>&quot;01&quot;</td><td>2</td></tr></tbody></table></div>"
      ],
      "text/plain": [
       "shape: (1, 4)\n",
       "┌──────────┬──────────┬──────────┬─────────────┐\n",
       "│ Niv_Gr_1 ┆ Niv_Gr_2 ┆ Niv_Gr_3 ┆ N_Variables │\n",
       "│ ---      ┆ ---      ┆ ---      ┆ ---         │\n",
       "│ str      ┆ str      ┆ str      ┆ u32         │\n",
       "╞══════════╪══════════╪══════════╪═════════════╡\n",
       "│ EC       ┆ TCN      ┆ 01       ┆ 2           │\n",
       "└──────────┴──────────┴──────────┴─────────────┘"
      ]
     },
     "execution_count": 213,
     "metadata": {},
     "output_type": "execute_result"
    }
   ],
   "source": [
    "res_nivel_3(\"EC\",\"TCN\",\"Niv_Gr_3\")"
   ]
  },
  {
   "cell_type": "markdown",
   "id": "50d697ee",
   "metadata": {},
   "source": [
    "Para ver todas las variables:\n"
   ]
  },
  {
   "cell_type": "code",
   "execution_count": 214,
   "id": "73d31c8a",
   "metadata": {},
   "outputs": [
    {
     "name": "stderr",
     "output_type": "stream",
     "text": [
      "<string>:29: FutureWarning:\n",
      "\n",
      "Passing literal json to 'read_json' is deprecated and will be removed in a future version. To read from a literal string, wrap it in a 'StringIO' object.\n",
      "\n"
     ]
    },
    {
     "data": {
      "text/html": [
       "<div><style>\n",
       ".dataframe > thead > tr,\n",
       ".dataframe > tbody > tr {\n",
       "  text-align: right;\n",
       "  white-space: pre-wrap;\n",
       "}\n",
       "</style>\n",
       "<small>shape: (2, 8)</small><table border=\"1\" class=\"dataframe\"><thead><tr><th>Niv_Gr_1</th><th>Niv_Gr_2</th><th>Niv_Gr_3</th><th>Id</th><th>Nombre</th><th>Niv_Descr_1</th><th>Niv_Descr_2</th><th>N_Variables</th></tr><tr><td>str</td><td>str</td><td>str</td><td>i64</td><td>str</td><td>str</td><td>str</td><td>u32</td></tr></thead><tbody><tr><td>&quot;EC&quot;</td><td>&quot;TCN&quot;</td><td>&quot;01&quot;</td><td>619</td><td>&quot;EC-TCN-01-1&quot;</td><td>&quot;Tipo de Cambio…</td><td>&quot; Compra&quot;</td><td>1</td></tr><tr><td>&quot;EC&quot;</td><td>&quot;TCN&quot;</td><td>&quot;01&quot;</td><td>620</td><td>&quot;EC-TCN-01-2&quot;</td><td>&quot;Tipo de Cambio…</td><td>&quot; Venta&quot;</td><td>1</td></tr></tbody></table></div>"
      ],
      "text/plain": [
       "shape: (2, 8)\n",
       "┌──────────┬──────────┬──────────┬─────┬─────────────┬─────────────────┬─────────────┬─────────────┐\n",
       "│ Niv_Gr_1 ┆ Niv_Gr_2 ┆ Niv_Gr_3 ┆ Id  ┆ Nombre      ┆ Niv_Descr_1     ┆ Niv_Descr_2 ┆ N_Variables │\n",
       "│ ---      ┆ ---      ┆ ---      ┆ --- ┆ ---         ┆ ---             ┆ ---         ┆ ---         │\n",
       "│ str      ┆ str      ┆ str      ┆ i64 ┆ str         ┆ str             ┆ str         ┆ u32         │\n",
       "╞══════════╪══════════╪══════════╪═════╪═════════════╪═════════════════╪═════════════╪═════════════╡\n",
       "│ EC       ┆ TCN      ┆ 01       ┆ 619 ┆ EC-TCN-01-1 ┆ Tipo de Cambio  ┆  Compra     ┆ 1           │\n",
       "│          ┆          ┆          ┆     ┆             ┆ Nominal         ┆             ┆             │\n",
       "│ EC       ┆ TCN      ┆ 01       ┆ 620 ┆ EC-TCN-01-2 ┆ Tipo de Cambio  ┆  Venta      ┆ 1           │\n",
       "│          ┆          ┆          ┆     ┆             ┆ Nominal         ┆             ┆             │\n",
       "└──────────┴──────────┴──────────┴─────┴─────────────┴─────────────────┴─────────────┴─────────────┘"
      ]
     },
     "execution_count": 214,
     "metadata": {},
     "output_type": "execute_result"
    }
   ],
   "source": [
    "res_nivel_7(\n",
    "    \"EC\",\"TCN\",\n",
    "    \"Niv_Gr_3\",\"01\",\n",
    "    \"Id\",\"Nombre\",\"Niv_Descr_1\",\"Niv_Descr_2\").sort(\"Niv_Descr_2\")"
   ]
  },
  {
   "cell_type": "markdown",
   "id": "5580f4ff",
   "metadata": {},
   "source": [
    "Resultados de una sola variable:\n"
   ]
  },
  {
   "cell_type": "code",
   "execution_count": 215,
   "id": "d25d61e5",
   "metadata": {},
   "outputs": [
    {
     "name": "stderr",
     "output_type": "stream",
     "text": [
      "<string>:29: FutureWarning:\n",
      "\n",
      "Passing literal json to 'read_json' is deprecated and will be removed in a future version. To read from a literal string, wrap it in a 'StringIO' object.\n",
      "\n"
     ]
    },
    {
     "name": "stderr",
     "output_type": "stream",
     "text": [
      "<string>:29: FutureWarning:\n",
      "\n",
      "Passing literal json to 'read_json' is deprecated and will be removed in a future version. To read from a literal string, wrap it in a 'StringIO' object.\n",
      "\n"
     ]
    },
    {
     "data": {
      "text/html": [
       "<div><style>\n",
       ".dataframe > thead > tr,\n",
       ".dataframe > tbody > tr {\n",
       "  text-align: right;\n",
       "  white-space: pre-wrap;\n",
       "}\n",
       "</style>\n",
       "<small>shape: (6_149, 2)</small><table border=\"1\" class=\"dataframe\"><thead><tr><th>Fecha</th><th>Tipo de Cambio Nominal - Compra</th></tr><tr><td>date</td><td>f64</td></tr></thead><tbody><tr><td>2000-01-03</td><td>14.5</td></tr><tr><td>2000-01-04</td><td>14.5</td></tr><tr><td>2000-01-05</td><td>14.51</td></tr><tr><td>2000-01-06</td><td>14.51</td></tr><tr><td>2000-01-07</td><td>14.51</td></tr><tr><td>&hellip;</td><td>&hellip;</td></tr><tr><td>2024-05-29</td><td>24.6887</td></tr><tr><td>2024-05-30</td><td>24.6879</td></tr><tr><td>2024-05-31</td><td>24.687</td></tr><tr><td>2024-06-03</td><td>24.6867</td></tr><tr><td>2024-06-04</td><td>24.6866</td></tr></tbody></table></div>"
      ],
      "text/plain": [
       "shape: (6_149, 2)\n",
       "┌────────────┬─────────────────────────────────┐\n",
       "│ Fecha      ┆ Tipo de Cambio Nominal - Compra │\n",
       "│ ---        ┆ ---                             │\n",
       "│ date       ┆ f64                             │\n",
       "╞════════════╪═════════════════════════════════╡\n",
       "│ 2000-01-03 ┆ 14.5                            │\n",
       "│ 2000-01-04 ┆ 14.5                            │\n",
       "│ 2000-01-05 ┆ 14.51                           │\n",
       "│ 2000-01-06 ┆ 14.51                           │\n",
       "│ 2000-01-07 ┆ 14.51                           │\n",
       "│ …          ┆ …                               │\n",
       "│ 2024-05-29 ┆ 24.6887                         │\n",
       "│ 2024-05-30 ┆ 24.6879                         │\n",
       "│ 2024-05-31 ┆ 24.687                          │\n",
       "│ 2024-06-03 ┆ 24.6867                         │\n",
       "│ 2024-06-04 ┆ 24.6866                         │\n",
       "└────────────┴─────────────────────────────────┘"
      ]
     },
     "execution_count": 215,
     "metadata": {},
     "output_type": "execute_result"
    }
   ],
   "source": [
    "Id = 619\n",
    "df = get_df(Id)\n",
    "# get_plot(Id)\n",
    "df"
   ]
  },
  {
   "cell_type": "markdown",
   "id": "e90bab03",
   "metadata": {},
   "source": [
    "### EP = EStadísticas de Precios\n"
   ]
  },
  {
   "cell_type": "code",
   "execution_count": 216,
   "id": "7cd86b82",
   "metadata": {},
   "outputs": [
    {
     "name": "stdout",
     "output_type": "stream",
     "text": [
      "11519 variables\n",
      "54 grupos\n",
      "1 variables\n",
      "1 grupos\n",
      "1 subgrupos\n"
     ]
    },
    {
     "name": "stderr",
     "output_type": "stream",
     "text": [
      "<string>:29: FutureWarning:\n",
      "\n",
      "Passing literal json to 'read_json' is deprecated and will be removed in a future version. To read from a literal string, wrap it in a 'StringIO' object.\n",
      "\n"
     ]
    },
    {
     "data": {
      "text/html": [
       "<div><style>\n",
       ".dataframe > thead > tr,\n",
       ".dataframe > tbody > tr {\n",
       "  text-align: right;\n",
       "  white-space: pre-wrap;\n",
       "}\n",
       "</style>\n",
       "<small>shape: (1, 4)</small><table border=\"1\" class=\"dataframe\"><thead><tr><th>Niv_Gr_1</th><th>Niv_Gr_2</th><th>N_Variables</th><th>N_Niv_Gr_2</th></tr><tr><td>str</td><td>str</td><td>u32</td><td>u32</td></tr></thead><tbody><tr><td>&quot;EP&quot;</td><td>&quot;IPC&quot;</td><td>1</td><td>1</td></tr></tbody></table></div>"
      ],
      "text/plain": [
       "shape: (1, 4)\n",
       "┌──────────┬──────────┬─────────────┬────────────┐\n",
       "│ Niv_Gr_1 ┆ Niv_Gr_2 ┆ N_Variables ┆ N_Niv_Gr_2 │\n",
       "│ ---      ┆ ---      ┆ ---         ┆ ---        │\n",
       "│ str      ┆ str      ┆ u32         ┆ u32        │\n",
       "╞══════════╪══════════╪═════════════╪════════════╡\n",
       "│ EP       ┆ IPC      ┆ 1           ┆ 1          │\n",
       "└──────────┴──────────┴─────────────┴────────────┘"
      ]
     },
     "execution_count": 216,
     "metadata": {},
     "output_type": "execute_result"
    }
   ],
   "source": [
    "res_nivel_2(\"EP\")"
   ]
  },
  {
   "cell_type": "markdown",
   "id": "7040dd0d",
   "metadata": {},
   "source": [
    "#### IPC  Índice de Precios al Consumidor\n"
   ]
  },
  {
   "cell_type": "code",
   "execution_count": 217,
   "id": "1f960f33",
   "metadata": {},
   "outputs": [
    {
     "name": "stdout",
     "output_type": "stream",
     "text": [
      "1 subgrupos\n",
      "3 variables\n"
     ]
    },
    {
     "name": "stderr",
     "output_type": "stream",
     "text": [
      "<string>:29: FutureWarning:\n",
      "\n",
      "Passing literal json to 'read_json' is deprecated and will be removed in a future version. To read from a literal string, wrap it in a 'StringIO' object.\n",
      "\n"
     ]
    },
    {
     "data": {
      "text/html": [
       "<div><style>\n",
       ".dataframe > thead > tr,\n",
       ".dataframe > tbody > tr {\n",
       "  text-align: right;\n",
       "  white-space: pre-wrap;\n",
       "}\n",
       "</style>\n",
       "<small>shape: (1, 4)</small><table border=\"1\" class=\"dataframe\"><thead><tr><th>Niv_Gr_1</th><th>Niv_Gr_2</th><th>Niv_Gr_3</th><th>N_Variables</th></tr><tr><td>str</td><td>str</td><td>str</td><td>u32</td></tr></thead><tbody><tr><td>&quot;EP&quot;</td><td>&quot;IPC&quot;</td><td>&quot;01&quot;</td><td>3</td></tr></tbody></table></div>"
      ],
      "text/plain": [
       "shape: (1, 4)\n",
       "┌──────────┬──────────┬──────────┬─────────────┐\n",
       "│ Niv_Gr_1 ┆ Niv_Gr_2 ┆ Niv_Gr_3 ┆ N_Variables │\n",
       "│ ---      ┆ ---      ┆ ---      ┆ ---         │\n",
       "│ str      ┆ str      ┆ str      ┆ u32         │\n",
       "╞══════════╪══════════╪══════════╪═════════════╡\n",
       "│ EP       ┆ IPC      ┆ 01       ┆ 3           │\n",
       "└──────────┴──────────┴──────────┴─────────────┘"
      ]
     },
     "execution_count": 217,
     "metadata": {},
     "output_type": "execute_result"
    }
   ],
   "source": [
    "res_nivel_3(\"EP\",\"IPC\",\"Niv_Gr_3\")"
   ]
  },
  {
   "cell_type": "markdown",
   "id": "10ac72ab",
   "metadata": {},
   "source": [
    "Para ver todas las variables:\n"
   ]
  },
  {
   "cell_type": "code",
   "execution_count": 218,
   "id": "7975e946",
   "metadata": {},
   "outputs": [
    {
     "name": "stderr",
     "output_type": "stream",
     "text": [
      "<string>:29: FutureWarning:\n",
      "\n",
      "Passing literal json to 'read_json' is deprecated and will be removed in a future version. To read from a literal string, wrap it in a 'StringIO' object.\n",
      "\n"
     ]
    },
    {
     "data": {
      "text/html": [
       "<div><style>\n",
       ".dataframe > thead > tr,\n",
       ".dataframe > tbody > tr {\n",
       "  text-align: right;\n",
       "  white-space: pre-wrap;\n",
       "}\n",
       "</style>\n",
       "<small>shape: (3, 8)</small><table border=\"1\" class=\"dataframe\"><thead><tr><th>Niv_Gr_1</th><th>Niv_Gr_2</th><th>Niv_Gr_3</th><th>Id</th><th>Nombre</th><th>Niv_Descr_2</th><th>Niv_Descr_4</th><th>N_Variables</th></tr><tr><td>str</td><td>str</td><td>str</td><td>i64</td><td>str</td><td>str</td><td>str</td><td>u32</td></tr></thead><tbody><tr><td>&quot;EP&quot;</td><td>&quot;IPC&quot;</td><td>&quot;01&quot;</td><td>609</td><td>&quot;EP-IPC-01-2&quot;</td><td>&quot;IPC&quot;</td><td>&quot; Variación int…</td><td>1</td></tr><tr><td>&quot;EP&quot;</td><td>&quot;IPC&quot;</td><td>&quot;01&quot;</td><td>610</td><td>&quot;EP-IPC-01-3&quot;</td><td>&quot;IPC&quot;</td><td>&quot; Variación men…</td><td>1</td></tr><tr><td>&quot;EP&quot;</td><td>&quot;IPC&quot;</td><td>&quot;01&quot;</td><td>608</td><td>&quot;EP-IPC-01-1&quot;</td><td>&quot;IPC&quot;</td><td>&quot; Índice&quot;</td><td>1</td></tr></tbody></table></div>"
      ],
      "text/plain": [
       "shape: (3, 8)\n",
       "┌──────────┬──────────┬──────────┬─────┬─────────────┬─────────────┬─────────────┬─────────────┐\n",
       "│ Niv_Gr_1 ┆ Niv_Gr_2 ┆ Niv_Gr_3 ┆ Id  ┆ Nombre      ┆ Niv_Descr_2 ┆ Niv_Descr_4 ┆ N_Variables │\n",
       "│ ---      ┆ ---      ┆ ---      ┆ --- ┆ ---         ┆ ---         ┆ ---         ┆ ---         │\n",
       "│ str      ┆ str      ┆ str      ┆ i64 ┆ str         ┆ str         ┆ str         ┆ u32         │\n",
       "╞══════════╪══════════╪══════════╪═════╪═════════════╪═════════════╪═════════════╪═════════════╡\n",
       "│ EP       ┆ IPC      ┆ 01       ┆ 609 ┆ EP-IPC-01-2 ┆ IPC         ┆ Variación   ┆ 1           │\n",
       "│          ┆          ┆          ┆     ┆             ┆             ┆ interanual  ┆             │\n",
       "│ EP       ┆ IPC      ┆ 01       ┆ 610 ┆ EP-IPC-01-3 ┆ IPC         ┆ Variación   ┆ 1           │\n",
       "│          ┆          ┆          ┆     ┆             ┆             ┆ mensual     ┆             │\n",
       "│ EP       ┆ IPC      ┆ 01       ┆ 608 ┆ EP-IPC-01-1 ┆ IPC         ┆  Índice     ┆ 1           │\n",
       "└──────────┴──────────┴──────────┴─────┴─────────────┴─────────────┴─────────────┴─────────────┘"
      ]
     },
     "execution_count": 218,
     "metadata": {},
     "output_type": "execute_result"
    }
   ],
   "source": [
    "res_nivel_7(\n",
    "    \"EP\",\"IPC\",\n",
    "    \"Niv_Gr_3\",\"01\",\n",
    "    \"Id\",\"Nombre\",\"Niv_Descr_2\",\"Niv_Descr_4\").sort(\"Niv_Descr_2\")"
   ]
  },
  {
   "cell_type": "markdown",
   "id": "8534336f",
   "metadata": {},
   "source": [
    "Resultados de una sola variable:\n"
   ]
  },
  {
   "cell_type": "code",
   "execution_count": 219,
   "id": "925a1e5f",
   "metadata": {},
   "outputs": [
    {
     "name": "stderr",
     "output_type": "stream",
     "text": [
      "<string>:29: FutureWarning:\n",
      "\n",
      "Passing literal json to 'read_json' is deprecated and will be removed in a future version. To read from a literal string, wrap it in a 'StringIO' object.\n",
      "\n"
     ]
    },
    {
     "name": "stderr",
     "output_type": "stream",
     "text": [
      "<string>:29: FutureWarning:\n",
      "\n",
      "Passing literal json to 'read_json' is deprecated and will be removed in a future version. To read from a literal string, wrap it in a 'StringIO' object.\n",
      "\n"
     ]
    },
    {
     "name": "stderr",
     "output_type": "stream",
     "text": [
      "<string>:29: FutureWarning:\n",
      "\n",
      "Passing literal json to 'read_json' is deprecated and will be removed in a future version. To read from a literal string, wrap it in a 'StringIO' object.\n",
      "\n"
     ]
    },
    {
     "name": "stderr",
     "output_type": "stream",
     "text": [
      "<string>:29: FutureWarning:\n",
      "\n",
      "Passing literal json to 'read_json' is deprecated and will be removed in a future version. To read from a literal string, wrap it in a 'StringIO' object.\n",
      "\n"
     ]
    },
    {
     "data": {
      "text/html": [
       "        <script type=\"text/javascript\">\n",
       "        window.PlotlyConfig = {MathJaxConfig: 'local'};\n",
       "        if (window.MathJax && window.MathJax.Hub && window.MathJax.Hub.Config) {window.MathJax.Hub.Config({SVG: {font: \"STIX-Web\"}});}\n",
       "        if (typeof require !== 'undefined') {\n",
       "        require.undef(\"plotly\");\n",
       "        requirejs.config({\n",
       "            paths: {\n",
       "                'plotly': ['https://cdn.plot.ly/plotly-2.29.1.min']\n",
       "            }\n",
       "        });\n",
       "        require(['plotly'], function(Plotly) {\n",
       "            window._Plotly = Plotly;\n",
       "        });\n",
       "        }\n",
       "        </script>\n",
       "        "
      ]
     },
     "metadata": {},
     "output_type": "display_data"
    },
    {
     "data": {
      "text/html": [
       "<div>                            <div id=\"f707a813-ece9-4098-bcd3-343db7c464a9\" class=\"plotly-graph-div\" style=\"height:500px; width:800px;\"></div>            <script type=\"text/javascript\">                require([\"plotly\"], function(Plotly) {                    window.PLOTLYENV=window.PLOTLYENV || {};                                    if (document.getElementById(\"f707a813-ece9-4098-bcd3-343db7c464a9\")) {                    Plotly.newPlot(                        \"f707a813-ece9-4098-bcd3-343db7c464a9\",                        [{\"hovertemplate\":\"variable=0\\u003cbr\\u003eFecha=%{x}\\u003cbr\\u003evalue=%{y}\\u003cextra\\u003e\\u003c\\u002fextra\\u003e\",\"legendgroup\":\"0\",\"line\":{\"color\":\"#636efa\",\"dash\":\"solid\"},\"marker\":{\"symbol\":\"circle\"},\"mode\":\"lines\",\"name\":\"0\",\"orientation\":\"v\",\"showlegend\":true,\"x\":[\"2024-05-01T00:00:00\",\"2024-04-01T00:00:00\",\"2024-03-01T00:00:00\",\"2024-03-01T00:00:00\",\"2024-02-01T00:00:00\",\"2024-02-01T00:00:00\",\"2024-01-01T00:00:00\",\"2024-01-01T00:00:00\",\"2023-12-01T00:00:00\",\"2023-12-01T00:00:00\",\"2023-11-01T00:00:00\",\"2023-11-01T00:00:00\",\"2023-10-01T00:00:00\",\"2023-10-01T00:00:00\",\"2023-09-01T00:00:00\",\"2023-09-01T00:00:00\",\"2023-08-01T00:00:00\",\"2023-08-01T00:00:00\",\"2023-07-01T00:00:00\",\"2023-07-01T00:00:00\",\"2023-06-01T00:00:00\",\"2023-06-01T00:00:00\",\"2023-05-01T00:00:00\",\"2023-05-01T00:00:00\",\"2023-04-01T00:00:00\",\"2023-04-01T00:00:00\",\"2023-03-01T00:00:00\",\"2023-03-01T00:00:00\",\"2023-02-01T00:00:00\",\"2023-02-01T00:00:00\",\"2023-01-01T00:00:00\",\"2023-01-01T00:00:00\",\"2022-12-01T00:00:00\",\"2022-12-01T00:00:00\",\"2022-11-01T00:00:00\",\"2022-11-01T00:00:00\",\"2022-10-01T00:00:00\",\"2022-10-01T00:00:00\",\"2022-09-01T00:00:00\",\"2022-09-01T00:00:00\",\"2022-08-01T00:00:00\",\"2022-08-01T00:00:00\",\"2022-07-01T00:00:00\",\"2022-07-01T00:00:00\",\"2022-06-01T00:00:00\",\"2022-06-01T00:00:00\",\"2022-05-01T00:00:00\",\"2022-05-01T00:00:00\",\"2022-04-01T00:00:00\",\"2022-04-01T00:00:00\",\"2022-03-01T00:00:00\",\"2022-03-01T00:00:00\",\"2022-02-01T00:00:00\",\"2022-02-01T00:00:00\",\"2022-01-01T00:00:00\",\"2022-01-01T00:00:00\",\"2021-12-01T00:00:00\",\"2021-12-01T00:00:00\",\"2021-11-01T00:00:00\",\"2021-11-01T00:00:00\",\"2021-10-01T00:00:00\",\"2021-10-01T00:00:00\",\"2021-09-01T00:00:00\",\"2021-09-01T00:00:00\",\"2021-08-01T00:00:00\",\"2021-08-01T00:00:00\",\"2021-07-01T00:00:00\",\"2021-07-01T00:00:00\",\"2021-06-01T00:00:00\",\"2021-06-01T00:00:00\",\"2021-05-01T00:00:00\",\"2021-05-01T00:00:00\",\"2021-04-01T00:00:00\",\"2021-04-01T00:00:00\",\"2021-03-01T00:00:00\",\"2021-03-01T00:00:00\",\"2021-02-01T00:00:00\",\"2021-02-01T00:00:00\",\"2021-01-01T00:00:00\",\"2021-01-01T00:00:00\",\"2020-12-01T00:00:00\",\"2020-12-01T00:00:00\",\"2020-11-01T00:00:00\",\"2020-11-01T00:00:00\",\"2020-10-01T00:00:00\",\"2020-10-01T00:00:00\",\"2020-09-01T00:00:00\",\"2020-09-01T00:00:00\",\"2020-08-01T00:00:00\",\"2020-08-01T00:00:00\",\"2020-07-01T00:00:00\",\"2020-07-01T00:00:00\",\"2020-06-01T00:00:00\",\"2020-06-01T00:00:00\",\"2020-05-01T00:00:00\",\"2020-05-01T00:00:00\",\"2020-04-01T00:00:00\",\"2020-04-01T00:00:00\",\"2020-03-01T00:00:00\",\"2020-03-01T00:00:00\",\"2020-02-01T00:00:00\",\"2020-02-01T00:00:00\",\"2020-01-01T00:00:00\",\"2020-01-01T00:00:00\",\"2019-12-01T00:00:00\",\"2019-12-01T00:00:00\",\"2019-11-01T00:00:00\",\"2019-11-01T00:00:00\",\"2019-10-01T00:00:00\",\"2019-10-01T00:00:00\",\"2019-09-01T00:00:00\",\"2019-09-01T00:00:00\",\"2019-08-01T00:00:00\",\"2019-08-01T00:00:00\",\"2019-07-01T00:00:00\",\"2019-07-01T00:00:00\",\"2019-06-01T00:00:00\",\"2019-06-01T00:00:00\",\"2019-05-01T00:00:00\",\"2019-05-01T00:00:00\",\"2019-04-01T00:00:00\",\"2019-04-01T00:00:00\",\"2019-03-01T00:00:00\",\"2019-03-01T00:00:00\",\"2019-02-01T00:00:00\",\"2019-02-01T00:00:00\",\"2019-01-01T00:00:00\",\"2019-01-01T00:00:00\",\"2018-12-01T00:00:00\",\"2018-12-01T00:00:00\",\"2018-11-01T00:00:00\",\"2018-11-01T00:00:00\",\"2018-10-01T00:00:00\",\"2018-10-01T00:00:00\",\"2018-09-01T00:00:00\",\"2018-09-01T00:00:00\",\"2018-08-01T00:00:00\",\"2018-08-01T00:00:00\",\"2018-07-01T00:00:00\",\"2018-07-01T00:00:00\",\"2018-06-01T00:00:00\",\"2018-06-01T00:00:00\",\"2018-05-01T00:00:00\",\"2018-05-01T00:00:00\",\"2018-04-01T00:00:00\",\"2018-04-01T00:00:00\",\"2018-03-01T00:00:00\",\"2018-03-01T00:00:00\",\"2018-02-01T00:00:00\",\"2018-02-01T00:00:00\",\"2018-01-01T00:00:00\",\"2018-01-01T00:00:00\",\"2017-12-01T00:00:00\",\"2017-12-01T00:00:00\",\"2017-11-01T00:00:00\",\"2017-11-01T00:00:00\",\"2017-10-01T00:00:00\",\"2017-10-01T00:00:00\",\"2017-09-01T00:00:00\",\"2017-09-01T00:00:00\",\"2017-08-01T00:00:00\",\"2017-08-01T00:00:00\",\"2017-07-01T00:00:00\",\"2017-07-01T00:00:00\",\"2017-06-01T00:00:00\",\"2017-06-01T00:00:00\",\"2017-05-01T00:00:00\",\"2017-05-01T00:00:00\",\"2017-04-01T00:00:00\",\"2017-04-01T00:00:00\",\"2017-03-01T00:00:00\",\"2017-03-01T00:00:00\",\"2017-02-01T00:00:00\",\"2017-02-01T00:00:00\",\"2017-01-01T00:00:00\",\"2017-01-01T00:00:00\",\"2016-12-01T00:00:00\",\"2016-12-01T00:00:00\",\"2016-11-01T00:00:00\",\"2016-11-01T00:00:00\",\"2016-10-01T00:00:00\",\"2016-10-01T00:00:00\",\"2016-09-01T00:00:00\",\"2016-09-01T00:00:00\",\"2016-08-01T00:00:00\",\"2016-08-01T00:00:00\",\"2016-07-01T00:00:00\",\"2016-07-01T00:00:00\",\"2016-06-01T00:00:00\",\"2016-06-01T00:00:00\",\"2016-05-01T00:00:00\",\"2016-05-01T00:00:00\",\"2016-04-01T00:00:00\",\"2016-04-01T00:00:00\",\"2016-03-01T00:00:00\",\"2016-03-01T00:00:00\",\"2016-02-01T00:00:00\",\"2016-02-01T00:00:00\",\"2016-01-01T00:00:00\",\"2016-01-01T00:00:00\",\"2015-12-01T00:00:00\",\"2015-12-01T00:00:00\",\"2015-11-01T00:00:00\",\"2015-11-01T00:00:00\",\"2015-10-01T00:00:00\",\"2015-10-01T00:00:00\",\"2015-09-01T00:00:00\",\"2015-09-01T00:00:00\",\"2015-08-01T00:00:00\",\"2015-08-01T00:00:00\",\"2015-07-01T00:00:00\",\"2015-07-01T00:00:00\",\"2015-06-01T00:00:00\",\"2015-06-01T00:00:00\",\"2015-05-01T00:00:00\",\"2015-05-01T00:00:00\",\"2015-04-01T00:00:00\",\"2015-04-01T00:00:00\",\"2015-03-01T00:00:00\",\"2015-03-01T00:00:00\",\"2015-02-01T00:00:00\",\"2015-02-01T00:00:00\",\"2015-01-01T00:00:00\",\"2015-01-01T00:00:00\",\"2014-12-01T00:00:00\",\"2014-12-01T00:00:00\",\"2014-11-01T00:00:00\",\"2014-11-01T00:00:00\",\"2014-10-01T00:00:00\",\"2014-10-01T00:00:00\",\"2014-09-01T00:00:00\",\"2014-09-01T00:00:00\",\"2014-08-01T00:00:00\",\"2014-08-01T00:00:00\",\"2014-07-01T00:00:00\",\"2014-07-01T00:00:00\",\"2014-06-01T00:00:00\",\"2014-06-01T00:00:00\",\"2014-05-01T00:00:00\",\"2014-05-01T00:00:00\",\"2014-04-01T00:00:00\",\"2014-04-01T00:00:00\",\"2014-03-01T00:00:00\",\"2014-03-01T00:00:00\",\"2014-02-01T00:00:00\",\"2014-02-01T00:00:00\",\"2014-01-01T00:00:00\",\"2014-01-01T00:00:00\",\"2013-12-01T00:00:00\",\"2013-12-01T00:00:00\",\"2013-11-01T00:00:00\",\"2013-11-01T00:00:00\",\"2013-10-01T00:00:00\",\"2013-10-01T00:00:00\",\"2013-09-01T00:00:00\",\"2013-09-01T00:00:00\",\"2013-08-01T00:00:00\",\"2013-08-01T00:00:00\",\"2013-07-01T00:00:00\",\"2013-07-01T00:00:00\",\"2013-06-01T00:00:00\",\"2013-06-01T00:00:00\",\"2013-05-01T00:00:00\",\"2013-05-01T00:00:00\",\"2013-04-01T00:00:00\",\"2013-04-01T00:00:00\",\"2013-03-01T00:00:00\",\"2013-03-01T00:00:00\",\"2013-02-01T00:00:00\",\"2013-02-01T00:00:00\",\"2013-01-01T00:00:00\",\"2013-01-01T00:00:00\",\"2012-12-01T00:00:00\",\"2012-12-01T00:00:00\",\"2012-11-01T00:00:00\",\"2012-11-01T00:00:00\",\"2012-10-01T00:00:00\",\"2012-10-01T00:00:00\",\"2012-09-01T00:00:00\",\"2012-09-01T00:00:00\",\"2012-08-01T00:00:00\",\"2012-08-01T00:00:00\",\"2012-07-01T00:00:00\",\"2012-07-01T00:00:00\",\"2012-06-01T00:00:00\",\"2012-06-01T00:00:00\",\"2012-05-01T00:00:00\",\"2012-05-01T00:00:00\",\"2012-04-01T00:00:00\",\"2012-04-01T00:00:00\",\"2012-03-01T00:00:00\",\"2012-03-01T00:00:00\",\"2012-02-01T00:00:00\",\"2012-02-01T00:00:00\",\"2012-01-01T00:00:00\",\"2012-01-01T00:00:00\",\"2011-12-01T00:00:00\",\"2011-12-01T00:00:00\",\"2011-11-01T00:00:00\",\"2011-11-01T00:00:00\",\"2011-10-01T00:00:00\",\"2011-10-01T00:00:00\",\"2011-09-01T00:00:00\",\"2011-09-01T00:00:00\",\"2011-08-01T00:00:00\",\"2011-08-01T00:00:00\",\"2011-07-01T00:00:00\",\"2011-07-01T00:00:00\",\"2011-06-01T00:00:00\",\"2011-06-01T00:00:00\",\"2011-05-01T00:00:00\",\"2011-05-01T00:00:00\",\"2011-04-01T00:00:00\",\"2011-04-01T00:00:00\",\"2011-03-01T00:00:00\",\"2011-03-01T00:00:00\",\"2011-02-01T00:00:00\",\"2011-02-01T00:00:00\",\"2011-01-01T00:00:00\",\"2011-01-01T00:00:00\",\"2010-12-01T00:00:00\",\"2010-12-01T00:00:00\",\"2010-11-01T00:00:00\",\"2010-11-01T00:00:00\",\"2010-10-01T00:00:00\",\"2010-10-01T00:00:00\",\"2010-09-01T00:00:00\",\"2010-09-01T00:00:00\",\"2010-08-01T00:00:00\",\"2010-08-01T00:00:00\",\"2010-07-01T00:00:00\",\"2010-07-01T00:00:00\",\"2010-06-01T00:00:00\",\"2010-06-01T00:00:00\",\"2010-05-01T00:00:00\",\"2010-05-01T00:00:00\",\"2010-04-01T00:00:00\",\"2010-04-01T00:00:00\",\"2010-03-01T00:00:00\",\"2010-03-01T00:00:00\",\"2010-02-01T00:00:00\",\"2010-02-01T00:00:00\",\"2010-01-01T00:00:00\",\"2010-01-01T00:00:00\",\"2009-12-01T00:00:00\",\"2009-12-01T00:00:00\",\"2009-11-01T00:00:00\",\"2009-11-01T00:00:00\",\"2009-10-01T00:00:00\",\"2009-10-01T00:00:00\",\"2009-09-01T00:00:00\",\"2009-09-01T00:00:00\",\"2009-08-01T00:00:00\",\"2009-08-01T00:00:00\",\"2009-07-01T00:00:00\",\"2009-07-01T00:00:00\",\"2009-06-01T00:00:00\",\"2009-06-01T00:00:00\",\"2009-05-01T00:00:00\",\"2009-05-01T00:00:00\",\"2009-04-01T00:00:00\",\"2009-04-01T00:00:00\",\"2009-03-01T00:00:00\",\"2009-03-01T00:00:00\",\"2009-02-01T00:00:00\",\"2009-02-01T00:00:00\",\"2009-01-01T00:00:00\",\"2009-01-01T00:00:00\",\"2008-12-01T00:00:00\",\"2008-12-01T00:00:00\",\"2008-11-01T00:00:00\",\"2008-11-01T00:00:00\",\"2008-10-01T00:00:00\",\"2008-10-01T00:00:00\",\"2008-09-01T00:00:00\",\"2008-09-01T00:00:00\",\"2008-08-01T00:00:00\",\"2008-08-01T00:00:00\",\"2008-07-01T00:00:00\",\"2008-07-01T00:00:00\",\"2008-06-01T00:00:00\",\"2008-06-01T00:00:00\",\"2008-05-01T00:00:00\",\"2008-05-01T00:00:00\",\"2008-04-01T00:00:00\",\"2008-04-01T00:00:00\",\"2008-03-01T00:00:00\",\"2008-03-01T00:00:00\",\"2008-02-01T00:00:00\",\"2008-02-01T00:00:00\",\"2008-01-01T00:00:00\",\"2008-01-01T00:00:00\",\"2007-12-01T00:00:00\",\"2007-12-01T00:00:00\",\"2007-11-01T00:00:00\",\"2007-11-01T00:00:00\",\"2007-10-01T00:00:00\",\"2007-10-01T00:00:00\",\"2007-09-01T00:00:00\",\"2007-09-01T00:00:00\",\"2007-08-01T00:00:00\",\"2007-08-01T00:00:00\",\"2007-07-01T00:00:00\",\"2007-07-01T00:00:00\",\"2007-06-01T00:00:00\",\"2007-06-01T00:00:00\",\"2007-05-01T00:00:00\",\"2007-05-01T00:00:00\",\"2007-04-01T00:00:00\",\"2007-04-01T00:00:00\",\"2007-03-01T00:00:00\",\"2007-03-01T00:00:00\",\"2007-02-01T00:00:00\",\"2007-02-01T00:00:00\",\"2007-01-01T00:00:00\",\"2007-01-01T00:00:00\",\"2006-12-01T00:00:00\",\"2006-12-01T00:00:00\",\"2006-11-01T00:00:00\",\"2006-11-01T00:00:00\",\"2006-10-01T00:00:00\",\"2006-10-01T00:00:00\",\"2006-09-01T00:00:00\",\"2006-09-01T00:00:00\",\"2006-08-01T00:00:00\",\"2006-08-01T00:00:00\",\"2006-07-01T00:00:00\",\"2006-07-01T00:00:00\",\"2006-06-01T00:00:00\",\"2006-06-01T00:00:00\",\"2006-05-01T00:00:00\",\"2006-05-01T00:00:00\",\"2006-04-01T00:00:00\",\"2006-04-01T00:00:00\",\"2006-03-01T00:00:00\",\"2006-03-01T00:00:00\",\"2006-02-01T00:00:00\",\"2006-02-01T00:00:00\",\"2006-01-01T00:00:00\",\"2006-01-01T00:00:00\",\"2005-12-01T00:00:00\",\"2005-12-01T00:00:00\",\"2005-11-01T00:00:00\",\"2005-11-01T00:00:00\",\"2005-10-01T00:00:00\",\"2005-10-01T00:00:00\",\"2005-09-01T00:00:00\",\"2005-09-01T00:00:00\",\"2005-08-01T00:00:00\",\"2005-08-01T00:00:00\",\"2005-07-01T00:00:00\",\"2005-07-01T00:00:00\",\"2005-06-01T00:00:00\",\"2005-06-01T00:00:00\",\"2005-05-01T00:00:00\",\"2005-05-01T00:00:00\",\"2005-04-01T00:00:00\",\"2005-04-01T00:00:00\",\"2005-03-01T00:00:00\",\"2005-03-01T00:00:00\",\"2005-02-01T00:00:00\",\"2005-02-01T00:00:00\",\"2005-01-01T00:00:00\",\"2005-01-01T00:00:00\",\"2004-12-01T00:00:00\",\"2004-12-01T00:00:00\",\"2004-11-01T00:00:00\",\"2004-11-01T00:00:00\",\"2004-10-01T00:00:00\",\"2004-10-01T00:00:00\",\"2004-09-01T00:00:00\",\"2004-09-01T00:00:00\",\"2004-08-01T00:00:00\",\"2004-08-01T00:00:00\",\"2004-07-01T00:00:00\",\"2004-07-01T00:00:00\",\"2004-06-01T00:00:00\",\"2004-06-01T00:00:00\",\"2004-05-01T00:00:00\",\"2004-05-01T00:00:00\",\"2004-04-01T00:00:00\",\"2004-04-01T00:00:00\",\"2004-03-01T00:00:00\",\"2004-03-01T00:00:00\",\"2004-02-01T00:00:00\",\"2004-02-01T00:00:00\",\"2004-01-01T00:00:00\",\"2004-01-01T00:00:00\",\"2003-12-01T00:00:00\",\"2003-12-01T00:00:00\",\"2003-11-01T00:00:00\",\"2003-11-01T00:00:00\",\"2003-10-01T00:00:00\",\"2003-10-01T00:00:00\",\"2003-09-01T00:00:00\",\"2003-09-01T00:00:00\",\"2003-08-01T00:00:00\",\"2003-08-01T00:00:00\",\"2003-07-01T00:00:00\",\"2003-07-01T00:00:00\",\"2003-06-01T00:00:00\",\"2003-06-01T00:00:00\",\"2003-05-01T00:00:00\",\"2003-05-01T00:00:00\",\"2003-04-01T00:00:00\",\"2003-04-01T00:00:00\",\"2003-03-01T00:00:00\",\"2003-03-01T00:00:00\",\"2003-02-01T00:00:00\",\"2003-02-01T00:00:00\",\"2003-01-01T00:00:00\",\"2003-01-01T00:00:00\",\"2002-12-01T00:00:00\",\"2002-12-01T00:00:00\",\"2002-11-01T00:00:00\",\"2002-11-01T00:00:00\",\"2002-10-01T00:00:00\",\"2002-10-01T00:00:00\",\"2002-09-01T00:00:00\",\"2002-09-01T00:00:00\",\"2002-08-01T00:00:00\",\"2002-08-01T00:00:00\",\"2002-07-01T00:00:00\",\"2002-07-01T00:00:00\",\"2002-06-01T00:00:00\",\"2002-06-01T00:00:00\",\"2002-05-01T00:00:00\",\"2002-05-01T00:00:00\",\"2002-04-01T00:00:00\",\"2002-04-01T00:00:00\",\"2002-03-01T00:00:00\",\"2002-03-01T00:00:00\",\"2002-02-01T00:00:00\",\"2002-02-01T00:00:00\",\"2002-01-01T00:00:00\",\"2002-01-01T00:00:00\",\"2001-12-01T00:00:00\",\"2001-12-01T00:00:00\",\"2001-11-01T00:00:00\",\"2001-11-01T00:00:00\",\"2001-10-01T00:00:00\",\"2001-10-01T00:00:00\",\"2001-09-01T00:00:00\",\"2001-09-01T00:00:00\",\"2001-08-01T00:00:00\",\"2001-08-01T00:00:00\",\"2001-07-01T00:00:00\",\"2001-07-01T00:00:00\",\"2001-06-01T00:00:00\",\"2001-06-01T00:00:00\",\"2001-05-01T00:00:00\",\"2001-05-01T00:00:00\",\"2001-04-01T00:00:00\",\"2001-04-01T00:00:00\",\"2001-03-01T00:00:00\",\"2001-03-01T00:00:00\",\"2001-02-01T00:00:00\",\"2001-02-01T00:00:00\",\"2001-01-01T00:00:00\",\"2001-01-01T00:00:00\",\"2000-12-01T00:00:00\",\"2000-12-01T00:00:00\",\"2000-11-01T00:00:00\",\"2000-11-01T00:00:00\",\"2000-10-01T00:00:00\",\"2000-10-01T00:00:00\",\"2000-09-01T00:00:00\",\"2000-09-01T00:00:00\",\"2000-08-01T00:00:00\",\"2000-08-01T00:00:00\",\"2000-07-01T00:00:00\",\"2000-07-01T00:00:00\",\"2000-06-01T00:00:00\",\"2000-06-01T00:00:00\",\"2000-05-01T00:00:00\",\"2000-05-01T00:00:00\",\"2000-04-01T00:00:00\",\"2000-04-01T00:00:00\",\"2000-03-01T00:00:00\",\"2000-03-01T00:00:00\",\"2000-02-01T00:00:00\",\"2000-02-01T00:00:00\",\"2000-01-01T00:00:00\",\"2000-01-01T00:00:00\",\"1999-12-01T00:00:00\",\"1999-12-01T00:00:00\",\"1999-11-01T00:00:00\",\"1999-11-01T00:00:00\",\"1999-10-01T00:00:00\",\"1999-10-01T00:00:00\",\"1999-09-01T00:00:00\",\"1999-09-01T00:00:00\",\"1999-08-01T00:00:00\",\"1999-08-01T00:00:00\",\"1999-07-01T00:00:00\",\"1999-07-01T00:00:00\",\"1999-06-01T00:00:00\",\"1999-06-01T00:00:00\",\"1999-05-01T00:00:00\",\"1999-05-01T00:00:00\",\"1999-04-01T00:00:00\",\"1999-04-01T00:00:00\",\"1999-03-01T00:00:00\",\"1999-03-01T00:00:00\",\"1999-02-01T00:00:00\",\"1999-02-01T00:00:00\",\"1999-01-01T00:00:00\",\"1999-01-01T00:00:00\",\"1998-12-01T00:00:00\",\"1998-12-01T00:00:00\",\"1998-11-01T00:00:00\",\"1998-11-01T00:00:00\",\"1998-10-01T00:00:00\",\"1998-10-01T00:00:00\",\"1998-09-01T00:00:00\",\"1998-09-01T00:00:00\",\"1998-08-01T00:00:00\",\"1998-08-01T00:00:00\",\"1998-07-01T00:00:00\",\"1998-07-01T00:00:00\",\"1998-06-01T00:00:00\",\"1998-06-01T00:00:00\",\"1998-05-01T00:00:00\",\"1998-05-01T00:00:00\",\"1998-04-01T00:00:00\",\"1998-04-01T00:00:00\",\"1998-03-01T00:00:00\",\"1998-03-01T00:00:00\",\"1998-02-01T00:00:00\",\"1998-02-01T00:00:00\",\"1998-01-01T00:00:00\",\"1998-01-01T00:00:00\",\"1997-12-01T00:00:00\",\"1997-12-01T00:00:00\",\"1997-11-01T00:00:00\",\"1997-11-01T00:00:00\",\"1997-10-01T00:00:00\",\"1997-10-01T00:00:00\",\"1997-09-01T00:00:00\",\"1997-09-01T00:00:00\",\"1997-08-01T00:00:00\",\"1997-08-01T00:00:00\",\"1997-07-01T00:00:00\",\"1997-07-01T00:00:00\",\"1997-06-01T00:00:00\",\"1997-06-01T00:00:00\",\"1997-05-01T00:00:00\",\"1997-05-01T00:00:00\",\"1997-04-01T00:00:00\",\"1997-04-01T00:00:00\",\"1997-03-01T00:00:00\",\"1997-03-01T00:00:00\",\"1997-02-01T00:00:00\",\"1997-02-01T00:00:00\",\"1997-01-01T00:00:00\",\"1997-01-01T00:00:00\",\"1996-12-01T00:00:00\",\"1996-12-01T00:00:00\",\"1996-11-01T00:00:00\",\"1996-11-01T00:00:00\",\"1996-10-01T00:00:00\",\"1996-10-01T00:00:00\",\"1996-09-01T00:00:00\",\"1996-09-01T00:00:00\",\"1996-08-01T00:00:00\",\"1996-08-01T00:00:00\",\"1996-07-01T00:00:00\",\"1996-07-01T00:00:00\",\"1996-06-01T00:00:00\",\"1996-06-01T00:00:00\",\"1996-05-01T00:00:00\",\"1996-05-01T00:00:00\",\"1996-04-01T00:00:00\",\"1996-04-01T00:00:00\",\"1996-03-01T00:00:00\",\"1996-03-01T00:00:00\",\"1996-02-01T00:00:00\",\"1996-02-01T00:00:00\",\"1996-01-01T00:00:00\",\"1996-01-01T00:00:00\",\"1995-12-01T00:00:00\",\"1995-12-01T00:00:00\",\"1995-11-01T00:00:00\",\"1995-11-01T00:00:00\",\"1995-10-01T00:00:00\",\"1995-10-01T00:00:00\",\"1995-09-01T00:00:00\",\"1995-09-01T00:00:00\",\"1995-08-01T00:00:00\",\"1995-08-01T00:00:00\",\"1995-07-01T00:00:00\",\"1995-07-01T00:00:00\",\"1995-06-01T00:00:00\",\"1995-06-01T00:00:00\",\"1995-05-01T00:00:00\",\"1995-05-01T00:00:00\",\"1995-04-01T00:00:00\",\"1995-04-01T00:00:00\",\"1995-03-01T00:00:00\",\"1995-03-01T00:00:00\",\"1995-02-01T00:00:00\",\"1995-02-01T00:00:00\",\"1995-01-01T00:00:00\",\"1995-01-01T00:00:00\",\"1994-12-01T00:00:00\",\"1994-12-01T00:00:00\",\"1994-11-01T00:00:00\",\"1994-11-01T00:00:00\",\"1994-10-01T00:00:00\",\"1994-10-01T00:00:00\",\"1994-09-01T00:00:00\",\"1994-09-01T00:00:00\",\"1994-08-01T00:00:00\",\"1994-08-01T00:00:00\",\"1994-07-01T00:00:00\",\"1994-07-01T00:00:00\",\"1994-06-01T00:00:00\",\"1994-06-01T00:00:00\",\"1994-05-01T00:00:00\",\"1994-05-01T00:00:00\",\"1994-04-01T00:00:00\",\"1994-04-01T00:00:00\",\"1994-03-01T00:00:00\",\"1994-03-01T00:00:00\",\"1994-02-01T00:00:00\",\"1994-02-01T00:00:00\",\"1994-01-01T00:00:00\",\"1994-01-01T00:00:00\",\"1993-12-01T00:00:00\",\"1993-12-01T00:00:00\",\"1993-11-01T00:00:00\",\"1993-11-01T00:00:00\",\"1993-10-01T00:00:00\",\"1993-10-01T00:00:00\",\"1993-09-01T00:00:00\",\"1993-09-01T00:00:00\",\"1993-08-01T00:00:00\",\"1993-08-01T00:00:00\",\"1993-07-01T00:00:00\",\"1993-07-01T00:00:00\",\"1993-06-01T00:00:00\",\"1993-06-01T00:00:00\",\"1993-05-01T00:00:00\",\"1993-05-01T00:00:00\",\"1993-04-01T00:00:00\",\"1993-04-01T00:00:00\",\"1993-03-01T00:00:00\",\"1993-03-01T00:00:00\",\"1993-02-01T00:00:00\",\"1993-02-01T00:00:00\",\"1993-01-01T00:00:00\",\"1993-01-01T00:00:00\",\"1992-12-01T00:00:00\",\"1992-12-01T00:00:00\",\"1992-11-01T00:00:00\",\"1992-11-01T00:00:00\",\"1992-10-01T00:00:00\",\"1992-10-01T00:00:00\",\"1992-09-01T00:00:00\",\"1992-09-01T00:00:00\",\"1992-08-01T00:00:00\",\"1992-08-01T00:00:00\",\"1992-07-01T00:00:00\",\"1992-07-01T00:00:00\",\"1992-06-01T00:00:00\",\"1992-06-01T00:00:00\",\"1992-05-01T00:00:00\",\"1992-05-01T00:00:00\",\"1992-04-01T00:00:00\",\"1992-04-01T00:00:00\",\"1992-03-01T00:00:00\",\"1992-03-01T00:00:00\",\"1992-02-01T00:00:00\",\"1992-02-01T00:00:00\",\"1992-01-01T00:00:00\",\"1992-01-01T00:00:00\",\"1991-12-01T00:00:00\",\"1991-12-01T00:00:00\",\"1991-11-01T00:00:00\",\"1991-11-01T00:00:00\",\"1991-10-01T00:00:00\",\"1991-10-01T00:00:00\",\"1991-09-01T00:00:00\",\"1991-09-01T00:00:00\",\"1991-08-01T00:00:00\",\"1991-08-01T00:00:00\",\"1991-07-01T00:00:00\",\"1991-07-01T00:00:00\",\"1991-06-01T00:00:00\",\"1991-06-01T00:00:00\",\"1991-05-01T00:00:00\",\"1991-05-01T00:00:00\",\"1991-04-01T00:00:00\",\"1991-04-01T00:00:00\",\"1991-03-01T00:00:00\",\"1991-03-01T00:00:00\",\"1991-02-01T00:00:00\",\"1991-02-01T00:00:00\",\"1991-01-01T00:00:00\",\"1991-01-01T00:00:00\"],\"xaxis\":\"x\",\"y\":[433.5,432.8,431.6,431.6,429.5,429.5,426.6,426.6,425.6,425.6,423.4,423.4,422.5,422.5,420.9,420.9,418.7,418.7,416.6,416.6,414.7,414.7,413.1,413.1,412.8,412.8,412.0,412.0,411.0,411.0,406.3,406.3,404.6,404.6,403.1,403.1,399.2,399.2,396.6,396.6,396.1,396.1,396.2,396.2,392.7,392.7,387.6,387.6,384.2,384.2,377.8,377.8,374.3,374.3,373.0,373.0,368.5,368.5,365.0,365.0,362.3,362.3,360.4,360.4,358.8,358.8,357.4,357.4,356.3,356.3,355.3,355.3,354.6,354.6,353.2,353.2,351.9,351.9,351.3,351.3,349.9,349.9,347.8,347.8,346.2,346.2,344.5,344.5,343.4,343.4,342.8,342.8,340.4,340.4,338.9,338.9,341.1,341.1,339.8,339.8,338.8,338.8,337.2,337.2,336.4,336.4,335.0,335.0,334.0,334.0,333.2,333.2,332.7,332.7,332.5,332.5,331.6,331.6,331.3,331.3,330.1,330.1,327.1,327.1,325.8,325.8,323.3,323.3,323.2,323.2,322.6,322.6,320.9,320.9,319.1,319.1,319.0,319.0,317.6,317.6,316.4,316.4,315.1,315.1,314.8,314.8,314.1,314.1,313.0,313.0,311.0,311.0,310.1,310.1,308.1,308.1,306.6,306.6,305.7,305.7,305.7,305.7,304.7,304.7,303.8,303.8,303.0,303.0,302.1,302.1,301.0,301.0,300.0,300.0,297.4,297.4,296.1,296.1,295.3,295.3,294.9,294.9,294.9,294.9,294.4,294.4,294.0,294.0,293.1,293.1,291.2,291.2,290.2,290.2,289.6,289.6,288.9,288.9,287.5,287.5,286.6,286.6,286.6,286.6,286.8,286.8,286.6,286.6,287.2,287.2,287.1,287.1,286.1,286.1,284.5,284.5,283.3,283.3,282.6,282.6,280.7,280.7,278.9,278.9,280.0,280.0,280.7,280.7,279.7,279.7,278.9,278.9,278.6,278.6,278.2,278.2,276.1,276.1,274.9,274.9,273.5,273.5,272.4,272.4,270.8,270.8,268.6,268.6,264.6,264.6,263.8,263.8,263.1,263.1,262.8,262.8,262.0,262.0,261.0,261.0,259.9,259.9,258.8,258.8,258.1,258.1,257.5,257.5,256.1,256.1,253.4,253.4,252.2,252.2,251.9,251.9,251.5,251.5,250.4,250.4,248.6,248.6,247.1,247.1,246.9,246.9,246.9,246.9,246.6,246.6,243.9,243.9,242.1,242.1,239.8,239.8,239.3,239.3,238.9,238.9,238.0,238.0,237.8,237.8,238.3,238.3,237.4,237.4,235.8,235.8,234.8,234.8,233.4,233.4,230.8,230.8,229.2,229.2,227.6,227.6,226.6,226.6,226.6,226.6,224.7,224.7,222.6,222.6,221.3,221.3,220.3,220.3,218.9,218.9,218.0,218.0,217.6,217.6,216.5,216.5,215.5,215.5,214.0,214.0,212.8,212.8,212.9,212.9,212.4,212.4,211.9,211.9,211.7,211.7,211.5,211.5,210.0,210.0,208.9,208.9,208.9,208.9,208.2,208.2,208.2,208.2,206.6,206.6,206.7,206.7,206.5,206.5,206.9,206.9,205.6,205.6,205.3,205.3,203.4,203.4,199.2,199.2,196.8,196.8,193.3,193.3,191.4,191.4,189.7,189.7,187.7,187.7,186.5,186.5,186.2,186.2,183.0,183.0,180.8,180.8,180.1,180.1,178.8,178.8,177.6,177.6,176.9,176.9,176.2,176.2,175.2,175.2,173.9,173.9,172.4,172.4,171.3,171.3,169.9,169.9,169.0,169.0,168.8,168.8,168.8,168.8,168.2,168.2,167.3,167.3,166.8,166.8,165.7,165.7,164.8,164.8,164.4,164.4,163.3,163.3,162.7,162.7,162.0,162.0,161.7,161.7,161.6,161.6,161.0,161.0,159.7,159.7,158.3,158.3,157.2,157.2,156.6,156.6,155.2,155.2,154.0,154.0,152.2,152.2,151.0,151.0,150.4,150.4,149.1,149.1,147.8,147.8,147.6,147.6,147.1,147.1,145.2,145.2,144.3,144.3,143.2,143.2,141.7,141.7,141.2,141.2,139.6,139.6,138.3,138.3,137.9,137.9,137.0,137.0,136.4,136.4,135.8,135.8,134.6,134.6,134.1,134.1,133.7,133.7,133.5,133.5,132.8,132.8,132.3,132.3,130.6,130.6,129.5,129.5,128.6,128.6,127.8,127.8,127.1,127.1,126.9,126.9,126.1,126.1,125.1,125.1,123.7,123.7,123.1,123.1,122.2,122.2,121.5,121.5,120.2,120.2,119.8,119.8,119.4,119.4,118.8,118.8,118.6,118.6,117.7,117.7,116.9,116.9,116.3,116.3,115.6,115.6,114.2,114.2,113.5,113.5,112.5,112.5,111.1,111.1,110.1,110.1,109.5,109.5,108.3,108.3,107.7,107.7,107.5,107.5,107.0,107.0,106.3,106.3,105.3,105.3,104.3,104.3,103.0,103.0,102.0,102.0,100.5,100.5,100.0,100.0,99.0,99.0,98.0,98.0,97.1,97.1,96.4,96.4,95.7,95.7,94.9,94.9,93.8,93.8,93.1,93.1,92.8,92.8,92.5,92.5,91.7,91.7,90.14,90.14,89.49,89.49,88.38,88.38,87.88,87.88,87.62,87.62,87.49,87.49,85.8,85.8,84.32,84.32,83.32,83.32,81.9,81.9,80.54,80.54,78.59,78.59,77.94,77.94,77.78,77.78,77.19,77.19,77.39,77.39,77.15,77.15,76.2,76.2,75.15,75.15,74.2,74.2,73.28,73.28,72.85,72.85,72.3,72.3,70.56,70.56,69.12,69.12,68.43,68.43,67.09,67.09,66.12,66.12,65.01,65.01,63.25,63.25,61.83,61.83,60.31,60.31,59.08,59.08,57.89,57.89,57.0,57.0,55.43,55.43,55.15,55.15,54.32,54.32,53.57,53.57,52.59,52.59,51.54,51.54,50.86,50.86,50.19,50.19,49.73,49.73,48.84,48.84,47.62,47.62,46.96,46.96,44.74,44.74,43.5,43.5,42.97,42.97,41.68,41.68,40.97,40.97,40.71,40.71,39.86,39.86,38.8,38.8,38.03,38.03,36.59,36.59,35.6,35.6,35.24,35.24,34.21,34.21,33.74,33.74,33.53,33.53,33.21,33.21,32.98,32.98,33.17,33.17,32.81,32.81,31.85,31.85,31.39,31.39,31.12,31.12,30.51,30.51,30.3,30.3,30.02,30.02,29.86,29.86,29.58,29.58,29.25,29.25,29.1,29.1,29.09,29.09,28.98,28.98,28.87,28.87,28.85,28.85,28.74,28.74,28.45,28.45,28.38,28.38,28.07,28.07,28.03,28.03,27.96,27.96,27.73,27.73,27.46,27.46,27.57,27.57,27.23,27.23,26.81,26.81,26.34,26.34,26.04,26.04,25.21,25.21,24.88,24.88,24.09,24.09],\"yaxis\":\"y\",\"type\":\"scatter\"}],                        {\"template\":{\"data\":{\"barpolar\":[{\"marker\":{\"line\":{\"color\":\"white\",\"width\":0.5},\"pattern\":{\"fillmode\":\"overlay\",\"size\":10,\"solidity\":0.2}},\"type\":\"barpolar\"}],\"bar\":[{\"error_x\":{\"color\":\"#2a3f5f\"},\"error_y\":{\"color\":\"#2a3f5f\"},\"marker\":{\"line\":{\"color\":\"white\",\"width\":0.5},\"pattern\":{\"fillmode\":\"overlay\",\"size\":10,\"solidity\":0.2}},\"type\":\"bar\"}],\"carpet\":[{\"aaxis\":{\"endlinecolor\":\"#2a3f5f\",\"gridcolor\":\"#C8D4E3\",\"linecolor\":\"#C8D4E3\",\"minorgridcolor\":\"#C8D4E3\",\"startlinecolor\":\"#2a3f5f\"},\"baxis\":{\"endlinecolor\":\"#2a3f5f\",\"gridcolor\":\"#C8D4E3\",\"linecolor\":\"#C8D4E3\",\"minorgridcolor\":\"#C8D4E3\",\"startlinecolor\":\"#2a3f5f\"},\"type\":\"carpet\"}],\"choropleth\":[{\"colorbar\":{\"outlinewidth\":0,\"ticks\":\"\"},\"type\":\"choropleth\"}],\"contourcarpet\":[{\"colorbar\":{\"outlinewidth\":0,\"ticks\":\"\"},\"type\":\"contourcarpet\"}],\"contour\":[{\"colorbar\":{\"outlinewidth\":0,\"ticks\":\"\"},\"colorscale\":[[0.0,\"#0d0887\"],[0.1111111111111111,\"#46039f\"],[0.2222222222222222,\"#7201a8\"],[0.3333333333333333,\"#9c179e\"],[0.4444444444444444,\"#bd3786\"],[0.5555555555555556,\"#d8576b\"],[0.6666666666666666,\"#ed7953\"],[0.7777777777777778,\"#fb9f3a\"],[0.8888888888888888,\"#fdca26\"],[1.0,\"#f0f921\"]],\"type\":\"contour\"}],\"heatmapgl\":[{\"colorbar\":{\"outlinewidth\":0,\"ticks\":\"\"},\"colorscale\":[[0.0,\"#0d0887\"],[0.1111111111111111,\"#46039f\"],[0.2222222222222222,\"#7201a8\"],[0.3333333333333333,\"#9c179e\"],[0.4444444444444444,\"#bd3786\"],[0.5555555555555556,\"#d8576b\"],[0.6666666666666666,\"#ed7953\"],[0.7777777777777778,\"#fb9f3a\"],[0.8888888888888888,\"#fdca26\"],[1.0,\"#f0f921\"]],\"type\":\"heatmapgl\"}],\"heatmap\":[{\"colorbar\":{\"outlinewidth\":0,\"ticks\":\"\"},\"colorscale\":[[0.0,\"#0d0887\"],[0.1111111111111111,\"#46039f\"],[0.2222222222222222,\"#7201a8\"],[0.3333333333333333,\"#9c179e\"],[0.4444444444444444,\"#bd3786\"],[0.5555555555555556,\"#d8576b\"],[0.6666666666666666,\"#ed7953\"],[0.7777777777777778,\"#fb9f3a\"],[0.8888888888888888,\"#fdca26\"],[1.0,\"#f0f921\"]],\"type\":\"heatmap\"}],\"histogram2dcontour\":[{\"colorbar\":{\"outlinewidth\":0,\"ticks\":\"\"},\"colorscale\":[[0.0,\"#0d0887\"],[0.1111111111111111,\"#46039f\"],[0.2222222222222222,\"#7201a8\"],[0.3333333333333333,\"#9c179e\"],[0.4444444444444444,\"#bd3786\"],[0.5555555555555556,\"#d8576b\"],[0.6666666666666666,\"#ed7953\"],[0.7777777777777778,\"#fb9f3a\"],[0.8888888888888888,\"#fdca26\"],[1.0,\"#f0f921\"]],\"type\":\"histogram2dcontour\"}],\"histogram2d\":[{\"colorbar\":{\"outlinewidth\":0,\"ticks\":\"\"},\"colorscale\":[[0.0,\"#0d0887\"],[0.1111111111111111,\"#46039f\"],[0.2222222222222222,\"#7201a8\"],[0.3333333333333333,\"#9c179e\"],[0.4444444444444444,\"#bd3786\"],[0.5555555555555556,\"#d8576b\"],[0.6666666666666666,\"#ed7953\"],[0.7777777777777778,\"#fb9f3a\"],[0.8888888888888888,\"#fdca26\"],[1.0,\"#f0f921\"]],\"type\":\"histogram2d\"}],\"histogram\":[{\"marker\":{\"pattern\":{\"fillmode\":\"overlay\",\"size\":10,\"solidity\":0.2}},\"type\":\"histogram\"}],\"mesh3d\":[{\"colorbar\":{\"outlinewidth\":0,\"ticks\":\"\"},\"type\":\"mesh3d\"}],\"parcoords\":[{\"line\":{\"colorbar\":{\"outlinewidth\":0,\"ticks\":\"\"}},\"type\":\"parcoords\"}],\"pie\":[{\"automargin\":true,\"type\":\"pie\"}],\"scatter3d\":[{\"line\":{\"colorbar\":{\"outlinewidth\":0,\"ticks\":\"\"}},\"marker\":{\"colorbar\":{\"outlinewidth\":0,\"ticks\":\"\"}},\"type\":\"scatter3d\"}],\"scattercarpet\":[{\"marker\":{\"colorbar\":{\"outlinewidth\":0,\"ticks\":\"\"}},\"type\":\"scattercarpet\"}],\"scattergeo\":[{\"marker\":{\"colorbar\":{\"outlinewidth\":0,\"ticks\":\"\"}},\"type\":\"scattergeo\"}],\"scattergl\":[{\"marker\":{\"colorbar\":{\"outlinewidth\":0,\"ticks\":\"\"}},\"type\":\"scattergl\"}],\"scattermapbox\":[{\"marker\":{\"colorbar\":{\"outlinewidth\":0,\"ticks\":\"\"}},\"type\":\"scattermapbox\"}],\"scatterpolargl\":[{\"marker\":{\"colorbar\":{\"outlinewidth\":0,\"ticks\":\"\"}},\"type\":\"scatterpolargl\"}],\"scatterpolar\":[{\"marker\":{\"colorbar\":{\"outlinewidth\":0,\"ticks\":\"\"}},\"type\":\"scatterpolar\"}],\"scatter\":[{\"fillpattern\":{\"fillmode\":\"overlay\",\"size\":10,\"solidity\":0.2},\"type\":\"scatter\"}],\"scatterternary\":[{\"marker\":{\"colorbar\":{\"outlinewidth\":0,\"ticks\":\"\"}},\"type\":\"scatterternary\"}],\"surface\":[{\"colorbar\":{\"outlinewidth\":0,\"ticks\":\"\"},\"colorscale\":[[0.0,\"#0d0887\"],[0.1111111111111111,\"#46039f\"],[0.2222222222222222,\"#7201a8\"],[0.3333333333333333,\"#9c179e\"],[0.4444444444444444,\"#bd3786\"],[0.5555555555555556,\"#d8576b\"],[0.6666666666666666,\"#ed7953\"],[0.7777777777777778,\"#fb9f3a\"],[0.8888888888888888,\"#fdca26\"],[1.0,\"#f0f921\"]],\"type\":\"surface\"}],\"table\":[{\"cells\":{\"fill\":{\"color\":\"#EBF0F8\"},\"line\":{\"color\":\"white\"}},\"header\":{\"fill\":{\"color\":\"#C8D4E3\"},\"line\":{\"color\":\"white\"}},\"type\":\"table\"}]},\"layout\":{\"annotationdefaults\":{\"arrowcolor\":\"#2a3f5f\",\"arrowhead\":0,\"arrowwidth\":1},\"autotypenumbers\":\"strict\",\"coloraxis\":{\"colorbar\":{\"outlinewidth\":0,\"ticks\":\"\"}},\"colorscale\":{\"diverging\":[[0,\"#8e0152\"],[0.1,\"#c51b7d\"],[0.2,\"#de77ae\"],[0.3,\"#f1b6da\"],[0.4,\"#fde0ef\"],[0.5,\"#f7f7f7\"],[0.6,\"#e6f5d0\"],[0.7,\"#b8e186\"],[0.8,\"#7fbc41\"],[0.9,\"#4d9221\"],[1,\"#276419\"]],\"sequential\":[[0.0,\"#0d0887\"],[0.1111111111111111,\"#46039f\"],[0.2222222222222222,\"#7201a8\"],[0.3333333333333333,\"#9c179e\"],[0.4444444444444444,\"#bd3786\"],[0.5555555555555556,\"#d8576b\"],[0.6666666666666666,\"#ed7953\"],[0.7777777777777778,\"#fb9f3a\"],[0.8888888888888888,\"#fdca26\"],[1.0,\"#f0f921\"]],\"sequentialminus\":[[0.0,\"#0d0887\"],[0.1111111111111111,\"#46039f\"],[0.2222222222222222,\"#7201a8\"],[0.3333333333333333,\"#9c179e\"],[0.4444444444444444,\"#bd3786\"],[0.5555555555555556,\"#d8576b\"],[0.6666666666666666,\"#ed7953\"],[0.7777777777777778,\"#fb9f3a\"],[0.8888888888888888,\"#fdca26\"],[1.0,\"#f0f921\"]]},\"colorway\":[\"#636efa\",\"#EF553B\",\"#00cc96\",\"#ab63fa\",\"#FFA15A\",\"#19d3f3\",\"#FF6692\",\"#B6E880\",\"#FF97FF\",\"#FECB52\"],\"font\":{\"color\":\"#2a3f5f\"},\"geo\":{\"bgcolor\":\"white\",\"lakecolor\":\"white\",\"landcolor\":\"white\",\"showlakes\":true,\"showland\":true,\"subunitcolor\":\"#C8D4E3\"},\"hoverlabel\":{\"align\":\"left\"},\"hovermode\":\"closest\",\"mapbox\":{\"style\":\"light\"},\"paper_bgcolor\":\"white\",\"plot_bgcolor\":\"white\",\"polar\":{\"angularaxis\":{\"gridcolor\":\"#EBF0F8\",\"linecolor\":\"#EBF0F8\",\"ticks\":\"\"},\"bgcolor\":\"white\",\"radialaxis\":{\"gridcolor\":\"#EBF0F8\",\"linecolor\":\"#EBF0F8\",\"ticks\":\"\"}},\"scene\":{\"xaxis\":{\"backgroundcolor\":\"white\",\"gridcolor\":\"#DFE8F3\",\"gridwidth\":2,\"linecolor\":\"#EBF0F8\",\"showbackground\":true,\"ticks\":\"\",\"zerolinecolor\":\"#EBF0F8\"},\"yaxis\":{\"backgroundcolor\":\"white\",\"gridcolor\":\"#DFE8F3\",\"gridwidth\":2,\"linecolor\":\"#EBF0F8\",\"showbackground\":true,\"ticks\":\"\",\"zerolinecolor\":\"#EBF0F8\"},\"zaxis\":{\"backgroundcolor\":\"white\",\"gridcolor\":\"#DFE8F3\",\"gridwidth\":2,\"linecolor\":\"#EBF0F8\",\"showbackground\":true,\"ticks\":\"\",\"zerolinecolor\":\"#EBF0F8\"}},\"shapedefaults\":{\"line\":{\"color\":\"#2a3f5f\"}},\"ternary\":{\"aaxis\":{\"gridcolor\":\"#DFE8F3\",\"linecolor\":\"#A2B1C6\",\"ticks\":\"\"},\"baxis\":{\"gridcolor\":\"#DFE8F3\",\"linecolor\":\"#A2B1C6\",\"ticks\":\"\"},\"bgcolor\":\"white\",\"caxis\":{\"gridcolor\":\"#DFE8F3\",\"linecolor\":\"#A2B1C6\",\"ticks\":\"\"}},\"title\":{\"x\":0.05},\"xaxis\":{\"automargin\":true,\"gridcolor\":\"#EBF0F8\",\"linecolor\":\"#EBF0F8\",\"ticks\":\"\",\"title\":{\"standoff\":15},\"zerolinecolor\":\"#EBF0F8\",\"zerolinewidth\":2},\"yaxis\":{\"automargin\":true,\"gridcolor\":\"#EBF0F8\",\"linecolor\":\"#EBF0F8\",\"ticks\":\"\",\"title\":{\"standoff\":15},\"zerolinecolor\":\"#EBF0F8\",\"zerolinewidth\":2}}},\"xaxis\":{\"anchor\":\"y\",\"domain\":[0.0,1.0],\"title\":{}},\"yaxis\":{\"anchor\":\"x\",\"domain\":[0.0,1.0],\"title\":{}},\"legend\":{\"title\":{\"text\":\"variable\"},\"tracegroupgap\":0},\"title\":{\"text\":\"EP-IPC-01 - \\u00cdndice\"},\"autosize\":false,\"width\":800,\"height\":500,\"showlegend\":false},                        {\"responsive\": true}                    ).then(function(){\n",
       "                            \n",
       "var gd = document.getElementById('f707a813-ece9-4098-bcd3-343db7c464a9');\n",
       "var x = new MutationObserver(function (mutations, observer) {{\n",
       "        var display = window.getComputedStyle(gd).display;\n",
       "        if (!display || display === 'none') {{\n",
       "            console.log([gd, 'removed!']);\n",
       "            Plotly.purge(gd);\n",
       "            observer.disconnect();\n",
       "        }}\n",
       "}});\n",
       "\n",
       "// Listen for the removal of the full notebook cells\n",
       "var notebookContainer = gd.closest('#notebook-container');\n",
       "if (notebookContainer) {{\n",
       "    x.observe(notebookContainer, {childList: true});\n",
       "}}\n",
       "\n",
       "// Listen for the clearing of the current output cell\n",
       "var outputEl = gd.closest('.output');\n",
       "if (outputEl) {{\n",
       "    x.observe(outputEl, {childList: true});\n",
       "}}\n",
       "\n",
       "                        })                };                });            </script>        </div>"
      ]
     },
     "metadata": {},
     "output_type": "display_data"
    },
    {
     "data": {
      "text/html": [
       "<div><style>\n",
       ".dataframe > thead > tr,\n",
       ".dataframe > tbody > tr {\n",
       "  text-align: right;\n",
       "  white-space: pre-wrap;\n",
       "}\n",
       "</style>\n",
       "<small>shape: (401, 2)</small><table border=\"1\" class=\"dataframe\"><thead><tr><th>Fecha</th><th>EP-IPC-01 - Índice</th></tr><tr><td>date</td><td>f64</td></tr></thead><tbody><tr><td>1991-01-01</td><td>24.09</td></tr><tr><td>1991-02-01</td><td>24.88</td></tr><tr><td>1991-03-01</td><td>25.21</td></tr><tr><td>1991-04-01</td><td>26.04</td></tr><tr><td>1991-05-01</td><td>26.34</td></tr><tr><td>&hellip;</td><td>&hellip;</td></tr><tr><td>2024-01-01</td><td>426.6</td></tr><tr><td>2024-02-01</td><td>429.5</td></tr><tr><td>2024-03-01</td><td>431.6</td></tr><tr><td>2024-04-01</td><td>432.8</td></tr><tr><td>2024-05-01</td><td>433.5</td></tr></tbody></table></div>"
      ],
      "text/plain": [
       "shape: (401, 2)\n",
       "┌────────────┬────────────────────┐\n",
       "│ Fecha      ┆ EP-IPC-01 - Índice │\n",
       "│ ---        ┆ ---                │\n",
       "│ date       ┆ f64                │\n",
       "╞════════════╪════════════════════╡\n",
       "│ 1991-01-01 ┆ 24.09              │\n",
       "│ 1991-02-01 ┆ 24.88              │\n",
       "│ 1991-03-01 ┆ 25.21              │\n",
       "│ 1991-04-01 ┆ 26.04              │\n",
       "│ 1991-05-01 ┆ 26.34              │\n",
       "│ …          ┆ …                  │\n",
       "│ 2024-01-01 ┆ 426.6              │\n",
       "│ 2024-02-01 ┆ 429.5              │\n",
       "│ 2024-03-01 ┆ 431.6              │\n",
       "│ 2024-04-01 ┆ 432.8              │\n",
       "│ 2024-05-01 ┆ 433.5              │\n",
       "└────────────┴────────────────────┘"
      ]
     },
     "execution_count": 219,
     "metadata": {},
     "output_type": "execute_result"
    }
   ],
   "source": [
    "Id = 608\n",
    "df = get_df(Id)\n",
    "get_plot(Id)\n",
    "df"
   ]
  },
  {
   "cell_type": "markdown",
   "id": "ef9c2f52",
   "metadata": {},
   "source": [
    "## Nombre\n",
    "\n",
    "El campo \"Nombre\" es un código que contiene hasta 8 niveles de agrupación (tomando en cuenta una separación por \"-\"), siendo los primeros 7 iguales a las definiciones del campo \"Grupo\".\n"
   ]
  },
  {
   "cell_type": "code",
   "execution_count": 220,
   "id": "1da095b7",
   "metadata": {},
   "outputs": [
    {
     "data": {
      "text/html": [
       "<div><style>\n",
       ".dataframe > thead > tr,\n",
       ".dataframe > tbody > tr {\n",
       "  text-align: right;\n",
       "  white-space: pre-wrap;\n",
       "}\n",
       "</style>\n",
       "<small>shape: (11_519, 11)</small><table border=\"1\" class=\"dataframe\"><thead><tr><th>Niv_Gr_1</th><th>Niv_Gr_2</th><th>Nombre</th><th>Niv_Descr_1</th><th>Niv_Descr_2</th><th>Niv_Descr_3</th><th>Niv_Descr_4</th><th>Niv_Descr_5</th><th>Niv_Descr_6</th><th>Niv_Descr_7</th><th>Niv_Descr_8</th></tr><tr><td>str</td><td>str</td><td>str</td><td>str</td><td>str</td><td>str</td><td>str</td><td>str</td><td>str</td><td>str</td><td>str</td></tr></thead><tbody><tr><td>&quot;EC&quot;</td><td>&quot;TCR&quot;</td><td>&quot;EC-TCR-01&quot;</td><td>&quot;Estadísticas C…</td><td>&quot; Tipo de Cambi…</td><td>null</td><td>null</td><td>null</td><td>null</td><td>null</td><td>null</td></tr><tr><td>&quot;EC&quot;</td><td>&quot;TCN&quot;</td><td>&quot;EC-TCN-01-1&quot;</td><td>&quot;Tipo de Cambio…</td><td>&quot; Compra&quot;</td><td>null</td><td>null</td><td>null</td><td>null</td><td>null</td><td>null</td></tr><tr><td>&quot;EC&quot;</td><td>&quot;TCN&quot;</td><td>&quot;EC-TCN-01-2&quot;</td><td>&quot;Tipo de Cambio…</td><td>&quot; Venta&quot;</td><td>null</td><td>null</td><td>null</td><td>null</td><td>null</td><td>null</td></tr><tr><td>&quot;EM&quot;</td><td>&quot;RIN&quot;</td><td>&quot;EM-RIN-01-1&quot;</td><td>&quot;EM&quot;</td><td>&quot;RIN&quot;</td><td>&quot;01 &quot;</td><td>&quot; Reservas Inte…</td><td>&quot; Saldo&quot;</td><td>null</td><td>null</td><td>null</td></tr><tr><td>&quot;EM&quot;</td><td>&quot;RIN&quot;</td><td>&quot;EM-RIN-01-3&quot;</td><td>&quot;EM&quot;</td><td>&quot;RIN&quot;</td><td>&quot;01 &quot;</td><td>&quot; Reservas Inte…</td><td>&quot; Variación Abs…</td><td>null</td><td>null</td><td>null</td></tr><tr><td>&hellip;</td><td>&hellip;</td><td>&hellip;</td><td>&hellip;</td><td>&hellip;</td><td>&hellip;</td><td>&hellip;</td><td>&hellip;</td><td>&hellip;</td><td>&hellip;</td><td>&hellip;</td></tr><tr><td>&quot;ESR&quot;</td><td>&quot;ODA&quot;</td><td>&quot;ESR-ODA-01-90&quot;</td><td>&quot;OFERTA GLOBAL&quot;</td><td>&quot;VALOR AGREGADO…</td><td>&quot;INDUSTRIA MANU…</td><td>&quot;VARIACIONES RE…</td><td>null</td><td>null</td><td>null</td><td>null</td></tr><tr><td>&quot;ESR&quot;</td><td>&quot;ODA&quot;</td><td>&quot;ESR-ODA-01-91&quot;</td><td>&quot;OFERTA GLOBAL&quot;</td><td>&quot;VALOR AGREGADO…</td><td>&quot;MENOS: SERVICI…</td><td>&quot;EN MILLONES DE…</td><td>null</td><td>null</td><td>null</td><td>null</td></tr><tr><td>&quot;ESR&quot;</td><td>&quot;ODA&quot;</td><td>&quot;ESR-ODA-01-92&quot;</td><td>&quot;OFERTA GLOBAL&quot;</td><td>&quot;VALOR AGREGADO…</td><td>&quot;MENOS: SERVICI…</td><td>&quot;EN MILLONES DE…</td><td>null</td><td>null</td><td>null</td><td>null</td></tr><tr><td>&quot;ESR&quot;</td><td>&quot;ODA&quot;</td><td>&quot;ESR-ODA-01-93&quot;</td><td>&quot;OFERTA GLOBAL&quot;</td><td>&quot;VALOR AGREGADO…</td><td>&quot;MENOS: SERVICI…</td><td>&quot;VARIACIONES RE…</td><td>null</td><td>null</td><td>null</td><td>null</td></tr><tr><td>&quot;ESR&quot;</td><td>&quot;ODA&quot;</td><td>&quot;ESR-ODA-01-94&quot;</td><td>&quot;OFERTA GLOBAL&quot;</td><td>&quot;VALOR AGREGADO…</td><td>&quot;MENOS: SERVICI…</td><td>&quot;VARIACIONES RE…</td><td>null</td><td>null</td><td>null</td><td>null</td></tr></tbody></table></div>"
      ],
      "text/plain": [
       "shape: (11_519, 11)\n",
       "┌──────────┬──────────┬────────────┬───────────┬───┬───────────┬───────────┬───────────┬───────────┐\n",
       "│ Niv_Gr_1 ┆ Niv_Gr_2 ┆ Nombre     ┆ Niv_Descr ┆ … ┆ Niv_Descr ┆ Niv_Descr ┆ Niv_Descr ┆ Niv_Descr │\n",
       "│ ---      ┆ ---      ┆ ---        ┆ _1        ┆   ┆ _5        ┆ _6        ┆ _7        ┆ _8        │\n",
       "│ str      ┆ str      ┆ str        ┆ ---       ┆   ┆ ---       ┆ ---       ┆ ---       ┆ ---       │\n",
       "│          ┆          ┆            ┆ str       ┆   ┆ str       ┆ str       ┆ str       ┆ str       │\n",
       "╞══════════╪══════════╪════════════╪═══════════╪═══╪═══════════╪═══════════╪═══════════╪═══════════╡\n",
       "│ EC       ┆ TCR      ┆ EC-TCR-01  ┆ Estadísti ┆ … ┆ null      ┆ null      ┆ null      ┆ null      │\n",
       "│          ┆          ┆            ┆ cas Cambi ┆   ┆           ┆           ┆           ┆           │\n",
       "│          ┆          ┆            ┆ arias     ┆   ┆           ┆           ┆           ┆           │\n",
       "│ EC       ┆ TCN      ┆ EC-TCN-01- ┆ Tipo de   ┆ … ┆ null      ┆ null      ┆ null      ┆ null      │\n",
       "│          ┆          ┆ 1          ┆ Cambio    ┆   ┆           ┆           ┆           ┆           │\n",
       "│          ┆          ┆            ┆ Nominal   ┆   ┆           ┆           ┆           ┆           │\n",
       "│ EC       ┆ TCN      ┆ EC-TCN-01- ┆ Tipo de   ┆ … ┆ null      ┆ null      ┆ null      ┆ null      │\n",
       "│          ┆          ┆ 2          ┆ Cambio    ┆   ┆           ┆           ┆           ┆           │\n",
       "│          ┆          ┆            ┆ Nominal   ┆   ┆           ┆           ┆           ┆           │\n",
       "│ EM       ┆ RIN      ┆ EM-RIN-01- ┆ EM        ┆ … ┆  Saldo    ┆ null      ┆ null      ┆ null      │\n",
       "│          ┆          ┆ 1          ┆           ┆   ┆           ┆           ┆           ┆           │\n",
       "│ EM       ┆ RIN      ┆ EM-RIN-01- ┆ EM        ┆ … ┆ Variación ┆ null      ┆ null      ┆ null      │\n",
       "│          ┆          ┆ 3          ┆           ┆   ┆ Absoluta  ┆           ┆           ┆           │\n",
       "│          ┆          ┆            ┆           ┆   ┆ Mensual   ┆           ┆           ┆           │\n",
       "│ …        ┆ …        ┆ …          ┆ …         ┆ … ┆ …         ┆ …         ┆ …         ┆ …         │\n",
       "│ ESR      ┆ ODA      ┆ ESR-ODA-01 ┆ OFERTA    ┆ … ┆ null      ┆ null      ┆ null      ┆ null      │\n",
       "│          ┆          ┆ -90        ┆ GLOBAL    ┆   ┆           ┆           ┆           ┆           │\n",
       "│ ESR      ┆ ODA      ┆ ESR-ODA-01 ┆ OFERTA    ┆ … ┆ null      ┆ null      ┆ null      ┆ null      │\n",
       "│          ┆          ┆ -91        ┆ GLOBAL    ┆   ┆           ┆           ┆           ┆           │\n",
       "│ ESR      ┆ ODA      ┆ ESR-ODA-01 ┆ OFERTA    ┆ … ┆ null      ┆ null      ┆ null      ┆ null      │\n",
       "│          ┆          ┆ -92        ┆ GLOBAL    ┆   ┆           ┆           ┆           ┆           │\n",
       "│ ESR      ┆ ODA      ┆ ESR-ODA-01 ┆ OFERTA    ┆ … ┆ null      ┆ null      ┆ null      ┆ null      │\n",
       "│          ┆          ┆ -93        ┆ GLOBAL    ┆   ┆           ┆           ┆           ┆           │\n",
       "│ ESR      ┆ ODA      ┆ ESR-ODA-01 ┆ OFERTA    ┆ … ┆ null      ┆ null      ┆ null      ┆ null      │\n",
       "│          ┆          ┆ -94        ┆ GLOBAL    ┆   ┆           ┆           ┆           ┆           │\n",
       "└──────────┴──────────┴────────────┴───────────┴───┴───────────┴───────────┴───────────┴───────────┘"
      ]
     },
     "execution_count": 220,
     "metadata": {},
     "output_type": "execute_result"
    }
   ],
   "source": [
    "df_all.select(\n",
    "    \"Niv_Gr_1\",\"Niv_Gr_2\",\"Nombre\",\n",
    "    \"Niv_Descr_1\",\"Niv_Descr_2\",\"Niv_Descr_3\",\"Niv_Descr_4\",\"Niv_Descr_5\",\"Niv_Descr_6\",\"Niv_Descr_7\",\"Niv_Descr_8\").sort(\"Niv_Gr_1\")"
   ]
  },
  {
   "cell_type": "markdown",
   "id": "52cf5b02",
   "metadata": {},
   "source": [
    "## Periodicidad\n"
   ]
  },
  {
   "cell_type": "code",
   "execution_count": 221,
   "id": "tbl-periodicidad",
   "metadata": {},
   "outputs": [
    {
     "name": "stdout",
     "output_type": "stream",
     "text": [
      "11519 variables\n"
     ]
    },
    {
     "data": {
      "text/html": [
       "<div><style>\n",
       ".dataframe > thead > tr,\n",
       ".dataframe > tbody > tr {\n",
       "  text-align: right;\n",
       "  white-space: pre-wrap;\n",
       "}\n",
       "</style>\n",
       "<small>shape: (4, 2)</small><table border=\"1\" class=\"dataframe\"><thead><tr><th>Periodicidad</th><th>N_Variables</th></tr><tr><td>str</td><td>u32</td></tr></thead><tbody><tr><td>&quot;Diario&quot;</td><td>5579</td></tr><tr><td>&quot;Anual&quot;</td><td>4435</td></tr><tr><td>&quot;Trimestral&quot;</td><td>1261</td></tr><tr><td>&quot;Mensual&quot;</td><td>244</td></tr></tbody></table></div>"
      ],
      "text/plain": [
       "shape: (4, 2)\n",
       "┌──────────────┬─────────────┐\n",
       "│ Periodicidad ┆ N_Variables │\n",
       "│ ---          ┆ ---         │\n",
       "│ str          ┆ u32         │\n",
       "╞══════════════╪═════════════╡\n",
       "│ Diario       ┆ 5579        │\n",
       "│ Anual        ┆ 4435        │\n",
       "│ Trimestral   ┆ 1261        │\n",
       "│ Mensual      ┆ 244         │\n",
       "└──────────────┴─────────────┘"
      ]
     },
     "execution_count": 221,
     "metadata": {},
     "output_type": "execute_result"
    }
   ],
   "source": [
    "#| label: tbl-periodicidad\n",
    "#| tbl-cap: Número de Variables por Periodicidad\n",
    "\n",
    "# dfmeta = pl.DataFrame(dfmeta)\n",
    "variable = \"Periodicidad\"\n",
    "res = df_all.group_by(variable\n",
    "    ).agg(\n",
    "    pl.col(\"Periodicidad\").len().alias(\"N_Variables\"),\n",
    "    # pl.col(\"Monto\").sum().alias(\"Millones_USD\")\n",
    "    ).sort(\"N_Variables\",descending=True)\n",
    "pd.DataFrame(res).to_csv(\n",
    "        \"api/periodicidad.csv\",\n",
    "        sep=\";\")\n",
    "print(str(res[\"N_Variables\"].sum()) + \" variables\")\n",
    "res"
   ]
  },
  {
   "cell_type": "markdown",
   "id": "c8f1af3b",
   "metadata": {},
   "source": [
    "# Obtener Variables por Id\n",
    "\n",
    "## Una sola variable\n"
   ]
  },
  {
   "cell_type": "code",
   "execution_count": 222,
   "id": "394f19c2",
   "metadata": {},
   "outputs": [
    {
     "name": "stderr",
     "output_type": "stream",
     "text": [
      "<string>:29: FutureWarning:\n",
      "\n",
      "Passing literal json to 'read_json' is deprecated and will be removed in a future version. To read from a literal string, wrap it in a 'StringIO' object.\n",
      "\n"
     ]
    },
    {
     "name": "stderr",
     "output_type": "stream",
     "text": [
      "<string>:29: FutureWarning:\n",
      "\n",
      "Passing literal json to 'read_json' is deprecated and will be removed in a future version. To read from a literal string, wrap it in a 'StringIO' object.\n",
      "\n"
     ]
    },
    {
     "name": "stderr",
     "output_type": "stream",
     "text": [
      "<string>:29: FutureWarning:\n",
      "\n",
      "Passing literal json to 'read_json' is deprecated and will be removed in a future version. To read from a literal string, wrap it in a 'StringIO' object.\n",
      "\n"
     ]
    },
    {
     "name": "stderr",
     "output_type": "stream",
     "text": [
      "<string>:29: FutureWarning:\n",
      "\n",
      "Passing literal json to 'read_json' is deprecated and will be removed in a future version. To read from a literal string, wrap it in a 'StringIO' object.\n",
      "\n"
     ]
    },
    {
     "name": "stderr",
     "output_type": "stream",
     "text": [
      "<string>:29: FutureWarning:\n",
      "\n",
      "Passing literal json to 'read_json' is deprecated and will be removed in a future version. To read from a literal string, wrap it in a 'StringIO' object.\n",
      "\n"
     ]
    },
    {
     "data": {
      "text/html": [
       "<div>                            <div id=\"c4bdd612-601c-407f-b438-d3e95426eb7a\" class=\"plotly-graph-div\" style=\"height:500px; width:800px;\"></div>            <script type=\"text/javascript\">                require([\"plotly\"], function(Plotly) {                    window.PLOTLYENV=window.PLOTLYENV || {};                                    if (document.getElementById(\"c4bdd612-601c-407f-b438-d3e95426eb7a\")) {                    Plotly.newPlot(                        \"c4bdd612-601c-407f-b438-d3e95426eb7a\",                        [{\"hovertemplate\":\"variable=0\\u003cbr\\u003eFecha=%{x}\\u003cbr\\u003evalue=%{y}\\u003cextra\\u003e\\u003c\\u002fextra\\u003e\",\"legendgroup\":\"0\",\"line\":{\"color\":\"#636efa\",\"dash\":\"solid\"},\"marker\":{\"symbol\":\"circle\"},\"mode\":\"lines\",\"name\":\"0\",\"orientation\":\"v\",\"showlegend\":true,\"x\":[\"2023-01-01T00:00:00\",\"2023-01-01T00:00:00\",\"2022-01-01T00:00:00\",\"2022-01-01T00:00:00\",\"2021-01-01T00:00:00\",\"2021-01-01T00:00:00\",\"2020-01-01T00:00:00\",\"2020-01-01T00:00:00\",\"2019-01-01T00:00:00\",\"2019-01-01T00:00:00\",\"2018-01-01T00:00:00\",\"2018-01-01T00:00:00\",\"2017-01-01T00:00:00\",\"2017-01-01T00:00:00\",\"2016-01-01T00:00:00\",\"2016-01-01T00:00:00\",\"2015-01-01T00:00:00\",\"2015-01-01T00:00:00\",\"2014-01-01T00:00:00\",\"2014-01-01T00:00:00\",\"2013-01-01T00:00:00\",\"2013-01-01T00:00:00\",\"2012-01-01T00:00:00\",\"2012-01-01T00:00:00\",\"2011-01-01T00:00:00\",\"2011-01-01T00:00:00\",\"2010-01-01T00:00:00\",\"2010-01-01T00:00:00\",\"2009-01-01T00:00:00\",\"2009-01-01T00:00:00\",\"2008-01-01T00:00:00\",\"2008-01-01T00:00:00\",\"2007-01-01T00:00:00\",\"2007-01-01T00:00:00\",\"2006-01-01T00:00:00\",\"2006-01-01T00:00:00\",\"2005-01-01T00:00:00\",\"2005-01-01T00:00:00\",\"2004-01-01T00:00:00\",\"2004-01-01T00:00:00\",\"2003-01-01T00:00:00\",\"2003-01-01T00:00:00\",\"2002-01-01T00:00:00\",\"2002-01-01T00:00:00\",\"2001-01-01T00:00:00\",\"2001-01-01T00:00:00\",\"2000-01-01T00:00:00\",\"2000-01-01T00:00:00\"],\"xaxis\":\"x\",\"y\":[855131.7,855131.7,776635.6,776635.6,684203.8,684203.8,585733.6,585733.6,614917.7,614917.7,575284.9,575284.9,543403.0,543403.0,495921.9,495921.9,460405.2,460405.2,414633.5,414633.5,376539.4,376539.4,361348.5,361348.5,335027.8,335027.8,299286.0,299286.0,275632.2,275632.2,262416.9,262416.9,233567.2,233567.2,206288.0,206288.0,183747.4,183747.4,161507.5,161507.5,142817.8,142817.8,129166.6,129166.6,118415.7,118415.7,106654.2,106654.2],\"yaxis\":\"y\",\"type\":\"scatter\"}],                        {\"template\":{\"data\":{\"barpolar\":[{\"marker\":{\"line\":{\"color\":\"white\",\"width\":0.5},\"pattern\":{\"fillmode\":\"overlay\",\"size\":10,\"solidity\":0.2}},\"type\":\"barpolar\"}],\"bar\":[{\"error_x\":{\"color\":\"#2a3f5f\"},\"error_y\":{\"color\":\"#2a3f5f\"},\"marker\":{\"line\":{\"color\":\"white\",\"width\":0.5},\"pattern\":{\"fillmode\":\"overlay\",\"size\":10,\"solidity\":0.2}},\"type\":\"bar\"}],\"carpet\":[{\"aaxis\":{\"endlinecolor\":\"#2a3f5f\",\"gridcolor\":\"#C8D4E3\",\"linecolor\":\"#C8D4E3\",\"minorgridcolor\":\"#C8D4E3\",\"startlinecolor\":\"#2a3f5f\"},\"baxis\":{\"endlinecolor\":\"#2a3f5f\",\"gridcolor\":\"#C8D4E3\",\"linecolor\":\"#C8D4E3\",\"minorgridcolor\":\"#C8D4E3\",\"startlinecolor\":\"#2a3f5f\"},\"type\":\"carpet\"}],\"choropleth\":[{\"colorbar\":{\"outlinewidth\":0,\"ticks\":\"\"},\"type\":\"choropleth\"}],\"contourcarpet\":[{\"colorbar\":{\"outlinewidth\":0,\"ticks\":\"\"},\"type\":\"contourcarpet\"}],\"contour\":[{\"colorbar\":{\"outlinewidth\":0,\"ticks\":\"\"},\"colorscale\":[[0.0,\"#0d0887\"],[0.1111111111111111,\"#46039f\"],[0.2222222222222222,\"#7201a8\"],[0.3333333333333333,\"#9c179e\"],[0.4444444444444444,\"#bd3786\"],[0.5555555555555556,\"#d8576b\"],[0.6666666666666666,\"#ed7953\"],[0.7777777777777778,\"#fb9f3a\"],[0.8888888888888888,\"#fdca26\"],[1.0,\"#f0f921\"]],\"type\":\"contour\"}],\"heatmapgl\":[{\"colorbar\":{\"outlinewidth\":0,\"ticks\":\"\"},\"colorscale\":[[0.0,\"#0d0887\"],[0.1111111111111111,\"#46039f\"],[0.2222222222222222,\"#7201a8\"],[0.3333333333333333,\"#9c179e\"],[0.4444444444444444,\"#bd3786\"],[0.5555555555555556,\"#d8576b\"],[0.6666666666666666,\"#ed7953\"],[0.7777777777777778,\"#fb9f3a\"],[0.8888888888888888,\"#fdca26\"],[1.0,\"#f0f921\"]],\"type\":\"heatmapgl\"}],\"heatmap\":[{\"colorbar\":{\"outlinewidth\":0,\"ticks\":\"\"},\"colorscale\":[[0.0,\"#0d0887\"],[0.1111111111111111,\"#46039f\"],[0.2222222222222222,\"#7201a8\"],[0.3333333333333333,\"#9c179e\"],[0.4444444444444444,\"#bd3786\"],[0.5555555555555556,\"#d8576b\"],[0.6666666666666666,\"#ed7953\"],[0.7777777777777778,\"#fb9f3a\"],[0.8888888888888888,\"#fdca26\"],[1.0,\"#f0f921\"]],\"type\":\"heatmap\"}],\"histogram2dcontour\":[{\"colorbar\":{\"outlinewidth\":0,\"ticks\":\"\"},\"colorscale\":[[0.0,\"#0d0887\"],[0.1111111111111111,\"#46039f\"],[0.2222222222222222,\"#7201a8\"],[0.3333333333333333,\"#9c179e\"],[0.4444444444444444,\"#bd3786\"],[0.5555555555555556,\"#d8576b\"],[0.6666666666666666,\"#ed7953\"],[0.7777777777777778,\"#fb9f3a\"],[0.8888888888888888,\"#fdca26\"],[1.0,\"#f0f921\"]],\"type\":\"histogram2dcontour\"}],\"histogram2d\":[{\"colorbar\":{\"outlinewidth\":0,\"ticks\":\"\"},\"colorscale\":[[0.0,\"#0d0887\"],[0.1111111111111111,\"#46039f\"],[0.2222222222222222,\"#7201a8\"],[0.3333333333333333,\"#9c179e\"],[0.4444444444444444,\"#bd3786\"],[0.5555555555555556,\"#d8576b\"],[0.6666666666666666,\"#ed7953\"],[0.7777777777777778,\"#fb9f3a\"],[0.8888888888888888,\"#fdca26\"],[1.0,\"#f0f921\"]],\"type\":\"histogram2d\"}],\"histogram\":[{\"marker\":{\"pattern\":{\"fillmode\":\"overlay\",\"size\":10,\"solidity\":0.2}},\"type\":\"histogram\"}],\"mesh3d\":[{\"colorbar\":{\"outlinewidth\":0,\"ticks\":\"\"},\"type\":\"mesh3d\"}],\"parcoords\":[{\"line\":{\"colorbar\":{\"outlinewidth\":0,\"ticks\":\"\"}},\"type\":\"parcoords\"}],\"pie\":[{\"automargin\":true,\"type\":\"pie\"}],\"scatter3d\":[{\"line\":{\"colorbar\":{\"outlinewidth\":0,\"ticks\":\"\"}},\"marker\":{\"colorbar\":{\"outlinewidth\":0,\"ticks\":\"\"}},\"type\":\"scatter3d\"}],\"scattercarpet\":[{\"marker\":{\"colorbar\":{\"outlinewidth\":0,\"ticks\":\"\"}},\"type\":\"scattercarpet\"}],\"scattergeo\":[{\"marker\":{\"colorbar\":{\"outlinewidth\":0,\"ticks\":\"\"}},\"type\":\"scattergeo\"}],\"scattergl\":[{\"marker\":{\"colorbar\":{\"outlinewidth\":0,\"ticks\":\"\"}},\"type\":\"scattergl\"}],\"scattermapbox\":[{\"marker\":{\"colorbar\":{\"outlinewidth\":0,\"ticks\":\"\"}},\"type\":\"scattermapbox\"}],\"scatterpolargl\":[{\"marker\":{\"colorbar\":{\"outlinewidth\":0,\"ticks\":\"\"}},\"type\":\"scatterpolargl\"}],\"scatterpolar\":[{\"marker\":{\"colorbar\":{\"outlinewidth\":0,\"ticks\":\"\"}},\"type\":\"scatterpolar\"}],\"scatter\":[{\"fillpattern\":{\"fillmode\":\"overlay\",\"size\":10,\"solidity\":0.2},\"type\":\"scatter\"}],\"scatterternary\":[{\"marker\":{\"colorbar\":{\"outlinewidth\":0,\"ticks\":\"\"}},\"type\":\"scatterternary\"}],\"surface\":[{\"colorbar\":{\"outlinewidth\":0,\"ticks\":\"\"},\"colorscale\":[[0.0,\"#0d0887\"],[0.1111111111111111,\"#46039f\"],[0.2222222222222222,\"#7201a8\"],[0.3333333333333333,\"#9c179e\"],[0.4444444444444444,\"#bd3786\"],[0.5555555555555556,\"#d8576b\"],[0.6666666666666666,\"#ed7953\"],[0.7777777777777778,\"#fb9f3a\"],[0.8888888888888888,\"#fdca26\"],[1.0,\"#f0f921\"]],\"type\":\"surface\"}],\"table\":[{\"cells\":{\"fill\":{\"color\":\"#EBF0F8\"},\"line\":{\"color\":\"white\"}},\"header\":{\"fill\":{\"color\":\"#C8D4E3\"},\"line\":{\"color\":\"white\"}},\"type\":\"table\"}]},\"layout\":{\"annotationdefaults\":{\"arrowcolor\":\"#2a3f5f\",\"arrowhead\":0,\"arrowwidth\":1},\"autotypenumbers\":\"strict\",\"coloraxis\":{\"colorbar\":{\"outlinewidth\":0,\"ticks\":\"\"}},\"colorscale\":{\"diverging\":[[0,\"#8e0152\"],[0.1,\"#c51b7d\"],[0.2,\"#de77ae\"],[0.3,\"#f1b6da\"],[0.4,\"#fde0ef\"],[0.5,\"#f7f7f7\"],[0.6,\"#e6f5d0\"],[0.7,\"#b8e186\"],[0.8,\"#7fbc41\"],[0.9,\"#4d9221\"],[1,\"#276419\"]],\"sequential\":[[0.0,\"#0d0887\"],[0.1111111111111111,\"#46039f\"],[0.2222222222222222,\"#7201a8\"],[0.3333333333333333,\"#9c179e\"],[0.4444444444444444,\"#bd3786\"],[0.5555555555555556,\"#d8576b\"],[0.6666666666666666,\"#ed7953\"],[0.7777777777777778,\"#fb9f3a\"],[0.8888888888888888,\"#fdca26\"],[1.0,\"#f0f921\"]],\"sequentialminus\":[[0.0,\"#0d0887\"],[0.1111111111111111,\"#46039f\"],[0.2222222222222222,\"#7201a8\"],[0.3333333333333333,\"#9c179e\"],[0.4444444444444444,\"#bd3786\"],[0.5555555555555556,\"#d8576b\"],[0.6666666666666666,\"#ed7953\"],[0.7777777777777778,\"#fb9f3a\"],[0.8888888888888888,\"#fdca26\"],[1.0,\"#f0f921\"]]},\"colorway\":[\"#636efa\",\"#EF553B\",\"#00cc96\",\"#ab63fa\",\"#FFA15A\",\"#19d3f3\",\"#FF6692\",\"#B6E880\",\"#FF97FF\",\"#FECB52\"],\"font\":{\"color\":\"#2a3f5f\"},\"geo\":{\"bgcolor\":\"white\",\"lakecolor\":\"white\",\"landcolor\":\"white\",\"showlakes\":true,\"showland\":true,\"subunitcolor\":\"#C8D4E3\"},\"hoverlabel\":{\"align\":\"left\"},\"hovermode\":\"closest\",\"mapbox\":{\"style\":\"light\"},\"paper_bgcolor\":\"white\",\"plot_bgcolor\":\"white\",\"polar\":{\"angularaxis\":{\"gridcolor\":\"#EBF0F8\",\"linecolor\":\"#EBF0F8\",\"ticks\":\"\"},\"bgcolor\":\"white\",\"radialaxis\":{\"gridcolor\":\"#EBF0F8\",\"linecolor\":\"#EBF0F8\",\"ticks\":\"\"}},\"scene\":{\"xaxis\":{\"backgroundcolor\":\"white\",\"gridcolor\":\"#DFE8F3\",\"gridwidth\":2,\"linecolor\":\"#EBF0F8\",\"showbackground\":true,\"ticks\":\"\",\"zerolinecolor\":\"#EBF0F8\"},\"yaxis\":{\"backgroundcolor\":\"white\",\"gridcolor\":\"#DFE8F3\",\"gridwidth\":2,\"linecolor\":\"#EBF0F8\",\"showbackground\":true,\"ticks\":\"\",\"zerolinecolor\":\"#EBF0F8\"},\"zaxis\":{\"backgroundcolor\":\"white\",\"gridcolor\":\"#DFE8F3\",\"gridwidth\":2,\"linecolor\":\"#EBF0F8\",\"showbackground\":true,\"ticks\":\"\",\"zerolinecolor\":\"#EBF0F8\"}},\"shapedefaults\":{\"line\":{\"color\":\"#2a3f5f\"}},\"ternary\":{\"aaxis\":{\"gridcolor\":\"#DFE8F3\",\"linecolor\":\"#A2B1C6\",\"ticks\":\"\"},\"baxis\":{\"gridcolor\":\"#DFE8F3\",\"linecolor\":\"#A2B1C6\",\"ticks\":\"\"},\"bgcolor\":\"white\",\"caxis\":{\"gridcolor\":\"#DFE8F3\",\"linecolor\":\"#A2B1C6\",\"ticks\":\"\"}},\"title\":{\"x\":0.05},\"xaxis\":{\"automargin\":true,\"gridcolor\":\"#EBF0F8\",\"linecolor\":\"#EBF0F8\",\"ticks\":\"\",\"title\":{\"standoff\":15},\"zerolinecolor\":\"#EBF0F8\",\"zerolinewidth\":2},\"yaxis\":{\"automargin\":true,\"gridcolor\":\"#EBF0F8\",\"linecolor\":\"#EBF0F8\",\"ticks\":\"\",\"title\":{\"standoff\":15},\"zerolinecolor\":\"#EBF0F8\",\"zerolinewidth\":2}}},\"xaxis\":{\"anchor\":\"y\",\"domain\":[0.0,1.0],\"title\":{}},\"yaxis\":{\"anchor\":\"x\",\"domain\":[0.0,1.0],\"title\":{}},\"legend\":{\"title\":{\"text\":\"variable\"},\"tracegroupgap\":0},\"title\":{\"text\":\"ESR-PIBA-03 - Precio - Producto Interno Bruto (pm)\"},\"autosize\":false,\"width\":800,\"height\":500,\"showlegend\":false},                        {\"responsive\": true}                    ).then(function(){\n",
       "                            \n",
       "var gd = document.getElementById('c4bdd612-601c-407f-b438-d3e95426eb7a');\n",
       "var x = new MutationObserver(function (mutations, observer) {{\n",
       "        var display = window.getComputedStyle(gd).display;\n",
       "        if (!display || display === 'none') {{\n",
       "            console.log([gd, 'removed!']);\n",
       "            Plotly.purge(gd);\n",
       "            observer.disconnect();\n",
       "        }}\n",
       "}});\n",
       "\n",
       "// Listen for the removal of the full notebook cells\n",
       "var notebookContainer = gd.closest('#notebook-container');\n",
       "if (notebookContainer) {{\n",
       "    x.observe(notebookContainer, {childList: true});\n",
       "}}\n",
       "\n",
       "// Listen for the clearing of the current output cell\n",
       "var outputEl = gd.closest('.output');\n",
       "if (outputEl) {{\n",
       "    x.observe(outputEl, {childList: true});\n",
       "}}\n",
       "\n",
       "                        })                };                });            </script>        </div>"
      ]
     },
     "metadata": {},
     "output_type": "display_data"
    },
    {
     "data": {
      "text/html": [
       "<div><style>\n",
       ".dataframe > thead > tr,\n",
       ".dataframe > tbody > tr {\n",
       "  text-align: right;\n",
       "  white-space: pre-wrap;\n",
       "}\n",
       "</style>\n",
       "<small>shape: (24, 2)</small><table border=\"1\" class=\"dataframe\"><thead><tr><th>Fecha</th><th>ESR-PIBA-03 - Precio - Producto Interno Bruto (pm)</th></tr><tr><td>date</td><td>f64</td></tr></thead><tbody><tr><td>2000-01-01</td><td>106654.2</td></tr><tr><td>2001-01-01</td><td>118415.7</td></tr><tr><td>2002-01-01</td><td>129166.6</td></tr><tr><td>2003-01-01</td><td>142817.8</td></tr><tr><td>2004-01-01</td><td>161507.5</td></tr><tr><td>&hellip;</td><td>&hellip;</td></tr><tr><td>2019-01-01</td><td>614917.7</td></tr><tr><td>2020-01-01</td><td>585733.6</td></tr><tr><td>2021-01-01</td><td>684203.8</td></tr><tr><td>2022-01-01</td><td>776635.6</td></tr><tr><td>2023-01-01</td><td>855131.7</td></tr></tbody></table></div>"
      ],
      "text/plain": [
       "shape: (24, 2)\n",
       "┌────────────┬───────────────────────────────────┐\n",
       "│ Fecha      ┆ ESR-PIBA-03 - Precio - Producto … │\n",
       "│ ---        ┆ ---                               │\n",
       "│ date       ┆ f64                               │\n",
       "╞════════════╪═══════════════════════════════════╡\n",
       "│ 2000-01-01 ┆ 106654.2                          │\n",
       "│ 2001-01-01 ┆ 118415.7                          │\n",
       "│ 2002-01-01 ┆ 129166.6                          │\n",
       "│ 2003-01-01 ┆ 142817.8                          │\n",
       "│ 2004-01-01 ┆ 161507.5                          │\n",
       "│ …          ┆ …                                 │\n",
       "│ 2019-01-01 ┆ 614917.7                          │\n",
       "│ 2020-01-01 ┆ 585733.6                          │\n",
       "│ 2021-01-01 ┆ 684203.8                          │\n",
       "│ 2022-01-01 ┆ 776635.6                          │\n",
       "│ 2023-01-01 ┆ 855131.7                          │\n",
       "└────────────┴───────────────────────────────────┘"
      ]
     },
     "execution_count": 222,
     "metadata": {},
     "output_type": "execute_result"
    }
   ],
   "source": [
    "# df_all = save_variables()\n",
    "df_all = save_variables_vscode()\n",
    "Id = 204\n",
    "df = get_df(Id)\n",
    "get_plot(Id)\n",
    "df.columns\n",
    "df.write_csv(\n",
    "    file_path + \"/api/data.csv\",\n",
    "    separator=\";\")\n",
    "df "
   ]
  },
  {
   "cell_type": "code",
   "execution_count": 223,
   "id": "84b90d80",
   "metadata": {},
   "outputs": [
    {
     "name": "stderr",
     "output_type": "stream",
     "text": [
      "<string>:29: FutureWarning:\n",
      "\n",
      "Passing literal json to 'read_json' is deprecated and will be removed in a future version. To read from a literal string, wrap it in a 'StringIO' object.\n",
      "\n"
     ]
    },
    {
     "name": "stderr",
     "output_type": "stream",
     "text": [
      "<string>:29: FutureWarning:\n",
      "\n",
      "Passing literal json to 'read_json' is deprecated and will be removed in a future version. To read from a literal string, wrap it in a 'StringIO' object.\n",
      "\n"
     ]
    },
    {
     "name": "stderr",
     "output_type": "stream",
     "text": [
      "<string>:29: FutureWarning:\n",
      "\n",
      "Passing literal json to 'read_json' is deprecated and will be removed in a future version. To read from a literal string, wrap it in a 'StringIO' object.\n",
      "\n"
     ]
    },
    {
     "name": "stderr",
     "output_type": "stream",
     "text": [
      "<string>:29: FutureWarning:\n",
      "\n",
      "Passing literal json to 'read_json' is deprecated and will be removed in a future version. To read from a literal string, wrap it in a 'StringIO' object.\n",
      "\n"
     ]
    },
    {
     "data": {
      "text/html": [
       "<div>                            <div id=\"f1515d08-6c74-46bb-adb8-c34109495ce8\" class=\"plotly-graph-div\" style=\"height:500px; width:800px;\"></div>            <script type=\"text/javascript\">                require([\"plotly\"], function(Plotly) {                    window.PLOTLYENV=window.PLOTLYENV || {};                                    if (document.getElementById(\"f1515d08-6c74-46bb-adb8-c34109495ce8\")) {                    Plotly.newPlot(                        \"f1515d08-6c74-46bb-adb8-c34109495ce8\",                        [{\"hovertemplate\":\"variable=0\\u003cbr\\u003eFecha=%{x}\\u003cbr\\u003evalue=%{y}\\u003cextra\\u003e\\u003c\\u002fextra\\u003e\",\"legendgroup\":\"0\",\"line\":{\"color\":\"#636efa\",\"dash\":\"solid\"},\"marker\":{\"symbol\":\"circle\"},\"mode\":\"lines\",\"name\":\"0\",\"orientation\":\"v\",\"showlegend\":true,\"x\":[\"2023-12-01T00:00:00\",\"2023-09-01T00:00:00\",\"2023-06-01T00:00:00\",\"2023-03-01T00:00:00\",\"2022-12-01T00:00:00\",\"2022-09-01T00:00:00\",\"2022-06-01T00:00:00\",\"2022-03-01T00:00:00\",\"2021-12-01T00:00:00\",\"2021-09-01T00:00:00\",\"2021-06-01T00:00:00\",\"2021-03-01T00:00:00\",\"2020-12-01T00:00:00\",\"2020-09-01T00:00:00\",\"2020-06-01T00:00:00\",\"2020-03-01T00:00:00\",\"2019-12-01T00:00:00\",\"2019-09-01T00:00:00\",\"2019-06-01T00:00:00\",\"2019-03-01T00:00:00\",\"2018-12-01T00:00:00\",\"2018-09-01T00:00:00\",\"2018-06-01T00:00:00\",\"2018-03-01T00:00:00\",\"2017-12-01T00:00:00\",\"2017-09-01T00:00:00\",\"2017-06-01T00:00:00\",\"2017-03-01T00:00:00\",\"2016-12-01T00:00:00\",\"2016-09-01T00:00:00\",\"2016-06-01T00:00:00\",\"2016-03-01T00:00:00\",\"2015-12-01T00:00:00\",\"2015-09-01T00:00:00\",\"2015-06-01T00:00:00\",\"2015-03-01T00:00:00\",\"2014-12-01T00:00:00\",\"2014-09-01T00:00:00\",\"2014-06-01T00:00:00\",\"2014-03-01T00:00:00\",\"2013-12-01T00:00:00\",\"2013-09-01T00:00:00\",\"2013-06-01T00:00:00\",\"2013-03-01T00:00:00\",\"2012-12-01T00:00:00\",\"2012-09-01T00:00:00\",\"2012-06-01T00:00:00\",\"2012-03-01T00:00:00\",\"2011-12-01T00:00:00\",\"2011-09-01T00:00:00\",\"2011-06-01T00:00:00\",\"2011-03-01T00:00:00\",\"2010-12-01T00:00:00\",\"2010-09-01T00:00:00\",\"2010-06-01T00:00:00\",\"2010-03-01T00:00:00\",\"2009-12-01T00:00:00\",\"2009-09-01T00:00:00\",\"2009-06-01T00:00:00\",\"2009-03-01T00:00:00\",\"2008-12-01T00:00:00\",\"2008-09-01T00:00:00\",\"2008-06-01T00:00:00\",\"2008-03-01T00:00:00\",\"2007-12-01T00:00:00\",\"2007-09-01T00:00:00\",\"2007-06-01T00:00:00\",\"2007-03-01T00:00:00\",\"2006-12-01T00:00:00\",\"2006-09-01T00:00:00\",\"2006-06-01T00:00:00\",\"2006-03-01T00:00:00\",\"2005-12-01T00:00:00\",\"2005-09-01T00:00:00\",\"2005-06-01T00:00:00\",\"2005-03-01T00:00:00\",\"2004-12-01T00:00:00\",\"2004-09-01T00:00:00\",\"2004-06-01T00:00:00\",\"2004-03-01T00:00:00\",\"2003-12-01T00:00:00\",\"2003-09-01T00:00:00\",\"2003-06-01T00:00:00\",\"2003-03-01T00:00:00\",\"2002-12-01T00:00:00\",\"2002-09-01T00:00:00\",\"2002-06-01T00:00:00\",\"2002-03-01T00:00:00\",\"2001-12-01T00:00:00\",\"2001-09-01T00:00:00\",\"2001-06-01T00:00:00\",\"2001-03-01T00:00:00\",\"2000-12-01T00:00:00\",\"2000-09-01T00:00:00\",\"2000-06-01T00:00:00\",\"2000-03-01T00:00:00\"],\"xaxis\":\"x\",\"y\":[219381.4,213129.5,209919.4,203879.0,201538.6,196549.1,188921.9,182490.1,179063.7,173854.3,165494.3,157525.5,151065.7,144805.0,127011.4,151161.0,155868.4,154234.9,150565.4,149158.3,147946.9,144337.8,143770.1,139230.1,138625.8,138182.3,134474.8,132120.2,130282.2,125256.7,121827.0,118556.1,118777.6,115404.3,113394.9,112828.4,108426.7,104424.2,102826.5,98956.1,95358.7,94628.3,94118.3,92434.2,90485.5,91352.0,90670.3,88840.8,87870.7,84518.5,82651.7,79987.0,79179.4,75332.5,73336.3,71437.8,69517.1,68561.2,68749.4,68804.5,68245.9,65018.7,66358.6,62793.6,61096.8,59033.0,57607.2,55830.2,54718.6,51526.7,50664.9,49377.9,47944.8,46227.2,44977.6,44597.8,42075.1,41050.0,40109.4,38272.9,37614.0,36258.9,35147.9,33797.1,33322.5,33275.7,31986.7,30581.7,30818.6,29764.7,29389.0,28443.4,27230.4,26849.0,26554.2,26020.6],\"yaxis\":\"y\",\"type\":\"scatter\"}],                        {\"template\":{\"data\":{\"barpolar\":[{\"marker\":{\"line\":{\"color\":\"white\",\"width\":0.5},\"pattern\":{\"fillmode\":\"overlay\",\"size\":10,\"solidity\":0.2}},\"type\":\"barpolar\"}],\"bar\":[{\"error_x\":{\"color\":\"#2a3f5f\"},\"error_y\":{\"color\":\"#2a3f5f\"},\"marker\":{\"line\":{\"color\":\"white\",\"width\":0.5},\"pattern\":{\"fillmode\":\"overlay\",\"size\":10,\"solidity\":0.2}},\"type\":\"bar\"}],\"carpet\":[{\"aaxis\":{\"endlinecolor\":\"#2a3f5f\",\"gridcolor\":\"#C8D4E3\",\"linecolor\":\"#C8D4E3\",\"minorgridcolor\":\"#C8D4E3\",\"startlinecolor\":\"#2a3f5f\"},\"baxis\":{\"endlinecolor\":\"#2a3f5f\",\"gridcolor\":\"#C8D4E3\",\"linecolor\":\"#C8D4E3\",\"minorgridcolor\":\"#C8D4E3\",\"startlinecolor\":\"#2a3f5f\"},\"type\":\"carpet\"}],\"choropleth\":[{\"colorbar\":{\"outlinewidth\":0,\"ticks\":\"\"},\"type\":\"choropleth\"}],\"contourcarpet\":[{\"colorbar\":{\"outlinewidth\":0,\"ticks\":\"\"},\"type\":\"contourcarpet\"}],\"contour\":[{\"colorbar\":{\"outlinewidth\":0,\"ticks\":\"\"},\"colorscale\":[[0.0,\"#0d0887\"],[0.1111111111111111,\"#46039f\"],[0.2222222222222222,\"#7201a8\"],[0.3333333333333333,\"#9c179e\"],[0.4444444444444444,\"#bd3786\"],[0.5555555555555556,\"#d8576b\"],[0.6666666666666666,\"#ed7953\"],[0.7777777777777778,\"#fb9f3a\"],[0.8888888888888888,\"#fdca26\"],[1.0,\"#f0f921\"]],\"type\":\"contour\"}],\"heatmapgl\":[{\"colorbar\":{\"outlinewidth\":0,\"ticks\":\"\"},\"colorscale\":[[0.0,\"#0d0887\"],[0.1111111111111111,\"#46039f\"],[0.2222222222222222,\"#7201a8\"],[0.3333333333333333,\"#9c179e\"],[0.4444444444444444,\"#bd3786\"],[0.5555555555555556,\"#d8576b\"],[0.6666666666666666,\"#ed7953\"],[0.7777777777777778,\"#fb9f3a\"],[0.8888888888888888,\"#fdca26\"],[1.0,\"#f0f921\"]],\"type\":\"heatmapgl\"}],\"heatmap\":[{\"colorbar\":{\"outlinewidth\":0,\"ticks\":\"\"},\"colorscale\":[[0.0,\"#0d0887\"],[0.1111111111111111,\"#46039f\"],[0.2222222222222222,\"#7201a8\"],[0.3333333333333333,\"#9c179e\"],[0.4444444444444444,\"#bd3786\"],[0.5555555555555556,\"#d8576b\"],[0.6666666666666666,\"#ed7953\"],[0.7777777777777778,\"#fb9f3a\"],[0.8888888888888888,\"#fdca26\"],[1.0,\"#f0f921\"]],\"type\":\"heatmap\"}],\"histogram2dcontour\":[{\"colorbar\":{\"outlinewidth\":0,\"ticks\":\"\"},\"colorscale\":[[0.0,\"#0d0887\"],[0.1111111111111111,\"#46039f\"],[0.2222222222222222,\"#7201a8\"],[0.3333333333333333,\"#9c179e\"],[0.4444444444444444,\"#bd3786\"],[0.5555555555555556,\"#d8576b\"],[0.6666666666666666,\"#ed7953\"],[0.7777777777777778,\"#fb9f3a\"],[0.8888888888888888,\"#fdca26\"],[1.0,\"#f0f921\"]],\"type\":\"histogram2dcontour\"}],\"histogram2d\":[{\"colorbar\":{\"outlinewidth\":0,\"ticks\":\"\"},\"colorscale\":[[0.0,\"#0d0887\"],[0.1111111111111111,\"#46039f\"],[0.2222222222222222,\"#7201a8\"],[0.3333333333333333,\"#9c179e\"],[0.4444444444444444,\"#bd3786\"],[0.5555555555555556,\"#d8576b\"],[0.6666666666666666,\"#ed7953\"],[0.7777777777777778,\"#fb9f3a\"],[0.8888888888888888,\"#fdca26\"],[1.0,\"#f0f921\"]],\"type\":\"histogram2d\"}],\"histogram\":[{\"marker\":{\"pattern\":{\"fillmode\":\"overlay\",\"size\":10,\"solidity\":0.2}},\"type\":\"histogram\"}],\"mesh3d\":[{\"colorbar\":{\"outlinewidth\":0,\"ticks\":\"\"},\"type\":\"mesh3d\"}],\"parcoords\":[{\"line\":{\"colorbar\":{\"outlinewidth\":0,\"ticks\":\"\"}},\"type\":\"parcoords\"}],\"pie\":[{\"automargin\":true,\"type\":\"pie\"}],\"scatter3d\":[{\"line\":{\"colorbar\":{\"outlinewidth\":0,\"ticks\":\"\"}},\"marker\":{\"colorbar\":{\"outlinewidth\":0,\"ticks\":\"\"}},\"type\":\"scatter3d\"}],\"scattercarpet\":[{\"marker\":{\"colorbar\":{\"outlinewidth\":0,\"ticks\":\"\"}},\"type\":\"scattercarpet\"}],\"scattergeo\":[{\"marker\":{\"colorbar\":{\"outlinewidth\":0,\"ticks\":\"\"}},\"type\":\"scattergeo\"}],\"scattergl\":[{\"marker\":{\"colorbar\":{\"outlinewidth\":0,\"ticks\":\"\"}},\"type\":\"scattergl\"}],\"scattermapbox\":[{\"marker\":{\"colorbar\":{\"outlinewidth\":0,\"ticks\":\"\"}},\"type\":\"scattermapbox\"}],\"scatterpolargl\":[{\"marker\":{\"colorbar\":{\"outlinewidth\":0,\"ticks\":\"\"}},\"type\":\"scatterpolargl\"}],\"scatterpolar\":[{\"marker\":{\"colorbar\":{\"outlinewidth\":0,\"ticks\":\"\"}},\"type\":\"scatterpolar\"}],\"scatter\":[{\"fillpattern\":{\"fillmode\":\"overlay\",\"size\":10,\"solidity\":0.2},\"type\":\"scatter\"}],\"scatterternary\":[{\"marker\":{\"colorbar\":{\"outlinewidth\":0,\"ticks\":\"\"}},\"type\":\"scatterternary\"}],\"surface\":[{\"colorbar\":{\"outlinewidth\":0,\"ticks\":\"\"},\"colorscale\":[[0.0,\"#0d0887\"],[0.1111111111111111,\"#46039f\"],[0.2222222222222222,\"#7201a8\"],[0.3333333333333333,\"#9c179e\"],[0.4444444444444444,\"#bd3786\"],[0.5555555555555556,\"#d8576b\"],[0.6666666666666666,\"#ed7953\"],[0.7777777777777778,\"#fb9f3a\"],[0.8888888888888888,\"#fdca26\"],[1.0,\"#f0f921\"]],\"type\":\"surface\"}],\"table\":[{\"cells\":{\"fill\":{\"color\":\"#EBF0F8\"},\"line\":{\"color\":\"white\"}},\"header\":{\"fill\":{\"color\":\"#C8D4E3\"},\"line\":{\"color\":\"white\"}},\"type\":\"table\"}]},\"layout\":{\"annotationdefaults\":{\"arrowcolor\":\"#2a3f5f\",\"arrowhead\":0,\"arrowwidth\":1},\"autotypenumbers\":\"strict\",\"coloraxis\":{\"colorbar\":{\"outlinewidth\":0,\"ticks\":\"\"}},\"colorscale\":{\"diverging\":[[0,\"#8e0152\"],[0.1,\"#c51b7d\"],[0.2,\"#de77ae\"],[0.3,\"#f1b6da\"],[0.4,\"#fde0ef\"],[0.5,\"#f7f7f7\"],[0.6,\"#e6f5d0\"],[0.7,\"#b8e186\"],[0.8,\"#7fbc41\"],[0.9,\"#4d9221\"],[1,\"#276419\"]],\"sequential\":[[0.0,\"#0d0887\"],[0.1111111111111111,\"#46039f\"],[0.2222222222222222,\"#7201a8\"],[0.3333333333333333,\"#9c179e\"],[0.4444444444444444,\"#bd3786\"],[0.5555555555555556,\"#d8576b\"],[0.6666666666666666,\"#ed7953\"],[0.7777777777777778,\"#fb9f3a\"],[0.8888888888888888,\"#fdca26\"],[1.0,\"#f0f921\"]],\"sequentialminus\":[[0.0,\"#0d0887\"],[0.1111111111111111,\"#46039f\"],[0.2222222222222222,\"#7201a8\"],[0.3333333333333333,\"#9c179e\"],[0.4444444444444444,\"#bd3786\"],[0.5555555555555556,\"#d8576b\"],[0.6666666666666666,\"#ed7953\"],[0.7777777777777778,\"#fb9f3a\"],[0.8888888888888888,\"#fdca26\"],[1.0,\"#f0f921\"]]},\"colorway\":[\"#636efa\",\"#EF553B\",\"#00cc96\",\"#ab63fa\",\"#FFA15A\",\"#19d3f3\",\"#FF6692\",\"#B6E880\",\"#FF97FF\",\"#FECB52\"],\"font\":{\"color\":\"#2a3f5f\"},\"geo\":{\"bgcolor\":\"white\",\"lakecolor\":\"white\",\"landcolor\":\"white\",\"showlakes\":true,\"showland\":true,\"subunitcolor\":\"#C8D4E3\"},\"hoverlabel\":{\"align\":\"left\"},\"hovermode\":\"closest\",\"mapbox\":{\"style\":\"light\"},\"paper_bgcolor\":\"white\",\"plot_bgcolor\":\"white\",\"polar\":{\"angularaxis\":{\"gridcolor\":\"#EBF0F8\",\"linecolor\":\"#EBF0F8\",\"ticks\":\"\"},\"bgcolor\":\"white\",\"radialaxis\":{\"gridcolor\":\"#EBF0F8\",\"linecolor\":\"#EBF0F8\",\"ticks\":\"\"}},\"scene\":{\"xaxis\":{\"backgroundcolor\":\"white\",\"gridcolor\":\"#DFE8F3\",\"gridwidth\":2,\"linecolor\":\"#EBF0F8\",\"showbackground\":true,\"ticks\":\"\",\"zerolinecolor\":\"#EBF0F8\"},\"yaxis\":{\"backgroundcolor\":\"white\",\"gridcolor\":\"#DFE8F3\",\"gridwidth\":2,\"linecolor\":\"#EBF0F8\",\"showbackground\":true,\"ticks\":\"\",\"zerolinecolor\":\"#EBF0F8\"},\"zaxis\":{\"backgroundcolor\":\"white\",\"gridcolor\":\"#DFE8F3\",\"gridwidth\":2,\"linecolor\":\"#EBF0F8\",\"showbackground\":true,\"ticks\":\"\",\"zerolinecolor\":\"#EBF0F8\"}},\"shapedefaults\":{\"line\":{\"color\":\"#2a3f5f\"}},\"ternary\":{\"aaxis\":{\"gridcolor\":\"#DFE8F3\",\"linecolor\":\"#A2B1C6\",\"ticks\":\"\"},\"baxis\":{\"gridcolor\":\"#DFE8F3\",\"linecolor\":\"#A2B1C6\",\"ticks\":\"\"},\"bgcolor\":\"white\",\"caxis\":{\"gridcolor\":\"#DFE8F3\",\"linecolor\":\"#A2B1C6\",\"ticks\":\"\"}},\"title\":{\"x\":0.05},\"xaxis\":{\"automargin\":true,\"gridcolor\":\"#EBF0F8\",\"linecolor\":\"#EBF0F8\",\"ticks\":\"\",\"title\":{\"standoff\":15},\"zerolinecolor\":\"#EBF0F8\",\"zerolinewidth\":2},\"yaxis\":{\"automargin\":true,\"gridcolor\":\"#EBF0F8\",\"linecolor\":\"#EBF0F8\",\"ticks\":\"\",\"title\":{\"standoff\":15},\"zerolinecolor\":\"#EBF0F8\",\"zerolinewidth\":2}}},\"xaxis\":{\"anchor\":\"y\",\"domain\":[0.0,1.0],\"title\":{}},\"yaxis\":{\"anchor\":\"x\",\"domain\":[0.0,1.0],\"title\":{}},\"legend\":{\"title\":{\"text\":\"variable\"},\"tracegroupgap\":0},\"title\":{\"text\":\"Serie Desestacionalizada-VALORES CORRIENTES-23-Producto Interno Bruto a precios de mercado\"},\"autosize\":false,\"width\":800,\"height\":500,\"showlegend\":false},                        {\"responsive\": true}                    ).then(function(){\n",
       "                            \n",
       "var gd = document.getElementById('f1515d08-6c74-46bb-adb8-c34109495ce8');\n",
       "var x = new MutationObserver(function (mutations, observer) {{\n",
       "        var display = window.getComputedStyle(gd).display;\n",
       "        if (!display || display === 'none') {{\n",
       "            console.log([gd, 'removed!']);\n",
       "            Plotly.purge(gd);\n",
       "            observer.disconnect();\n",
       "        }}\n",
       "}});\n",
       "\n",
       "// Listen for the removal of the full notebook cells\n",
       "var notebookContainer = gd.closest('#notebook-container');\n",
       "if (notebookContainer) {{\n",
       "    x.observe(notebookContainer, {childList: true});\n",
       "}}\n",
       "\n",
       "// Listen for the clearing of the current output cell\n",
       "var outputEl = gd.closest('.output');\n",
       "if (outputEl) {{\n",
       "    x.observe(outputEl, {childList: true});\n",
       "}}\n",
       "\n",
       "                        })                };                });            </script>        </div>"
      ]
     },
     "metadata": {},
     "output_type": "display_data"
    },
    {
     "data": {
      "text/html": [
       "<div><style>\n",
       ".dataframe > thead > tr,\n",
       ".dataframe > tbody > tr {\n",
       "  text-align: right;\n",
       "  white-space: pre-wrap;\n",
       "}\n",
       "</style>\n",
       "<small>shape: (96, 2)</small><table border=\"1\" class=\"dataframe\"><thead><tr><th>Fecha</th><th>Serie Desestacionalizada-VALORES CORRIENTES-23-Producto Interno Bruto a precios de mercado</th></tr><tr><td>date</td><td>f64</td></tr></thead><tbody><tr><td>2000-03-01</td><td>26020.6</td></tr><tr><td>2000-06-01</td><td>26554.2</td></tr><tr><td>2000-09-01</td><td>26849.0</td></tr><tr><td>2000-12-01</td><td>27230.4</td></tr><tr><td>2001-03-01</td><td>28443.4</td></tr><tr><td>&hellip;</td><td>&hellip;</td></tr><tr><td>2022-12-01</td><td>201538.6</td></tr><tr><td>2023-03-01</td><td>203879.0</td></tr><tr><td>2023-06-01</td><td>209919.4</td></tr><tr><td>2023-09-01</td><td>213129.5</td></tr><tr><td>2023-12-01</td><td>219381.4</td></tr></tbody></table></div>"
      ],
      "text/plain": [
       "shape: (96, 2)\n",
       "┌────────────┬───────────────────────────────────┐\n",
       "│ Fecha      ┆ Serie Desestacionalizada-VALORES… │\n",
       "│ ---        ┆ ---                               │\n",
       "│ date       ┆ f64                               │\n",
       "╞════════════╪═══════════════════════════════════╡\n",
       "│ 2000-03-01 ┆ 26020.6                           │\n",
       "│ 2000-06-01 ┆ 26554.2                           │\n",
       "│ 2000-09-01 ┆ 26849.0                           │\n",
       "│ 2000-12-01 ┆ 27230.4                           │\n",
       "│ 2001-03-01 ┆ 28443.4                           │\n",
       "│ …          ┆ …                                 │\n",
       "│ 2022-12-01 ┆ 201538.6                          │\n",
       "│ 2023-03-01 ┆ 203879.0                          │\n",
       "│ 2023-06-01 ┆ 209919.4                          │\n",
       "│ 2023-09-01 ┆ 213129.5                          │\n",
       "│ 2023-12-01 ┆ 219381.4                          │\n",
       "└────────────┴───────────────────────────────────┘"
      ]
     },
     "execution_count": 223,
     "metadata": {},
     "output_type": "execute_result"
    }
   ],
   "source": [
    "Id = 7\n",
    "df = get_df(Id)\n",
    "get_plot(Id)\n",
    "df.columns\n",
    "df.write_csv(\n",
    "    file_path + \"/api/data.csv\",\n",
    "    separator=\";\")\n",
    "df"
   ]
  },
  {
   "cell_type": "markdown",
   "id": "ec54d4e8",
   "metadata": {},
   "source": [
    "## Varias variables\n"
   ]
  },
  {
   "cell_type": "code",
   "execution_count": 224,
   "id": "8a2860d0",
   "metadata": {},
   "outputs": [
    {
     "name": "stderr",
     "output_type": "stream",
     "text": [
      "<string>:29: FutureWarning:\n",
      "\n",
      "Passing literal json to 'read_json' is deprecated and will be removed in a future version. To read from a literal string, wrap it in a 'StringIO' object.\n",
      "\n"
     ]
    },
    {
     "name": "stderr",
     "output_type": "stream",
     "text": [
      "<string>:29: FutureWarning:\n",
      "\n",
      "Passing literal json to 'read_json' is deprecated and will be removed in a future version. To read from a literal string, wrap it in a 'StringIO' object.\n",
      "\n"
     ]
    },
    {
     "name": "stderr",
     "output_type": "stream",
     "text": [
      "<string>:29: FutureWarning:\n",
      "\n",
      "Passing literal json to 'read_json' is deprecated and will be removed in a future version. To read from a literal string, wrap it in a 'StringIO' object.\n",
      "\n"
     ]
    },
    {
     "name": "stderr",
     "output_type": "stream",
     "text": [
      "<string>:29: FutureWarning:\n",
      "\n",
      "Passing literal json to 'read_json' is deprecated and will be removed in a future version. To read from a literal string, wrap it in a 'StringIO' object.\n",
      "\n"
     ]
    },
    {
     "name": "stderr",
     "output_type": "stream",
     "text": [
      "<string>:29: FutureWarning:\n",
      "\n",
      "Passing literal json to 'read_json' is deprecated and will be removed in a future version. To read from a literal string, wrap it in a 'StringIO' object.\n",
      "\n"
     ]
    },
    {
     "name": "stderr",
     "output_type": "stream",
     "text": [
      "<string>:29: FutureWarning:\n",
      "\n",
      "Passing literal json to 'read_json' is deprecated and will be removed in a future version. To read from a literal string, wrap it in a 'StringIO' object.\n",
      "\n"
     ]
    },
    {
     "data": {
      "text/html": [
       "<div><style>\n",
       ".dataframe > thead > tr,\n",
       ".dataframe > tbody > tr {\n",
       "  text-align: right;\n",
       "  white-space: pre-wrap;\n",
       "}\n",
       "</style>\n",
       "<small>shape: (401, 4)</small><table border=\"1\" class=\"dataframe\"><thead><tr><th>Fecha</th><th>EP-IPC-01 - Índice</th><th>EP-IPC-01 - Variación interanual</th><th>Serie Desestacionalizada-VALORES CONSTANTES-21-Valor Agregado Bruto a precios básicos</th></tr><tr><td>date</td><td>f64</td><td>f64</td><td>f64</td></tr></thead><tbody><tr><td>1991-01-01</td><td>24.09</td><td>null</td><td>null</td></tr><tr><td>1991-02-01</td><td>24.88</td><td>null</td><td>null</td></tr><tr><td>1991-03-01</td><td>25.21</td><td>null</td><td>null</td></tr><tr><td>1991-04-01</td><td>26.04</td><td>null</td><td>null</td></tr><tr><td>1991-05-01</td><td>26.34</td><td>null</td><td>null</td></tr><tr><td>&hellip;</td><td>&hellip;</td><td>&hellip;</td><td>&hellip;</td></tr><tr><td>2024-01-01</td><td>426.6</td><td>5.0</td><td>null</td></tr><tr><td>2024-02-01</td><td>429.5</td><td>4.5</td><td>null</td></tr><tr><td>2024-03-01</td><td>431.6</td><td>4.76</td><td>null</td></tr><tr><td>2024-04-01</td><td>432.8</td><td>4.84</td><td>null</td></tr><tr><td>2024-05-01</td><td>433.5</td><td>4.94</td><td>null</td></tr></tbody></table></div>"
      ],
      "text/plain": [
       "shape: (401, 4)\n",
       "┌────────────┬────────────────────┬───────────────────────┬───────────────────────────────────┐\n",
       "│ Fecha      ┆ EP-IPC-01 - Índice ┆ EP-IPC-01 - Variación ┆ Serie Desestacionalizada-VALORES… │\n",
       "│ ---        ┆ ---                ┆ interanual            ┆ ---                               │\n",
       "│ date       ┆ f64                ┆ ---                   ┆ f64                               │\n",
       "│            ┆                    ┆ f64                   ┆                                   │\n",
       "╞════════════╪════════════════════╪═══════════════════════╪═══════════════════════════════════╡\n",
       "│ 1991-01-01 ┆ 24.09              ┆ null                  ┆ null                              │\n",
       "│ 1991-02-01 ┆ 24.88              ┆ null                  ┆ null                              │\n",
       "│ 1991-03-01 ┆ 25.21              ┆ null                  ┆ null                              │\n",
       "│ 1991-04-01 ┆ 26.04              ┆ null                  ┆ null                              │\n",
       "│ 1991-05-01 ┆ 26.34              ┆ null                  ┆ null                              │\n",
       "│ …          ┆ …                  ┆ …                     ┆ …                                 │\n",
       "│ 2024-01-01 ┆ 426.6              ┆ 5.0                   ┆ null                              │\n",
       "│ 2024-02-01 ┆ 429.5              ┆ 4.5                   ┆ null                              │\n",
       "│ 2024-03-01 ┆ 431.6              ┆ 4.76                  ┆ null                              │\n",
       "│ 2024-04-01 ┆ 432.8              ┆ 4.84                  ┆ null                              │\n",
       "│ 2024-05-01 ┆ 433.5              ┆ 4.94                  ┆ null                              │\n",
       "└────────────┴────────────────────┴───────────────────────┴───────────────────────────────────┘"
      ]
     },
     "execution_count": 224,
     "metadata": {},
     "output_type": "execute_result"
    }
   ],
   "source": [
    "Id = [1,2,3]\n",
    "# Id = [6282,204,1]\n",
    "Id = [608,609,1]\n",
    "\n",
    "df = get_df(Id[0])\n",
    "for i in range(1,len(Id)):\n",
    "    df = df.join(\n",
    "        get_df(Id[i]), \n",
    "        left_on=['Fecha'], \n",
    "        right_on=['Fecha'], \n",
    "        how='left')\n",
    "df.write_csv(\n",
    "    file_path + \"/api/data.csv\",\n",
    "    separator=\";\")\n",
    "df    "
   ]
  }
 ],
 "metadata": {
  "kernelspec": {
   "display_name": "Python 3 (ipykernel)",
   "language": "python",
   "name": "python3"
  },
  "language_info": {
   "codemirror_mode": {
    "name": "ipython",
    "version": 3
   },
   "file_extension": ".py",
   "mimetype": "text/x-python",
   "name": "python",
   "nbconvert_exporter": "python",
   "pygments_lexer": "ipython3",
   "version": "3.12.2"
  }
 },
 "nbformat": 4,
 "nbformat_minor": 5
}
